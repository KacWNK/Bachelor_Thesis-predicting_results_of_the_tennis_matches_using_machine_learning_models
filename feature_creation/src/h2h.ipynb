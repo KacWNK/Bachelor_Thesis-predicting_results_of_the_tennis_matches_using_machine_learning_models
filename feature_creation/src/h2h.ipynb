{
 "cells": [
  {
   "cell_type": "code",
   "id": "initial_id",
   "metadata": {
    "collapsed": true,
    "ExecuteTime": {
     "end_time": "2024-12-18T13:47:28.632846Z",
     "start_time": "2024-12-18T13:47:28.345673Z"
    }
   },
   "source": "import pandas as pd",
   "outputs": [],
   "execution_count": 1
  },
  {
   "metadata": {
    "ExecuteTime": {
     "end_time": "2024-12-18T13:47:28.717777Z",
     "start_time": "2024-12-18T13:47:28.633843Z"
    }
   },
   "cell_type": "code",
   "source": [
    "matches = pd.read_csv(\"../../preprocessing/data/matches.csv\")\n",
    "matches = matches.sort_values(by='Date')"
   ],
   "id": "98d0ee9f6410bafe",
   "outputs": [],
   "execution_count": 2
  },
  {
   "metadata": {},
   "cell_type": "markdown",
   "source": "### Liczymy ile razy wygrał player1 z player2 i vice wersa",
   "id": "22aa731c43d405ba"
  },
  {
   "metadata": {
    "ExecuteTime": {
     "end_time": "2024-12-18T13:47:28.802479Z",
     "start_time": "2024-12-18T13:47:28.717777Z"
    }
   },
   "cell_type": "code",
   "source": [
    "from collections import defaultdict\n",
    "\n",
    "h2h = defaultdict(lambda: [0, 0])  # [Winner wins, Loser wins]\n",
    "winner_h2h_wins = []  \n",
    "loser_h2h_wins = [] \n",
    "\n",
    "for row in matches.itertuples(index=True, name=\"PandasRow\"):\n",
    "    winner, loser = row.winner_id, row.loser_id\n",
    "    player_1 = min(winner, loser)\n",
    "    player_2 = max(winner, loser)\n",
    "    key = f'{player_1}_{player_2}'  # Unique key for the player pair\n",
    "    \n",
    "    # Append current H2H wins before the match\n",
    "    winner_h2h_wins.append(h2h[key][0]) \n",
    "    loser_h2h_wins.append(h2h[key][1]) \n",
    "    \n",
    "    if winner == player_1:\n",
    "        h2h[key][0] += 1  # Player 1 wins\n",
    "    else:\n",
    "        h2h[key][1] += 1  # Player 2 wins\n",
    "\n",
    "matches['winner_h2h_wins'] = winner_h2h_wins\n",
    "matches['loser_h2h_wins'] = loser_h2h_wins"
   ],
   "id": "5bafa1ed1715b556",
   "outputs": [],
   "execution_count": 3
  },
  {
   "metadata": {
    "ExecuteTime": {
     "end_time": "2024-12-18T13:47:28.812865Z",
     "start_time": "2024-12-18T13:47:28.802479Z"
    }
   },
   "cell_type": "code",
   "source": "matches[['Date', 'tournament_name', 'winner_name', 'loser_name', 'winner_h2h_wins', 'loser_h2h_wins']]",
   "id": "cbd26fa6cef8c44d",
   "outputs": [
    {
     "data": {
      "text/plain": [
       "             Date         tournament_name           winner_name  \\\n",
       "11489  2017-12-31  Brisbane International   Alexandr Dolgopolov   \n",
       "11490  2017-12-31  Brisbane International        Alex De Minaur   \n",
       "11492  2018-01-01  Brisbane International         Matthew Ebden   \n",
       "11491  2018-01-01  Brisbane International         Ryan Harrison   \n",
       "11507  2018-01-01               Tata Open   Ramkumar Ramanathan   \n",
       "...           ...                     ...                   ...   \n",
       "2682   2023-11-10         Open de Moselle  Alexander Shevchenko   \n",
       "2683   2023-11-10         Open de Moselle           Ugo Humbert   \n",
       "2684   2023-11-10              Sofia Open           Jack Draper   \n",
       "2686   2023-11-11         Open de Moselle           Ugo Humbert   \n",
       "2687   2023-11-11              Sofia Open      Adrian Mannarino   \n",
       "\n",
       "                    loser_name  winner_h2h_wins  loser_h2h_wins  \n",
       "11489        Diego Schwartzman                0               0  \n",
       "11490            Steve Johnson                0               0  \n",
       "11492           Frances Tiafoe                0               0  \n",
       "11491           Leonardo Mayer                0               0  \n",
       "11507  Roberto Carballes Baena                0               0  \n",
       "...                        ...              ...             ...  \n",
       "2682     Pierre Hugues Herbert                0               0  \n",
       "2683             Fabio Fognini                0               1  \n",
       "2684        Jan Lennard Struff                0               0  \n",
       "2686      Alexander Shevchenko                0               0  \n",
       "2687               Jack Draper                0               0  \n",
       "\n",
       "[14111 rows x 6 columns]"
      ],
      "text/html": [
       "<div>\n",
       "<style scoped>\n",
       "    .dataframe tbody tr th:only-of-type {\n",
       "        vertical-align: middle;\n",
       "    }\n",
       "\n",
       "    .dataframe tbody tr th {\n",
       "        vertical-align: top;\n",
       "    }\n",
       "\n",
       "    .dataframe thead th {\n",
       "        text-align: right;\n",
       "    }\n",
       "</style>\n",
       "<table border=\"1\" class=\"dataframe\">\n",
       "  <thead>\n",
       "    <tr style=\"text-align: right;\">\n",
       "      <th></th>\n",
       "      <th>Date</th>\n",
       "      <th>tournament_name</th>\n",
       "      <th>winner_name</th>\n",
       "      <th>loser_name</th>\n",
       "      <th>winner_h2h_wins</th>\n",
       "      <th>loser_h2h_wins</th>\n",
       "    </tr>\n",
       "  </thead>\n",
       "  <tbody>\n",
       "    <tr>\n",
       "      <th>11489</th>\n",
       "      <td>2017-12-31</td>\n",
       "      <td>Brisbane International</td>\n",
       "      <td>Alexandr Dolgopolov</td>\n",
       "      <td>Diego Schwartzman</td>\n",
       "      <td>0</td>\n",
       "      <td>0</td>\n",
       "    </tr>\n",
       "    <tr>\n",
       "      <th>11490</th>\n",
       "      <td>2017-12-31</td>\n",
       "      <td>Brisbane International</td>\n",
       "      <td>Alex De Minaur</td>\n",
       "      <td>Steve Johnson</td>\n",
       "      <td>0</td>\n",
       "      <td>0</td>\n",
       "    </tr>\n",
       "    <tr>\n",
       "      <th>11492</th>\n",
       "      <td>2018-01-01</td>\n",
       "      <td>Brisbane International</td>\n",
       "      <td>Matthew Ebden</td>\n",
       "      <td>Frances Tiafoe</td>\n",
       "      <td>0</td>\n",
       "      <td>0</td>\n",
       "    </tr>\n",
       "    <tr>\n",
       "      <th>11491</th>\n",
       "      <td>2018-01-01</td>\n",
       "      <td>Brisbane International</td>\n",
       "      <td>Ryan Harrison</td>\n",
       "      <td>Leonardo Mayer</td>\n",
       "      <td>0</td>\n",
       "      <td>0</td>\n",
       "    </tr>\n",
       "    <tr>\n",
       "      <th>11507</th>\n",
       "      <td>2018-01-01</td>\n",
       "      <td>Tata Open</td>\n",
       "      <td>Ramkumar Ramanathan</td>\n",
       "      <td>Roberto Carballes Baena</td>\n",
       "      <td>0</td>\n",
       "      <td>0</td>\n",
       "    </tr>\n",
       "    <tr>\n",
       "      <th>...</th>\n",
       "      <td>...</td>\n",
       "      <td>...</td>\n",
       "      <td>...</td>\n",
       "      <td>...</td>\n",
       "      <td>...</td>\n",
       "      <td>...</td>\n",
       "    </tr>\n",
       "    <tr>\n",
       "      <th>2682</th>\n",
       "      <td>2023-11-10</td>\n",
       "      <td>Open de Moselle</td>\n",
       "      <td>Alexander Shevchenko</td>\n",
       "      <td>Pierre Hugues Herbert</td>\n",
       "      <td>0</td>\n",
       "      <td>0</td>\n",
       "    </tr>\n",
       "    <tr>\n",
       "      <th>2683</th>\n",
       "      <td>2023-11-10</td>\n",
       "      <td>Open de Moselle</td>\n",
       "      <td>Ugo Humbert</td>\n",
       "      <td>Fabio Fognini</td>\n",
       "      <td>0</td>\n",
       "      <td>1</td>\n",
       "    </tr>\n",
       "    <tr>\n",
       "      <th>2684</th>\n",
       "      <td>2023-11-10</td>\n",
       "      <td>Sofia Open</td>\n",
       "      <td>Jack Draper</td>\n",
       "      <td>Jan Lennard Struff</td>\n",
       "      <td>0</td>\n",
       "      <td>0</td>\n",
       "    </tr>\n",
       "    <tr>\n",
       "      <th>2686</th>\n",
       "      <td>2023-11-11</td>\n",
       "      <td>Open de Moselle</td>\n",
       "      <td>Ugo Humbert</td>\n",
       "      <td>Alexander Shevchenko</td>\n",
       "      <td>0</td>\n",
       "      <td>0</td>\n",
       "    </tr>\n",
       "    <tr>\n",
       "      <th>2687</th>\n",
       "      <td>2023-11-11</td>\n",
       "      <td>Sofia Open</td>\n",
       "      <td>Adrian Mannarino</td>\n",
       "      <td>Jack Draper</td>\n",
       "      <td>0</td>\n",
       "      <td>0</td>\n",
       "    </tr>\n",
       "  </tbody>\n",
       "</table>\n",
       "<p>14111 rows × 6 columns</p>\n",
       "</div>"
      ]
     },
     "execution_count": 4,
     "metadata": {},
     "output_type": "execute_result"
    }
   ],
   "execution_count": 4
  },
  {
   "metadata": {
    "ExecuteTime": {
     "end_time": "2024-12-18T13:47:28.855517Z",
     "start_time": "2024-12-18T13:47:28.813387Z"
    }
   },
   "cell_type": "code",
   "source": "matches[['match_id', 'winner_h2h_wins', 'loser_h2h_wins']].to_csv(\"../data/h2h.csv\", index=False)",
   "id": "b72090569053ad1a",
   "outputs": [],
   "execution_count": 5
  }
 ],
 "metadata": {
  "kernelspec": {
   "display_name": "Python 3",
   "language": "python",
   "name": "python3"
  },
  "language_info": {
   "codemirror_mode": {
    "name": "ipython",
    "version": 2
   },
   "file_extension": ".py",
   "mimetype": "text/x-python",
   "name": "python",
   "nbconvert_exporter": "python",
   "pygments_lexer": "ipython2",
   "version": "2.7.6"
  }
 },
 "nbformat": 4,
 "nbformat_minor": 5
}
