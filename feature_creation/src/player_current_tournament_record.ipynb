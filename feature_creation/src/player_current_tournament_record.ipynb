{
 "cells": [
  {
   "cell_type": "code",
   "metadata": {
    "ExecuteTime": {
     "end_time": "2024-12-19T18:57:13.492824Z",
     "start_time": "2024-12-19T18:57:13.490018Z"
    }
   },
   "source": [
    "import pandas as pd\n",
    "pd.set_option('future.no_silent_downcasting', True)"
   ],
   "outputs": [],
   "execution_count": 1
  },
  {
   "cell_type": "code",
   "metadata": {
    "ExecuteTime": {
     "end_time": "2024-12-19T18:57:13.571832Z",
     "start_time": "2024-12-19T18:57:13.493333Z"
    }
   },
   "source": "matches = pd.read_csv('../../preprocessing/data/matches.csv')",
   "outputs": [],
   "execution_count": 2
  },
  {
   "cell_type": "code",
   "metadata": {
    "ExecuteTime": {
     "end_time": "2024-12-19T18:57:13.579615Z",
     "start_time": "2024-12-19T18:57:13.573384Z"
    }
   },
   "source": [
    "def calculate_player_stats(matches_df: pd.DataFrame, round_order: dict[str, int]) -> pd.DataFrame:\n",
    "    matches_df['Round_Num'] = matches_df['Round'].map(round_order)\n",
    "    bets_sorted = matches_df.sort_values(by=['Date', 'Round_Num']).copy()\n",
    "    player_stats = {}\n",
    "\n",
    "    for index, row in bets_sorted.iterrows():\n",
    "        winner_id = row['winner_id']\n",
    "        loser_id = row['loser_id']\n",
    "        tournament_id = row['tournament_id']\n",
    "        \n",
    "        if tournament_id not in player_stats:\n",
    "            player_stats[tournament_id] = {}\n",
    "        \n",
    "        if winner_id not in player_stats[tournament_id]:\n",
    "            player_stats[tournament_id][winner_id] = {'sets': 0, 'gems': 0}\n",
    "        if loser_id not in player_stats[tournament_id]:\n",
    "            player_stats[tournament_id][loser_id] = {'sets': 0, 'gems': 0}\n",
    "        \n",
    "        bets_sorted.at[index, 'Winner_Set_Diff_Tournament'] = player_stats[tournament_id][winner_id]['sets']\n",
    "        bets_sorted.at[index, 'Winner_Game_Diff_Tournament'] = player_stats[tournament_id][winner_id]['gems']\n",
    "        bets_sorted.at[index, 'Loser_Set_Diff_Tournament'] = player_stats[tournament_id][loser_id]['sets']\n",
    "        bets_sorted.at[index, 'Loser_Game_Diff_Tournament'] = player_stats[tournament_id][loser_id]['gems']\n",
    "        \n",
    "        winner_sets = int(row['Wsets']) if pd.notna(row['Wsets']) else 0\n",
    "        loser_sets = int(row['Lsets']) if pd.notna(row['Lsets']) else 0\n",
    "        \n",
    "        winner_gems = sum(row[['W1', 'W2', 'W3', 'W4', 'W5']].fillna(0).values[:(winner_sets + loser_sets)])\n",
    "        loser_gems = sum(row[['L1', 'L2', 'L3', 'L4', 'L5']].fillna(0).values[:(winner_sets + loser_sets)])\n",
    "        \n",
    "        player_stats[tournament_id][winner_id]['sets'] += (winner_sets - loser_sets)\n",
    "        player_stats[tournament_id][winner_id]['gems'] += (winner_gems - loser_gems)\n",
    "        \n",
    "        player_stats[tournament_id][loser_id]['sets'] += (loser_sets - winner_sets)\n",
    "        player_stats[tournament_id][loser_id]['gems'] += (loser_gems - winner_gems)\n",
    "    \n",
    "    return bets_sorted\n",
    "\n",
    "\n",
    "round_order = {\n",
    "    '1st Round': 1,\n",
    "    '2nd Round': 2,\n",
    "    '3rd Round': 3,\n",
    "    '4th Round': 4,\n",
    "    'Quarterfinals': 5,\n",
    "    'Semifinals': 6,\n",
    "    'The Final': 7\n",
    "}\n"
   ],
   "outputs": [],
   "execution_count": 3
  },
  {
   "cell_type": "code",
   "metadata": {
    "ExecuteTime": {
     "end_time": "2024-12-19T18:57:20.877620Z",
     "start_time": "2024-12-19T18:57:13.580631Z"
    }
   },
   "source": "matches = calculate_player_stats(matches, round_order)",
   "outputs": [],
   "execution_count": 4
  },
  {
   "cell_type": "code",
   "metadata": {
    "ExecuteTime": {
     "end_time": "2024-12-19T18:57:20.908749Z",
     "start_time": "2024-12-19T18:57:20.878620Z"
    }
   },
   "source": "matches[[\"match_id\", \"Round_Num\", 'Winner_Set_Diff_Tournament', 'Winner_Game_Diff_Tournament', 'Loser_Set_Diff_Tournament', 'Loser_Game_Diff_Tournament']].to_csv(\"../data/player_current_tournament_record.csv\", index=False)",
   "outputs": [],
   "execution_count": 5
  }
 ],
 "metadata": {
  "kernelspec": {
   "display_name": "Python 3",
   "language": "python",
   "name": "python3"
  },
  "language_info": {
   "codemirror_mode": {
    "name": "ipython",
    "version": 3
   },
   "file_extension": ".py",
   "mimetype": "text/x-python",
   "name": "python",
   "nbconvert_exporter": "python",
   "pygments_lexer": "ipython3",
   "version": "3.12.7"
  }
 },
 "nbformat": 4,
 "nbformat_minor": 2
}
