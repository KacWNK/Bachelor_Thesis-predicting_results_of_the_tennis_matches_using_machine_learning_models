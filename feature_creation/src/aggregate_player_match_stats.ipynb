{
 "cells": [
  {
   "cell_type": "code",
   "id": "initial_id",
   "metadata": {
    "collapsed": true,
    "ExecuteTime": {
     "end_time": "2024-12-19T13:42:00.578179Z",
     "start_time": "2024-12-19T13:42:00.260166Z"
    }
   },
   "source": "import pandas as pd",
   "outputs": [],
   "execution_count": 1
  },
  {
   "metadata": {
    "ExecuteTime": {
     "end_time": "2024-12-19T13:42:00.678970Z",
     "start_time": "2024-12-19T13:42:00.579180Z"
    }
   },
   "cell_type": "code",
   "source": [
    "matches = pd.read_csv(\"../../data/Merged_year_data/matches_cleaned.csv\")\n",
    "matches = matches.sort_values(by='Date')"
   ],
   "id": "a39d038f2dc8d1fe",
   "outputs": [],
   "execution_count": 2
  },
  {
   "metadata": {},
   "cell_type": "markdown",
   "source": "### First we need to create necessary match statistics from present data",
   "id": "7bd4c8ef91318a05"
  },
  {
   "metadata": {
    "ExecuteTime": {
     "end_time": "2024-12-19T13:42:00.683530Z",
     "start_time": "2024-12-19T13:42:00.678970Z"
    }
   },
   "cell_type": "code",
   "source": [
    "matches['w_2ndIn'] = matches['w_svpt'] - matches['w_1stIn']-matches['w_df']\n",
    "matches['l_2ndIn'] = matches['l_svpt'] - matches['l_1stIn']-matches['l_df']"
   ],
   "id": "b2f8a9e5d3171367",
   "outputs": [],
   "execution_count": 3
  },
  {
   "metadata": {
    "ExecuteTime": {
     "end_time": "2024-12-19T13:42:00.690555Z",
     "start_time": "2024-12-19T13:42:00.684050Z"
    }
   },
   "cell_type": "code",
   "source": [
    "def calculate_1st_serve_in_percentage(row):\n",
    "    if pd.isna(row['w_svpt']) or pd.isna(row['w_1stIn']):\n",
    "        return None\n",
    "    if row['w_svpt'] > 0:\n",
    "        return row['w_1stIn'] / row['w_svpt']\n",
    "    return 0\n",
    "\n",
    "def calculate_1st_serve_win_percentage(row):\n",
    "    if pd.isna(row['w_1stIn']) or pd.isna(row['w_1stWon']):\n",
    "        return None\n",
    "    if row['w_1stIn'] > 0:\n",
    "        return row['w_1stWon'] / row['w_1stIn']\n",
    "    return 0\n",
    "\n",
    "def calculate_2nd_serve_in_percentage(row):\n",
    "    if pd.isna(row['w_svpt']) or pd.isna(row['w_2ndIn']):\n",
    "        return None\n",
    "    if row['w_svpt'] > 0:\n",
    "        return row['w_2ndIn'] / row['w_svpt']\n",
    "    return 0\n",
    "\n",
    "def calculate_2nd_serve_win_percentage(row):\n",
    "    if pd.isna(row['w_2ndIn']) or pd.isna(row['w_1stIn']) or pd.isna(row['w_2ndWon']):\n",
    "        return None\n",
    "    if row['w_2ndIn'] - row['w_1stIn'] > 0:\n",
    "        return row['w_2ndWon'] / (row['w_2ndIn'] - row['w_1stIn'])\n",
    "    return 0\n",
    "\n",
    "def calculate_service_games_won_percentage(row):\n",
    "    if pd.isna(row['w_SvGms']) or pd.isna(row['w_bpFaced']) or pd.isna(row['w_bpSaved']):\n",
    "        return None\n",
    "    if row['w_SvGms'] > 0:\n",
    "        return (row['w_SvGms'] - (row['w_bpFaced'] - row['w_bpSaved'])) / row['w_SvGms']\n",
    "    return 0\n",
    "    \n",
    "\n",
    "def calculate_1st_serve_in_percentage_loser(row):\n",
    "    if pd.isna(row['l_svpt']) or pd.isna(row['l_1stIn']):\n",
    "        return None\n",
    "    if row['l_svpt'] > 0:\n",
    "        return row['l_1stIn'] / row['l_svpt']\n",
    "    return 0\n",
    "\n",
    "def calculate_1st_serve_win_percentage_loser(row):\n",
    "    if pd.isna(row['l_1stIn']) or pd.isna(row['l_1stWon']):\n",
    "        return None\n",
    "    if row['l_1stIn'] > 0:\n",
    "        return row['l_1stWon'] / row['l_1stIn']\n",
    "    return 0\n",
    "\n",
    "def calculate_2nd_serve_in_percentage_loser(row):\n",
    "    if pd.isna(row['l_svpt']) or pd.isna(row['l_1stIn']) or pd.isna(row['l_2ndIn']):\n",
    "        return None\n",
    "    if row['l_svpt'] - row['l_1stIn'] > 0:\n",
    "        return row['l_2ndIn'] / (row['l_svpt'] - row['l_1stIn'])\n",
    "    return 0\n",
    "\n",
    "def calculate_2nd_serve_win_percentage_loser(row):\n",
    "    if pd.isna(row['l_2ndIn']) or pd.isna(row['l_2ndWon']):\n",
    "        return None\n",
    "    if row['l_2ndIn'] > 0:\n",
    "        return row['l_2ndWon'] / row['l_2ndIn']\n",
    "    return 0\n",
    "\n",
    "def calculate_service_games_won_percentage_loser(row):\n",
    "    if pd.isna(row['l_SvGms']) or pd.isna(row['l_bpFaced']) or pd.isna(row['l_bpSaved']):\n",
    "        return None\n",
    "    if row['l_SvGms'] > 0:\n",
    "        return (row['l_SvGms'] - (row['l_bpFaced'] - row['l_bpSaved'])) / row['l_SvGms']\n",
    "    return 0"
   ],
   "id": "29f84d1823ae6e4a",
   "outputs": [],
   "execution_count": 4
  },
  {
   "metadata": {
    "ExecuteTime": {
     "end_time": "2024-12-19T13:42:02.122158Z",
     "start_time": "2024-12-19T13:42:00.691076Z"
    }
   },
   "cell_type": "code",
   "source": [
    "matches['winner_1st_serve_in_pct'] = matches.apply(calculate_1st_serve_in_percentage, axis=1)\n",
    "matches['winner_1st_serve_win_pct'] = matches.apply(calculate_1st_serve_win_percentage, axis=1)\n",
    "matches['winner_2nd_serve_in_pct'] = matches.apply(calculate_2nd_serve_in_percentage, axis=1)\n",
    "matches['winner_2nd_serve_win_pct'] = matches.apply(calculate_2nd_serve_win_percentage, axis=1)\n",
    "matches['winner_service_games_won_pct'] = matches.apply(calculate_service_games_won_percentage, axis=1)\n",
    "matches['loser_1st_serve_in_pct'] = matches.apply(calculate_1st_serve_in_percentage_loser, axis=1)\n",
    "matches['loser_1st_serve_win_pct'] = matches.apply(calculate_1st_serve_win_percentage_loser, axis=1)\n",
    "matches['loser_2nd_serve_in_pct'] = matches.apply(calculate_2nd_serve_in_percentage_loser, axis=1)\n",
    "matches['loser_2nd_serve_win_pct'] = matches.apply(calculate_2nd_serve_win_percentage_loser, axis=1)\n",
    "matches['loser_service_games_won_pct'] = matches.apply(calculate_service_games_won_percentage_loser, axis=1)"
   ],
   "id": "72f340f4cb19a473",
   "outputs": [],
   "execution_count": 5
  },
  {
   "metadata": {
    "ExecuteTime": {
     "end_time": "2024-12-19T13:42:02.126695Z",
     "start_time": "2024-12-19T13:42:02.122680Z"
    }
   },
   "cell_type": "code",
   "source": [
    "def calculate_1st_serve_return_win_percentage(row):\n",
    "    if pd.isna(row['loser_1st_serve_win_pct']):\n",
    "        return None\n",
    "    return 1 - row['loser_1st_serve_win_pct']\n",
    "\n",
    "def calculate_2nd_serve_return_win_percentage(row):\n",
    "    if pd.isna(row['loser_2nd_serve_win_pct']):\n",
    "        return None\n",
    "    return 1 - row['loser_2nd_serve_win_pct']\n",
    "\n",
    "def calculate_return_games_win_percentage(row):\n",
    "    if pd.isna(row['loser_service_games_won_pct']):\n",
    "        return None\n",
    "    return 1 - row['loser_service_games_won_pct']\n",
    "\n",
    "def calculate_1st_serve_return_win_percentage_loser(row):\n",
    "    if pd.isna(row['winner_1st_serve_win_pct']):\n",
    "        return None\n",
    "    return 1 - row['winner_1st_serve_win_pct']\n",
    "\n",
    "def calculate_2nd_serve_return_win_percentage_loser(row):\n",
    "    if pd.isna(row['winner_2nd_serve_win_pct']):\n",
    "        return None\n",
    "    return 1 - row['winner_2nd_serve_win_pct']\n",
    "\n",
    "def calculate_return_games_win_percentage_loser(row):\n",
    "    if pd.isna(row['winner_service_games_won_pct']):\n",
    "        return None\n",
    "    return 1 - row['winner_service_games_won_pct']"
   ],
   "id": "79af71df20fd8bb",
   "outputs": [],
   "execution_count": 6
  },
  {
   "metadata": {
    "ExecuteTime": {
     "end_time": "2024-12-19T13:42:02.626032Z",
     "start_time": "2024-12-19T13:42:02.127689Z"
    }
   },
   "cell_type": "code",
   "source": [
    "matches['winner_1st_serve_return_win_pct'] = matches.apply(calculate_1st_serve_return_win_percentage, axis=1)\n",
    "matches['winner_2nd_serve_return_win_pct'] = matches.apply(calculate_2nd_serve_return_win_percentage, axis=1)\n",
    "matches['winner_return_games_win_pct'] = matches.apply(calculate_return_games_win_percentage, axis=1)\n",
    "matches['loser_1st_serve_return_win_pct'] = matches.apply(calculate_1st_serve_return_win_percentage_loser, axis=1)\n",
    "matches['loser_2nd_serve_return_win_pct'] = matches.apply(calculate_2nd_serve_return_win_percentage_loser, axis=1)\n",
    "matches['loser_return_games_win_pct'] = matches.apply(calculate_return_games_win_percentage_loser, axis=1)"
   ],
   "id": "cd1f9236507c4b34",
   "outputs": [],
   "execution_count": 7
  },
  {
   "metadata": {
    "ExecuteTime": {
     "end_time": "2024-12-19T13:42:02.631582Z",
     "start_time": "2024-12-19T13:42:02.627030Z"
    }
   },
   "cell_type": "code",
   "source": [
    "def calculate_percentage_of_break_points_won_on_opponents_serve(row):\n",
    "    if pd.isna(row['l_bpFaced']) or pd.isna(row['l_bpSaved']):\n",
    "        return None\n",
    "    if row['l_bpFaced'] > 0:\n",
    "        return (row['l_bpFaced'] - row['l_bpSaved']) / row['l_bpFaced']\n",
    "    return 0\n",
    "\n",
    "def calculate_percentage_of_break_points_won_on_opponents_serve_loser(row):\n",
    "    if pd.isna(row['w_bpFaced']) or pd.isna(row['w_bpSaved']):\n",
    "        return None\n",
    "    if row['w_bpFaced'] > 0:\n",
    "        return (row['w_bpFaced'] - row['w_bpSaved']) / row['w_bpFaced']\n",
    "    return 0\n",
    "\n",
    "def calculate_percentage_of_break_points_saved(row):\n",
    "    if pd.isna(row['w_bpFaced']) or pd.isna(row['w_bpSaved']):\n",
    "        return None\n",
    "    if row['w_bpFaced'] > 0:\n",
    "        return row['w_bpSaved'] / row['w_bpFaced']\n",
    "    return 0\n",
    "\n",
    "def calculate_percentage_of_break_points_saved_loser(row):\n",
    "    if pd.isna(row['l_bpFaced']) or pd.isna(row['l_bpSaved']):\n",
    "        return None\n",
    "    if row['l_bpFaced'] > 0:\n",
    "        return row['l_bpSaved'] / row['l_bpFaced']\n",
    "    return 0"
   ],
   "id": "c0049caa58cde1f0",
   "outputs": [],
   "execution_count": 8
  },
  {
   "metadata": {
    "ExecuteTime": {
     "end_time": "2024-12-19T13:42:03.181667Z",
     "start_time": "2024-12-19T13:42:02.632583Z"
    }
   },
   "cell_type": "code",
   "source": [
    "matches['winner_bp_won_pct'] = matches.apply(calculate_percentage_of_break_points_won_on_opponents_serve, axis=1)\n",
    "matches['loser_bp_won_pct'] = matches.apply(calculate_percentage_of_break_points_won_on_opponents_serve_loser, axis=1)\n",
    "matches['winner_bp_saved_pct'] = matches.apply(calculate_percentage_of_break_points_saved, axis=1)\n",
    "matches['loser_bp_saved_pct'] = matches.apply(calculate_percentage_of_break_points_saved_loser, axis=1)"
   ],
   "id": "745ed32aca8c48c0",
   "outputs": [],
   "execution_count": 9
  },
  {
   "metadata": {},
   "cell_type": "markdown",
   "source": "### Now we can aggregate them and utilize common opponents method and time discounting",
   "id": "f771ebcc63eb77fe"
  },
  {
   "metadata": {
    "ExecuteTime": {
     "end_time": "2024-12-19T13:42:03.188698Z",
     "start_time": "2024-12-19T13:42:03.182665Z"
    }
   },
   "cell_type": "code",
   "source": "matches['Date'] = pd.to_datetime(matches['Date'], errors='coerce')",
   "id": "3484f86226a4bd2f",
   "outputs": [],
   "execution_count": 10
  },
  {
   "metadata": {
    "ExecuteTime": {
     "end_time": "2024-12-19T13:42:03.192640Z",
     "start_time": "2024-12-19T13:42:03.188698Z"
    }
   },
   "cell_type": "code",
   "source": [
    "def number_of_common_opponent_matches(row, df):\n",
    "    player_a = row['winner_id']\n",
    "    player_b = row['loser_id']\n",
    "    current_date = row['Date']\n",
    "    \n",
    "    # Filter for matches that occurred before the current match date\n",
    "    df = df[df['Date'] < current_date]\n",
    "    \n",
    "    # Find common opponents\n",
    "    player_a_opponents = set(df[(df['winner_id'] == player_a)]['loser_id']).union(\n",
    "                         set(df[(df['loser_id'] == player_a)]['winner_id']))\n",
    "    player_b_opponents = set(df[(df['winner_id'] == player_b)]['loser_id']).union(\n",
    "                         set(df[(df['loser_id'] == player_b)]['winner_id']))\n",
    "\n",
    "    common_opponents = player_a_opponents.intersection(player_b_opponents)\n",
    "    return len(common_opponents)"
   ],
   "id": "a81db3270e706c96",
   "outputs": [],
   "execution_count": 11
  },
  {
   "metadata": {
    "ExecuteTime": {
     "end_time": "2024-12-19T13:42:58.620642Z",
     "start_time": "2024-12-19T13:42:03.193161Z"
    }
   },
   "cell_type": "code",
   "source": [
    "matches[['num_CO_matches']] = matches.apply(\n",
    "    lambda row: pd.Series(number_of_common_opponent_matches(row, matches)), axis=1\n",
    ")"
   ],
   "id": "73acea9a50114fa9",
   "outputs": [],
   "execution_count": 12
  },
  {
   "metadata": {
    "ExecuteTime": {
     "end_time": "2024-12-19T13:42:58.628450Z",
     "start_time": "2024-12-19T13:42:58.621643Z"
    }
   },
   "cell_type": "code",
   "source": [
    "import numpy as np\n",
    "\n",
    "# Time Discounting\n",
    "def calculate_weighted_mean(matches, column_name, time_column, decay_rate=0.3):\n",
    "    if matches.empty:\n",
    "        return None\n",
    "    # Calculate weights using exponential decay\n",
    "    matches['weight'] = np.exp(-decay_rate * matches[time_column])\n",
    "    \n",
    "    weighted_sum = (matches[column_name] * matches['weight']).sum()\n",
    "    total_weight = matches['weight'].sum()\n",
    "    weighted_mean = weighted_sum / total_weight if total_weight > 0 else 0\n",
    "    return weighted_mean if pd.notnull(weighted_mean) else 0\n",
    "\n",
    "def calculate_stat_avg(player_win_matches, player_lose_matches, win_column, lose_column):\n",
    "    win_mean = calculate_weighted_mean(player_win_matches, win_column, 'time_since_match')\n",
    "    lose_mean = calculate_weighted_mean(player_lose_matches, lose_column, 'time_since_match')\n",
    "    if win_mean and lose_mean:\n",
    "        return (win_mean + lose_mean) / 2\n",
    "    elif win_mean:\n",
    "        return win_mean\n",
    "    elif lose_mean:\n",
    "        return lose_mean\n",
    "    else:\n",
    "        return 0\n",
    "\n",
    "def filter_matches_by_player(df, player_id):\n",
    "    win_matches = df[df['winner_id'] == player_id]\n",
    "    lose_matches = df[df['loser_id'] == player_id]\n",
    "    return win_matches, lose_matches\n",
    "\n",
    "def calculate_common_opponent_stats(df, player_a, player_b, winner_column, loser_column):\n",
    "    # Find common opponents\n",
    "    player_a_opponents = set(df[df['winner_id'] == player_a]['loser_id']).union(\n",
    "        set(df[df['loser_id'] == player_a]['winner_id'])\n",
    "    )\n",
    "    player_b_opponents = set(df[df['winner_id'] == player_b]['loser_id']).union(\n",
    "        set(df[df['loser_id'] == player_b]['winner_id'])\n",
    "    )\n",
    "    common_opponents = player_a_opponents.intersection(player_b_opponents)\n",
    "\n",
    "    # Filter matches against common opponents\n",
    "    co_player_a_win_matches = df[(df['winner_id'] == player_a) & (df['loser_id'].isin(common_opponents))]\n",
    "    co_player_a_lose_matches = df[(df['loser_id'] == player_a) & (df['winner_id'].isin(common_opponents))]\n",
    "    co_player_b_win_matches = df[(df['winner_id'] == player_b) & (df['loser_id'].isin(common_opponents))]\n",
    "    co_player_b_lose_matches = df[(df['loser_id'] == player_b) & (df['winner_id'].isin(common_opponents))]\n",
    "\n",
    "    # Calculate stat avg for players against common opponents\n",
    "    co_player_a_stat_avg = calculate_stat_avg(co_player_a_win_matches, co_player_a_lose_matches, winner_column, loser_column)\n",
    "    co_player_b_stat_avg = calculate_stat_avg(co_player_b_win_matches, co_player_b_lose_matches, winner_column, loser_column)\n",
    "    \n",
    "    return co_player_a_stat_avg, co_player_b_stat_avg\n",
    "\n",
    "def calculate_player_stat_difference(row, df, winner_column_name, loser_column_name):\n",
    "    winner = row['winner_id']\n",
    "    loser = row['loser_id']\n",
    "    current_date = row['Date']\n",
    "    # Filter matches before the current match date\n",
    "    past_matches = df[df['Date'] < current_date].copy()\n",
    "    past_matches['time_since_match'] = (current_date - past_matches['Date']).dt.days / 365.0  # Convert to years\n",
    "    \n",
    "    # Calculate stat average for Player A and Player B\n",
    "    winner_won_matches, player_a_lose_matches = filter_matches_by_player(past_matches, winner)\n",
    "    loser_won_matches, player_b_lose_matches = filter_matches_by_player(past_matches, loser)\n",
    "\n",
    "    winner_stat_avg = calculate_stat_avg(winner_won_matches, player_a_lose_matches, winner_column_name, loser_column_name)\n",
    "    loser_stat_avg = calculate_stat_avg(loser_won_matches, player_b_lose_matches, winner_column_name, loser_column_name)\n",
    "\n",
    "\n",
    "    # Calculate common opponent stat averages if there were common opponents \n",
    "    if row[\"num_CO_matches\"] > 0:\n",
    "        winner_co_stat_avg, loser_co_stat_avg = calculate_common_opponent_stats(\n",
    "            past_matches, winner, loser, winner_column_name, loser_column_name\n",
    "        )\n",
    "        return winner_co_stat_avg, loser_co_stat_avg, winner_stat_avg, loser_stat_avg\n",
    "    else:\n",
    "        return winner_stat_avg, loser_stat_avg, winner_stat_avg, loser_stat_avg\n"
   ],
   "id": "8c9e12bd3fe393e0",
   "outputs": [],
   "execution_count": 13
  },
  {
   "metadata": {
    "ExecuteTime": {
     "end_time": "2024-12-19T14:04:10.164583Z",
     "start_time": "2024-12-19T13:42:58.629446Z"
    }
   },
   "cell_type": "code",
   "source": [
    "# Apply the function to each row\n",
    "matches[['winner_CO_1st_serve_in_pct_avg', 'loser_CO_1st_serve_in_pct_avg', 'winner_1st_serve_in_pct_avg', 'loser_1st_serve_in_pct_avg']] = matches.apply(\n",
    "    lambda row: pd.Series(calculate_player_stat_difference(row, matches, 'winner_1st_serve_in_pct', 'loser_1st_serve_in_pct')), axis=1\n",
    ")\n",
    "matches[['winner_CO_1st_serve_win_pct_avg', 'loser_CO_1st_serve_win_pct_avg', 'winner_1st_serve_win_pct_avg', 'loser_1st_serve_win_pct_avg']] = matches.apply(\n",
    "    lambda row: pd.Series(calculate_player_stat_difference(row, matches, 'winner_1st_serve_win_pct', 'loser_1st_serve_win_pct')), axis=1\n",
    ")\n",
    "matches[['winner_CO_2nd_serve_win_pct_avg', 'loser_CO_2nd_serve_win_pct_avg', 'winner_2nd_serve_win_pct_avg', 'loser_2nd_serve_win_pct_avg']] = matches.apply(\n",
    "    lambda row: pd.Series(calculate_player_stat_difference(row, matches, 'winner_2nd_serve_win_pct', 'loser_2nd_serve_win_pct')), axis=1\n",
    ")\n",
    "matches[['winner_CO_serve_games_win_pct_avg', 'loser_CO_serve_games_win_pct_avg', 'winner_serve_games_win_pct_avg', 'loser_serve_games_win_pct_avg']] = matches.apply(\n",
    "    lambda row: pd.Series(calculate_player_stat_difference(row, matches, 'winner_service_games_won_pct', 'loser_service_games_won_pct')), axis=1\n",
    ")\n",
    "matches[['winner_CO_ace_avg', 'loser_CO_ace_avg', 'winner_ace_avg', 'loser_ace_avg']] = matches.apply(\n",
    "    lambda row: pd.Series(calculate_player_stat_difference(row, matches, 'w_ace', 'l_ace')), axis=1\n",
    ")\n",
    "matches[['winner_CO_df_avg', 'loser_CO_df_avg', 'winner_df_avg', 'loser_df_avg']] = matches.apply(\n",
    "    lambda row: pd.Series(calculate_player_stat_difference(row, matches, 'w_df', 'l_df')), axis=1\n",
    ")\n",
    "matches[['winner_CO_1st_serve_return_win_pct_avg', 'loser_CO_1st_serve_return_win_pct_avg', 'winner_1st_serve_return_win_pct_avg', 'loser_1st_serve_return_win_pct_avg']] = matches.apply(\n",
    "    lambda row: pd.Series(calculate_player_stat_difference(row, matches, 'winner_1st_serve_return_win_pct', 'loser_1st_serve_return_win_pct')), axis=1\n",
    ")"
   ],
   "id": "a6f6f9d9a14d80e8",
   "outputs": [],
   "execution_count": 14
  },
  {
   "metadata": {
    "ExecuteTime": {
     "end_time": "2024-12-19T18:15:40.961624Z",
     "start_time": "2024-12-19T18:15:40.933051Z"
    }
   },
   "cell_type": "code",
   "source": [
    "new_columns = matches[['match_id', 'num_CO_matches', 'winner_CO_1st_serve_in_pct_avg', 'loser_CO_1st_serve_in_pct_avg', 'winner_1st_serve_in_pct_avg', 'loser_1st_serve_in_pct_avg', \n",
    "                       'winner_CO_1st_serve_win_pct_avg', 'loser_CO_1st_serve_win_pct_avg', 'winner_1st_serve_win_pct_avg', 'loser_1st_serve_win_pct_avg', 'winner_CO_2nd_serve_win_pct_avg', 'loser_CO_2nd_serve_win_pct_avg', 'winner_2nd_serve_win_pct_avg', 'loser_2nd_serve_win_pct_avg', 'winner_CO_serve_games_win_pct_avg', 'loser_CO_serve_games_win_pct_avg', 'winner_serve_games_win_pct_avg', 'loser_serve_games_win_pct_avg', 'winner_CO_ace_avg', 'loser_CO_ace_avg', 'winner_ace_avg', 'loser_ace_avg', 'winner_CO_df_avg', 'loser_CO_df_avg', 'winner_df_avg', 'loser_df_avg', 'winner_CO_1st_serve_return_win_pct_avg', 'loser_CO_1st_serve_return_win_pct_avg', 'winner_1st_serve_return_win_pct_avg', 'loser_1st_serve_return_win_pct_avg'\n",
    "                       ]]"
   ],
   "id": "9661effdab6a8379",
   "outputs": [],
   "execution_count": 23
  },
  {
   "metadata": {
    "ExecuteTime": {
     "end_time": "2024-12-19T18:15:42.297264Z",
     "start_time": "2024-12-19T18:15:42.289462Z"
    }
   },
   "cell_type": "code",
   "source": [
    "# Check for missing values in new columns\n",
    "missing_values = new_columns.isnull().sum()\n",
    "\n",
    "columns_with_nan = missing_values[missing_values > 0]\n",
    "\n",
    "print(\"Columns with NaN values and their counts:\")\n",
    "print(columns_with_nan)"
   ],
   "id": "c102023031a21a1d",
   "outputs": [
    {
     "name": "stdout",
     "output_type": "stream",
     "text": [
      "Columns with NaN values and their counts:\n",
      "Series([], dtype: int64)\n"
     ]
    }
   ],
   "execution_count": 24
  },
  {
   "metadata": {
    "ExecuteTime": {
     "end_time": "2024-12-19T18:15:44.204651Z",
     "start_time": "2024-12-19T18:15:43.892485Z"
    }
   },
   "cell_type": "code",
   "source": "new_columns.to_csv(\"../data/aggregate_player_match_stats.csv\", index=False)",
   "id": "99698485d57d0283",
   "outputs": [],
   "execution_count": 25
  },
  {
   "metadata": {},
   "cell_type": "code",
   "outputs": [],
   "execution_count": null,
   "source": "",
   "id": "4f8d0f282b1acf28"
  }
 ],
 "metadata": {
  "kernelspec": {
   "display_name": "Python 3",
   "language": "python",
   "name": "python3"
  },
  "language_info": {
   "codemirror_mode": {
    "name": "ipython",
    "version": 2
   },
   "file_extension": ".py",
   "mimetype": "text/x-python",
   "name": "python",
   "nbconvert_exporter": "python",
   "pygments_lexer": "ipython2",
   "version": "2.7.6"
  }
 },
 "nbformat": 4,
 "nbformat_minor": 5
}
