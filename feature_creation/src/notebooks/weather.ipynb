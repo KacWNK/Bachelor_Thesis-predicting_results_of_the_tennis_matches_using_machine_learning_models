{
 "cells": [
  {
   "cell_type": "code",
   "metadata": {
    "ExecuteTime": {
     "end_time": "2024-12-19T15:56:44.984461Z",
     "start_time": "2024-12-19T15:56:44.257120Z"
    }
   },
   "source": [
    "import pandas as pd\n",
    "from geopy.geocoders import Nominatim\n",
    "from geopy.exc import GeocoderTimedOut"
   ],
   "outputs": [],
   "execution_count": 1
  },
  {
   "metadata": {
    "ExecuteTime": {
     "end_time": "2024-12-19T15:56:45.624402Z",
     "start_time": "2024-12-19T15:56:45.539010Z"
    }
   },
   "cell_type": "code",
   "source": [
    "matches=pd.read_csv('../../preprocessing/data/matches.csv')"
   ],
   "outputs": [],
   "execution_count": 2
  },
  {
   "metadata": {},
   "cell_type": "markdown",
   "source": [
    "### First we need to get coordinates for the cities of tournaments"
   ]
  },
  {
   "metadata": {
    "ExecuteTime": {
     "end_time": "2024-12-19T15:56:46.645190Z",
     "start_time": "2024-12-19T15:56:46.627719Z"
    }
   },
   "cell_type": "code",
   "source": [
    "geolocator = Nominatim(user_agent=\"geoapi\")"
   ],
   "outputs": [],
   "execution_count": 3
  },
  {
   "metadata": {
    "ExecuteTime": {
     "end_time": "2024-12-19T15:56:47.028496Z",
     "start_time": "2024-12-19T15:56:47.025441Z"
    }
   },
   "cell_type": "code",
   "source": [
    "def get_lat_long(location: str):\n",
    "    if location[-1].isdigit():\n",
    "        location = location[:-2]\n",
    "    if location == 'Queens Club':\n",
    "        location = 'West Kensington London'\n",
    "    try:\n",
    "        loc = geolocator.geocode(location, timeout=10)\n",
    "        if loc:\n",
    "            return loc.latitude, loc.longitude\n",
    "        return None, None\n",
    "    except GeocoderTimedOut:\n",
    "        return None, None"
   ],
   "outputs": [],
   "execution_count": 4
  },
  {
   "metadata": {
    "ExecuteTime": {
     "end_time": "2024-12-19T15:56:47.721198Z",
     "start_time": "2024-12-19T15:56:47.717345Z"
    }
   },
   "cell_type": "code",
   "source": [
    "unique_locations = matches['tournament_location'].unique()"
   ],
   "outputs": [],
   "execution_count": 5
  },
  {
   "metadata": {
    "ExecuteTime": {
     "end_time": "2024-12-19T15:58:19.219609Z",
     "start_time": "2024-12-19T15:56:48.678843Z"
    }
   },
   "cell_type": "code",
   "source": [
    "location_dict = {location: get_lat_long(location) for location in unique_locations}"
   ],
   "outputs": [],
   "execution_count": 6
  },
  {
   "metadata": {
    "ExecuteTime": {
     "end_time": "2024-12-19T15:58:19.225219Z",
     "start_time": "2024-12-19T15:58:19.220627Z"
    }
   },
   "cell_type": "code",
   "source": [
    "location_dict['Cordoba'] = (-31.4, -64.183)\n",
    "location_dict['Santiago'] = (-33.45, -70.67)\n",
    "location_dict['Los Cabos'] = (22.883, -109.917)\n",
    "location_dict['Cologne 1'] = (50.933, 6.95)\n",
    "location_dict['Cologne 2'] = (50.933, 6.95)"
   ],
   "outputs": [],
   "execution_count": 7
  },
  {
   "metadata": {
    "ExecuteTime": {
     "end_time": "2024-12-19T15:58:19.260069Z",
     "start_time": "2024-12-19T15:58:19.226244Z"
    }
   },
   "cell_type": "code",
   "source": [
    "matches['latitude'] = matches['tournament_location'].map(lambda x: location_dict[x][0])\n",
    "matches['longitude'] = matches['tournament_location'].map(lambda x: location_dict[x][1])"
   ],
   "outputs": [],
   "execution_count": 8
  },
  {
   "metadata": {},
   "cell_type": "markdown",
   "source": [
    "### Now we can get weather from API"
   ]
  },
  {
   "cell_type": "code",
   "metadata": {
    "ExecuteTime": {
     "end_time": "2024-12-19T16:03:22.133396Z",
     "start_time": "2024-12-19T16:03:21.987532Z"
    }
   },
   "source": [
    "import requests\n",
    "\n",
    "def get_weather(latitude, longitude, date, time, variables):\n",
    "    url = f\"https://archive-api.open-meteo.com/v1/archive?latitude={latitude}&longitude={longitude}&hourly={','.join(variables)}&start_date={date}&end_date={date}&timezone=UTC\"\n",
    "    response = requests.get(url)\n",
    "    data = response.json()\n",
    "    if not data.get(\"hourly\"):\n",
    "        print(url, data)\n",
    "        return None\n",
    "    datetime_str = f\"{date}T{time}\"\n",
    "    for i, hourly_time in enumerate(data[\"hourly\"][\"time\"]):\n",
    "        if hourly_time == datetime_str:\n",
    "            return {var: data[\"hourly\"][var][i] for var in variables}\n",
    "\t\n",
    "    return None  \n",
    "\n",
    "# Example\n",
    "latitude = -34.92\n",
    "longitude = 138.6\n",
    "date = \"2017-01-01\"\n",
    "time = \"06:00\"  \n",
    "variables = [\"temperature_2m\", \"relative_humidity_2m\", \"windspeed_10m\", \"apparent_temperature\"]\n",
    "\n",
    "weather_data = get_weather(latitude, longitude, date, time, variables)\n",
    "print(weather_data)"
   ],
   "outputs": [
    {
     "name": "stdout",
     "output_type": "stream",
     "text": [
      "{'temperature_2m': 20.1, 'relative_humidity_2m': 62, 'windspeed_10m': 28.7, 'apparent_temperature': 16.8}\n"
     ]
    }
   ],
   "execution_count": 9
  },
  {
   "cell_type": "code",
   "metadata": {
    "collapsed": false,
    "ExecuteTime": {
     "end_time": "2024-12-19T16:03:31.135586Z",
     "start_time": "2024-12-19T16:03:31.131992Z"
    }
   },
   "source": [
    "from datetime import datetime, timedelta\n",
    "\n",
    "def convert_utc_plus1_to_utc(date, time):\n",
    "    dt = datetime.strptime(f\"{date} {time}\", \"%Y-%m-%d %H:%M\")\n",
    "\t\n",
    "    dt_utc = dt - timedelta(hours=1)\n",
    "    return dt_utc.strftime(\"%Y-%m-%d\"), dt_utc.strftime(\"%H:%M\")\n",
    "\n",
    "def round_time_to_nearest_hour(time_str):\n",
    "    time_obj = datetime.strptime(time_str, \"%H:%M\")\n",
    "\n",
    "    if time_obj.minute >= 30:\n",
    "        time_obj += timedelta(minutes=60 - time_obj.minute)\n",
    "    else:\n",
    "        time_obj -= timedelta(minutes=time_obj.minute)\n",
    "\n",
    "    return time_obj.strftime(\"%H:00\")"
   ],
   "outputs": [],
   "execution_count": 12
  },
  {
   "cell_type": "code",
   "metadata": {
    "ExecuteTime": {
     "end_time": "2024-12-19T16:03:31.601714Z",
     "start_time": "2024-12-19T16:03:31.598464Z"
    }
   },
   "source": [
    "def fetch_weather_data(row):\n",
    "\tdate_utc, time_utc = convert_utc_plus1_to_utc(row[\"Date\"], row[\"time\"])\n",
    "\trounded_time_utc = round_time_to_nearest_hour(time_utc)\n",
    "\treturn get_weather(row[\"latitude\"], row[\"longitude\"], date_utc, rounded_time_utc, variables)"
   ],
   "outputs": [],
   "execution_count": 13
  },
  {
   "cell_type": "code",
   "metadata": {
    "ExecuteTime": {
     "end_time": "2024-12-19T16:03:32.020367Z",
     "start_time": "2024-12-19T16:03:32.016805Z"
    }
   },
   "source": [
    "def process_partial_chunk(df, func, start_index, chunk_size):\n",
    "    end_index = min(start_index + chunk_size, len(df))  \n",
    "    chunk = df.iloc[start_index:end_index]\n",
    "    print(f\"Processing rows {start_index} to {end_index}...\")\n",
    "    \n",
    "    chunk_results = chunk.apply(func, axis=1)\n",
    "    chunk_results.to_csv(f\"../data/weather_chunks/{start_index}_{end_index}.csv\")\n",
    "    result_df = pd.DataFrame(chunk_results.tolist(), index=chunk.index)\n",
    "    print(f\"results saved to ../data/weather_chunks/{start_index}_{end_index}.csv\")\n",
    "    return result_df"
   ],
   "outputs": [],
   "execution_count": 14
  },
  {
   "cell_type": "markdown",
   "metadata": {},
   "source": [
    "### To odpaliłem u siebie"
   ]
  },
  {
   "cell_type": "code",
   "metadata": {
    "collapsed": false
   },
   "source": [
    "weather_data_chunk_1 = process_partial_chunk(matches, fetch_weather_data, start_index=0, chunk_size=500)"
   ],
   "outputs": [],
   "execution_count": null
  },
  {
   "cell_type": "code",
   "metadata": {},
   "source": [
    "weather_data_chunk_2 = process_partial_chunk(matches, fetch_weather_data, start_index=500, chunk_size=500)"
   ],
   "outputs": [],
   "execution_count": null
  },
  {
   "cell_type": "code",
   "metadata": {},
   "source": [
    "weather_data_chunk_3 = process_partial_chunk(matches, fetch_weather_data, start_index=1000, chunk_size=500)"
   ],
   "outputs": [],
   "execution_count": null
  },
  {
   "cell_type": "code",
   "metadata": {},
   "source": [
    "weather_data_chunk_4 = process_partial_chunk(matches, fetch_weather_data, start_index=1500, chunk_size=500)"
   ],
   "outputs": [],
   "execution_count": null
  },
  {
   "cell_type": "code",
   "metadata": {},
   "source": [
    "weather_data_chunk_5 = process_partial_chunk(matches, fetch_weather_data, start_index=2000, chunk_size=500)"
   ],
   "outputs": [],
   "execution_count": null
  },
  {
   "cell_type": "code",
   "metadata": {},
   "source": [
    "weather_data_chunk_6 = process_partial_chunk(matches, fetch_weather_data, start_index=2500, chunk_size=500)"
   ],
   "outputs": [],
   "execution_count": null
  },
  {
   "cell_type": "code",
   "metadata": {},
   "source": [
    "weather_data_chunk_7 = process_partial_chunk(matches, fetch_weather_data, start_index=3000, chunk_size=500)"
   ],
   "outputs": [],
   "execution_count": null
  },
  {
   "cell_type": "code",
   "metadata": {},
   "source": [
    "weather_data_chunk_8 = process_partial_chunk(matches, fetch_weather_data, start_index=3500, chunk_size=500)"
   ],
   "outputs": [],
   "execution_count": null
  },
  {
   "cell_type": "code",
   "metadata": {},
   "source": [
    "weather_data_chunk_10 = process_partial_chunk(matches, fetch_weather_data, start_index=4500, chunk_size=500)"
   ],
   "outputs": [],
   "execution_count": null
  },
  {
   "cell_type": "markdown",
   "metadata": {},
   "source": [
    "### To odpal u siebie"
   ]
  },
  {
   "cell_type": "code",
   "metadata": {},
   "source": [
    "weather_data_chunk_11 = process_partial_chunk(matches, fetch_weather_data, start_index=5000, chunk_size=500)"
   ],
   "outputs": [],
   "execution_count": null
  },
  {
   "cell_type": "markdown",
   "metadata": {},
   "source": [
    "### I tak dalej"
   ]
  },
  {
   "cell_type": "code",
   "metadata": {},
   "source": [
    "weather_data_chunk_12 = process_partial_chunk(matches, fetch_weather_data, start_index=5500, chunk_size=500)"
   ],
   "outputs": [],
   "execution_count": null
  },
  {
   "cell_type": "code",
   "metadata": {},
   "source": [
    "weather_data_chunk_13 = process_partial_chunk(matches, fetch_weather_data, start_index=6000, chunk_size=500)"
   ],
   "outputs": [],
   "execution_count": null
  },
  {
   "cell_type": "code",
   "metadata": {},
   "source": [
    "weather_data_chunk_14 = process_partial_chunk(matches, fetch_weather_data, start_index=6500, chunk_size=500)"
   ],
   "outputs": [],
   "execution_count": null
  },
  {
   "cell_type": "code",
   "metadata": {},
   "source": [
    "weather_data_chunk_15 = process_partial_chunk(matches, fetch_weather_data, start_index=7000, chunk_size=500)"
   ],
   "outputs": [],
   "execution_count": null
  },
  {
   "cell_type": "code",
   "metadata": {},
   "source": [
    "weather_data_chunk_16 = process_partial_chunk(matches, fetch_weather_data, start_index=7500, chunk_size=500)"
   ],
   "outputs": [],
   "execution_count": null
  },
  {
   "cell_type": "code",
   "metadata": {},
   "source": [
    "weather_data_chunk_17 = process_partial_chunk(matches, fetch_weather_data, start_index=8000, chunk_size=500)"
   ],
   "outputs": [],
   "execution_count": null
  },
  {
   "metadata": {},
   "cell_type": "code",
   "source": [
    "weather_data_chunk_21 = process_partial_chunk(matches, fetch_weather_data, start_index=10000, chunk_size=500)"
   ],
   "outputs": [],
   "execution_count": null
  },
  {
   "metadata": {},
   "cell_type": "code",
   "source": [
    "weather_data_chunk_22 = process_partial_chunk(matches, fetch_weather_data, start_index=10500, chunk_size=500)"
   ],
   "outputs": [],
   "execution_count": null
  },
  {
   "metadata": {},
   "cell_type": "code",
   "source": [
    "weather_data_chunk_23 = process_partial_chunk(matches, fetch_weather_data, start_index=11000, chunk_size=500)"
   ],
   "outputs": [],
   "execution_count": null
  },
  {
   "metadata": {},
   "cell_type": "code",
   "source": [
    "weather_data_chunk_24 = process_partial_chunk(matches, fetch_weather_data, start_index=11500, chunk_size=500)"
   ],
   "outputs": [],
   "execution_count": null
  },
  {
   "metadata": {},
   "cell_type": "code",
   "source": [
    "weather_data_chunk_25 = process_partial_chunk(matches, fetch_weather_data, start_index=12000, chunk_size=500)"
   ],
   "outputs": [],
   "execution_count": null
  },
  {
   "metadata": {},
   "cell_type": "code",
   "source": [
    "weather_data_chunk_26 = process_partial_chunk(matches, fetch_weather_data, start_index=12500, chunk_size=500)"
   ],
   "outputs": [],
   "execution_count": null
  },
  {
   "metadata": {},
   "cell_type": "code",
   "source": [
    "weather_data_chunk_27 = process_partial_chunk(matches, fetch_weather_data, start_index=13000, chunk_size=500)"
   ],
   "outputs": [],
   "execution_count": null
  },
  {
   "metadata": {},
   "cell_type": "code",
   "source": [
    "weather_data_chunk_28 = process_partial_chunk(matches, fetch_weather_data, start_index=13500, chunk_size=500)"
   ],
   "outputs": [],
   "execution_count": null
  },
  {
   "metadata": {},
   "cell_type": "code",
   "source": [
    "weather_data_chunk_29 = process_partial_chunk(matches, fetch_weather_data, start_index=14000, chunk_size=500)"
   ],
   "outputs": [],
   "execution_count": null
  },
  {
   "cell_type": "code",
   "outputs": [],
   "source": [
    "weather_data_chunk_18 = process_partial_chunk(matches, fetch_weather_data, start_index=8500, chunk_size=500)"
   ],
   "metadata": {
    "collapsed": false
   },
   "execution_count": null
  },
  {
   "cell_type": "code",
   "metadata": {},
   "source": [
    "weather_data_chunk_19 = process_partial_chunk(matches, fetch_weather_data, start_index=9000, chunk_size=500)"
   ],
   "outputs": [],
   "execution_count": null
  },
  {
   "cell_type": "code",
   "metadata": {},
   "source": [
    "weather_data_chunk_20 = process_partial_chunk(matches, fetch_weather_data, start_index=9500, chunk_size=500)"
   ],
   "outputs": [],
   "execution_count": null
  },
  {
   "metadata": {},
   "cell_type": "markdown",
   "source": [
    "## Można mergeować "
   ]
  },
  {
   "metadata": {
    "ExecuteTime": {
     "end_time": "2024-12-19T16:03:53.980522Z",
     "start_time": "2024-12-19T16:03:53.319561Z"
    }
   },
   "cell_type": "code",
   "source": [
    "import os\n",
    "weather_files_path = \"../../data/weather_chunks/\"\n",
    "\n",
    "weather_files = [f for f in os.listdir(weather_files_path) if f.endswith('.csv')]\n",
    "\n",
    "weather_files.sort(key=lambda x: int(x.split('_')[0]))\n",
    "\n",
    "weather_dfs = []\n",
    "for file in weather_files:\n",
    "    file_path = os.path.join(weather_files_path, file)\n",
    "    weather_dfs.append(pd.read_csv(file_path))\n",
    "\n",
    "weather_df = pd.concat(weather_dfs, ignore_index=True)\n",
    "\n",
    "print(f\"Concatenated Weather Data Shape: {weather_df.shape}\")"
   ],
   "outputs": [
    {
     "name": "stdout",
     "output_type": "stream",
     "text": [
      "Concatenated Weather Data Shape: (14111, 2)\n"
     ]
    }
   ],
   "execution_count": 16
  },
  {
   "metadata": {
    "ExecuteTime": {
     "end_time": "2024-12-19T16:03:55.671338Z",
     "start_time": "2024-12-19T16:03:55.663648Z"
    }
   },
   "cell_type": "code",
   "source": [
    "weather_df"
   ],
   "outputs": [
    {
     "data": {
      "text/plain": [
       "       Unnamed: 0                                                  0\n",
       "0               0  {'temperature_2m': 28.9, 'relative_humidity_2m...\n",
       "1               1  {'temperature_2m': 27.0, 'relative_humidity_2m...\n",
       "2               2  {'temperature_2m': 28.0, 'relative_humidity_2m...\n",
       "3               3  {'temperature_2m': 31.2, 'relative_humidity_2m...\n",
       "4               4  {'temperature_2m': 29.1, 'relative_humidity_2m...\n",
       "...           ...                                                ...\n",
       "14106       14106  {'temperature_2m': 7.8, 'relative_humidity_2m'...\n",
       "14107       14107  {'temperature_2m': 8.2, 'relative_humidity_2m'...\n",
       "14108       14108  {'temperature_2m': 10.1, 'relative_humidity_2m...\n",
       "14109       14109  {'temperature_2m': 6.6, 'relative_humidity_2m'...\n",
       "14110       14110  {'temperature_2m': 12.8, 'relative_humidity_2m...\n",
       "\n",
       "[14111 rows x 2 columns]"
      ],
      "text/html": [
       "<div>\n",
       "<style scoped>\n",
       "    .dataframe tbody tr th:only-of-type {\n",
       "        vertical-align: middle;\n",
       "    }\n",
       "\n",
       "    .dataframe tbody tr th {\n",
       "        vertical-align: top;\n",
       "    }\n",
       "\n",
       "    .dataframe thead th {\n",
       "        text-align: right;\n",
       "    }\n",
       "</style>\n",
       "<table border=\"1\" class=\"dataframe\">\n",
       "  <thead>\n",
       "    <tr style=\"text-align: right;\">\n",
       "      <th></th>\n",
       "      <th>Unnamed: 0</th>\n",
       "      <th>0</th>\n",
       "    </tr>\n",
       "  </thead>\n",
       "  <tbody>\n",
       "    <tr>\n",
       "      <th>0</th>\n",
       "      <td>0</td>\n",
       "      <td>{'temperature_2m': 28.9, 'relative_humidity_2m...</td>\n",
       "    </tr>\n",
       "    <tr>\n",
       "      <th>1</th>\n",
       "      <td>1</td>\n",
       "      <td>{'temperature_2m': 27.0, 'relative_humidity_2m...</td>\n",
       "    </tr>\n",
       "    <tr>\n",
       "      <th>2</th>\n",
       "      <td>2</td>\n",
       "      <td>{'temperature_2m': 28.0, 'relative_humidity_2m...</td>\n",
       "    </tr>\n",
       "    <tr>\n",
       "      <th>3</th>\n",
       "      <td>3</td>\n",
       "      <td>{'temperature_2m': 31.2, 'relative_humidity_2m...</td>\n",
       "    </tr>\n",
       "    <tr>\n",
       "      <th>4</th>\n",
       "      <td>4</td>\n",
       "      <td>{'temperature_2m': 29.1, 'relative_humidity_2m...</td>\n",
       "    </tr>\n",
       "    <tr>\n",
       "      <th>...</th>\n",
       "      <td>...</td>\n",
       "      <td>...</td>\n",
       "    </tr>\n",
       "    <tr>\n",
       "      <th>14106</th>\n",
       "      <td>14106</td>\n",
       "      <td>{'temperature_2m': 7.8, 'relative_humidity_2m'...</td>\n",
       "    </tr>\n",
       "    <tr>\n",
       "      <th>14107</th>\n",
       "      <td>14107</td>\n",
       "      <td>{'temperature_2m': 8.2, 'relative_humidity_2m'...</td>\n",
       "    </tr>\n",
       "    <tr>\n",
       "      <th>14108</th>\n",
       "      <td>14108</td>\n",
       "      <td>{'temperature_2m': 10.1, 'relative_humidity_2m...</td>\n",
       "    </tr>\n",
       "    <tr>\n",
       "      <th>14109</th>\n",
       "      <td>14109</td>\n",
       "      <td>{'temperature_2m': 6.6, 'relative_humidity_2m'...</td>\n",
       "    </tr>\n",
       "    <tr>\n",
       "      <th>14110</th>\n",
       "      <td>14110</td>\n",
       "      <td>{'temperature_2m': 12.8, 'relative_humidity_2m...</td>\n",
       "    </tr>\n",
       "  </tbody>\n",
       "</table>\n",
       "<p>14111 rows × 2 columns</p>\n",
       "</div>"
      ]
     },
     "execution_count": 17,
     "metadata": {},
     "output_type": "execute_result"
    }
   ],
   "execution_count": 17
  },
  {
   "metadata": {
    "ExecuteTime": {
     "end_time": "2024-12-19T16:03:57.297534Z",
     "start_time": "2024-12-19T16:03:57.008042Z"
    }
   },
   "cell_type": "code",
   "source": [
    "import ast\n",
    "weather_df['parsed_data'] = weather_df['0'].apply(ast.literal_eval)\n",
    "\n",
    "weather_data_expanded = pd.json_normalize(weather_df['parsed_data'])\n",
    "\n",
    "weather_df = pd.concat([weather_df, weather_data_expanded], axis=1)\n",
    "\n",
    "weather_df = weather_df.drop(columns=['0', 'Unnamed: 0', 'parsed_data'])"
   ],
   "outputs": [],
   "execution_count": 18
  },
  {
   "metadata": {
    "ExecuteTime": {
     "end_time": "2024-12-19T16:03:58.302342Z",
     "start_time": "2024-12-19T16:03:58.294652Z"
    }
   },
   "cell_type": "code",
   "source": [
    "weather_df"
   ],
   "outputs": [
    {
     "data": {
      "text/plain": [
       "       temperature_2m  relative_humidity_2m  windspeed_10m  \\\n",
       "0                28.9                    68           15.2   \n",
       "1                27.0                    77            9.6   \n",
       "2                28.0                    28            5.8   \n",
       "3                31.2                    66            6.1   \n",
       "4                29.1                    72            1.5   \n",
       "...               ...                   ...            ...   \n",
       "14106             7.8                    82           22.2   \n",
       "14107             8.2                    79           12.7   \n",
       "14108            10.1                    67           14.8   \n",
       "14109             6.6                    88           13.7   \n",
       "14110            12.8                    69            4.7   \n",
       "\n",
       "       apparent_temperature  \n",
       "0                      31.8  \n",
       "1                      30.9  \n",
       "2                      27.9  \n",
       "3                      39.2  \n",
       "4                      35.1  \n",
       "...                     ...  \n",
       "14106                   3.3  \n",
       "14107                   5.1  \n",
       "14108                   6.6  \n",
       "14109                   3.3  \n",
       "14110                  11.4  \n",
       "\n",
       "[14111 rows x 4 columns]"
      ],
      "text/html": [
       "<div>\n",
       "<style scoped>\n",
       "    .dataframe tbody tr th:only-of-type {\n",
       "        vertical-align: middle;\n",
       "    }\n",
       "\n",
       "    .dataframe tbody tr th {\n",
       "        vertical-align: top;\n",
       "    }\n",
       "\n",
       "    .dataframe thead th {\n",
       "        text-align: right;\n",
       "    }\n",
       "</style>\n",
       "<table border=\"1\" class=\"dataframe\">\n",
       "  <thead>\n",
       "    <tr style=\"text-align: right;\">\n",
       "      <th></th>\n",
       "      <th>temperature_2m</th>\n",
       "      <th>relative_humidity_2m</th>\n",
       "      <th>windspeed_10m</th>\n",
       "      <th>apparent_temperature</th>\n",
       "    </tr>\n",
       "  </thead>\n",
       "  <tbody>\n",
       "    <tr>\n",
       "      <th>0</th>\n",
       "      <td>28.9</td>\n",
       "      <td>68</td>\n",
       "      <td>15.2</td>\n",
       "      <td>31.8</td>\n",
       "    </tr>\n",
       "    <tr>\n",
       "      <th>1</th>\n",
       "      <td>27.0</td>\n",
       "      <td>77</td>\n",
       "      <td>9.6</td>\n",
       "      <td>30.9</td>\n",
       "    </tr>\n",
       "    <tr>\n",
       "      <th>2</th>\n",
       "      <td>28.0</td>\n",
       "      <td>28</td>\n",
       "      <td>5.8</td>\n",
       "      <td>27.9</td>\n",
       "    </tr>\n",
       "    <tr>\n",
       "      <th>3</th>\n",
       "      <td>31.2</td>\n",
       "      <td>66</td>\n",
       "      <td>6.1</td>\n",
       "      <td>39.2</td>\n",
       "    </tr>\n",
       "    <tr>\n",
       "      <th>4</th>\n",
       "      <td>29.1</td>\n",
       "      <td>72</td>\n",
       "      <td>1.5</td>\n",
       "      <td>35.1</td>\n",
       "    </tr>\n",
       "    <tr>\n",
       "      <th>...</th>\n",
       "      <td>...</td>\n",
       "      <td>...</td>\n",
       "      <td>...</td>\n",
       "      <td>...</td>\n",
       "    </tr>\n",
       "    <tr>\n",
       "      <th>14106</th>\n",
       "      <td>7.8</td>\n",
       "      <td>82</td>\n",
       "      <td>22.2</td>\n",
       "      <td>3.3</td>\n",
       "    </tr>\n",
       "    <tr>\n",
       "      <th>14107</th>\n",
       "      <td>8.2</td>\n",
       "      <td>79</td>\n",
       "      <td>12.7</td>\n",
       "      <td>5.1</td>\n",
       "    </tr>\n",
       "    <tr>\n",
       "      <th>14108</th>\n",
       "      <td>10.1</td>\n",
       "      <td>67</td>\n",
       "      <td>14.8</td>\n",
       "      <td>6.6</td>\n",
       "    </tr>\n",
       "    <tr>\n",
       "      <th>14109</th>\n",
       "      <td>6.6</td>\n",
       "      <td>88</td>\n",
       "      <td>13.7</td>\n",
       "      <td>3.3</td>\n",
       "    </tr>\n",
       "    <tr>\n",
       "      <th>14110</th>\n",
       "      <td>12.8</td>\n",
       "      <td>69</td>\n",
       "      <td>4.7</td>\n",
       "      <td>11.4</td>\n",
       "    </tr>\n",
       "  </tbody>\n",
       "</table>\n",
       "<p>14111 rows × 4 columns</p>\n",
       "</div>"
      ]
     },
     "execution_count": 19,
     "metadata": {},
     "output_type": "execute_result"
    }
   ],
   "execution_count": 19
  },
  {
   "metadata": {
    "ExecuteTime": {
     "end_time": "2024-12-19T16:04:00.252766Z",
     "start_time": "2024-12-19T16:04:00.223536Z"
    }
   },
   "cell_type": "code",
   "source": [
    "assert len(matches) == len(weather_df), \"Row mismatch between matches and weather data\"\n",
    "\n",
    "matches_with_weather = pd.concat([matches.reset_index(drop=True), weather_df.reset_index(drop=True)], axis=1)\n",
    "\n",
    "matches_with_weather"
   ],
   "outputs": [
    {
     "data": {
      "text/plain": [
       "      tournament_location         tournament_name        Date  \\\n",
       "0                Brisbane  Brisbane International  2017-12-31   \n",
       "1                Brisbane  Brisbane International  2017-12-31   \n",
       "2                Brisbane  Brisbane International  2018-01-01   \n",
       "3                Brisbane  Brisbane International  2018-01-01   \n",
       "4                Brisbane  Brisbane International  2018-01-01   \n",
       "...                   ...                     ...         ...   \n",
       "14106               Sofia              Sofia Open  2023-11-09   \n",
       "14107               Sofia              Sofia Open  2023-11-09   \n",
       "14108               Sofia              Sofia Open  2023-11-10   \n",
       "14109               Sofia              Sofia Open  2023-11-10   \n",
       "14110               Sofia              Sofia Open  2023-11-11   \n",
       "\n",
       "      indoor_or_outdoor Surface          Round   W1   L1   W2   L2  ...  \\\n",
       "0               Outdoor    Hard      1st Round  6.0  4.0  7.0  6.0  ...   \n",
       "1               Outdoor    Hard      1st Round  7.0  6.0  6.0  4.0  ...   \n",
       "2               Outdoor    Hard      1st Round  6.0  4.0  3.0  6.0  ...   \n",
       "3               Outdoor    Hard      1st Round  6.0  3.0  6.0  2.0  ...   \n",
       "4               Outdoor    Hard      1st Round  6.0  4.0  7.0  5.0  ...   \n",
       "...                 ...     ...            ...  ...  ...  ...  ...  ...   \n",
       "14106            Indoor    Hard  Quarterfinals  6.0  7.0  6.0  4.0  ...   \n",
       "14107            Indoor    Hard  Quarterfinals  6.0  3.0  7.0  6.0  ...   \n",
       "14108            Indoor    Hard     Semifinals  6.0  3.0  6.0  4.0  ...   \n",
       "14109            Indoor    Hard     Semifinals  6.0  2.0  7.0  6.0  ...   \n",
       "14110            Indoor    Hard      The Final  7.0  6.0  2.0  6.0  ...   \n",
       "\n",
       "       loser_entry_Q  loser_entry_WC  winner_is_seeded  loser_is_seeded  \\\n",
       "0              False           False                 0                1   \n",
       "1              False           False                 0                0   \n",
       "2              False           False                 0                0   \n",
       "3              False           False                 0                0   \n",
       "4               True           False                 1                0   \n",
       "...              ...             ...               ...              ...   \n",
       "14106          False           False                 1                1   \n",
       "14107          False           False                 0                1   \n",
       "14108          False           False                 0                1   \n",
       "14109          False           False                 1                0   \n",
       "14110          False           False                 1                0   \n",
       "\n",
       "        latitude   longitude  temperature_2m  relative_humidity_2m  \\\n",
       "0     -27.468968  153.023499            28.9                    68   \n",
       "1     -27.468968  153.023499            27.0                    77   \n",
       "2     -27.468968  153.023499            28.0                    28   \n",
       "3     -27.468968  153.023499            31.2                    66   \n",
       "4     -27.468968  153.023499            29.1                    72   \n",
       "...          ...         ...             ...                   ...   \n",
       "14106  42.697703   23.321736             7.8                    82   \n",
       "14107  42.697703   23.321736             8.2                    79   \n",
       "14108  42.697703   23.321736            10.1                    67   \n",
       "14109  42.697703   23.321736             6.6                    88   \n",
       "14110  42.697703   23.321736            12.8                    69   \n",
       "\n",
       "      windspeed_10m  apparent_temperature  \n",
       "0              15.2                  31.8  \n",
       "1               9.6                  30.9  \n",
       "2               5.8                  27.9  \n",
       "3               6.1                  39.2  \n",
       "4               1.5                  35.1  \n",
       "...             ...                   ...  \n",
       "14106          22.2                   3.3  \n",
       "14107          12.7                   5.1  \n",
       "14108          14.8                   6.6  \n",
       "14109          13.7                   3.3  \n",
       "14110           4.7                  11.4  \n",
       "\n",
       "[14111 rows x 77 columns]"
      ],
      "text/html": [
       "<div>\n",
       "<style scoped>\n",
       "    .dataframe tbody tr th:only-of-type {\n",
       "        vertical-align: middle;\n",
       "    }\n",
       "\n",
       "    .dataframe tbody tr th {\n",
       "        vertical-align: top;\n",
       "    }\n",
       "\n",
       "    .dataframe thead th {\n",
       "        text-align: right;\n",
       "    }\n",
       "</style>\n",
       "<table border=\"1\" class=\"dataframe\">\n",
       "  <thead>\n",
       "    <tr style=\"text-align: right;\">\n",
       "      <th></th>\n",
       "      <th>tournament_location</th>\n",
       "      <th>tournament_name</th>\n",
       "      <th>Date</th>\n",
       "      <th>indoor_or_outdoor</th>\n",
       "      <th>Surface</th>\n",
       "      <th>Round</th>\n",
       "      <th>W1</th>\n",
       "      <th>L1</th>\n",
       "      <th>W2</th>\n",
       "      <th>L2</th>\n",
       "      <th>...</th>\n",
       "      <th>loser_entry_Q</th>\n",
       "      <th>loser_entry_WC</th>\n",
       "      <th>winner_is_seeded</th>\n",
       "      <th>loser_is_seeded</th>\n",
       "      <th>latitude</th>\n",
       "      <th>longitude</th>\n",
       "      <th>temperature_2m</th>\n",
       "      <th>relative_humidity_2m</th>\n",
       "      <th>windspeed_10m</th>\n",
       "      <th>apparent_temperature</th>\n",
       "    </tr>\n",
       "  </thead>\n",
       "  <tbody>\n",
       "    <tr>\n",
       "      <th>0</th>\n",
       "      <td>Brisbane</td>\n",
       "      <td>Brisbane International</td>\n",
       "      <td>2017-12-31</td>\n",
       "      <td>Outdoor</td>\n",
       "      <td>Hard</td>\n",
       "      <td>1st Round</td>\n",
       "      <td>6.0</td>\n",
       "      <td>4.0</td>\n",
       "      <td>7.0</td>\n",
       "      <td>6.0</td>\n",
       "      <td>...</td>\n",
       "      <td>False</td>\n",
       "      <td>False</td>\n",
       "      <td>0</td>\n",
       "      <td>1</td>\n",
       "      <td>-27.468968</td>\n",
       "      <td>153.023499</td>\n",
       "      <td>28.9</td>\n",
       "      <td>68</td>\n",
       "      <td>15.2</td>\n",
       "      <td>31.8</td>\n",
       "    </tr>\n",
       "    <tr>\n",
       "      <th>1</th>\n",
       "      <td>Brisbane</td>\n",
       "      <td>Brisbane International</td>\n",
       "      <td>2017-12-31</td>\n",
       "      <td>Outdoor</td>\n",
       "      <td>Hard</td>\n",
       "      <td>1st Round</td>\n",
       "      <td>7.0</td>\n",
       "      <td>6.0</td>\n",
       "      <td>6.0</td>\n",
       "      <td>4.0</td>\n",
       "      <td>...</td>\n",
       "      <td>False</td>\n",
       "      <td>False</td>\n",
       "      <td>0</td>\n",
       "      <td>0</td>\n",
       "      <td>-27.468968</td>\n",
       "      <td>153.023499</td>\n",
       "      <td>27.0</td>\n",
       "      <td>77</td>\n",
       "      <td>9.6</td>\n",
       "      <td>30.9</td>\n",
       "    </tr>\n",
       "    <tr>\n",
       "      <th>2</th>\n",
       "      <td>Brisbane</td>\n",
       "      <td>Brisbane International</td>\n",
       "      <td>2018-01-01</td>\n",
       "      <td>Outdoor</td>\n",
       "      <td>Hard</td>\n",
       "      <td>1st Round</td>\n",
       "      <td>6.0</td>\n",
       "      <td>4.0</td>\n",
       "      <td>3.0</td>\n",
       "      <td>6.0</td>\n",
       "      <td>...</td>\n",
       "      <td>False</td>\n",
       "      <td>False</td>\n",
       "      <td>0</td>\n",
       "      <td>0</td>\n",
       "      <td>-27.468968</td>\n",
       "      <td>153.023499</td>\n",
       "      <td>28.0</td>\n",
       "      <td>28</td>\n",
       "      <td>5.8</td>\n",
       "      <td>27.9</td>\n",
       "    </tr>\n",
       "    <tr>\n",
       "      <th>3</th>\n",
       "      <td>Brisbane</td>\n",
       "      <td>Brisbane International</td>\n",
       "      <td>2018-01-01</td>\n",
       "      <td>Outdoor</td>\n",
       "      <td>Hard</td>\n",
       "      <td>1st Round</td>\n",
       "      <td>6.0</td>\n",
       "      <td>3.0</td>\n",
       "      <td>6.0</td>\n",
       "      <td>2.0</td>\n",
       "      <td>...</td>\n",
       "      <td>False</td>\n",
       "      <td>False</td>\n",
       "      <td>0</td>\n",
       "      <td>0</td>\n",
       "      <td>-27.468968</td>\n",
       "      <td>153.023499</td>\n",
       "      <td>31.2</td>\n",
       "      <td>66</td>\n",
       "      <td>6.1</td>\n",
       "      <td>39.2</td>\n",
       "    </tr>\n",
       "    <tr>\n",
       "      <th>4</th>\n",
       "      <td>Brisbane</td>\n",
       "      <td>Brisbane International</td>\n",
       "      <td>2018-01-01</td>\n",
       "      <td>Outdoor</td>\n",
       "      <td>Hard</td>\n",
       "      <td>1st Round</td>\n",
       "      <td>6.0</td>\n",
       "      <td>4.0</td>\n",
       "      <td>7.0</td>\n",
       "      <td>5.0</td>\n",
       "      <td>...</td>\n",
       "      <td>True</td>\n",
       "      <td>False</td>\n",
       "      <td>1</td>\n",
       "      <td>0</td>\n",
       "      <td>-27.468968</td>\n",
       "      <td>153.023499</td>\n",
       "      <td>29.1</td>\n",
       "      <td>72</td>\n",
       "      <td>1.5</td>\n",
       "      <td>35.1</td>\n",
       "    </tr>\n",
       "    <tr>\n",
       "      <th>...</th>\n",
       "      <td>...</td>\n",
       "      <td>...</td>\n",
       "      <td>...</td>\n",
       "      <td>...</td>\n",
       "      <td>...</td>\n",
       "      <td>...</td>\n",
       "      <td>...</td>\n",
       "      <td>...</td>\n",
       "      <td>...</td>\n",
       "      <td>...</td>\n",
       "      <td>...</td>\n",
       "      <td>...</td>\n",
       "      <td>...</td>\n",
       "      <td>...</td>\n",
       "      <td>...</td>\n",
       "      <td>...</td>\n",
       "      <td>...</td>\n",
       "      <td>...</td>\n",
       "      <td>...</td>\n",
       "      <td>...</td>\n",
       "      <td>...</td>\n",
       "    </tr>\n",
       "    <tr>\n",
       "      <th>14106</th>\n",
       "      <td>Sofia</td>\n",
       "      <td>Sofia Open</td>\n",
       "      <td>2023-11-09</td>\n",
       "      <td>Indoor</td>\n",
       "      <td>Hard</td>\n",
       "      <td>Quarterfinals</td>\n",
       "      <td>6.0</td>\n",
       "      <td>7.0</td>\n",
       "      <td>6.0</td>\n",
       "      <td>4.0</td>\n",
       "      <td>...</td>\n",
       "      <td>False</td>\n",
       "      <td>False</td>\n",
       "      <td>1</td>\n",
       "      <td>1</td>\n",
       "      <td>42.697703</td>\n",
       "      <td>23.321736</td>\n",
       "      <td>7.8</td>\n",
       "      <td>82</td>\n",
       "      <td>22.2</td>\n",
       "      <td>3.3</td>\n",
       "    </tr>\n",
       "    <tr>\n",
       "      <th>14107</th>\n",
       "      <td>Sofia</td>\n",
       "      <td>Sofia Open</td>\n",
       "      <td>2023-11-09</td>\n",
       "      <td>Indoor</td>\n",
       "      <td>Hard</td>\n",
       "      <td>Quarterfinals</td>\n",
       "      <td>6.0</td>\n",
       "      <td>3.0</td>\n",
       "      <td>7.0</td>\n",
       "      <td>6.0</td>\n",
       "      <td>...</td>\n",
       "      <td>False</td>\n",
       "      <td>False</td>\n",
       "      <td>0</td>\n",
       "      <td>1</td>\n",
       "      <td>42.697703</td>\n",
       "      <td>23.321736</td>\n",
       "      <td>8.2</td>\n",
       "      <td>79</td>\n",
       "      <td>12.7</td>\n",
       "      <td>5.1</td>\n",
       "    </tr>\n",
       "    <tr>\n",
       "      <th>14108</th>\n",
       "      <td>Sofia</td>\n",
       "      <td>Sofia Open</td>\n",
       "      <td>2023-11-10</td>\n",
       "      <td>Indoor</td>\n",
       "      <td>Hard</td>\n",
       "      <td>Semifinals</td>\n",
       "      <td>6.0</td>\n",
       "      <td>3.0</td>\n",
       "      <td>6.0</td>\n",
       "      <td>4.0</td>\n",
       "      <td>...</td>\n",
       "      <td>False</td>\n",
       "      <td>False</td>\n",
       "      <td>0</td>\n",
       "      <td>1</td>\n",
       "      <td>42.697703</td>\n",
       "      <td>23.321736</td>\n",
       "      <td>10.1</td>\n",
       "      <td>67</td>\n",
       "      <td>14.8</td>\n",
       "      <td>6.6</td>\n",
       "    </tr>\n",
       "    <tr>\n",
       "      <th>14109</th>\n",
       "      <td>Sofia</td>\n",
       "      <td>Sofia Open</td>\n",
       "      <td>2023-11-10</td>\n",
       "      <td>Indoor</td>\n",
       "      <td>Hard</td>\n",
       "      <td>Semifinals</td>\n",
       "      <td>6.0</td>\n",
       "      <td>2.0</td>\n",
       "      <td>7.0</td>\n",
       "      <td>6.0</td>\n",
       "      <td>...</td>\n",
       "      <td>False</td>\n",
       "      <td>False</td>\n",
       "      <td>1</td>\n",
       "      <td>0</td>\n",
       "      <td>42.697703</td>\n",
       "      <td>23.321736</td>\n",
       "      <td>6.6</td>\n",
       "      <td>88</td>\n",
       "      <td>13.7</td>\n",
       "      <td>3.3</td>\n",
       "    </tr>\n",
       "    <tr>\n",
       "      <th>14110</th>\n",
       "      <td>Sofia</td>\n",
       "      <td>Sofia Open</td>\n",
       "      <td>2023-11-11</td>\n",
       "      <td>Indoor</td>\n",
       "      <td>Hard</td>\n",
       "      <td>The Final</td>\n",
       "      <td>7.0</td>\n",
       "      <td>6.0</td>\n",
       "      <td>2.0</td>\n",
       "      <td>6.0</td>\n",
       "      <td>...</td>\n",
       "      <td>False</td>\n",
       "      <td>False</td>\n",
       "      <td>1</td>\n",
       "      <td>0</td>\n",
       "      <td>42.697703</td>\n",
       "      <td>23.321736</td>\n",
       "      <td>12.8</td>\n",
       "      <td>69</td>\n",
       "      <td>4.7</td>\n",
       "      <td>11.4</td>\n",
       "    </tr>\n",
       "  </tbody>\n",
       "</table>\n",
       "<p>14111 rows × 77 columns</p>\n",
       "</div>"
      ]
     },
     "execution_count": 20,
     "metadata": {},
     "output_type": "execute_result"
    }
   ],
   "execution_count": 20
  },
  {
   "metadata": {
    "ExecuteTime": {
     "end_time": "2024-12-19T16:05:27.984563Z",
     "start_time": "2024-12-19T16:05:27.955172Z"
    }
   },
   "cell_type": "code",
   "source": "matches_with_weather[[\"match_id\", \"temperature_2m\", \"relative_humidity_2m\", \"windspeed_10m\", \"apparent_temperature\"]].to_csv(\"../../data/created_features_separate/weather.csv\", index=False)",
   "outputs": [],
   "execution_count": 22
  },
  {
   "metadata": {},
   "cell_type": "code",
   "outputs": [],
   "execution_count": null,
   "source": []
  }
 ],
 "metadata": {
  "kernelspec": {
   "display_name": "Python 3",
   "language": "python",
   "name": "python3"
  },
  "language_info": {
   "codemirror_mode": {
    "name": "ipython",
    "version": 3
   },
   "file_extension": ".py",
   "mimetype": "text/x-python",
   "name": "python",
   "nbconvert_exporter": "python",
   "pygments_lexer": "ipython3",
   "version": "3.10.0"
  }
 },
 "nbformat": 4,
 "nbformat_minor": 2
}
