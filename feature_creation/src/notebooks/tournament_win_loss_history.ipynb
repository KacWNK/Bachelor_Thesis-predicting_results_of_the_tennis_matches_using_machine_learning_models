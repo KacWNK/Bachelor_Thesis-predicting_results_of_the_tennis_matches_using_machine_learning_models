{
 "cells": [
  {
   "cell_type": "code",
   "id": "initial_id",
   "metadata": {
    "collapsed": true,
    "ExecuteTime": {
     "end_time": "2024-12-19T13:01:56.740714Z",
     "start_time": "2024-12-19T13:01:56.455465Z"
    }
   },
   "source": [
    "import pandas as pd"
   ],
   "outputs": [],
   "execution_count": 1
  },
  {
   "metadata": {
    "ExecuteTime": {
     "end_time": "2024-12-19T13:01:56.825038Z",
     "start_time": "2024-12-19T13:01:56.741713Z"
    }
   },
   "cell_type": "code",
   "source": [
    "matches = pd.read_csv(\"../../preprocessing/data/matches.csv\")\n",
    "matches = matches.sort_values(by='Date')"
   ],
   "id": "9135420c97a9d343",
   "outputs": [],
   "execution_count": 2
  },
  {
   "metadata": {
    "ExecuteTime": {
     "end_time": "2024-12-19T13:01:56.834165Z",
     "start_time": "2024-12-19T13:01:56.825561Z"
    }
   },
   "cell_type": "code",
   "source": [
    "matches['tournament_location'].value_counts()"
   ],
   "id": "70d5951d91c96cf2",
   "outputs": [
    {
     "data": {
      "text/plain": [
       "tournament_location\n",
       "New York        843\n",
       "Melbourne       762\n",
       "Paris           762\n",
       "London          635\n",
       "Indian Wells    475\n",
       "               ... \n",
       "Seoul            27\n",
       "Florence         27\n",
       "Gijon            27\n",
       "Naples           27\n",
       "Banja Luka       27\n",
       "Name: count, Length: 91, dtype: int64"
      ]
     },
     "execution_count": 3,
     "metadata": {},
     "output_type": "execute_result"
    }
   ],
   "execution_count": 3
  },
  {
   "metadata": {
    "ExecuteTime": {
     "end_time": "2024-12-19T13:01:57.932042Z",
     "start_time": "2024-12-19T13:01:56.834165Z"
    }
   },
   "cell_type": "code",
   "source": [
    "player_stats = {}\n",
    "\n",
    "for i, row in matches.iterrows():\n",
    "    tournament = row['tournament_location']\n",
    "    winner_id = row['winner_id']\n",
    "    loser_id = row['loser_id']\n",
    "    \n",
    "    # Initialize stats for this tournament if not already present\n",
    "    if tournament not in player_stats:\n",
    "        player_stats[tournament] = {}\n",
    "    \n",
    "    # Initialize player stats if not already present\n",
    "    if winner_id not in player_stats[tournament]:\n",
    "        player_stats[tournament][winner_id] = {'wins': 0, 'losses': 0}\n",
    "    if loser_id not in player_stats[tournament]:\n",
    "        player_stats[tournament][loser_id] = {'wins': 0, 'losses': 0}\n",
    "    \n",
    "    matches.at[i, 'winner_total_wins_tournament_history'] = player_stats[tournament][winner_id]['wins']\n",
    "    matches.at[i, 'winner_total_losses_tournament_history'] = player_stats[tournament][winner_id]['losses']\n",
    "    matches.at[i, 'loser_total_wins_tournament_history'] = player_stats[tournament][loser_id]['wins']\n",
    "    matches.at[i, 'loser_total_losses_tournament_history'] = player_stats[tournament][loser_id]['losses']\n",
    "    \n",
    "    # Update the stats after the current match\n",
    "    player_stats[tournament][winner_id]['wins'] += 1\n",
    "    player_stats[tournament][loser_id]['losses'] += 1"
   ],
   "id": "4366ac9645404d66",
   "outputs": [],
   "execution_count": 4
  },
  {
   "metadata": {
    "ExecuteTime": {
     "end_time": "2024-12-19T13:01:57.966061Z",
     "start_time": "2024-12-19T13:01:57.932562Z"
    }
   },
   "cell_type": "code",
   "source": [
    "matches[['match_id', 'winner_total_wins_tournament_history', 'winner_total_losses_tournament_history', \n",
    "         'loser_total_wins_tournament_history', 'loser_total_losses_tournament_history']].to_csv('../data/tournament_win_loss_history.csv', index=False)"
   ],
   "id": "f62d6e4738330503",
   "outputs": [],
   "execution_count": 5
  }
 ],
 "metadata": {
  "kernelspec": {
   "display_name": "Python 3",
   "language": "python",
   "name": "python3"
  },
  "language_info": {
   "codemirror_mode": {
    "name": "ipython",
    "version": 2
   },
   "file_extension": ".py",
   "mimetype": "text/x-python",
   "name": "python",
   "nbconvert_exporter": "python",
   "pygments_lexer": "ipython2",
   "version": "2.7.6"
  }
 },
 "nbformat": 4,
 "nbformat_minor": 5
}
