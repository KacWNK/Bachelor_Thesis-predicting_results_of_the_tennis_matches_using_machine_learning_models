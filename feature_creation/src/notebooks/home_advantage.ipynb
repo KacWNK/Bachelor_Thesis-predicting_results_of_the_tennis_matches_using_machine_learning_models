{
 "cells": [
  {
   "cell_type": "code",
   "id": "initial_id",
   "metadata": {
    "collapsed": true,
    "ExecuteTime": {
     "end_time": "2024-12-19T01:12:28.479894Z",
     "start_time": "2024-12-19T01:12:28.178532Z"
    }
   },
   "source": [
    "import pandas as pd"
   ],
   "outputs": [],
   "execution_count": 1
  },
  {
   "metadata": {
    "ExecuteTime": {
     "end_time": "2024-12-19T01:12:28.572073Z",
     "start_time": "2024-12-19T01:12:28.481042Z"
    }
   },
   "cell_type": "code",
   "source": [
    "matches = pd.read_csv(\"../../preprocessing/data/matches.csv\")\n",
    "matches = matches.sort_values(by='Date')"
   ],
   "id": "44a1f121742056e2",
   "outputs": [],
   "execution_count": 2
  },
  {
   "metadata": {
    "ExecuteTime": {
     "end_time": "2024-12-19T01:12:28.578110Z",
     "start_time": "2024-12-19T01:12:28.573069Z"
    }
   },
   "cell_type": "code",
   "source": [
    "locations_to_countries = {\n",
    "    'Adelaide 1': 'AUS',\n",
    "    'Pune': 'IND',\n",
    "    'Adelaide 2': 'AUS',\n",
    "    'Auckland': 'NZL',\n",
    "    'Melbourne': 'AUS',\n",
    "    'Cordoba': 'ARG',\n",
    "    'Dallas': 'USA',\n",
    "    'Montpellier': 'FRA',\n",
    "    'Buenos Aires': 'ARG',\n",
    "    'Delray Beach': 'USA',\n",
    "    'Rotterdam': 'NED',\n",
    "    'Doha': 'QAT',\n",
    "    'Marseille': 'FRA',\n",
    "    'Rio de Janeiro': 'BRA',\n",
    "    'Acapulco': 'MEX',\n",
    "    'Dubai': 'UAE',\n",
    "    'Santiago': 'CHI',\n",
    "    'Indian Wells': 'USA',\n",
    "    'Miami': 'USA',\n",
    "    'Estoril': 'POR',\n",
    "    'Houston': 'USA',\n",
    "    'Marrakech': 'MAR',\n",
    "    'Monte Carlo': 'MCO',\n",
    "    'Barcelona': 'ESP',\n",
    "    'Banja Luka': 'BIH',\n",
    "    'Munich': 'GER',\n",
    "    'Madrid': 'ESP',\n",
    "    'Rome': 'ITA',\n",
    "    'Geneva': 'SUI',\n",
    "    'Lyon': 'FRA',\n",
    "    'Paris': 'FRA',\n",
    "    \"'s-Hertogenbosch\": 'NED',\n",
    "    'Stuttgart': 'GER',\n",
    "    'Halle': 'GER',\n",
    "    'Queens Club': 'GBR',\n",
    "    'Eastbourne': 'GBR',\n",
    "    'Mallorca': 'ESP',\n",
    "    'London': 'GBR',\n",
    "    'Bastad': 'SWE',\n",
    "    'Gstaad': 'SUI',\n",
    "    'Newport': 'USA',\n",
    "    'Atlanta': 'USA',\n",
    "    'Hamburg': 'GER',\n",
    "    'Umag': 'CRO',\n",
    "    'Kitzbuhel': 'AUT',\n",
    "    'Los Cabos': 'MEX',\n",
    "    'Washington': 'USA',\n",
    "    'Toronto': 'CAN',\n",
    "    'Cincinnati': 'USA',\n",
    "    'Winston-Salem': 'USA',\n",
    "    'New York': 'USA',\n",
    "    'Chengdu': 'CHN',\n",
    "    'Zhuhai': 'CHN',\n",
    "    'Beijing': 'CHN',\n",
    "    'Nur-Sultan': 'KAZ',\n",
    "    'Shanghai': 'CHN',\n",
    "    'Antwerp': 'BEL',\n",
    "    'Stockholm': 'SWE',\n",
    "    'Tokyo': 'JPN',\n",
    "    'Basel': 'SUI',\n",
    "    'Gijon': 'ESP',\n",
    "    'Cologne 1': 'GER',\n",
    "    'Cologne 2': 'GER',\n",
    "    'Vienna': 'AUT',\n",
    "    'Sofia': 'BUL',\n",
    "    'Paris 2': 'FRA',\n",
    "    'Metz': 'FRA',\n",
    "    'Sydney': 'AUS',\n",
    "    'Belgrade': 'SRB',\n",
    "    'Montreal': 'CAN',\n",
    "    'San Diego': 'USA',\n",
    "    'Moscow': 'RUS',\n",
    "    'St. Petersburg': 'RUS',\n",
    "    'Seoul': 'KOR',\n",
    "    'Tel Aviv': 'ISR',\n",
    "    'Florence': 'ITA',\n",
    "    'Naples': 'ITA',\n",
    "    'Antalya': 'TUR',\n",
    "    'Singapore': 'SGP',\n",
    "    'Cagliari': 'ITA',\n",
    "    'Marbella': 'ESP',\n",
    "    'Belgrade 2': 'SRB',\n",
    "    'Parma': 'ITA',\n",
    "    'Adelaide': 'AUS',\n",
    "    'Sardinia': 'ITA',\n",
    "    'Brisbane': 'AUS',\n",
    "    'Sao Paulo': 'BRA',\n",
    "    'Budapest': 'HUN',\n",
    "    'Quito': 'ECU',\n",
    "    'Istanbul': 'TUR',\n",
    "    'Shenzhen': 'CHN'\n",
    "}"
   ],
   "id": "ba3cd4656bfd782f",
   "outputs": [],
   "execution_count": 3
  },
  {
   "metadata": {
    "ExecuteTime": {
     "end_time": "2024-12-19T01:12:28.582448Z",
     "start_time": "2024-12-19T01:12:28.578617Z"
    }
   },
   "cell_type": "code",
   "source": [
    "matches['tournament_country'] = matches['tournament_location'].map(locations_to_countries)"
   ],
   "id": "d92d326b5505e8db",
   "outputs": [],
   "execution_count": 4
  },
  {
   "metadata": {
    "ExecuteTime": {
     "end_time": "2024-12-19T01:12:28.588120Z",
     "start_time": "2024-12-19T01:12:28.582962Z"
    }
   },
   "cell_type": "code",
   "source": [
    "matches['winner_home'] = (matches['winner_ioc'] == matches['tournament_country'])\n",
    "matches['loser_home'] = (matches['loser_ioc'] == matches['tournament_country'])"
   ],
   "id": "6e17a9a9e794d0a5",
   "outputs": [],
   "execution_count": 5
  },
  {
   "metadata": {
    "ExecuteTime": {
     "end_time": "2024-12-19T01:12:28.606617Z",
     "start_time": "2024-12-19T01:12:28.588630Z"
    }
   },
   "cell_type": "code",
   "source": "matches[[\"match_id\", 'tournament_country', 'winner_home', 'loser_home']].to_csv(\"../../data/created_features_separate/home_advantage.csv\", index=False)",
   "id": "2bf2936ed81c2f35",
   "outputs": [],
   "execution_count": 6
  }
 ],
 "metadata": {
  "kernelspec": {
   "display_name": "Python 3",
   "language": "python",
   "name": "python3"
  },
  "language_info": {
   "codemirror_mode": {
    "name": "ipython",
    "version": 2
   },
   "file_extension": ".py",
   "mimetype": "text/x-python",
   "name": "python",
   "nbconvert_exporter": "python",
   "pygments_lexer": "ipython2",
   "version": "2.7.6"
  }
 },
 "nbformat": 4,
 "nbformat_minor": 5
}
