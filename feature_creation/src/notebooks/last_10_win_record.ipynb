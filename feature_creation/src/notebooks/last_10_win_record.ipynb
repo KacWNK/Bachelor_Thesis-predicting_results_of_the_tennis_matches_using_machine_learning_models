{
 "cells": [
  {
   "cell_type": "code",
   "id": "initial_id",
   "metadata": {
    "collapsed": true,
    "ExecuteTime": {
     "end_time": "2024-12-19T01:14:51.065737Z",
     "start_time": "2024-12-19T01:14:50.765783Z"
    }
   },
   "source": [
    "import pandas as pd"
   ],
   "outputs": [],
   "execution_count": 1
  },
  {
   "metadata": {
    "ExecuteTime": {
     "end_time": "2024-12-19T01:15:01.750510Z",
     "start_time": "2024-12-19T01:15:01.655073Z"
    }
   },
   "cell_type": "code",
   "source": [
    "matches = pd.read_csv(\"../../preprocessing/data/matches.csv\")\n",
    "matches = matches.sort_values(by='Date')"
   ],
   "id": "79b27ade111ac3a7",
   "outputs": [],
   "execution_count": 2
  },
  {
   "metadata": {
    "ExecuteTime": {
     "end_time": "2024-12-19T01:17:55.200787Z",
     "start_time": "2024-12-19T01:16:39.497544Z"
    }
   },
   "cell_type": "code",
   "source": [
    "import datetime\n",
    "\n",
    "def calculate_win_percentage_before_match(matches: pd.DataFrame, player_id: str, current_date: datetime, surface=None):\n",
    "    # Filter matches for the given player before the current date\n",
    "    player_matches = matches[((matches['winner_id'] == player_id) | (matches['loser_id'] == player_id)) & (matches['Date'] < current_date)]\n",
    "    \n",
    "    if surface:\n",
    "        player_matches = player_matches[player_matches['Surface'] == surface]\n",
    "    \n",
    "    player_matches = player_matches.sort_values(by='Date', ascending=False).head(10)\n",
    "    \n",
    "    total_matches = len(player_matches)\n",
    "    if total_matches == 0:\n",
    "        return 0.0\n",
    "    \n",
    "    wins = len(player_matches[player_matches['winner_id'] == player_id])\n",
    "    return wins / total_matches\n",
    "\n",
    "# Calculate win percentages\n",
    "matches['winner_win_pct_last_10'] = matches.apply(lambda row: calculate_win_percentage_before_match(matches, row['winner_id'], row['Date']),axis=1)\n",
    "matches['loser_win_pct_last_10'] = matches.apply(lambda row: calculate_win_percentage_before_match(matches, row['loser_id'], row['Date']),axis=1)\n",
    "matches['winner_win_pct_last_10_surface'] = matches.apply(lambda row: calculate_win_percentage_before_match(matches, row['winner_id'], row['Date'], row['Surface']),axis=1)\n",
    "matches['loser_win_pct_last_10_surface'] = matches.apply(lambda row: calculate_win_percentage_before_match(matches, row['loser_id'], row['Date'], row['Surface']),axis=1)"
   ],
   "id": "f5cccc2eda9063ca",
   "outputs": [],
   "execution_count": 3
  },
  {
   "metadata": {
    "ExecuteTime": {
     "end_time": "2024-12-19T01:18:24.612829Z",
     "start_time": "2024-12-19T01:18:24.597732Z"
    }
   },
   "cell_type": "code",
   "source": [
    "matches[['match_id', 'winner_name', 'loser_name', 'winner_win_pct_last_10', 'loser_win_pct_last_10', 'winner_win_pct_last_10_surface', 'loser_win_pct_last_10_surface']]"
   ],
   "id": "e01670cf78d1fd0b",
   "outputs": [
    {
     "data": {
      "text/plain": [
       "                          match_id           winner_name  \\\n",
       "11489  Brisbane_2018_105238_106043   Alexandr Dolgopolov   \n",
       "11490  Brisbane_2018_200282_105449        Alex De Minaur   \n",
       "11492  Brisbane_2018_105051_126207         Matthew Ebden   \n",
       "11491  Brisbane_2018_105992_104919         Ryan Harrison   \n",
       "11507      Pune_2018_106368_106148   Ramkumar Ramanathan   \n",
       "...                            ...                   ...   \n",
       "2682       Metz_2023_207686_105732  Alexander Shevchenko   \n",
       "2683       Metz_2023_200005_104926           Ugo Humbert   \n",
       "2684      Sofia_2023_207733_105526           Jack Draper   \n",
       "2686       Metz_2023_200005_207686           Ugo Humbert   \n",
       "2687      Sofia_2023_105173_207733      Adrian Mannarino   \n",
       "\n",
       "                    loser_name  winner_win_pct_last_10  loser_win_pct_last_10  \\\n",
       "11489        Diego Schwartzman                     0.0                    0.0   \n",
       "11490            Steve Johnson                     0.0                    0.0   \n",
       "11492           Frances Tiafoe                     0.0                    0.0   \n",
       "11491           Leonardo Mayer                     0.0                    0.0   \n",
       "11507  Roberto Carballes Baena                     0.0                    0.0   \n",
       "...                        ...                     ...                    ...   \n",
       "2682     Pierre Hugues Herbert                     0.6                    0.5   \n",
       "2683             Fabio Fognini                     0.7                    0.6   \n",
       "2684        Jan Lennard Struff                     0.7                    0.4   \n",
       "2686      Alexander Shevchenko                     0.7                    0.7   \n",
       "2687               Jack Draper                     0.6                    0.7   \n",
       "\n",
       "       winner_win_pct_last_10_surface  loser_win_pct_last_10_surface  \n",
       "11489                             0.0                            0.0  \n",
       "11490                             0.0                            0.0  \n",
       "11492                             0.0                            0.0  \n",
       "11491                             0.0                            0.0  \n",
       "11507                             0.0                            0.0  \n",
       "...                               ...                            ...  \n",
       "2682                              0.6                            0.5  \n",
       "2683                              0.7                            0.4  \n",
       "2684                              0.7                            0.4  \n",
       "2686                              0.7                            0.7  \n",
       "2687                              0.6                            0.7  \n",
       "\n",
       "[14111 rows x 7 columns]"
      ],
      "text/html": [
       "<div>\n",
       "<style scoped>\n",
       "    .dataframe tbody tr th:only-of-type {\n",
       "        vertical-align: middle;\n",
       "    }\n",
       "\n",
       "    .dataframe tbody tr th {\n",
       "        vertical-align: top;\n",
       "    }\n",
       "\n",
       "    .dataframe thead th {\n",
       "        text-align: right;\n",
       "    }\n",
       "</style>\n",
       "<table border=\"1\" class=\"dataframe\">\n",
       "  <thead>\n",
       "    <tr style=\"text-align: right;\">\n",
       "      <th></th>\n",
       "      <th>match_id</th>\n",
       "      <th>winner_name</th>\n",
       "      <th>loser_name</th>\n",
       "      <th>winner_win_pct_last_10</th>\n",
       "      <th>loser_win_pct_last_10</th>\n",
       "      <th>winner_win_pct_last_10_surface</th>\n",
       "      <th>loser_win_pct_last_10_surface</th>\n",
       "    </tr>\n",
       "  </thead>\n",
       "  <tbody>\n",
       "    <tr>\n",
       "      <th>11489</th>\n",
       "      <td>Brisbane_2018_105238_106043</td>\n",
       "      <td>Alexandr Dolgopolov</td>\n",
       "      <td>Diego Schwartzman</td>\n",
       "      <td>0.0</td>\n",
       "      <td>0.0</td>\n",
       "      <td>0.0</td>\n",
       "      <td>0.0</td>\n",
       "    </tr>\n",
       "    <tr>\n",
       "      <th>11490</th>\n",
       "      <td>Brisbane_2018_200282_105449</td>\n",
       "      <td>Alex De Minaur</td>\n",
       "      <td>Steve Johnson</td>\n",
       "      <td>0.0</td>\n",
       "      <td>0.0</td>\n",
       "      <td>0.0</td>\n",
       "      <td>0.0</td>\n",
       "    </tr>\n",
       "    <tr>\n",
       "      <th>11492</th>\n",
       "      <td>Brisbane_2018_105051_126207</td>\n",
       "      <td>Matthew Ebden</td>\n",
       "      <td>Frances Tiafoe</td>\n",
       "      <td>0.0</td>\n",
       "      <td>0.0</td>\n",
       "      <td>0.0</td>\n",
       "      <td>0.0</td>\n",
       "    </tr>\n",
       "    <tr>\n",
       "      <th>11491</th>\n",
       "      <td>Brisbane_2018_105992_104919</td>\n",
       "      <td>Ryan Harrison</td>\n",
       "      <td>Leonardo Mayer</td>\n",
       "      <td>0.0</td>\n",
       "      <td>0.0</td>\n",
       "      <td>0.0</td>\n",
       "      <td>0.0</td>\n",
       "    </tr>\n",
       "    <tr>\n",
       "      <th>11507</th>\n",
       "      <td>Pune_2018_106368_106148</td>\n",
       "      <td>Ramkumar Ramanathan</td>\n",
       "      <td>Roberto Carballes Baena</td>\n",
       "      <td>0.0</td>\n",
       "      <td>0.0</td>\n",
       "      <td>0.0</td>\n",
       "      <td>0.0</td>\n",
       "    </tr>\n",
       "    <tr>\n",
       "      <th>...</th>\n",
       "      <td>...</td>\n",
       "      <td>...</td>\n",
       "      <td>...</td>\n",
       "      <td>...</td>\n",
       "      <td>...</td>\n",
       "      <td>...</td>\n",
       "      <td>...</td>\n",
       "    </tr>\n",
       "    <tr>\n",
       "      <th>2682</th>\n",
       "      <td>Metz_2023_207686_105732</td>\n",
       "      <td>Alexander Shevchenko</td>\n",
       "      <td>Pierre Hugues Herbert</td>\n",
       "      <td>0.6</td>\n",
       "      <td>0.5</td>\n",
       "      <td>0.6</td>\n",
       "      <td>0.5</td>\n",
       "    </tr>\n",
       "    <tr>\n",
       "      <th>2683</th>\n",
       "      <td>Metz_2023_200005_104926</td>\n",
       "      <td>Ugo Humbert</td>\n",
       "      <td>Fabio Fognini</td>\n",
       "      <td>0.7</td>\n",
       "      <td>0.6</td>\n",
       "      <td>0.7</td>\n",
       "      <td>0.4</td>\n",
       "    </tr>\n",
       "    <tr>\n",
       "      <th>2684</th>\n",
       "      <td>Sofia_2023_207733_105526</td>\n",
       "      <td>Jack Draper</td>\n",
       "      <td>Jan Lennard Struff</td>\n",
       "      <td>0.7</td>\n",
       "      <td>0.4</td>\n",
       "      <td>0.7</td>\n",
       "      <td>0.4</td>\n",
       "    </tr>\n",
       "    <tr>\n",
       "      <th>2686</th>\n",
       "      <td>Metz_2023_200005_207686</td>\n",
       "      <td>Ugo Humbert</td>\n",
       "      <td>Alexander Shevchenko</td>\n",
       "      <td>0.7</td>\n",
       "      <td>0.7</td>\n",
       "      <td>0.7</td>\n",
       "      <td>0.7</td>\n",
       "    </tr>\n",
       "    <tr>\n",
       "      <th>2687</th>\n",
       "      <td>Sofia_2023_105173_207733</td>\n",
       "      <td>Adrian Mannarino</td>\n",
       "      <td>Jack Draper</td>\n",
       "      <td>0.6</td>\n",
       "      <td>0.7</td>\n",
       "      <td>0.6</td>\n",
       "      <td>0.7</td>\n",
       "    </tr>\n",
       "  </tbody>\n",
       "</table>\n",
       "<p>14111 rows × 7 columns</p>\n",
       "</div>"
      ]
     },
     "execution_count": 4,
     "metadata": {},
     "output_type": "execute_result"
    }
   ],
   "execution_count": 4
  },
  {
   "metadata": {
    "ExecuteTime": {
     "end_time": "2024-12-19T01:22:01.961502Z",
     "start_time": "2024-12-19T01:22:01.925673Z"
    }
   },
   "cell_type": "code",
   "source": [
    "matches[['match_id', 'winner_win_pct_last_10', 'loser_win_pct_last_10', 'winner_win_pct_last_10_surface', 'loser_win_pct_last_10_surface']].to_csv(\"../data/last_10_win_record.csv\", index=False)"
   ],
   "id": "f45fb298d8ccb113",
   "outputs": [],
   "execution_count": 5
  },
  {
   "metadata": {},
   "cell_type": "code",
   "outputs": [],
   "execution_count": null,
   "source": [],
   "id": "7345cc0ec7581f9"
  }
 ],
 "metadata": {
  "kernelspec": {
   "display_name": "Python 3",
   "language": "python",
   "name": "python3"
  },
  "language_info": {
   "codemirror_mode": {
    "name": "ipython",
    "version": 2
   },
   "file_extension": ".py",
   "mimetype": "text/x-python",
   "name": "python",
   "nbconvert_exporter": "python",
   "pygments_lexer": "ipython2",
   "version": "2.7.6"
  }
 },
 "nbformat": 4,
 "nbformat_minor": 5
}
