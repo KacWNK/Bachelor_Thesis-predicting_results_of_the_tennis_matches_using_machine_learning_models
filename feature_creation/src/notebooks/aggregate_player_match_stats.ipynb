{
 "cells": [
  {
   "cell_type": "code",
   "id": "initial_id",
   "metadata": {
    "collapsed": true,
    "ExecuteTime": {
     "end_time": "2025-01-02T14:15:37.643300Z",
     "start_time": "2025-01-02T14:15:37.357628Z"
    }
   },
   "source": [
    "import pandas as pd"
   ],
   "outputs": [],
   "execution_count": 1
  },
  {
   "metadata": {
    "ExecuteTime": {
     "end_time": "2025-01-02T14:15:37.721674Z",
     "start_time": "2025-01-02T14:15:37.644274Z"
    }
   },
   "cell_type": "code",
   "source": [
    "matches = pd.read_csv(\"../../preprocessing/data/matches.csv\")\n",
    "matches = matches.sort_values(by='Date')"
   ],
   "id": "a39d038f2dc8d1fe",
   "outputs": [],
   "execution_count": 2
  },
  {
   "metadata": {},
   "cell_type": "markdown",
   "source": [
    "### First we need to create necessary match statistics from present data"
   ],
   "id": "7bd4c8ef91318a05"
  },
  {
   "metadata": {
    "ExecuteTime": {
     "end_time": "2025-01-02T14:15:37.726661Z",
     "start_time": "2025-01-02T14:15:37.722649Z"
    }
   },
   "cell_type": "code",
   "source": [
    "matches['w_2ndIn'] = matches['w_svpt'] - matches['w_1stIn']-matches['w_df']\n",
    "matches['l_2ndIn'] = matches['l_svpt'] - matches['l_1stIn']-matches['l_df']"
   ],
   "id": "b2f8a9e5d3171367",
   "outputs": [],
   "execution_count": 3
  },
  {
   "metadata": {
    "ExecuteTime": {
     "end_time": "2025-01-02T14:15:37.733701Z",
     "start_time": "2025-01-02T14:15:37.727197Z"
    }
   },
   "cell_type": "code",
   "source": [
    "def calculate_1st_serve_in_percentage(row):\n",
    "    if pd.isna(row['w_svpt']) or pd.isna(row['w_1stIn']):\n",
    "        return None\n",
    "    if row['w_svpt'] > 0:\n",
    "        return row['w_1stIn'] / row['w_svpt']\n",
    "    return 0\n",
    "\n",
    "def calculate_1st_serve_win_percentage(row):\n",
    "    if pd.isna(row['w_1stIn']) or pd.isna(row['w_1stWon']):\n",
    "        return None\n",
    "    if row['w_1stIn'] > 0:\n",
    "        return row['w_1stWon'] / row['w_1stIn']\n",
    "    return 0\n",
    "\n",
    "def calculate_2nd_serve_in_percentage(row):\n",
    "    if pd.isna(row['w_svpt']) or pd.isna(row['w_2ndIn']):\n",
    "        return None\n",
    "    if row['w_svpt'] - row['w_1stIn'] > 0:\n",
    "        return row['w_2ndIn'] / (row['w_svpt'] - row['w_1stIn'])\n",
    "    return 0\n",
    "\n",
    "def calculate_2nd_serve_win_percentage(row):\n",
    "    if pd.isna(row['w_2ndIn']) or pd.isna(row['w_2ndWon']):\n",
    "        return None\n",
    "    if row['w_svpt'] - row['w_1stIn'] > 0:\n",
    "        return row['w_2ndWon'] / ( row['w_svpt'] - row['w_1stIn'])\n",
    "    return 0\n",
    "\n",
    "def calculate_service_games_won_percentage(row):\n",
    "    if pd.isna(row['w_SvGms']) or pd.isna(row['w_bpFaced']) or pd.isna(row['w_bpSaved']):\n",
    "        return None\n",
    "    if row['w_SvGms'] > 0:\n",
    "        return (row['w_SvGms'] - (row['w_bpFaced'] - row['w_bpSaved'])) / row['w_SvGms']\n",
    "    return 0\n",
    "    \n",
    "\n",
    "def calculate_1st_serve_in_percentage_loser(row):\n",
    "    if pd.isna(row['l_svpt']) or pd.isna(row['l_1stIn']):\n",
    "        return None\n",
    "    if row['l_svpt'] > 0:\n",
    "        return row['l_1stIn'] / row['l_svpt']\n",
    "    return 0\n",
    "\n",
    "def calculate_1st_serve_win_percentage_loser(row):\n",
    "    if pd.isna(row['l_1stIn']) or pd.isna(row['l_1stWon']):\n",
    "        return None\n",
    "    if row['l_1stIn'] > 0:\n",
    "        return row['l_1stWon'] / row['l_1stIn']\n",
    "    return 0\n",
    "\n",
    "def calculate_2nd_serve_in_percentage_loser(row):\n",
    "    if pd.isna(row['l_svpt']) or pd.isna(row['l_1stIn']) or pd.isna(row['l_2ndIn']):\n",
    "        return None\n",
    "    if row['l_svpt'] - row['l_1stIn'] > 0:\n",
    "        return row['l_2ndIn'] / (row['l_svpt'] - row['l_1stIn'])\n",
    "    return 0\n",
    "\n",
    "def calculate_2nd_serve_win_percentage_loser(row):\n",
    "    if pd.isna(row['l_2ndIn']) or pd.isna(row['l_2ndWon']):\n",
    "        return None\n",
    "    if row['l_svpt'] - row['l_1stIn'] > 0:\n",
    "        return row['l_2ndWon'] / (row['l_svpt'] - row['l_1stIn'])\n",
    "    return 0\n",
    "\n",
    "def calculate_service_games_won_percentage_loser(row):\n",
    "    if pd.isna(row['l_SvGms']) or pd.isna(row['l_bpFaced']) or pd.isna(row['l_bpSaved']):\n",
    "        return None\n",
    "    if row['l_SvGms'] > 0:\n",
    "        return (row['l_SvGms'] - (row['l_bpFaced'] - row['l_bpSaved'])) / row['l_SvGms']\n",
    "    return 0"
   ],
   "id": "29f84d1823ae6e4a",
   "outputs": [],
   "execution_count": 4
  },
  {
   "metadata": {
    "ExecuteTime": {
     "end_time": "2025-01-02T14:15:39.274529Z",
     "start_time": "2025-01-02T14:15:37.734702Z"
    }
   },
   "cell_type": "code",
   "source": [
    "matches['winner_1st_serve_in_pct'] = matches.apply(calculate_1st_serve_in_percentage, axis=1)\n",
    "matches['winner_1st_serve_win_pct'] = matches.apply(calculate_1st_serve_win_percentage, axis=1)\n",
    "matches['winner_2nd_serve_in_pct'] = matches.apply(calculate_2nd_serve_in_percentage, axis=1)\n",
    "matches['winner_2nd_serve_win_pct'] = matches.apply(calculate_2nd_serve_win_percentage, axis=1)\n",
    "matches['winner_service_games_won_pct'] = matches.apply(calculate_service_games_won_percentage, axis=1)\n",
    "matches['loser_1st_serve_in_pct'] = matches.apply(calculate_1st_serve_in_percentage_loser, axis=1)\n",
    "matches['loser_1st_serve_win_pct'] = matches.apply(calculate_1st_serve_win_percentage_loser, axis=1)\n",
    "matches['loser_2nd_serve_in_pct'] = matches.apply(calculate_2nd_serve_in_percentage_loser, axis=1)\n",
    "matches['loser_2nd_serve_win_pct'] = matches.apply(calculate_2nd_serve_win_percentage_loser, axis=1)\n",
    "matches['loser_service_games_won_pct'] = matches.apply(calculate_service_games_won_percentage_loser, axis=1)"
   ],
   "id": "72f340f4cb19a473",
   "outputs": [],
   "execution_count": 5
  },
  {
   "metadata": {
    "ExecuteTime": {
     "end_time": "2025-01-02T14:15:39.279597Z",
     "start_time": "2025-01-02T14:15:39.275532Z"
    }
   },
   "cell_type": "code",
   "source": [
    "def calculate_1st_serve_return_win_percentage(row):\n",
    "    if pd.isna(row['loser_1st_serve_win_pct']):\n",
    "        return None\n",
    "    return 1 - row['loser_1st_serve_win_pct']\n",
    "\n",
    "def calculate_2nd_serve_return_win_percentage(row):\n",
    "    if pd.isna(row['loser_2nd_serve_win_pct']):\n",
    "        return None\n",
    "    return 1 - row['loser_2nd_serve_win_pct']\n",
    "\n",
    "def calculate_return_games_win_percentage(row):\n",
    "    if pd.isna(row['loser_service_games_won_pct']):\n",
    "        return None\n",
    "    return 1 - row['loser_service_games_won_pct']\n",
    "\n",
    "def calculate_1st_serve_return_win_percentage_loser(row):\n",
    "    if pd.isna(row['winner_1st_serve_win_pct']):\n",
    "        return None\n",
    "    return 1 - row['winner_1st_serve_win_pct']\n",
    "\n",
    "def calculate_2nd_serve_return_win_percentage_loser(row):\n",
    "    if pd.isna(row['winner_2nd_serve_win_pct']):\n",
    "        return None\n",
    "    return 1 - row['winner_2nd_serve_win_pct']\n",
    "\n",
    "def calculate_return_games_win_percentage_loser(row):\n",
    "    if pd.isna(row['winner_service_games_won_pct']):\n",
    "        return None\n",
    "    return 1 - row['winner_service_games_won_pct']"
   ],
   "id": "79af71df20fd8bb",
   "outputs": [],
   "execution_count": 6
  },
  {
   "metadata": {
    "ExecuteTime": {
     "end_time": "2025-01-02T14:15:39.770035Z",
     "start_time": "2025-01-02T14:15:39.279597Z"
    }
   },
   "cell_type": "code",
   "source": [
    "matches['winner_1st_serve_return_win_pct'] = matches.apply(calculate_1st_serve_return_win_percentage, axis=1)\n",
    "matches['winner_2nd_serve_return_win_pct'] = matches.apply(calculate_2nd_serve_return_win_percentage, axis=1)\n",
    "matches['winner_return_games_win_pct'] = matches.apply(calculate_return_games_win_percentage, axis=1)\n",
    "matches['loser_1st_serve_return_win_pct'] = matches.apply(calculate_1st_serve_return_win_percentage_loser, axis=1)\n",
    "matches['loser_2nd_serve_return_win_pct'] = matches.apply(calculate_2nd_serve_return_win_percentage_loser, axis=1)\n",
    "matches['loser_return_games_win_pct'] = matches.apply(calculate_return_games_win_percentage_loser, axis=1)"
   ],
   "id": "cd1f9236507c4b34",
   "outputs": [],
   "execution_count": 7
  },
  {
   "metadata": {
    "ExecuteTime": {
     "end_time": "2025-01-02T14:15:39.775536Z",
     "start_time": "2025-01-02T14:15:39.771011Z"
    }
   },
   "cell_type": "code",
   "source": [
    "def calculate_percentage_of_break_points_won_on_opponents_serve(row):\n",
    "    if pd.isna(row['l_bpFaced']) or pd.isna(row['l_bpSaved']):\n",
    "        return None\n",
    "    if row['l_bpFaced'] > 0:\n",
    "        return (row['l_bpFaced'] - row['l_bpSaved']) / row['l_bpFaced']\n",
    "    return 0\n",
    "\n",
    "def calculate_percentage_of_break_points_won_on_opponents_serve_loser(row):\n",
    "    if pd.isna(row['w_bpFaced']) or pd.isna(row['w_bpSaved']):\n",
    "        return None\n",
    "    if row['w_bpFaced'] > 0:\n",
    "        return (row['w_bpFaced'] - row['w_bpSaved']) / row['w_bpFaced']\n",
    "    return 0\n",
    "\n",
    "def calculate_percentage_of_break_points_saved(row):\n",
    "    if pd.isna(row['w_bpFaced']) or pd.isna(row['w_bpSaved']):\n",
    "        return None\n",
    "    if row['w_bpFaced'] > 0:\n",
    "        return row['w_bpSaved'] / row['w_bpFaced']\n",
    "    return 0\n",
    "\n",
    "def calculate_percentage_of_break_points_saved_loser(row):\n",
    "    if pd.isna(row['l_bpFaced']) or pd.isna(row['l_bpSaved']):\n",
    "        return None\n",
    "    if row['l_bpFaced'] > 0:\n",
    "        return row['l_bpSaved'] / row['l_bpFaced']\n",
    "    return 0"
   ],
   "id": "c0049caa58cde1f0",
   "outputs": [],
   "execution_count": 8
  },
  {
   "metadata": {
    "ExecuteTime": {
     "end_time": "2025-01-02T14:15:40.318219Z",
     "start_time": "2025-01-02T14:15:39.775536Z"
    }
   },
   "cell_type": "code",
   "source": [
    "matches['winner_bp_won_pct'] = matches.apply(calculate_percentage_of_break_points_won_on_opponents_serve, axis=1)\n",
    "matches['loser_bp_won_pct'] = matches.apply(calculate_percentage_of_break_points_won_on_opponents_serve_loser, axis=1)\n",
    "matches['winner_bp_saved_pct'] = matches.apply(calculate_percentage_of_break_points_saved, axis=1)\n",
    "matches['loser_bp_saved_pct'] = matches.apply(calculate_percentage_of_break_points_saved_loser, axis=1)"
   ],
   "id": "745ed32aca8c48c0",
   "outputs": [],
   "execution_count": 9
  },
  {
   "metadata": {},
   "cell_type": "markdown",
   "source": [
    "### Surface weighting"
   ],
   "id": "7f72c687bbac1947"
  },
  {
   "metadata": {
    "ExecuteTime": {
     "end_time": "2025-01-02T14:15:40.516669Z",
     "start_time": "2025-01-02T14:15:40.511430Z"
    }
   },
   "cell_type": "code",
   "source": [
    "def calculate_surface_weights_kl(data, stat_cols, surface_col, bins=20, handle_nans='fill'):\n",
    "    import numpy as np\n",
    "    import pandas as pd\n",
    "    from scipy.stats import entropy\n",
    "    \n",
    "    weights_dict = {}\n",
    "    surfaces = data[surface_col].unique()\n",
    "    winner_cols = [col for col in stat_cols if col.startswith('w')]\n",
    "    loser_cols = [col for col in stat_cols if col.startswith('l')]\n",
    "\n",
    "    for winner_col, loser_col in zip(winner_cols, loser_cols):\n",
    "        if handle_nans == 'fill':\n",
    "            data[winner_col] = data[winner_col].fillna(data[winner_col].mean())\n",
    "            data[loser_col] = data[loser_col].fillna(data[loser_col].mean())\n",
    "        elif handle_nans == 'skip':\n",
    "            data = data.dropna(subset=[winner_col, loser_col])\n",
    "\n",
    "        weights = pd.DataFrame(0.0, index=surfaces, columns=surfaces)\n",
    "\n",
    "        for s1 in surfaces:\n",
    "            for s2 in surfaces:\n",
    "                p_data = np.concatenate([\n",
    "                    data[data[surface_col] == s1][winner_col].values,\n",
    "                    data[data[surface_col] == s1][loser_col].values\n",
    "                ])\n",
    "                q_data = np.concatenate([\n",
    "                    data[data[surface_col] == s2][winner_col].values,\n",
    "                    data[data[surface_col] == s2][loser_col].values\n",
    "                ])\n",
    "\n",
    "                p_hist, bin_edges = np.histogram(p_data, bins=bins, density=True)\n",
    "                q_hist, _ = np.histogram(q_data, bins=bin_edges, density=True)\n",
    "\n",
    "                p_hist = p_hist + 1e-9\n",
    "                q_hist = q_hist + 1e-9\n",
    "\n",
    "                p_hist /= p_hist.sum()\n",
    "                q_hist /= q_hist.sum()\n",
    "\n",
    "                kl_div = entropy(p_hist, q_hist)\n",
    "                weights.loc[s1, s2] = 1 / (1 + kl_div)\n",
    "\n",
    "        weights_dict[winner_col] = weights\n",
    "        weights_dict[loser_col] = weights\n",
    "\n",
    "    return weights_dict\n"
   ],
   "id": "af9877d3d93c1d00",
   "outputs": [],
   "execution_count": 11
  },
  {
   "metadata": {
    "ExecuteTime": {
     "end_time": "2025-01-02T14:15:42.032070Z",
     "start_time": "2025-01-02T14:15:40.517204Z"
    }
   },
   "cell_type": "code",
   "source": [
    "weights_dict = calculate_surface_weights_kl(matches, ['w_ace', 'l_ace', 'w_df', 'l_df', 'w_2ndIn', 'l_2ndIn',  'winner_1st_serve_in_pct',\n",
    " 'winner_1st_serve_win_pct',\n",
    " 'winner_2nd_serve_in_pct',\n",
    " 'winner_2nd_serve_win_pct',\n",
    " 'winner_service_games_won_pct',\n",
    " 'loser_1st_serve_in_pct',\n",
    " 'loser_1st_serve_win_pct',\n",
    " 'loser_2nd_serve_in_pct',\n",
    " 'loser_2nd_serve_win_pct',\n",
    " 'loser_service_games_won_pct',\n",
    " 'winner_1st_serve_return_win_pct',\n",
    " 'winner_2nd_serve_return_win_pct',\n",
    " 'winner_return_games_win_pct',\n",
    " 'loser_1st_serve_return_win_pct',\n",
    " 'loser_2nd_serve_return_win_pct',\n",
    " 'loser_return_games_win_pct',\n",
    " 'winner_bp_won_pct',\n",
    " 'loser_bp_won_pct',\n",
    " 'winner_bp_saved_pct',\n",
    " 'loser_bp_saved_pct'], 'Surface', bins=20)"
   ],
   "id": "24c439c3f0ec33ae",
   "outputs": [],
   "execution_count": 12
  },
  {
   "metadata": {
    "ExecuteTime": {
     "end_time": "2025-01-02T14:15:42.041597Z",
     "start_time": "2025-01-02T14:15:42.032613Z"
    }
   },
   "cell_type": "code",
   "source": [
    "weights_dict['w_ace']"
   ],
   "id": "363330a650622b4d",
   "outputs": [
    {
     "data": {
      "text/plain": [
       "           Hard      Clay     Grass\n",
       "Hard   1.000000  0.833489  0.964563\n",
       "Clay   0.851985  1.000000  0.734754\n",
       "Grass  0.958417  0.703039  1.000000"
      ],
      "text/html": [
       "<div>\n",
       "<style scoped>\n",
       "    .dataframe tbody tr th:only-of-type {\n",
       "        vertical-align: middle;\n",
       "    }\n",
       "\n",
       "    .dataframe tbody tr th {\n",
       "        vertical-align: top;\n",
       "    }\n",
       "\n",
       "    .dataframe thead th {\n",
       "        text-align: right;\n",
       "    }\n",
       "</style>\n",
       "<table border=\"1\" class=\"dataframe\">\n",
       "  <thead>\n",
       "    <tr style=\"text-align: right;\">\n",
       "      <th></th>\n",
       "      <th>Hard</th>\n",
       "      <th>Clay</th>\n",
       "      <th>Grass</th>\n",
       "    </tr>\n",
       "  </thead>\n",
       "  <tbody>\n",
       "    <tr>\n",
       "      <th>Hard</th>\n",
       "      <td>1.000000</td>\n",
       "      <td>0.833489</td>\n",
       "      <td>0.964563</td>\n",
       "    </tr>\n",
       "    <tr>\n",
       "      <th>Clay</th>\n",
       "      <td>0.851985</td>\n",
       "      <td>1.000000</td>\n",
       "      <td>0.734754</td>\n",
       "    </tr>\n",
       "    <tr>\n",
       "      <th>Grass</th>\n",
       "      <td>0.958417</td>\n",
       "      <td>0.703039</td>\n",
       "      <td>1.000000</td>\n",
       "    </tr>\n",
       "  </tbody>\n",
       "</table>\n",
       "</div>"
      ]
     },
     "execution_count": 13,
     "metadata": {},
     "output_type": "execute_result"
    }
   ],
   "execution_count": 13
  },
  {
   "metadata": {
    "ExecuteTime": {
     "end_time": "2025-01-02T14:15:42.046526Z",
     "start_time": "2025-01-02T14:15:42.043155Z"
    }
   },
   "cell_type": "code",
   "source": [
    "from scipy.stats import f_oneway\n",
    "\n",
    "def anova_test_all_stats(data, stats_cols, surface_col):\n",
    "    results = {}\n",
    "    for stat_col in stats_cols:\n",
    "        groups = [data.loc[data[surface_col] == surface, stat_col] for surface in data[surface_col].unique()]\n",
    "        \n",
    "        anova_p = f_oneway(*groups).pvalue\n",
    "        results[stat_col] = anova_p\n",
    "    \n",
    "    return pd.DataFrame.from_dict(results, orient='index', columns=['p_value']).sort_values(by='p_value')"
   ],
   "id": "2be2e8ffd34d783",
   "outputs": [],
   "execution_count": 14
  },
  {
   "metadata": {
    "ExecuteTime": {
     "end_time": "2025-01-02T14:15:42.128077Z",
     "start_time": "2025-01-02T14:15:42.046544Z"
    }
   },
   "cell_type": "code",
   "source": [
    "anova_results = anova_test_all_stats(matches, ['w_ace', 'l_ace', 'w_df', 'l_df', 'w_2ndIn', 'l_2ndIn',  'winner_1st_serve_in_pct',\n",
    " 'winner_1st_serve_win_pct',\n",
    " 'winner_2nd_serve_in_pct',\n",
    " 'winner_2nd_serve_win_pct',\n",
    " 'winner_service_games_won_pct',\n",
    " 'loser_1st_serve_in_pct',\n",
    " 'loser_1st_serve_win_pct',\n",
    " 'loser_2nd_serve_in_pct',\n",
    " 'loser_2nd_serve_win_pct',\n",
    " 'loser_service_games_won_pct',\n",
    " 'winner_1st_serve_return_win_pct',\n",
    " 'winner_2nd_serve_return_win_pct',\n",
    " 'winner_return_games_win_pct',\n",
    " 'loser_1st_serve_return_win_pct',\n",
    " 'loser_2nd_serve_return_win_pct',\n",
    " 'loser_return_games_win_pct',\n",
    " 'winner_bp_won_pct',\n",
    " 'loser_bp_won_pct',\n",
    " 'winner_bp_saved_pct',\n",
    " 'loser_bp_saved_pct'], 'Surface')"
   ],
   "id": "b69fb503c90b0655",
   "outputs": [],
   "execution_count": 15
  },
  {
   "metadata": {
    "ExecuteTime": {
     "end_time": "2025-01-02T14:15:42.134971Z",
     "start_time": "2025-01-02T14:15:42.128653Z"
    }
   },
   "cell_type": "code",
   "source": [
    "anova_results"
   ],
   "id": "8539eafbec2f5d7d",
   "outputs": [
    {
     "data": {
      "text/plain": [
       "                                       p_value\n",
       "w_ace                            3.735271e-283\n",
       "l_ace                            8.941915e-191\n",
       "winner_1st_serve_win_pct         4.700843e-171\n",
       "loser_1st_serve_return_win_pct   4.700843e-171\n",
       "winner_1st_serve_return_win_pct  2.396935e-152\n",
       "loser_1st_serve_win_pct          2.396935e-152\n",
       "loser_service_games_won_pct      7.466520e-117\n",
       "winner_return_games_win_pct      7.466520e-117\n",
       "loser_return_games_win_pct        7.854912e-98\n",
       "winner_service_games_won_pct      7.854912e-98\n",
       "w_df                              2.495795e-32\n",
       "l_df                              4.998005e-26\n",
       "l_2ndIn                           1.890460e-20\n",
       "loser_bp_won_pct                  3.937763e-17\n",
       "winner_2nd_serve_in_pct           7.103658e-17\n",
       "w_2ndIn                           1.233405e-15\n",
       "loser_2nd_serve_win_pct           1.802117e-12\n",
       "winner_2nd_serve_return_win_pct   1.802117e-12\n",
       "winner_bp_won_pct                 3.301907e-10\n",
       "loser_1st_serve_in_pct            4.597928e-09\n",
       "loser_bp_saved_pct                5.169125e-09\n",
       "loser_2nd_serve_in_pct            2.014669e-07\n",
       "winner_1st_serve_in_pct           1.127346e-05\n",
       "winner_bp_saved_pct               1.398776e-04\n",
       "winner_2nd_serve_win_pct          1.002007e-02\n",
       "loser_2nd_serve_return_win_pct    1.002007e-02"
      ],
      "text/html": [
       "<div>\n",
       "<style scoped>\n",
       "    .dataframe tbody tr th:only-of-type {\n",
       "        vertical-align: middle;\n",
       "    }\n",
       "\n",
       "    .dataframe tbody tr th {\n",
       "        vertical-align: top;\n",
       "    }\n",
       "\n",
       "    .dataframe thead th {\n",
       "        text-align: right;\n",
       "    }\n",
       "</style>\n",
       "<table border=\"1\" class=\"dataframe\">\n",
       "  <thead>\n",
       "    <tr style=\"text-align: right;\">\n",
       "      <th></th>\n",
       "      <th>p_value</th>\n",
       "    </tr>\n",
       "  </thead>\n",
       "  <tbody>\n",
       "    <tr>\n",
       "      <th>w_ace</th>\n",
       "      <td>3.735271e-283</td>\n",
       "    </tr>\n",
       "    <tr>\n",
       "      <th>l_ace</th>\n",
       "      <td>8.941915e-191</td>\n",
       "    </tr>\n",
       "    <tr>\n",
       "      <th>winner_1st_serve_win_pct</th>\n",
       "      <td>4.700843e-171</td>\n",
       "    </tr>\n",
       "    <tr>\n",
       "      <th>loser_1st_serve_return_win_pct</th>\n",
       "      <td>4.700843e-171</td>\n",
       "    </tr>\n",
       "    <tr>\n",
       "      <th>winner_1st_serve_return_win_pct</th>\n",
       "      <td>2.396935e-152</td>\n",
       "    </tr>\n",
       "    <tr>\n",
       "      <th>loser_1st_serve_win_pct</th>\n",
       "      <td>2.396935e-152</td>\n",
       "    </tr>\n",
       "    <tr>\n",
       "      <th>loser_service_games_won_pct</th>\n",
       "      <td>7.466520e-117</td>\n",
       "    </tr>\n",
       "    <tr>\n",
       "      <th>winner_return_games_win_pct</th>\n",
       "      <td>7.466520e-117</td>\n",
       "    </tr>\n",
       "    <tr>\n",
       "      <th>loser_return_games_win_pct</th>\n",
       "      <td>7.854912e-98</td>\n",
       "    </tr>\n",
       "    <tr>\n",
       "      <th>winner_service_games_won_pct</th>\n",
       "      <td>7.854912e-98</td>\n",
       "    </tr>\n",
       "    <tr>\n",
       "      <th>w_df</th>\n",
       "      <td>2.495795e-32</td>\n",
       "    </tr>\n",
       "    <tr>\n",
       "      <th>l_df</th>\n",
       "      <td>4.998005e-26</td>\n",
       "    </tr>\n",
       "    <tr>\n",
       "      <th>l_2ndIn</th>\n",
       "      <td>1.890460e-20</td>\n",
       "    </tr>\n",
       "    <tr>\n",
       "      <th>loser_bp_won_pct</th>\n",
       "      <td>3.937763e-17</td>\n",
       "    </tr>\n",
       "    <tr>\n",
       "      <th>winner_2nd_serve_in_pct</th>\n",
       "      <td>7.103658e-17</td>\n",
       "    </tr>\n",
       "    <tr>\n",
       "      <th>w_2ndIn</th>\n",
       "      <td>1.233405e-15</td>\n",
       "    </tr>\n",
       "    <tr>\n",
       "      <th>loser_2nd_serve_win_pct</th>\n",
       "      <td>1.802117e-12</td>\n",
       "    </tr>\n",
       "    <tr>\n",
       "      <th>winner_2nd_serve_return_win_pct</th>\n",
       "      <td>1.802117e-12</td>\n",
       "    </tr>\n",
       "    <tr>\n",
       "      <th>winner_bp_won_pct</th>\n",
       "      <td>3.301907e-10</td>\n",
       "    </tr>\n",
       "    <tr>\n",
       "      <th>loser_1st_serve_in_pct</th>\n",
       "      <td>4.597928e-09</td>\n",
       "    </tr>\n",
       "    <tr>\n",
       "      <th>loser_bp_saved_pct</th>\n",
       "      <td>5.169125e-09</td>\n",
       "    </tr>\n",
       "    <tr>\n",
       "      <th>loser_2nd_serve_in_pct</th>\n",
       "      <td>2.014669e-07</td>\n",
       "    </tr>\n",
       "    <tr>\n",
       "      <th>winner_1st_serve_in_pct</th>\n",
       "      <td>1.127346e-05</td>\n",
       "    </tr>\n",
       "    <tr>\n",
       "      <th>winner_bp_saved_pct</th>\n",
       "      <td>1.398776e-04</td>\n",
       "    </tr>\n",
       "    <tr>\n",
       "      <th>winner_2nd_serve_win_pct</th>\n",
       "      <td>1.002007e-02</td>\n",
       "    </tr>\n",
       "    <tr>\n",
       "      <th>loser_2nd_serve_return_win_pct</th>\n",
       "      <td>1.002007e-02</td>\n",
       "    </tr>\n",
       "  </tbody>\n",
       "</table>\n",
       "</div>"
      ]
     },
     "execution_count": 16,
     "metadata": {},
     "output_type": "execute_result"
    }
   ],
   "execution_count": 16
  },
  {
   "metadata": {
    "ExecuteTime": {
     "end_time": "2025-01-02T14:15:42.141699Z",
     "start_time": "2025-01-02T14:15:42.135970Z"
    }
   },
   "cell_type": "code",
   "source": [
    "matches['Date'] = pd.to_datetime(matches['Date'], errors='coerce')"
   ],
   "id": "3484f86226a4bd2f",
   "outputs": [],
   "execution_count": 17
  },
  {
   "metadata": {
    "ExecuteTime": {
     "end_time": "2025-01-02T14:15:42.145696Z",
     "start_time": "2025-01-02T14:15:42.141719Z"
    }
   },
   "cell_type": "code",
   "source": [
    "def number_of_common_opponent_matches(row, df):\n",
    "    player_a = row['winner_id']\n",
    "    player_b = row['loser_id']\n",
    "    current_date = row['Date']\n",
    "    \n",
    "    df = df[df['Date'] < current_date]\n",
    "    \n",
    "    player_a_opponents = set(df[(df['winner_id'] == player_a)]['loser_id']).union(\n",
    "                         set(df[(df['loser_id'] == player_a)]['winner_id']))\n",
    "    player_b_opponents = set(df[(df['winner_id'] == player_b)]['loser_id']).union(\n",
    "                         set(df[(df['loser_id'] == player_b)]['winner_id']))\n",
    "\n",
    "    common_opponents = player_a_opponents.intersection(player_b_opponents)\n",
    "    return len(common_opponents)"
   ],
   "id": "a81db3270e706c96",
   "outputs": [],
   "execution_count": 18
  },
  {
   "metadata": {
    "ExecuteTime": {
     "end_time": "2025-01-02T14:16:42.365929Z",
     "start_time": "2025-01-02T14:15:42.145696Z"
    }
   },
   "cell_type": "code",
   "source": [
    "matches[['num_CO_matches']] = matches.apply(\n",
    "    lambda row: pd.Series(number_of_common_opponent_matches(row, matches)), axis=1\n",
    ")"
   ],
   "id": "73acea9a50114fa9",
   "outputs": [],
   "execution_count": 19
  },
  {
   "metadata": {
    "ExecuteTime": {
     "end_time": "2025-01-02T14:16:42.375855Z",
     "start_time": "2025-01-02T14:16:42.366909Z"
    }
   },
   "cell_type": "code",
   "source": [
    "import numpy as np\n",
    "import pandas as pd\n",
    "\n",
    "\n",
    "def calculate_weighted_mean(values, times, surface_weights, decay_rate=0.3):\n",
    "    if len(values) == 0 or len(times) == 0:\n",
    "        return 0.0\n",
    "    time_weights = np.exp(-decay_rate * times)\n",
    "    combined_weights = surface_weights * time_weights\n",
    "    return np.sum(combined_weights * values) / np.sum(combined_weights)\n",
    "\n",
    "\n",
    "def calculate_uncertainty_from_weights(values, times, surface_weights, decay_rate=0.3):\n",
    "    if len(values) == 0 or len(times) == 0:\n",
    "        return 1.0\n",
    "\n",
    "    time_weights = np.exp(-decay_rate * times)\n",
    "    combined_weights = surface_weights * time_weights\n",
    "\n",
    "    total_weight = np.sum(combined_weights)\n",
    "\n",
    "    uncertainty = 1 / total_weight if total_weight > 0 else 1.0\n",
    "\n",
    "    return uncertainty\n",
    "\n",
    "\n",
    "def calculate_stats_with_uncertainty(row, df, weights_dict, winner_col, loser_col, surface_col, time_decay=0.3, is_co=False):\n",
    "    player_a = row['winner_id']\n",
    "    player_b = row['loser_id']\n",
    "    current_date = row['Date']\n",
    "    current_surface = row[surface_col]\n",
    "    \n",
    "    past_matches = df[df['Date'] < current_date].copy()\n",
    "    if is_co:\n",
    "        player_a_opponents = set(past_matches[past_matches['winner_id'] == player_a]['loser_id']).union(\n",
    "            past_matches[past_matches['loser_id'] == player_a]['winner_id']\n",
    "        )\n",
    "        player_b_opponents = set(past_matches[past_matches['winner_id'] == player_b]['loser_id']).union(\n",
    "            past_matches[past_matches['loser_id'] == player_b]['winner_id']\n",
    "        )\n",
    "        common_opponents = player_a_opponents.intersection(player_b_opponents)\n",
    "        past_matches = past_matches[\n",
    "            (\n",
    "                (past_matches['winner_id'].isin(common_opponents)) | (past_matches['loser_id'].isin(common_opponents))\n",
    "            )\n",
    "        ]\n",
    "\n",
    "    past_matches['time_since_match'] = (current_date - past_matches['Date']).dt.days / 365.0\n",
    "\n",
    "    player_a_matches = past_matches[\n",
    "        (past_matches['winner_id'] == player_a) | (past_matches['loser_id'] == player_a)\n",
    "    ]\n",
    "    player_a_stats = player_a_matches[winner_col].combine_first(player_a_matches[loser_col]).fillna(0)\n",
    "    player_a_times = player_a_matches['time_since_match']\n",
    "\n",
    "    player_b_matches = past_matches[\n",
    "        (past_matches['winner_id'] == player_b) | (past_matches['loser_id'] == player_b)\n",
    "    ]\n",
    "    player_b_stats = player_b_matches[winner_col].combine_first(player_b_matches[loser_col]).fillna(0)\n",
    "    player_b_times = player_b_matches['time_since_match']\n",
    "\n",
    "    player_a_surfaces = player_a_matches[surface_col].values\n",
    "    player_a_surface_weights = np.array([\n",
    "        weights_dict[winner_col].loc[current_surface, surface] for surface in player_a_surfaces\n",
    "    ])\n",
    "    player_b_surfaces = player_b_matches[surface_col].values\n",
    "    player_b_surface_weights = np.array([\n",
    "        weights_dict[winner_col].loc[current_surface, surface] for surface in player_b_surfaces\n",
    "    ])\n",
    "    \n",
    "    player_a_mean = calculate_weighted_mean(\n",
    "        player_a_stats.values, player_a_times.values, player_a_surface_weights, time_decay\n",
    "    )\n",
    "    player_b_mean = calculate_weighted_mean(\n",
    "        player_b_stats.values, player_b_times.values, player_b_surface_weights, time_decay\n",
    "    )\n",
    "\n",
    "    player_a_uncertainty = calculate_uncertainty_from_weights(player_a_stats.values, player_a_times.values, player_a_surface_weights, time_decay)\n",
    "    player_b_uncertainty = calculate_uncertainty_from_weights(player_b_stats.values, player_b_times.values, player_b_surface_weights, time_decay)\n",
    "\n",
    "    return player_a_mean, player_b_mean, player_a_uncertainty, player_b_uncertainty\n",
    "\n",
    "\n",
    "def process_all_stats(df, weights_dict, stat_cols: [tuple], surface_col):\n",
    "    results = {}\n",
    "    for stat_tuple in stat_cols:\n",
    "        winner_col = stat_tuple[0]\n",
    "        loser_col = stat_tuple[1]\n",
    "\n",
    "        means_uncertainties = df.apply(\n",
    "            lambda row: calculate_stats_with_uncertainty(\n",
    "                row, df, weights_dict, winner_col, loser_col, surface_col, is_co=False\n",
    "            ),\n",
    "            axis=1,\n",
    "        )\n",
    "        winner_avg, loser_avg, winner_unc, loser_unc = zip(*means_uncertainties)\n",
    "\n",
    "        results[f\"{winner_col}_avg\"] = winner_avg\n",
    "        results[f\"{loser_col}_avg\"] = loser_avg\n",
    "        results[f\"{winner_col}_uncertainty\"] = winner_unc\n",
    "        results[f\"{loser_col}_uncertainty\"] = loser_unc\n",
    "\n",
    "        co_means_uncertainties = df.apply(\n",
    "            lambda row: calculate_stats_with_uncertainty(\n",
    "                row, df, weights_dict, winner_col, loser_col, surface_col, is_co=True\n",
    "            ),\n",
    "            axis=1,\n",
    "        )\n",
    "        co_winner_avg, co_loser_avg, co_winner_unc, co_loser_unc = zip(*co_means_uncertainties)\n",
    "\n",
    "        if winner_col.startswith('w_'):\n",
    "            results[f\"{winner_col.replace('w', 'w_CO')}_avg\"] = co_winner_avg\n",
    "            results[f\"{loser_col.replace('l', 'l_CO')}_avg\"] = co_loser_avg\n",
    "            results[f\"{winner_col.replace('w', 'w_CO')}_uncertainty\"] = co_winner_unc\n",
    "            results[f\"{loser_col.replace('l', 'l_CO')}_uncertainty\"] = co_loser_unc\n",
    "        if winner_col.startswith('winner'):\n",
    "            results[f\"{winner_col.replace('winner', 'winner_CO')}_avg\"] = co_winner_avg\n",
    "            results[f\"{loser_col.replace('loser', 'loser_CO')}_avg\"] = co_loser_avg\n",
    "            results[f\"{winner_col.replace('winner', 'winner_CO')}_uncertainty\"] = co_winner_unc\n",
    "            results[f\"{loser_col.replace('loser', 'loser_CO')}_uncertainty\"] = co_loser_unc\n",
    "\n",
    "    for col, values in results.items():\n",
    "        df[col] = values\n",
    "\n",
    "    return df\n"
   ],
   "id": "8c9e12bd3fe393e0",
   "outputs": [],
   "execution_count": 20
  },
  {
   "metadata": {},
   "cell_type": "code",
   "source": [
    "matches = process_all_stats(matches, weights_dict, [('w_ace', 'l_ace'), ('w_df', 'l_df'),\n",
    "                                                    ('w_2ndIn', 'l_2ndIn'), ('winner_1st_serve_in_pct',  'loser_1st_serve_in_pct'),\n",
    "('winner_1st_serve_win_pct', 'loser_1st_serve_win_pct'),\n",
    "('winner_2nd_serve_in_pct',  'loser_2nd_serve_in_pct'),\n",
    "('winner_2nd_serve_win_pct',  'loser_2nd_serve_win_pct'),\n",
    "('winner_service_games_won_pct',  'loser_service_games_won_pct'),\n",
    "('winner_1st_serve_return_win_pct',  'loser_1st_serve_return_win_pct'),\n",
    "('winner_2nd_serve_return_win_pct',  'loser_2nd_serve_return_win_pct'),\n",
    "('winner_return_games_win_pct', 'loser_return_games_win_pct'),\n",
    "('winner_bp_won_pct', 'loser_bp_won_pct'),\n",
    "('winner_bp_saved_pct', 'loser_bp_saved_pct')\n",
    "                           ]\n",
    "                           , 'Surface')\n",
    "matches[['match_id', 'Date', 'winner_name', 'loser_name', 'w_df', 'w_df_avg', 'w_df_uncertainty', 'w_CO_df_avg', 'w_CO_df_uncertainty', 'w_CO_ace_uncertainty', 'winner_CO_1st_serve_in_pct_avg']]"
   ],
   "id": "7c0815ecf791aaaa",
   "outputs": [],
   "execution_count": null
  },
  {
   "metadata": {
    "ExecuteTime": {
     "end_time": "2025-01-02T15:10:47.122916Z",
     "start_time": "2025-01-02T15:10:47.102683Z"
    }
   },
   "cell_type": "code",
   "source": [
    "matches = matches.copy()"
   ],
   "id": "11e159e000629029",
   "outputs": [],
   "execution_count": 22
  },
  {
   "metadata": {
    "ExecuteTime": {
     "end_time": "2025-01-02T15:10:47.128134Z",
     "start_time": "2025-01-02T15:10:47.123456Z"
    }
   },
   "cell_type": "code",
   "source": [
    "def calculate_combined_uncertainties(df, stat_cols: [tuple]):\n",
    "    non_co_uncertainty_cols_winner = []\n",
    "    non_co_uncertainty_cols_loser = []\n",
    "    co_uncertainty_cols_winner = []\n",
    "    co_uncertainty_cols_loser = []\n",
    "    for stat_tuple in stat_cols:\n",
    "        winner_col = stat_tuple[0]\n",
    "        loser_col = stat_tuple[1]\n",
    "    \n",
    "        non_co_uncertainty_cols_winner.append(f\"{winner_col}_uncertainty\")\n",
    "        non_co_uncertainty_cols_loser.append(f\"{loser_col}_uncertainty\")\n",
    "        \n",
    "        if winner_col.startswith('w_'):\n",
    "            co_uncertainty_cols_winner.append(f\"{winner_col.replace('w', 'w_CO')}_uncertainty\")\n",
    "            co_uncertainty_cols_loser.append(f\"{loser_col.replace('l', 'l_CO')}_uncertainty\")\n",
    "        if winner_col.startswith('winner'):\n",
    "            co_uncertainty_cols_winner.append(f\"{winner_col.replace('winner', 'winner_CO')}_uncertainty\")\n",
    "            co_uncertainty_cols_loser.append(f\"{loser_col.replace('loser', 'loser_CO')}_uncertainty\")\n",
    "        \n",
    "\n",
    "    df['non_CO_uncertainty_winner'] = df[non_co_uncertainty_cols_winner].mean(axis=1)\n",
    "    df['CO_uncertainty_winner'] = df[co_uncertainty_cols_winner].mean(axis=1)\n",
    "    df['non_CO_uncertainty_loser'] = df[non_co_uncertainty_cols_loser].mean(axis=1)\n",
    "    df['CO_uncertainty_loser'] = df[co_uncertainty_cols_loser].mean(axis=1)\n",
    "    return df"
   ],
   "id": "359795dd3bd89a84",
   "outputs": [],
   "execution_count": 23
  },
  {
   "metadata": {
    "ExecuteTime": {
     "end_time": "2025-01-02T15:10:47.146497Z",
     "start_time": "2025-01-02T15:10:47.128675Z"
    }
   },
   "cell_type": "code",
   "source": [
    "matches = calculate_combined_uncertainties(matches, [('w_ace', 'l_ace'), ('w_df', 'l_df'),\n",
    "                                                    ('w_2ndIn', 'l_2ndIn'), ('winner_1st_serve_in_pct',  'loser_1st_serve_in_pct'),\n",
    "('winner_1st_serve_win_pct', 'loser_1st_serve_win_pct'),\n",
    "('winner_2nd_serve_in_pct',  'loser_2nd_serve_in_pct'),\n",
    "('winner_2nd_serve_win_pct',  'loser_2nd_serve_win_pct'),\n",
    "('winner_service_games_won_pct',  'loser_service_games_won_pct'),\n",
    "('winner_1st_serve_return_win_pct',  'loser_1st_serve_return_win_pct'),\n",
    "('winner_2nd_serve_return_win_pct',  'loser_2nd_serve_return_win_pct'),\n",
    "('winner_return_games_win_pct', 'loser_return_games_win_pct'),\n",
    "('winner_bp_won_pct', 'loser_bp_won_pct'),\n",
    "('winner_bp_saved_pct', 'loser_bp_saved_pct')\n",
    "                           ])\n",
    "matches[['match_id', 'Date', 'winner_name', 'loser_name', 'non_CO_uncertainty_winner', 'CO_uncertainty_winner', 'non_CO_uncertainty_loser', 'CO_uncertainty_loser']]"
   ],
   "id": "6b9b524c43670a98",
   "outputs": [
    {
     "data": {
      "text/plain": [
       "                          match_id       Date           winner_name  \\\n",
       "0      Brisbane_2018_105238_106043 2017-12-31   Alexandr Dolgopolov   \n",
       "1      Brisbane_2018_200282_105449 2017-12-31        Alex De Minaur   \n",
       "30         Doha_2018_105932_105341 2018-01-01  Nikoloz Basilashvili   \n",
       "29         Doha_2018_106233_105539 2018-01-01         Dominic Thiem   \n",
       "28         Doha_2018_104269_104534 2018-01-01     Fernando Verdasco   \n",
       "...                            ...        ...                   ...   \n",
       "14081      Metz_2023_207686_105732 2023-11-10  Alexander Shevchenko   \n",
       "14108     Sofia_2023_207733_105526 2023-11-10           Jack Draper   \n",
       "14109     Sofia_2023_105173_200303 2023-11-10      Adrian Mannarino   \n",
       "14083      Metz_2023_200005_207686 2023-11-11           Ugo Humbert   \n",
       "14110     Sofia_2023_105173_207733 2023-11-11      Adrian Mannarino   \n",
       "\n",
       "                  loser_name  non_CO_uncertainty_winner  \\\n",
       "0          Diego Schwartzman                   1.000000   \n",
       "1              Steve Johnson                   1.000000   \n",
       "30           Thomas Fabbiano                   1.000000   \n",
       "29            Evgeny Donskoy                   1.000000   \n",
       "28                 Dudi Sela                   1.000000   \n",
       "...                      ...                        ...   \n",
       "14081  Pierre Hugues Herbert                   0.033032   \n",
       "14108     Jan Lennard Struff                   0.022114   \n",
       "14109            Pavel Kotov                   0.007156   \n",
       "14083   Alexander Shevchenko                   0.009722   \n",
       "14110            Jack Draper                   0.007111   \n",
       "\n",
       "       CO_uncertainty_winner  non_CO_uncertainty_loser  CO_uncertainty_loser  \n",
       "0                   1.000000                  1.000000              1.000000  \n",
       "1                   1.000000                  1.000000              1.000000  \n",
       "30                  1.000000                  1.000000              1.000000  \n",
       "29                  1.000000                  1.000000              1.000000  \n",
       "28                  1.000000                  1.000000              1.000000  \n",
       "...                      ...                       ...                   ...  \n",
       "14081               0.086080                  0.023150              0.121400  \n",
       "14108               0.034881                  0.010301              0.030777  \n",
       "14109               0.034509                  0.031963              0.055662  \n",
       "14083               0.043967                  0.032001              0.058784  \n",
       "14110               0.025891                  0.021654              0.029981  \n",
       "\n",
       "[14111 rows x 8 columns]"
      ],
      "text/html": [
       "<div>\n",
       "<style scoped>\n",
       "    .dataframe tbody tr th:only-of-type {\n",
       "        vertical-align: middle;\n",
       "    }\n",
       "\n",
       "    .dataframe tbody tr th {\n",
       "        vertical-align: top;\n",
       "    }\n",
       "\n",
       "    .dataframe thead th {\n",
       "        text-align: right;\n",
       "    }\n",
       "</style>\n",
       "<table border=\"1\" class=\"dataframe\">\n",
       "  <thead>\n",
       "    <tr style=\"text-align: right;\">\n",
       "      <th></th>\n",
       "      <th>match_id</th>\n",
       "      <th>Date</th>\n",
       "      <th>winner_name</th>\n",
       "      <th>loser_name</th>\n",
       "      <th>non_CO_uncertainty_winner</th>\n",
       "      <th>CO_uncertainty_winner</th>\n",
       "      <th>non_CO_uncertainty_loser</th>\n",
       "      <th>CO_uncertainty_loser</th>\n",
       "    </tr>\n",
       "  </thead>\n",
       "  <tbody>\n",
       "    <tr>\n",
       "      <th>0</th>\n",
       "      <td>Brisbane_2018_105238_106043</td>\n",
       "      <td>2017-12-31</td>\n",
       "      <td>Alexandr Dolgopolov</td>\n",
       "      <td>Diego Schwartzman</td>\n",
       "      <td>1.000000</td>\n",
       "      <td>1.000000</td>\n",
       "      <td>1.000000</td>\n",
       "      <td>1.000000</td>\n",
       "    </tr>\n",
       "    <tr>\n",
       "      <th>1</th>\n",
       "      <td>Brisbane_2018_200282_105449</td>\n",
       "      <td>2017-12-31</td>\n",
       "      <td>Alex De Minaur</td>\n",
       "      <td>Steve Johnson</td>\n",
       "      <td>1.000000</td>\n",
       "      <td>1.000000</td>\n",
       "      <td>1.000000</td>\n",
       "      <td>1.000000</td>\n",
       "    </tr>\n",
       "    <tr>\n",
       "      <th>30</th>\n",
       "      <td>Doha_2018_105932_105341</td>\n",
       "      <td>2018-01-01</td>\n",
       "      <td>Nikoloz Basilashvili</td>\n",
       "      <td>Thomas Fabbiano</td>\n",
       "      <td>1.000000</td>\n",
       "      <td>1.000000</td>\n",
       "      <td>1.000000</td>\n",
       "      <td>1.000000</td>\n",
       "    </tr>\n",
       "    <tr>\n",
       "      <th>29</th>\n",
       "      <td>Doha_2018_106233_105539</td>\n",
       "      <td>2018-01-01</td>\n",
       "      <td>Dominic Thiem</td>\n",
       "      <td>Evgeny Donskoy</td>\n",
       "      <td>1.000000</td>\n",
       "      <td>1.000000</td>\n",
       "      <td>1.000000</td>\n",
       "      <td>1.000000</td>\n",
       "    </tr>\n",
       "    <tr>\n",
       "      <th>28</th>\n",
       "      <td>Doha_2018_104269_104534</td>\n",
       "      <td>2018-01-01</td>\n",
       "      <td>Fernando Verdasco</td>\n",
       "      <td>Dudi Sela</td>\n",
       "      <td>1.000000</td>\n",
       "      <td>1.000000</td>\n",
       "      <td>1.000000</td>\n",
       "      <td>1.000000</td>\n",
       "    </tr>\n",
       "    <tr>\n",
       "      <th>...</th>\n",
       "      <td>...</td>\n",
       "      <td>...</td>\n",
       "      <td>...</td>\n",
       "      <td>...</td>\n",
       "      <td>...</td>\n",
       "      <td>...</td>\n",
       "      <td>...</td>\n",
       "      <td>...</td>\n",
       "    </tr>\n",
       "    <tr>\n",
       "      <th>14081</th>\n",
       "      <td>Metz_2023_207686_105732</td>\n",
       "      <td>2023-11-10</td>\n",
       "      <td>Alexander Shevchenko</td>\n",
       "      <td>Pierre Hugues Herbert</td>\n",
       "      <td>0.033032</td>\n",
       "      <td>0.086080</td>\n",
       "      <td>0.023150</td>\n",
       "      <td>0.121400</td>\n",
       "    </tr>\n",
       "    <tr>\n",
       "      <th>14108</th>\n",
       "      <td>Sofia_2023_207733_105526</td>\n",
       "      <td>2023-11-10</td>\n",
       "      <td>Jack Draper</td>\n",
       "      <td>Jan Lennard Struff</td>\n",
       "      <td>0.022114</td>\n",
       "      <td>0.034881</td>\n",
       "      <td>0.010301</td>\n",
       "      <td>0.030777</td>\n",
       "    </tr>\n",
       "    <tr>\n",
       "      <th>14109</th>\n",
       "      <td>Sofia_2023_105173_200303</td>\n",
       "      <td>2023-11-10</td>\n",
       "      <td>Adrian Mannarino</td>\n",
       "      <td>Pavel Kotov</td>\n",
       "      <td>0.007156</td>\n",
       "      <td>0.034509</td>\n",
       "      <td>0.031963</td>\n",
       "      <td>0.055662</td>\n",
       "    </tr>\n",
       "    <tr>\n",
       "      <th>14083</th>\n",
       "      <td>Metz_2023_200005_207686</td>\n",
       "      <td>2023-11-11</td>\n",
       "      <td>Ugo Humbert</td>\n",
       "      <td>Alexander Shevchenko</td>\n",
       "      <td>0.009722</td>\n",
       "      <td>0.043967</td>\n",
       "      <td>0.032001</td>\n",
       "      <td>0.058784</td>\n",
       "    </tr>\n",
       "    <tr>\n",
       "      <th>14110</th>\n",
       "      <td>Sofia_2023_105173_207733</td>\n",
       "      <td>2023-11-11</td>\n",
       "      <td>Adrian Mannarino</td>\n",
       "      <td>Jack Draper</td>\n",
       "      <td>0.007111</td>\n",
       "      <td>0.025891</td>\n",
       "      <td>0.021654</td>\n",
       "      <td>0.029981</td>\n",
       "    </tr>\n",
       "  </tbody>\n",
       "</table>\n",
       "<p>14111 rows × 8 columns</p>\n",
       "</div>"
      ]
     },
     "execution_count": 24,
     "metadata": {},
     "output_type": "execute_result"
    }
   ],
   "execution_count": 24
  },
  {
   "metadata": {
    "ExecuteTime": {
     "end_time": "2025-01-02T15:10:47.152906Z",
     "start_time": "2025-01-02T15:10:47.147033Z"
    }
   },
   "cell_type": "code",
   "source": [
    "matches[\"CO_uncertainty_winner\"] = matches[\"CO_uncertainty_winner\"].clip(lower=0, upper=1)\n",
    "matches[\"CO_uncertainty_loser\"] = matches[\"CO_uncertainty_loser\"].clip(lower=0, upper=1)\n",
    "matches[\"non_CO_uncertainty_winner\"] = matches[\"non_CO_uncertainty_winner\"].clip(lower=0, upper=1)\n",
    "matches[\"CO_uncertainty_loser\"] = matches[\"CO_uncertainty_loser\"].clip(lower=0, upper=1)\n"
   ],
   "id": "b7691b8b781c9821",
   "outputs": [],
   "execution_count": 25
  },
  {
   "metadata": {
    "ExecuteTime": {
     "end_time": "2025-01-02T15:10:47.157193Z",
     "start_time": "2025-01-02T15:10:47.153442Z"
    }
   },
   "cell_type": "code",
   "source": [
    "matches[\"CO_uncertainty\"] = np.sqrt(matches[\"CO_uncertainty_winner\"] * matches[\"CO_uncertainty_loser\"])\n",
    "matches[\"non_CO_uncertainty\"] = np.sqrt(matches[\"non_CO_uncertainty_winner\"] * matches[\"non_CO_uncertainty_loser\"])"
   ],
   "id": "a11f46016701b79e",
   "outputs": [],
   "execution_count": 26
  },
  {
   "metadata": {
    "ExecuteTime": {
     "end_time": "2025-01-02T15:10:49.337836Z",
     "start_time": "2025-01-02T15:10:47.157741Z"
    }
   },
   "cell_type": "code",
   "source": [
    "import matplotlib.pyplot as plt\n",
    "\n",
    "plt.figure(figsize=(8, 6))\n",
    "plt.hist(matches['non_CO_uncertainty'], bins=100, alpha=0.7, edgecolor='black')\n",
    "plt.title(f'Distribution of non_CO_uncertainty')\n",
    "plt.xlabel('Uncertainty')\n",
    "plt.ylabel('Frequency')\n",
    "plt.grid(True)\n",
    "plt.show()\n",
    "\n",
    "plt.figure(figsize=(8, 6))\n",
    "plt.hist(matches['CO_uncertainty'], bins=100, alpha=0.7, edgecolor='black')\n",
    "plt.title(f'Distribution of CO_uncertainty')\n",
    "plt.xlabel('Uncertainty')\n",
    "plt.ylabel('Frequency')\n",
    "plt.grid(True)\n",
    "plt.show()\n"
   ],
   "id": "64664010b9626519",
   "outputs": [
    {
     "data": {
      "text/plain": [
       "<Figure size 800x600 with 1 Axes>"
      ],
      "image/png": "[encoded data removed]"
     },
     "metadata": {},
     "output_type": "display_data"
    },
    {
     "data": {
      "text/plain": [
       "<Figure size 800x600 with 1 Axes>"
      ],
      "image/png": "[encoded data removed]"
     },
     "metadata": {},
     "output_type": "display_data"
    }
   ],
   "execution_count": 27
  },
  {
   "metadata": {
    "ExecuteTime": {
     "end_time": "2025-01-02T15:10:49.344352Z",
     "start_time": "2025-01-02T15:10:49.337836Z"
    }
   },
   "cell_type": "code",
   "source": [
    "new_columns = matches[[ 'match_id',\n",
    "    'w_ace_avg', 'l_ace_avg',\n",
    "    'w_CO_ace_avg', 'l_CO_ace_avg',\n",
    "\n",
    "    'w_df_avg', 'l_df_avg',\n",
    "    'w_CO_df_avg', 'l_CO_df_avg',\n",
    "\n",
    "    'w_2ndIn_avg', 'l_2ndIn_avg',\n",
    "    'w_CO_2ndIn_avg', 'l_CO_2ndIn_avg',\n",
    "\n",
    "    'winner_1st_serve_in_pct_avg', 'loser_1st_serve_in_pct_avg',\n",
    "    'winner_CO_1st_serve_in_pct_avg', 'loser_CO_1st_serve_in_pct_avg',\n",
    "\n",
    "    'winner_1st_serve_win_pct_avg', 'loser_1st_serve_win_pct_avg',\n",
    "    'winner_CO_1st_serve_win_pct_avg', 'loser_CO_1st_serve_win_pct_avg',\n",
    "\n",
    "    'winner_2nd_serve_in_pct_avg', 'loser_2nd_serve_in_pct_avg',\n",
    "    'winner_CO_2nd_serve_in_pct_avg', 'loser_CO_2nd_serve_in_pct_avg',\n",
    "\n",
    "    'winner_2nd_serve_win_pct_avg', 'loser_2nd_serve_win_pct_avg',\n",
    "    'winner_CO_2nd_serve_win_pct_avg', 'loser_CO_2nd_serve_win_pct_avg',\n",
    "\n",
    "    'winner_service_games_won_pct_avg', 'loser_service_games_won_pct_avg',\n",
    "    'winner_CO_service_games_won_pct_avg', 'loser_CO_service_games_won_pct_avg',\n",
    "\n",
    "    'winner_1st_serve_return_win_pct_avg', 'loser_1st_serve_return_win_pct_avg',\n",
    "    'winner_CO_1st_serve_return_win_pct_avg', 'loser_CO_1st_serve_return_win_pct_avg',\n",
    "\n",
    "    'winner_2nd_serve_return_win_pct_avg', 'loser_2nd_serve_return_win_pct_avg',\n",
    "    'winner_CO_2nd_serve_return_win_pct_avg', 'loser_CO_2nd_serve_return_win_pct_avg',\n",
    "\n",
    "    'winner_return_games_win_pct_avg', 'loser_return_games_win_pct_avg',\n",
    "    'winner_CO_return_games_win_pct_avg', 'loser_CO_return_games_win_pct_avg',\n",
    "\n",
    "    'winner_bp_won_pct_avg', 'loser_bp_won_pct_avg',\n",
    "    'winner_CO_bp_won_pct_avg', 'loser_CO_bp_won_pct_avg',\n",
    "\n",
    "    'winner_bp_saved_pct_avg', 'loser_bp_saved_pct_avg',\n",
    "    'winner_CO_bp_saved_pct_avg', 'loser_CO_bp_saved_pct_avg',\n",
    "    \n",
    "    'non_CO_uncertainty', 'CO_uncertainty'\n",
    "]]"
   ],
   "id": "9661effdab6a8379",
   "outputs": [],
   "execution_count": 28
  },
  {
   "metadata": {
    "ExecuteTime": {
     "end_time": "2025-01-02T15:10:49.350870Z",
     "start_time": "2025-01-02T15:10:49.344352Z"
    }
   },
   "cell_type": "code",
   "source": [
    "missing_values = new_columns.isnull().sum()\n",
    "\n",
    "columns_with_nan = missing_values[missing_values > 0]\n",
    "\n",
    "print(\"Columns with NaN values and their counts:\")\n",
    "print(columns_with_nan)"
   ],
   "id": "c102023031a21a1d",
   "outputs": [
    {
     "name": "stdout",
     "output_type": "stream",
     "text": [
      "Columns with NaN values and their counts:\n",
      "Series([], dtype: int64)\n"
     ]
    }
   ],
   "execution_count": 29
  },
  {
   "metadata": {
    "ExecuteTime": {
     "end_time": "2025-01-02T15:10:50.050530Z",
     "start_time": "2025-01-02T15:10:49.350870Z"
    }
   },
   "cell_type": "code",
   "source": "new_columns.to_csv(\"../../data/created_features_separate/aggregate_player_match_stats.csv\", index=False)",
   "id": "e63e994e2e28976",
   "outputs": [],
   "execution_count": 30
  }
 ],
 "metadata": {
  "kernelspec": {
   "display_name": "Python 3",
   "language": "python",
   "name": "python3"
  },
  "language_info": {
   "codemirror_mode": {
    "name": "ipython",
    "version": 2
   },
   "file_extension": ".py",
   "mimetype": "text/x-python",
   "name": "python",
   "nbconvert_exporter": "python",
   "pygments_lexer": "ipython2",
   "version": "2.7.6"
  }
 },
 "nbformat": 4,
 "nbformat_minor": 5
}
