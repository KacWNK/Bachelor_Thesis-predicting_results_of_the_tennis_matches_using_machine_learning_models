{
 "cells": [
  {
   "cell_type": "code",
   "id": "initial_id",
   "metadata": {
    "collapsed": true,
    "ExecuteTime": {
     "end_time": "2025-01-28T22:52:36.354401Z",
     "start_time": "2025-01-28T22:52:36.159961Z"
    }
   },
   "source": [
    "import pandas as pd\n",
    "matches1 = pd.read_csv('../../feature_creation/data/matches_2018-2023_raw.csv')\n",
    "matches2 = pd.read_csv('../../feature_creation/data/matches_2024_raw.csv')\n",
    "matches = pd.concat([matches1, matches2])"
   ],
   "outputs": [],
   "execution_count": 1
  },
  {
   "metadata": {
    "ExecuteTime": {
     "end_time": "2025-01-18T15:16:57.386133Z",
     "start_time": "2025-01-18T15:16:57.382155Z"
    }
   },
   "cell_type": "code",
   "source": "graph_data = {}",
   "id": "a25b5c35428921d6",
   "outputs": [],
   "execution_count": 10
  },
  {
   "metadata": {
    "ExecuteTime": {
     "end_time": "2025-01-18T15:16:57.978837Z",
     "start_time": "2025-01-18T15:16:57.963621Z"
    }
   },
   "cell_type": "code",
   "source": [
    "player_id = 104925\n",
    "matches['Surface'] = matches['Surface'].str.lower()\n",
    "player_matches = matches[(matches['winner_id'] == player_id) | (matches['loser_id'] == player_id)]\n",
    "\n",
    "player_matches['is_win'] = player_matches['winner_id'] == player_id\n",
    "\n",
    "surface_stats = player_matches.groupby('Surface').agg(\n",
    "    total_matches=('is_win', 'size'),\n",
    "    wins=('is_win', 'sum')\n",
    ").reset_index()\n",
    "\n",
    "surface_stats['win_percentage'] = (surface_stats['wins'] / surface_stats['total_matches']) * 100\n",
    "graph_data['Novak Djokovic'] = surface_stats\n",
    "print(surface_stats)"
   ],
   "id": "1878565878957a8",
   "outputs": [
    {
     "name": "stdout",
     "output_type": "stream",
     "text": [
      "  Surface  total_matches  wins  win_percentage\n",
      "0    clay            116    93       80.172414\n",
      "1   grass             47    44       93.617021\n",
      "2    hard            179   158       88.268156\n"
     ]
    },
    {
     "name": "stderr",
     "output_type": "stream",
     "text": [
      "C:\\Users\\Pawel\\AppData\\Local\\Temp\\ipykernel_38592\\1541747978.py:7: SettingWithCopyWarning: \n",
      "A value is trying to be set on a copy of a slice from a DataFrame.\n",
      "Try using .loc[row_indexer,col_indexer] = value instead\n",
      "\n",
      "See the caveats in the documentation: https://pandas.pydata.org/pandas-docs/stable/user_guide/indexing.html#returning-a-view-versus-a-copy\n",
      "  player_matches['is_win'] = player_matches['winner_id'] == player_id\n"
     ]
    }
   ],
   "execution_count": 11
  },
  {
   "metadata": {
    "ExecuteTime": {
     "end_time": "2025-01-18T15:16:59.023931Z",
     "start_time": "2025-01-18T15:16:59.010652Z"
    }
   },
   "cell_type": "code",
   "source": [
    "player_id = 104745\n",
    "matches['Surface'] = matches['Surface'].str.lower()\n",
    "player_matches = matches[(matches['winner_id'] == player_id) | (matches['loser_id'] == player_id)]\n",
    "\n",
    "player_matches['is_win'] = player_matches['winner_id'] == player_id\n",
    "\n",
    "surface_stats = player_matches.groupby('Surface').agg(\n",
    "    total_matches=('is_win', 'size'),\n",
    "    wins=('is_win', 'sum')\n",
    ").reset_index()\n",
    "\n",
    "surface_stats['win_percentage'] = (surface_stats['wins'] / surface_stats['total_matches']) * 100\n",
    "graph_data['Rafael Nadal'] = surface_stats\n",
    "print(surface_stats)"
   ],
   "id": "3a8e54454a5ea645",
   "outputs": [
    {
     "name": "stdout",
     "output_type": "stream",
     "text": [
      "  Surface  total_matches  wins  win_percentage\n",
      "0    clay            107    92       85.981308\n",
      "1   grass             18    15       83.333333\n",
      "2    hard             96    80       83.333333\n"
     ]
    },
    {
     "name": "stderr",
     "output_type": "stream",
     "text": [
      "C:\\Users\\Pawel\\AppData\\Local\\Temp\\ipykernel_38592\\2615137710.py:7: SettingWithCopyWarning: \n",
      "A value is trying to be set on a copy of a slice from a DataFrame.\n",
      "Try using .loc[row_indexer,col_indexer] = value instead\n",
      "\n",
      "See the caveats in the documentation: https://pandas.pydata.org/pandas-docs/stable/user_guide/indexing.html#returning-a-view-versus-a-copy\n",
      "  player_matches['is_win'] = player_matches['winner_id'] == player_id\n"
     ]
    }
   ],
   "execution_count": 12
  },
  {
   "metadata": {
    "ExecuteTime": {
     "end_time": "2025-01-18T15:17:00.177461Z",
     "start_time": "2025-01-18T15:17:00.164881Z"
    }
   },
   "cell_type": "code",
   "source": [
    "player_id = 106421\n",
    "matches['Surface'] = matches['Surface'].str.lower()\n",
    "player_matches = matches[(matches['winner_id'] == player_id) | (matches['loser_id'] == player_id)]\n",
    "\n",
    "player_matches['is_win'] = player_matches['winner_id'] == player_id\n",
    "\n",
    "surface_stats = player_matches.groupby('Surface').agg(\n",
    "    total_matches=('is_win', 'size'),\n",
    "    wins=('is_win', 'sum')\n",
    ").reset_index()\n",
    "\n",
    "surface_stats['win_percentage'] = (surface_stats['wins'] / surface_stats['total_matches']) * 100\n",
    "graph_data['Daniil Medvedev'] = surface_stats\n",
    "print(surface_stats)"
   ],
   "id": "cf3836c9abaf4f9a",
   "outputs": [
    {
     "name": "stdout",
     "output_type": "stream",
     "text": [
      "  Surface  total_matches  wins  win_percentage\n",
      "0    clay             60    36       60.000000\n",
      "1   grass             54    37       68.518519\n",
      "2    hard            308   241       78.246753\n"
     ]
    },
    {
     "name": "stderr",
     "output_type": "stream",
     "text": [
      "C:\\Users\\Pawel\\AppData\\Local\\Temp\\ipykernel_38592\\1253251859.py:7: SettingWithCopyWarning: \n",
      "A value is trying to be set on a copy of a slice from a DataFrame.\n",
      "Try using .loc[row_indexer,col_indexer] = value instead\n",
      "\n",
      "See the caveats in the documentation: https://pandas.pydata.org/pandas-docs/stable/user_guide/indexing.html#returning-a-view-versus-a-copy\n",
      "  player_matches['is_win'] = player_matches['winner_id'] == player_id\n"
     ]
    }
   ],
   "execution_count": 13
  },
  {
   "metadata": {
    "ExecuteTime": {
     "end_time": "2025-01-18T15:36:58.505996Z",
     "start_time": "2025-01-18T15:36:58.359574Z"
    }
   },
   "cell_type": "code",
   "source": [
    "import numpy as np\n",
    "import matplotlib.pyplot as plt\n",
    "players = list(graph_data.keys())\n",
    "surfaces = graph_data[players[0]]['Surface']\n",
    "x = np.arange(len(players))\n",
    "bar_width = 0.25\n",
    "\n",
    "fig, ax = plt.subplots(figsize=(10, 6))\n",
    "\n",
    "surface_colors = {\n",
    "    'clay': 'brown',\n",
    "    'grass': 'green',\n",
    "    'hard': 'blue'\n",
    "}\n",
    "\n",
    "for i, surface in enumerate(surfaces):\n",
    "    surface_values = [graph_data[player].loc[graph_data[player]['Surface'] == surface, 'win_percentage'].values[0] for player in players]\n",
    "    ax.bar(x + i * bar_width, surface_values, width=bar_width, label=surface.capitalize(), color=surface_colors[surface])\n",
    "\n",
    "ax.set_ylabel('Procent zwycięstw (%)')\n",
    "ax.set_xticks(x + bar_width)\n",
    "ax.set_xticklabels(players)\n",
    "ax.set_ylim(50, 100)\n",
    "ax.legend(title='Surface')\n",
    "ax.grid(axis='y', linestyle='--', alpha=0.7)\n",
    "\n",
    "plt.savefig(\"surface_importance_plot.pdf\", format=\"pdf\")\n",
    "plt.tight_layout()\n",
    "\n",
    "plt.show()\n"
   ],
   "id": "e801e998d211effa",
   "outputs": [
    {
     "data": {
      "text/plain": [
       "<Figure size 1000x600 with 1 Axes>"
      ],
      "image/png": "[encoded data removed]"
     },
     "metadata": {},
     "output_type": "display_data"
    }
   ],
   "execution_count": 23
  },
  {
   "metadata": {},
   "cell_type": "markdown",
   "source": "### ENTRY",
   "id": "51aa7475ca0e1462"
  },
  {
   "metadata": {
    "ExecuteTime": {
     "end_time": "2025-01-18T15:55:43.346306Z",
     "start_time": "2025-01-18T15:55:43.239391Z"
    }
   },
   "cell_type": "code",
   "source": [
    "entry_types = ['LL', 'Q', 'WC']\n",
    "win_percentages = {}\n",
    "\n",
    "for entry in entry_types:\n",
    "    winner_col = f'winner_entry_{entry}'\n",
    "    loser_col = f'loser_entry_{entry}'\n",
    "    \n",
    "    wins = matches[winner_col].sum()\n",
    "    occurrences = matches[winner_col].sum() + matches[loser_col].sum()\n",
    "    \n",
    "    win_percentages[entry] = (wins / occurrences * 100) if occurrences > 0 else 0\n",
    "\n",
    "for entry, percentage in win_percentages.items():\n",
    "    print(f\"Win Percentage for {entry}: {percentage:.2f}%\")\n",
    "\n",
    "plt.bar(win_percentages.keys(), win_percentages.values(), color=['brown', 'green', 'blue'])\n",
    "plt.xlabel(\"Sposób uczestnictwa\")\n",
    "plt.ylabel(\"Procent zwycięstw (%)\")\n",
    "plt.ylim(0, 50)\n",
    "plt.savefig(\"../plots/entry_importance_plot.pdf\", format=\"pdf\")\n",
    "\n",
    "plt.show()"
   ],
   "id": "9bb3dfba671cb4e9",
   "outputs": [
    {
     "name": "stdout",
     "output_type": "stream",
     "text": [
      "Win Percentage for LL: 35.03%\n",
      "Win Percentage for Q: 40.70%\n",
      "Win Percentage for WC: 38.89%\n"
     ]
    },
    {
     "data": {
      "text/plain": [
       "<Figure size 640x480 with 1 Axes>"
      ],
      "image/png": "[encoded data removed]"
     },
     "metadata": {},
     "output_type": "display_data"
    }
   ],
   "execution_count": 30
  },
  {
   "metadata": {},
   "cell_type": "markdown",
   "source": "### Fatigue",
   "id": "cbd7045ec376025b"
  },
  {
   "metadata": {
    "ExecuteTime": {
     "end_time": "2025-01-18T22:03:25.787930Z",
     "start_time": "2025-01-18T22:02:58.999802Z"
    }
   },
   "cell_type": "code",
   "source": [
    "from datetime import timedelta\n",
    "player_history = {}\n",
    "\n",
    "def calculate_fatigue_score(player_id, current_date, player_history):\n",
    "    if player_id not in player_history:\n",
    "        player_history[player_id] = []\n",
    "    \n",
    "\n",
    "    last_7_days = [match for match in player_history[player_id] if current_date - match['Date'] <= timedelta(days=3)]\n",
    "    \n",
    "    last_7_days_weighted_sum = sum(\n",
    "        0.75 ** ((current_date - match['Date']).days -1) * (match['minutes'])\n",
    "        for match in last_7_days\n",
    "    )\n",
    "    return last_7_days_weighted_sum\n",
    "\n",
    "for i, row in matches.iterrows():\n",
    "    current_date = pd.to_datetime(row['Date'])\n",
    "    winner_id = row['winner_id']\n",
    "    loser_id = row['loser_id']\n",
    "    minutes = row['minutes']\n",
    "    \n",
    "    winner_fatigue = calculate_fatigue_score(winner_id, current_date, player_history)\n",
    "    loser_fatigue = calculate_fatigue_score(loser_id, current_date, player_history)\n",
    "    matches.at[i, 'winner_fatigue_score'] = winner_fatigue\n",
    "    matches.at[i, 'loser_fatigue_score'] = loser_fatigue\n",
    "    \n",
    "    player_history[winner_id].append({'Date': current_date, 'minutes': minutes})\n",
    "    player_history[loser_id].append({'Date': current_date, 'minutes': minutes})\n",
    "\n"
   ],
   "id": "3fa23d1a7492215c",
   "outputs": [],
   "execution_count": 57
  },
  {
   "metadata": {
    "ExecuteTime": {
     "end_time": "2025-01-18T22:03:25.828300Z",
     "start_time": "2025-01-18T22:03:25.788914Z"
    }
   },
   "cell_type": "code",
   "source": [
    "rank_differences = [5, 10, 25, 50, float('inf')]\n",
    "\n",
    "results = {}\n",
    "\n",
    "non_zero_rows = matches[\n",
    "    (matches['winner_fatigue_score'] != 0) | (matches['loser_fatigue_score'] != 0)\n",
    "]\n",
    "for rank_diff in rank_differences:\n",
    "    valid_rows = non_zero_rows[\n",
    "        (non_zero_rows['winner_rank'].astype(float) - non_zero_rows['loser_rank'].astype(float)).abs() < rank_diff\n",
    "    ]\n",
    "\n",
    "    count_less = (valid_rows['winner_fatigue_score'] < valid_rows['loser_fatigue_score']).sum()\n",
    "    count_greater = (valid_rows['winner_fatigue_score'] > valid_rows['loser_fatigue_score']).sum()\n",
    "    count_equal = (valid_rows['winner_fatigue_score'] == valid_rows['loser_fatigue_score']).sum()\n",
    "\n",
    "    total_filtered_rows = len(valid_rows)\n",
    "    if total_filtered_rows > 0:\n",
    "        percentage_less = (count_less / total_filtered_rows) * 100\n",
    "        percentage_greater = (count_greater / total_filtered_rows) * 100\n",
    "        percentage_equal = (count_equal / total_filtered_rows) * 100\n",
    "    else:\n",
    "        percentage_less = percentage_greater = percentage_equal = 0\n",
    "\n",
    "    results[rank_diff] = {\n",
    "        'total_filtered_rows': total_filtered_rows,\n",
    "        'percentage_less': percentage_less,\n",
    "        'percentage_greater': percentage_greater,\n",
    "        'percentage_equal': percentage_equal\n",
    "    }\n",
    "\n",
    "for rank_diff, metrics in results.items():\n",
    "    print(f\"Rank Difference < {rank_diff}:\")\n",
    "    print(f\"  Percentage where winner < loser: {metrics['percentage_less']}%\")\n",
    "    print(f\"  Percentage where winner > loser: {metrics['percentage_greater']}%\")\n",
    "    print(f\"  Percentage where winner == loser: {metrics['percentage_equal']}%\")\n",
    "    print(f\"  Total filtered rows: {metrics['total_filtered_rows']}\\n\")"
   ],
   "id": "1ebaa10966fdde9c",
   "outputs": [
    {
     "name": "stdout",
     "output_type": "stream",
     "text": [
      "Rank Difference < 5:\n",
      "  Percentage where winner < loser: 55.172413793103445%\n",
      "  Percentage where winner > loser: 44.33497536945813%\n",
      "  Percentage where winner == loser: 0.49261083743842365%\n",
      "  Total filtered rows: 609\n",
      "\n",
      "Rank Difference < 10:\n",
      "  Percentage where winner < loser: 53.517964071856284%\n",
      "  Percentage where winner > loser: 45.88323353293413%\n",
      "  Percentage where winner == loser: 0.5988023952095809%\n",
      "  Total filtered rows: 1336\n",
      "\n",
      "Rank Difference < 25:\n",
      "  Percentage where winner < loser: 53.13143193178477%\n",
      "  Percentage where winner > loser: 46.19229638341664%\n",
      "  Percentage where winner == loser: 0.6762716847985887%\n",
      "  Total filtered rows: 3401\n",
      "\n",
      "Rank Difference < 50:\n",
      "  Percentage where winner < loser: 53.91994707244459%\n",
      "  Percentage where winner > loser: 45.28613959642739%\n",
      "  Percentage where winner == loser: 0.7939133311280185%\n",
      "  Total filtered rows: 6046\n",
      "\n",
      "Rank Difference < inf:\n",
      "  Percentage where winner < loser: 55.54998495939035%\n",
      "  Percentage where winner > loser: 43.647849192820615%\n",
      "  Percentage where winner == loser: 0.8021658477890304%\n",
      "  Total filtered rows: 9973\n",
      "\n"
     ]
    }
   ],
   "execution_count": 58
  },
  {
   "metadata": {},
   "cell_type": "markdown",
   "source": "### Injury",
   "id": "5d1f4cdf66c096fd"
  },
  {
   "metadata": {
    "ExecuteTime": {
     "end_time": "2025-01-18T22:17:12.658900Z",
     "start_time": "2025-01-18T22:17:12.633894Z"
    }
   },
   "cell_type": "code",
   "source": [
    "df = pd.read_csv('../../feature_creation/data/created_features_separate/injury.csv')\n",
    "injury_matches = df[(df['winner_injury_score'] == 1) | (df['loser_injury_score'] == 1)]\n",
    "\n",
    "wins_by_injured = injury_matches['winner_injury_score'].sum()\n",
    "\n",
    "total_injured_matches = len(injury_matches)\n",
    "\n",
    "win_percentage = (wins_by_injured / total_injured_matches) * 100 if total_injured_matches > 0 else 0\n",
    "\n",
    "print(f\"Win Percentage for Players with Injury Score = 1: {win_percentage:.2f}%\")"
   ],
   "id": "cb243e854a59f024",
   "outputs": [
    {
     "name": "stdout",
     "output_type": "stream",
     "text": [
      "Win Percentage for Players with Injury Score = 1: 49.09%\n"
     ]
    }
   ],
   "execution_count": 63
  },
  {
   "metadata": {},
   "cell_type": "markdown",
   "source": "### AGE",
   "id": "e586431ce028b81d"
  },
  {
   "metadata": {
    "ExecuteTime": {
     "end_time": "2025-01-28T22:52:56.314337Z",
     "start_time": "2025-01-28T22:52:55.613694Z"
    }
   },
   "cell_type": "code",
   "source": "matches = pd.read_csv(\"../../main_flow/data/all_matches_processed.csv\")",
   "id": "30e60279124cb06e",
   "outputs": [
    {
     "name": "stderr",
     "output_type": "stream",
     "text": [
      "C:\\Users\\Pawel\\AppData\\Local\\Temp\\ipykernel_31736\\940792331.py:1: DtypeWarning: Columns (27,234,235,236,237,238,239) have mixed types. Specify dtype option on import or set low_memory=False.\n",
      "  matches = pd.read_csv(\"../../main_flow/data/all_matches_processed.csv\")\n"
     ]
    }
   ],
   "execution_count": 2
  },
  {
   "metadata": {
    "ExecuteTime": {
     "end_time": "2025-01-28T22:52:57.347977Z",
     "start_time": "2025-01-28T22:52:57.344453Z"
    }
   },
   "cell_type": "code",
   "source": [
    "import seaborn as sns\n",
    "import matplotlib.pyplot as plt"
   ],
   "id": "d5ea9d064249fc74",
   "outputs": [],
   "execution_count": 3
  },
  {
   "metadata": {
    "ExecuteTime": {
     "end_time": "2025-01-28T22:53:03.797856Z",
     "start_time": "2025-01-28T22:53:02.819140Z"
    }
   },
   "cell_type": "code",
   "source": [
    "winner_data = matches[['winner_id', 'winner_rank', 'winner_age']].rename(\n",
    "    columns={'winner_id': 'player_id', 'winner_rank': 'rank', 'winner_age': 'age'}\n",
    ")\n",
    "loser_data = matches[['loser_id', 'loser_rank', 'loser_age']].rename(\n",
    "    columns={'loser_id': 'player_id', 'loser_rank': 'rank', 'loser_age': 'age'}\n",
    ")\n",
    "\n",
    "all_players = pd.concat([winner_data, loser_data])\n",
    "\n",
    "peak_rank_data = all_players.loc[all_players.groupby('player_id')['rank'].idxmin()]\n",
    "\n",
    "plt.figure(figsize=(10, 6))\n",
    "sns.histplot(peak_rank_data['age'], bins=20, kde=True, color='blue')\n",
    "plt.xlabel('Age at Peak Rank', fontsize=14)\n",
    "plt.ylabel('Counts', fontsize=14)\n",
    "plt.grid(axis='y', linestyle='--', alpha=0.7)\n",
    "plt.savefig(\"../plots/age_importance_plot.pdf\", format=\"pdf\",  bbox_inches=\"tight\")\n",
    "\n",
    "plt.show()"
   ],
   "id": "c9ed35426c662008",
   "outputs": [
    {
     "data": {
      "text/plain": [
       "<Figure size 1000x600 with 1 Axes>"
      ],
      "image/png": "[encoded data removed]"
     },
     "metadata": {},
     "output_type": "display_data"
    }
   ],
   "execution_count": 4
  },
  {
   "metadata": {},
   "cell_type": "code",
   "outputs": [],
   "execution_count": null,
   "source": "",
   "id": "47ed16125fc3f6e3"
  }
 ],
 "metadata": {
  "kernelspec": {
   "display_name": "Python 3",
   "language": "python",
   "name": "python3"
  },
  "language_info": {
   "codemirror_mode": {
    "name": "ipython",
    "version": 2
   },
   "file_extension": ".py",
   "mimetype": "text/x-python",
   "name": "python",
   "nbconvert_exporter": "python",
   "pygments_lexer": "ipython2",
   "version": "2.7.6"
  }
 },
 "nbformat": 4,
 "nbformat_minor": 5
}
