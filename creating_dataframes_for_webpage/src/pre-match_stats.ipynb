{
 "cells": [
  {
   "cell_type": "code",
   "id": "initial_id",
   "metadata": {
    "collapsed": true,
    "ExecuteTime": {
     "end_time": "2025-01-02T18:12:35.966253Z",
     "start_time": "2025-01-02T18:12:35.687070Z"
    }
   },
   "source": "import pandas as pd",
   "outputs": [],
   "execution_count": 1
  },
  {
   "metadata": {
    "ExecuteTime": {
     "end_time": "2025-01-02T18:12:36.577842Z",
     "start_time": "2025-01-02T18:12:36.426291Z"
    }
   },
   "cell_type": "code",
   "source": "pre_match_stats = pd.read_csv(\"../../feature_creation/data/features_merged.csv\")",
   "id": "9b3202c4fe2fdbae",
   "outputs": [],
   "execution_count": 2
  },
  {
   "metadata": {
    "ExecuteTime": {
     "end_time": "2025-01-02T18:12:36.725159Z",
     "start_time": "2025-01-02T18:12:36.719579Z"
    }
   },
   "cell_type": "code",
   "source": "list(pre_match_stats.columns)",
   "id": "992ded0ad4bcbb8f",
   "outputs": [
    {
     "data": {
      "text/plain": [
       "['match_id',\n",
       " 'w_ace_avg',\n",
       " 'l_ace_avg',\n",
       " 'w_CO_ace_avg',\n",
       " 'l_CO_ace_avg',\n",
       " 'w_df_avg',\n",
       " 'l_df_avg',\n",
       " 'w_CO_df_avg',\n",
       " 'l_CO_df_avg',\n",
       " 'w_2ndIn_avg',\n",
       " 'l_2ndIn_avg',\n",
       " 'w_CO_2ndIn_avg',\n",
       " 'l_CO_2ndIn_avg',\n",
       " 'winner_1st_serve_in_pct_avg',\n",
       " 'loser_1st_serve_in_pct_avg',\n",
       " 'winner_CO_1st_serve_in_pct_avg',\n",
       " 'loser_CO_1st_serve_in_pct_avg',\n",
       " 'winner_1st_serve_win_pct_avg',\n",
       " 'loser_1st_serve_win_pct_avg',\n",
       " 'winner_CO_1st_serve_win_pct_avg',\n",
       " 'loser_CO_1st_serve_win_pct_avg',\n",
       " 'winner_2nd_serve_in_pct_avg',\n",
       " 'loser_2nd_serve_in_pct_avg',\n",
       " 'winner_CO_2nd_serve_in_pct_avg',\n",
       " 'loser_CO_2nd_serve_in_pct_avg',\n",
       " 'winner_2nd_serve_win_pct_avg',\n",
       " 'loser_2nd_serve_win_pct_avg',\n",
       " 'winner_CO_2nd_serve_win_pct_avg',\n",
       " 'loser_CO_2nd_serve_win_pct_avg',\n",
       " 'winner_service_games_won_pct_avg',\n",
       " 'loser_service_games_won_pct_avg',\n",
       " 'winner_CO_service_games_won_pct_avg',\n",
       " 'loser_CO_service_games_won_pct_avg',\n",
       " 'winner_1st_serve_return_win_pct_avg',\n",
       " 'loser_1st_serve_return_win_pct_avg',\n",
       " 'winner_CO_1st_serve_return_win_pct_avg',\n",
       " 'loser_CO_1st_serve_return_win_pct_avg',\n",
       " 'winner_2nd_serve_return_win_pct_avg',\n",
       " 'loser_2nd_serve_return_win_pct_avg',\n",
       " 'winner_CO_2nd_serve_return_win_pct_avg',\n",
       " 'loser_CO_2nd_serve_return_win_pct_avg',\n",
       " 'winner_return_games_win_pct_avg',\n",
       " 'loser_return_games_win_pct_avg',\n",
       " 'winner_CO_return_games_win_pct_avg',\n",
       " 'loser_CO_return_games_win_pct_avg',\n",
       " 'winner_bp_won_pct_avg',\n",
       " 'loser_bp_won_pct_avg',\n",
       " 'winner_CO_bp_won_pct_avg',\n",
       " 'loser_CO_bp_won_pct_avg',\n",
       " 'winner_bp_saved_pct_avg',\n",
       " 'loser_bp_saved_pct_avg',\n",
       " 'winner_CO_bp_saved_pct_avg',\n",
       " 'loser_CO_bp_saved_pct_avg',\n",
       " 'non_CO_uncertainty',\n",
       " 'CO_uncertainty',\n",
       " 'elo_winner',\n",
       " 'elo_loser',\n",
       " 'surface_elo_winner',\n",
       " 'surface_elo_loser',\n",
       " 'blended_elo_winner',\n",
       " 'blended_elo_loser',\n",
       " 'winner_fatigue_score',\n",
       " 'loser_fatigue_score',\n",
       " 'winner_h2h_wins',\n",
       " 'loser_h2h_wins',\n",
       " 'winner_h2h_surface_wins',\n",
       " 'loser_h2h_surface_wins',\n",
       " 'tournament_country',\n",
       " 'winner_home',\n",
       " 'loser_home',\n",
       " 'winner_injury_score',\n",
       " 'loser_injury_score',\n",
       " 'winner_win_pct_last_10',\n",
       " 'loser_win_pct_last_10',\n",
       " 'winner_win_pct_last_10_surface',\n",
       " 'loser_win_pct_last_10_surface',\n",
       " 'Round_Num',\n",
       " 'Winner_Set_Diff_Tournament',\n",
       " 'Winner_Game_Diff_Tournament',\n",
       " 'Loser_Set_Diff_Tournament',\n",
       " 'Loser_Game_Diff_Tournament',\n",
       " 'winner_total_wins_tournament_history',\n",
       " 'winner_total_losses_tournament_history',\n",
       " 'loser_total_wins_tournament_history',\n",
       " 'loser_total_losses_tournament_history',\n",
       " 'temperature_2m',\n",
       " 'relative_humidity_2m',\n",
       " 'windspeed_10m',\n",
       " 'apparent_temperature']"
      ]
     },
     "execution_count": 3,
     "metadata": {},
     "output_type": "execute_result"
    }
   ],
   "execution_count": 3
  },
  {
   "metadata": {
    "ExecuteTime": {
     "end_time": "2025-01-02T18:12:37.390647Z",
     "start_time": "2025-01-02T18:12:37.384146Z"
    }
   },
   "cell_type": "code",
   "source": [
    "pre_match_stats = pre_match_stats.drop(columns=['temperature_2m',\n",
    " 'relative_humidity_2m',\n",
    " 'windspeed_10m',\n",
    " 'apparent_temperature'])"
   ],
   "id": "1627632e99d719dc",
   "outputs": [],
   "execution_count": 4
  },
  {
   "metadata": {
    "ExecuteTime": {
     "end_time": "2025-01-02T18:12:55.491633Z",
     "start_time": "2025-01-02T18:12:54.795617Z"
    }
   },
   "cell_type": "code",
   "source": "pre_match_stats.to_csv(\"../data/pre-match_stats.csv\", index=False)",
   "id": "a5cbad75d3952610",
   "outputs": [],
   "execution_count": 5
  },
  {
   "metadata": {},
   "cell_type": "code",
   "outputs": [],
   "execution_count": null,
   "source": "",
   "id": "fa46a3a1e5b4bf4e"
  }
 ],
 "metadata": {
  "kernelspec": {
   "display_name": "Python 3",
   "language": "python",
   "name": "python3"
  },
  "language_info": {
   "codemirror_mode": {
    "name": "ipython",
    "version": 2
   },
   "file_extension": ".py",
   "mimetype": "text/x-python",
   "name": "python",
   "nbconvert_exporter": "python",
   "pygments_lexer": "ipython2",
   "version": "2.7.6"
  }
 },
 "nbformat": 4,
 "nbformat_minor": 5
}
