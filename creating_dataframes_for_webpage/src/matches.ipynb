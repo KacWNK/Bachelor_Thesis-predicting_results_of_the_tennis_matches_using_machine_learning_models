{
 "cells": [
  {
   "cell_type": "code",
   "id": "initial_id",
   "metadata": {
    "collapsed": true,
    "ExecuteTime": {
     "end_time": "2025-01-19T02:47:28.533196Z",
     "start_time": "2025-01-19T02:47:28.530679Z"
    }
   },
   "source": "import pandas as pd",
   "outputs": [],
   "execution_count": 11
  },
  {
   "metadata": {
    "ExecuteTime": {
     "end_time": "2025-01-19T02:47:29.709347Z",
     "start_time": "2025-01-19T02:47:29.103527Z"
    }
   },
   "cell_type": "code",
   "source": [
    "# preprocessed_matches = pd.read_csv(\"../../preprocessing/data/merged_matches_with_time.csv\")\n",
    "# match_stats = pd.read_csv(\"../data/match_stats.csv\")\n",
    "match_predictions_net = pd.read_csv(\"../../models/neural_net/neural_net_predictions_2024.csv\")\n",
    "raw_matches = pd.read_csv(\"../../preprocessing/data/matches_2024_raw.csv\")\n",
    "# pre_match_stats = pd.read_csv(\"../../feature_creation/data/features_merged.csv\")\n",
    "matches = pd.read_csv(\"../../feature_creation/data/all_matches_processed.csv\")\n",
    "matches['Date'] = pd.to_datetime(matches['Date'])\n",
    "matches = matches[matches['Date'].dt.year == 2024]"
   ],
   "id": "6773753d7fd5bce7",
   "outputs": [
    {
     "name": "stderr",
     "output_type": "stream",
     "text": [
      "C:\\Users\\Pawel\\AppData\\Local\\Temp\\ipykernel_21700\\3896319994.py:6: DtypeWarning: Columns (27,234,235,236,237,238) have mixed types. Specify dtype option on import or set low_memory=False.\n",
      "  matches = pd.read_csv(\"../../feature_creation/data/all_matches_processed.csv\")\n"
     ]
    }
   ],
   "execution_count": 12
  },
  {
   "metadata": {
    "ExecuteTime": {
     "end_time": "2025-01-19T02:47:30.382382Z",
     "start_time": "2025-01-19T02:47:30.357258Z"
    }
   },
   "cell_type": "code",
   "source": [
    "# matches = pd.merge(preprocessed_matches, match_stats, on=\"match_id\", how=\"inner\")\n",
    "matches = pd.merge(matches, match_predictions_net, on=\"match_id\", how=\"left\")\n",
    "matches = pd.merge(matches, raw_matches[['match_id', 'winner_seed', 'loser_seed', 'winner_entry', 'loser_entry']], on=\"match_id\", how=\"inner\")\n",
    "matches['Date'] = pd.to_datetime(matches['Date'])\n",
    "\n",
    "matches = matches.sort_values(by=['Date']).reset_index(drop=True)"
   ],
   "id": "2841cba6857d42b0",
   "outputs": [],
   "execution_count": 13
  },
  {
   "metadata": {
    "ExecuteTime": {
     "end_time": "2025-01-19T02:47:31.043761Z",
     "start_time": "2025-01-19T02:47:31.038209Z"
    }
   },
   "cell_type": "code",
   "source": "list(matches.columns)",
   "id": "9d8b11ecc2d685d6",
   "outputs": [
    {
     "data": {
      "text/plain": [
       "['tournament_location',\n",
       " 'tournament_name',\n",
       " 'Date',\n",
       " 'tournament_level',\n",
       " 'indoor_or_outdoor',\n",
       " 'Surface',\n",
       " 'Round',\n",
       " 'W1',\n",
       " 'L1',\n",
       " 'W2',\n",
       " 'L2',\n",
       " 'W3',\n",
       " 'L3',\n",
       " 'W4',\n",
       " 'L4',\n",
       " 'W5',\n",
       " 'L5',\n",
       " 'Wsets',\n",
       " 'Lsets',\n",
       " 'Comment',\n",
       " 'AvgW',\n",
       " 'AvgL',\n",
       " 'loser_id',\n",
       " 'winner_id',\n",
       " 'match_id',\n",
       " 'tournament_id',\n",
       " 'draw_size',\n",
       " 'tournament_date',\n",
       " 'winner_name',\n",
       " 'winner_hand',\n",
       " 'winner_ht',\n",
       " 'winner_ioc',\n",
       " 'winner_age',\n",
       " 'loser_name',\n",
       " 'loser_hand',\n",
       " 'loser_ht',\n",
       " 'loser_ioc',\n",
       " 'loser_age',\n",
       " 'best_of',\n",
       " 'minutes',\n",
       " 'w_ace',\n",
       " 'w_df',\n",
       " 'w_svpt',\n",
       " 'w_1stIn',\n",
       " 'w_1stWon',\n",
       " 'w_2ndWon',\n",
       " 'w_SvGms',\n",
       " 'w_bpSaved',\n",
       " 'w_bpFaced',\n",
       " 'l_ace',\n",
       " 'l_df',\n",
       " 'l_svpt',\n",
       " 'l_1stIn',\n",
       " 'l_1stWon',\n",
       " 'l_2ndWon',\n",
       " 'l_SvGms',\n",
       " 'l_bpSaved',\n",
       " 'l_bpFaced',\n",
       " 'winner_rank',\n",
       " 'winner_rank_points',\n",
       " 'loser_rank',\n",
       " 'loser_rank_points',\n",
       " 'time',\n",
       " 'winner_entry_LL',\n",
       " 'winner_entry_Q',\n",
       " 'winner_entry_WC',\n",
       " 'loser_entry_LL',\n",
       " 'loser_entry_Q',\n",
       " 'loser_entry_WC',\n",
       " 'winner_is_seeded',\n",
       " 'loser_is_seeded',\n",
       " 'elo_winner',\n",
       " 'elo_loser',\n",
       " 'surface_elo_winner',\n",
       " 'surface_elo_loser',\n",
       " 'blended_elo_winner',\n",
       " 'blended_elo_loser',\n",
       " 'winner_win_pct_last_10',\n",
       " 'loser_win_pct_last_10',\n",
       " 'winner_win_pct_last_10_surface',\n",
       " 'loser_win_pct_last_10_surface',\n",
       " 'winner_fatigue_score',\n",
       " 'loser_fatigue_score',\n",
       " 'w_2ndIn',\n",
       " 'l_2ndIn',\n",
       " 'winner_1st_serve_in_pct',\n",
       " 'winner_1st_serve_win_pct',\n",
       " 'winner_2nd_serve_in_pct',\n",
       " 'winner_2nd_serve_win_pct',\n",
       " 'winner_service_games_won_pct',\n",
       " 'loser_1st_serve_in_pct',\n",
       " 'loser_1st_serve_win_pct',\n",
       " 'loser_2nd_serve_in_pct',\n",
       " 'loser_2nd_serve_win_pct',\n",
       " 'loser_service_games_won_pct',\n",
       " 'winner_1st_serve_return_win_pct',\n",
       " 'winner_2nd_serve_return_win_pct',\n",
       " 'winner_return_games_win_pct',\n",
       " 'loser_1st_serve_return_win_pct',\n",
       " 'loser_2nd_serve_return_win_pct',\n",
       " 'loser_return_games_win_pct',\n",
       " 'winner_bp_won_pct',\n",
       " 'loser_bp_won_pct',\n",
       " 'winner_bp_saved_pct',\n",
       " 'loser_bp_saved_pct',\n",
       " 'num_CO_matches',\n",
       " 'w_ace_avg',\n",
       " 'l_ace_avg',\n",
       " 'w_ace_uncertainty',\n",
       " 'l_ace_uncertainty',\n",
       " 'w_CO_ace_avg',\n",
       " 'l_CO_ace_avg',\n",
       " 'w_CO_ace_uncertainty',\n",
       " 'l_CO_ace_uncertainty',\n",
       " 'w_df_avg',\n",
       " 'l_df_avg',\n",
       " 'w_df_uncertainty',\n",
       " 'l_df_uncertainty',\n",
       " 'w_CO_df_avg',\n",
       " 'l_CO_df_avg',\n",
       " 'w_CO_df_uncertainty',\n",
       " 'l_CO_df_uncertainty',\n",
       " 'w_2ndIn_avg',\n",
       " 'l_2ndIn_avg',\n",
       " 'w_2ndIn_uncertainty',\n",
       " 'l_2ndIn_uncertainty',\n",
       " 'w_CO_2ndIn_avg',\n",
       " 'l_CO_2ndIn_avg',\n",
       " 'w_CO_2ndIn_uncertainty',\n",
       " 'l_CO_2ndIn_uncertainty',\n",
       " 'winner_1st_serve_in_pct_avg',\n",
       " 'loser_1st_serve_in_pct_avg',\n",
       " 'winner_1st_serve_in_pct_uncertainty',\n",
       " 'loser_1st_serve_in_pct_uncertainty',\n",
       " 'winner_CO_1st_serve_in_pct_avg',\n",
       " 'loser_CO_1st_serve_in_pct_avg',\n",
       " 'winner_CO_1st_serve_in_pct_uncertainty',\n",
       " 'loser_CO_1st_serve_in_pct_uncertainty',\n",
       " 'winner_1st_serve_win_pct_avg',\n",
       " 'loser_1st_serve_win_pct_avg',\n",
       " 'winner_1st_serve_win_pct_uncertainty',\n",
       " 'loser_1st_serve_win_pct_uncertainty',\n",
       " 'winner_CO_1st_serve_win_pct_avg',\n",
       " 'loser_CO_1st_serve_win_pct_avg',\n",
       " 'winner_CO_1st_serve_win_pct_uncertainty',\n",
       " 'loser_CO_1st_serve_win_pct_uncertainty',\n",
       " 'winner_2nd_serve_in_pct_avg',\n",
       " 'loser_2nd_serve_in_pct_avg',\n",
       " 'winner_2nd_serve_in_pct_uncertainty',\n",
       " 'loser_2nd_serve_in_pct_uncertainty',\n",
       " 'winner_CO_2nd_serve_in_pct_avg',\n",
       " 'loser_CO_2nd_serve_in_pct_avg',\n",
       " 'winner_CO_2nd_serve_in_pct_uncertainty',\n",
       " 'loser_CO_2nd_serve_in_pct_uncertainty',\n",
       " 'winner_2nd_serve_win_pct_avg',\n",
       " 'loser_2nd_serve_win_pct_avg',\n",
       " 'winner_2nd_serve_win_pct_uncertainty',\n",
       " 'loser_2nd_serve_win_pct_uncertainty',\n",
       " 'winner_CO_2nd_serve_win_pct_avg',\n",
       " 'loser_CO_2nd_serve_win_pct_avg',\n",
       " 'winner_CO_2nd_serve_win_pct_uncertainty',\n",
       " 'loser_CO_2nd_serve_win_pct_uncertainty',\n",
       " 'winner_service_games_won_pct_avg',\n",
       " 'loser_service_games_won_pct_avg',\n",
       " 'winner_service_games_won_pct_uncertainty',\n",
       " 'loser_service_games_won_pct_uncertainty',\n",
       " 'winner_CO_service_games_won_pct_avg',\n",
       " 'loser_CO_service_games_won_pct_avg',\n",
       " 'winner_CO_service_games_won_pct_uncertainty',\n",
       " 'loser_CO_service_games_won_pct_uncertainty',\n",
       " 'winner_1st_serve_return_win_pct_avg',\n",
       " 'loser_1st_serve_return_win_pct_avg',\n",
       " 'winner_1st_serve_return_win_pct_uncertainty',\n",
       " 'loser_1st_serve_return_win_pct_uncertainty',\n",
       " 'winner_CO_1st_serve_return_win_pct_avg',\n",
       " 'loser_CO_1st_serve_return_win_pct_avg',\n",
       " 'winner_CO_1st_serve_return_win_pct_uncertainty',\n",
       " 'loser_CO_1st_serve_return_win_pct_uncertainty',\n",
       " 'winner_2nd_serve_return_win_pct_avg',\n",
       " 'loser_2nd_serve_return_win_pct_avg',\n",
       " 'winner_2nd_serve_return_win_pct_uncertainty',\n",
       " 'loser_2nd_serve_return_win_pct_uncertainty',\n",
       " 'winner_CO_2nd_serve_return_win_pct_avg',\n",
       " 'loser_CO_2nd_serve_return_win_pct_avg',\n",
       " 'winner_CO_2nd_serve_return_win_pct_uncertainty',\n",
       " 'loser_CO_2nd_serve_return_win_pct_uncertainty',\n",
       " 'winner_return_games_win_pct_avg',\n",
       " 'loser_return_games_win_pct_avg',\n",
       " 'winner_return_games_win_pct_uncertainty',\n",
       " 'loser_return_games_win_pct_uncertainty',\n",
       " 'winner_CO_return_games_win_pct_avg',\n",
       " 'loser_CO_return_games_win_pct_avg',\n",
       " 'winner_CO_return_games_win_pct_uncertainty',\n",
       " 'loser_CO_return_games_win_pct_uncertainty',\n",
       " 'winner_bp_won_pct_avg',\n",
       " 'loser_bp_won_pct_avg',\n",
       " 'winner_bp_won_pct_uncertainty',\n",
       " 'loser_bp_won_pct_uncertainty',\n",
       " 'winner_CO_bp_won_pct_avg',\n",
       " 'loser_CO_bp_won_pct_avg',\n",
       " 'winner_CO_bp_won_pct_uncertainty',\n",
       " 'loser_CO_bp_won_pct_uncertainty',\n",
       " 'winner_bp_saved_pct_avg',\n",
       " 'loser_bp_saved_pct_avg',\n",
       " 'winner_bp_saved_pct_uncertainty',\n",
       " 'loser_bp_saved_pct_uncertainty',\n",
       " 'winner_CO_bp_saved_pct_avg',\n",
       " 'loser_CO_bp_saved_pct_avg',\n",
       " 'winner_CO_bp_saved_pct_uncertainty',\n",
       " 'loser_CO_bp_saved_pct_uncertainty',\n",
       " 'non_CO_uncertainty_winner',\n",
       " 'CO_uncertainty_winner',\n",
       " 'non_CO_uncertainty_loser',\n",
       " 'CO_uncertainty_loser',\n",
       " 'CO_uncertainty',\n",
       " 'non_CO_uncertainty',\n",
       " 'winner_h2h_wins',\n",
       " 'loser_h2h_wins',\n",
       " 'winner_h2h_surface_wins',\n",
       " 'loser_h2h_surface_wins',\n",
       " 'tournament_country',\n",
       " 'winner_home',\n",
       " 'loser_home',\n",
       " 'winner_injury_score',\n",
       " 'loser_injury_score',\n",
       " 'Round_Num',\n",
       " 'Winner_Set_Diff_Tournament',\n",
       " 'Winner_Game_Diff_Tournament',\n",
       " 'Loser_Set_Diff_Tournament',\n",
       " 'Loser_Game_Diff_Tournament',\n",
       " 'winner_total_wins_tournament_history',\n",
       " 'winner_total_losses_tournament_history',\n",
       " 'loser_total_wins_tournament_history',\n",
       " 'loser_total_losses_tournament_history',\n",
       " 'url',\n",
       " 'winner_Name',\n",
       " 'winner_Date_of_birth',\n",
       " 'loser_Name',\n",
       " 'loser_Date_of_birth',\n",
       " 'true_label',\n",
       " 'model_prediction',\n",
       " 'odds_prediction',\n",
       " 'uncertain',\n",
       " 'winner_seed',\n",
       " 'loser_seed',\n",
       " 'winner_entry',\n",
       " 'loser_entry']"
      ]
     },
     "execution_count": 14,
     "metadata": {},
     "output_type": "execute_result"
    }
   ],
   "execution_count": 14
  },
  {
   "metadata": {
    "ExecuteTime": {
     "end_time": "2025-01-19T02:47:31.918445Z",
     "start_time": "2025-01-19T02:47:31.908345Z"
    }
   },
   "cell_type": "code",
   "source": [
    "matches.loc[matches['true_label'] == 0, 'model_prediction'] = 1 - matches['model_prediction']\n",
    "matches.loc[matches['true_label'] == 0, 'odds_prediction'] = 1 - matches['odds_prediction']\n",
    "matches.rename({'model_prediction': 'winner_model_prediction', 'odds_prediction': 'winner_odds_prediction'}, axis='columns', inplace=True)\n",
    "matches = matches.drop(columns=['true_label'])\n"
   ],
   "id": "1a81a5ddc22a24a7",
   "outputs": [],
   "execution_count": 15
  },
  {
   "metadata": {
    "ExecuteTime": {
     "end_time": "2025-01-19T02:47:32.620840Z",
     "start_time": "2025-01-19T02:47:32.611779Z"
    }
   },
   "cell_type": "code",
   "source": [
    "matches_df = matches[[\n",
    "    'match_id', 'Date', 'tournament_id', 'Round', 'indoor_or_outdoor', 'best_of', 'minutes', 'winner_id', 'loser_id',\n",
    "'winner_seed', 'loser_seed', 'winner_entry', 'loser_entry', 'winner_rank', 'loser_rank', 'winner_rank_points',\n",
    "'loser_rank_points', 'winner_age', 'loser_age', 'W1', 'L1', 'W2', 'L2', 'W3', 'L3', 'W4', 'L4', 'W5', 'L5',\n",
    "'Wsets', 'Lsets', 'w_ace', 'l_ace', 'w_df', 'l_df', 'w_bpSaved', 'l_bpSaved', 'w_bpFaced', 'l_bpFaced', 'w_svpt',\n",
    "'w_1stIn', 'w_1stWon', 'w_2ndWon', 'w_SvGms', 'w_bpSaved', 'l_ace', 'l_df', 'l_svpt', 'l_1stIn', 'l_1stWon',\n",
    "'l_2ndWon', 'w_2ndIn', 'l_2ndIn', 'winner_1st_serve_in_pct', 'winner_1st_serve_win_pct', 'winner_2nd_serve_in_pct', 'winner_2nd_serve_win_pct',\n",
    "'winner_service_games_won_pct', 'loser_1st_serve_in_pct', 'loser_1st_serve_win_pct', 'loser_2nd_serve_in_pct',\n",
    "'loser_2nd_serve_win_pct', 'loser_service_games_won_pct', 'winner_1st_serve_return_win_pct',\n",
    "'winner_2nd_serve_return_win_pct', 'winner_return_games_win_pct', 'loser_1st_serve_return_win_pct',\n",
    "'loser_2nd_serve_return_win_pct', 'loser_return_games_win_pct', 'winner_bp_won_pct', 'loser_bp_won_pct',\n",
    "'winner_bp_saved_pct', 'loser_bp_saved_pct', 'l_SvGms', 'Comment', 'AvgW', 'AvgL', 'winner_model_prediction', 'winner_odds_prediction', 'uncertain'\n",
    "\n",
    "]]\n",
    "matches_df = matches_df.rename(columns={'Date': 'date'})"
   ],
   "id": "7346896598eb7bbd",
   "outputs": [],
   "execution_count": 16
  },
  {
   "metadata": {
    "ExecuteTime": {
     "end_time": "2025-01-19T02:47:33.641752Z",
     "start_time": "2025-01-19T02:47:33.634241Z"
    }
   },
   "cell_type": "code",
   "source": "matches_df[\"match_id\"].value_counts()",
   "id": "217e65b050412df0",
   "outputs": [
    {
     "data": {
      "text/plain": [
       "match_id\n",
       "Belgrade 2_2024_133430_209098    1\n",
       "Brisbane_2024_208029_126845      1\n",
       "Hong Kong_2024_200303_132686     1\n",
       "Brisbane_2024_126128_210097      1\n",
       "Hong Kong_2024_200325_126127     1\n",
       "                                ..\n",
       "Brisbane_2024_208286_105916      1\n",
       "Brisbane_2024_208014_106423      1\n",
       "Hong Kong_2024_124116_111456     1\n",
       "Brisbane_2024_207830_144869      1\n",
       "Brisbane_2024_104745_106233      1\n",
       "Name: count, Length: 2536, dtype: int64"
      ]
     },
     "execution_count": 17,
     "metadata": {},
     "output_type": "execute_result"
    }
   ],
   "execution_count": 17
  },
  {
   "metadata": {
    "ExecuteTime": {
     "end_time": "2025-01-19T02:47:35.844213Z",
     "start_time": "2025-01-19T02:47:35.762328Z"
    }
   },
   "cell_type": "code",
   "source": "matches_df.to_csv('../data/matches.csv', index=False)",
   "id": "7fc3a192a590bc64",
   "outputs": [],
   "execution_count": 18
  },
  {
   "metadata": {
    "ExecuteTime": {
     "end_time": "2025-01-18T18:49:07.806146Z",
     "start_time": "2025-01-18T18:49:07.802145Z"
    }
   },
   "cell_type": "code",
   "source": "",
   "id": "e41de948a10337d7",
   "outputs": [],
   "execution_count": 16
  }
 ],
 "metadata": {
  "kernelspec": {
   "display_name": "Python 3",
   "language": "python",
   "name": "python3"
  },
  "language_info": {
   "codemirror_mode": {
    "name": "ipython",
    "version": 2
   },
   "file_extension": ".py",
   "mimetype": "text/x-python",
   "name": "python",
   "nbconvert_exporter": "python",
   "pygments_lexer": "ipython2",
   "version": "2.7.6"
  }
 },
 "nbformat": 4,
 "nbformat_minor": 5
}
