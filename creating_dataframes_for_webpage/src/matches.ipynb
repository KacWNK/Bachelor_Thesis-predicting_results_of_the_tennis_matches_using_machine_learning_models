{
 "cells": [
  {
   "cell_type": "code",
   "id": "initial_id",
   "metadata": {
    "collapsed": true,
    "ExecuteTime": {
     "end_time": "2025-01-05T20:05:04.839670Z",
     "start_time": "2025-01-05T20:05:04.554131Z"
    }
   },
   "source": "import pandas as pd",
   "outputs": [],
   "execution_count": 1
  },
  {
   "metadata": {
    "ExecuteTime": {
     "end_time": "2025-01-05T20:05:05.932191Z",
     "start_time": "2025-01-05T20:05:04.840704Z"
    }
   },
   "cell_type": "code",
   "source": [
    "preprocessed_matches = pd.read_csv(\"../../preprocessing/data/merged_matches_with_time.csv\")\n",
    "match_stats = pd.read_csv(\"../data/match_stats.csv\")\n",
    "match_predictions_net = pd.read_csv(\"../../models/neural_net/best_models/currently_best_model_match_predictions.csv\")\n",
    "pre_match_stats = pd.read_csv(\"../../feature_creation/data/features_merged.csv\")"
   ],
   "id": "6773753d7fd5bce7",
   "outputs": [],
   "execution_count": 2
  },
  {
   "metadata": {
    "ExecuteTime": {
     "end_time": "2025-01-05T20:05:05.966555Z",
     "start_time": "2025-01-05T20:05:05.933255Z"
    }
   },
   "cell_type": "code",
   "source": [
    "matches = pd.merge(preprocessed_matches, match_stats, on=\"match_id\", how=\"inner\")\n",
    "matches = pd.merge(matches, match_predictions_net, on=\"match_id\", how=\"left\")\n",
    "#matches = pd.merge(matches, pre_match_stats, on=\"match_id\", how=\"inner\")\n",
    "\n",
    "matches = matches.sort_values(by=['Date']).reset_index(drop=True)"
   ],
   "id": "2841cba6857d42b0",
   "outputs": [],
   "execution_count": 3
  },
  {
   "metadata": {
    "ExecuteTime": {
     "end_time": "2025-01-05T20:05:05.973331Z",
     "start_time": "2025-01-05T20:05:05.968165Z"
    }
   },
   "cell_type": "code",
   "source": "list(matches.columns)",
   "id": "9d8b11ecc2d685d6",
   "outputs": [
    {
     "data": {
      "text/plain": [
       "['tournament_location',\n",
       " 'tournament_name',\n",
       " 'Date',\n",
       " 'indoor_or_outdoor',\n",
       " 'Surface',\n",
       " 'Round',\n",
       " 'W1',\n",
       " 'L1',\n",
       " 'W2',\n",
       " 'L2',\n",
       " 'W3',\n",
       " 'L3',\n",
       " 'W4',\n",
       " 'L4',\n",
       " 'W5',\n",
       " 'L5',\n",
       " 'Wsets',\n",
       " 'Lsets',\n",
       " 'Comment',\n",
       " 'AvgW',\n",
       " 'AvgL',\n",
       " 'loser_id',\n",
       " 'winner_id',\n",
       " 'match_id',\n",
       " 'tournament_id',\n",
       " 'draw_size',\n",
       " 'tournament_level',\n",
       " 'tournament_date',\n",
       " 'winner_seed',\n",
       " 'winner_entry',\n",
       " 'winner_name',\n",
       " 'winner_hand',\n",
       " 'winner_ht',\n",
       " 'winner_ioc',\n",
       " 'winner_age',\n",
       " 'loser_seed',\n",
       " 'loser_entry',\n",
       " 'loser_name',\n",
       " 'loser_hand',\n",
       " 'loser_ht',\n",
       " 'loser_ioc',\n",
       " 'loser_age',\n",
       " 'best_of',\n",
       " 'minutes',\n",
       " 'w_ace',\n",
       " 'w_df',\n",
       " 'w_svpt',\n",
       " 'w_1stIn',\n",
       " 'w_1stWon',\n",
       " 'w_2ndWon',\n",
       " 'w_SvGms',\n",
       " 'w_bpSaved',\n",
       " 'w_bpFaced',\n",
       " 'l_ace',\n",
       " 'l_df',\n",
       " 'l_svpt',\n",
       " 'l_1stIn',\n",
       " 'l_1stWon',\n",
       " 'l_2ndWon',\n",
       " 'l_SvGms',\n",
       " 'l_bpSaved',\n",
       " 'l_bpFaced',\n",
       " 'winner_rank',\n",
       " 'winner_rank_points',\n",
       " 'loser_rank',\n",
       " 'loser_rank_points',\n",
       " 'time',\n",
       " 'w_2ndIn',\n",
       " 'l_2ndIn',\n",
       " 'winner_1st_serve_in_pct',\n",
       " 'winner_1st_serve_win_pct',\n",
       " 'winner_2nd_serve_in_pct',\n",
       " 'winner_2nd_serve_win_pct',\n",
       " 'winner_service_games_won_pct',\n",
       " 'loser_1st_serve_in_pct',\n",
       " 'loser_1st_serve_win_pct',\n",
       " 'loser_2nd_serve_in_pct',\n",
       " 'loser_2nd_serve_win_pct',\n",
       " 'loser_service_games_won_pct',\n",
       " 'winner_1st_serve_return_win_pct',\n",
       " 'winner_2nd_serve_return_win_pct',\n",
       " 'winner_return_games_win_pct',\n",
       " 'loser_1st_serve_return_win_pct',\n",
       " 'loser_2nd_serve_return_win_pct',\n",
       " 'loser_return_games_win_pct',\n",
       " 'winner_bp_won_pct',\n",
       " 'loser_bp_won_pct',\n",
       " 'winner_bp_saved_pct',\n",
       " 'loser_bp_saved_pct',\n",
       " 'true_label',\n",
       " 'model_prediction',\n",
       " 'odds_prediction',\n",
       " 'uncertain']"
      ]
     },
     "execution_count": 4,
     "metadata": {},
     "output_type": "execute_result"
    }
   ],
   "execution_count": 4
  },
  {
   "metadata": {
    "ExecuteTime": {
     "end_time": "2025-01-05T20:05:05.983703Z",
     "start_time": "2025-01-05T20:05:05.973846Z"
    }
   },
   "cell_type": "code",
   "source": [
    "matches.loc[matches['true_label'] == 0, 'model_prediction'] = 1 - matches['model_prediction']\n",
    "matches.loc[matches['true_label'] == 0, 'odds_prediction'] = 1 - matches['odds_prediction']\n",
    "matches.rename({'model_prediction': 'winner_model_prediction', 'odds_prediction': 'winner_odds_prediction'}, axis='columns', inplace=True)\n",
    "matches = matches.drop(columns=['true_label'])"
   ],
   "id": "1a81a5ddc22a24a7",
   "outputs": [],
   "execution_count": 5
  },
  {
   "metadata": {
    "ExecuteTime": {
     "end_time": "2025-01-05T20:05:05.993062Z",
     "start_time": "2025-01-05T20:05:05.984212Z"
    }
   },
   "cell_type": "code",
   "source": [
    "matches_df = matches[[\n",
    "    'match_id', 'Date', 'tournament_id', 'Round', 'indoor_or_outdoor', 'best_of', 'minutes', 'winner_id', 'loser_id',\n",
    "'winner_seed', 'loser_seed', 'winner_entry', 'loser_entry', 'winner_rank', 'loser_rank', 'winner_rank_points',\n",
    "'loser_rank_points', 'winner_age', 'loser_age', 'W1', 'L1', 'W2', 'L2', 'W3', 'L3', 'W4', 'L4', 'W5', 'L5',\n",
    "'Wsets', 'Lsets', 'w_ace', 'l_ace', 'w_df', 'l_df', 'w_bpSaved', 'l_bpSaved', 'w_bpFaced', 'l_bpFaced', 'w_svpt',\n",
    "'w_1stIn', 'w_1stWon', 'w_2ndWon', 'w_SvGms', 'w_bpSaved', 'l_ace', 'l_df', 'l_svpt', 'l_1stIn', 'l_1stWon',\n",
    "'l_2ndWon', 'w_2ndIn', 'l_2ndIn', 'winner_1st_serve_in_pct', 'winner_1st_serve_win_pct', 'winner_2nd_serve_in_pct', 'winner_2nd_serve_win_pct',\n",
    "'winner_service_games_won_pct', 'loser_1st_serve_in_pct', 'loser_1st_serve_win_pct', 'loser_2nd_serve_in_pct',\n",
    "'loser_2nd_serve_win_pct', 'loser_service_games_won_pct', 'winner_1st_serve_return_win_pct',\n",
    "'winner_2nd_serve_return_win_pct', 'winner_return_games_win_pct', 'loser_1st_serve_return_win_pct',\n",
    "'loser_2nd_serve_return_win_pct', 'loser_return_games_win_pct', 'winner_bp_won_pct', 'loser_bp_won_pct',\n",
    "'winner_bp_saved_pct', 'loser_bp_saved_pct', 'l_SvGms', 'Comment', 'AvgW', 'AvgL', 'winner_model_prediction', 'winner_odds_prediction', 'uncertain'\n",
    "\n",
    "]]\n",
    "matches_df = matches_df.rename(columns={'Date': 'date'})"
   ],
   "id": "7346896598eb7bbd",
   "outputs": [],
   "execution_count": 6
  },
  {
   "metadata": {
    "ExecuteTime": {
     "end_time": "2025-01-05T20:05:06.000864Z",
     "start_time": "2025-01-05T20:05:05.993582Z"
    }
   },
   "cell_type": "code",
   "source": "matches_df[\"match_id\"].value_counts()",
   "id": "217e65b050412df0",
   "outputs": [
    {
     "data": {
      "text/plain": [
       "match_id\n",
       "Sofia_2023_105173_207733       1\n",
       "Brisbane_2018_105238_106043    1\n",
       "Brisbane_2018_200282_105449    1\n",
       "Doha_2018_105932_105341        1\n",
       "Doha_2018_106233_105539        1\n",
       "                              ..\n",
       "Pune_2018_125802_111576        1\n",
       "Pune_2018_106368_106148        1\n",
       "Brisbane_2018_111577_111442    1\n",
       "Brisbane_2018_104547_124014    1\n",
       "Brisbane_2018_104999_105441    1\n",
       "Name: count, Length: 14111, dtype: int64"
      ]
     },
     "execution_count": 7,
     "metadata": {},
     "output_type": "execute_result"
    }
   ],
   "execution_count": 7
  },
  {
   "metadata": {
    "ExecuteTime": {
     "end_time": "2025-01-05T20:05:06.447962Z",
     "start_time": "2025-01-05T20:05:06.001384Z"
    }
   },
   "cell_type": "code",
   "source": "matches_df.to_csv('../data/matches.csv', index=False)",
   "id": "7fc3a192a590bc64",
   "outputs": [],
   "execution_count": 8
  },
  {
   "metadata": {
    "ExecuteTime": {
     "end_time": "2025-01-05T20:05:06.451065Z",
     "start_time": "2025-01-05T20:05:06.448995Z"
    }
   },
   "cell_type": "code",
   "source": "",
   "id": "ba201341a940b1cb",
   "outputs": [],
   "execution_count": 8
  }
 ],
 "metadata": {
  "kernelspec": {
   "display_name": "Python 3",
   "language": "python",
   "name": "python3"
  },
  "language_info": {
   "codemirror_mode": {
    "name": "ipython",
    "version": 2
   },
   "file_extension": ".py",
   "mimetype": "text/x-python",
   "name": "python",
   "nbconvert_exporter": "python",
   "pygments_lexer": "ipython2",
   "version": "2.7.6"
  }
 },
 "nbformat": 4,
 "nbformat_minor": 5
}
