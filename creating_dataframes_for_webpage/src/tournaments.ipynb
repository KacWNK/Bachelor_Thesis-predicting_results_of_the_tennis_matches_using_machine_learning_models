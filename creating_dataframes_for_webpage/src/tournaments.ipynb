{
 "cells": [
  {
   "cell_type": "code",
   "id": "initial_id",
   "metadata": {
    "collapsed": true,
    "ExecuteTime": {
     "end_time": "2024-12-20T16:10:21.426527Z",
     "start_time": "2024-12-20T16:10:21.131075Z"
    }
   },
   "source": "import pandas as pd",
   "outputs": [],
   "execution_count": 1
  },
  {
   "metadata": {
    "ExecuteTime": {
     "end_time": "2024-12-20T16:10:21.513652Z",
     "start_time": "2024-12-20T16:10:21.427048Z"
    }
   },
   "cell_type": "code",
   "source": "matches = pd.read_csv(\"../../preprocessing/data/merged_matches_with_time.csv\")",
   "id": "342e9f05a386623e",
   "outputs": [],
   "execution_count": 2
  },
  {
   "metadata": {
    "ExecuteTime": {
     "end_time": "2024-12-20T16:10:21.524088Z",
     "start_time": "2024-12-20T16:10:21.514224Z"
    }
   },
   "cell_type": "code",
   "source": [
    "tournaments_df = matches[\n",
    "    [\n",
    "        'tournament_id', \n",
    "        'tournament_name', \n",
    "        'tournament_location', \n",
    "        'tournament_date', \n",
    "        'tournament_level', \n",
    "        'draw_size', \n",
    "        'Surface', \n",
    "        'indoor_or_outdoor'\n",
    "    ]\n",
    "].drop_duplicates().reset_index(drop=True)\n"
   ],
   "id": "49911b1738f05559",
   "outputs": [],
   "execution_count": 3
  },
  {
   "metadata": {
    "ExecuteTime": {
     "end_time": "2024-12-20T16:10:21.529718Z",
     "start_time": "2024-12-20T16:10:21.524609Z"
    }
   },
   "cell_type": "code",
   "source": "tournaments_df.to_csv('../data/tournaments.csv', index=False)",
   "id": "20f0369928acf43a",
   "outputs": [],
   "execution_count": 4
  },
  {
   "metadata": {
    "ExecuteTime": {
     "end_time": "2024-12-20T16:10:21.533233Z",
     "start_time": "2024-12-20T16:10:21.530245Z"
    }
   },
   "cell_type": "code",
   "source": "",
   "id": "1cb9ebcf20cd09d0",
   "outputs": [],
   "execution_count": 4
  }
 ],
 "metadata": {
  "kernelspec": {
   "display_name": "Python 3",
   "language": "python",
   "name": "python3"
  },
  "language_info": {
   "codemirror_mode": {
    "name": "ipython",
    "version": 2
   },
   "file_extension": ".py",
   "mimetype": "text/x-python",
   "name": "python",
   "nbconvert_exporter": "python",
   "pygments_lexer": "ipython2",
   "version": "2.7.6"
  }
 },
 "nbformat": 4,
 "nbformat_minor": 5
}
