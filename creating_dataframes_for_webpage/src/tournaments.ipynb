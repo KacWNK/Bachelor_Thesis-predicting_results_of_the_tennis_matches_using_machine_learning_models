{
 "cells": [
  {
   "cell_type": "code",
   "id": "initial_id",
   "metadata": {
    "collapsed": true,
    "ExecuteTime": {
     "end_time": "2025-01-18T18:49:26.714439Z",
     "start_time": "2025-01-18T18:49:26.709475Z"
    }
   },
   "source": "import pandas as pd",
   "outputs": [],
   "execution_count": 5
  },
  {
   "metadata": {
    "ExecuteTime": {
     "end_time": "2025-01-18T18:49:27.170341Z",
     "start_time": "2025-01-18T18:49:26.715440Z"
    }
   },
   "cell_type": "code",
   "source": [
    "#matches = pd.read_csv(\"../../preprocessing/data/merged_matches_with_time.csv\")\n",
    "matches = pd.read_csv(\"../../feature_creation/data/all_matches_processed.csv\")"
   ],
   "id": "342e9f05a386623e",
   "outputs": [
    {
     "name": "stderr",
     "output_type": "stream",
     "text": [
      "C:\\Users\\Pawel\\AppData\\Local\\Temp\\ipykernel_32792\\1886921200.py:2: DtypeWarning: Columns (27,234,235,236,237,238) have mixed types. Specify dtype option on import or set low_memory=False.\n",
      "  matches = pd.read_csv(\"../../feature_creation/data/all_matches_processed.csv\")\n"
     ]
    }
   ],
   "execution_count": 6
  },
  {
   "metadata": {
    "ExecuteTime": {
     "end_time": "2025-01-18T18:49:27.182411Z",
     "start_time": "2025-01-18T18:49:27.171340Z"
    }
   },
   "cell_type": "code",
   "source": [
    "tournaments_df = matches[\n",
    "    [\n",
    "        'tournament_id', \n",
    "        'tournament_name', \n",
    "        'tournament_location', \n",
    "        #'tournament_date', \n",
    "        'tournament_level', \n",
    "        'draw_size', \n",
    "        'Surface', \n",
    "        'indoor_or_outdoor'\n",
    "    ]\n",
    "].drop_duplicates().reset_index(drop=True)\n"
   ],
   "id": "49911b1738f05559",
   "outputs": [],
   "execution_count": 7
  },
  {
   "metadata": {
    "ExecuteTime": {
     "end_time": "2025-01-18T18:49:27.187926Z",
     "start_time": "2025-01-18T18:49:27.183410Z"
    }
   },
   "cell_type": "code",
   "source": "tournaments_df.to_csv('../data/tournaments.csv', index=False)",
   "id": "20f0369928acf43a",
   "outputs": [],
   "execution_count": 8
  },
  {
   "metadata": {
    "ExecuteTime": {
     "end_time": "2025-01-18T18:49:27.190960Z",
     "start_time": "2025-01-18T18:49:27.188927Z"
    }
   },
   "cell_type": "code",
   "source": "",
   "id": "1cb9ebcf20cd09d0",
   "outputs": [],
   "execution_count": 8
  }
 ],
 "metadata": {
  "kernelspec": {
   "display_name": "Python 3",
   "language": "python",
   "name": "python3"
  },
  "language_info": {
   "codemirror_mode": {
    "name": "ipython",
    "version": 2
   },
   "file_extension": ".py",
   "mimetype": "text/x-python",
   "name": "python",
   "nbconvert_exporter": "python",
   "pygments_lexer": "ipython2",
   "version": "2.7.6"
  }
 },
 "nbformat": 4,
 "nbformat_minor": 5
}
