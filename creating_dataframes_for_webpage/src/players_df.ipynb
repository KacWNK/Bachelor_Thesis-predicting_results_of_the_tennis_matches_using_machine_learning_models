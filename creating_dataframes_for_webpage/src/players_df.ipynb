{
 "cells": [
  {
   "cell_type": "code",
   "id": "initial_id",
   "metadata": {
    "collapsed": true,
    "ExecuteTime": {
     "end_time": "2025-01-18T18:49:19.294783Z",
     "start_time": "2025-01-18T18:49:19.291239Z"
    }
   },
   "source": "import pandas as pd",
   "outputs": [],
   "execution_count": 5
  },
  {
   "metadata": {
    "ExecuteTime": {
     "end_time": "2025-01-18T18:49:19.729097Z",
     "start_time": "2025-01-18T18:49:19.295783Z"
    }
   },
   "cell_type": "code",
   "source": [
    "#matches = pd.read_csv(\"../../preprocessing/data/matches.csv\")\n",
    "matches = pd.read_csv(\"../../feature_creation/data/all_matches_processed.csv\")\n"
   ],
   "id": "1162927e78a38d92",
   "outputs": [
    {
     "name": "stderr",
     "output_type": "stream",
     "text": [
      "C:\\Users\\Pawel\\AppData\\Local\\Temp\\ipykernel_38900\\3102909427.py:2: DtypeWarning: Columns (27,234,235,236,237,238) have mixed types. Specify dtype option on import or set low_memory=False.\n",
      "  matches = pd.read_csv(\"../../feature_creation/data/all_matches_processed.csv\")\n"
     ]
    }
   ],
   "execution_count": 6
  },
  {
   "metadata": {
    "ExecuteTime": {
     "end_time": "2025-01-18T18:49:19.742989Z",
     "start_time": "2025-01-18T18:49:19.730184Z"
    }
   },
   "cell_type": "code",
   "source": [
    "players_df = pd.concat([\n",
    "    matches[['winner_id', 'winner_name', 'winner_rank', 'winner_age', 'winner_hand']].rename(columns={\n",
    "        'winner_id': 'player_id',\n",
    "        'winner_name': 'name',\n",
    "        'winner_rank': 'rank',\n",
    "        'winner_age': 'age',\n",
    "        'winner_hand': 'hand'\n",
    "    }),\n",
    "    matches[['loser_id', 'loser_name', 'loser_rank', 'loser_age', 'loser_hand']].rename(columns={\n",
    "        'loser_id': 'player_id',\n",
    "        'loser_name': 'name',\n",
    "        'loser_rank': 'rank',\n",
    "        'loser_age': 'age',\n",
    "        'loser_hand': 'hand'\n",
    "    })\n",
    "])\n",
    "\n",
    "# Drop duplicates and keep the most recent rank\n",
    "players_df = players_df.drop_duplicates(subset=['player_id']).reset_index(drop=True)\n",
    "\n",
    "players_df"
   ],
   "id": "9e0615023ec1a93",
   "outputs": [
    {
     "data": {
      "text/plain": [
       "     player_id                   name   rank   age   hand\n",
       "0       105238    Alexandr Dolgopolov   38.0  29.1      R\n",
       "1       200282         Alex De Minaur  208.0  18.8      R\n",
       "2       105732  Pierre Hugues Herbert   81.0  26.7      R\n",
       "3       106368    Ramkumar Ramanathan  148.0  23.1      R\n",
       "4       111577        Jared Donaldson   54.0  21.2      R\n",
       "..         ...                    ...    ...   ...    ...\n",
       "610     268387              jasika o.  179.0  27.0   left\n",
       "611     642543              dougaz a.  231.0  27.0   left\n",
       "612     509280        basilashvili n.  206.0  32.0  right\n",
       "613     601212              samrej k.  418.0  23.0  right\n",
       "614     323036           majchrzak k.  122.0  29.0  right\n",
       "\n",
       "[615 rows x 5 columns]"
      ],
      "text/html": [
       "<div>\n",
       "<style scoped>\n",
       "    .dataframe tbody tr th:only-of-type {\n",
       "        vertical-align: middle;\n",
       "    }\n",
       "\n",
       "    .dataframe tbody tr th {\n",
       "        vertical-align: top;\n",
       "    }\n",
       "\n",
       "    .dataframe thead th {\n",
       "        text-align: right;\n",
       "    }\n",
       "</style>\n",
       "<table border=\"1\" class=\"dataframe\">\n",
       "  <thead>\n",
       "    <tr style=\"text-align: right;\">\n",
       "      <th></th>\n",
       "      <th>player_id</th>\n",
       "      <th>name</th>\n",
       "      <th>rank</th>\n",
       "      <th>age</th>\n",
       "      <th>hand</th>\n",
       "    </tr>\n",
       "  </thead>\n",
       "  <tbody>\n",
       "    <tr>\n",
       "      <th>0</th>\n",
       "      <td>105238</td>\n",
       "      <td>Alexandr Dolgopolov</td>\n",
       "      <td>38.0</td>\n",
       "      <td>29.1</td>\n",
       "      <td>R</td>\n",
       "    </tr>\n",
       "    <tr>\n",
       "      <th>1</th>\n",
       "      <td>200282</td>\n",
       "      <td>Alex De Minaur</td>\n",
       "      <td>208.0</td>\n",
       "      <td>18.8</td>\n",
       "      <td>R</td>\n",
       "    </tr>\n",
       "    <tr>\n",
       "      <th>2</th>\n",
       "      <td>105732</td>\n",
       "      <td>Pierre Hugues Herbert</td>\n",
       "      <td>81.0</td>\n",
       "      <td>26.7</td>\n",
       "      <td>R</td>\n",
       "    </tr>\n",
       "    <tr>\n",
       "      <th>3</th>\n",
       "      <td>106368</td>\n",
       "      <td>Ramkumar Ramanathan</td>\n",
       "      <td>148.0</td>\n",
       "      <td>23.1</td>\n",
       "      <td>R</td>\n",
       "    </tr>\n",
       "    <tr>\n",
       "      <th>4</th>\n",
       "      <td>111577</td>\n",
       "      <td>Jared Donaldson</td>\n",
       "      <td>54.0</td>\n",
       "      <td>21.2</td>\n",
       "      <td>R</td>\n",
       "    </tr>\n",
       "    <tr>\n",
       "      <th>...</th>\n",
       "      <td>...</td>\n",
       "      <td>...</td>\n",
       "      <td>...</td>\n",
       "      <td>...</td>\n",
       "      <td>...</td>\n",
       "    </tr>\n",
       "    <tr>\n",
       "      <th>610</th>\n",
       "      <td>268387</td>\n",
       "      <td>jasika o.</td>\n",
       "      <td>179.0</td>\n",
       "      <td>27.0</td>\n",
       "      <td>left</td>\n",
       "    </tr>\n",
       "    <tr>\n",
       "      <th>611</th>\n",
       "      <td>642543</td>\n",
       "      <td>dougaz a.</td>\n",
       "      <td>231.0</td>\n",
       "      <td>27.0</td>\n",
       "      <td>left</td>\n",
       "    </tr>\n",
       "    <tr>\n",
       "      <th>612</th>\n",
       "      <td>509280</td>\n",
       "      <td>basilashvili n.</td>\n",
       "      <td>206.0</td>\n",
       "      <td>32.0</td>\n",
       "      <td>right</td>\n",
       "    </tr>\n",
       "    <tr>\n",
       "      <th>613</th>\n",
       "      <td>601212</td>\n",
       "      <td>samrej k.</td>\n",
       "      <td>418.0</td>\n",
       "      <td>23.0</td>\n",
       "      <td>right</td>\n",
       "    </tr>\n",
       "    <tr>\n",
       "      <th>614</th>\n",
       "      <td>323036</td>\n",
       "      <td>majchrzak k.</td>\n",
       "      <td>122.0</td>\n",
       "      <td>29.0</td>\n",
       "      <td>right</td>\n",
       "    </tr>\n",
       "  </tbody>\n",
       "</table>\n",
       "<p>615 rows × 5 columns</p>\n",
       "</div>"
      ]
     },
     "execution_count": 7,
     "metadata": {},
     "output_type": "execute_result"
    }
   ],
   "execution_count": 7
  },
  {
   "metadata": {
    "ExecuteTime": {
     "end_time": "2025-01-18T18:49:19.747896Z",
     "start_time": "2025-01-18T18:49:19.743524Z"
    }
   },
   "cell_type": "code",
   "source": "players_df.to_csv('../data/players.csv', index=False)",
   "id": "7477cf83671ccef6",
   "outputs": [],
   "execution_count": 8
  },
  {
   "metadata": {
    "ExecuteTime": {
     "end_time": "2025-01-18T18:49:19.750541Z",
     "start_time": "2025-01-18T18:49:19.748461Z"
    }
   },
   "cell_type": "code",
   "source": "",
   "id": "dd2bb6e4eef09e48",
   "outputs": [],
   "execution_count": 8
  }
 ],
 "metadata": {
  "kernelspec": {
   "display_name": "Python 3",
   "language": "python",
   "name": "python3"
  },
  "language_info": {
   "codemirror_mode": {
    "name": "ipython",
    "version": 2
   },
   "file_extension": ".py",
   "mimetype": "text/x-python",
   "name": "python",
   "nbconvert_exporter": "python",
   "pygments_lexer": "ipython2",
   "version": "2.7.6"
  }
 },
 "nbformat": 4,
 "nbformat_minor": 5
}
