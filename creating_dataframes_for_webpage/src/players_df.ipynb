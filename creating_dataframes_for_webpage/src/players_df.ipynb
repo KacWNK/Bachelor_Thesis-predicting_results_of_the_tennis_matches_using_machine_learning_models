{
 "cells": [
  {
   "cell_type": "code",
   "id": "initial_id",
   "metadata": {
    "collapsed": true,
    "ExecuteTime": {
     "end_time": "2024-12-20T16:11:27.290116Z",
     "start_time": "2024-12-20T16:11:26.989405Z"
    }
   },
   "source": "import pandas as pd",
   "outputs": [],
   "execution_count": 1
  },
  {
   "metadata": {
    "ExecuteTime": {
     "end_time": "2024-12-20T16:11:27.367417Z",
     "start_time": "2024-12-20T16:11:27.291112Z"
    }
   },
   "cell_type": "code",
   "source": "matches = pd.read_csv(\"../../preprocessing/data/matches.csv\")",
   "id": "1162927e78a38d92",
   "outputs": [],
   "execution_count": 2
  },
  {
   "metadata": {
    "ExecuteTime": {
     "end_time": "2024-12-20T16:11:27.382969Z",
     "start_time": "2024-12-20T16:11:27.367936Z"
    }
   },
   "cell_type": "code",
   "source": [
    "players_df = pd.concat([\n",
    "    matches[['winner_id', 'winner_name', 'winner_rank', 'winner_age', 'winner_hand']].rename(columns={\n",
    "        'winner_id': 'player_id',\n",
    "        'winner_name': 'name',\n",
    "        'winner_rank': 'rank',\n",
    "        'winner_age': 'age',\n",
    "        'winner_hand': 'hand'\n",
    "    }),\n",
    "    matches[['loser_id', 'loser_name', 'loser_rank', 'loser_age', 'loser_hand']].rename(columns={\n",
    "        'loser_id': 'player_id',\n",
    "        'loser_name': 'name',\n",
    "        'loser_rank': 'rank',\n",
    "        'loser_age': 'age',\n",
    "        'loser_hand': 'hand'\n",
    "    })\n",
    "])\n",
    "\n",
    "# Drop duplicates and keep the most recent rank\n",
    "players_df = players_df.drop_duplicates(subset=['player_id']).reset_index(drop=True)\n",
    "\n",
    "players_df"
   ],
   "id": "9e0615023ec1a93",
   "outputs": [
    {
     "data": {
      "text/plain": [
       "     player_id                 name   rank   age hand\n",
       "0       105238  Alexandr Dolgopolov   38.0  29.1    R\n",
       "1       200282       Alex De Minaur  208.0  18.8    R\n",
       "2       105992        Ryan Harrison   47.0  25.6    R\n",
       "3       105051        Matthew Ebden   76.0  30.0    R\n",
       "4       104999        Mischa Zverev   33.0  30.3    L\n",
       "..         ...                  ...    ...   ...  ...\n",
       "546     106187       Denis Yevseyev  260.0  30.3    R\n",
       "547     210696     Alexander Blockx  646.0  18.5    R\n",
       "548     200418         Karl Friberg  433.0  24.5    R\n",
       "549     133975      Benjamin Hassan  161.0  28.6    R\n",
       "550     200188     Matteo Martineau  299.0  24.8    R\n",
       "\n",
       "[551 rows x 5 columns]"
      ],
      "text/html": [
       "<div>\n",
       "<style scoped>\n",
       "    .dataframe tbody tr th:only-of-type {\n",
       "        vertical-align: middle;\n",
       "    }\n",
       "\n",
       "    .dataframe tbody tr th {\n",
       "        vertical-align: top;\n",
       "    }\n",
       "\n",
       "    .dataframe thead th {\n",
       "        text-align: right;\n",
       "    }\n",
       "</style>\n",
       "<table border=\"1\" class=\"dataframe\">\n",
       "  <thead>\n",
       "    <tr style=\"text-align: right;\">\n",
       "      <th></th>\n",
       "      <th>player_id</th>\n",
       "      <th>name</th>\n",
       "      <th>rank</th>\n",
       "      <th>age</th>\n",
       "      <th>hand</th>\n",
       "    </tr>\n",
       "  </thead>\n",
       "  <tbody>\n",
       "    <tr>\n",
       "      <th>0</th>\n",
       "      <td>105238</td>\n",
       "      <td>Alexandr Dolgopolov</td>\n",
       "      <td>38.0</td>\n",
       "      <td>29.1</td>\n",
       "      <td>R</td>\n",
       "    </tr>\n",
       "    <tr>\n",
       "      <th>1</th>\n",
       "      <td>200282</td>\n",
       "      <td>Alex De Minaur</td>\n",
       "      <td>208.0</td>\n",
       "      <td>18.8</td>\n",
       "      <td>R</td>\n",
       "    </tr>\n",
       "    <tr>\n",
       "      <th>2</th>\n",
       "      <td>105992</td>\n",
       "      <td>Ryan Harrison</td>\n",
       "      <td>47.0</td>\n",
       "      <td>25.6</td>\n",
       "      <td>R</td>\n",
       "    </tr>\n",
       "    <tr>\n",
       "      <th>3</th>\n",
       "      <td>105051</td>\n",
       "      <td>Matthew Ebden</td>\n",
       "      <td>76.0</td>\n",
       "      <td>30.0</td>\n",
       "      <td>R</td>\n",
       "    </tr>\n",
       "    <tr>\n",
       "      <th>4</th>\n",
       "      <td>104999</td>\n",
       "      <td>Mischa Zverev</td>\n",
       "      <td>33.0</td>\n",
       "      <td>30.3</td>\n",
       "      <td>L</td>\n",
       "    </tr>\n",
       "    <tr>\n",
       "      <th>...</th>\n",
       "      <td>...</td>\n",
       "      <td>...</td>\n",
       "      <td>...</td>\n",
       "      <td>...</td>\n",
       "      <td>...</td>\n",
       "    </tr>\n",
       "    <tr>\n",
       "      <th>546</th>\n",
       "      <td>106187</td>\n",
       "      <td>Denis Yevseyev</td>\n",
       "      <td>260.0</td>\n",
       "      <td>30.3</td>\n",
       "      <td>R</td>\n",
       "    </tr>\n",
       "    <tr>\n",
       "      <th>547</th>\n",
       "      <td>210696</td>\n",
       "      <td>Alexander Blockx</td>\n",
       "      <td>646.0</td>\n",
       "      <td>18.5</td>\n",
       "      <td>R</td>\n",
       "    </tr>\n",
       "    <tr>\n",
       "      <th>548</th>\n",
       "      <td>200418</td>\n",
       "      <td>Karl Friberg</td>\n",
       "      <td>433.0</td>\n",
       "      <td>24.5</td>\n",
       "      <td>R</td>\n",
       "    </tr>\n",
       "    <tr>\n",
       "      <th>549</th>\n",
       "      <td>133975</td>\n",
       "      <td>Benjamin Hassan</td>\n",
       "      <td>161.0</td>\n",
       "      <td>28.6</td>\n",
       "      <td>R</td>\n",
       "    </tr>\n",
       "    <tr>\n",
       "      <th>550</th>\n",
       "      <td>200188</td>\n",
       "      <td>Matteo Martineau</td>\n",
       "      <td>299.0</td>\n",
       "      <td>24.8</td>\n",
       "      <td>R</td>\n",
       "    </tr>\n",
       "  </tbody>\n",
       "</table>\n",
       "<p>551 rows × 5 columns</p>\n",
       "</div>"
      ]
     },
     "execution_count": 3,
     "metadata": {},
     "output_type": "execute_result"
    }
   ],
   "execution_count": 3
  },
  {
   "metadata": {
    "ExecuteTime": {
     "end_time": "2024-12-20T16:11:27.388483Z",
     "start_time": "2024-12-20T16:11:27.383984Z"
    }
   },
   "cell_type": "code",
   "source": "players_df.to_csv('../data/players.csv', index=False)",
   "id": "7477cf83671ccef6",
   "outputs": [],
   "execution_count": 4
  }
 ],
 "metadata": {
  "kernelspec": {
   "display_name": "Python 3",
   "language": "python",
   "name": "python3"
  },
  "language_info": {
   "codemirror_mode": {
    "name": "ipython",
    "version": 2
   },
   "file_extension": ".py",
   "mimetype": "text/x-python",
   "name": "python",
   "nbconvert_exporter": "python",
   "pygments_lexer": "ipython2",
   "version": "2.7.6"
  }
 },
 "nbformat": 4,
 "nbformat_minor": 5
}
