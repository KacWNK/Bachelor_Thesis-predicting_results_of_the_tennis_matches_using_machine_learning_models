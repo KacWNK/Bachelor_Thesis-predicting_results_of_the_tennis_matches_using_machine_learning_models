{
 "cells": [
  {
   "cell_type": "code",
   "execution_count": 1,
   "metadata": {
    "ExecuteTime": {
     "end_time": "2024-11-25T15:05:26.602399Z",
     "start_time": "2024-11-25T15:05:26.037107Z"
    }
   },
   "outputs": [],
   "source": [
    "import pandas as pd\n",
    "import numpy as np"
   ]
  },
  {
   "cell_type": "code",
   "execution_count": 2,
   "metadata": {
    "ExecuteTime": {
     "end_time": "2024-11-25T15:05:27.304775Z",
     "start_time": "2024-11-25T15:05:27.095972Z"
    }
   },
   "outputs": [
    {
     "name": "stdout",
     "output_type": "stream",
     "text": [
      "{'temperature_2m': 32.0, 'relative_humidity_2m': 31, 'windspeed_10m': 14.4, 'apparent_temperature': 32.4}\n"
     ]
    }
   ],
   "source": [
    "import requests\n",
    "import datetime\n",
    "\n",
    "# Function to get weather data\n",
    "def get_weather(latitude, longitude, date, time, variables):\n",
    "\t# Format the API URL\n",
    "\turl = f\"https://historical-forecast-api.open-meteo.com/v1/forecast?latitude={latitude}&longitude={longitude}&hourly={','.join(variables)}&start_date={date}&end_date={date}&timezone=UTC\"\n",
    "\n",
    "\t# Make the API request\n",
    "\tresponse = requests.get(url)\n",
    "\tdata = response.json()\n",
    "\t# Extract the desired time\n",
    "\tdatetime_str = f\"{date}T{time}\"\n",
    "\tfor i, hourly_time in enumerate(data[\"hourly\"][\"time\"]):\n",
    "\t\tif hourly_time == datetime_str:\n",
    "\t\t\t# Extract requested variables for the specific time\n",
    "\t\t\treturn {var: data[\"hourly\"][var][i] for var in variables}\n",
    "\t\n",
    "\treturn None  \n",
    "\n",
    "# Example usage\n",
    "latitude = -34.92\n",
    "longitude = 138.6\n",
    "date = \"2023-01-01\"\n",
    "time = \"06:00\"  \n",
    "variables = [\"temperature_2m\", \"relative_humidity_2m\", \"windspeed_10m\", \"apparent_temperature\"]\n",
    "\n",
    "weather_data = get_weather(latitude, longitude, date, time, variables)\n",
    "print(weather_data)"
   ]
  },
  {
   "cell_type": "code",
   "execution_count": 3,
   "metadata": {
    "ExecuteTime": {
     "end_time": "2024-11-25T15:05:27.651350Z",
     "start_time": "2024-11-25T15:05:27.439219Z"
    }
   },
   "outputs": [],
   "source": [
    "matches = pd.read_csv('../data/all_years_nc_tc_elo_aggr_stats/matches.csv')"
   ]
  },
  {
   "cell_type": "code",
   "execution_count": 4,
   "metadata": {
    "ExecuteTime": {
     "end_time": "2024-11-25T15:05:27.796720Z",
     "start_time": "2024-11-25T15:05:27.788389Z"
    }
   },
   "outputs": [
    {
     "data": {
      "text/plain": "         Date   time   latitude   longitude\n0  2023-01-01  06:25 -34.928181  138.599931\n1  2023-01-01  09:40 -34.928181  138.599931\n2  2023-01-02  01:40 -34.928181  138.599931\n3  2023-01-02  05:15 -34.928181  138.599931\n4  2023-01-02  06:00 -34.928181  138.599931",
      "text/html": "<div>\n<style scoped>\n    .dataframe tbody tr th:only-of-type {\n        vertical-align: middle;\n    }\n\n    .dataframe tbody tr th {\n        vertical-align: top;\n    }\n\n    .dataframe thead th {\n        text-align: right;\n    }\n</style>\n<table border=\"1\" class=\"dataframe\">\n  <thead>\n    <tr style=\"text-align: right;\">\n      <th></th>\n      <th>Date</th>\n      <th>time</th>\n      <th>latitude</th>\n      <th>longitude</th>\n    </tr>\n  </thead>\n  <tbody>\n    <tr>\n      <th>0</th>\n      <td>2023-01-01</td>\n      <td>06:25</td>\n      <td>-34.928181</td>\n      <td>138.599931</td>\n    </tr>\n    <tr>\n      <th>1</th>\n      <td>2023-01-01</td>\n      <td>09:40</td>\n      <td>-34.928181</td>\n      <td>138.599931</td>\n    </tr>\n    <tr>\n      <th>2</th>\n      <td>2023-01-02</td>\n      <td>01:40</td>\n      <td>-34.928181</td>\n      <td>138.599931</td>\n    </tr>\n    <tr>\n      <th>3</th>\n      <td>2023-01-02</td>\n      <td>05:15</td>\n      <td>-34.928181</td>\n      <td>138.599931</td>\n    </tr>\n    <tr>\n      <th>4</th>\n      <td>2023-01-02</td>\n      <td>06:00</td>\n      <td>-34.928181</td>\n      <td>138.599931</td>\n    </tr>\n  </tbody>\n</table>\n</div>"
     },
     "execution_count": 4,
     "metadata": {},
     "output_type": "execute_result"
    }
   ],
   "source": [
    "matches.head()[['Date', 'time', 'latitude', 'longitude']]"
   ]
  },
  {
   "cell_type": "code",
   "outputs": [],
   "source": [
    "from datetime import datetime, timedelta\n",
    "\n",
    "def convert_utc_plus1_to_utc(date, time):\n",
    "    \"\"\"Convert a UTC+1 time to UTC.\"\"\"\n",
    "    # Combine date and time into a single datetime object\n",
    "    dt = datetime.strptime(f\"{date} {time}\", \"%Y-%m-%d %H:%M\")\n",
    "    # Subtract 1 hour to convert from UTC+1 to UTC\n",
    "    dt_utc = dt - timedelta(hours=1)\n",
    "    # Return the date and time in UTC\n",
    "    return dt_utc.strftime(\"%Y-%m-%d\"), dt_utc.strftime(\"%H:%M\")\n",
    "\n",
    "def round_time_to_nearest_hour(time_str):\n",
    "    # Parse the time string into a datetime object\n",
    "    time_obj = datetime.strptime(time_str, \"%H:%M\")\n",
    "\n",
    "    # Round minutes to the nearest hour\n",
    "    if time_obj.minute >= 30:  # Round up\n",
    "        time_obj += timedelta(minutes=60 - time_obj.minute)\n",
    "    else:  # Round down\n",
    "        time_obj -= timedelta(minutes=time_obj.minute)\n",
    "\n",
    "    # Return the rounded time in \"HH:00\" format\n",
    "    return time_obj.strftime(\"%H:00\")"
   ],
   "metadata": {
    "collapsed": false,
    "ExecuteTime": {
     "end_time": "2024-11-25T15:05:28.525353Z",
     "start_time": "2024-11-25T15:05:28.520788Z"
    }
   },
   "execution_count": 5
  },
  {
   "cell_type": "code",
   "execution_count": 6,
   "metadata": {
    "ExecuteTime": {
     "end_time": "2024-11-25T15:05:43.212850Z",
     "start_time": "2024-11-25T15:05:29.383317Z"
    }
   },
   "outputs": [
    {
     "name": "stdout",
     "output_type": "stream",
     "text": [
      "          Date   time   latitude   longitude  temperature_2m  \\\n",
      "0   2023-01-01  06:25 -34.928181  138.599931            32.1   \n",
      "1   2023-01-01  09:40 -34.928181  138.599931            27.8   \n",
      "2   2023-01-02  01:40 -34.928181  138.599931            25.7   \n",
      "3   2023-01-02  05:15 -34.928181  138.599931            26.4   \n",
      "4   2023-01-02  06:00 -34.928181  138.599931            26.0   \n",
      "..         ...    ...        ...         ...             ...   \n",
      "95  2023-01-11  07:40 -36.852095  174.763180            18.2   \n",
      "96  2023-01-11  09:35 -36.852095  174.763180            18.1   \n",
      "97  2023-01-11  09:55 -36.852095  174.763180            18.1   \n",
      "98  2023-01-12  01:40 -34.928181  138.599931            28.1   \n",
      "99  2023-01-12  04:45 -34.928181  138.599931            29.5   \n",
      "\n",
      "    relative_humidity_2m  windspeed_10m  apparent_temperature  \n",
      "0                     33           14.0                  33.5  \n",
      "1                     47           11.4                  27.9  \n",
      "2                     53           16.1                  27.1  \n",
      "3                     47           25.1                  26.5  \n",
      "4                     46           25.4                  25.4  \n",
      "..                   ...            ...                   ...  \n",
      "95                    84           28.1                  15.9  \n",
      "96                    83           26.5                  16.0  \n",
      "97                    83           26.5                  16.0  \n",
      "98                    33            8.1                  29.0  \n",
      "99                    43           14.1                  31.9  \n",
      "\n",
      "[100 rows x 8 columns]\n"
     ]
    }
   ],
   "source": [
    "# Apply get_weather to each row\n",
    "def fetch_weather_data(row):\n",
    "\tdate_utc, time_utc = convert_utc_plus1_to_utc(row[\"Date\"], row[\"time\"])\n",
    "\trounded_time_utc = round_time_to_nearest_hour(time_utc)\n",
    "\treturn get_weather(row[\"latitude\"], row[\"longitude\"], date_utc, rounded_time_utc, variables)\n",
    "\n",
    "# For now just 100 rows to see if it works\n",
    "matches = matches.head(100)\n",
    "\n",
    "weather_data = matches.apply(fetch_weather_data, axis=1)\n",
    "weather_df = pd.DataFrame(weather_data.tolist())\n",
    "\n",
    "# Merge the weather data back into the original DataFrame\n",
    "matches = pd.concat([matches, weather_df], axis=1)\n",
    "print(matches[['Date', 'time', 'latitude', 'longitude', 'temperature_2m', \"relative_humidity_2m\", \"windspeed_10m\", \"apparent_temperature\"]])"
   ]
  },
  {
   "cell_type": "code",
   "outputs": [],
   "source": [],
   "metadata": {
    "collapsed": false
   }
  }
 ],
 "metadata": {
  "kernelspec": {
   "display_name": "Python 3",
   "language": "python",
   "name": "python3"
  },
  "language_info": {
   "codemirror_mode": {
    "name": "ipython",
    "version": 3
   },
   "file_extension": ".py",
   "mimetype": "text/x-python",
   "name": "python",
   "nbconvert_exporter": "python",
   "pygments_lexer": "ipython3",
   "version": "3.10.0"
  }
 },
 "nbformat": 4,
 "nbformat_minor": 2
}
