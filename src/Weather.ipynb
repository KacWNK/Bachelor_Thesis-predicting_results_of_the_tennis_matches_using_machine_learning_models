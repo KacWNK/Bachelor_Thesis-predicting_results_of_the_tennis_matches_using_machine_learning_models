{
 "cells": [
  {
   "cell_type": "code",
   "metadata": {
    "ExecuteTime": {
     "end_time": "2024-12-15T13:47:01.803979Z",
     "start_time": "2024-12-15T13:47:01.800978Z"
    }
   },
   "source": [
    "import pandas as pd\n",
    "import numpy as np"
   ],
   "outputs": [],
   "execution_count": 2
  },
  {
   "metadata": {
    "ExecuteTime": {
     "end_time": "2024-12-15T14:27:08.297676Z",
     "start_time": "2024-12-15T14:27:08.175834Z"
    }
   },
   "cell_type": "code",
   "source": [
    "import requests\n",
    "\n",
    "def get_weather(latitude, longitude, date, time, variables):\n",
    "    url = f\"https://archive-api.open-meteo.com/v1/archive?latitude={latitude}&longitude={longitude}&hourly={','.join(variables)}&start_date={date}&end_date={date}&timezone=UTC\"\n",
    "    # Make the API request\n",
    "    response = requests.get(url)\n",
    "    data = response.json()\n",
    "    if not data.get(\"hourly\"):\n",
    "        print(url, data)\n",
    "        return None\n",
    "    datetime_str = f\"{date}T{time}\"\n",
    "    for i, hourly_time in enumerate(data[\"hourly\"][\"time\"]):\n",
    "        if hourly_time == datetime_str:\n",
    "            # Extract requested variables for the specific time\n",
    "            return {var: data[\"hourly\"][var][i] for var in variables}\n",
    "\t\n",
    "    return None  \n",
    "\n",
    "# Example usage\n",
    "latitude = -34.92\n",
    "longitude = 138.6\n",
    "date = \"2017-01-01\"\n",
    "time = \"06:00\"  \n",
    "variables = [\"temperature_2m\", \"relative_humidity_2m\", \"windspeed_10m\", \"apparent_temperature\"]\n",
    "\n",
    "weather_data = get_weather(latitude, longitude, date, time, variables)\n",
    "print(weather_data)"
   ],
   "outputs": [
    {
     "name": "stdout",
     "output_type": "stream",
     "text": [
      "https://archive-api.open-meteo.com/v1/archive?latitude=-34.92&longitude=138.6&hourly=temperature_2m,relative_humidity_2m,windspeed_10m,apparent_temperature&start_date=2017-01-01&end_date=2017-01-01&timezone=UTC {'error': True, 'reason': 'Hourly API request limit exceeded. Please try again in the next hour.'}\n",
      "None\n"
     ]
    }
   ],
   "execution_count": 42
  },
  {
   "cell_type": "code",
   "metadata": {
    "ExecuteTime": {
     "end_time": "2024-12-15T13:47:03.043100Z",
     "start_time": "2024-12-15T13:47:02.844467Z"
    }
   },
   "source": [
    "matches = pd.read_csv('../data/all_years_nc_tc_elo_aggr_stats/matches.csv')"
   ],
   "outputs": [],
   "execution_count": 4
  },
  {
   "cell_type": "code",
   "metadata": {
    "ExecuteTime": {
     "end_time": "2024-12-15T13:47:04.238895Z",
     "start_time": "2024-12-15T13:47:04.230260Z"
    }
   },
   "source": [
    "matches.head()[['Date', 'time', 'latitude', 'longitude']]"
   ],
   "outputs": [
    {
     "data": {
      "text/plain": [
       "         Date   time   latitude   longitude\n",
       "0  2017-12-31  07:25 -27.468968  153.023499\n",
       "1  2017-12-31  09:20 -27.468968  153.023499\n",
       "2  2018-01-01  08:35  18.521374   73.854507\n",
       "3  2018-01-01  04:00 -27.468968  153.023499\n",
       "4  2018-01-01  02:10 -27.468968  153.023499"
      ],
      "text/html": [
       "<div>\n",
       "<style scoped>\n",
       "    .dataframe tbody tr th:only-of-type {\n",
       "        vertical-align: middle;\n",
       "    }\n",
       "\n",
       "    .dataframe tbody tr th {\n",
       "        vertical-align: top;\n",
       "    }\n",
       "\n",
       "    .dataframe thead th {\n",
       "        text-align: right;\n",
       "    }\n",
       "</style>\n",
       "<table border=\"1\" class=\"dataframe\">\n",
       "  <thead>\n",
       "    <tr style=\"text-align: right;\">\n",
       "      <th></th>\n",
       "      <th>Date</th>\n",
       "      <th>time</th>\n",
       "      <th>latitude</th>\n",
       "      <th>longitude</th>\n",
       "    </tr>\n",
       "  </thead>\n",
       "  <tbody>\n",
       "    <tr>\n",
       "      <th>0</th>\n",
       "      <td>2017-12-31</td>\n",
       "      <td>07:25</td>\n",
       "      <td>-27.468968</td>\n",
       "      <td>153.023499</td>\n",
       "    </tr>\n",
       "    <tr>\n",
       "      <th>1</th>\n",
       "      <td>2017-12-31</td>\n",
       "      <td>09:20</td>\n",
       "      <td>-27.468968</td>\n",
       "      <td>153.023499</td>\n",
       "    </tr>\n",
       "    <tr>\n",
       "      <th>2</th>\n",
       "      <td>2018-01-01</td>\n",
       "      <td>08:35</td>\n",
       "      <td>18.521374</td>\n",
       "      <td>73.854507</td>\n",
       "    </tr>\n",
       "    <tr>\n",
       "      <th>3</th>\n",
       "      <td>2018-01-01</td>\n",
       "      <td>04:00</td>\n",
       "      <td>-27.468968</td>\n",
       "      <td>153.023499</td>\n",
       "    </tr>\n",
       "    <tr>\n",
       "      <th>4</th>\n",
       "      <td>2018-01-01</td>\n",
       "      <td>02:10</td>\n",
       "      <td>-27.468968</td>\n",
       "      <td>153.023499</td>\n",
       "    </tr>\n",
       "  </tbody>\n",
       "</table>\n",
       "</div>"
      ]
     },
     "execution_count": 5,
     "metadata": {},
     "output_type": "execute_result"
    }
   ],
   "execution_count": 5
  },
  {
   "cell_type": "code",
   "source": [
    "from datetime import datetime, timedelta\n",
    "\n",
    "def convert_utc_plus1_to_utc(date, time):\n",
    "    dt = datetime.strptime(f\"{date} {time}\", \"%Y-%m-%d %H:%M\")\n",
    "\t\n",
    "    # Subtract 1 hour to convert from UTC+1 to UTC\n",
    "    dt_utc = dt - timedelta(hours=1)\n",
    "    return dt_utc.strftime(\"%Y-%m-%d\"), dt_utc.strftime(\"%H:%M\")\n",
    "\n",
    "def round_time_to_nearest_hour(time_str):\n",
    "    time_obj = datetime.strptime(time_str, \"%H:%M\")\n",
    "\n",
    "    # Round minutes to the nearest hour\n",
    "    if time_obj.minute >= 30:  # Round up\n",
    "        time_obj += timedelta(minutes=60 - time_obj.minute)\n",
    "    else:  # Round down\n",
    "        time_obj -= timedelta(minutes=time_obj.minute)\n",
    "\n",
    "    return time_obj.strftime(\"%H:00\")"
   ],
   "metadata": {
    "collapsed": false,
    "ExecuteTime": {
     "end_time": "2024-12-15T13:47:04.594609Z",
     "start_time": "2024-12-15T13:47:04.590607Z"
    }
   },
   "outputs": [],
   "execution_count": 6
  },
  {
   "cell_type": "code",
   "metadata": {
    "ExecuteTime": {
     "end_time": "2024-12-15T13:47:06.025144Z",
     "start_time": "2024-12-15T13:47:06.022145Z"
    }
   },
   "source": [
    "# Apply get_weather to each row\n",
    "def fetch_weather_data(row):\n",
    "\tdate_utc, time_utc = convert_utc_plus1_to_utc(row[\"Date\"], row[\"time\"])\n",
    "\trounded_time_utc = round_time_to_nearest_hour(time_utc)\n",
    "\treturn get_weather(row[\"latitude\"], row[\"longitude\"], date_utc, rounded_time_utc, variables)\n",
    "\n",
    "# For now just 100 rows to see if it works\n",
    "#matches = matches.head(100)\n",
    "# \n",
    "# weather_data = matches.apply(fetch_weather_data, axis=1)\n",
    "# weather_df = pd.DataFrame(weather_data.tolist())\n",
    "# \n",
    "# # Merge the weather data back into the original DataFrame\n",
    "# matches = pd.concat([matches, weather_df], axis=1)\n",
    "# print(matches[['Date', 'time', 'latitude', 'longitude', 'temperature_2m', \"relative_humidity_2m\", \"windspeed_10m\", \"apparent_temperature\"]])"
   ],
   "outputs": [],
   "execution_count": 7
  },
  {
   "metadata": {
    "ExecuteTime": {
     "end_time": "2024-12-15T14:08:58.740037Z",
     "start_time": "2024-12-15T14:08:58.736484Z"
    }
   },
   "cell_type": "code",
   "source": [
    "def process_partial_chunk(df, func, start_index, chunk_size):\n",
    "    end_index = min(start_index + chunk_size, len(df))  \n",
    "    chunk = df.iloc[start_index:end_index]\n",
    "    print(f\"Processing rows {start_index} to {end_index}...\")\n",
    "    \n",
    "    # Apply the function to the chunk\n",
    "    chunk_results = chunk.apply(func, axis=1)\n",
    "    chunk_results.to_csv(f\"../data/weather_chunks/{start_index}_{end_index}.csv\")\n",
    "    result_df = pd.DataFrame(chunk_results.tolist(), index=chunk.index)\n",
    "    print(f\"results saved to ../data/weather_chunks/{start_index}_{end_index}.csv\")\n",
    "    return result_df"
   ],
   "outputs": [],
   "execution_count": 20
  },
  {
   "metadata": {},
   "cell_type": "markdown",
   "source": "### To odpaliłem u siebie"
  },
  {
   "cell_type": "code",
   "source": "weather_data_chunk_1 = process_partial_chunk(matches, fetch_weather_data, start_index=0, chunk_size=500)",
   "metadata": {
    "collapsed": false,
    "ExecuteTime": {
     "end_time": "2024-12-15T14:03:27.503747Z",
     "start_time": "2024-12-15T14:02:26.847158Z"
    }
   },
   "outputs": [
    {
     "name": "stdout",
     "output_type": "stream",
     "text": [
      "Processing rows 0 to 500...\n"
     ]
    }
   ],
   "execution_count": 16
  },
  {
   "metadata": {
    "ExecuteTime": {
     "end_time": "2024-12-15T14:06:16.842360Z",
     "start_time": "2024-12-15T14:05:16.338315Z"
    }
   },
   "cell_type": "code",
   "source": "weather_data_chunk_2 = process_partial_chunk(matches, fetch_weather_data, start_index=500, chunk_size=500)",
   "outputs": [
    {
     "name": "stdout",
     "output_type": "stream",
     "text": [
      "Processing rows 500 to 1000...\n"
     ]
    }
   ],
   "execution_count": 17
  },
  {
   "metadata": {
    "ExecuteTime": {
     "end_time": "2024-12-15T14:08:42.977213Z",
     "start_time": "2024-12-15T14:07:42.310438Z"
    }
   },
   "cell_type": "code",
   "source": "weather_data_chunk_3 = process_partial_chunk(matches, fetch_weather_data, start_index=1000, chunk_size=500)",
   "outputs": [
    {
     "name": "stdout",
     "output_type": "stream",
     "text": [
      "Processing rows 1000 to 1500...\n",
      "results saved to ../data/weather_chunks/{start_index}_{end_index}.csv\n"
     ]
    }
   ],
   "execution_count": 19
  },
  {
   "metadata": {
    "ExecuteTime": {
     "end_time": "2024-12-15T14:11:35.351862Z",
     "start_time": "2024-12-15T14:10:34.502142Z"
    }
   },
   "cell_type": "code",
   "source": "weather_data_chunk_4 = process_partial_chunk(matches, fetch_weather_data, start_index=1500, chunk_size=500)",
   "outputs": [
    {
     "name": "stdout",
     "output_type": "stream",
     "text": [
      "Processing rows 1500 to 2000...\n",
      "results saved to ../data/weather_chunks/1500_2000.csv\n"
     ]
    }
   ],
   "execution_count": 21
  },
  {
   "metadata": {
    "ExecuteTime": {
     "end_time": "2024-12-15T14:12:46.060983Z",
     "start_time": "2024-12-15T14:11:44.514465Z"
    }
   },
   "cell_type": "code",
   "source": "weather_data_chunk_5 = process_partial_chunk(matches, fetch_weather_data, start_index=2000, chunk_size=500)",
   "outputs": [
    {
     "name": "stdout",
     "output_type": "stream",
     "text": [
      "Processing rows 2000 to 2500...\n",
      "results saved to ../data/weather_chunks/2000_2500.csv\n"
     ]
    }
   ],
   "execution_count": 22
  },
  {
   "metadata": {
    "ExecuteTime": {
     "end_time": "2024-12-15T14:13:46.131276Z",
     "start_time": "2024-12-15T14:12:46.061984Z"
    }
   },
   "cell_type": "code",
   "source": "weather_data_chunk_6 = process_partial_chunk(matches, fetch_weather_data, start_index=2500, chunk_size=500)",
   "outputs": [
    {
     "name": "stdout",
     "output_type": "stream",
     "text": [
      "Processing rows 2500 to 3000...\n",
      "results saved to ../data/weather_chunks/2500_3000.csv\n"
     ]
    }
   ],
   "execution_count": 23
  },
  {
   "metadata": {
    "ExecuteTime": {
     "end_time": "2024-12-15T14:14:45.726011Z",
     "start_time": "2024-12-15T14:13:46.131276Z"
    }
   },
   "cell_type": "code",
   "source": "weather_data_chunk_7 = process_partial_chunk(matches, fetch_weather_data, start_index=3000, chunk_size=500)",
   "outputs": [
    {
     "name": "stdout",
     "output_type": "stream",
     "text": [
      "Processing rows 3000 to 3500...\n",
      "results saved to ../data/weather_chunks/3000_3500.csv\n"
     ]
    }
   ],
   "execution_count": 24
  },
  {
   "metadata": {
    "ExecuteTime": {
     "end_time": "2024-12-15T14:15:45.248138Z",
     "start_time": "2024-12-15T14:14:45.726532Z"
    }
   },
   "cell_type": "code",
   "source": "weather_data_chunk_8 = process_partial_chunk(matches, fetch_weather_data, start_index=3500, chunk_size=500)",
   "outputs": [
    {
     "name": "stdout",
     "output_type": "stream",
     "text": [
      "Processing rows 3500 to 4000...\n",
      "results saved to ../data/weather_chunks/3500_4000.csv\n"
     ]
    }
   ],
   "execution_count": 25
  },
  {
   "metadata": {
    "ExecuteTime": {
     "end_time": "2024-12-15T14:16:22.558723Z",
     "start_time": "2024-12-15T14:15:45.248655Z"
    }
   },
   "cell_type": "code",
   "source": "weather_data_chunk_9= process_partial_chunk(matches, fetch_weather_data, start_index=4000, chunk_size=500)",
   "outputs": [
    {
     "name": "stdout",
     "output_type": "stream",
     "text": [
      "Processing rows 4000 to 4500...\n"
     ]
    },
    {
     "ename": "KeyError",
     "evalue": "'hourly'",
     "output_type": "error",
     "traceback": [
      "\u001B[1;31m---------------------------------------------------------------------------\u001B[0m",
      "\u001B[1;31mKeyError\u001B[0m                                  Traceback (most recent call last)",
      "Cell \u001B[1;32mIn[26], line 1\u001B[0m\n\u001B[1;32m----> 1\u001B[0m weather_data_chunk_9\u001B[38;5;241m=\u001B[39m \u001B[43mprocess_partial_chunk\u001B[49m\u001B[43m(\u001B[49m\u001B[43mmatches\u001B[49m\u001B[43m,\u001B[49m\u001B[43m \u001B[49m\u001B[43mfetch_weather_data\u001B[49m\u001B[43m,\u001B[49m\u001B[43m \u001B[49m\u001B[43mstart_index\u001B[49m\u001B[38;5;241;43m=\u001B[39;49m\u001B[38;5;241;43m4000\u001B[39;49m\u001B[43m,\u001B[49m\u001B[43m \u001B[49m\u001B[43mchunk_size\u001B[49m\u001B[38;5;241;43m=\u001B[39;49m\u001B[38;5;241;43m500\u001B[39;49m\u001B[43m)\u001B[49m\n",
      "Cell \u001B[1;32mIn[20], line 7\u001B[0m, in \u001B[0;36mprocess_partial_chunk\u001B[1;34m(df, func, start_index, chunk_size)\u001B[0m\n\u001B[0;32m      4\u001B[0m \u001B[38;5;28mprint\u001B[39m(\u001B[38;5;124mf\u001B[39m\u001B[38;5;124m\"\u001B[39m\u001B[38;5;124mProcessing rows \u001B[39m\u001B[38;5;132;01m{\u001B[39;00mstart_index\u001B[38;5;132;01m}\u001B[39;00m\u001B[38;5;124m to \u001B[39m\u001B[38;5;132;01m{\u001B[39;00mend_index\u001B[38;5;132;01m}\u001B[39;00m\u001B[38;5;124m...\u001B[39m\u001B[38;5;124m\"\u001B[39m)\n\u001B[0;32m      6\u001B[0m \u001B[38;5;66;03m# Apply the function to the chunk\u001B[39;00m\n\u001B[1;32m----> 7\u001B[0m chunk_results \u001B[38;5;241m=\u001B[39m \u001B[43mchunk\u001B[49m\u001B[38;5;241;43m.\u001B[39;49m\u001B[43mapply\u001B[49m\u001B[43m(\u001B[49m\u001B[43mfunc\u001B[49m\u001B[43m,\u001B[49m\u001B[43m \u001B[49m\u001B[43maxis\u001B[49m\u001B[38;5;241;43m=\u001B[39;49m\u001B[38;5;241;43m1\u001B[39;49m\u001B[43m)\u001B[49m\n\u001B[0;32m      8\u001B[0m chunk_results\u001B[38;5;241m.\u001B[39mto_csv(\u001B[38;5;124mf\u001B[39m\u001B[38;5;124m\"\u001B[39m\u001B[38;5;124m../data/weather_chunks/\u001B[39m\u001B[38;5;132;01m{\u001B[39;00mstart_index\u001B[38;5;132;01m}\u001B[39;00m\u001B[38;5;124m_\u001B[39m\u001B[38;5;132;01m{\u001B[39;00mend_index\u001B[38;5;132;01m}\u001B[39;00m\u001B[38;5;124m.csv\u001B[39m\u001B[38;5;124m\"\u001B[39m)\n\u001B[0;32m      9\u001B[0m result_df \u001B[38;5;241m=\u001B[39m pd\u001B[38;5;241m.\u001B[39mDataFrame(chunk_results\u001B[38;5;241m.\u001B[39mtolist(), index\u001B[38;5;241m=\u001B[39mchunk\u001B[38;5;241m.\u001B[39mindex)\n",
      "File \u001B[1;32mE:\\Pawel\\Studia\\Inzynierka_Git\\.venv\\Lib\\site-packages\\pandas\\core\\frame.py:10374\u001B[0m, in \u001B[0;36mDataFrame.apply\u001B[1;34m(self, func, axis, raw, result_type, args, by_row, engine, engine_kwargs, **kwargs)\u001B[0m\n\u001B[0;32m  10360\u001B[0m \u001B[38;5;28;01mfrom\u001B[39;00m \u001B[38;5;21;01mpandas\u001B[39;00m\u001B[38;5;21;01m.\u001B[39;00m\u001B[38;5;21;01mcore\u001B[39;00m\u001B[38;5;21;01m.\u001B[39;00m\u001B[38;5;21;01mapply\u001B[39;00m \u001B[38;5;28;01mimport\u001B[39;00m frame_apply\n\u001B[0;32m  10362\u001B[0m op \u001B[38;5;241m=\u001B[39m frame_apply(\n\u001B[0;32m  10363\u001B[0m     \u001B[38;5;28mself\u001B[39m,\n\u001B[0;32m  10364\u001B[0m     func\u001B[38;5;241m=\u001B[39mfunc,\n\u001B[1;32m   (...)\u001B[0m\n\u001B[0;32m  10372\u001B[0m     kwargs\u001B[38;5;241m=\u001B[39mkwargs,\n\u001B[0;32m  10373\u001B[0m )\n\u001B[1;32m> 10374\u001B[0m \u001B[38;5;28;01mreturn\u001B[39;00m \u001B[43mop\u001B[49m\u001B[38;5;241;43m.\u001B[39;49m\u001B[43mapply\u001B[49m\u001B[43m(\u001B[49m\u001B[43m)\u001B[49m\u001B[38;5;241m.\u001B[39m__finalize__(\u001B[38;5;28mself\u001B[39m, method\u001B[38;5;241m=\u001B[39m\u001B[38;5;124m\"\u001B[39m\u001B[38;5;124mapply\u001B[39m\u001B[38;5;124m\"\u001B[39m)\n",
      "File \u001B[1;32mE:\\Pawel\\Studia\\Inzynierka_Git\\.venv\\Lib\\site-packages\\pandas\\core\\apply.py:916\u001B[0m, in \u001B[0;36mFrameApply.apply\u001B[1;34m(self)\u001B[0m\n\u001B[0;32m    913\u001B[0m \u001B[38;5;28;01melif\u001B[39;00m \u001B[38;5;28mself\u001B[39m\u001B[38;5;241m.\u001B[39mraw:\n\u001B[0;32m    914\u001B[0m     \u001B[38;5;28;01mreturn\u001B[39;00m \u001B[38;5;28mself\u001B[39m\u001B[38;5;241m.\u001B[39mapply_raw(engine\u001B[38;5;241m=\u001B[39m\u001B[38;5;28mself\u001B[39m\u001B[38;5;241m.\u001B[39mengine, engine_kwargs\u001B[38;5;241m=\u001B[39m\u001B[38;5;28mself\u001B[39m\u001B[38;5;241m.\u001B[39mengine_kwargs)\n\u001B[1;32m--> 916\u001B[0m \u001B[38;5;28;01mreturn\u001B[39;00m \u001B[38;5;28;43mself\u001B[39;49m\u001B[38;5;241;43m.\u001B[39;49m\u001B[43mapply_standard\u001B[49m\u001B[43m(\u001B[49m\u001B[43m)\u001B[49m\n",
      "File \u001B[1;32mE:\\Pawel\\Studia\\Inzynierka_Git\\.venv\\Lib\\site-packages\\pandas\\core\\apply.py:1063\u001B[0m, in \u001B[0;36mFrameApply.apply_standard\u001B[1;34m(self)\u001B[0m\n\u001B[0;32m   1061\u001B[0m \u001B[38;5;28;01mdef\u001B[39;00m \u001B[38;5;21mapply_standard\u001B[39m(\u001B[38;5;28mself\u001B[39m):\n\u001B[0;32m   1062\u001B[0m     \u001B[38;5;28;01mif\u001B[39;00m \u001B[38;5;28mself\u001B[39m\u001B[38;5;241m.\u001B[39mengine \u001B[38;5;241m==\u001B[39m \u001B[38;5;124m\"\u001B[39m\u001B[38;5;124mpython\u001B[39m\u001B[38;5;124m\"\u001B[39m:\n\u001B[1;32m-> 1063\u001B[0m         results, res_index \u001B[38;5;241m=\u001B[39m \u001B[38;5;28;43mself\u001B[39;49m\u001B[38;5;241;43m.\u001B[39;49m\u001B[43mapply_series_generator\u001B[49m\u001B[43m(\u001B[49m\u001B[43m)\u001B[49m\n\u001B[0;32m   1064\u001B[0m     \u001B[38;5;28;01melse\u001B[39;00m:\n\u001B[0;32m   1065\u001B[0m         results, res_index \u001B[38;5;241m=\u001B[39m \u001B[38;5;28mself\u001B[39m\u001B[38;5;241m.\u001B[39mapply_series_numba()\n",
      "File \u001B[1;32mE:\\Pawel\\Studia\\Inzynierka_Git\\.venv\\Lib\\site-packages\\pandas\\core\\apply.py:1081\u001B[0m, in \u001B[0;36mFrameApply.apply_series_generator\u001B[1;34m(self)\u001B[0m\n\u001B[0;32m   1078\u001B[0m \u001B[38;5;28;01mwith\u001B[39;00m option_context(\u001B[38;5;124m\"\u001B[39m\u001B[38;5;124mmode.chained_assignment\u001B[39m\u001B[38;5;124m\"\u001B[39m, \u001B[38;5;28;01mNone\u001B[39;00m):\n\u001B[0;32m   1079\u001B[0m     \u001B[38;5;28;01mfor\u001B[39;00m i, v \u001B[38;5;129;01min\u001B[39;00m \u001B[38;5;28menumerate\u001B[39m(series_gen):\n\u001B[0;32m   1080\u001B[0m         \u001B[38;5;66;03m# ignore SettingWithCopy here in case the user mutates\u001B[39;00m\n\u001B[1;32m-> 1081\u001B[0m         results[i] \u001B[38;5;241m=\u001B[39m \u001B[38;5;28;43mself\u001B[39;49m\u001B[38;5;241;43m.\u001B[39;49m\u001B[43mfunc\u001B[49m\u001B[43m(\u001B[49m\u001B[43mv\u001B[49m\u001B[43m,\u001B[49m\u001B[43m \u001B[49m\u001B[38;5;241;43m*\u001B[39;49m\u001B[38;5;28;43mself\u001B[39;49m\u001B[38;5;241;43m.\u001B[39;49m\u001B[43margs\u001B[49m\u001B[43m,\u001B[49m\u001B[43m \u001B[49m\u001B[38;5;241;43m*\u001B[39;49m\u001B[38;5;241;43m*\u001B[39;49m\u001B[38;5;28;43mself\u001B[39;49m\u001B[38;5;241;43m.\u001B[39;49m\u001B[43mkwargs\u001B[49m\u001B[43m)\u001B[49m\n\u001B[0;32m   1082\u001B[0m         \u001B[38;5;28;01mif\u001B[39;00m \u001B[38;5;28misinstance\u001B[39m(results[i], ABCSeries):\n\u001B[0;32m   1083\u001B[0m             \u001B[38;5;66;03m# If we have a view on v, we need to make a copy because\u001B[39;00m\n\u001B[0;32m   1084\u001B[0m             \u001B[38;5;66;03m#  series_generator will swap out the underlying data\u001B[39;00m\n\u001B[0;32m   1085\u001B[0m             results[i] \u001B[38;5;241m=\u001B[39m results[i]\u001B[38;5;241m.\u001B[39mcopy(deep\u001B[38;5;241m=\u001B[39m\u001B[38;5;28;01mFalse\u001B[39;00m)\n",
      "Cell \u001B[1;32mIn[7], line 5\u001B[0m, in \u001B[0;36mfetch_weather_data\u001B[1;34m(row)\u001B[0m\n\u001B[0;32m      3\u001B[0m date_utc, time_utc \u001B[38;5;241m=\u001B[39m convert_utc_plus1_to_utc(row[\u001B[38;5;124m\"\u001B[39m\u001B[38;5;124mDate\u001B[39m\u001B[38;5;124m\"\u001B[39m], row[\u001B[38;5;124m\"\u001B[39m\u001B[38;5;124mtime\u001B[39m\u001B[38;5;124m\"\u001B[39m])\n\u001B[0;32m      4\u001B[0m rounded_time_utc \u001B[38;5;241m=\u001B[39m round_time_to_nearest_hour(time_utc)\n\u001B[1;32m----> 5\u001B[0m \u001B[38;5;28;01mreturn\u001B[39;00m \u001B[43mget_weather\u001B[49m\u001B[43m(\u001B[49m\u001B[43mrow\u001B[49m\u001B[43m[\u001B[49m\u001B[38;5;124;43m\"\u001B[39;49m\u001B[38;5;124;43mlatitude\u001B[39;49m\u001B[38;5;124;43m\"\u001B[39;49m\u001B[43m]\u001B[49m\u001B[43m,\u001B[49m\u001B[43m \u001B[49m\u001B[43mrow\u001B[49m\u001B[43m[\u001B[49m\u001B[38;5;124;43m\"\u001B[39;49m\u001B[38;5;124;43mlongitude\u001B[39;49m\u001B[38;5;124;43m\"\u001B[39;49m\u001B[43m]\u001B[49m\u001B[43m,\u001B[49m\u001B[43m \u001B[49m\u001B[43mdate_utc\u001B[49m\u001B[43m,\u001B[49m\u001B[43m \u001B[49m\u001B[43mrounded_time_utc\u001B[49m\u001B[43m,\u001B[49m\u001B[43m \u001B[49m\u001B[43mvariables\u001B[49m\u001B[43m)\u001B[49m\n",
      "Cell \u001B[1;32mIn[15], line 10\u001B[0m, in \u001B[0;36mget_weather\u001B[1;34m(latitude, longitude, date, time, variables)\u001B[0m\n\u001B[0;32m      8\u001B[0m data \u001B[38;5;241m=\u001B[39m response\u001B[38;5;241m.\u001B[39mjson()\n\u001B[0;32m      9\u001B[0m datetime_str \u001B[38;5;241m=\u001B[39m \u001B[38;5;124mf\u001B[39m\u001B[38;5;124m\"\u001B[39m\u001B[38;5;132;01m{\u001B[39;00mdate\u001B[38;5;132;01m}\u001B[39;00m\u001B[38;5;124mT\u001B[39m\u001B[38;5;132;01m{\u001B[39;00mtime\u001B[38;5;132;01m}\u001B[39;00m\u001B[38;5;124m\"\u001B[39m\n\u001B[1;32m---> 10\u001B[0m \u001B[38;5;28;01mfor\u001B[39;00m i, hourly_time \u001B[38;5;129;01min\u001B[39;00m \u001B[38;5;28menumerate\u001B[39m(\u001B[43mdata\u001B[49m\u001B[43m[\u001B[49m\u001B[38;5;124;43m\"\u001B[39;49m\u001B[38;5;124;43mhourly\u001B[39;49m\u001B[38;5;124;43m\"\u001B[39;49m\u001B[43m]\u001B[49m[\u001B[38;5;124m\"\u001B[39m\u001B[38;5;124mtime\u001B[39m\u001B[38;5;124m\"\u001B[39m]):\n\u001B[0;32m     11\u001B[0m \t\u001B[38;5;28;01mif\u001B[39;00m hourly_time \u001B[38;5;241m==\u001B[39m datetime_str:\n\u001B[0;32m     12\u001B[0m \t\t\u001B[38;5;66;03m# Extract requested variables for the specific time\u001B[39;00m\n\u001B[0;32m     13\u001B[0m \t\t\u001B[38;5;28;01mreturn\u001B[39;00m {var: data[\u001B[38;5;124m\"\u001B[39m\u001B[38;5;124mhourly\u001B[39m\u001B[38;5;124m\"\u001B[39m][var][i] \u001B[38;5;28;01mfor\u001B[39;00m var \u001B[38;5;129;01min\u001B[39;00m variables}\n",
      "\u001B[1;31mKeyError\u001B[0m: 'hourly'"
     ]
    }
   ],
   "execution_count": 26
  },
  {
   "metadata": {
    "ExecuteTime": {
     "end_time": "2024-12-15T14:16:22.558736Z",
     "start_time": "2024-12-15T14:16:22.558736Z"
    }
   },
   "cell_type": "code",
   "source": "weather_data_chunk_10 = process_partial_chunk(matches, fetch_weather_data, start_index=4500, chunk_size=500)",
   "outputs": [],
   "execution_count": null
  },
  {
   "metadata": {},
   "cell_type": "markdown",
   "source": "### To odpal u siebie"
  },
  {
   "metadata": {},
   "cell_type": "code",
   "outputs": [],
   "execution_count": null,
   "source": "weather_data_chunk_11 = process_partial_chunk(matches, fetch_weather_data, start_index=5000, chunk_size=500)"
  },
  {
   "metadata": {},
   "cell_type": "markdown",
   "source": "### I tak dalej"
  },
  {
   "metadata": {},
   "cell_type": "code",
   "outputs": [],
   "execution_count": null,
   "source": ""
  }
 ],
 "metadata": {
  "kernelspec": {
   "display_name": ".venv",
   "language": "python",
   "name": ".venv"
  },
  "language_info": {
   "codemirror_mode": {
    "name": "ipython",
    "version": 3
   },
   "file_extension": ".py",
   "mimetype": "text/x-python",
   "name": "python",
   "nbconvert_exporter": "python",
   "pygments_lexer": "ipython3",
   "version": "3.10.0"
  }
 },
 "nbformat": 4,
 "nbformat_minor": 2
}
