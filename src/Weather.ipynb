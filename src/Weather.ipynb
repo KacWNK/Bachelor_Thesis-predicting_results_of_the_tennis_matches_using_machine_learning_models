{
 "cells": [
  {
   "cell_type": "code",
   "metadata": {
    "ExecuteTime": {
     "end_time": "2024-12-16T11:29:33.621980Z",
     "start_time": "2024-12-16T11:29:33.619931Z"
    }
   },
   "source": [
    "import pandas as pd\n",
    "import numpy as np"
   ],
   "outputs": [],
   "execution_count": 1
  },
  {
   "metadata": {
    "ExecuteTime": {
     "end_time": "2024-12-16T11:29:34.069153Z",
     "start_time": "2024-12-16T11:29:33.622999Z"
    }
   },
   "cell_type": "code",
   "source": [
    "import requests\n",
    "\n",
    "def get_weather(latitude, longitude, date, time, variables):\n",
    "    url = f\"https://archive-api.open-meteo.com/v1/archive?latitude={latitude}&longitude={longitude}&hourly={','.join(variables)}&start_date={date}&end_date={date}&timezone=UTC\"\n",
    "    # Make the API request\n",
    "    response = requests.get(url)\n",
    "    data = response.json()\n",
    "    if not data.get(\"hourly\"):\n",
    "        print(url, data)\n",
    "        return None\n",
    "    datetime_str = f\"{date}T{time}\"\n",
    "    for i, hourly_time in enumerate(data[\"hourly\"][\"time\"]):\n",
    "        if hourly_time == datetime_str:\n",
    "            # Extract requested variables for the specific time\n",
    "            return {var: data[\"hourly\"][var][i] for var in variables}\n",
    "\t\n",
    "    return None  \n",
    "\n",
    "# Example usage\n",
    "latitude = -34.92\n",
    "longitude = 138.6\n",
    "date = \"2017-01-01\"\n",
    "time = \"06:00\"  \n",
    "variables = [\"temperature_2m\", \"relative_humidity_2m\", \"windspeed_10m\", \"apparent_temperature\"]\n",
    "\n",
    "weather_data = get_weather(latitude, longitude, date, time, variables)\n",
    "print(weather_data)"
   ],
   "outputs": [
    {
     "name": "stdout",
     "output_type": "stream",
     "text": [
      "{'temperature_2m': 20.1, 'relative_humidity_2m': 62, 'windspeed_10m': 28.7, 'apparent_temperature': 16.8}\n"
     ]
    }
   ],
   "execution_count": 2
  },
  {
   "cell_type": "code",
   "metadata": {
    "ExecuteTime": {
     "end_time": "2024-12-16T11:29:48.080859Z",
     "start_time": "2024-12-16T11:29:47.328294Z"
    }
   },
   "source": [
    "matches = pd.read_csv('../data/all_years_nc_tc_elo_aggr_stats/matches.csv')"
   ],
   "outputs": [],
   "execution_count": 3
  },
  {
   "cell_type": "code",
   "metadata": {
    "ExecuteTime": {
     "end_time": "2024-12-16T11:29:49.044275Z",
     "start_time": "2024-12-16T11:29:49.011050Z"
    }
   },
   "source": [
    "matches.head()[['Date', 'time', 'latitude', 'longitude']]"
   ],
   "outputs": [
    {
     "data": {
      "text/plain": [
       "         Date   time   latitude   longitude\n",
       "0  2017-12-31  07:25 -27.468968  153.023499\n",
       "1  2017-12-31  09:20 -27.468968  153.023499\n",
       "2  2018-01-01  08:35  18.521374   73.854507\n",
       "3  2018-01-01  04:00 -27.468968  153.023499\n",
       "4  2018-01-01  02:10 -27.468968  153.023499"
      ],
      "text/html": [
       "<div>\n",
       "<style scoped>\n",
       "    .dataframe tbody tr th:only-of-type {\n",
       "        vertical-align: middle;\n",
       "    }\n",
       "\n",
       "    .dataframe tbody tr th {\n",
       "        vertical-align: top;\n",
       "    }\n",
       "\n",
       "    .dataframe thead th {\n",
       "        text-align: right;\n",
       "    }\n",
       "</style>\n",
       "<table border=\"1\" class=\"dataframe\">\n",
       "  <thead>\n",
       "    <tr style=\"text-align: right;\">\n",
       "      <th></th>\n",
       "      <th>Date</th>\n",
       "      <th>time</th>\n",
       "      <th>latitude</th>\n",
       "      <th>longitude</th>\n",
       "    </tr>\n",
       "  </thead>\n",
       "  <tbody>\n",
       "    <tr>\n",
       "      <th>0</th>\n",
       "      <td>2017-12-31</td>\n",
       "      <td>07:25</td>\n",
       "      <td>-27.468968</td>\n",
       "      <td>153.023499</td>\n",
       "    </tr>\n",
       "    <tr>\n",
       "      <th>1</th>\n",
       "      <td>2017-12-31</td>\n",
       "      <td>09:20</td>\n",
       "      <td>-27.468968</td>\n",
       "      <td>153.023499</td>\n",
       "    </tr>\n",
       "    <tr>\n",
       "      <th>2</th>\n",
       "      <td>2018-01-01</td>\n",
       "      <td>08:35</td>\n",
       "      <td>18.521374</td>\n",
       "      <td>73.854507</td>\n",
       "    </tr>\n",
       "    <tr>\n",
       "      <th>3</th>\n",
       "      <td>2018-01-01</td>\n",
       "      <td>04:00</td>\n",
       "      <td>-27.468968</td>\n",
       "      <td>153.023499</td>\n",
       "    </tr>\n",
       "    <tr>\n",
       "      <th>4</th>\n",
       "      <td>2018-01-01</td>\n",
       "      <td>02:10</td>\n",
       "      <td>-27.468968</td>\n",
       "      <td>153.023499</td>\n",
       "    </tr>\n",
       "  </tbody>\n",
       "</table>\n",
       "</div>"
      ]
     },
     "execution_count": 4,
     "metadata": {},
     "output_type": "execute_result"
    }
   ],
   "execution_count": 4
  },
  {
   "cell_type": "code",
   "source": [
    "from datetime import datetime, timedelta\n",
    "\n",
    "def convert_utc_plus1_to_utc(date, time):\n",
    "    dt = datetime.strptime(f\"{date} {time}\", \"%Y-%m-%d %H:%M\")\n",
    "\t\n",
    "    # Subtract 1 hour to convert from UTC+1 to UTC\n",
    "    dt_utc = dt - timedelta(hours=1)\n",
    "    return dt_utc.strftime(\"%Y-%m-%d\"), dt_utc.strftime(\"%H:%M\")\n",
    "\n",
    "def round_time_to_nearest_hour(time_str):\n",
    "    time_obj = datetime.strptime(time_str, \"%H:%M\")\n",
    "\n",
    "    # Round minutes to the nearest hour\n",
    "    if time_obj.minute >= 30:  # Round up\n",
    "        time_obj += timedelta(minutes=60 - time_obj.minute)\n",
    "    else:  # Round down\n",
    "        time_obj -= timedelta(minutes=time_obj.minute)\n",
    "\n",
    "    return time_obj.strftime(\"%H:00\")"
   ],
   "metadata": {
    "collapsed": false,
    "ExecuteTime": {
     "end_time": "2024-12-16T11:29:49.714926Z",
     "start_time": "2024-12-16T11:29:49.710831Z"
    }
   },
   "outputs": [],
   "execution_count": 5
  },
  {
   "cell_type": "code",
   "metadata": {
    "ExecuteTime": {
     "end_time": "2024-12-16T11:29:50.614576Z",
     "start_time": "2024-12-16T11:29:50.611520Z"
    }
   },
   "source": [
    "# Apply get_weather to each row\n",
    "def fetch_weather_data(row):\n",
    "\tdate_utc, time_utc = convert_utc_plus1_to_utc(row[\"Date\"], row[\"time\"])\n",
    "\trounded_time_utc = round_time_to_nearest_hour(time_utc)\n",
    "\treturn get_weather(row[\"latitude\"], row[\"longitude\"], date_utc, rounded_time_utc, variables)\n",
    "\n",
    "# For now just 100 rows to see if it works\n",
    "#matches = matches.head(100)\n",
    "# \n",
    "# weather_data = matches.apply(fetch_weather_data, axis=1)\n",
    "# weather_df = pd.DataFrame(weather_data.tolist())\n",
    "# \n",
    "# # Merge the weather data back into the original DataFrame\n",
    "# matches = pd.concat([matches, weather_df], axis=1)\n",
    "# print(matches[['Date', 'time', 'latitude', 'longitude', 'temperature_2m', \"relative_humidity_2m\", \"windspeed_10m\", \"apparent_temperature\"]])"
   ],
   "outputs": [],
   "execution_count": 6
  },
  {
   "metadata": {
    "ExecuteTime": {
     "end_time": "2024-12-16T11:29:51.064924Z",
     "start_time": "2024-12-16T11:29:51.061355Z"
    }
   },
   "cell_type": "code",
   "source": [
    "def process_partial_chunk(df, func, start_index, chunk_size):\n",
    "    end_index = min(start_index + chunk_size, len(df))  \n",
    "    chunk = df.iloc[start_index:end_index]\n",
    "    print(f\"Processing rows {start_index} to {end_index}...\")\n",
    "    \n",
    "    # Apply the function to the chunk\n",
    "    chunk_results = chunk.apply(func, axis=1)\n",
    "    chunk_results.to_csv(f\"../data/weather_chunks/{start_index}_{end_index}.csv\")\n",
    "    result_df = pd.DataFrame(chunk_results.tolist(), index=chunk.index)\n",
    "    print(f\"results saved to ../data/weather_chunks/{start_index}_{end_index}.csv\")\n",
    "    return result_df"
   ],
   "outputs": [],
   "execution_count": 7
  },
  {
   "metadata": {},
   "cell_type": "markdown",
   "source": "### To odpaliłem u siebie"
  },
  {
   "cell_type": "code",
   "source": "weather_data_chunk_1 = process_partial_chunk(matches, fetch_weather_data, start_index=0, chunk_size=500)",
   "metadata": {
    "collapsed": false,
    "ExecuteTime": {
     "end_time": "2024-12-15T14:03:27.503747Z",
     "start_time": "2024-12-15T14:02:26.847158Z"
    }
   },
   "outputs": [
    {
     "name": "stdout",
     "output_type": "stream",
     "text": [
      "Processing rows 0 to 500...\n"
     ]
    }
   ],
   "execution_count": 16
  },
  {
   "metadata": {
    "ExecuteTime": {
     "end_time": "2024-12-15T14:06:16.842360Z",
     "start_time": "2024-12-15T14:05:16.338315Z"
    }
   },
   "cell_type": "code",
   "source": "weather_data_chunk_2 = process_partial_chunk(matches, fetch_weather_data, start_index=500, chunk_size=500)",
   "outputs": [
    {
     "name": "stdout",
     "output_type": "stream",
     "text": [
      "Processing rows 500 to 1000...\n"
     ]
    }
   ],
   "execution_count": 17
  },
  {
   "metadata": {
    "ExecuteTime": {
     "end_time": "2024-12-15T14:08:42.977213Z",
     "start_time": "2024-12-15T14:07:42.310438Z"
    }
   },
   "cell_type": "code",
   "source": "weather_data_chunk_3 = process_partial_chunk(matches, fetch_weather_data, start_index=1000, chunk_size=500)",
   "outputs": [
    {
     "name": "stdout",
     "output_type": "stream",
     "text": [
      "Processing rows 1000 to 1500...\n",
      "results saved to ../data/weather_chunks/{start_index}_{end_index}.csv\n"
     ]
    }
   ],
   "execution_count": 19
  },
  {
   "metadata": {
    "ExecuteTime": {
     "end_time": "2024-12-15T14:11:35.351862Z",
     "start_time": "2024-12-15T14:10:34.502142Z"
    }
   },
   "cell_type": "code",
   "source": "weather_data_chunk_4 = process_partial_chunk(matches, fetch_weather_data, start_index=1500, chunk_size=500)",
   "outputs": [
    {
     "name": "stdout",
     "output_type": "stream",
     "text": [
      "Processing rows 1500 to 2000...\n",
      "results saved to ../data/weather_chunks/1500_2000.csv\n"
     ]
    }
   ],
   "execution_count": 21
  },
  {
   "metadata": {
    "ExecuteTime": {
     "end_time": "2024-12-15T14:12:46.060983Z",
     "start_time": "2024-12-15T14:11:44.514465Z"
    }
   },
   "cell_type": "code",
   "source": "weather_data_chunk_5 = process_partial_chunk(matches, fetch_weather_data, start_index=2000, chunk_size=500)",
   "outputs": [
    {
     "name": "stdout",
     "output_type": "stream",
     "text": [
      "Processing rows 2000 to 2500...\n",
      "results saved to ../data/weather_chunks/2000_2500.csv\n"
     ]
    }
   ],
   "execution_count": 22
  },
  {
   "metadata": {
    "ExecuteTime": {
     "end_time": "2024-12-15T14:13:46.131276Z",
     "start_time": "2024-12-15T14:12:46.061984Z"
    }
   },
   "cell_type": "code",
   "source": "weather_data_chunk_6 = process_partial_chunk(matches, fetch_weather_data, start_index=2500, chunk_size=500)",
   "outputs": [
    {
     "name": "stdout",
     "output_type": "stream",
     "text": [
      "Processing rows 2500 to 3000...\n",
      "results saved to ../data/weather_chunks/2500_3000.csv\n"
     ]
    }
   ],
   "execution_count": 23
  },
  {
   "metadata": {
    "ExecuteTime": {
     "end_time": "2024-12-15T14:14:45.726011Z",
     "start_time": "2024-12-15T14:13:46.131276Z"
    }
   },
   "cell_type": "code",
   "source": "weather_data_chunk_7 = process_partial_chunk(matches, fetch_weather_data, start_index=3000, chunk_size=500)",
   "outputs": [
    {
     "name": "stdout",
     "output_type": "stream",
     "text": [
      "Processing rows 3000 to 3500...\n",
      "results saved to ../data/weather_chunks/3000_3500.csv\n"
     ]
    }
   ],
   "execution_count": 24
  },
  {
   "metadata": {
    "ExecuteTime": {
     "end_time": "2024-12-15T14:15:45.248138Z",
     "start_time": "2024-12-15T14:14:45.726532Z"
    }
   },
   "cell_type": "code",
   "source": "weather_data_chunk_8 = process_partial_chunk(matches, fetch_weather_data, start_index=3500, chunk_size=500)",
   "outputs": [
    {
     "name": "stdout",
     "output_type": "stream",
     "text": [
      "Processing rows 3500 to 4000...\n",
      "results saved to ../data/weather_chunks/3500_4000.csv\n"
     ]
    }
   ],
   "execution_count": 25
  },
  {
   "metadata": {
    "ExecuteTime": {
     "end_time": "2024-12-15T21:04:05.330107Z",
     "start_time": "2024-12-15T21:03:05.425493Z"
    }
   },
   "cell_type": "code",
   "source": "weather_data_chunk_9= process_partial_chunk(matches, fetch_weather_data, start_index=4000, chunk_size=500)",
   "outputs": [
    {
     "name": "stdout",
     "output_type": "stream",
     "text": [
      "Processing rows 4000 to 4500...\n",
      "results saved to ../data/weather_chunks/4000_4500.csv\n"
     ]
    }
   ],
   "execution_count": 43
  },
  {
   "metadata": {
    "ExecuteTime": {
     "end_time": "2024-12-15T21:05:04.729476Z",
     "start_time": "2024-12-15T21:04:05.331444Z"
    }
   },
   "cell_type": "code",
   "source": "weather_data_chunk_10 = process_partial_chunk(matches, fetch_weather_data, start_index=4500, chunk_size=500)",
   "outputs": [
    {
     "name": "stdout",
     "output_type": "stream",
     "text": [
      "Processing rows 4500 to 5000...\n",
      "results saved to ../data/weather_chunks/4500_5000.csv\n"
     ]
    }
   ],
   "execution_count": 44
  },
  {
   "metadata": {},
   "cell_type": "markdown",
   "source": "### To odpal u siebie"
  },
  {
   "metadata": {},
   "cell_type": "code",
   "outputs": [],
   "execution_count": null,
   "source": "weather_data_chunk_11 = process_partial_chunk(matches, fetch_weather_data, start_index=5000, chunk_size=500)"
  },
  {
   "metadata": {},
   "cell_type": "markdown",
   "source": "### I tak dalej"
  },
  {
   "metadata": {
    "ExecuteTime": {
     "end_time": "2024-12-16T11:32:34.732104Z",
     "start_time": "2024-12-16T11:31:34.822437Z"
    }
   },
   "cell_type": "code",
   "source": "weather_data_chunk_21 = process_partial_chunk(matches, fetch_weather_data, start_index=10000, chunk_size=500)",
   "outputs": [
    {
     "name": "stdout",
     "output_type": "stream",
     "text": [
      "Processing rows 10000 to 10500...\n",
      "results saved to ../data/weather_chunks/10000_10500.csv\n"
     ]
    }
   ],
   "execution_count": 9
  },
  {
   "metadata": {
    "ExecuteTime": {
     "end_time": "2024-12-16T11:33:34.413337Z",
     "start_time": "2024-12-16T11:32:34.733117Z"
    }
   },
   "cell_type": "code",
   "source": "weather_data_chunk_22 = process_partial_chunk(matches, fetch_weather_data, start_index=10500, chunk_size=500)",
   "outputs": [
    {
     "name": "stdout",
     "output_type": "stream",
     "text": [
      "Processing rows 10500 to 11000...\n",
      "results saved to ../data/weather_chunks/10500_11000.csv\n"
     ]
    }
   ],
   "execution_count": 10
  },
  {
   "metadata": {
    "ExecuteTime": {
     "end_time": "2024-12-16T11:34:34.404033Z",
     "start_time": "2024-12-16T11:33:34.413847Z"
    }
   },
   "cell_type": "code",
   "source": "weather_data_chunk_23 = process_partial_chunk(matches, fetch_weather_data, start_index=11000, chunk_size=500)",
   "outputs": [
    {
     "name": "stdout",
     "output_type": "stream",
     "text": [
      "Processing rows 11000 to 11500...\n",
      "results saved to ../data/weather_chunks/11000_11500.csv\n"
     ]
    }
   ],
   "execution_count": 11
  },
  {
   "metadata": {
    "ExecuteTime": {
     "end_time": "2024-12-16T12:01:22.866389Z",
     "start_time": "2024-12-16T12:00:22.239134Z"
    }
   },
   "cell_type": "code",
   "source": "weather_data_chunk_24 = process_partial_chunk(matches, fetch_weather_data, start_index=11500, chunk_size=500)",
   "outputs": [
    {
     "name": "stdout",
     "output_type": "stream",
     "text": [
      "Processing rows 11500 to 12000...\n",
      "results saved to ../data/weather_chunks/11500_12000.csv\n"
     ]
    }
   ],
   "execution_count": 14
  },
  {
   "metadata": {
    "ExecuteTime": {
     "end_time": "2024-12-16T11:54:26.940092Z",
     "start_time": "2024-12-16T11:53:27.464554Z"
    }
   },
   "cell_type": "code",
   "source": "weather_data_chunk_25 = process_partial_chunk(matches, fetch_weather_data, start_index=12000, chunk_size=500)",
   "outputs": [
    {
     "name": "stdout",
     "output_type": "stream",
     "text": [
      "Processing rows 12000 to 12500...\n",
      "results saved to ../data/weather_chunks/12000_12500.csv\n"
     ]
    }
   ],
   "execution_count": 13
  },
  {
   "metadata": {
    "ExecuteTime": {
     "end_time": "2024-12-16T12:41:22.190363Z",
     "start_time": "2024-12-16T12:40:17.305448Z"
    }
   },
   "cell_type": "code",
   "source": "weather_data_chunk_26 = process_partial_chunk(matches, fetch_weather_data, start_index=12500, chunk_size=500)",
   "outputs": [
    {
     "name": "stdout",
     "output_type": "stream",
     "text": [
      "Processing rows 12500 to 13000...\n",
      "results saved to ../data/weather_chunks/12500_13000.csv\n"
     ]
    }
   ],
   "execution_count": 15
  },
  {
   "metadata": {
    "ExecuteTime": {
     "end_time": "2024-12-16T12:42:21.789812Z",
     "start_time": "2024-12-16T12:41:22.191389Z"
    }
   },
   "cell_type": "code",
   "source": "weather_data_chunk_27 = process_partial_chunk(matches, fetch_weather_data, start_index=13000, chunk_size=500)",
   "outputs": [
    {
     "name": "stdout",
     "output_type": "stream",
     "text": [
      "Processing rows 13000 to 13500...\n",
      "results saved to ../data/weather_chunks/13000_13500.csv\n"
     ]
    }
   ],
   "execution_count": 16
  },
  {
   "metadata": {
    "ExecuteTime": {
     "end_time": "2024-12-16T12:43:21.562946Z",
     "start_time": "2024-12-16T12:42:21.790327Z"
    }
   },
   "cell_type": "code",
   "source": "weather_data_chunk_28 = process_partial_chunk(matches, fetch_weather_data, start_index=13500, chunk_size=500)",
   "outputs": [
    {
     "name": "stdout",
     "output_type": "stream",
     "text": [
      "Processing rows 13500 to 14000...\n",
      "results saved to ../data/weather_chunks/13500_14000.csv\n"
     ]
    }
   ],
   "execution_count": 17
  },
  {
   "metadata": {
    "ExecuteTime": {
     "end_time": "2024-12-16T13:05:01.885152Z",
     "start_time": "2024-12-16T13:04:48.098669Z"
    }
   },
   "cell_type": "code",
   "source": "weather_data_chunk_29 = process_partial_chunk(matches, fetch_weather_data, start_index=14000, chunk_size=500)",
   "outputs": [
    {
     "name": "stdout",
     "output_type": "stream",
     "text": [
      "Processing rows 14000 to 14111...\n",
      "results saved to ../data/weather_chunks/14000_14111.csv\n"
     ]
    }
   ],
   "execution_count": 18
  },
  {
   "metadata": {},
   "cell_type": "code",
   "outputs": [],
   "execution_count": null,
   "source": ""
  }
 ],
 "metadata": {
  "kernelspec": {
   "display_name": ".venv",
   "language": "python",
   "name": ".venv"
  },
  "language_info": {
   "codemirror_mode": {
    "name": "ipython",
    "version": 3
   },
   "file_extension": ".py",
   "mimetype": "text/x-python",
   "name": "python",
   "nbconvert_exporter": "python",
   "pygments_lexer": "ipython3",
   "version": "3.10.0"
  }
 },
 "nbformat": 4,
 "nbformat_minor": 2
}
