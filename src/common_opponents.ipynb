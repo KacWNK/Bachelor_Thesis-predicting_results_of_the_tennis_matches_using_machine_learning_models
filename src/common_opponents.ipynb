{
 "cells": [
  {
   "metadata": {
    "ExecuteTime": {
     "end_time": "2024-12-17T12:47:19.566708Z",
     "start_time": "2024-12-17T12:47:19.100187Z"
    }
   },
   "cell_type": "code",
   "source": [
    "import pandas as pd\n",
    "import numpy as np\n",
    "matches = pd.read_csv(\"../data/all_years_nc_tc_elo/matches.csv\")\n",
    "matches = matches.sort_values(by='Date')"
   ],
   "id": "9bb46c0ea4856d65",
   "outputs": [],
   "execution_count": 1
  },
  {
   "metadata": {
    "ExecuteTime": {
     "end_time": "2024-12-17T12:57:58.099364Z",
     "start_time": "2024-12-17T12:57:58.091061Z"
    }
   },
   "cell_type": "code",
   "source": "matches['Date'] = pd.to_datetime(matches['Date'], errors='coerce')",
   "id": "6519a42e5d84f332",
   "outputs": [],
   "execution_count": 8
  },
  {
   "cell_type": "code",
   "source": [
    "def number_of_common_opponent_matches(row, df):\n",
    "    player_a = row['winner_id']\n",
    "    player_b = row['loser_id']\n",
    "    current_date = row['Date']\n",
    "    \n",
    "    # Filter for matches that occurred before the current match date\n",
    "    df = df[df['Date'] < current_date]\n",
    "    \n",
    "    # Find common opponents\n",
    "    player_a_opponents = set(df[(df['winner_id'] == player_a)]['loser_id']).union(\n",
    "                         set(df[(df['loser_id'] == player_a)]['winner_id']))\n",
    "    player_b_opponents = set(df[(df['winner_id'] == player_b)]['loser_id']).union(\n",
    "                         set(df[(df['loser_id'] == player_b)]['winner_id']))\n",
    "\n",
    "    common_opponents = player_a_opponents.intersection(player_b_opponents)\n",
    "    return len(common_opponents)"
   ],
   "metadata": {
    "collapsed": false,
    "ExecuteTime": {
     "end_time": "2024-12-17T12:47:20.818819Z",
     "start_time": "2024-12-17T12:47:20.813321Z"
    }
   },
   "id": "25699fc8f43f4811",
   "outputs": [],
   "execution_count": 2
  },
  {
   "cell_type": "code",
   "source": [
    "matches[['num_CO_matches']] = matches.apply(\n",
    "    lambda row: pd.Series(number_of_common_opponent_matches(row, matches)), axis=1\n",
    ")"
   ],
   "metadata": {
    "collapsed": false,
    "ExecuteTime": {
     "end_time": "2024-12-17T12:48:20.836460Z",
     "start_time": "2024-12-17T12:47:23.094659Z"
    }
   },
   "id": "7e7740c754c95189",
   "outputs": [],
   "execution_count": 3
  },
  {
   "metadata": {
    "ExecuteTime": {
     "end_time": "2024-12-17T12:58:01.932452Z",
     "start_time": "2024-12-17T12:58:01.925368Z"
    }
   },
   "cell_type": "code",
   "source": [
    "def calculate_weighted_mean(matches, column_name, time_column, decay_rate=0.3):\n",
    "    if matches.empty:\n",
    "        return None\n",
    "    # Calculate weights using exponential decay\n",
    "    matches['weight'] = np.exp(-decay_rate * matches[time_column])\n",
    "    \n",
    "    # Apply weights and calculate the weighted mean\n",
    "    weighted_sum = (matches[column_name] * matches['weight']).sum()\n",
    "    total_weight = matches['weight'].sum()\n",
    "    weighted_mean = weighted_sum / total_weight if total_weight > 0 else 0\n",
    "    return weighted_mean if pd.notnull(weighted_mean) else 0\n",
    "\n",
    "def calculate_stat_avg(player_win_matches, player_lose_matches, win_column, lose_column):\n",
    "    win_mean = calculate_weighted_mean(player_win_matches, win_column, 'time_since_match')\n",
    "    lose_mean = calculate_weighted_mean(player_lose_matches, lose_column, 'time_since_match')\n",
    "    if win_mean and lose_mean:\n",
    "        return (win_mean + lose_mean) / 2\n",
    "    elif win_mean:\n",
    "        return win_mean\n",
    "    elif lose_mean:\n",
    "        return lose_mean\n",
    "    else:\n",
    "        return 0\n",
    "\n",
    "def filter_matches_by_player(df, player_id):\n",
    "    win_matches = df[df['winner_id'] == player_id]\n",
    "    lose_matches = df[df['loser_id'] == player_id]\n",
    "    return win_matches, lose_matches\n",
    "\n",
    "def calculate_common_opponent_stats(df, player_a, player_b, winner_column, loser_column):\n",
    "    # Find common opponents\n",
    "    player_a_opponents = set(df[df['winner_id'] == player_a]['loser_id']).union(\n",
    "        set(df[df['loser_id'] == player_a]['winner_id'])\n",
    "    )\n",
    "    player_b_opponents = set(df[df['winner_id'] == player_b]['loser_id']).union(\n",
    "        set(df[df['loser_id'] == player_b]['winner_id'])\n",
    "    )\n",
    "    common_opponents = player_a_opponents.intersection(player_b_opponents)\n",
    "\n",
    "    # Filter matches against common opponents\n",
    "    co_player_a_win_matches = df[(df['winner_id'] == player_a) & (df['loser_id'].isin(common_opponents))]\n",
    "    co_player_a_lose_matches = df[(df['loser_id'] == player_a) & (df['winner_id'].isin(common_opponents))]\n",
    "    co_player_b_win_matches = df[(df['winner_id'] == player_b) & (df['loser_id'].isin(common_opponents))]\n",
    "    co_player_b_lose_matches = df[(df['loser_id'] == player_b) & (df['winner_id'].isin(common_opponents))]\n",
    "\n",
    "    # Calculate stat avg for players against common opponents\n",
    "    co_player_a_stat_avg = calculate_stat_avg(co_player_a_win_matches, co_player_a_lose_matches, winner_column, loser_column)\n",
    "    co_player_b_stat_avg = calculate_stat_avg(co_player_b_win_matches, co_player_b_lose_matches, winner_column, loser_column)\n",
    "    \n",
    "    return co_player_a_stat_avg, co_player_b_stat_avg\n",
    "\n",
    "def calculate_player_stat_difference(row, df, winner_column_name, loser_column_name):\n",
    "    winner = row['winner_id']\n",
    "    loser = row['loser_id']\n",
    "    current_date = row['Date']\n",
    "    # Filter matches before the current match date\n",
    "    past_matches = df[df['Date'] < current_date].copy()\n",
    "    past_matches['time_since_match'] = (current_date - past_matches['Date']).dt.days / 365.0  # Convert to years\n",
    "    \n",
    "    # Calculate stat average for Player A and Player B\n",
    "    winner_won_matches, player_a_lose_matches = filter_matches_by_player(past_matches, winner)\n",
    "    loser_won_matches, player_b_lose_matches = filter_matches_by_player(past_matches, loser)\n",
    "\n",
    "    winner_stat_avg = calculate_stat_avg(winner_won_matches, player_a_lose_matches, winner_column_name, loser_column_name)\n",
    "    loser_stat_avg = calculate_stat_avg(loser_won_matches, player_b_lose_matches, winner_column_name, loser_column_name)\n",
    "\n",
    "    #stat_avg_difference = player_a_stat_avg - player_b_stat_avg\n",
    "\n",
    "    # Calculate common opponent stat averages if there were common opponents \n",
    "    if row[\"num_CO_matches\"] > 0:\n",
    "        winner_co_stat_avg, loser_co_stat_avg = calculate_common_opponent_stats(\n",
    "            past_matches, winner, loser, winner_column_name, loser_column_name\n",
    "        )\n",
    "        return winner_co_stat_avg, loser_co_stat_avg, winner_stat_avg, loser_stat_avg\n",
    "    else:\n",
    "        return winner_stat_avg, loser_stat_avg, winner_stat_avg, loser_stat_avg\n"
   ],
   "id": "initial_id",
   "outputs": [],
   "execution_count": 9
  },
  {
   "metadata": {
    "ExecuteTime": {
     "end_time": "2024-12-17T13:00:53.585486Z",
     "start_time": "2024-12-17T12:58:02.628932Z"
    }
   },
   "cell_type": "code",
   "source": [
    "# Apply the function to each row\n",
    "matches[['winner_CO_1st_serve_in_pct_avg', 'loser_CO_1st_serve_in_pct_avg', 'winner_1st_serve_in_pct_avg', 'loser_1st_serve_in_pct_avg']] = matches.apply(\n",
    "    lambda row: pd.Series(calculate_player_stat_difference(row, matches, 'winner_1st_serve_in_pct', 'loser_1st_serve_in_pct')), axis=1\n",
    ")\n",
    "matches[['winner_CO_1st_serve_win_pct_avg', 'loser_CO_1st_serve_win_pct_avg', 'winner_1st_serve_win_pct_avg', 'loser_1st_serve_win_pct_avg']] = matches.apply(\n",
    "    lambda row: pd.Series(calculate_player_stat_difference(row, matches, 'winner_1st_serve_win_pct', 'loser_1st_serve_win_pct')), axis=1\n",
    ")\n",
    "matches[['winner_CO_2nd_serve_win_pct_avg', 'loser_CO_2nd_serve_win_pct_avg', 'winner_2nd_serve_win_pct_avg', 'loser_2nd_serve_win_pct_avg']] = matches.apply(\n",
    "    lambda row: pd.Series(calculate_player_stat_difference(row, matches, 'winner_2nd_serve_win_pct', 'loser_2nd_serve_win_pct')), axis=1\n",
    ")\n",
    "matches[['winner_CO_serve_games_win_pct_avg', 'loser_CO_serve_games_win_pct_avg', 'winner_serve_games_win_pct_avg', 'loser_serve_games_win_pct_avg']] = matches.apply(\n",
    "    lambda row: pd.Series(calculate_player_stat_difference(row, matches, 'winner_service_games_won_pct', 'loser_service_games_won_pct')), axis=1\n",
    ")\n",
    "matches[['winner_CO_ace_avg', 'loser_CO_ace_avg', 'winner_ace_avg', 'loser_ace_avg']] = matches.apply(\n",
    "    lambda row: pd.Series(calculate_player_stat_difference(row, matches, 'w_ace', 'l_ace')), axis=1\n",
    ")\n",
    "matches[['winner_CO_df_avg', 'loser_CO_df_avg', 'winner_df_avg', 'loser_df_avg']] = matches.apply(\n",
    "    lambda row: pd.Series(calculate_player_stat_difference(row, matches, 'w_df', 'l_df')), axis=1\n",
    ")\n",
    "matches[['winner_CO_1st_serve_return_win_pct_avg', 'loser_CO_1st_serve_return_win_pct_avg', 'winner_1st_serve_return_win_pct_avg', 'loser_1st_serve_return_win_pct_avg']] = matches.apply(\n",
    "    lambda row: pd.Series(calculate_player_stat_difference(row, matches, 'winner_1st_serve_return_win_pct', 'loser_1st_serve_return_win_pct')), axis=1\n",
    ")"
   ],
   "id": "bd1fc02e205c07a8",
   "outputs": [],
   "execution_count": 10
  },
  {
   "metadata": {
    "ExecuteTime": {
     "end_time": "2024-12-17T13:02:52.467793Z",
     "start_time": "2024-12-17T13:02:52.455769Z"
    }
   },
   "cell_type": "code",
   "source": [
    "new_columns = matches[['winner_name', 'loser_name', 'winner_1st_serve_in_pct', 'winner_CO_1st_serve_in_pct_avg', 'loser_CO_1st_serve_in_pct_avg', 'winner_1st_serve_in_pct_avg', 'loser_1st_serve_in_pct_avg', \n",
    "                       # 'winner_CO_1st_serve_win_pct_avg', 'loser_CO_1st_serve_win_pct_avg', 'winner_1st_serve_win_pct_avg', 'loser_1st_serve_win_pct_avg', 'winner_CO_2nd_serve_win_pct_avg', 'loser_CO_2nd_serve_win_pct_avg', 'winner_2nd_serve_win_pct_avg', 'loser_2nd_serve_win_pct_avg', 'winner_CO_serve_games_win_pct_avg', 'loser_CO_serve_games_win_pct_avg', 'winner_serve_games_win_pct_avg', 'loser_serve_games_win_pct_avg', 'winner_CO_ace_avg', 'loser_CO_ace_avg', 'winner_ace_avg', 'loser_ace_avg', 'winner_CO_df_avg', 'loser_CO_df_avg', 'winner_df_avg', 'loser_df_avg', 'winner_CO_1st_serve_return_win_pct_avg', 'loser_CO_1st_serve_return_win_pct_avg', 'winner_1st_serve_return_win_pct_avg', 'loser_1st_serve_return_win_pct_avg'\n",
    "                       ]]\n",
    "new_columns"
   ],
   "id": "8535418908d4e180",
   "outputs": [
    {
     "data": {
      "text/plain": [
       "               winner_name            loser_name  winner_1st_serve_in_pct  \\\n",
       "0      Alexandr Dolgopolov     Diego Schwartzman                 0.579710   \n",
       "1           Alex De Minaur         Steve Johnson                 0.560606   \n",
       "18           Nicolas Jarry         Pablo Andujar                 0.600000   \n",
       "17           Matthew Ebden        Frances Tiafoe                 0.666667   \n",
       "16           Ryan Harrison        Leonardo Mayer                 0.597561   \n",
       "...                    ...                   ...                      ...   \n",
       "14105          Ugo Humbert         Fabio Fognini                 0.631579   \n",
       "14106     Adrian Mannarino           Pavel Kotov                 0.732143   \n",
       "14108          Jack Draper    Jan Lennard Struff                 0.552239   \n",
       "14109          Ugo Humbert  Alexander Shevchenko                 0.644444   \n",
       "14110     Adrian Mannarino           Jack Draper                 0.571429   \n",
       "\n",
       "       winner_CO_1st_serve_in_pct_avg  loser_CO_1st_serve_in_pct_avg  \\\n",
       "0                            0.000000                       0.000000   \n",
       "1                            0.000000                       0.000000   \n",
       "18                           0.000000                       0.000000   \n",
       "17                           0.000000                       0.000000   \n",
       "16                           0.000000                       0.000000   \n",
       "...                               ...                            ...   \n",
       "14105                        0.603621                       0.591150   \n",
       "14106                        0.597421                       0.661397   \n",
       "14108                        0.577831                       0.573607   \n",
       "14109                        0.614535                       0.593610   \n",
       "14110                        0.611403                       0.582447   \n",
       "\n",
       "       winner_1st_serve_in_pct_avg  loser_1st_serve_in_pct_avg  \n",
       "0                         0.000000                    0.000000  \n",
       "1                         0.000000                    0.000000  \n",
       "18                        0.000000                    0.000000  \n",
       "17                        0.000000                    0.000000  \n",
       "16                        0.000000                    0.000000  \n",
       "...                            ...                         ...  \n",
       "14105                     0.608363                    0.590666  \n",
       "14106                     0.601048                    0.653978  \n",
       "14108                     0.594940                    0.565892  \n",
       "14109                     0.608381                    0.587859  \n",
       "14110                     0.601905                    0.594068  \n",
       "\n",
       "[14111 rows x 7 columns]"
      ],
      "text/html": [
       "<div>\n",
       "<style scoped>\n",
       "    .dataframe tbody tr th:only-of-type {\n",
       "        vertical-align: middle;\n",
       "    }\n",
       "\n",
       "    .dataframe tbody tr th {\n",
       "        vertical-align: top;\n",
       "    }\n",
       "\n",
       "    .dataframe thead th {\n",
       "        text-align: right;\n",
       "    }\n",
       "</style>\n",
       "<table border=\"1\" class=\"dataframe\">\n",
       "  <thead>\n",
       "    <tr style=\"text-align: right;\">\n",
       "      <th></th>\n",
       "      <th>winner_name</th>\n",
       "      <th>loser_name</th>\n",
       "      <th>winner_1st_serve_in_pct</th>\n",
       "      <th>winner_CO_1st_serve_in_pct_avg</th>\n",
       "      <th>loser_CO_1st_serve_in_pct_avg</th>\n",
       "      <th>winner_1st_serve_in_pct_avg</th>\n",
       "      <th>loser_1st_serve_in_pct_avg</th>\n",
       "    </tr>\n",
       "  </thead>\n",
       "  <tbody>\n",
       "    <tr>\n",
       "      <th>0</th>\n",
       "      <td>Alexandr Dolgopolov</td>\n",
       "      <td>Diego Schwartzman</td>\n",
       "      <td>0.579710</td>\n",
       "      <td>0.000000</td>\n",
       "      <td>0.000000</td>\n",
       "      <td>0.000000</td>\n",
       "      <td>0.000000</td>\n",
       "    </tr>\n",
       "    <tr>\n",
       "      <th>1</th>\n",
       "      <td>Alex De Minaur</td>\n",
       "      <td>Steve Johnson</td>\n",
       "      <td>0.560606</td>\n",
       "      <td>0.000000</td>\n",
       "      <td>0.000000</td>\n",
       "      <td>0.000000</td>\n",
       "      <td>0.000000</td>\n",
       "    </tr>\n",
       "    <tr>\n",
       "      <th>18</th>\n",
       "      <td>Nicolas Jarry</td>\n",
       "      <td>Pablo Andujar</td>\n",
       "      <td>0.600000</td>\n",
       "      <td>0.000000</td>\n",
       "      <td>0.000000</td>\n",
       "      <td>0.000000</td>\n",
       "      <td>0.000000</td>\n",
       "    </tr>\n",
       "    <tr>\n",
       "      <th>17</th>\n",
       "      <td>Matthew Ebden</td>\n",
       "      <td>Frances Tiafoe</td>\n",
       "      <td>0.666667</td>\n",
       "      <td>0.000000</td>\n",
       "      <td>0.000000</td>\n",
       "      <td>0.000000</td>\n",
       "      <td>0.000000</td>\n",
       "    </tr>\n",
       "    <tr>\n",
       "      <th>16</th>\n",
       "      <td>Ryan Harrison</td>\n",
       "      <td>Leonardo Mayer</td>\n",
       "      <td>0.597561</td>\n",
       "      <td>0.000000</td>\n",
       "      <td>0.000000</td>\n",
       "      <td>0.000000</td>\n",
       "      <td>0.000000</td>\n",
       "    </tr>\n",
       "    <tr>\n",
       "      <th>...</th>\n",
       "      <td>...</td>\n",
       "      <td>...</td>\n",
       "      <td>...</td>\n",
       "      <td>...</td>\n",
       "      <td>...</td>\n",
       "      <td>...</td>\n",
       "      <td>...</td>\n",
       "    </tr>\n",
       "    <tr>\n",
       "      <th>14105</th>\n",
       "      <td>Ugo Humbert</td>\n",
       "      <td>Fabio Fognini</td>\n",
       "      <td>0.631579</td>\n",
       "      <td>0.603621</td>\n",
       "      <td>0.591150</td>\n",
       "      <td>0.608363</td>\n",
       "      <td>0.590666</td>\n",
       "    </tr>\n",
       "    <tr>\n",
       "      <th>14106</th>\n",
       "      <td>Adrian Mannarino</td>\n",
       "      <td>Pavel Kotov</td>\n",
       "      <td>0.732143</td>\n",
       "      <td>0.597421</td>\n",
       "      <td>0.661397</td>\n",
       "      <td>0.601048</td>\n",
       "      <td>0.653978</td>\n",
       "    </tr>\n",
       "    <tr>\n",
       "      <th>14108</th>\n",
       "      <td>Jack Draper</td>\n",
       "      <td>Jan Lennard Struff</td>\n",
       "      <td>0.552239</td>\n",
       "      <td>0.577831</td>\n",
       "      <td>0.573607</td>\n",
       "      <td>0.594940</td>\n",
       "      <td>0.565892</td>\n",
       "    </tr>\n",
       "    <tr>\n",
       "      <th>14109</th>\n",
       "      <td>Ugo Humbert</td>\n",
       "      <td>Alexander Shevchenko</td>\n",
       "      <td>0.644444</td>\n",
       "      <td>0.614535</td>\n",
       "      <td>0.593610</td>\n",
       "      <td>0.608381</td>\n",
       "      <td>0.587859</td>\n",
       "    </tr>\n",
       "    <tr>\n",
       "      <th>14110</th>\n",
       "      <td>Adrian Mannarino</td>\n",
       "      <td>Jack Draper</td>\n",
       "      <td>0.571429</td>\n",
       "      <td>0.611403</td>\n",
       "      <td>0.582447</td>\n",
       "      <td>0.601905</td>\n",
       "      <td>0.594068</td>\n",
       "    </tr>\n",
       "  </tbody>\n",
       "</table>\n",
       "<p>14111 rows × 7 columns</p>\n",
       "</div>"
      ]
     },
     "execution_count": 11,
     "metadata": {},
     "output_type": "execute_result"
    }
   ],
   "execution_count": 11
  },
  {
   "metadata": {
    "ExecuteTime": {
     "end_time": "2024-12-17T13:02:57.684989Z",
     "start_time": "2024-12-17T13:02:57.679971Z"
    }
   },
   "cell_type": "code",
   "source": [
    "# Check for missing values in new columns\n",
    "missing_values = new_columns.isnull().sum()\n",
    "\n",
    "columns_with_nan = missing_values[missing_values > 0]\n",
    "\n",
    "print(\"Columns with NaN values and their counts:\")\n",
    "print(columns_with_nan)"
   ],
   "id": "c7e50fb8c2a66f8d",
   "outputs": [
    {
     "name": "stdout",
     "output_type": "stream",
     "text": [
      "Columns with NaN values and their counts:\n",
      "winner_1st_serve_in_pct    100\n",
      "dtype: int64\n"
     ]
    }
   ],
   "execution_count": 12
  },
  {
   "cell_type": "code",
   "source": [
    "matches.to_csv('../data/all_years_nc_tc_elo_aggr_stats/matches.csv', index=False)"
   ],
   "metadata": {
    "collapsed": false,
    "ExecuteTime": {
     "end_time": "2024-12-14T17:28:02.671995Z",
     "start_time": "2024-12-14T17:28:01.602073Z"
    }
   },
   "id": "83338f2a5a17338a",
   "outputs": [],
   "execution_count": 8
  },
  {
   "metadata": {
    "ExecuteTime": {
     "end_time": "2024-12-14T17:28:02.675083Z",
     "start_time": "2024-12-14T17:28:02.673040Z"
    }
   },
   "cell_type": "code",
   "source": "",
   "id": "2a31a19ce546ce06",
   "outputs": [],
   "execution_count": 8
  }
 ],
 "metadata": {
  "kernelspec": {
   "display_name": "Python 3",
   "language": "python",
   "name": "python3"
  },
  "language_info": {
   "codemirror_mode": {
    "name": "ipython",
    "version": 2
   },
   "file_extension": ".py",
   "mimetype": "text/x-python",
   "name": "python",
   "nbconvert_exporter": "python",
   "pygments_lexer": "ipython2",
   "version": "2.7.6"
  }
 },
 "nbformat": 4,
 "nbformat_minor": 5
}
