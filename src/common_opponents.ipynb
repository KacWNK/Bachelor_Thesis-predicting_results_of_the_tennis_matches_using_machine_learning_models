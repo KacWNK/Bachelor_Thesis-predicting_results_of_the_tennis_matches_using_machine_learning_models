{
 "cells": [
  {
   "metadata": {
    "ExecuteTime": {
     "end_time": "2024-11-28T11:10:16.140337Z",
     "start_time": "2024-11-28T11:10:15.321468Z"
    }
   },
   "cell_type": "code",
   "source": [
    "import pandas as pd\n",
    "matches = pd.read_csv(\"../data/all_years_nc_tc_elo/matches.csv\")"
   ],
   "id": "9bb46c0ea4856d65",
   "outputs": [],
   "execution_count": 1
  },
  {
   "cell_type": "code",
   "outputs": [],
   "source": [
    "def check_if_common_opponents_exist(row, df):\n",
    "    player_a = row['winner_id']\n",
    "    player_b = row['loser_id']\n",
    "    current_date = row['Date']\n",
    "    \n",
    "    # Filter for matches that occurred before the current match date\n",
    "    df = df[df['Date'] < current_date]\n",
    "    \n",
    "    # Find common opponents\n",
    "    player_a_opponents = set(df[(df['winner_id'] == player_a)]['loser_id']).union(\n",
    "                         set(df[(df['loser_id'] == player_a)]['winner_id']))\n",
    "    player_b_opponents = set(df[(df['winner_id'] == player_b)]['loser_id']).union(\n",
    "                         set(df[(df['loser_id'] == player_b)]['winner_id']))\n",
    "\n",
    "    common_opponents = player_a_opponents.intersection(player_b_opponents)\n",
    "\n",
    "    if not common_opponents:\n",
    "        return 0\n",
    "    else:\n",
    "        return 1"
   ],
   "metadata": {
    "collapsed": false,
    "ExecuteTime": {
     "end_time": "2024-11-28T11:10:16.868093Z",
     "start_time": "2024-11-28T11:10:16.864335Z"
    }
   },
   "id": "25699fc8f43f4811",
   "execution_count": 2
  },
  {
   "cell_type": "code",
   "outputs": [],
   "source": [
    "matches[['CO_active']] = matches.apply(\n",
    "    lambda row: pd.Series(check_if_common_opponents_exist(row, matches)), axis=1\n",
    ")"
   ],
   "metadata": {
    "collapsed": false,
    "ExecuteTime": {
     "end_time": "2024-11-28T11:11:14.741454Z",
     "start_time": "2024-11-28T11:10:17.635818Z"
    }
   },
   "id": "7e7740c754c95189",
   "execution_count": 3
  },
  {
   "metadata": {
    "ExecuteTime": {
     "end_time": "2024-11-28T11:11:14.749376Z",
     "start_time": "2024-11-28T11:11:14.742905Z"
    }
   },
   "cell_type": "code",
   "source": [
    "import pandas as pd\n",
    "\n",
    "def calculate_mean(matches, column_name):\n",
    "    \"\"\"Calculate mean excluding NaN, or return 0 if DataFrame is empty or only contains NaN.\"\"\"\n",
    "    if matches.empty:\n",
    "        return 0\n",
    "    column_mean = matches[column_name].dropna().mean()\n",
    "    return column_mean if pd.notnull(column_mean) else 0\n",
    "\n",
    "def calculate_wrp(player_win_matches, player_lose_matches, win_column, lose_column):\n",
    "    \"\"\"Calculate weighted return percentage (WRP) for a player.\"\"\"\n",
    "    win_mean = calculate_mean(player_win_matches, win_column)\n",
    "    lose_mean = calculate_mean(player_lose_matches, lose_column)\n",
    "    return (win_mean + lose_mean) / 2\n",
    "\n",
    "def filter_matches_by_player(df, player_id):\n",
    "    \"\"\"Filter matches for a player as winner or loser.\"\"\"\n",
    "    win_matches = df[df['winner_id'] == player_id]\n",
    "    lose_matches = df[df['loser_id'] == player_id]\n",
    "    return win_matches, lose_matches\n",
    "\n",
    "def calculate_common_opponent_stats(df, player_a, player_b, winner_column, loser_column):\n",
    "    \"\"\"Calculate WRP difference for common opponents.\"\"\"\n",
    "    # Find common opponents\n",
    "    player_a_opponents = set(df[df['winner_id'] == player_a]['loser_id']).union(\n",
    "        set(df[df['loser_id'] == player_a]['winner_id'])\n",
    "    )\n",
    "    player_b_opponents = set(df[df['winner_id'] == player_b]['loser_id']).union(\n",
    "        set(df[df['loser_id'] == player_b]['winner_id'])\n",
    "    )\n",
    "    common_opponents = player_a_opponents.intersection(player_b_opponents)\n",
    "\n",
    "    # Filter matches against common opponents\n",
    "    co_player_a_win_matches = df[(df['winner_id'] == player_a) & (df['loser_id'].isin(common_opponents))]\n",
    "    co_player_a_lose_matches = df[(df['loser_id'] == player_a) & (df['winner_id'].isin(common_opponents))]\n",
    "    co_player_b_win_matches = df[(df['winner_id'] == player_b) & (df['loser_id'].isin(common_opponents))]\n",
    "    co_player_b_lose_matches = df[(df['loser_id'] == player_b) & (df['winner_id'].isin(common_opponents))]\n",
    "\n",
    "    # Calculate WRP for players against common opponents\n",
    "    co_player_a_wrp = calculate_wrp(co_player_a_win_matches, co_player_a_lose_matches, winner_column, loser_column)\n",
    "    co_player_b_wrp = calculate_wrp(co_player_b_win_matches, co_player_b_lose_matches, winner_column, loser_column)\n",
    "\n",
    "    # Return the difference\n",
    "    return co_player_a_wrp - co_player_b_wrp\n",
    "\n",
    "def calculate_player_stat_difference(row, df, winner_column_name, loser_column_name):\n",
    "    player_a = row['winner_id']\n",
    "    player_b = row['loser_id']\n",
    "    current_date = row['Date']\n",
    "\n",
    "    # Filter matches before the current match date\n",
    "    past_matches = df[df['Date'] < current_date]\n",
    "\n",
    "    # Calculate WRP for Player A and Player B\n",
    "    player_a_win_matches, player_a_lose_matches = filter_matches_by_player(past_matches, player_a)\n",
    "    player_b_win_matches, player_b_lose_matches = filter_matches_by_player(past_matches, player_b)\n",
    "\n",
    "    player_a_wrp = calculate_wrp(player_a_win_matches, player_a_lose_matches, winner_column_name, loser_column_name)\n",
    "    player_b_wrp = calculate_wrp(player_b_win_matches, player_b_lose_matches, winner_column_name, loser_column_name)\n",
    "\n",
    "    wrp_difference = player_a_wrp - player_b_wrp\n",
    "\n",
    "    # Calculate common opponent WRP difference if active\n",
    "    if row[\"CO_active\"] == 1:\n",
    "        co_wrp_difference = calculate_common_opponent_stats(\n",
    "            past_matches, player_a, player_b, winner_column_name, loser_column_name\n",
    "        )\n",
    "        return co_wrp_difference, wrp_difference\n",
    "    else:\n",
    "        return wrp_difference, wrp_difference\n"
   ],
   "id": "initial_id",
   "outputs": [],
   "execution_count": 4
  },
  {
   "metadata": {
    "ExecuteTime": {
     "end_time": "2024-11-28T11:22:54.803180Z",
     "start_time": "2024-11-28T11:11:14.750293Z"
    }
   },
   "cell_type": "code",
   "source": [
    "# Apply the function to each row\n",
    "matches[['CO_1st_serve_in_p_diff', '1st_serve_in_p_diff']] = matches.apply(\n",
    "    lambda row: pd.Series(calculate_player_stat_difference(row, matches, 'winner_1st_serve_in_pct', 'loser_1st_serve_in_pct')), axis=1\n",
    ")\n",
    "matches[['CO_1st_serve_win_p_diff', '1st_serve_win_p_diff']] = matches.apply(\n",
    "    lambda row: pd.Series(calculate_player_stat_difference(row, matches, 'winner_1st_serve_win_pct', 'loser_1st_serve_win_pct')), axis=1\n",
    ")\n",
    "matches[['CO_2nd_serve_win_p_diff', '2nd_serve_win_p_diff']] = matches.apply(\n",
    "    lambda row: pd.Series(calculate_player_stat_difference(row, matches, 'winner_2nd_serve_win_pct', 'loser_2nd_serve_win_pct')), axis=1\n",
    ")\n",
    "matches[['CO_serve_games_win_p_diff', 'serve_games_win_p_diff']] = matches.apply(\n",
    "    lambda row: pd.Series(calculate_player_stat_difference(row, matches, 'winner_service_games_won_pct', 'loser_service_games_won_pct')), axis=1\n",
    ")\n",
    "matches[['CO_avg_ace_per_match_diff', 'avg_ace_per_match_diff']] = matches.apply(\n",
    "    lambda row: pd.Series(calculate_player_stat_difference(row, matches, 'w_ace', 'l_ace')), axis=1\n",
    ")\n",
    "matches[['CO_avg_df_per_match_diff', 'avg_df_per_match_diff']] = matches.apply(\n",
    "    lambda row: pd.Series(calculate_player_stat_difference(row, matches, 'w_df', 'l_df')), axis=1\n",
    ")\n",
    "matches[['CO_1st_serve_wrp_diff', '1st_serve_wrp_diff']] = matches.apply(\n",
    "    lambda row: pd.Series(calculate_player_stat_difference(row, matches, 'winner_1st_serve_return_win_pct', 'loser_1st_serve_return_win_pct')), axis=1\n",
    ")"
   ],
   "id": "bd1fc02e205c07a8",
   "outputs": [],
   "execution_count": 5
  },
  {
   "metadata": {
    "ExecuteTime": {
     "end_time": "2024-11-28T11:22:54.819542Z",
     "start_time": "2024-11-28T11:22:54.804960Z"
    }
   },
   "cell_type": "code",
   "source": [
    "new_columns = matches[['winner_name', 'loser_name', 'CO_1st_serve_in_p_diff', '1st_serve_in_p_diff', 'CO_1st_serve_win_p_diff', '1st_serve_win_p_diff', 'CO_2nd_serve_win_p_diff', '2nd_serve_win_p_diff', 'CO_serve_games_win_p_diff', 'serve_games_win_p_diff', 'CO_avg_ace_per_match_diff', 'avg_ace_per_match_diff', 'CO_avg_df_per_match_diff', 'avg_df_per_match_diff', 'CO_1st_serve_wrp_diff', '1st_serve_wrp_diff']]\n",
    "new_columns"
   ],
   "id": "8535418908d4e180",
   "outputs": [
    {
     "data": {
      "text/plain": "              winner_name             loser_name  CO_1st_serve_in_p_diff  \\\n0            Marcos Giron        Richard Gasquet                0.003666   \n1      Mackenzie Mcdonald     Daniel Elahi Galan                0.025972   \n2       Miomir Kecmanovic   Christopher Oconnell               -0.010899   \n3      Yoshihito Nishioka            Holger Rune                0.018062   \n4          Alexei Popyrin  Felix Auger Aliassime               -0.028370   \n...                   ...                    ...                     ...   \n14106      Novak Djokovic            Marin Cilic                0.068520   \n14107       Roger Federer          Kei Nishikori                0.001433   \n14108     Karen Khachanov          Dominic Thiem                0.070168   \n14109      Novak Djokovic          Roger Federer                0.032738   \n14110     Karen Khachanov         Novak Djokovic               -0.013799   \n\n       1st_serve_in_p_diff  CO_1st_serve_win_p_diff  1st_serve_win_p_diff  \\\n0                 0.003357                -0.005308             -0.002319   \n1                 0.013268                -0.001941              0.006563   \n2                -0.023359                -0.106047             -0.044856   \n3                 0.030227                -0.083067             -0.077687   \n4                -0.034825                -0.000771             -0.003670   \n...                    ...                      ...                   ...   \n14106             0.082432                -0.097994             -0.064537   \n14107             0.021468                 0.084541              0.101806   \n14108             0.054033                -0.023562              0.007711   \n14109             0.045524                -0.092351             -0.083243   \n14110            -0.034064                 0.022418              0.036995   \n\n       CO_2nd_serve_win_p_diff  2nd_serve_win_p_diff  \\\n0                     0.398151              0.044779   \n1                     0.009754             -0.170104   \n2                     0.005892              0.153931   \n3                    -0.003036             -0.016432   \n4                    -0.007384             -0.009488   \n...                        ...                   ...   \n14106                -0.163816             -0.158663   \n14107                -0.167201             -0.022359   \n14108                -0.001519             -0.094590   \n14109                -0.083743             -0.017212   \n14110                -0.047901             -0.055549   \n\n       CO_serve_games_win_p_diff  serve_games_win_p_diff  \\\n0                      -0.013747                0.006206   \n1                       0.026875                0.027006   \n2                      -0.140633               -0.055942   \n3                      -0.072883               -0.080092   \n4                       0.020650                0.011054   \n...                          ...                     ...   \n14106                  -0.077037               -0.017370   \n14107                   0.104516                0.113635   \n14108                   0.026620                0.038743   \n14109                  -0.076261               -0.057940   \n14110                  -0.001093                0.004071   \n\n       CO_avg_ace_per_match_diff  avg_ace_per_match_diff  \\\n0                      -0.509341                0.248231   \n1                       1.966346                1.543370   \n2                      -7.618056               -4.659332   \n3                      -2.666532               -2.186826   \n4                       0.092428               -0.085016   \n...                          ...                     ...   \n14106                  -5.989177               -5.249510   \n14107                   8.742647                7.093651   \n14108                   1.511957                2.262487   \n14109                  -5.197917               -5.093815   \n14110                   2.573504                4.321008   \n\n       CO_avg_df_per_match_diff  avg_df_per_match_diff  CO_1st_serve_wrp_diff  \\\n0                     -0.847622              -1.034559              -0.018945   \n1                      0.560096               1.291288               0.002895   \n2                     -0.506944               0.015621               0.023443   \n3                     -1.738923              -2.009373              -0.022720   \n4                     -0.157466              -0.351460              -0.032933   \n...                         ...                    ...                    ...   \n14106                 -0.872294              -0.557097               0.060492   \n14107                  1.164706               0.411111               0.040079   \n14108                 -1.981522              -1.471780               0.001248   \n14109                  1.716667               0.243685               0.006929   \n14110                 -0.923291              -0.528587              -0.020090   \n\n       1st_serve_wrp_diff  \n0               -0.015093  \n1               -0.009121  \n2                0.024988  \n3               -0.025177  \n4               -0.030256  \n...                   ...  \n14106            0.042248  \n14107            0.016111  \n14108           -0.012370  \n14109            0.035041  \n14110           -0.049593  \n\n[14111 rows x 16 columns]",
      "text/html": "<div>\n<style scoped>\n    .dataframe tbody tr th:only-of-type {\n        vertical-align: middle;\n    }\n\n    .dataframe tbody tr th {\n        vertical-align: top;\n    }\n\n    .dataframe thead th {\n        text-align: right;\n    }\n</style>\n<table border=\"1\" class=\"dataframe\">\n  <thead>\n    <tr style=\"text-align: right;\">\n      <th></th>\n      <th>winner_name</th>\n      <th>loser_name</th>\n      <th>CO_1st_serve_in_p_diff</th>\n      <th>1st_serve_in_p_diff</th>\n      <th>CO_1st_serve_win_p_diff</th>\n      <th>1st_serve_win_p_diff</th>\n      <th>CO_2nd_serve_win_p_diff</th>\n      <th>2nd_serve_win_p_diff</th>\n      <th>CO_serve_games_win_p_diff</th>\n      <th>serve_games_win_p_diff</th>\n      <th>CO_avg_ace_per_match_diff</th>\n      <th>avg_ace_per_match_diff</th>\n      <th>CO_avg_df_per_match_diff</th>\n      <th>avg_df_per_match_diff</th>\n      <th>CO_1st_serve_wrp_diff</th>\n      <th>1st_serve_wrp_diff</th>\n    </tr>\n  </thead>\n  <tbody>\n    <tr>\n      <th>0</th>\n      <td>Marcos Giron</td>\n      <td>Richard Gasquet</td>\n      <td>0.003666</td>\n      <td>0.003357</td>\n      <td>-0.005308</td>\n      <td>-0.002319</td>\n      <td>0.398151</td>\n      <td>0.044779</td>\n      <td>-0.013747</td>\n      <td>0.006206</td>\n      <td>-0.509341</td>\n      <td>0.248231</td>\n      <td>-0.847622</td>\n      <td>-1.034559</td>\n      <td>-0.018945</td>\n      <td>-0.015093</td>\n    </tr>\n    <tr>\n      <th>1</th>\n      <td>Mackenzie Mcdonald</td>\n      <td>Daniel Elahi Galan</td>\n      <td>0.025972</td>\n      <td>0.013268</td>\n      <td>-0.001941</td>\n      <td>0.006563</td>\n      <td>0.009754</td>\n      <td>-0.170104</td>\n      <td>0.026875</td>\n      <td>0.027006</td>\n      <td>1.966346</td>\n      <td>1.543370</td>\n      <td>0.560096</td>\n      <td>1.291288</td>\n      <td>0.002895</td>\n      <td>-0.009121</td>\n    </tr>\n    <tr>\n      <th>2</th>\n      <td>Miomir Kecmanovic</td>\n      <td>Christopher Oconnell</td>\n      <td>-0.010899</td>\n      <td>-0.023359</td>\n      <td>-0.106047</td>\n      <td>-0.044856</td>\n      <td>0.005892</td>\n      <td>0.153931</td>\n      <td>-0.140633</td>\n      <td>-0.055942</td>\n      <td>-7.618056</td>\n      <td>-4.659332</td>\n      <td>-0.506944</td>\n      <td>0.015621</td>\n      <td>0.023443</td>\n      <td>0.024988</td>\n    </tr>\n    <tr>\n      <th>3</th>\n      <td>Yoshihito Nishioka</td>\n      <td>Holger Rune</td>\n      <td>0.018062</td>\n      <td>0.030227</td>\n      <td>-0.083067</td>\n      <td>-0.077687</td>\n      <td>-0.003036</td>\n      <td>-0.016432</td>\n      <td>-0.072883</td>\n      <td>-0.080092</td>\n      <td>-2.666532</td>\n      <td>-2.186826</td>\n      <td>-1.738923</td>\n      <td>-2.009373</td>\n      <td>-0.022720</td>\n      <td>-0.025177</td>\n    </tr>\n    <tr>\n      <th>4</th>\n      <td>Alexei Popyrin</td>\n      <td>Felix Auger Aliassime</td>\n      <td>-0.028370</td>\n      <td>-0.034825</td>\n      <td>-0.000771</td>\n      <td>-0.003670</td>\n      <td>-0.007384</td>\n      <td>-0.009488</td>\n      <td>0.020650</td>\n      <td>0.011054</td>\n      <td>0.092428</td>\n      <td>-0.085016</td>\n      <td>-0.157466</td>\n      <td>-0.351460</td>\n      <td>-0.032933</td>\n      <td>-0.030256</td>\n    </tr>\n    <tr>\n      <th>...</th>\n      <td>...</td>\n      <td>...</td>\n      <td>...</td>\n      <td>...</td>\n      <td>...</td>\n      <td>...</td>\n      <td>...</td>\n      <td>...</td>\n      <td>...</td>\n      <td>...</td>\n      <td>...</td>\n      <td>...</td>\n      <td>...</td>\n      <td>...</td>\n      <td>...</td>\n      <td>...</td>\n    </tr>\n    <tr>\n      <th>14106</th>\n      <td>Novak Djokovic</td>\n      <td>Marin Cilic</td>\n      <td>0.068520</td>\n      <td>0.082432</td>\n      <td>-0.097994</td>\n      <td>-0.064537</td>\n      <td>-0.163816</td>\n      <td>-0.158663</td>\n      <td>-0.077037</td>\n      <td>-0.017370</td>\n      <td>-5.989177</td>\n      <td>-5.249510</td>\n      <td>-0.872294</td>\n      <td>-0.557097</td>\n      <td>0.060492</td>\n      <td>0.042248</td>\n    </tr>\n    <tr>\n      <th>14107</th>\n      <td>Roger Federer</td>\n      <td>Kei Nishikori</td>\n      <td>0.001433</td>\n      <td>0.021468</td>\n      <td>0.084541</td>\n      <td>0.101806</td>\n      <td>-0.167201</td>\n      <td>-0.022359</td>\n      <td>0.104516</td>\n      <td>0.113635</td>\n      <td>8.742647</td>\n      <td>7.093651</td>\n      <td>1.164706</td>\n      <td>0.411111</td>\n      <td>0.040079</td>\n      <td>0.016111</td>\n    </tr>\n    <tr>\n      <th>14108</th>\n      <td>Karen Khachanov</td>\n      <td>Dominic Thiem</td>\n      <td>0.070168</td>\n      <td>0.054033</td>\n      <td>-0.023562</td>\n      <td>0.007711</td>\n      <td>-0.001519</td>\n      <td>-0.094590</td>\n      <td>0.026620</td>\n      <td>0.038743</td>\n      <td>1.511957</td>\n      <td>2.262487</td>\n      <td>-1.981522</td>\n      <td>-1.471780</td>\n      <td>0.001248</td>\n      <td>-0.012370</td>\n    </tr>\n    <tr>\n      <th>14109</th>\n      <td>Novak Djokovic</td>\n      <td>Roger Federer</td>\n      <td>0.032738</td>\n      <td>0.045524</td>\n      <td>-0.092351</td>\n      <td>-0.083243</td>\n      <td>-0.083743</td>\n      <td>-0.017212</td>\n      <td>-0.076261</td>\n      <td>-0.057940</td>\n      <td>-5.197917</td>\n      <td>-5.093815</td>\n      <td>1.716667</td>\n      <td>0.243685</td>\n      <td>0.006929</td>\n      <td>0.035041</td>\n    </tr>\n    <tr>\n      <th>14110</th>\n      <td>Karen Khachanov</td>\n      <td>Novak Djokovic</td>\n      <td>-0.013799</td>\n      <td>-0.034064</td>\n      <td>0.022418</td>\n      <td>0.036995</td>\n      <td>-0.047901</td>\n      <td>-0.055549</td>\n      <td>-0.001093</td>\n      <td>0.004071</td>\n      <td>2.573504</td>\n      <td>4.321008</td>\n      <td>-0.923291</td>\n      <td>-0.528587</td>\n      <td>-0.020090</td>\n      <td>-0.049593</td>\n    </tr>\n  </tbody>\n</table>\n<p>14111 rows × 16 columns</p>\n</div>"
     },
     "execution_count": 6,
     "metadata": {},
     "output_type": "execute_result"
    }
   ],
   "execution_count": 6
  },
  {
   "cell_type": "code",
   "outputs": [
    {
     "data": {
      "text/plain": "              winner_name             loser_name  CO_1st_serve_in_p_diff  \\\n0            Marcos Giron        Richard Gasquet                0.003666   \n1      Mackenzie Mcdonald     Daniel Elahi Galan                0.025972   \n2       Miomir Kecmanovic   Christopher Oconnell               -0.010899   \n3      Yoshihito Nishioka            Holger Rune                0.018062   \n4          Alexei Popyrin  Felix Auger Aliassime               -0.028370   \n...                   ...                    ...                     ...   \n14106      Novak Djokovic            Marin Cilic                0.068520   \n14107       Roger Federer          Kei Nishikori                0.001433   \n14108     Karen Khachanov          Dominic Thiem                0.070168   \n14109      Novak Djokovic          Roger Federer                0.032738   \n14110     Karen Khachanov         Novak Djokovic               -0.013799   \n\n       1st_serve_in_p_diff  CO_active  \n0                 0.003357          1  \n1                 0.013268          1  \n2                -0.023359          1  \n3                 0.030227          1  \n4                -0.034825          1  \n...                    ...        ...  \n14106             0.082432          1  \n14107             0.021468          1  \n14108             0.054033          1  \n14109             0.045524          1  \n14110            -0.034064          1  \n\n[14111 rows x 5 columns]",
      "text/html": "<div>\n<style scoped>\n    .dataframe tbody tr th:only-of-type {\n        vertical-align: middle;\n    }\n\n    .dataframe tbody tr th {\n        vertical-align: top;\n    }\n\n    .dataframe thead th {\n        text-align: right;\n    }\n</style>\n<table border=\"1\" class=\"dataframe\">\n  <thead>\n    <tr style=\"text-align: right;\">\n      <th></th>\n      <th>winner_name</th>\n      <th>loser_name</th>\n      <th>CO_1st_serve_in_p_diff</th>\n      <th>1st_serve_in_p_diff</th>\n      <th>CO_active</th>\n    </tr>\n  </thead>\n  <tbody>\n    <tr>\n      <th>0</th>\n      <td>Marcos Giron</td>\n      <td>Richard Gasquet</td>\n      <td>0.003666</td>\n      <td>0.003357</td>\n      <td>1</td>\n    </tr>\n    <tr>\n      <th>1</th>\n      <td>Mackenzie Mcdonald</td>\n      <td>Daniel Elahi Galan</td>\n      <td>0.025972</td>\n      <td>0.013268</td>\n      <td>1</td>\n    </tr>\n    <tr>\n      <th>2</th>\n      <td>Miomir Kecmanovic</td>\n      <td>Christopher Oconnell</td>\n      <td>-0.010899</td>\n      <td>-0.023359</td>\n      <td>1</td>\n    </tr>\n    <tr>\n      <th>3</th>\n      <td>Yoshihito Nishioka</td>\n      <td>Holger Rune</td>\n      <td>0.018062</td>\n      <td>0.030227</td>\n      <td>1</td>\n    </tr>\n    <tr>\n      <th>4</th>\n      <td>Alexei Popyrin</td>\n      <td>Felix Auger Aliassime</td>\n      <td>-0.028370</td>\n      <td>-0.034825</td>\n      <td>1</td>\n    </tr>\n    <tr>\n      <th>...</th>\n      <td>...</td>\n      <td>...</td>\n      <td>...</td>\n      <td>...</td>\n      <td>...</td>\n    </tr>\n    <tr>\n      <th>14106</th>\n      <td>Novak Djokovic</td>\n      <td>Marin Cilic</td>\n      <td>0.068520</td>\n      <td>0.082432</td>\n      <td>1</td>\n    </tr>\n    <tr>\n      <th>14107</th>\n      <td>Roger Federer</td>\n      <td>Kei Nishikori</td>\n      <td>0.001433</td>\n      <td>0.021468</td>\n      <td>1</td>\n    </tr>\n    <tr>\n      <th>14108</th>\n      <td>Karen Khachanov</td>\n      <td>Dominic Thiem</td>\n      <td>0.070168</td>\n      <td>0.054033</td>\n      <td>1</td>\n    </tr>\n    <tr>\n      <th>14109</th>\n      <td>Novak Djokovic</td>\n      <td>Roger Federer</td>\n      <td>0.032738</td>\n      <td>0.045524</td>\n      <td>1</td>\n    </tr>\n    <tr>\n      <th>14110</th>\n      <td>Karen Khachanov</td>\n      <td>Novak Djokovic</td>\n      <td>-0.013799</td>\n      <td>-0.034064</td>\n      <td>1</td>\n    </tr>\n  </tbody>\n</table>\n<p>14111 rows × 5 columns</p>\n</div>"
     },
     "execution_count": 11,
     "metadata": {},
     "output_type": "execute_result"
    }
   ],
   "source": [
    "# new_columns = matches[['winner_name', 'loser_name', 'CO_1st_serve_in_p_diff', '1st_serve_in_p_diff', \"CO_active\"]]\n",
    "# new_columns"
   ],
   "metadata": {
    "collapsed": false,
    "ExecuteTime": {
     "end_time": "2024-11-28T11:04:24.821316Z",
     "start_time": "2024-11-28T11:04:24.810449Z"
    }
   },
   "id": "e9a610010dd37776",
   "execution_count": 11
  },
  {
   "metadata": {
    "ExecuteTime": {
     "end_time": "2024-11-28T11:22:54.825011Z",
     "start_time": "2024-11-28T11:22:54.820472Z"
    }
   },
   "cell_type": "code",
   "outputs": [
    {
     "name": "stdout",
     "output_type": "stream",
     "text": [
      "Columns with NaN values and their counts:\n",
      "Series([], dtype: int64)\n"
     ]
    }
   ],
   "execution_count": 7,
   "source": [
    "# Check for missing values in the DataFrame\n",
    "missing_values = new_columns.isnull().sum()\n",
    "\n",
    "# Filter columns with missing values\n",
    "columns_with_nan = missing_values[missing_values > 0]\n",
    "\n",
    "# Display the columns and their corresponding NaN counts\n",
    "print(\"Columns with NaN values and their counts:\")\n",
    "print(columns_with_nan)"
   ],
   "id": "c7e50fb8c2a66f8d"
  },
  {
   "cell_type": "code",
   "outputs": [],
   "source": [
    "matches.to_csv('../data/all_years_nc_tc_elo_aggr_stats/matches.csv', index=False)"
   ],
   "metadata": {
    "collapsed": false,
    "ExecuteTime": {
     "end_time": "2024-11-28T11:22:56.077240Z",
     "start_time": "2024-11-28T11:22:54.825863Z"
    }
   },
   "id": "83338f2a5a17338a",
   "execution_count": 8
  }
 ],
 "metadata": {
  "kernelspec": {
   "display_name": "Python 3",
   "language": "python",
   "name": "python3"
  },
  "language_info": {
   "codemirror_mode": {
    "name": "ipython",
    "version": 2
   },
   "file_extension": ".py",
   "mimetype": "text/x-python",
   "name": "python",
   "nbconvert_exporter": "python",
   "pygments_lexer": "ipython2",
   "version": "2.7.6"
  }
 },
 "nbformat": 4,
 "nbformat_minor": 5
}
