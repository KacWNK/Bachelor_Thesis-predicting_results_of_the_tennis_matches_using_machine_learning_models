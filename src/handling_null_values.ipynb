{
 "cells": [
  {
   "cell_type": "code",
   "execution_count": 4,
   "id": "initial_id",
   "metadata": {
    "ExecuteTime": {
     "end_time": "2024-11-27T15:10:30.724596Z",
     "start_time": "2024-11-27T15:10:30.473880Z"
    },
    "collapsed": true
   },
   "outputs": [],
   "source": [
    "import pandas as pd\n",
    "import numpy as np"
   ]
  },
  {
   "cell_type": "code",
   "execution_count": 40,
   "id": "751686bda960b15",
   "metadata": {
    "ExecuteTime": {
     "end_time": "2024-11-27T15:10:31.240881Z",
     "start_time": "2024-11-27T15:10:31.157347Z"
    },
    "collapsed": false
   },
   "outputs": [],
   "source": [
    "matches = pd.read_csv('../data/merged_year_data/matches.csv')"
   ]
  },
  {
   "cell_type": "code",
   "execution_count": 49,
   "id": "18e8fdad5af08800",
   "metadata": {
    "ExecuteTime": {
     "end_time": "2024-11-27T15:10:31.618929Z",
     "start_time": "2024-11-27T15:10:31.607978Z"
    },
    "collapsed": false
   },
   "outputs": [
    {
     "name": "stdout",
     "output_type": "stream",
     "text": [
      "Columns with NaN values and their counts:\n",
      "W3            6832\n",
      "L3            6832\n",
      "W4           12171\n",
      "L4           12171\n",
      "W5           13119\n",
      "L5           13119\n",
      "winner_ht      175\n",
      "loser_ht       327\n",
      "w_ace          100\n",
      "w_df           100\n",
      "w_svpt         100\n",
      "w_1stIn        100\n",
      "w_1stWon       100\n",
      "w_2ndWon       100\n",
      "w_SvGms         99\n",
      "w_bpSaved      100\n",
      "w_bpFaced      100\n",
      "l_ace          100\n",
      "l_df           100\n",
      "l_svpt         100\n",
      "l_1stIn        100\n",
      "l_1stWon       100\n",
      "l_2ndWon       100\n",
      "l_SvGms         99\n",
      "l_bpSaved      100\n",
      "l_bpFaced      100\n",
      "dtype: int64\n"
     ]
    }
   ],
   "source": [
    "# Check for missing values in the DataFrame\n",
    "missing_values = matches.isnull().sum()\n",
    "\n",
    "# Filter columns with missing values\n",
    "columns_with_nan = missing_values[missing_values > 0]\n",
    "\n",
    "# Display the columns and their corresponding NaN counts\n",
    "print(\"Columns with NaN values and their counts:\")\n",
    "print(columns_with_nan)"
   ]
  },
  {
   "cell_type": "markdown",
   "id": "90527656f50ffaa5",
   "metadata": {
    "collapsed": false
   },
   "source": [
    "### Null values in Wsets and Lsets are due to match not being Completed, so Walkover or Retired"
   ]
  },
  {
   "cell_type": "code",
   "execution_count": 4,
   "id": "e0a7d094a48ae47c",
   "metadata": {
    "ExecuteTime": {
     "end_time": "2024-11-27T15:10:32.403299Z",
     "start_time": "2024-11-27T15:10:32.398689Z"
    },
    "collapsed": false
   },
   "outputs": [
    {
     "name": "stdout",
     "output_type": "stream",
     "text": [
      "Number of null values in 'WSets' where 'Comment' equals 'Completed': 0\n"
     ]
    }
   ],
   "source": [
    "null_count = matches.loc[matches['Comment'] == 'Completed', 'Wsets'].isnull().sum()\n",
    "\n",
    "print(f\"Number of null values in 'WSets' where 'Comment' equals 'Completed': {null_count}\")"
   ]
  },
  {
   "cell_type": "code",
   "execution_count": null,
   "id": "792c31024adb9f11",
   "metadata": {
    "ExecuteTime": {
     "end_time": "2024-11-27T13:49:45.034839Z",
     "start_time": "2024-11-27T13:49:45.031879Z"
    },
    "collapsed": false
   },
   "outputs": [
    {
     "name": "stdout",
     "output_type": "stream",
     "text": [
      "bez wzrostu:\n",
      "['Flavio Cobolli' 'Ben Shelton' 'Juncheng Shang' 'Dalibor Svrcina'\n",
      " 'Rinky Hijikata' 'Brandon Holt' 'Luciano Darderi' 'Camilo Ugo Carabelli'\n",
      " 'Matija Pecotic' 'Gijs Brouwer' 'Alexander Ritschard' 'Riccardo Bonadio'\n",
      " 'Jacopo Berrettini' 'Aleksandar Kovacevic' 'Francesco Passaro'\n",
      " 'Luca Van Assche' 'Ivan Gakhov' 'Alexander Shevchenko'\n",
      " 'Abedallah Shelbayh' 'Pablo Llamas Ruiz' 'Genaro Alberto Olivieri'\n",
      " 'Ryan Peniston' 'Jan Choinski' 'Filip Misolic' 'Alex Michelsen'\n",
      " 'Ethan Quinn' 'Dino Prizmic' 'Sho Shimabukuro' 'Gabriel Diallo'\n",
      " 'Omni Kumar' 'Jakub Mensik' 'Titouan Droguet' 'Yu Hsiou Hsu'\n",
      " 'Philip Sekulic' 'Alibek Kachmazov' 'Bu Yunchaokete' 'Beibit Zhukayev'\n",
      " 'Terence Atmane' 'Mark Lajal' 'Giovanni Mpetshi Perricard'\n",
      " 'Shintaro Mochizuki' 'Billy Harris' 'Manuel Guinard' 'Alastair Gray'\n",
      " 'Franco Agamenone' 'Andres Martin' 'Juan Alejandro Hernandez Serrano'\n",
      " 'Rio Noguchi' 'Nicolas Alvarez Varona' 'Alen Avidzba' 'Manas Dhamne'\n",
      " 'Kiranpal Pannu' 'Mattia Bellucci' 'Oleksii Krutykh' 'Alex Rybakov'\n",
      " 'Clement Chidekh' 'Liam Krall' 'Mateus Alves' 'Nick Chappell'\n",
      " 'Rodrigo Pacheco Mendez' 'Younes Lalami Laaroussi' 'Henrique Rocha'\n",
      " 'Valentin Vacherot' 'Daniel Rincon' 'Max Hans Rehberg'\n",
      " 'Alvaro Lopez San Martin' 'Emilio Nava' 'George Loffhagen' 'Arthur Fery'\n",
      " 'Dragos Nicolae Madaras' 'Eliot Spizzirri' 'Yunseong Chung'\n",
      " 'Jesper De Jong' 'Skander Mansouri' 'Alexis Galarneau'\n",
      " 'Strong Kirchheimer' 'Learner Tien' 'Nicolas Moreno De Alboran' 'Tao Mu'\n",
      " 'Jie Cui' 'Ye Cong Mo' 'Rigele Te' 'Denis Yevseyev' 'Karl Friberg'\n",
      " 'Alexander Blockx' 'Matteo Martineau' 'Caleb Chakravarthi'\n",
      " 'Carlos Gimeno Valero' 'Santiago Fa Rodriguez Taverna' 'Henri Squire'\n",
      " 'William Blumberg' 'Hernan Casanova' 'Mili Poljicak' 'Gonzalo Villanueva'\n",
      " 'Facundo Mena' 'Evan Furness' 'Seong Chan Hong' 'Francesco Maestrelli'\n",
      " 'Gilles Arnaud Bailly' 'Mubarak Shannan Zayid' 'Eduardo Nava'\n",
      " 'Evgenii Tiurnev' 'Brian Shi' 'Jack Mingjie Lin' 'Andrea Basso'\n",
      " 'Cole Gromley' 'Jabor Al Mutawa' 'Jordi Samper Montana'\n",
      " 'Takanyi Garanganga']\n"
     ]
    }
   ],
   "source": [
    "missing_winner_ht = matches[matches['winner_ht'].isnull()]['winner_name'].unique()\n",
    "missing_loser_ht = matches[matches['loser_ht'].isnull()]['loser_name'].unique()\n",
    "unique_players_missing_ht = pd.unique(np.concatenate((missing_winner_ht, missing_loser_ht)))\n",
    "\n",
    "print(\"bez wzrostu:\")\n",
    "print(unique_players_missing_ht)\n"
   ]
  },
  {
   "cell_type": "markdown",
   "id": "185118f5",
   "metadata": {},
   "source": [
    "### moze w innych wierszach goscie maja podany wzrost"
   ]
  },
  {
   "cell_type": "code",
   "execution_count": 7,
   "id": "c967b50b1a6b1291",
   "metadata": {
    "collapsed": false
   },
   "outputs": [
    {
     "name": "stdout",
     "output_type": "stream",
     "text": [
      "Zawodnicy, ktorzy maja podany wzrost w df:\n",
      "Emilio Nava: 183.0\n"
     ]
    }
   ],
   "source": [
    "player_heights = {}\n",
    "\n",
    "for player in unique_players_missing_ht:\n",
    "    \n",
    "    winner_height = matches[matches['winner_name'] == player]['winner_ht'].dropna()\n",
    "    if not winner_height.empty:\n",
    "        player_heights[player] = winner_height.iloc[0]\n",
    "        continue\n",
    "    \n",
    "    \n",
    "    loser_height = matches[matches['loser_name'] == player]['loser_ht'].dropna()\n",
    "    if not loser_height.empty:\n",
    "        player_heights[player] = loser_height.iloc[0]\n",
    "\n",
    "\n",
    "print(\"Zawodnicy, ktorzy maja podany wzrost w df:\")\n",
    "for player, height in player_heights.items():\n",
    "    print(f\"{player}: {height}\")"
   ]
  },
  {
   "cell_type": "markdown",
   "id": "c7ac0276",
   "metadata": {},
   "source": [
    "spore rozczarowanie..."
   ]
  },
  {
   "cell_type": "markdown",
   "id": "40df6773",
   "metadata": {},
   "source": [
    "### Zmiana brakujacych wartosci w kolumnach setowych, dla meczów zakonczonych przez: walkover retired awarded"
   ]
  },
  {
   "cell_type": "code",
   "execution_count": 41,
   "id": "716d434c",
   "metadata": {},
   "outputs": [],
   "source": [
    "matches['Comment'] = matches['Comment'].replace('Rrtired', 'Retired')"
   ]
  },
  {
   "cell_type": "code",
   "execution_count": 42,
   "id": "94924572",
   "metadata": {},
   "outputs": [],
   "source": [
    "\n",
    "columns_to_update = ['W1', 'W2', 'W3', 'W4', 'W5', 'L1', 'L2', 'L3', 'L4', 'L5','Wsets','Lsets', 'minutes']\n",
    "matches.loc[matches['Comment'].isin(['Disqualified','Retired', 'Walkover', 'Awarded']), columns_to_update]=matches.loc[matches['Comment'].isin(['Disqualified','Retired', 'Walkover', 'Awarded']), columns_to_update].fillna(0)"
   ]
  },
  {
   "cell_type": "code",
   "execution_count": 43,
   "id": "ba715e50",
   "metadata": {},
   "outputs": [],
   "source": [
    "matches.loc[matches['match_id'] =='Estoril_2022_202104_126207', 'Wsets'] = 2\n",
    "matches.loc[matches['match_id'] =='Metz_2019_104542_105379', ['W2','L2', 'W3','L3', 'Wsets']] = [7, 6, 6, 3, 2]"
   ]
  },
  {
   "cell_type": "markdown",
   "id": "d412af14",
   "metadata": {},
   "source": [
    "### Entry"
   ]
  },
  {
   "cell_type": "code",
   "execution_count": 44,
   "id": "1c3be7b4",
   "metadata": {},
   "outputs": [],
   "source": [
    "# Reszty nie chcemy trzymać, bo to nie wiadomo co albo niepotrzebe\n",
    "values_to_encode = ['WC', 'Q', 'LL']\n",
    "\n",
    "# Replace unwanted values with NaN\n",
    "matches['winner_entry'] = matches['winner_entry'].where(matches['winner_entry'].isin(values_to_encode))\n",
    "matches['loser_entry'] = matches['loser_entry'].where(matches['loser_entry'].isin(values_to_encode))\n",
    "\n",
    "# One-hot encode the filtered column\n",
    "matches = pd.get_dummies(matches, columns=['winner_entry'], prefix='winner_entry', prefix_sep='_')\n",
    "matches = pd.get_dummies(matches, columns=['loser_entry'], prefix='loser_entry', prefix_sep='_')"
   ]
  },
  {
   "cell_type": "markdown",
   "id": "017b5dde",
   "metadata": {},
   "source": [
    "### Seed"
   ]
  },
  {
   "cell_type": "code",
   "execution_count": 45,
   "id": "cdcb601b",
   "metadata": {},
   "outputs": [],
   "source": [
    "matches['W_IsSeeded'] = matches['winner_seed'].notna().astype(int)\n",
    "matches['L_IsSeeded'] = matches['loser_seed'].notna().astype(int)\n",
    "matches=matches.drop(columns=['winner_seed', 'loser_seed'])"
   ]
  },
  {
   "cell_type": "markdown",
   "id": "1648112c",
   "metadata": {},
   "source": [
    "### Minutes"
   ]
  },
  {
   "cell_type": "code",
   "execution_count": 46,
   "id": "a0056c66",
   "metadata": {},
   "outputs": [],
   "source": [
    "average_minutes = matches[matches['Comment'] == 'Completed'].groupby('best_of')['minutes'].mean().round()\n",
    "matches.loc[(matches['Comment'] == 'Completed') & (matches['minutes'].isnull()), 'minutes'] = matches['best_of'].map(average_minutes)"
   ]
  },
  {
   "cell_type": "markdown",
   "id": "e939c922",
   "metadata": {},
   "source": [
    "### Rank i Rank points"
   ]
  },
  {
   "cell_type": "code",
   "execution_count": 47,
   "id": "03959ea3",
   "metadata": {},
   "outputs": [],
   "source": [
    "matches.loc[matches['winner_rank'].isnull(), 'winner_rank'] = 1000\n",
    "matches.loc[matches['loser_rank'].isnull(), 'loser_rank'] = 1000\n",
    "matches.loc[matches['winner_rank_points'].isnull(), 'winner_rank_points'] = 0\n",
    "matches.loc[matches['loser_rank_points'].isnull(), 'loser_rank_points'] = 0"
   ]
  },
  {
   "cell_type": "markdown",
   "id": "2cdda778",
   "metadata": {},
   "source": [
    "### AGE"
   ]
  },
  {
   "cell_type": "code",
   "execution_count": 48,
   "id": "7635400d",
   "metadata": {},
   "outputs": [],
   "source": [
    "matches.loc[matches['loser_name']=='Liam Krall', 'loser_age'] = 21\n",
    "matches.loc[matches['loser_name']=='Manas Dhamne', 'loser_age'] = 21"
   ]
  },
  {
   "cell_type": "code",
   "execution_count": 50,
   "id": "ea91a00a",
   "metadata": {},
   "outputs": [],
   "source": [
    "matches.to_csv('../data/merged_year_data/matches_cleaned.csv', index=False)"
   ]
  }
 ],
 "metadata": {
  "kernelspec": {
   "display_name": "Python 3",
   "language": "python",
   "name": "python3"
  },
  "language_info": {
   "codemirror_mode": {
    "name": "ipython",
    "version": 3
   },
   "file_extension": ".py",
   "mimetype": "text/x-python",
   "name": "python",
   "nbconvert_exporter": "python",
   "pygments_lexer": "ipython3",
   "version": "3.10.0"
  }
 },
 "nbformat": 4,
 "nbformat_minor": 5
}
