{
 "cells": [
  {
   "cell_type": "code",
   "execution_count": 1,
   "id": "initial_id",
   "metadata": {
    "collapsed": true,
    "ExecuteTime": {
     "end_time": "2024-11-28T01:46:02.429332Z",
     "start_time": "2024-11-28T01:46:02.084174Z"
    }
   },
   "outputs": [],
   "source": [
    "import pandas as pd\n",
    "import numpy as np"
   ]
  },
  {
   "cell_type": "code",
   "execution_count": 2,
   "id": "751686bda960b15",
   "metadata": {
    "collapsed": false,
    "ExecuteTime": {
     "end_time": "2024-11-28T01:46:02.521767Z",
     "start_time": "2024-11-28T01:46:02.430724Z"
    }
   },
   "outputs": [],
   "source": [
    "matches = pd.read_csv('../data/merged_year_data/matches.csv')"
   ]
  },
  {
   "cell_type": "code",
   "execution_count": 3,
   "id": "18e8fdad5af08800",
   "metadata": {
    "collapsed": false,
    "ExecuteTime": {
     "end_time": "2024-11-28T01:46:02.536474Z",
     "start_time": "2024-11-28T01:46:02.522809Z"
    }
   },
   "outputs": [
    {
     "name": "stdout",
     "output_type": "stream",
     "text": [
      "Columns with NaN values and their counts:\n",
      "W1                       97\n",
      "L1                       95\n",
      "W2                      188\n",
      "L2                      188\n",
      "W3                     7192\n",
      "L3                     7192\n",
      "W4                    12590\n",
      "L4                    12590\n",
      "W5                    13550\n",
      "L5                    13550\n",
      "Wsets                    95\n",
      "Lsets                    97\n",
      "winner_seed            7909\n",
      "winner_entry          11716\n",
      "winner_ht                37\n",
      "loser_seed            10435\n",
      "loser_entry           10510\n",
      "loser_ht                 99\n",
      "loser_age                 1\n",
      "minutes                 189\n",
      "w_ace                   100\n",
      "w_df                    100\n",
      "w_svpt                  100\n",
      "w_1stIn                 100\n",
      "w_1stWon                100\n",
      "w_2ndWon                100\n",
      "w_SvGms                  99\n",
      "w_bpSaved               100\n",
      "w_bpFaced               100\n",
      "l_ace                   100\n",
      "l_df                    100\n",
      "l_svpt                  100\n",
      "l_1stIn                 100\n",
      "l_1stWon                100\n",
      "l_2ndWon                100\n",
      "l_SvGms                  99\n",
      "l_bpSaved               100\n",
      "l_bpFaced               100\n",
      "winner_rank               9\n",
      "winner_rank_points        9\n",
      "loser_rank               38\n",
      "loser_rank_points        38\n",
      "dtype: int64\n"
     ]
    }
   ],
   "source": [
    "# Check for missing values in the DataFrame\n",
    "missing_values = matches.isnull().sum()\n",
    "\n",
    "# Filter columns with missing values\n",
    "columns_with_nan = missing_values[missing_values > 0]\n",
    "\n",
    "# Display the columns and their corresponding NaN counts\n",
    "print(\"Columns with NaN values and their counts:\")\n",
    "print(columns_with_nan)"
   ]
  },
  {
   "cell_type": "markdown",
   "id": "90527656f50ffaa5",
   "metadata": {
    "collapsed": false
   },
   "source": [
    "### Null values in Wsets and Lsets are due to match not being Completed, so Walkover or Retired"
   ]
  },
  {
   "cell_type": "code",
   "execution_count": 4,
   "id": "e0a7d094a48ae47c",
   "metadata": {
    "collapsed": false,
    "ExecuteTime": {
     "end_time": "2024-11-28T01:46:02.542582Z",
     "start_time": "2024-11-28T01:46:02.537291Z"
    }
   },
   "outputs": [
    {
     "name": "stdout",
     "output_type": "stream",
     "text": [
      "Number of null values in 'WSets' where 'Comment' equals 'Completed': 0\n"
     ]
    }
   ],
   "source": [
    "null_count = matches.loc[matches['Comment'] == 'Completed', 'Wsets'].isnull().sum()\n",
    "\n",
    "print(f\"Number of null values in 'WSets' where 'Comment' equals 'Completed': {null_count}\")"
   ]
  },
  {
   "cell_type": "code",
   "execution_count": 5,
   "id": "792c31024adb9f11",
   "metadata": {
    "collapsed": false,
    "ExecuteTime": {
     "end_time": "2024-11-28T01:46:02.549304Z",
     "start_time": "2024-11-28T01:46:02.544702Z"
    }
   },
   "outputs": [
    {
     "name": "stdout",
     "output_type": "stream",
     "text": [
      "bez wzrostu:\n",
      "['Gijs Brouwer' 'Manuel Guinard' 'Camilo Ugo Carabelli' 'Ryan Peniston'\n",
      " 'Alastair Gray' 'Alexander Ritschard' 'Filip Misolic' 'Ben Shelton'\n",
      " 'Franco Agamenone' 'Andres Martin' 'Rinky Hijikata'\n",
      " 'Juan Alejandro Hernandez Serrano' 'Brandon Holt' 'Aleksandar Kovacevic'\n",
      " 'Rio Noguchi' 'Francesco Passaro' 'Nicolas Alvarez Varona'\n",
      " 'Flavio Cobolli' 'Alen Avidzba' 'Liam Krall' 'Emilio Nava'\n",
      " 'Dragos Nicolae Madaras' 'Caleb Chakravarthi' 'Juncheng Shang'\n",
      " 'Max Hans Rehberg' 'Carlos Gimeno Valero' 'Santiago Fa Rodriguez Taverna'\n",
      " 'Jesper De Jong' 'Henri Squire' 'William Blumberg' 'Hernan Casanova'\n",
      " 'Mili Poljicak' 'Alexander Shevchenko' 'Dino Prizmic' 'Ivan Gakhov'\n",
      " 'Rodrigo Pacheco Mendez' 'Nick Chappell' 'Gonzalo Villanueva'\n",
      " 'Alexis Galarneau' 'Shintaro Mochizuki' 'Learner Tien' 'Facundo Mena'\n",
      " 'Evan Furness' 'Seong Chan Hong' 'Yunseong Chung' 'Beibit Zhukayev'\n",
      " 'Sho Shimabukuro' 'Francesco Maestrelli' 'Luca Van Assche'\n",
      " 'Gilles Arnaud Bailly' 'Mubarak Shannan Zayid' 'Eduardo Nava'\n",
      " 'Alibek Kachmazov' 'Evgenii Tiurnev' 'Brian Shi' 'Jack Mingjie Lin'\n",
      " 'Andrea Basso' 'Cole Gromley' 'Jabor Al Mutawa' 'Jordi Samper Montana'\n",
      " 'Takanyi Garanganga']\n"
     ]
    }
   ],
   "source": [
    "missing_winner_ht = matches[matches['winner_ht'].isnull()]['winner_name'].unique()\n",
    "missing_loser_ht = matches[matches['loser_ht'].isnull()]['loser_name'].unique()\n",
    "unique_players_missing_ht = pd.unique(np.concatenate((missing_winner_ht, missing_loser_ht)))\n",
    "\n",
    "print(\"bez wzrostu:\")\n",
    "print(unique_players_missing_ht)\n"
   ]
  },
  {
   "cell_type": "markdown",
   "id": "185118f5",
   "metadata": {},
   "source": [
    "### moze w innych wierszach goscie maja podany wzrost"
   ]
  },
  {
   "cell_type": "code",
   "execution_count": 6,
   "id": "c967b50b1a6b1291",
   "metadata": {
    "collapsed": false,
    "ExecuteTime": {
     "end_time": "2024-11-28T01:46:02.650234Z",
     "start_time": "2024-11-28T01:46:02.550069Z"
    }
   },
   "outputs": [
    {
     "name": "stdout",
     "output_type": "stream",
     "text": [
      "Zawodnicy, ktorzy maja podany wzrost w df:\n",
      "Gijs Brouwer: 191.0\n",
      "Camilo Ugo Carabelli: 185.0\n",
      "Ryan Peniston: 180.0\n",
      "Alexander Ritschard: 193.0\n",
      "Filip Misolic: 180.0\n",
      "Ben Shelton: 193.0\n",
      "Andres Martin: 183.0\n",
      "Rinky Hijikata: 178.0\n",
      "Brandon Holt: 185.0\n",
      "Aleksandar Kovacevic: 183.0\n",
      "Francesco Passaro: 180.0\n",
      "Flavio Cobolli: 183.0\n",
      "Emilio Nava: 185.0\n",
      "Juncheng Shang: 180.0\n",
      "Max Hans Rehberg: 183.0\n",
      "Jesper De Jong: 180.0\n",
      "Alexander Shevchenko: 185.0\n",
      "Dino Prizmic: 188.0\n",
      "Ivan Gakhov: 191.0\n",
      "Rodrigo Pacheco Mendez: 188.0\n",
      "Nick Chappell: 178.0\n",
      "Alexis Galarneau: 180.0\n",
      "Shintaro Mochizuki: 175.0\n",
      "Learner Tien: 180.0\n",
      "Yunseong Chung: 178.0\n",
      "Beibit Zhukayev: 198.0\n",
      "Sho Shimabukuro: 180.0\n",
      "Luca Van Assche: 178.0\n",
      "Alibek Kachmazov: 185.0\n"
     ]
    }
   ],
   "source": [
    "player_heights = {}\n",
    "\n",
    "for player in unique_players_missing_ht:\n",
    "    \n",
    "    winner_height = matches[matches['winner_name'] == player]['winner_ht'].dropna()\n",
    "    if not winner_height.empty:\n",
    "        player_heights[player] = winner_height.iloc[0]\n",
    "        continue\n",
    "    \n",
    "    \n",
    "    loser_height = matches[matches['loser_name'] == player]['loser_ht'].dropna()\n",
    "    if not loser_height.empty:\n",
    "        player_heights[player] = loser_height.iloc[0]\n",
    "\n",
    "\n",
    "print(\"Zawodnicy, ktorzy maja podany wzrost w df:\")\n",
    "for player, height in player_heights.items():\n",
    "    print(f\"{player}: {height}\")"
   ]
  },
  {
   "cell_type": "markdown",
   "id": "c7ac0276",
   "metadata": {},
   "source": [
    "spore rozczarowanie..."
   ]
  },
  {
   "cell_type": "markdown",
   "id": "40df6773",
   "metadata": {},
   "source": [
    "### Zmiana brakujacych wartosci w kolumnach setowych, dla meczów zakonczonych przez: walkover retired awarded"
   ]
  },
  {
   "cell_type": "code",
   "execution_count": 7,
   "id": "716d434c",
   "metadata": {
    "ExecuteTime": {
     "end_time": "2024-11-28T01:46:02.654602Z",
     "start_time": "2024-11-28T01:46:02.651129Z"
    }
   },
   "outputs": [],
   "source": [
    "matches['Comment'] = matches['Comment'].replace('Rrtired', 'Retired')"
   ]
  },
  {
   "cell_type": "code",
   "execution_count": 8,
   "id": "94924572",
   "metadata": {
    "ExecuteTime": {
     "end_time": "2024-11-28T01:46:02.663202Z",
     "start_time": "2024-11-28T01:46:02.655622Z"
    }
   },
   "outputs": [],
   "source": [
    "\n",
    "columns_to_update = ['W1', 'W2', 'W3', 'W4', 'W5', 'L1', 'L2', 'L3', 'L4', 'L5','Wsets','Lsets', 'minutes']\n",
    "matches.loc[matches['Comment'].isin(['Disqualified','Retired', 'Walkover', 'Awarded']), columns_to_update]=matches.loc[matches['Comment'].isin(['Disqualified','Retired', 'Walkover', 'Awarded']), columns_to_update].fillna(0)"
   ]
  },
  {
   "cell_type": "code",
   "execution_count": 9,
   "id": "ba715e50",
   "metadata": {
    "ExecuteTime": {
     "end_time": "2024-11-28T01:46:02.670896Z",
     "start_time": "2024-11-28T01:46:02.664071Z"
    }
   },
   "outputs": [],
   "source": [
    "matches.loc[matches['match_id'] =='Estoril_2022_202104_126207', 'Wsets'] = 2\n",
    "matches.loc[matches['match_id'] =='Metz_2019_104542_105379', ['W2','L2', 'W3','L3', 'Wsets']] = [7, 6, 6, 3, 2]"
   ]
  },
  {
   "cell_type": "markdown",
   "id": "d412af14",
   "metadata": {},
   "source": [
    "### Entry"
   ]
  },
  {
   "cell_type": "code",
   "execution_count": 10,
   "id": "1c3be7b4",
   "metadata": {
    "ExecuteTime": {
     "end_time": "2024-11-28T01:46:02.697104Z",
     "start_time": "2024-11-28T01:46:02.671784Z"
    }
   },
   "outputs": [],
   "source": [
    "# Reszty nie chcemy trzymać, bo to nie wiadomo co albo niepotrzebe\n",
    "values_to_encode = ['WC', 'Q', 'LL']\n",
    "\n",
    "# Replace unwanted values with NaN\n",
    "matches['winner_entry'] = matches['winner_entry'].where(matches['winner_entry'].isin(values_to_encode))\n",
    "matches['loser_entry'] = matches['loser_entry'].where(matches['loser_entry'].isin(values_to_encode))\n",
    "\n",
    "# One-hot encode the filtered column\n",
    "matches = pd.get_dummies(matches, columns=['winner_entry'], prefix='winner_entry', prefix_sep='_')\n",
    "matches = pd.get_dummies(matches, columns=['loser_entry'], prefix='loser_entry', prefix_sep='_')"
   ]
  },
  {
   "cell_type": "markdown",
   "id": "017b5dde",
   "metadata": {},
   "source": [
    "### Seed (rozstawienie), zamieniamy kolumnę która określała nr rozstawienia zawodnika i było NaN gdy zawodnik był nierozstawiony na binarną kolumnę określającą czy zawodnik był rozstawione"
   ]
  },
  {
   "cell_type": "code",
   "execution_count": 11,
   "id": "cdcb601b",
   "metadata": {
    "ExecuteTime": {
     "end_time": "2024-11-28T01:46:02.706008Z",
     "start_time": "2024-11-28T01:46:02.697936Z"
    }
   },
   "outputs": [],
   "source": [
    "matches['winner_is_seeded'] = matches['winner_seed'].notna().astype(int)\n",
    "matches['loser_is_seeded'] = matches['loser_seed'].notna().astype(int)\n",
    "matches=matches.drop(columns=['winner_seed', 'loser_seed'])"
   ]
  },
  {
   "cell_type": "markdown",
   "id": "1648112c",
   "metadata": {},
   "source": [
    "### Minutes, dla meczy które się ukończyły braki danych zastępujemy średnim czasem meczu"
   ]
  },
  {
   "cell_type": "code",
   "execution_count": 12,
   "id": "a0056c66",
   "metadata": {
    "ExecuteTime": {
     "end_time": "2024-11-28T01:46:02.717600Z",
     "start_time": "2024-11-28T01:46:02.707073Z"
    }
   },
   "outputs": [],
   "source": [
    "average_minutes = matches[matches['Comment'] == 'Completed'].groupby('best_of')['minutes'].mean().round()\n",
    "matches.loc[(matches['Comment'] == 'Completed') & (matches['minutes'].isnull()), 'minutes'] = matches['best_of'].map(average_minutes)"
   ]
  },
  {
   "cell_type": "markdown",
   "id": "e939c922",
   "metadata": {},
   "source": [
    "### Rank i Rank points, Nan dla Rank oraz Rank points oznacza zawodnika bez rankingu"
   ]
  },
  {
   "cell_type": "code",
   "execution_count": 13,
   "id": "03959ea3",
   "metadata": {
    "ExecuteTime": {
     "end_time": "2024-11-28T01:46:02.723305Z",
     "start_time": "2024-11-28T01:46:02.718453Z"
    }
   },
   "outputs": [],
   "source": [
    "matches.loc[matches['winner_rank'].isnull(), 'winner_rank'] = 2000\n",
    "matches.loc[matches['loser_rank'].isnull(), 'loser_rank'] = 2000\n",
    "matches.loc[matches['winner_rank_points'].isnull(), 'winner_rank_points'] = 0\n",
    "matches.loc[matches['loser_rank_points'].isnull(), 'loser_rank_points'] = 0"
   ]
  },
  {
   "cell_type": "markdown",
   "id": "2cdda778",
   "metadata": {},
   "source": [
    "### AGE, tylko 2 braki danych, ręcznie poprawiamy"
   ]
  },
  {
   "cell_type": "code",
   "execution_count": 14,
   "id": "7635400d",
   "metadata": {
    "ExecuteTime": {
     "end_time": "2024-11-28T01:46:02.730862Z",
     "start_time": "2024-11-28T01:46:02.726022Z"
    }
   },
   "outputs": [],
   "source": [
    "matches.loc[matches['loser_name']=='Liam Krall', 'loser_age'] = 21\n",
    "matches.loc[matches['loser_name']=='Manas Dhamne', 'loser_age'] = 21"
   ]
  },
  {
   "cell_type": "code",
   "outputs": [
    {
     "name": "stdout",
     "output_type": "stream",
     "text": [
      "Columns with NaN values and their counts:\n",
      "W3            6832\n",
      "L3            6832\n",
      "W4           12171\n",
      "L4           12171\n",
      "W5           13119\n",
      "L5           13119\n",
      "winner_ht       37\n",
      "loser_ht        99\n",
      "w_ace          100\n",
      "w_df           100\n",
      "w_svpt         100\n",
      "w_1stIn        100\n",
      "w_1stWon       100\n",
      "w_2ndWon       100\n",
      "w_SvGms         99\n",
      "w_bpSaved      100\n",
      "w_bpFaced      100\n",
      "l_ace          100\n",
      "l_df           100\n",
      "l_svpt         100\n",
      "l_1stIn        100\n",
      "l_1stWon       100\n",
      "l_2ndWon       100\n",
      "l_SvGms         99\n",
      "l_bpSaved      100\n",
      "l_bpFaced      100\n",
      "dtype: int64\n"
     ]
    }
   ],
   "source": [
    "# Check for missing values in the DataFrame\n",
    "missing_values = matches.isnull().sum()\n",
    "\n",
    "# Filter columns with missing values\n",
    "columns_with_nan = missing_values[missing_values > 0]\n",
    "\n",
    "# Display the columns and their corresponding NaN counts\n",
    "print(\"Columns with NaN values and their counts:\")\n",
    "print(columns_with_nan)"
   ],
   "metadata": {
    "collapsed": false,
    "ExecuteTime": {
     "end_time": "2024-11-28T01:46:02.743820Z",
     "start_time": "2024-11-28T01:46:02.731790Z"
    }
   },
   "id": "7bd3618565e73269",
   "execution_count": 15
  },
  {
   "cell_type": "code",
   "outputs": [],
   "source": [
    "matches.to_csv('../data/merged_year_data/matches_cleaned.csv', index=False)"
   ],
   "metadata": {
    "ExecuteTime": {
     "end_time": "2024-11-28T01:46:03.098695Z",
     "start_time": "2024-11-28T01:46:02.744621Z"
    }
   },
   "id": "ea91a00a",
   "execution_count": 16
  }
 ],
 "metadata": {
  "kernelspec": {
   "display_name": "Python 3",
   "language": "python",
   "name": "python3"
  },
  "language_info": {
   "codemirror_mode": {
    "name": "ipython",
    "version": 3
   },
   "file_extension": ".py",
   "mimetype": "text/x-python",
   "name": "python",
   "nbconvert_exporter": "python",
   "pygments_lexer": "ipython3",
   "version": "3.10.0"
  }
 },
 "nbformat": 4,
 "nbformat_minor": 5
}
