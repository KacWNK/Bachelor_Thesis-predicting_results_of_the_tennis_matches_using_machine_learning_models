{
 "cells": [
  {
   "cell_type": "code",
   "execution_count": 1,
   "id": "initial_id",
   "metadata": {
    "collapsed": true,
    "ExecuteTime": {
     "end_time": "2024-11-27T15:10:30.724596Z",
     "start_time": "2024-11-27T15:10:30.473880Z"
    }
   },
   "outputs": [],
   "source": [
    "import pandas as pd"
   ]
  },
  {
   "cell_type": "code",
   "outputs": [],
   "source": [
    "matches = pd.read_csv('../data/merged_year_data/matches.csv')"
   ],
   "metadata": {
    "collapsed": false,
    "ExecuteTime": {
     "end_time": "2024-11-27T15:10:31.240881Z",
     "start_time": "2024-11-27T15:10:31.157347Z"
    }
   },
   "id": "751686bda960b15",
   "execution_count": 2
  },
  {
   "cell_type": "code",
   "outputs": [
    {
     "name": "stdout",
     "output_type": "stream",
     "text": [
      "Columns with NaN values and their counts:\n",
      "W1                       97\n",
      "L1                       95\n",
      "W2                      188\n",
      "L2                      188\n",
      "W3                     7192\n",
      "L3                     7192\n",
      "W4                    12590\n",
      "L4                    12590\n",
      "W5                    13550\n",
      "L5                    13550\n",
      "Wsets                    95\n",
      "Lsets                    97\n",
      "winner_seed            7909\n",
      "winner_entry          11716\n",
      "winner_ht               175\n",
      "loser_seed            10435\n",
      "loser_entry           10510\n",
      "loser_ht                327\n",
      "loser_age                 2\n",
      "minutes                 189\n",
      "w_ace                   100\n",
      "w_df                    100\n",
      "w_svpt                  100\n",
      "w_1stIn                 100\n",
      "w_1stWon                100\n",
      "w_2ndWon                100\n",
      "w_SvGms                  99\n",
      "w_bpSaved               100\n",
      "w_bpFaced               100\n",
      "l_ace                   100\n",
      "l_df                    100\n",
      "l_svpt                  100\n",
      "l_1stIn                 100\n",
      "l_1stWon                100\n",
      "l_2ndWon                100\n",
      "l_SvGms                  99\n",
      "l_bpSaved               100\n",
      "l_bpFaced               100\n",
      "winner_rank               9\n",
      "winner_rank_points        9\n",
      "loser_rank               38\n",
      "loser_rank_points        38\n",
      "dtype: int64\n"
     ]
    }
   ],
   "source": [
    "# Check for missing values in the DataFrame\n",
    "missing_values = matches.isnull().sum()\n",
    "\n",
    "# Filter columns with missing values\n",
    "columns_with_nan = missing_values[missing_values > 0]\n",
    "\n",
    "# Display the columns and their corresponding NaN counts\n",
    "print(\"Columns with NaN values and their counts:\")\n",
    "print(columns_with_nan)"
   ],
   "metadata": {
    "collapsed": false,
    "ExecuteTime": {
     "end_time": "2024-11-27T15:10:31.618929Z",
     "start_time": "2024-11-27T15:10:31.607978Z"
    }
   },
   "id": "18e8fdad5af08800",
   "execution_count": 3
  },
  {
   "cell_type": "markdown",
   "source": [
    "### Null values in Wsets and Lsets are due to match not being Completed, so Walkover or Retired"
   ],
   "metadata": {
    "collapsed": false
   },
   "id": "90527656f50ffaa5"
  },
  {
   "cell_type": "code",
   "outputs": [
    {
     "name": "stdout",
     "output_type": "stream",
     "text": [
      "Number of null values in 'WSets' where 'Comment' equals 'Completed': 0\n"
     ]
    }
   ],
   "source": [
    "null_count = matches.loc[matches['Comment'] == 'Completed', 'Wsets'].isnull().sum()\n",
    "\n",
    "print(f\"Number of null values in 'WSets' where 'Comment' equals 'Completed': {null_count}\")"
   ],
   "metadata": {
    "collapsed": false,
    "ExecuteTime": {
     "end_time": "2024-11-27T15:10:32.403299Z",
     "start_time": "2024-11-27T15:10:32.398689Z"
    }
   },
   "id": "e0a7d094a48ae47c",
   "execution_count": 4
  },
  {
   "cell_type": "code",
   "outputs": [],
   "source": [],
   "metadata": {
    "collapsed": false,
    "ExecuteTime": {
     "end_time": "2024-11-27T13:49:45.034839Z",
     "start_time": "2024-11-27T13:49:45.031879Z"
    }
   },
   "id": "792c31024adb9f11",
   "execution_count": 14
  },
  {
   "cell_type": "code",
   "outputs": [],
   "source": [],
   "metadata": {
    "collapsed": false
   },
   "id": "c967b50b1a6b1291"
  }
 ],
 "metadata": {
  "kernelspec": {
   "display_name": "Python 3",
   "language": "python",
   "name": "python3"
  },
  "language_info": {
   "codemirror_mode": {
    "name": "ipython",
    "version": 2
   },
   "file_extension": ".py",
   "mimetype": "text/x-python",
   "name": "python",
   "nbconvert_exporter": "python",
   "pygments_lexer": "ipython2",
   "version": "2.7.6"
  }
 },
 "nbformat": 4,
 "nbformat_minor": 5
}
