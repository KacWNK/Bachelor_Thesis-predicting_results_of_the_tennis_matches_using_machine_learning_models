{
 "cells": [
  {
   "cell_type": "code",
   "metadata": {
    "ExecuteTime": {
     "end_time": "2024-11-18T23:53:01.213345Z",
     "start_time": "2024-11-18T23:53:00.931956Z"
    }
   },
   "source": "import pandas as pd",
   "outputs": [],
   "execution_count": 1
  },
  {
   "cell_type": "markdown",
   "metadata": {},
   "source": [
    "## Wczytanie danych bets"
   ]
  },
  {
   "cell_type": "code",
   "metadata": {
    "ExecuteTime": {
     "end_time": "2024-11-18T23:53:03.563870Z",
     "start_time": "2024-11-18T23:53:01.974406Z"
    }
   },
   "source": [
    "bets: dict[str: pd.DataFrame] = {}\n",
    "for year in range(2021, 2024):\n",
    "    file_name=f\"../data/raw_data/{year}.xlsx\"\n",
    "    bets[str(year)] = pd.read_excel(file_name)\n",
    "    print(f\"Loaded bets_{year} from {file_name}\")"
   ],
   "outputs": [
    {
     "name": "stdout",
     "output_type": "stream",
     "text": [
      "Loaded bets_2021 from ../data/raw_data/2021.xlsx\n",
      "Loaded bets_2022 from ../data/raw_data/2022.xlsx\n",
      "Loaded bets_2023 from ../data/raw_data/2023.xlsx\n"
     ]
    }
   ],
   "execution_count": 2
  },
  {
   "cell_type": "code",
   "metadata": {
    "ExecuteTime": {
     "end_time": "2024-11-18T23:53:03.582010Z",
     "start_time": "2024-11-18T23:53:03.564866Z"
    }
   },
   "source": [
    "for year in bets:\n",
    "    bets[year].loc[bets[year][\"Tournament\"] == \"Adelaide International 1\", \"Location\"] = \"Adelaide 1\"\n",
    "    bets[year].loc[bets[year][\"Tournament\"] == \"Adelaide International 2\", \"Location\"] = \"Adelaide 2\"\n",
    "    bets[year][\"Location\"] = bets[year][\"Location\"].replace({'Dubai ': 'Dubai', 'Belgrade ': 'Belgrade', 'Napoli':'Naples', 'Montreal': 'Toronto'})\n",
    "    bets[year] = bets[year][~bets[year]['Location'].isin(['Turin'])]\n",
    "    bets[year]['Loser'] = bets[year]['Loser'].replace({\"Varillas J. P.\": \"Varillas J.P.\", \"Tseng C. H.\": \"Tseng C.H.\"})\n",
    "    bets[year]['Winner'] = bets[year]['Winner'].replace({\"Varillas J. P.\": \"Varillas J.P.\", \"Tseng C. H.\": \"Tseng C.H.\"})\n",
    "    bets[year] = bets[year][~bets[year]['Tournament'].isin(['United Cup', 'Tour Finals', 'NextGen Finals','Tokyo Olympics','Atp Cup', 'Laver Cup', 'Melbourne Summer Set', 'Great Ocean Road Open', 'Murray River Open'])]\n",
    "    bets[year].loc[bets[year]['Tournament']== 'BNP Paribas Masters', 'Location']='Paris 2'\n",
    "    bets[year].loc[bets[year]['Tournament']== 'Belgrade Open', 'Location']='Belgrade 2'"
   ],
   "outputs": [],
   "execution_count": 3
  },
  {
   "cell_type": "code",
   "metadata": {
    "ExecuteTime": {
     "end_time": "2024-11-18T23:53:03.585592Z",
     "start_time": "2024-11-18T23:53:03.582010Z"
    }
   },
   "source": [
    "for year in bets:\n",
    "    bets[year].rename(columns={'Location': 'tourney_location'}, inplace=True)\n",
    "    bets[year].reset_index(drop=True, inplace=True)"
   ],
   "outputs": [],
   "execution_count": 4
  },
  {
   "cell_type": "code",
   "metadata": {
    "ExecuteTime": {
     "end_time": "2024-11-18T23:53:03.589066Z",
     "start_time": "2024-11-18T23:53:03.586587Z"
    }
   },
   "source": [
    "for year in bets:\n",
    "    print(f\"Year {year}: {bets[year].columns}\")"
   ],
   "outputs": [
    {
     "name": "stdout",
     "output_type": "stream",
     "text": [
      "Year 2021: Index(['ATP', 'tourney_location', 'Tournament', 'Date', 'Series', 'Court',\n",
      "       'Surface', 'Round', 'Best of', 'Winner', 'Loser', 'WRank', 'LRank',\n",
      "       'WPts', 'LPts', 'W1', 'L1', 'W2', 'L2', 'W3', 'L3', 'W4', 'L4', 'W5',\n",
      "       'L5', 'Wsets', 'Lsets', 'Comment', 'B365W', 'B365L', 'PSW', 'PSL',\n",
      "       'MaxW', 'MaxL', 'AvgW', 'AvgL'],\n",
      "      dtype='object')\n",
      "Year 2022: Index(['ATP', 'tourney_location', 'Tournament', 'Date', 'Series', 'Court',\n",
      "       'Surface', 'Round', 'Best of', 'Winner', 'Loser', 'WRank', 'LRank',\n",
      "       'WPts', 'LPts', 'W1', 'L1', 'W2', 'L2', 'W3', 'L3', 'W4', 'L4', 'W5',\n",
      "       'L5', 'Wsets', 'Lsets', 'Comment', 'B365W', 'B365L', 'PSW', 'PSL',\n",
      "       'MaxW', 'MaxL', 'AvgW', 'AvgL'],\n",
      "      dtype='object')\n",
      "Year 2023: Index(['ATP', 'tourney_location', 'Tournament', 'Date', 'Series', 'Court',\n",
      "       'Surface', 'Round', 'Best of', 'Winner', 'Loser', 'WRank', 'LRank',\n",
      "       'WPts', 'LPts', 'W1', 'L1', 'W2', 'L2', 'W3', 'L3', 'W4', 'L4', 'W5',\n",
      "       'L5', 'Wsets', 'Lsets', 'Comment', 'B365W', 'B365L', 'PSW', 'PSL',\n",
      "       'MaxW', 'MaxL', 'AvgW', 'AvgL'],\n",
      "      dtype='object')\n"
     ]
    }
   ],
   "execution_count": 5
  },
  {
   "cell_type": "markdown",
   "metadata": {},
   "source": "## Sprawdzenie czy na pewno te same kolumny"
  },
  {
   "cell_type": "code",
   "metadata": {
    "ExecuteTime": {
     "end_time": "2024-11-18T23:53:03.592098Z",
     "start_time": "2024-11-18T23:53:03.589066Z"
    }
   },
   "source": [
    "if set(bets[\"2021\"].columns) == set(bets[\"2022\"].columns) == set(bets[\"2023\"].columns):\n",
    "    print(\"All DataFrames have the same columns.\")\n",
    "else:\n",
    "    print(\"DataFrames have different columns.\")"
   ],
   "outputs": [
    {
     "name": "stdout",
     "output_type": "stream",
     "text": [
      "All DataFrames have the same columns.\n"
     ]
    }
   ],
   "execution_count": 6
  },
  {
   "cell_type": "markdown",
   "metadata": {},
   "source": [
    "## Wczytanie danych github"
   ]
  },
  {
   "cell_type": "code",
   "metadata": {
    "ExecuteTime": {
     "end_time": "2024-11-18T23:53:03.627594Z",
     "start_time": "2024-11-18T23:53:03.592098Z"
    }
   },
   "source": [
    "github: dict[str: pd.DataFrame] = {}\n",
    "for year in range(2021, 2024):\n",
    "    file_name = f\"../data/raw_data/atp_matches_{year}.csv\"\n",
    "    github[str(year)] = pd.read_csv(file_name)\n",
    "    print(f\"Loaded github_{year} from {file_name}\")"
   ],
   "outputs": [
    {
     "name": "stdout",
     "output_type": "stream",
     "text": [
      "Loaded github_2021 from ../data/raw_data/atp_matches_2021.csv\n",
      "Loaded github_2022 from ../data/raw_data/atp_matches_2022.csv\n",
      "Loaded github_2023 from ../data/raw_data/atp_matches_2023.csv\n"
     ]
    }
   ],
   "execution_count": 7
  },
  {
   "metadata": {},
   "cell_type": "markdown",
   "source": "## Sprawdzenie czy zbiory mają takie same kolumny"
  },
  {
   "cell_type": "code",
   "metadata": {
    "ExecuteTime": {
     "end_time": "2024-11-18T23:53:03.695847Z",
     "start_time": "2024-11-18T23:53:03.693378Z"
    }
   },
   "source": [
    "if set(github[\"2021\"].columns) == set(github[\"2022\"].columns) == set(github[\"2023\"].columns):\n",
    "    print(\"All DataFrames have the same columns.\")\n",
    "else:\n",
    "    print(\"DataFrames have different columns.\")"
   ],
   "outputs": [
    {
     "name": "stdout",
     "output_type": "stream",
     "text": [
      "All DataFrames have the same columns.\n"
     ]
    }
   ],
   "execution_count": 8
  },
  {
   "cell_type": "markdown",
   "metadata": {},
   "source": [
    "### Zgodnie z założeniami usuwamy Finals, NextGen Finals, United Cup oraz mecze Davis Cup"
   ]
  },
  {
   "cell_type": "code",
   "metadata": {
    "ExecuteTime": {
     "end_time": "2024-11-18T23:53:04.109382Z",
     "start_time": "2024-11-18T23:53:04.097999Z"
    }
   },
   "source": [
    "for year in github:\n",
    "    github[year]=github[year][~github[year]['tourney_name'].str.contains('Davis Cup', na=False)]\n",
    "    github[year] = github[year][~github[year]['tourney_name'].isin(['Laver Cup', 'United Cup', 'Tour Finals', 'NextGen Finals','Tokyo Olympics','Atp Cup','Melbourne Summer Set', 'Melbourne', 'Great Ocean Road Open', 'Murray River Open'])]\n",
    "    github[year][\"tourney_name\"] = github[year][\"tourney_name\"].replace({'Belgrade ': 'Belgrade'})"
   ],
   "outputs": [],
   "execution_count": 9
  },
  {
   "cell_type": "markdown",
   "metadata": {},
   "source": [
    "### W tej ramce kolumna 'tourney_name' to dla większości turniejów lokalizacja turnieju a nie jego nazwa, a potrzebujemy żeby nazwa turnieju była taka jak w ramce bets. Dla turniejów, dla których 'tourney_name' to nie lokalizacja, ręcznie wpisujemy lokalizację"
   ]
  },
  {
   "cell_type": "code",
   "metadata": {
    "ExecuteTime": {
     "end_time": "2024-11-18T23:53:04.641378Z",
     "start_time": "2024-11-18T23:53:04.632393Z"
    }
   },
   "source": [
    "for year in github:\n",
    "    github[year].rename(columns={'tourney_name': 'tourney_location'}, inplace=True)\n",
    "    github[year]['tourney_location'] = github[year]['tourney_location'].replace({\"Australian Open\": \"Melbourne\", \"Indian Wells Masters\": \"Indian Wells\", \"Miami Masters\": \"Miami\", \"Monte Carlo Masters\": \"Monte Carlo\", \"Madrid Masters\": \"Madrid\", \"Rome Masters\": \"Rome\", \"Roland Garros\": \"Paris\", \"s Hertogenbosch\": \"'s-Hertogenbosch\", \"Queen's Club\": \"Queens Club\", \"Wimbledon\": \"London\", \"Canada Masters\": \"Toronto\", \"Cincinnati Masters\": \"Cincinnati\", \"Us Open\": \"New York\", \"Astana\": \"Nur-Sultan\", \"Shanghai Masters\": \"Shanghai\", \"Paris Masters\": \"Paris 2\", \"Rio De Janeiro\": \"Rio de Janeiro\"})"
   ],
   "outputs": [],
   "execution_count": 10
  },
  {
   "cell_type": "markdown",
   "metadata": {},
   "source": "## Po sprawdzeniu danych historycznych wykryliśmy błąd"
  },
  {
   "cell_type": "code",
   "metadata": {
    "ExecuteTime": {
     "end_time": "2024-11-18T23:53:05.069542Z",
     "start_time": "2024-11-18T23:53:05.065447Z"
    }
   },
   "source": [
    "github['2023']['loser_name'] = github['2023']['loser_name'].replace('Eduardo Nava', 'Emilio Nava')\n",
    "github['2023']['loser_id'] = github['2023']['loser_id'].replace(124013, 207182)"
   ],
   "outputs": [],
   "execution_count": 11
  },
  {
   "cell_type": "markdown",
   "metadata": {},
   "source": [
    "### Sprawdzamy, że utworzona przez nas kolumnna 'tourney_location' odpowiada kolumnie 'tourney_location' w ramce bets"
   ]
  },
  {
   "cell_type": "code",
   "metadata": {
    "ExecuteTime": {
     "end_time": "2024-11-18T23:53:05.575721Z",
     "start_time": "2024-11-18T23:53:05.569535Z"
    }
   },
   "source": [
    "for year in github:\n",
    "    print(github[year][~github[year]['tourney_location'].isin(bets[year]['tourney_location'])]['tourney_location'].unique())\n",
    "    print(bets[year][~bets[year]['tourney_location'].isin(github[year]['tourney_location'])]['tourney_location'].unique())"
   ],
   "outputs": [
    {
     "name": "stdout",
     "output_type": "stream",
     "text": [
      "[]\n",
      "[]\n",
      "[]\n",
      "[]\n",
      "[]\n",
      "[]\n"
     ]
    }
   ],
   "execution_count": 12
  },
  {
   "cell_type": "markdown",
   "metadata": {},
   "source": [
    "### Potrzebujemy mieć takie same nazwy zawodników w obu ramkach, aby dodać do ramki bets id zawodnika z ramki github. Aktualnie w ramce bets nazwa zawodnika jest w formacie typu Djokovic N. a w ramce github w formacie typu Novak Djokovic, dlatego musimy stworzyć nazwy zawodników w skróconym w formacie w ramce github."
   ]
  },
  {
   "cell_type": "code",
   "metadata": {
    "ExecuteTime": {
     "end_time": "2024-11-18T23:53:06.117398Z",
     "start_time": "2024-11-18T23:53:06.113397Z"
    }
   },
   "source": [
    "def transform_name(name: str) -> str:\n",
    "    name_parts = name.split()\n",
    "    first_name = name_parts[0]\n",
    "    last_name = ' '.join(name_parts[1:])\n",
    "    return f\"{last_name} {first_name[0]}.\""
   ],
   "outputs": [],
   "execution_count": 13
  },
  {
   "cell_type": "code",
   "metadata": {
    "ExecuteTime": {
     "end_time": "2024-11-18T23:53:06.381123Z",
     "start_time": "2024-11-18T23:53:06.370800Z"
    }
   },
   "source": [
    "for year in github:\n",
    "    github[year]['shortened_winner_name']=github[year]['winner_name'].apply(transform_name)\n",
    "    github[year]['shortened_loser_name']=github[year]['loser_name'].apply(transform_name)"
   ],
   "outputs": [],
   "execution_count": 14
  },
  {
   "cell_type": "markdown",
   "metadata": {},
   "source": [
    "### Sprawdzamy czy skrócona nazwa zawodnika jednoznacznie określa zawodnika"
   ]
  },
  {
   "cell_type": "code",
   "metadata": {
    "ExecuteTime": {
     "end_time": "2024-11-18T23:53:06.916375Z",
     "start_time": "2024-11-18T23:53:06.910932Z"
    }
   },
   "source": [
    "for year in github:\n",
    "    print(github[year]['shortened_winner_name'].nunique() == github[year]['winner_id'].nunique())\n",
    "    print(github[year]['shortened_loser_name'].nunique() == github[year]['loser_id'].nunique())"
   ],
   "outputs": [
    {
     "name": "stdout",
     "output_type": "stream",
     "text": [
      "True\n",
      "False\n",
      "True\n",
      "False\n",
      "True\n",
      "True\n"
     ]
    }
   ],
   "execution_count": 15
  },
  {
   "cell_type": "markdown",
   "metadata": {},
   "source": [
    "## Zobaczmy, którzy zawodnicy nie są jednoznacznie określeni przez skróconą nazwę"
   ]
  },
  {
   "cell_type": "code",
   "metadata": {
    "ExecuteTime": {
     "end_time": "2024-11-18T23:53:07.472712Z",
     "start_time": "2024-11-18T23:53:07.462987Z"
    }
   },
   "source": [
    "non_unique_losers={}\n",
    "for year in github:\n",
    "    loser_groups = github[year].groupby('shortened_loser_name')['loser_id'].nunique()\n",
    "    non_unique_loser_names = loser_groups[loser_groups > 1].index.tolist()\n",
    "    non_unique_losers[year] = github[year][github[year]['shortened_loser_name'].isin(non_unique_loser_names)][['shortened_loser_name', 'loser_id']].drop_duplicates()\n",
    "\n",
    "for i in range(2021,2024):\n",
    "    if not non_unique_losers[str(i)].empty:\n",
    "        print(f\"Lata {i} - Przegrani z niejednoznacznymi skróconymi nazwami:\")\n",
    "        print(non_unique_losers[str(i)])"
   ],
   "outputs": [
    {
     "name": "stdout",
     "output_type": "stream",
     "text": [
      "Lata 2021 - Przegrani z niejednoznacznymi skróconymi nazwami:\n",
      "     shortened_loser_name  loser_id\n",
      "448               Nava E.    207182\n",
      "1976              Nava E.    124013\n",
      "Lata 2022 - Przegrani z niejednoznacznymi skróconymi nazwami:\n",
      "     shortened_loser_name  loser_id\n",
      "310             Martin A.    105413\n",
      "1793            Martin A.    211346\n"
     ]
    }
   ],
   "execution_count": 16
  },
  {
   "cell_type": "markdown",
   "metadata": {},
   "source": [
    "105413 - Martin Andrej -> Martin A.\n",
    "211346 - Martin Andres -> Martin An."
   ]
  },
  {
   "cell_type": "markdown",
   "metadata": {},
   "source": [
    "## W celu rozróżnienia zawodników do skrótu imienia jednego z nich dopsujemy drugą literkę imienia"
   ]
  },
  {
   "cell_type": "code",
   "metadata": {
    "ExecuteTime": {
     "end_time": "2024-11-18T23:53:09.028270Z",
     "start_time": "2024-11-18T23:53:09.022268Z"
    }
   },
   "source": [
    "for year in github:\n",
    "    github[year].loc[github[year]['loser_id'] == 124013, 'shortened_loser_name'] = 'Nava Ed.'\n",
    "    github[year].loc[github[year]['loser_id'] == 211346, 'shortened_loser_name'] = 'Martin An.'\n",
    "    github[year].loc[github[year]['winner_id'] == 211346, 'shortened_winner_name'] = 'Martin An.'"
   ],
   "outputs": [],
   "execution_count": 17
  },
  {
   "metadata": {},
   "cell_type": "markdown",
   "source": "## Od razu musimy też wykonać tą samę zmianę w ramce bets"
  },
  {
   "metadata": {
    "ExecuteTime": {
     "end_time": "2024-11-18T23:53:10.122898Z",
     "start_time": "2024-11-18T23:53:10.115986Z"
    }
   },
   "cell_type": "code",
   "source": [
    "bets[\"2023\"].loc[(bets[\"2023\"]['Tournament'] == 'Atlanta Open') & (bets[\"2023\"]['Winner'] == 'Martin A.'), 'Winner'] = 'Martin An.'\n",
    "bets[\"2023\"].loc[(bets[\"2023\"]['Tournament'] == 'Atlanta Open') & (bets[\"2023\"]['Loser'] == 'Martin A.'), 'Loser'] = 'Martin An.'\n",
    "bets[\"2022\"].loc[(bets[\"2022\"]['Tournament'] == 'Atlanta Open') & (bets[\"2022\"]['Winner'] == 'Martin A.'), 'Winner'] = 'Martin An.'\n",
    "bets[\"2022\"].loc[(bets[\"2022\"]['Tournament'] == 'Atlanta Open') & (bets[\"2022\"]['Loser'] == 'Martin A.'), 'Loser'] = 'Martin An.'\n",
    "bets[\"2021\"].loc[(bets[\"2021\"]['tourney_location'] == 'Winston-Salem') & (bets[\"2021\"]['Loser'] == 'Nava E.'), 'Loser'] = 'Nava Ed.'"
   ],
   "outputs": [],
   "execution_count": 18
  },
  {
   "cell_type": "markdown",
   "metadata": {},
   "source": "### Niektóre imiona i nazwiska ze względu na swoją unikalność lub brak konsekwencji w zapisie musimy zmodyfikować ręcznie"
  },
  {
   "cell_type": "code",
   "metadata": {
    "ExecuteTime": {
     "end_time": "2024-11-18T23:53:10.992143Z",
     "start_time": "2024-11-18T23:53:10.974063Z"
    }
   },
   "source": [
    "github['2023']['shortened_loser_name'] = github['2023']['shortened_loser_name'].replace({\"Meligeni Alves F.\":\"Meligeni Rodrigues F\",\"Arnaud Bailly G.\":\"Bailly G.\",\"Sung Nam J.\":\"Nam J.S.\",\"Chan Hong S.\":\"Hong S.\",\"Fa Rodriguez Taverna S.\":\"Rodriguez Taverna S.\",\"Pucinelli De Almeida M.\":\"Pucinelli de Almeida M.\",\"Alejandro Hernandez Serrano J.\":\"Hernandez A.\",\"Marcel Stebe C.\":\"Stebe C.M.\",\"Martin del Potro J.\":\"Del Potro J.M.\",\"Marco Moroni G.\":\"Moroni G.M.\",\"Tsonga J.\":\"Tsonga J.W.\",\"Ignacio Londero J.\":\"Londero J.I.\",\"Pablo Ficovich J.\":\"Ficovich J.P.\",\"C.H. Tseng\":\"Tseng C. H.\",\"Oconnell C.\": \"O Connell C.\", \"Elahi Galan D.\": \"Galan D.E.\", \"Auger Aliassime F.\": \"Auger-Aliassime F.\", \"Woo Kwon S.\": \"Kwon S.W.\", \"Barrios Vera T.\": \"Barrios M.\", \"Yunchaokete B.\": \"Bu Y.\", \"Manuel Cerundolo J.\": \"Cerundolo J.M.\", \"Martin Etcheverry T.\": \"Etcheverry T.\", \"Hugues Herbert P.\": \"Herbert P.H.\", \"Hsiou Hsu Y.\": \"Hsu Y.\", \"Andrea Huesler M.\": \"Huesler M.A.\", \"Kuznetsov A.\": \"Kuznetsov An.\", \"Son Kwiatkowski T.\": \"Kwiatkowski T.S.\", \"Li Z.\": \"Li Zh.\", \"Hsin Tseng C.\": \"Tseng C. H.\", \"Kumar Mukund S.\": \"Mukund S.\", \"Ramos A.\": \"Ramos-Vinolas A.\", \"J Wolf J.\": \"Wolf J.J.\", \"Zhang Z.\": \"Zhang Zh.\", \"Pablo Varillas J.\": \"Varillas J. P.\", \"Lennard Struff J.\": \"Struff J.L.\", \"Lin Wu T.\": \"Wu T.L.\", \"Hans Rehberg M.\": \"Rehberg M.\", \"Mpetshi Perricard G.\": \"Mpetshi G.\", \"Agustin Tirante T.\": \"Tirante T.A.\", \"Alberto Olivieri G.\": \"Olivieri G.\", \"Nicolae Madaras D.\": \"Madaras D.\", \"Cong Mo Y.\": \"Mo Y.\"})\n",
    "github['2022']['shortened_loser_name'] = github['2022']['shortened_loser_name'].replace({\"Meligeni Alves F.\":\"Meligeni Rodrigues F\",\"Arnaud Bailly G.\":\"Bailly G.\",\"Sung Nam J.\":\"Nam J.S.\",\"Chan Hong S.\":\"Hong S.\",\"Fa Rodriguez Taverna S.\":\"Rodriguez Taverna S.\",\"Pucinelli De Almeida M.\":\"Pucinelli de Almeida M.\",\"Alejandro Hernandez Serrano J.\":\"Hernandez A.\",\"Marcel Stebe C.\":\"Stebe C.M.\",\"Martin del Potro J.\":\"Del Potro J.M.\",\"Marco Moroni G.\":\"Moroni G.M.\",\"Tsonga J.\":\"Tsonga J.W.\",\"Ignacio Londero J.\":\"Londero J.I.\",\"Pablo Ficovich J.\":\"Ficovich J.P.\",\"C.H. Tseng\":\"Tseng C. H.\",\"Oconnell C.\": \"O Connell C.\", \"Elahi Galan D.\": \"Galan D.E.\", \"Auger Aliassime F.\": \"Auger-Aliassime F.\", \"Woo Kwon S.\": \"Kwon S.W.\", \"Barrios Vera T.\": \"Barrios M.\", \"Yunchaokete B.\": \"Bu Y.\", \"Manuel Cerundolo J.\": \"Cerundolo J.M.\", \"Martin Etcheverry T.\": \"Etcheverry T.\", \"Hugues Herbert P.\": \"Herbert P.H.\", \"Hsiou Hsu Y.\": \"Hsu Y.\", \"Andrea Huesler M.\": \"Huesler M.A.\", \"Kuznetsov A.\": \"Kuznetsov An.\", \"Son Kwiatkowski T.\": \"Kwiatkowski T.S.\", \"Li Z.\": \"Li Zh.\", \"Hsin Tseng C.\": \"Tseng C. H.\", \"Kumar Mukund S.\": \"Mukund S.\", \"Ramos A.\": \"Ramos-Vinolas A.\", \"J Wolf J.\": \"Wolf J.J.\", \"Zhang Z.\": \"Zhang Zh.\", \"Pablo Varillas J.\": \"Varillas J. P.\", \"Lennard Struff J.\": \"Struff J.L.\", \"Lin Wu T.\": \"Wu T.L.\", \"Hans Rehberg M.\": \"Rehberg M.\", \"Mpetshi Perricard G.\": \"Mpetshi G.\", \"Agustin Tirante T.\": \"Tirante T.A.\", \"Alberto Olivieri G.\": \"Olivieri G.\", \"Nicolae Madaras D.\": \"Madaras D.\", \"Cong Mo Y.\": \"Mo Y.\"})\n",
    "github['2021']['shortened_loser_name'] = github['2021']['shortened_loser_name'].replace({\"Patrick Smith J.\":\"Smith J.P.\",\"Shannan Zayid M.\":\"Zayid M.\",\"Hsun Lu Y.\":\"Lu Y.\",\"Aragone J.\":\"Aragone J.C.\",\"Meligeni Alves F.\":\"Meligeni Rodrigues F\",\"Arnaud Bailly G.\":\"Bailly G.\",\"Sung Nam J.\":\"Nam J.S.\",\"Chan Hong S.\":\"Hong S.\",\"Fa Rodriguez Taverna S.\":\"Rodriguez Taverna S.\",\"Pucinelli De Almeida M.\":\"Pucinelli de Almeida M.\",\"Alejandro Hernandez Serrano J.\":\"Hernandez A.\",\"Marcel Stebe C.\":\"Stebe C.M.\",\"Martin del Potro J.\":\"Del Potro J.M.\",\"Marco Moroni G.\":\"Moroni G.M.\",\"Tsonga J.\":\"Tsonga J.W.\",\"Ignacio Londero J.\":\"Londero J.I.\",\"Pablo Ficovich J.\":\"Ficovich J.P.\",\"C.H. Tseng\":\"Tseng C. H.\",\"Oconnell C.\": \"O Connell C.\", \"Elahi Galan D.\": \"Galan D.E.\", \"Auger Aliassime F.\": \"Auger-Aliassime F.\", \"Woo Kwon S.\": \"Kwon S.W.\", \"Barrios Vera T.\": \"Barrios M.\", \"Yunchaokete B.\": \"Bu Y.\", \"Manuel Cerundolo J.\": \"Cerundolo J.M.\", \"Martin Etcheverry T.\": \"Etcheverry T.\", \"Hugues Herbert P.\": \"Herbert P.H.\", \"Hsiou Hsu Y.\": \"Hsu Y.\", \"Andrea Huesler M.\": \"Huesler M.A.\", \"Kuznetsov A.\": \"Kuznetsov An.\", \"Son Kwiatkowski T.\": \"Kwiatkowski T.S.\", \"Li Z.\": \"Li Zh.\", \"Hsin Tseng C.\": \"Tseng C. H.\", \"Kumar Mukund S.\": \"Mukund S.\", \"Ramos A.\": \"Ramos-Vinolas A.\", \"J Wolf J.\": \"Wolf J.J.\", \"Zhang Z.\": \"Zhang Zh.\", \"Pablo Varillas J.\": \"Varillas J. P.\", \"Lennard Struff J.\": \"Struff J.L.\", \"Lin Wu T.\": \"Wu T.L.\", \"Hans Rehberg M.\": \"Rehberg M.\", \"Mpetshi Perricard G.\": \"Mpetshi G.\", \"Agustin Tirante T.\": \"Tirante T.A.\", \"Alberto Olivieri G.\": \"Olivieri G.\", \"Nicolae Madaras D.\": \"Madaras D.\", \"Cong Mo Y.\": \"Mo Y.\"})"
   ],
   "outputs": [],
   "execution_count": 19
  },
  {
   "cell_type": "code",
   "metadata": {
    "ExecuteTime": {
     "end_time": "2024-11-18T23:53:11.404297Z",
     "start_time": "2024-11-18T23:53:11.385784Z"
    }
   },
   "source": [
    "github['2023']['shortened_winner_name'] = github['2023']['shortened_winner_name'].replace({\"Varillas J.P.\":\"Varillas J. P.\",\"Meligeni Alves F.\":\"Meligeni Rodrigues F\",\"Arnaud Bailly G.\":\"Bailly G.\",\"Sung Nam J.\":\"Nam J.S.\",\"Chan Hong S.\":\"Hong S.\",\"Fa Rodriguez Taverna S.\":\"Rodriguez Taverna S.\",\"Pucinelli De Almeida M.\":\"Pucinelli de Almeida M.\",\"Alejandro Hernandez Serrano J.\":\"Hernandez A.\",\"Marcel Stebe C.\":\"Stebe C.M.\",\"Martin del Potro J.\":\"Del Potro J.M.\",\"Marco Moroni G.\":\"Moroni G.M.\",\"Tsonga J.\":\"Tsonga J.W.\",\"Ignacio Londero J.\":\"Londero J.I.\",\"Pablo Ficovich J.\":\"Ficovich J.P.\",\"C.H. Tseng\":\"Tseng C. H.\",\"Oconnell C.\": \"O Connell C.\", \"Elahi Galan D.\": \"Galan D.E.\", \"Auger Aliassime F.\": \"Auger-Aliassime F.\", \"Woo Kwon S.\": \"Kwon S.W.\", \"Barrios Vera T.\": \"Barrios M.\", \"Yunchaokete B.\": \"Bu Y.\", \"Manuel Cerundolo J.\": \"Cerundolo J.M.\", \"Martin Etcheverry T.\": \"Etcheverry T.\", \"Hugues Herbert P.\": \"Herbert P.H.\", \"Hsiou Hsu Y.\": \"Hsu Y.\", \"Andrea Huesler M.\": \"Huesler M.A.\", \"Kuznetsov A.\": \"Kuznetsov An.\", \"Son Kwiatkowski T.\": \"Kwiatkowski T.S.\", \"Li Z.\": \"Li Zh.\", \"Hsin Tseng C.\": \"Tseng C. H.\", \"Kumar Mukund S.\": \"Mukund S.\", \"Ramos A.\": \"Ramos-Vinolas A.\", \"J Wolf J.\": \"Wolf J.J.\", \"Zhang Z.\": \"Zhang Zh.\", \"Pablo Varillas J.\": \"Varillas J. P.\", \"Lennard Struff J.\": \"Struff J.L.\", \"Lin Wu T.\": \"Wu T.L.\", \"Hans Rehberg M.\": \"Rehberg M.\", \"Mpetshi Perricard G.\": \"Mpetshi G.\", \"Agustin Tirante T.\": \"Tirante T.A.\", \"Alberto Olivieri G.\": \"Olivieri G.\", \"Nicolae Madaras D.\": \"Madaras D.\", \"Cong Mo Y.\": \"Mo Y.\"})\n",
    "github['2022']['shortened_winner_name'] = github['2022']['shortened_winner_name'].replace({\"Varillas J.P.\":\"Varillas J. P.\",\"Meligeni Alves F.\":\"Meligeni Rodrigues F\",\"Pucinelli De Almeida M.\":\"Pucinelli de Almeida M.\",\"Alejandro Hernandez Serrano J.\":\"Hernandez A.\",\"Arnaud Bailly G.\":\"Bailly G.\",\"Sung Nam J.\":\"Nam J.S.\",\"Chan Hong S.\":\"Hong S.\",\"Fa Rodriguez Taverna S.\":\"Rodriguez Taverna S.\",\"Marcel Stebe C.\":\"Stebe C.M.\",\"Martin del Potro J.\":\"Del Potro J.M.\",\"Marco Moroni G.\":\"Moroni G.M.\",\"Tsonga J.\":\"Tsonga J.W.\",\"Ignacio Londero J.\":\"Londero J.I.\",\"Pablo Ficovich J.\":\"Ficovich J.P.\",\"C.H. Tseng\":\"Tseng C. H.\",\"Oconnell C.\": \"O Connell C.\", \"Elahi Galan D.\": \"Galan D.E.\", \"Auger Aliassime F.\": \"Auger-Aliassime F.\", \"Woo Kwon S.\": \"Kwon S.W.\", \"Barrios Vera T.\": \"Barrios M.\", \"Yunchaokete B.\": \"Bu Y.\", \"Manuel Cerundolo J.\": \"Cerundolo J.M.\", \"Martin Etcheverry T.\": \"Etcheverry T.\", \"Hugues Herbert P.\": \"Herbert P.H.\", \"Hsiou Hsu Y.\": \"Hsu Y.\", \"Andrea Huesler M.\": \"Huesler M.A.\", \"Kuznetsov A.\": \"Kuznetsov An.\", \"Son Kwiatkowski T.\": \"Kwiatkowski T.S.\", \"Li Z.\": \"Li Zh.\", \"Hsin Tseng C.\": \"Tseng C. H.\", \"Kumar Mukund S.\": \"Mukund S.\", \"Ramos A.\": \"Ramos-Vinolas A.\", \"J Wolf J.\": \"Wolf J.J.\", \"Zhang Z.\": \"Zhang Zh.\", \"Pablo Varillas J.\": \"Varillas J. P.\", \"Lennard Struff J.\": \"Struff J.L.\", \"Lin Wu T.\": \"Wu T.L.\", \"Hans Rehberg M.\": \"Rehberg M.\", \"Mpetshi Perricard G.\": \"Mpetshi G.\", \"Agustin Tirante T.\": \"Tirante T.A.\", \"Alberto Olivieri G.\": \"Olivieri G.\", \"Nicolae Madaras D.\": \"Madaras D.\", \"Cong Mo Y.\": \"Mo Y.\"})\n",
    "github['2021']['shortened_winner_name'] = github['2021']['shortened_winner_name'].replace({\"Varillas J.P.\":\"Varillas J. P.\",\"Patrick Smith J.\":\"Smith J.P.\",\"Shannan Zayid M.\":\"Zayid M.\",\"Hsun Lu Y.\":\"Lu Y.\",\"Aragone J.\":\"Aragone J.C.\",\"Meligeni Alves F.\":\"Meligeni Rodrigues F\",\"Arnaud Bailly G.\":\"Bailly G.\",\"Sung Nam J.\":\"Nam J.S.\",\"Chan Hong S.\":\"Hong S.\",\"Fa Rodriguez Taverna S.\":\"Rodriguez Taverna S.\",\"Pucinelli De Almeida M.\":\"Pucinelli de Almeida M.\",\"Alejandro Hernandez Serrano J.\":\"Hernandez A.\",\"Marcel Stebe C.\":\"Stebe C.M.\",\"Martin del Potro J.\":\"Del Potro J.M.\",\"Marco Moroni G.\":\"Moroni G.M.\",\"Tsonga J.\":\"Tsonga J.W.\",\"Ignacio Londero J.\":\"Londero J.I.\",\"Pablo Ficovich J.\":\"Ficovich J.P.\",\"C.H. Tseng\":\"Tseng C. H.\",\"Oconnell C.\": \"O Connell C.\", \"Elahi Galan D.\": \"Galan D.E.\", \"Auger Aliassime F.\": \"Auger-Aliassime F.\", \"Woo Kwon S.\": \"Kwon S.W.\", \"Barrios Vera T.\": \"Barrios M.\", \"Yunchaokete B.\": \"Bu Y.\", \"Manuel Cerundolo J.\": \"Cerundolo J.M.\", \"Martin Etcheverry T.\": \"Etcheverry T.\", \"Hugues Herbert P.\": \"Herbert P.H.\", \"Hsiou Hsu Y.\": \"Hsu Y.\", \"Andrea Huesler M.\": \"Huesler M.A.\", \"Kuznetsov A.\": \"Kuznetsov An.\", \"Son Kwiatkowski T.\": \"Kwiatkowski T.S.\", \"Li Z.\": \"Li Zh.\", \"Hsin Tseng C.\": \"Tseng C. H.\", \"Kumar Mukund S.\": \"Mukund S.\", \"Ramos A.\": \"Ramos-Vinolas A.\", \"J Wolf J.\": \"Wolf J.J.\", \"Zhang Z.\": \"Zhang Zh.\", \"Pablo Varillas J.\": \"Varillas J. P.\", \"Lennard Struff J.\": \"Struff J.L.\", \"Lin Wu T.\": \"Wu T.L.\", \"Hans Rehberg M.\": \"Rehberg M.\", \"Mpetshi Perricard G.\": \"Mpetshi G.\", \"Agustin Tirante T.\": \"Tirante T.A.\", \"Alberto Olivieri G.\": \"Olivieri G.\", \"Nicolae Madaras D.\": \"Madaras D.\", \"Cong Mo Y.\": \"Mo Y.\"})"
   ],
   "outputs": [],
   "execution_count": 20
  },
  {
   "cell_type": "code",
   "metadata": {
    "ExecuteTime": {
     "end_time": "2024-11-18T23:53:11.897019Z",
     "start_time": "2024-11-18T23:53:11.890318Z"
    }
   },
   "source": [
    "bets['2022']['Loser']=bets['2022']['Loser'].replace({\"Tseng C.H.\":\"Tseng C. H.\"})\n",
    "bets['2022']['Loser']=bets['2022']['Loser'].replace({\"Varillas J.P.\":\"Varillas J. P.\"})\n",
    "bets['2023']['Loser']=bets['2023']['Loser'].replace({\"Tseng C.H.\":\"Tseng C. H.\"})\n",
    "bets['2023']['Loser']=bets['2023']['Loser'].replace({\"Varillas J.P.\":\"Varillas J. P.\"})\n",
    "bets['2023']['Loser']=bets['2023']['Loser'].replace({\"Meligeni Alves F.\":\"Meligeni Rodrigues F\"})\n",
    "bets['2021']['Loser']=bets['2021']['Loser'].replace({\"Varillas J.P.\":\"Varillas J. P.\"})"
   ],
   "outputs": [],
   "execution_count": 21
  },
  {
   "cell_type": "code",
   "metadata": {
    "ExecuteTime": {
     "end_time": "2024-11-18T23:53:12.406003Z",
     "start_time": "2024-11-18T23:53:12.399767Z"
    }
   },
   "source": [
    "bets['2022']['Winner']=bets['2022']['Winner'].replace({\"Tseng C.H.\":\"Tseng C. H.\"})\n",
    "bets['2022']['Winner']=bets['2022']['Winner'].replace({\"Varillas J.P.\":\"Varillas J. P.\"})\n",
    "bets['2023']['Winner']=bets['2023']['Winner'].replace({\"Tseng C.H.\":\"Tseng C. H.\"})\n",
    "bets['2023']['Winner']=bets['2023']['Winner'].replace({\"Varillas J.P.\":\"Varillas J. P.\"})\n",
    "bets['2023']['Winner']=bets['2023']['Winner'].replace({\"Meligeni Alves F.\":\"Meligeni Rodrigues F\"})\n",
    "bets['2021']['Winner']=bets['2021']['Winner'].replace({\"Varillas J.P.\":\"Varillas J. P.\"})"
   ],
   "outputs": [],
   "execution_count": 22
  },
  {
   "cell_type": "markdown",
   "metadata": {},
   "source": [
    "## Po poprawkach każdy zawodnik w ramce bets ma już id"
   ]
  },
  {
   "cell_type": "code",
   "metadata": {
    "ExecuteTime": {
     "end_time": "2024-11-18T23:53:13.819264Z",
     "start_time": "2024-11-18T23:53:13.810296Z"
    }
   },
   "source": [
    "for year in github:\n",
    "    map_player_name_player_id = github[year].groupby('shortened_loser_name', as_index=False)[['shortened_loser_name', 'loser_id']].first()\n",
    "    mapping = dict(zip(map_player_name_player_id['shortened_loser_name'], map_player_name_player_id['loser_id']))\n",
    "    bets[year]['loser_id'] = bets[year]['Loser'].map(mapping)\n",
    "    "
   ],
   "outputs": [],
   "execution_count": 23
  },
  {
   "cell_type": "code",
   "metadata": {
    "ExecuteTime": {
     "end_time": "2024-11-18T23:53:14.164400Z",
     "start_time": "2024-11-18T23:53:14.160853Z"
    }
   },
   "source": [
    "for year in bets:\n",
    "    print(bets[year].loc[bets[year]['loser_id'].isna(), 'Loser'].unique())"
   ],
   "outputs": [
    {
     "name": "stdout",
     "output_type": "stream",
     "text": [
      "[]\n",
      "[]\n",
      "[]\n"
     ]
    }
   ],
   "execution_count": 24
  },
  {
   "cell_type": "code",
   "metadata": {
    "ExecuteTime": {
     "end_time": "2024-11-18T23:53:15.037255Z",
     "start_time": "2024-11-18T23:53:15.028973Z"
    }
   },
   "source": [
    "for year in github:\n",
    "    map_player_name_player_id = github[year].groupby('shortened_winner_name', as_index=False)[['shortened_winner_name', 'winner_id']].first()\n",
    "    mapping = dict(zip(map_player_name_player_id['shortened_winner_name'], map_player_name_player_id['winner_id']))\n",
    "    bets[year]['winner_id'] = bets[year]['Winner'].map(mapping)"
   ],
   "outputs": [],
   "execution_count": 25
  },
  {
   "cell_type": "code",
   "metadata": {
    "ExecuteTime": {
     "end_time": "2024-11-18T23:53:15.416137Z",
     "start_time": "2024-11-18T23:53:15.412523Z"
    }
   },
   "source": [
    "for year in bets:\n",
    "    print(bets[year].loc[bets[year]['winner_id'].isna(), 'Winner'].unique())"
   ],
   "outputs": [
    {
     "name": "stdout",
     "output_type": "stream",
     "text": [
      "[]\n",
      "[]\n",
      "[]\n"
     ]
    }
   ],
   "execution_count": 26
  },
  {
   "cell_type": "markdown",
   "metadata": {},
   "source": [
    "### Skoro mamy już wspólne id zawodnika, oraz id turnieju to możemy w obu ramkach zdefiniować wspólne id meczu. Sprawdzamy czy id meczu jest unikalne dla każdego wiersza w ramkach"
   ]
  },
  {
   "cell_type": "code",
   "metadata": {
    "ExecuteTime": {
     "end_time": "2024-11-18T23:53:16.475319Z",
     "start_time": "2024-11-18T23:53:16.460493Z"
    }
   },
   "source": [
    "for year in github:\n",
    "    github[year]['match_id'] = github[year]['tourney_location'].astype(str) + '_' + year + '_' + github[year]['winner_id'].astype(str) + '_' + github[year]['loser_id'].astype(str)\n",
    "    bets[year]['match_id'] = bets[year]['tourney_location'].astype(str) + '_' + year + '_' +  bets[year]['winner_id'].astype(str) + '_' + bets[year]['loser_id'].astype(str)"
   ],
   "outputs": [],
   "execution_count": 27
  },
  {
   "cell_type": "code",
   "metadata": {
    "ExecuteTime": {
     "end_time": "2024-11-18T23:53:16.842438Z",
     "start_time": "2024-11-18T23:53:16.836920Z"
    }
   },
   "source": [
    "for year in github:\n",
    "    print(github[year]['match_id'].nunique() == len(github[year]))\n",
    "    print(bets[year]['match_id'].nunique() == len(bets[year]))\n"
   ],
   "outputs": [
    {
     "name": "stdout",
     "output_type": "stream",
     "text": [
      "True\n",
      "True\n",
      "True\n",
      "True\n",
      "True\n",
      "True\n"
     ]
    }
   ],
   "execution_count": 28
  },
  {
   "cell_type": "markdown",
   "metadata": {},
   "source": "### W bets 2023 jest źle wpisywany wynik meczu Bu Y. vs Kecmanovic M. w pierwszej rundzie turnieju w Shanghaju., wpisane jest zwycięstwo Kecmanovica a przegrał on ten mecz. Taka sama sytaacja wystąpiła w meczu 1/8 finału pomiędzy Kuzmanov D. a Carbales Baena R. Musimy zamienić ze soba wszystkie kolumny zawierajace wartości dedykowane zwycięzcy/przegranemu"
  },
  {
   "cell_type": "code",
   "metadata": {
    "ExecuteTime": {
     "end_time": "2024-11-18T23:53:18.150810Z",
     "start_time": "2024-11-18T23:53:18.146850Z"
    }
   },
   "source": [
    "def swap_winner_loser_bets(match_ids: [str], df: pd.DataFrame) -> pd.DataFrame:\n",
    "    winner_cols = [col for col in df.columns if col.startswith('W') or col.endswith('W') or col == 'Winner']\n",
    "    loser_cols = [col for col in df.columns if col.startswith('L') or col.endswith('L') or col == 'Loser']\n",
    "    condition = df['match_id'].isin(match_ids)\n",
    "    \n",
    "    if not df[condition].empty:\n",
    "        for w_col, l_col in zip(winner_cols, loser_cols):\n",
    "            df.loc[condition, w_col], df.loc[condition, l_col] = df.loc[condition, l_col].values, df.loc[condition, w_col].values\n",
    "    else:\n",
    "        print(f\"No match found with match_id {match_ids}\")\n",
    "    \n",
    "    return df"
   ],
   "outputs": [],
   "execution_count": 29
  },
  {
   "cell_type": "code",
   "metadata": {
    "ExecuteTime": {
     "end_time": "2024-11-18T23:53:19.017207Z",
     "start_time": "2024-11-18T23:53:18.971059Z"
    }
   },
   "source": [
    "bets['2023'] = swap_winner_loser_bets([\"Marrakech_2023_106220_106148\", \"Shanghai_2023_200175_207352\"], bets['2023'])\n",
    "bets['2023']['match_id'] = bets['2023']['match_id'].replace({\"Marrakech_2023_106220_106148\": \"Marrakech_2023_106148_106220\", \"Shanghai_2023_200175_207352\": \"Shanghai_2023_207352_200175\"})"
   ],
   "outputs": [],
   "execution_count": 30
  },
  {
   "cell_type": "markdown",
   "metadata": {},
   "source": [
    "### Sprawdźmy jeszcze czy sa jakieś mecze, które sa tylko w jednej ramce."
   ]
  },
  {
   "cell_type": "code",
   "metadata": {
    "ExecuteTime": {
     "end_time": "2024-11-18T23:53:21.999952Z",
     "start_time": "2024-11-18T23:53:21.993761Z"
    }
   },
   "source": [
    "for year in github:\n",
    "    print(bets[year][~bets[year]['match_id'].isin(github[year]['match_id'])]['match_id'].unique())\n",
    "    print(github[year][~github[year]['match_id'].isin(bets[year]['match_id'])]['match_id'].unique())"
   ],
   "outputs": [
    {
     "name": "stdout",
     "output_type": "stream",
     "text": [
      "[]\n",
      "[]\n",
      "[]\n",
      "[]\n",
      "[]\n",
      "[]\n"
     ]
    }
   ],
   "execution_count": 31
  },
  {
   "cell_type": "code",
   "metadata": {
    "ExecuteTime": {
     "end_time": "2024-11-18T23:53:23.737922Z",
     "start_time": "2024-11-18T23:53:23.505627Z"
    }
   },
   "source": [
    "folder_path = '../data/Processed_data/'\n",
    "bets['2023'].to_csv(folder_path +'bets2023.csv', index=False)\n",
    "bets['2022'].to_csv(folder_path +'bets2022.csv', index=False)\n",
    "bets['2021'].to_csv(folder_path +'bets2021.csv', index=False)\n",
    "github['2023'].to_csv(folder_path +'github2023.csv', index=False)\n",
    "github['2022'].to_csv(folder_path +'github2022.csv', index=False)\n",
    "github['2021'].to_csv(folder_path +'github2021.csv', index=False)"
   ],
   "outputs": [],
   "execution_count": 32
  },
  {
   "metadata": {},
   "cell_type": "code",
   "outputs": [],
   "execution_count": null,
   "source": ""
  }
 ],
 "metadata": {
  "kernelspec": {
   "display_name": ".venv",
   "language": "python",
   "name": ".venv"
  },
  "language_info": {
   "codemirror_mode": {
    "name": "ipython",
    "version": 3
   },
   "file_extension": ".py",
   "mimetype": "text/x-python",
   "name": "python",
   "nbconvert_exporter": "python",
   "pygments_lexer": "ipython3",
   "version": "3.12.7"
  }
 },
 "nbformat": 4,
 "nbformat_minor": 2
}
