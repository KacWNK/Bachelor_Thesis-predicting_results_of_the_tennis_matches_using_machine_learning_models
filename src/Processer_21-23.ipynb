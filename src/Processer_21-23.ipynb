{
 "cells": [
  {
   "cell_type": "code",
   "metadata": {
    "ExecuteTime": {
     "end_time": "2024-12-10T11:17:04.461963Z",
     "start_time": "2024-12-10T11:17:01.189805Z"
    }
   },
   "source": "import pandas as pd",
   "outputs": [],
   "execution_count": 1
  },
  {
   "metadata": {
    "ExecuteTime": {
     "end_time": "2024-12-10T11:17:04.467970Z",
     "start_time": "2024-12-10T11:17:04.462960Z"
    }
   },
   "cell_type": "code",
   "source": [
    "try:\n",
    "    years   # noqa\n",
    "except NameError:\n",
    "    # Define default values for manual execution\n",
    "    input_directory = \"../data/raw_data/\"\n",
    "    output_directory = \"../data/Processed_data/\"\n",
    "    years = [2021, 2022, 2023]\n",
    "    print(\"Parameters not provided, using default values:\")\n",
    "    print(f\"input_directory: {input_directory}, years: {years}\")"
   ],
   "outputs": [
    {
     "name": "stdout",
     "output_type": "stream",
     "text": [
      "Parameters not provided, using default values:\n",
      "input_directory: ../data/raw_data/, years: [2021, 2022, 2023]\n"
     ]
    }
   ],
   "execution_count": 2
  },
  {
   "cell_type": "markdown",
   "metadata": {},
   "source": [
    "## Wczytanie danych bets"
   ]
  },
  {
   "cell_type": "code",
   "metadata": {
    "ExecuteTime": {
     "end_time": "2024-12-10T11:17:06.633686Z",
     "start_time": "2024-12-10T11:17:04.468490Z"
    }
   },
   "source": [
    "bets: dict[str: pd.DataFrame] = {}\n",
    "for year in years:\n",
    "    file_name = f\"{input_directory}{year}.xlsx\"   # noqa\n",
    "    bets[str(year)] = pd.read_excel(file_name)\n",
    "    print(f\"Loaded bets_{year} from {file_name}\")"
   ],
   "outputs": [
    {
     "name": "stdout",
     "output_type": "stream",
     "text": [
      "Loaded bets_2021 from ../data/raw_data/2021.xlsx\n",
      "Loaded bets_2022 from ../data/raw_data/2022.xlsx\n",
      "Loaded bets_2023 from ../data/raw_data/2023.xlsx\n"
     ]
    }
   ],
   "execution_count": 3
  },
  {
   "cell_type": "code",
   "metadata": {
    "ExecuteTime": {
     "end_time": "2024-12-10T11:17:06.653417Z",
     "start_time": "2024-12-10T11:17:06.634686Z"
    }
   },
   "source": [
    "for year in bets:\n",
    "    bets[year].loc[bets[year][\"Tournament\"] == \"Adelaide International 1\", \"Location\"] = \"Adelaide 1\"\n",
    "    bets[year].loc[bets[year][\"Tournament\"] == \"Adelaide International 2\", \"Location\"] = \"Adelaide 2\"\n",
    "    bets[year][\"Location\"] = bets[year][\"Location\"].replace({'Dubai ': 'Dubai', 'Belgrade ': 'Belgrade', 'Napoli':'Naples'})\n",
    "    bets[year] = bets[year][~bets[year]['Location'].isin(['Turin'])]\n",
    "    bets[year]['Loser'] = bets[year]['Loser'].replace({\"Varillas J. P.\": \"Varillas J.P.\", \"Tseng C. H.\": \"Tseng C.H.\"})\n",
    "    bets[year]['Winner'] = bets[year]['Winner'].replace({\"Varillas J. P.\": \"Varillas J.P.\", \"Tseng C. H.\": \"Tseng C.H.\"})\n",
    "    bets[year] = bets[year][~bets[year]['Tournament'].isin(['United Cup', 'Tour Finals', 'NextGen Finals','Tokyo Olympics','Atp Cup', 'Laver Cup', 'Melbourne Summer Set', 'Great Ocean Road Open', 'Murray River Open'])]\n",
    "    bets[year].loc[bets[year]['Tournament']== 'BNP Paribas Masters', 'Location']='Paris 2'\n",
    "    bets[year].loc[bets[year]['Tournament']== 'Belgrade Open', 'Location']='Belgrade 2'"
   ],
   "outputs": [],
   "execution_count": 4
  },
  {
   "cell_type": "code",
   "metadata": {
    "ExecuteTime": {
     "end_time": "2024-12-10T11:17:06.658926Z",
     "start_time": "2024-12-10T11:17:06.654399Z"
    }
   },
   "source": [
    "for year in bets:\n",
    "    bets[year].rename(columns={'Location': 'tourney_location'}, inplace=True)\n",
    "    bets[year].reset_index(drop=True, inplace=True)"
   ],
   "outputs": [],
   "execution_count": 5
  },
  {
   "cell_type": "code",
   "metadata": {
    "ExecuteTime": {
     "end_time": "2024-12-10T11:17:06.662925Z",
     "start_time": "2024-12-10T11:17:06.658941Z"
    }
   },
   "source": [
    "for year in bets:\n",
    "    print(f\"Year {year}: {bets[year].columns}\")"
   ],
   "outputs": [
    {
     "name": "stdout",
     "output_type": "stream",
     "text": [
      "Year 2021: Index(['ATP', 'tourney_location', 'Tournament', 'Date', 'Series', 'Court',\n",
      "       'Surface', 'Round', 'Best of', 'Winner', 'Loser', 'WRank', 'LRank',\n",
      "       'WPts', 'LPts', 'W1', 'L1', 'W2', 'L2', 'W3', 'L3', 'W4', 'L4', 'W5',\n",
      "       'L5', 'Wsets', 'Lsets', 'Comment', 'B365W', 'B365L', 'PSW', 'PSL',\n",
      "       'MaxW', 'MaxL', 'AvgW', 'AvgL'],\n",
      "      dtype='object')\n",
      "Year 2022: Index(['ATP', 'tourney_location', 'Tournament', 'Date', 'Series', 'Court',\n",
      "       'Surface', 'Round', 'Best of', 'Winner', 'Loser', 'WRank', 'LRank',\n",
      "       'WPts', 'LPts', 'W1', 'L1', 'W2', 'L2', 'W3', 'L3', 'W4', 'L4', 'W5',\n",
      "       'L5', 'Wsets', 'Lsets', 'Comment', 'B365W', 'B365L', 'PSW', 'PSL',\n",
      "       'MaxW', 'MaxL', 'AvgW', 'AvgL'],\n",
      "      dtype='object')\n",
      "Year 2023: Index(['ATP', 'tourney_location', 'Tournament', 'Date', 'Series', 'Court',\n",
      "       'Surface', 'Round', 'Best of', 'Winner', 'Loser', 'WRank', 'LRank',\n",
      "       'WPts', 'LPts', 'W1', 'L1', 'W2', 'L2', 'W3', 'L3', 'W4', 'L4', 'W5',\n",
      "       'L5', 'Wsets', 'Lsets', 'Comment', 'B365W', 'B365L', 'PSW', 'PSL',\n",
      "       'MaxW', 'MaxL', 'AvgW', 'AvgL'],\n",
      "      dtype='object')\n"
     ]
    }
   ],
   "execution_count": 6
  },
  {
   "cell_type": "markdown",
   "metadata": {},
   "source": "## Sprawdzenie czy na pewno te same kolumny"
  },
  {
   "cell_type": "code",
   "metadata": {
    "ExecuteTime": {
     "end_time": "2024-12-10T11:17:06.680509Z",
     "start_time": "2024-12-10T11:17:06.662925Z"
    }
   },
   "source": [
    "from test_helpers.preprocessing import check_columns_same\n",
    "check_columns_same(bets)"
   ],
   "outputs": [
    {
     "name": "stdout",
     "output_type": "stream",
     "text": [
      "✅ Year 2022: Columns match with the first year (2021).\n",
      "✅ Year 2023: Columns match with the first year (2021).\n"
     ]
    }
   ],
   "execution_count": 7
  },
  {
   "cell_type": "markdown",
   "metadata": {},
   "source": [
    "## Wczytanie danych github"
   ]
  },
  {
   "cell_type": "code",
   "metadata": {
    "ExecuteTime": {
     "end_time": "2024-12-10T11:17:06.772917Z",
     "start_time": "2024-12-10T11:17:06.681509Z"
    }
   },
   "source": [
    "github: dict[str: pd.DataFrame] = {}\n",
    "for year in years:\n",
    "    file_name = f\"{input_directory}atp_matches_{year}.csv\"\n",
    "    github[str(year)] = pd.read_csv(file_name)\n",
    "    print(f\"Loaded github_{year} from {file_name}\")"
   ],
   "outputs": [
    {
     "name": "stdout",
     "output_type": "stream",
     "text": [
      "Loaded github_2021 from ../data/raw_data/atp_matches_2021.csv\n",
      "Loaded github_2022 from ../data/raw_data/atp_matches_2022.csv\n",
      "Loaded github_2023 from ../data/raw_data/atp_matches_2023.csv\n"
     ]
    }
   ],
   "execution_count": 8
  },
  {
   "metadata": {},
   "cell_type": "markdown",
   "source": "## Sprawdzenie czy zbiory mają takie same kolumny"
  },
  {
   "cell_type": "code",
   "metadata": {
    "ExecuteTime": {
     "end_time": "2024-12-10T11:17:06.776423Z",
     "start_time": "2024-12-10T11:17:06.773429Z"
    }
   },
   "source": "check_columns_same(github)",
   "outputs": [
    {
     "name": "stdout",
     "output_type": "stream",
     "text": [
      "✅ Year 2022: Columns match with the first year (2021).\n",
      "✅ Year 2023: Columns match with the first year (2021).\n"
     ]
    }
   ],
   "execution_count": 9
  },
  {
   "cell_type": "markdown",
   "metadata": {},
   "source": [
    "### Zgodnie z założeniami usuwamy Finals, NextGen Finals, United Cup oraz mecze Davis Cup"
   ]
  },
  {
   "cell_type": "code",
   "metadata": {
    "ExecuteTime": {
     "end_time": "2024-12-10T11:17:06.788442Z",
     "start_time": "2024-12-10T11:17:06.777423Z"
    }
   },
   "source": [
    "for year in github:\n",
    "    github[year]=github[year][~github[year]['tourney_name'].str.contains('Davis Cup', na=False)]\n",
    "    github[year] = github[year][~github[year]['tourney_name'].isin(['Laver Cup', 'United Cup', 'Tour Finals', 'NextGen Finals','Tokyo Olympics','Atp Cup','Melbourne Summer Set', 'Melbourne', 'Great Ocean Road Open', 'Murray River Open'])]\n",
    "    github[year][\"tourney_name\"] = github[year][\"tourney_name\"].replace({'Belgrade ': 'Belgrade'})"
   ],
   "outputs": [],
   "execution_count": 10
  },
  {
   "cell_type": "markdown",
   "metadata": {},
   "source": [
    "### W tej ramce kolumna 'tourney_name' to dla większości turniejów lokalizacja turnieju a nie jego nazwa, a potrzebujemy żeby nazwa turnieju była taka jak w ramce bets. Dla turniejów, dla których 'tourney_name' to nie lokalizacja, ręcznie wpisujemy lokalizację"
   ]
  },
  {
   "cell_type": "code",
   "metadata": {
    "ExecuteTime": {
     "end_time": "2024-12-10T11:17:06.798964Z",
     "start_time": "2024-12-10T11:17:06.788968Z"
    }
   },
   "source": [
    "for year in github:\n",
    "    github[year].rename(columns={'tourney_name': 'tourney_location'}, inplace=True)\n",
    "    github[year]['tourney_location'] = github[year]['tourney_location'].replace({\"Australian Open\": \"Melbourne\", \"Indian Wells Masters\": \"Indian Wells\", \"Miami Masters\": \"Miami\", \"Monte Carlo Masters\": \"Monte Carlo\", \"Madrid Masters\": \"Madrid\", \"Rome Masters\": \"Rome\", \"Roland Garros\": \"Paris\", \"s Hertogenbosch\": \"'s-Hertogenbosch\", \"Queen's Club\": \"Queens Club\", \"Wimbledon\": \"London\", \"Cincinnati Masters\": \"Cincinnati\", \"Us Open\": \"New York\", \"Astana\": \"Nur-Sultan\", \"Shanghai Masters\": \"Shanghai\", \"Paris Masters\": \"Paris 2\", \"Rio De Janeiro\": \"Rio de Janeiro\"})"
   ],
   "outputs": [],
   "execution_count": 11
  },
  {
   "metadata": {},
   "cell_type": "markdown",
   "source": "### Turniej Canada Masters jest w parzystych latach w Montrealu i w nieparzystych w Toronto"
  },
  {
   "metadata": {
    "ExecuteTime": {
     "end_time": "2024-12-10T11:17:06.803470Z",
     "start_time": "2024-12-10T11:17:06.799486Z"
    }
   },
   "cell_type": "code",
   "source": [
    "for year in github:\n",
    "    if int(year) % 2 == 0:\n",
    "        github[year]['tourney_location'] = github[year]['tourney_location'].replace({\"Canada Masters\": \"Montreal\"})\n",
    "    else:\n",
    "        github[year]['tourney_location'] = github[year]['tourney_location'].replace({\"Canada Masters\": \"Toronto\"})"
   ],
   "outputs": [],
   "execution_count": 12
  },
  {
   "cell_type": "markdown",
   "metadata": {},
   "source": "## Po sprawdzeniu danych historycznych wykryliśmy błędy"
  },
  {
   "cell_type": "code",
   "metadata": {
    "ExecuteTime": {
     "end_time": "2024-12-10T11:17:06.808849Z",
     "start_time": "2024-12-10T11:17:06.804470Z"
    }
   },
   "source": [
    "github['2023']['loser_name'] = github['2023']['loser_name'].replace('Eduardo Nava', 'Emilio Nava')\n",
    "github['2023']['loser_id'] = github['2023']['loser_id'].replace(124013, 207182)\n",
    "github['2023'].loc[github['2023']['loser_id'] == 212021, 'loser_hand'] = 'R'\n",
    "github['2023'].loc[github['2023']['loser_id'] == 212021, 'loser_ht'] = 191\n",
    "github['2023'].loc[github['2023']['loser_id'] == 212021, 'loser_id'] = 211776"
   ],
   "outputs": [],
   "execution_count": 13
  },
  {
   "cell_type": "markdown",
   "metadata": {},
   "source": [
    "### Sprawdzamy, że utworzona przez nas kolumnna 'tourney_location' odpowiada kolumnie 'tourney_location' w ramce bets"
   ]
  },
  {
   "cell_type": "code",
   "metadata": {
    "ExecuteTime": {
     "end_time": "2024-12-10T11:17:06.816056Z",
     "start_time": "2024-12-10T11:17:06.810829Z"
    }
   },
   "source": [
    "from test_helpers.preprocessing import compare_tourney_locations\n",
    "\n",
    "compare_tourney_locations(github, bets, \"github\", \"bets\")"
   ],
   "outputs": [
    {
     "name": "stdout",
     "output_type": "stream",
     "text": [
      "✅ 'tourney_location' column matches for year 2021.\n",
      "✅ 'tourney_location' column matches for year 2022.\n",
      "✅ 'tourney_location' column matches for year 2023.\n"
     ]
    }
   ],
   "execution_count": 14
  },
  {
   "cell_type": "markdown",
   "metadata": {},
   "source": [
    "### Potrzebujemy mieć takie same nazwy zawodników w obu ramkach, aby dodać do ramki bets id zawodnika z ramki github. Aktualnie w ramce bets nazwa zawodnika jest w formacie typu Djokovic N. a w ramce github w formacie typu Novak Djokovic, dlatego musimy stworzyć nazwy zawodników w skróconym w formacie w ramce github."
   ]
  },
  {
   "cell_type": "code",
   "metadata": {
    "ExecuteTime": {
     "end_time": "2024-12-10T11:17:06.819108Z",
     "start_time": "2024-12-10T11:17:06.816582Z"
    }
   },
   "source": [
    "def transform_name(name: str) -> str:\n",
    "    name_parts = name.split()\n",
    "    first_name = name_parts[0]\n",
    "    last_name = ' '.join(name_parts[1:])\n",
    "    return f\"{last_name} {first_name[0]}.\""
   ],
   "outputs": [],
   "execution_count": 15
  },
  {
   "cell_type": "code",
   "metadata": {
    "ExecuteTime": {
     "end_time": "2024-12-10T11:17:06.831157Z",
     "start_time": "2024-12-10T11:17:06.819108Z"
    }
   },
   "source": [
    "for year in github:\n",
    "    github[year]['shortened_winner_name']=github[year]['winner_name'].apply(transform_name)\n",
    "    github[year]['shortened_loser_name']=github[year]['loser_name'].apply(transform_name)"
   ],
   "outputs": [],
   "execution_count": 16
  },
  {
   "cell_type": "markdown",
   "metadata": {},
   "source": [
    "### Sprawdzamy czy skrócona nazwa zawodnika jednoznacznie określa zawodnika"
   ]
  },
  {
   "cell_type": "code",
   "metadata": {
    "ExecuteTime": {
     "end_time": "2024-12-10T11:17:06.836423Z",
     "start_time": "2024-12-10T11:17:06.831157Z"
    }
   },
   "source": [
    "from test_helpers.preprocessing import check_one_to_one_mapping\n",
    "\n",
    "check_one_to_one_mapping(github, column_pairs = [('shortened_winner_name', 'winner_id'), ('shortened_loser_name', 'loser_id')], raise_error=False)"
   ],
   "outputs": [
    {
     "name": "stdout",
     "output_type": "stream",
     "text": [
      "✅ Year 2021: One-to-one mapping between 'shortened_winner_name' and 'winner_id' is valid.\n",
      "\n",
      "            ❌ One-to-one mapping violation between 'shortened_loser_name' and 'loser_id' in year 2021:\n",
      "            - Unique 'shortened_loser_name': 300\n",
      "            - Unique 'loser_id': 301\n",
      "            This suggests that some 'shortened_loser_name' values map to multiple 'loser_id' values or vice versa.\n",
      "            \n",
      "✅ Year 2022: One-to-one mapping between 'shortened_winner_name' and 'winner_id' is valid.\n",
      "\n",
      "            ❌ One-to-one mapping violation between 'shortened_loser_name' and 'loser_id' in year 2022:\n",
      "            - Unique 'shortened_loser_name': 304\n",
      "            - Unique 'loser_id': 305\n",
      "            This suggests that some 'shortened_loser_name' values map to multiple 'loser_id' values or vice versa.\n",
      "            \n",
      "✅ Year 2023: One-to-one mapping between 'shortened_winner_name' and 'winner_id' is valid.\n",
      "✅ Year 2023: One-to-one mapping between 'shortened_loser_name' and 'loser_id' is valid.\n"
     ]
    }
   ],
   "execution_count": 17
  },
  {
   "cell_type": "markdown",
   "metadata": {},
   "source": [
    "## Zobaczmy, którzy zawodnicy nie są jednoznacznie określeni przez skróconą nazwę"
   ]
  },
  {
   "cell_type": "code",
   "metadata": {
    "ExecuteTime": {
     "end_time": "2024-12-10T11:17:06.847605Z",
     "start_time": "2024-12-10T11:17:06.836423Z"
    }
   },
   "source": [
    "non_unique_losers={}\n",
    "for year in github:\n",
    "    loser_groups = github[year].groupby('shortened_loser_name')['loser_id'].nunique()\n",
    "    non_unique_loser_names = loser_groups[loser_groups > 1].index.tolist()\n",
    "    non_unique_losers[year] = github[year][github[year]['shortened_loser_name'].isin(non_unique_loser_names)][['shortened_loser_name', 'loser_id']].drop_duplicates()\n",
    "\n",
    "for i in range(2021,2024):\n",
    "    if not non_unique_losers[str(i)].empty:\n",
    "        print(f\"Lata {i} - Przegrani z niejednoznacznymi skróconymi nazwami:\")\n",
    "        print(non_unique_losers[str(i)])"
   ],
   "outputs": [
    {
     "name": "stdout",
     "output_type": "stream",
     "text": [
      "Lata 2021 - Przegrani z niejednoznacznymi skróconymi nazwami:\n",
      "     shortened_loser_name  loser_id\n",
      "448               Nava E.    207182\n",
      "1976              Nava E.    124013\n",
      "Lata 2022 - Przegrani z niejednoznacznymi skróconymi nazwami:\n",
      "     shortened_loser_name  loser_id\n",
      "310             Martin A.    105413\n",
      "1793            Martin A.    211346\n"
     ]
    }
   ],
   "execution_count": 18
  },
  {
   "cell_type": "markdown",
   "metadata": {},
   "source": [
    "105413 - Martin Andrej -> Martin A.\n",
    "211346 - Martin Andres -> Martin An."
   ]
  },
  {
   "cell_type": "markdown",
   "metadata": {},
   "source": [
    "## W celu rozróżnienia zawodników do skrótu imienia jednego z nich dopsujemy drugą literkę imienia"
   ]
  },
  {
   "cell_type": "code",
   "metadata": {
    "ExecuteTime": {
     "end_time": "2024-12-10T11:17:06.853111Z",
     "start_time": "2024-12-10T11:17:06.847605Z"
    }
   },
   "source": [
    "for year in github:\n",
    "    github[year].loc[github[year]['loser_id'] == 124013, 'shortened_loser_name'] = 'Nava Ed.'\n",
    "    github[year].loc[github[year]['loser_id'] == 211346, 'shortened_loser_name'] = 'Martin An.'\n",
    "    github[year].loc[github[year]['winner_id'] == 211346, 'shortened_winner_name'] = 'Martin An.'"
   ],
   "outputs": [],
   "execution_count": 19
  },
  {
   "metadata": {},
   "cell_type": "markdown",
   "source": "## Od razu musimy też wykonać tą samę zmianę w ramce bets"
  },
  {
   "metadata": {
    "ExecuteTime": {
     "end_time": "2024-12-10T11:17:06.860170Z",
     "start_time": "2024-12-10T11:17:06.853111Z"
    }
   },
   "cell_type": "code",
   "source": [
    "bets[\"2023\"].loc[(bets[\"2023\"]['Tournament'] == 'Atlanta Open') & (bets[\"2023\"]['Winner'] == 'Martin A.'), 'Winner'] = 'Martin An.'\n",
    "bets[\"2023\"].loc[(bets[\"2023\"]['Tournament'] == 'Atlanta Open') & (bets[\"2023\"]['Loser'] == 'Martin A.'), 'Loser'] = 'Martin An.'\n",
    "bets[\"2022\"].loc[(bets[\"2022\"]['Tournament'] == 'Atlanta Open') & (bets[\"2022\"]['Winner'] == 'Martin A.'), 'Winner'] = 'Martin An.'\n",
    "bets[\"2022\"].loc[(bets[\"2022\"]['Tournament'] == 'Atlanta Open') & (bets[\"2022\"]['Loser'] == 'Martin A.'), 'Loser'] = 'Martin An.'\n",
    "bets[\"2021\"].loc[(bets[\"2021\"]['tourney_location'] == 'Winston-Salem') & (bets[\"2021\"]['Loser'] == 'Nava E.'), 'Loser'] = 'Nava Ed.'"
   ],
   "outputs": [],
   "execution_count": 20
  },
  {
   "metadata": {
    "ExecuteTime": {
     "end_time": "2024-12-10T11:17:06.865758Z",
     "start_time": "2024-12-10T11:17:06.860170Z"
    }
   },
   "cell_type": "code",
   "source": "check_one_to_one_mapping(github, column_pairs = [('shortened_winner_name', 'winner_id'), ('shortened_loser_name', 'loser_id')], raise_error=True)",
   "outputs": [
    {
     "name": "stdout",
     "output_type": "stream",
     "text": [
      "✅ Year 2021: One-to-one mapping between 'shortened_winner_name' and 'winner_id' is valid.\n",
      "✅ Year 2021: One-to-one mapping between 'shortened_loser_name' and 'loser_id' is valid.\n",
      "✅ Year 2022: One-to-one mapping between 'shortened_winner_name' and 'winner_id' is valid.\n",
      "✅ Year 2022: One-to-one mapping between 'shortened_loser_name' and 'loser_id' is valid.\n",
      "✅ Year 2023: One-to-one mapping between 'shortened_winner_name' and 'winner_id' is valid.\n",
      "✅ Year 2023: One-to-one mapping between 'shortened_loser_name' and 'loser_id' is valid.\n"
     ]
    }
   ],
   "execution_count": 21
  },
  {
   "cell_type": "markdown",
   "metadata": {},
   "source": "### Niektóre imiona i nazwiska ze względu na swoją unikalność lub brak konsekwencji w zapisie musimy zmodyfikować ręcznie"
  },
  {
   "cell_type": "code",
   "metadata": {
    "ExecuteTime": {
     "end_time": "2024-12-10T11:17:06.883098Z",
     "start_time": "2024-12-10T11:17:06.866284Z"
    }
   },
   "source": [
    "github['2023']['shortened_loser_name'] = github['2023']['shortened_loser_name'].replace({\"Meligeni Alves F.\":\"Meligeni Rodrigues F\",\"Arnaud Bailly G.\":\"Bailly G.\",\"Sung Nam J.\":\"Nam J.S.\",\"Chan Hong S.\":\"Hong S.\",\"Fa Rodriguez Taverna S.\":\"Rodriguez Taverna S.\",\"Pucinelli De Almeida M.\":\"Pucinelli de Almeida M.\",\"Alejandro Hernandez Serrano J.\":\"Hernandez A.\",\"Marcel Stebe C.\":\"Stebe C.M.\",\"Martin del Potro J.\":\"Del Potro J.M.\",\"Marco Moroni G.\":\"Moroni G.M.\",\"Tsonga J.\":\"Tsonga J.W.\",\"Ignacio Londero J.\":\"Londero J.I.\",\"Pablo Ficovich J.\":\"Ficovich J.P.\",\"C.H. Tseng\":\"Tseng C.H.\"\n",
    ",\"Oconnell C.\": \"O Connell C.\", \"Elahi Galan D.\": \"Galan D.E.\", \"Auger Aliassime F.\": \"Auger-Aliassime F.\", \"Woo Kwon S.\": \"Kwon S.W.\", \"Barrios Vera T.\": \"Barrios M.\", \"Yunchaokete B.\": \"Bu Y.\", \"Manuel Cerundolo J.\": \"Cerundolo J.M.\", \"Martin Etcheverry T.\": \"Etcheverry T.\", \"Hugues Herbert P.\": \"Herbert P.H.\", \"Hsiou Hsu Y.\": \"Hsu Y.\", \"Andrea Huesler M.\": \"Huesler M.A.\", \"Kuznetsov A.\": \"Kuznetsov An.\", \"Son Kwiatkowski T.\": \"Kwiatkowski T.S.\", \"Li Z.\": \"Li Zh.\", \"Hsin Tseng C.\": \"Tseng C.H.\"\n",
    ", \"Kumar Mukund S.\": \"Mukund S.\", \"Ramos A.\": \"Ramos-Vinolas A.\", \"J Wolf J.\": \"Wolf J.J.\", \"Zhang Z.\": \"Zhang Zh.\", \"Pablo Varillas J.\": \"Varillas J.P.\", \"Lennard Struff J.\": \"Struff J.L.\", \"Lin Wu T.\": \"Wu T.L.\", \"Hans Rehberg M.\": \"Rehberg M.\", \"Mpetshi Perricard G.\": \"Mpetshi G.\", \"Agustin Tirante T.\": \"Tirante T.A.\", \"Alberto Olivieri G.\": \"Olivieri G.\", \"Nicolae Madaras D.\": \"Madaras D.\", \"Cong Mo Y.\": \"Mo Y.\"})\n",
    "github['2022']['shortened_loser_name'] = github['2022']['shortened_loser_name'].replace({\"Meligeni Alves F.\":\"Meligeni Rodrigues F\",\"Arnaud Bailly G.\":\"Bailly G.\",\"Sung Nam J.\":\"Nam J.S.\",\"Chan Hong S.\":\"Hong S.\",\"Fa Rodriguez Taverna S.\":\"Rodriguez Taverna S.\",\"Pucinelli De Almeida M.\":\"Pucinelli de Almeida M.\",\"Alejandro Hernandez Serrano J.\":\"Hernandez A.\",\"Marcel Stebe C.\":\"Stebe C.M.\",\"Martin del Potro J.\":\"Del Potro J.M.\",\"Marco Moroni G.\":\"Moroni G.M.\",\"Tsonga J.\":\"Tsonga J.W.\",\"Ignacio Londero J.\":\"Londero J.I.\",\"Pablo Ficovich J.\":\"Ficovich J.P.\",\"C.H. Tseng\":\"Tseng C.H.\"\n",
    ",\"Oconnell C.\": \"O Connell C.\", \"Elahi Galan D.\": \"Galan D.E.\", \"Auger Aliassime F.\": \"Auger-Aliassime F.\", \"Woo Kwon S.\": \"Kwon S.W.\", \"Barrios Vera T.\": \"Barrios M.\", \"Yunchaokete B.\": \"Bu Y.\", \"Manuel Cerundolo J.\": \"Cerundolo J.M.\", \"Martin Etcheverry T.\": \"Etcheverry T.\", \"Hugues Herbert P.\": \"Herbert P.H.\", \"Hsiou Hsu Y.\": \"Hsu Y.\", \"Andrea Huesler M.\": \"Huesler M.A.\", \"Kuznetsov A.\": \"Kuznetsov An.\", \"Son Kwiatkowski T.\": \"Kwiatkowski T.S.\", \"Li Z.\": \"Li Zh.\", \"Hsin Tseng C.\": \"Tseng C.H.\"\n",
    ", \"Kumar Mukund S.\": \"Mukund S.\", \"Ramos A.\": \"Ramos-Vinolas A.\", \"J Wolf J.\": \"Wolf J.J.\", \"Zhang Z.\": \"Zhang Zh.\", \"Pablo Varillas J.\": \"Varillas J.P.\", \"Lennard Struff J.\": \"Struff J.L.\", \"Lin Wu T.\": \"Wu T.L.\", \"Hans Rehberg M.\": \"Rehberg M.\", \"Mpetshi Perricard G.\": \"Mpetshi G.\", \"Agustin Tirante T.\": \"Tirante T.A.\", \"Alberto Olivieri G.\": \"Olivieri G.\", \"Nicolae Madaras D.\": \"Madaras D.\", \"Cong Mo Y.\": \"Mo Y.\"})\n",
    "github['2021']['shortened_loser_name'] = github['2021']['shortened_loser_name'].replace({\"Patrick Smith J.\":\"Smith J.P.\",\"Shannan Zayid M.\":\"Zayid M.\",\"Hsun Lu Y.\":\"Lu Y.\",\"Aragone J.\":\"Aragone J.C.\",\"Meligeni Alves F.\":\"Meligeni Rodrigues F\",\"Arnaud Bailly G.\":\"Bailly G.\",\"Sung Nam J.\":\"Nam J.S.\",\"Chan Hong S.\":\"Hong S.\",\"Fa Rodriguez Taverna S.\":\"Rodriguez Taverna S.\",\"Pucinelli De Almeida M.\":\"Pucinelli de Almeida M.\",\"Alejandro Hernandez Serrano J.\":\"Hernandez A.\",\"Marcel Stebe C.\":\"Stebe C.M.\",\"Martin del Potro J.\":\"Del Potro J.M.\",\"Marco Moroni G.\":\"Moroni G.M.\",\"Tsonga J.\":\"Tsonga J.W.\",\"Ignacio Londero J.\":\"Londero J.I.\",\"Pablo Ficovich J.\":\"Ficovich J.P.\",\"C.H. Tseng\":\"Tseng C.H.\"\n",
    ",\"Oconnell C.\": \"O Connell C.\", \"Elahi Galan D.\": \"Galan D.E.\", \"Auger Aliassime F.\": \"Auger-Aliassime F.\", \"Woo Kwon S.\": \"Kwon S.W.\", \"Barrios Vera T.\": \"Barrios M.\", \"Yunchaokete B.\": \"Bu Y.\", \"Manuel Cerundolo J.\": \"Cerundolo J.M.\", \"Martin Etcheverry T.\": \"Etcheverry T.\", \"Hugues Herbert P.\": \"Herbert P.H.\", \"Hsiou Hsu Y.\": \"Hsu Y.\", \"Andrea Huesler M.\": \"Huesler M.A.\", \"Kuznetsov A.\": \"Kuznetsov An.\", \"Son Kwiatkowski T.\": \"Kwiatkowski T.S.\", \"Li Z.\": \"Li Zh.\", \"Hsin Tseng C.\": \"Tseng C.H.\"\n",
    ", \"Kumar Mukund S.\": \"Mukund S.\", \"Ramos A.\": \"Ramos-Vinolas A.\", \"J Wolf J.\": \"Wolf J.J.\", \"Zhang Z.\": \"Zhang Zh.\", \"Pablo Varillas J.\": \"Varillas J.P.\", \"Lennard Struff J.\": \"Struff J.L.\", \"Lin Wu T.\": \"Wu T.L.\", \"Hans Rehberg M.\": \"Rehberg M.\", \"Mpetshi Perricard G.\": \"Mpetshi G.\", \"Agustin Tirante T.\": \"Tirante T.A.\", \"Alberto Olivieri G.\": \"Olivieri G.\", \"Nicolae Madaras D.\": \"Madaras D.\", \"Cong Mo Y.\": \"Mo Y.\"})"
   ],
   "outputs": [],
   "execution_count": 22
  },
  {
   "cell_type": "code",
   "metadata": {
    "ExecuteTime": {
     "end_time": "2024-12-10T11:17:06.900536Z",
     "start_time": "2024-12-10T11:17:06.884096Z"
    }
   },
   "source": [
    "github['2023']['shortened_winner_name'] = github['2023']['shortened_winner_name'].replace({\"Varillas J.P.\":\"Varillas J.P.\",\"Meligeni Alves F.\":\"Meligeni Rodrigues F\",\"Arnaud Bailly G.\":\"Bailly G.\",\"Sung Nam J.\":\"Nam J.S.\",\"Chan Hong S.\":\"Hong S.\",\"Fa Rodriguez Taverna S.\":\"Rodriguez Taverna S.\",\"Pucinelli De Almeida M.\":\"Pucinelli de Almeida M.\",\"Alejandro Hernandez Serrano J.\":\"Hernandez A.\",\"Marcel Stebe C.\":\"Stebe C.M.\",\"Martin del Potro J.\":\"Del Potro J.M.\",\"Marco Moroni G.\":\"Moroni G.M.\",\"Tsonga J.\":\"Tsonga J.W.\",\"Ignacio Londero J.\":\"Londero J.I.\",\"Pablo Ficovich J.\":\"Ficovich J.P.\",\"C.H. Tseng\":\"Tseng C.H.\"\n",
    ",\"Oconnell C.\": \"O Connell C.\", \"Elahi Galan D.\": \"Galan D.E.\", \"Auger Aliassime F.\": \"Auger-Aliassime F.\", \"Woo Kwon S.\": \"Kwon S.W.\", \"Barrios Vera T.\": \"Barrios M.\", \"Yunchaokete B.\": \"Bu Y.\", \"Manuel Cerundolo J.\": \"Cerundolo J.M.\", \"Martin Etcheverry T.\": \"Etcheverry T.\", \"Hugues Herbert P.\": \"Herbert P.H.\", \"Hsiou Hsu Y.\": \"Hsu Y.\", \"Andrea Huesler M.\": \"Huesler M.A.\", \"Kuznetsov A.\": \"Kuznetsov An.\", \"Son Kwiatkowski T.\": \"Kwiatkowski T.S.\", \"Li Z.\": \"Li Zh.\", \"Hsin Tseng C.\": \"Tseng C.H.\"\n",
    ", \"Kumar Mukund S.\": \"Mukund S.\", \"Ramos A.\": \"Ramos-Vinolas A.\", \"J Wolf J.\": \"Wolf J.J.\", \"Zhang Z.\": \"Zhang Zh.\", \"Pablo Varillas J.\": \"Varillas J.P.\", \"Lennard Struff J.\": \"Struff J.L.\", \"Lin Wu T.\": \"Wu T.L.\", \"Hans Rehberg M.\": \"Rehberg M.\", \"Mpetshi Perricard G.\": \"Mpetshi G.\", \"Agustin Tirante T.\": \"Tirante T.A.\", \"Alberto Olivieri G.\": \"Olivieri G.\", \"Nicolae Madaras D.\": \"Madaras D.\", \"Cong Mo Y.\": \"Mo Y.\"})\n",
    "github['2022']['shortened_winner_name'] = github['2022']['shortened_winner_name'].replace({\"Varillas J.P.\":\"Varillas J.P.\",\"Meligeni Alves F.\":\"Meligeni Rodrigues F\",\"Pucinelli De Almeida M.\":\"Pucinelli de Almeida M.\",\"Alejandro Hernandez Serrano J.\":\"Hernandez A.\",\"Arnaud Bailly G.\":\"Bailly G.\",\"Sung Nam J.\":\"Nam J.S.\",\"Chan Hong S.\":\"Hong S.\",\"Fa Rodriguez Taverna S.\":\"Rodriguez Taverna S.\",\"Marcel Stebe C.\":\"Stebe C.M.\",\"Martin del Potro J.\":\"Del Potro J.M.\",\"Marco Moroni G.\":\"Moroni G.M.\",\"Tsonga J.\":\"Tsonga J.W.\",\"Ignacio Londero J.\":\"Londero J.I.\",\"Pablo Ficovich J.\":\"Ficovich J.P.\",\"C.H. Tseng\":\"Tseng C.H.\"\n",
    ",\"Oconnell C.\": \"O Connell C.\", \"Elahi Galan D.\": \"Galan D.E.\", \"Auger Aliassime F.\": \"Auger-Aliassime F.\", \"Woo Kwon S.\": \"Kwon S.W.\", \"Barrios Vera T.\": \"Barrios M.\", \"Yunchaokete B.\": \"Bu Y.\", \"Manuel Cerundolo J.\": \"Cerundolo J.M.\", \"Martin Etcheverry T.\": \"Etcheverry T.\", \"Hugues Herbert P.\": \"Herbert P.H.\", \"Hsiou Hsu Y.\": \"Hsu Y.\", \"Andrea Huesler M.\": \"Huesler M.A.\", \"Kuznetsov A.\": \"Kuznetsov An.\", \"Son Kwiatkowski T.\": \"Kwiatkowski T.S.\", \"Li Z.\": \"Li Zh.\", \"Hsin Tseng C.\": \"Tseng C.H.\"\n",
    ", \"Kumar Mukund S.\": \"Mukund S.\", \"Ramos A.\": \"Ramos-Vinolas A.\", \"J Wolf J.\": \"Wolf J.J.\", \"Zhang Z.\": \"Zhang Zh.\", \"Pablo Varillas J.\": \"Varillas J.P.\", \"Lennard Struff J.\": \"Struff J.L.\", \"Lin Wu T.\": \"Wu T.L.\", \"Hans Rehberg M.\": \"Rehberg M.\", \"Mpetshi Perricard G.\": \"Mpetshi G.\", \"Agustin Tirante T.\": \"Tirante T.A.\", \"Alberto Olivieri G.\": \"Olivieri G.\", \"Nicolae Madaras D.\": \"Madaras D.\", \"Cong Mo Y.\": \"Mo Y.\"})\n",
    "github['2021']['shortened_winner_name'] = github['2021']['shortened_winner_name'].replace({\"Varillas J.P.\":\"Varillas J.P.\",\"Patrick Smith J.\":\"Smith J.P.\",\"Shannan Zayid M.\":\"Zayid M.\",\"Hsun Lu Y.\":\"Lu Y.\",\"Aragone J.\":\"Aragone J.C.\",\"Meligeni Alves F.\":\"Meligeni Rodrigues F\",\"Arnaud Bailly G.\":\"Bailly G.\",\"Sung Nam J.\":\"Nam J.S.\",\"Chan Hong S.\":\"Hong S.\",\"Fa Rodriguez Taverna S.\":\"Rodriguez Taverna S.\",\"Pucinelli De Almeida M.\":\"Pucinelli de Almeida M.\",\"Alejandro Hernandez Serrano J.\":\"Hernandez A.\",\"Marcel Stebe C.\":\"Stebe C.M.\",\"Martin del Potro J.\":\"Del Potro J.M.\",\"Marco Moroni G.\":\"Moroni G.M.\",\"Tsonga J.\":\"Tsonga J.W.\",\"Ignacio Londero J.\":\"Londero J.I.\",\"Pablo Ficovich J.\":\"Ficovich J.P.\",\"C.H. Tseng\":\"Tseng C.H.\"\n",
    ",\"Oconnell C.\": \"O Connell C.\", \"Elahi Galan D.\": \"Galan D.E.\", \"Auger Aliassime F.\": \"Auger-Aliassime F.\", \"Woo Kwon S.\": \"Kwon S.W.\", \"Barrios Vera T.\": \"Barrios M.\", \"Yunchaokete B.\": \"Bu Y.\", \"Manuel Cerundolo J.\": \"Cerundolo J.M.\", \"Martin Etcheverry T.\": \"Etcheverry T.\", \"Hugues Herbert P.\": \"Herbert P.H.\", \"Hsiou Hsu Y.\": \"Hsu Y.\", \"Andrea Huesler M.\": \"Huesler M.A.\", \"Kuznetsov A.\": \"Kuznetsov An.\", \"Son Kwiatkowski T.\": \"Kwiatkowski T.S.\", \"Li Z.\": \"Li Zh.\", \"Hsin Tseng C.\": \"Tseng C.H.\"\n",
    ", \"Kumar Mukund S.\": \"Mukund S.\", \"Ramos A.\": \"Ramos-Vinolas A.\", \"J Wolf J.\": \"Wolf J.J.\", \"Zhang Z.\": \"Zhang Zh.\", \"Pablo Varillas J.\": \"Varillas J.P.\", \"Lennard Struff J.\": \"Struff J.L.\", \"Lin Wu T.\": \"Wu T.L.\", \"Hans Rehberg M.\": \"Rehberg M.\", \"Mpetshi Perricard G.\": \"Mpetshi G.\", \"Agustin Tirante T.\": \"Tirante T.A.\", \"Alberto Olivieri G.\": \"Olivieri G.\", \"Nicolae Madaras D.\": \"Madaras D.\", \"Cong Mo Y.\": \"Mo Y.\"})"
   ],
   "outputs": [],
   "execution_count": 23
  },
  {
   "cell_type": "code",
   "metadata": {
    "ExecuteTime": {
     "end_time": "2024-12-10T11:17:06.904537Z",
     "start_time": "2024-12-10T11:17:06.900536Z"
    }
   },
   "source": "bets['2023']['Loser']=bets['2023']['Loser'].replace({\"Meligeni Alves F.\":\"Meligeni Rodrigues F\"})",
   "outputs": [],
   "execution_count": 24
  },
  {
   "cell_type": "code",
   "metadata": {
    "ExecuteTime": {
     "end_time": "2024-12-10T11:17:06.908044Z",
     "start_time": "2024-12-10T11:17:06.904537Z"
    }
   },
   "source": "bets['2023']['Winner']=bets['2023']['Winner'].replace({\"Meligeni Alves F.\":\"Meligeni Rodrigues F\"})",
   "outputs": [],
   "execution_count": 25
  },
  {
   "cell_type": "markdown",
   "metadata": {},
   "source": "## Po poprawkach możemy każdemu zawodnikowi w ramce bets przypisać id"
  },
  {
   "cell_type": "code",
   "metadata": {
    "ExecuteTime": {
     "end_time": "2024-12-10T11:17:06.917898Z",
     "start_time": "2024-12-10T11:17:06.908044Z"
    }
   },
   "source": [
    "for year in github:\n",
    "    map_player_name_player_id = github[year].groupby('shortened_loser_name', as_index=False)[['shortened_loser_name', 'loser_id']].first()\n",
    "    mapping = dict(zip(map_player_name_player_id['shortened_loser_name'], map_player_name_player_id['loser_id']))\n",
    "    bets[year]['loser_id'] = bets[year]['Loser'].map(mapping)\n",
    "    "
   ],
   "outputs": [],
   "execution_count": 26
  },
  {
   "cell_type": "code",
   "metadata": {
    "ExecuteTime": {
     "end_time": "2024-12-10T11:17:06.926398Z",
     "start_time": "2024-12-10T11:17:06.917898Z"
    }
   },
   "source": [
    "for year in github:\n",
    "    map_player_name_player_id = github[year].groupby('shortened_winner_name', as_index=False)[['shortened_winner_name', 'winner_id']].first()\n",
    "    mapping = dict(zip(map_player_name_player_id['shortened_winner_name'], map_player_name_player_id['winner_id']))\n",
    "    bets[year]['winner_id'] = bets[year]['Winner'].map(mapping)"
   ],
   "outputs": [],
   "execution_count": 27
  },
  {
   "metadata": {
    "ExecuteTime": {
     "end_time": "2024-12-10T11:17:06.931904Z",
     "start_time": "2024-12-10T11:17:06.926937Z"
    }
   },
   "cell_type": "code",
   "source": [
    "from test_helpers.preprocessing import check_missing_player_ids\n",
    "\n",
    "check_missing_player_ids(bets)"
   ],
   "outputs": [
    {
     "name": "stdout",
     "output_type": "stream",
     "text": [
      "✅ Year 2021: No missing 'loser_id' or 'winner_id' values found.\n",
      "✅ Year 2022: No missing 'loser_id' or 'winner_id' values found.\n",
      "✅ Year 2023: No missing 'loser_id' or 'winner_id' values found.\n"
     ]
    }
   ],
   "execution_count": 28
  },
  {
   "metadata": {},
   "cell_type": "markdown",
   "source": "### Skoro mamy już wspólne id zawodnika, oraz id turnieju to możemy w obu ramkach zdefiniować wspólne id meczu. Sprawdzamy czy id meczu jest unikalne dla każdego wiersza w ramkach"
  },
  {
   "cell_type": "code",
   "metadata": {
    "ExecuteTime": {
     "end_time": "2024-12-10T11:17:06.946929Z",
     "start_time": "2024-12-10T11:17:06.931904Z"
    }
   },
   "source": [
    "for year in github:\n",
    "    github[year]['match_id'] = github[year]['tourney_location'].astype(str) + '_' + year + '_' + github[year]['winner_id'].astype(str) + '_' + github[year]['loser_id'].astype(str)\n",
    "    bets[year]['match_id'] = bets[year]['tourney_location'].astype(str) + '_' + year + '_' +  bets[year]['winner_id'].astype(str) + '_' + bets[year]['loser_id'].astype(str)"
   ],
   "outputs": [],
   "execution_count": 29
  },
  {
   "cell_type": "code",
   "metadata": {
    "ExecuteTime": {
     "end_time": "2024-12-10T11:17:06.952499Z",
     "start_time": "2024-12-10T11:17:06.947930Z"
    }
   },
   "source": [
    "from test_helpers.preprocessing import check_match_id_uniqueness\n",
    "\n",
    "check_match_id_uniqueness(github, \"github\")\n",
    "check_match_id_uniqueness( bets, \"bets\")"
   ],
   "outputs": [
    {
     "name": "stdout",
     "output_type": "stream",
     "text": [
      "✅ Year 2021: All 'match_id' values are unique in github dataset.\n",
      "✅ Year 2022: All 'match_id' values are unique in github dataset.\n",
      "✅ Year 2023: All 'match_id' values are unique in github dataset.\n",
      "✅ Year 2021: All 'match_id' values are unique in bets dataset.\n",
      "✅ Year 2022: All 'match_id' values are unique in bets dataset.\n",
      "✅ Year 2023: All 'match_id' values are unique in bets dataset.\n"
     ]
    }
   ],
   "execution_count": 30
  },
  {
   "cell_type": "markdown",
   "metadata": {},
   "source": "### W bets 2023 jest źle wpisywany wynik meczu Bu Y. vs Kecmanovic M. w pierwszej rundzie turnieju w Shanghaju., wpisane jest zwycięstwo Kecmanovica a przegrał on ten mecz. Taka sama sytaacja wystąpiła w meczu 1/8 finału pomiędzy Kuzmanov D. a Carbales Baena R. Musimy zamienić ze soba wszystkie kolumny zawierajace wartości dedykowane zwycięzcy/przegranemu"
  },
  {
   "cell_type": "code",
   "metadata": {
    "ExecuteTime": {
     "end_time": "2024-12-09T18:42:21.688115Z",
     "start_time": "2024-12-09T18:42:21.684286Z"
    }
   },
   "source": [
    "def swap_winner_loser_bets(match_ids: [str], df: pd.DataFrame) -> pd.DataFrame:\n",
    "    winner_cols = [col for col in df.columns if col.startswith('W') or col.endswith('W') or col == 'Winner' or col == \"winner_id\"]\n",
    "    loser_cols = [col for col in df.columns if col.startswith('L') or col.endswith('L') or col == 'Loser' or col == \"loser_id\"]\n",
    "    condition = df['match_id'].isin(match_ids)\n",
    "    \n",
    "    if not df[condition].empty:\n",
    "        for w_col, l_col in zip(winner_cols, loser_cols):\n",
    "            df.loc[condition, w_col], df.loc[condition, l_col] = df.loc[condition, l_col].values, df.loc[condition, w_col].values\n",
    "    else:\n",
    "        print(f\"No match found with match_id {match_ids}\")\n",
    "    \n",
    "    return df"
   ],
   "outputs": [],
   "execution_count": 31
  },
  {
   "cell_type": "code",
   "metadata": {
    "ExecuteTime": {
     "end_time": "2024-12-09T18:42:21.701209Z",
     "start_time": "2024-12-09T18:42:21.688115Z"
    }
   },
   "source": [
    "bets['2023'] = swap_winner_loser_bets([\"Marrakech_2023_106220_106148\", \"Shanghai_2023_200175_207352\"], bets['2023'])\n",
    "bets['2023']['match_id'] = bets['2023']['match_id'].replace({\"Marrakech_2023_106220_106148\": \"Marrakech_2023_106148_106220\", \"Shanghai_2023_200175_207352\": \"Shanghai_2023_207352_200175\"})"
   ],
   "outputs": [],
   "execution_count": 32
  },
  {
   "cell_type": "markdown",
   "metadata": {},
   "source": [
    "### Sprawdźmy jeszcze czy sa jakieś mecze, które sa tylko w jednej ramce."
   ]
  },
  {
   "cell_type": "code",
   "metadata": {
    "ExecuteTime": {
     "end_time": "2024-12-10T11:17:15.984103Z",
     "start_time": "2024-12-10T11:17:15.606698Z"
    }
   },
   "source": [
    "from test_helpers.preprocessing import check_match_id_consistency\n",
    "\n",
    "check_match_id_consistency(bets, github, 'bets', 'github')"
   ],
   "outputs": [
    {
     "name": "stdout",
     "output_type": "stream",
     "text": [
      "✅ Year 2021: `match_id` values are consistent between bets and github.\n",
      "✅ Year 2022: `match_id` values are consistent between bets and github.\n"
     ]
    },
    {
     "ename": "ValueError",
     "evalue": "\n            ❌ Year 2023: Mismatch in `match_id` values between bets and github.\n            - `match_id` values in bets but not in github: ['Marrakech_2023_106220_106148', 'Shanghai_2023_200175_207352']\n            - `match_id` values in github but not in bets: ['Marrakech_2023_106148_106220', 'Shanghai_2023_207352_200175']\n            ",
     "output_type": "error",
     "traceback": [
      "\u001B[1;31m---------------------------------------------------------------------------\u001B[0m",
      "\u001B[1;31mValueError\u001B[0m                                Traceback (most recent call last)",
      "Cell \u001B[1;32mIn[31], line 3\u001B[0m\n\u001B[0;32m      1\u001B[0m \u001B[38;5;28;01mfrom\u001B[39;00m \u001B[38;5;21;01mtest_helpers\u001B[39;00m\u001B[38;5;21;01m.\u001B[39;00m\u001B[38;5;21;01mpreprocessing\u001B[39;00m \u001B[38;5;28;01mimport\u001B[39;00m check_match_id_consistency\n\u001B[1;32m----> 3\u001B[0m \u001B[43mcheck_match_id_consistency\u001B[49m\u001B[43m(\u001B[49m\u001B[43mbets\u001B[49m\u001B[43m,\u001B[49m\u001B[43m \u001B[49m\u001B[43mgithub\u001B[49m\u001B[43m,\u001B[49m\u001B[43m \u001B[49m\u001B[38;5;124;43m'\u001B[39;49m\u001B[38;5;124;43mbets\u001B[39;49m\u001B[38;5;124;43m'\u001B[39;49m\u001B[43m,\u001B[49m\u001B[43m \u001B[49m\u001B[38;5;124;43m'\u001B[39;49m\u001B[38;5;124;43mgithub\u001B[39;49m\u001B[38;5;124;43m'\u001B[39;49m\u001B[43m)\u001B[49m\n",
      "File \u001B[1;32mE:\\Pawel\\Studia\\Inzynierka_Git\\src\\test_helpers\\preprocessing.py:135\u001B[0m, in \u001B[0;36mcheck_match_id_consistency\u001B[1;34m(yearly_data_1, yearly_data_2, name1, name2, raise_error)\u001B[0m\n\u001B[0;32m    129\u001B[0m success_message \u001B[38;5;241m=\u001B[39m \u001B[38;5;124mf\u001B[39m\u001B[38;5;124m\"\u001B[39m\u001B[38;5;124m✅ Year \u001B[39m\u001B[38;5;132;01m{\u001B[39;00myear\u001B[38;5;132;01m}\u001B[39;00m\u001B[38;5;124m: `match_id` values are consistent between \u001B[39m\u001B[38;5;132;01m{\u001B[39;00mname1\u001B[38;5;132;01m}\u001B[39;00m\u001B[38;5;124m and \u001B[39m\u001B[38;5;132;01m{\u001B[39;00mname2\u001B[38;5;132;01m}\u001B[39;00m\u001B[38;5;124m.\u001B[39m\u001B[38;5;124m\"\u001B[39m\n\u001B[0;32m    130\u001B[0m error_message \u001B[38;5;241m=\u001B[39m \u001B[38;5;124mf\u001B[39m\u001B[38;5;124m\"\"\"\u001B[39m\n\u001B[0;32m    131\u001B[0m \u001B[38;5;124m    ❌ Year \u001B[39m\u001B[38;5;132;01m{\u001B[39;00myear\u001B[38;5;132;01m}\u001B[39;00m\u001B[38;5;124m: Mismatch in `match_id` values between \u001B[39m\u001B[38;5;132;01m{\u001B[39;00mname1\u001B[38;5;132;01m}\u001B[39;00m\u001B[38;5;124m and \u001B[39m\u001B[38;5;132;01m{\u001B[39;00mname2\u001B[38;5;132;01m}\u001B[39;00m\u001B[38;5;124m.\u001B[39m\n\u001B[0;32m    132\u001B[0m \u001B[38;5;124m    - `match_id` values in \u001B[39m\u001B[38;5;132;01m{\u001B[39;00mname1\u001B[38;5;132;01m}\u001B[39;00m\u001B[38;5;124m but not in \u001B[39m\u001B[38;5;132;01m{\u001B[39;00mname2\u001B[38;5;132;01m}\u001B[39;00m\u001B[38;5;124m: \u001B[39m\u001B[38;5;132;01m{\u001B[39;00mmissing_in_data2\u001B[38;5;241m.\u001B[39mtolist()\u001B[38;5;132;01m}\u001B[39;00m\n\u001B[0;32m    133\u001B[0m \u001B[38;5;124m    - `match_id` values in \u001B[39m\u001B[38;5;132;01m{\u001B[39;00mname2\u001B[38;5;132;01m}\u001B[39;00m\u001B[38;5;124m but not in \u001B[39m\u001B[38;5;132;01m{\u001B[39;00mname1\u001B[38;5;132;01m}\u001B[39;00m\u001B[38;5;124m: \u001B[39m\u001B[38;5;132;01m{\u001B[39;00mmissing_in_data1\u001B[38;5;241m.\u001B[39mtolist()\u001B[38;5;132;01m}\u001B[39;00m\n\u001B[0;32m    134\u001B[0m \u001B[38;5;124m    \u001B[39m\u001B[38;5;124m\"\"\"\u001B[39m\n\u001B[1;32m--> 135\u001B[0m \u001B[43mvalidate_condition\u001B[49m\u001B[43m(\u001B[49m\u001B[43mcondition\u001B[49m\u001B[43m,\u001B[49m\u001B[43m \u001B[49m\u001B[43msuccess_message\u001B[49m\u001B[43m,\u001B[49m\u001B[43m \u001B[49m\u001B[43merror_message\u001B[49m\u001B[43m,\u001B[49m\u001B[43m \u001B[49m\u001B[43mraise_error\u001B[49m\u001B[43m)\u001B[49m\n",
      "File \u001B[1;32mE:\\Pawel\\Studia\\Inzynierka_Git\\src\\test_helpers\\preprocessing.py:9\u001B[0m, in \u001B[0;36mvalidate_condition\u001B[1;34m(condition, success_message, error_message, raise_error)\u001B[0m\n\u001B[0;32m      7\u001B[0m \u001B[38;5;28;01melse\u001B[39;00m:\n\u001B[0;32m      8\u001B[0m     \u001B[38;5;28;01mif\u001B[39;00m raise_error:\n\u001B[1;32m----> 9\u001B[0m         \u001B[38;5;28;01mraise\u001B[39;00m \u001B[38;5;167;01mValueError\u001B[39;00m(error_message)\n\u001B[0;32m     10\u001B[0m     \u001B[38;5;28;01melse\u001B[39;00m:\n\u001B[0;32m     11\u001B[0m         \u001B[38;5;28mprint\u001B[39m(error_message)\n",
      "\u001B[1;31mValueError\u001B[0m: \n            ❌ Year 2023: Mismatch in `match_id` values between bets and github.\n            - `match_id` values in bets but not in github: ['Marrakech_2023_106220_106148', 'Shanghai_2023_200175_207352']\n            - `match_id` values in github but not in bets: ['Marrakech_2023_106148_106220', 'Shanghai_2023_207352_200175']\n            "
     ]
    }
   ],
   "execution_count": 31
  },
  {
   "cell_type": "code",
   "metadata": {
    "ExecuteTime": {
     "end_time": "2024-12-09T18:42:21.901377Z",
     "start_time": "2024-12-09T18:42:21.708062Z"
    }
   },
   "source": [
    "for year in years:\n",
    "    bets[str(year)].to_csv(output_directory +f'bets{year}.csv', index=False)   # noqa\n",
    "    github[str(year)].to_csv(output_directory +f'github{year}.csv', index=False)"
   ],
   "outputs": [],
   "execution_count": 34
  },
  {
   "metadata": {
    "ExecuteTime": {
     "end_time": "2024-12-09T18:42:21.903936Z",
     "start_time": "2024-12-09T18:42:21.901887Z"
    }
   },
   "cell_type": "code",
   "source": "",
   "outputs": [],
   "execution_count": 34
  }
 ],
 "metadata": {
  "kernelspec": {
   "display_name": ".venv",
   "language": "python",
   "name": ".venv"
  },
  "language_info": {
   "codemirror_mode": {
    "name": "ipython",
    "version": 3
   },
   "file_extension": ".py",
   "mimetype": "text/x-python",
   "name": "python",
   "nbconvert_exporter": "python",
   "pygments_lexer": "ipython3",
   "version": "3.12.7"
  }
 },
 "nbformat": 4,
 "nbformat_minor": 2
}
