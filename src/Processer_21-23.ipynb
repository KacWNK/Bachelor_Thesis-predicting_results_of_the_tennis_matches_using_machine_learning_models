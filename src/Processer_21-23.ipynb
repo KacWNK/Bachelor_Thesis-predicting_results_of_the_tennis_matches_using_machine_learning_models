{
 "cells": [
  {
   "cell_type": "code",
   "execution_count": 1,
   "metadata": {},
   "outputs": [],
   "source": [
    "import pandas as pd"
   ]
  },
  {
   "cell_type": "markdown",
   "metadata": {},
   "source": [
    "## Wczytanie danych bets"
   ]
  },
  {
   "cell_type": "code",
   "execution_count": 2,
   "metadata": {},
   "outputs": [
    {
     "name": "stdout",
     "output_type": "stream",
     "text": [
      "Loaded bets_2021 from Raw data/2021.xlsx\n",
      "Loaded bets_2022 from Raw data/2022.xlsx\n",
      "Loaded bets_2023 from Raw data/2023.xlsx\n"
     ]
    }
   ],
   "source": [
    "for year in range(2021, 2024):\n",
    "    file_name=f\"Raw data/{year}.xlsx\"\n",
    "    variable_name=f\"bets_{year}\"\n",
    "    globals()[variable_name] = pd.read_excel(file_name)\n",
    "    print(f\"Loaded {variable_name} from {file_name}\")"
   ]
  },
  {
   "cell_type": "code",
   "execution_count": 3,
   "metadata": {},
   "outputs": [],
   "source": [
    "for i in range(2021,2024):\n",
    "    variable_name=f\"bets_{i}\"\n",
    "    globals()[variable_name].loc[globals()[variable_name][\"Tournament\"] == \"Adelaide International 1\", \"Location\"] = \"Adelaide 1\"\n",
    "    globals()[variable_name].loc[globals()[variable_name][\"Tournament\"] == \"Adelaide International 2\", \"Location\"] = \"Adelaide 2\"\n",
    "    globals()[variable_name][\"Location\"] = globals()[variable_name][\"Location\"].replace({'Dubai ': 'Dubai', 'Belgrade ': 'Belgrade', 'Napoli':'Naples', 'Montreal': 'Toronto'})\n",
    "    globals()[variable_name] = globals()[variable_name][~globals()[variable_name]['Location'].isin(['Turin'])]\n",
    "    globals()[variable_name]['Loser'] = globals()[variable_name]['Loser'].replace({\"Varillas J. P.\": \"Varillas J.P.\", \"Tseng C. H.\": \"Tseng C.H.\"})\n",
    "    globals()[variable_name]['Winner'] = globals()[variable_name]['Winner'].replace({\"Varillas J. P.\": \"Varillas J.P.\", \"Tseng C. H.\": \"Tseng C.H.\"})\n",
    "    globals()[variable_name] = globals()[variable_name][~globals()[variable_name]['Tournament'].isin(['United Cup', 'Tour Finals', 'NextGen Finals','Tokyo Olympics','Atp Cup', 'Great Ocean Road Open', 'Murray River Open',\n",
    "     'Laver Cup', 'Melbourne Summer Set'])]\n",
    "    globals()[variable_name].loc[globals()[variable_name]['Tournament']== 'BNP Paribas Masters', 'Location']='Paris 2'\n",
    "    globals()[variable_name].loc[globals()[variable_name]['Tournament']== 'Belgrade Open', 'Location']='Belgrade 2'\n",
    "    \n",
    "    "
   ]
  },
  {
   "cell_type": "code",
   "execution_count": 4,
   "metadata": {},
   "outputs": [],
   "source": [
    "bets_2022.loc[(bets_2022['Tournament'] == 'Atlanta Open') & (bets_2022['Winner'] == 'Martin A.'), 'Winner'] = 'Martin An.'\n",
    "bets_2022.loc[(bets_2022['Tournament'] == 'Atlanta Open') & (bets_2022['Loser'] == 'Martin A.'), 'Loser'] = 'Martin An.'"
   ]
  },
  {
   "cell_type": "code",
   "execution_count": 5,
   "metadata": {},
   "outputs": [],
   "source": [
    "for i in range(2021,2024):\n",
    "    variable_name=f\"bets_{i}\"\n",
    "    globals()[variable_name].rename(columns={'Location': 'tourney_location'}, inplace=True)\n",
    "    globals()[variable_name].reset_index(drop=True, inplace=True)"
   ]
  },
  {
   "cell_type": "code",
   "execution_count": 5,
   "metadata": {},
   "outputs": [
    {
     "name": "stdout",
     "output_type": "stream",
     "text": [
      "rok2021 Index(['ATP', 'tourney_location', 'Tournament', 'Date', 'Series', 'Court',\n",
      "       'Surface', 'Round', 'Best of', 'Winner', 'Loser', 'WRank', 'LRank',\n",
      "       'WPts', 'LPts', 'W1', 'L1', 'W2', 'L2', 'W3', 'L3', 'W4', 'L4', 'W5',\n",
      "       'L5', 'Wsets', 'Lsets', 'Comment', 'B365W', 'B365L', 'PSW', 'PSL',\n",
      "       'MaxW', 'MaxL', 'AvgW', 'AvgL'],\n",
      "      dtype='object')\n",
      "rok2022 Index(['ATP', 'tourney_location', 'Tournament', 'Date', 'Series', 'Court',\n",
      "       'Surface', 'Round', 'Best of', 'Winner', 'Loser', 'WRank', 'LRank',\n",
      "       'WPts', 'LPts', 'W1', 'L1', 'W2', 'L2', 'W3', 'L3', 'W4', 'L4', 'W5',\n",
      "       'L5', 'Wsets', 'Lsets', 'Comment', 'B365W', 'B365L', 'PSW', 'PSL',\n",
      "       'MaxW', 'MaxL', 'AvgW', 'AvgL'],\n",
      "      dtype='object')\n",
      "rok2023 Index(['ATP', 'tourney_location', 'Tournament', 'Date', 'Series', 'Court',\n",
      "       'Surface', 'Round', 'Best of', 'Winner', 'Loser', 'WRank', 'LRank',\n",
      "       'WPts', 'LPts', 'W1', 'L1', 'W2', 'L2', 'W3', 'L3', 'W4', 'L4', 'W5',\n",
      "       'L5', 'Wsets', 'Lsets', 'Comment', 'B365W', 'B365L', 'PSW', 'PSL',\n",
      "       'MaxW', 'MaxL', 'AvgW', 'AvgL'],\n",
      "      dtype='object')\n"
     ]
    }
   ],
   "source": [
    "for i in range(2021,2024):\n",
    "    variable_name=f\"bets_{i}\"\n",
    "    print(f\"rok{i} {globals()[variable_name].columns}\")"
   ]
  },
  {
   "cell_type": "markdown",
   "metadata": {},
   "source": [
    "## ZBIORY RÓŻNIĄ SIĘ BUKMACHERAMI, DLATEGO ZBIERAMY WSZYSTKIE UNIKATOWE NAZWY BUKMACHEROW I UPEWNIAMY SIE, ŻE KAŻDY ZBIÓR MA KAŻDEGO BUKMACHERA POPRZEZ DODANIE KOLUMNY, WARTOŚCI DLA NOWO DODANEJ KOLUMNY SĄ NAN"
   ]
  },
  {
   "cell_type": "code",
   "execution_count": 6,
   "metadata": {},
   "outputs": [],
   "source": [
    "for i in range(2021, 2024):\n",
    "    variable_name = f\"bets_{i}\"\n",
    "    variable_name_bookmakers = f\"bets_{i}_bookmakers\"\n",
    "    globals()[variable_name_bookmakers] = globals()[variable_name].copy()\n",
    "    \n",
    "    columns_to_drop = ['ATP', 'tourney_location', 'Tournament', 'Date', 'Series', 'Court', 'Surface',\n",
    "                       'Round', 'Best of', 'Winner', 'Loser', 'WRank', 'LRank', 'W1', 'L1',\n",
    "                       'W2', 'L2', 'W3', 'L3', 'W4', 'L4', 'W5', 'L5', 'Wsets', 'Lsets',\n",
    "                       'Comment']\n",
    "    \n",
    "    globals()[variable_name_bookmakers] = globals()[variable_name_bookmakers].drop(columns=columns_to_drop)\n",
    "    "
   ]
  },
  {
   "cell_type": "markdown",
   "metadata": {},
   "source": [
    "## ZEBRANIE WSZYSTKICH UNIKALNYCH NAZW BUKMACHERÓW"
   ]
  },
  {
   "cell_type": "code",
   "execution_count": 7,
   "metadata": {},
   "outputs": [],
   "source": [
    "unique_columns = set()\n",
    "for i in range(2021, 2024):\n",
    "    variable_name_bookmakers = f\"bets_{i}_bookmakers\"\n",
    "    if variable_name_bookmakers in globals() and isinstance(globals()[variable_name_bookmakers], pd.DataFrame):\n",
    "        unique_columns.update(globals()[variable_name_bookmakers].columns)\n"
   ]
  },
  {
   "cell_type": "markdown",
   "metadata": {},
   "source": [
    "## UZUPEŁNIENIE BRAKUJĄCYCH KOLUMN W bets_{rok} I USTAWIENIE WARTOŚCI NA NAN"
   ]
  },
  {
   "cell_type": "code",
   "execution_count": 8,
   "metadata": {},
   "outputs": [],
   "source": [
    "for i in range(2021, 2024):\n",
    "    variable_name = f\"bets_{i}\"\n",
    "    if variable_name in globals() and isinstance(globals()[variable_name], pd.DataFrame):\n",
    "        missing_columns = unique_columns.difference(globals()[variable_name].columns)\n",
    "        for column in missing_columns:\n",
    "            globals()[variable_name][column] = None"
   ]
  },
  {
   "cell_type": "code",
   "execution_count": 9,
   "metadata": {},
   "outputs": [
    {
     "data": {
      "text/plain": [
       "Index(['ATP', 'tourney_location', 'Tournament', 'Date', 'Series', 'Court',\n",
       "       'Surface', 'Round', 'Best of', 'Winner', 'Loser', 'WRank', 'LRank',\n",
       "       'WPts', 'LPts', 'W1', 'L1', 'W2', 'L2', 'W3', 'L3', 'W4', 'L4', 'W5',\n",
       "       'L5', 'Wsets', 'Lsets', 'Comment', 'B365W', 'B365L', 'PSW', 'PSL',\n",
       "       'MaxW', 'MaxL', 'AvgW', 'AvgL'],\n",
       "      dtype='object')"
      ]
     },
     "execution_count": 9,
     "metadata": {},
     "output_type": "execute_result"
    }
   ],
   "source": [
    "bets_2021.columns"
   ]
  },
  {
   "cell_type": "markdown",
   "metadata": {},
   "source": [
    "## PONIŻSZA FUNKCJA NIE MA ŻADNEGO OUTPUTU, TZN ŻE WSZYSTKO JEST W PORZĄDKU I DANE MOŻNA ZMERGOWAĆ"
   ]
  },
  {
   "cell_type": "code",
   "execution_count": 10,
   "metadata": {},
   "outputs": [],
   "source": [
    "for i in range(2021, 2024):\n",
    "    variable_name=f\"bets_{i}\"\n",
    "    columns=set(globals()[variable_name].columns)\n",
    "    for j in range(i+1, 2024):\n",
    "        variable_name_2=f\"bets_{j}\"\n",
    "        if columns != set(globals()[variable_name_2].columns):\n",
    "            print(f\"Rok: {i} niezgodny z rokiem {j}\")"
   ]
  },
  {
   "cell_type": "markdown",
   "metadata": {},
   "source": [
    "## Wczytanie danych github"
   ]
  },
  {
   "cell_type": "code",
   "execution_count": 6,
   "metadata": {},
   "outputs": [
    {
     "name": "stdout",
     "output_type": "stream",
     "text": [
      "Loaded github_2021 from Raw data/atp_matches_2021.csv\n",
      "Loaded github_2022 from Raw data/atp_matches_2022.csv\n",
      "Loaded github_2023 from Raw data/atp_matches_2023.csv\n"
     ]
    }
   ],
   "source": [
    "for i in range(2021, 2024):\n",
    "    variable_name=f\"github_{i}\"\n",
    "    file_name = f\"Raw data/atp_matches_{i}.csv\"\n",
    "    globals()[variable_name] = pd.read_csv(file_name)\n",
    "    print(f\"Loaded {variable_name} from {file_name}\")"
   ]
  },
  {
   "cell_type": "markdown",
   "metadata": {},
   "source": [
    "## wszystkie zbiory mają jednakowe kolumny :))"
   ]
  },
  {
   "cell_type": "code",
   "execution_count": 12,
   "metadata": {},
   "outputs": [
    {
     "name": "stdout",
     "output_type": "stream",
     "text": [
      "0\n"
     ]
    }
   ],
   "source": [
    "k=0\n",
    "for i in range(2021, 2024):\n",
    "    variable_name=f\"github_{i}\"\n",
    "    columns=set(globals()[variable_name].columns)\n",
    "    for j in range(i+1, 2024):\n",
    "        variable_name_2=f\"github_{j}\"\n",
    "        if columns != set(globals()[variable_name_2].columns):\n",
    "            print(f\"Rok: {i} niezgodny z rokiem {j}\")\n",
    "            k+=1\n",
    "print(k)"
   ]
  },
  {
   "cell_type": "markdown",
   "metadata": {},
   "source": [
    "### Zgodnie z założeniami usuwamy Finals, NextGen Finals, United Cup oraz mecze Davis Cup"
   ]
  },
  {
   "cell_type": "code",
   "execution_count": 7,
   "metadata": {},
   "outputs": [],
   "source": [
    "for i in range(2021, 2024):\n",
    "    variable_name=f\"github_{i}\"\n",
    "    globals()[variable_name]=globals()[variable_name][~globals()[variable_name]['tourney_name'].str.contains('Davis Cup', na=False)]\n",
    "    globals()[variable_name] = globals()[variable_name][~globals()[variable_name]['tourney_name'].isin(['United Cup', 'Tour Finals', 'NextGen Finals','Tokyo Olympics','Atp Cup', 'Great Ocean Road Open', 'Murray River Open',\n",
    "  'Laver Cup','Melbourne Summer Set', 'Melbourne'])]\n",
    "    globals()[variable_name][\"tourney_name\"] = globals()[variable_name][\"tourney_name\"].replace({'Belgrade ': 'Belgrade'})\n",
    "    \n",
    "    "
   ]
  },
  {
   "cell_type": "markdown",
   "metadata": {},
   "source": [
    "### W tej ramce kolumna 'tourney_name' to dla większości turniejów lokalizacja turnieju a nie jego nazwa, a potrzebujemy żeby nazwa turnieju była taka jak w ramce bets. Dla turniejów, dla których 'tourney_name' to nie lokalizacja, ręcznie wpisujemy lokalizację"
   ]
  },
  {
   "cell_type": "code",
   "execution_count": 8,
   "metadata": {},
   "outputs": [],
   "source": [
    "for i in range(2021, 2024):\n",
    "    variable_name=f\"github_{i}\"\n",
    "    globals()[variable_name].rename(columns={'tourney_name': 'tourney_location'}, inplace=True)\n",
    "    globals()[variable_name]['tourney_location'] = globals()[variable_name]['tourney_location'].replace({\"Australian Open\": \"Melbourne\", \"Indian Wells Masters\": \"Indian Wells\", \"Miami Masters\": \"Miami\", \"Monte Carlo Masters\": \"Monte Carlo\", \"Madrid Masters\": \"Madrid\", \"Rome Masters\": \"Rome\", \"Roland Garros\": \"Paris\", \"s Hertogenbosch\": \"'s-Hertogenbosch\", \"Queen's Club\": \"Queens Club\", \"Wimbledon\": \"London\", \"Canada Masters\": \"Toronto\", \"Cincinnati Masters\": \"Cincinnati\", \"Us Open\": \"New York\", \"Astana\": \"Nur-Sultan\", \"Shanghai Masters\": \"Shanghai\", \"Paris Masters\": \"Paris 2\", \"Rio De Janeiro\": \"Rio de Janeiro\"})"
   ]
  },
  {
   "cell_type": "markdown",
   "metadata": {},
   "source": [
    "## Po sprawdzeniu danych historycznych wykryliśmy błędy "
   ]
  },
  {
   "cell_type": "code",
   "execution_count": 9,
   "metadata": {},
   "outputs": [],
   "source": [
    "github_2023['loser_name'] = github_2023['loser_name'].replace('Eduardo Nava', 'Emilio Nava')\n",
    "github_2023['loser_id'] = github_2023['loser_id'].replace(124013, 207182)\n",
    "github_2021['loser_name'] = github_2021['loser_name'].replace('Eduardo Nava', 'Emilio Nava')\n",
    "github_2021['loser_id'] = github_2021['loser_id'].replace(124013, 207182)\n",
    "#github_2022['loser_name']=github_2022['loser_name'].replace('Andres Martin', 'Andrej Martin')\n",
    "#github_2022['loser_id']=github_2022['loser_id'].replace(211346,105413)\n"
   ]
  },
  {
   "cell_type": "markdown",
   "metadata": {},
   "source": [
    "### Sprawdzamy, że utworzona przez nas kolumnna 'tourney_location' odpowiada kolumnie 'tourney_location' w ramce bets"
   ]
  },
  {
   "cell_type": "code",
   "execution_count": 10,
   "metadata": {},
   "outputs": [
    {
     "name": "stdout",
     "output_type": "stream",
     "text": [
      "[]\n",
      "[]\n",
      "[]\n",
      "[]\n",
      "[]\n",
      "[]\n"
     ]
    }
   ],
   "source": [
    "for i in range(2021, 2024):\n",
    "    variable_name=f\"github_{i}\"\n",
    "    variable_name_2=f\"bets_{i}\"\n",
    "    print(globals()[variable_name][~globals()[variable_name]['tourney_location'].isin(globals()[variable_name_2]['tourney_location'])]['tourney_location'].unique())\n",
    "    print(globals()[variable_name_2][~globals()[variable_name_2]['tourney_location'].isin(globals()[variable_name]['tourney_location'])]['tourney_location'].unique())\n",
    "    "
   ]
  },
  {
   "cell_type": "markdown",
   "metadata": {},
   "source": [
    "### Dzięki temu możemy zamienić wartości kolumny 'tourney_level' na wartości kolumny 'Series' z ramki bets. Dziwne określenie rangi turnieju za pomoca literek zmieniamy na standardowe rangi ATP250, ATP500 etc. Ręcznie musimy jedynie poprawić turniej Masters 1000 w Paryżu, gdyż również w Paryżu odbywa się turniej rangi Grand Slam."
   ]
  },
  {
   "cell_type": "code",
   "execution_count": 17,
   "metadata": {},
   "outputs": [],
   "source": [
    "# for year in range(2021, 2024):\n",
    "#     github_name = f\"github_{year}\"\n",
    "#     bets_name = f\"bets_{year}\"\n",
    "    \n",
    "#     github_df = globals()[github_name]\n",
    "#     bets_df = globals()[bets_name]\n",
    "    \n",
    "#     merged_df = github_df.merge(bets_df[['tourney_location', 'Series']], on='tourney_location', how='left')\n",
    "#     github_df['tourney_level'] = merged_df['Series']\n",
    "#     globals()[github_name] = github_df"
   ]
  },
  {
   "cell_type": "markdown",
   "metadata": {},
   "source": [
    "## to działa "
   ]
  },
  {
   "cell_type": "code",
   "execution_count": 11,
   "metadata": {},
   "outputs": [],
   "source": [
    "for i in range(2021, 2024):\n",
    "    github_name = f\"github_{i}\"\n",
    "    bets_name = f\"bets_{i}\"\n",
    "    \n",
    "    github_df = globals()[github_name]\n",
    "    bets_df = globals()[bets_name]\n",
    "    df2=bets_df.drop_duplicates(subset='tourney_location', keep='first')\n",
    "\n",
    "    merged_df = pd.merge(github_df, df2[['tourney_location', 'Series']], on='tourney_location', how='left')\n",
    "    merged_df['tourney_level'] = merged_df['Series']\n",
    "    merged_df = merged_df.drop(columns=['Series'])\n",
    "    globals()[github_name]=merged_df\n",
    "    "
   ]
  },
  {
   "cell_type": "markdown",
   "metadata": {},
   "source": [
    "### Możemy teraz stworzyć w obu ramkach klucz 'tournament_id', który jest połaczeniem 'tourney_location' oraz 'tourney_level' i jednoznacznie określa turniej"
   ]
  },
  {
   "cell_type": "code",
   "execution_count": 12,
   "metadata": {},
   "outputs": [],
   "source": [
    "for i in range(2021,2024):\n",
    "    variable_name=f\"github_{i}\"\n",
    "    variable_name_2=f\"bets_{i}\"\n",
    "    globals()[variable_name]['tournament_id']=globals()[variable_name]['tourney_location'].astype(str)+ '_' + globals()[variable_name]['tourney_level'].astype(str)+ '_' + str(i)\n",
    "    globals()[variable_name_2]['tournament_id']=globals()[variable_name_2]['tourney_location'].astype(str)+ '_' + globals()[variable_name_2]['Series'].astype(str)+ '_' + str(i)\n",
    "    "
   ]
  },
  {
   "cell_type": "markdown",
   "metadata": {},
   "source": [
    "### Sprawdzamy czy w obu ramkach mamy te same klucze turnieju"
   ]
  },
  {
   "cell_type": "code",
   "execution_count": 13,
   "metadata": {},
   "outputs": [
    {
     "name": "stdout",
     "output_type": "stream",
     "text": [
      "[]\n",
      "[]\n",
      "[]\n",
      "[]\n",
      "[]\n",
      "[]\n"
     ]
    }
   ],
   "source": [
    "for i in range(2021, 2024):\n",
    "    variable_name=f\"github_{i}\"\n",
    "    variable_name_2=f\"bets_{i}\"\n",
    "    print(globals()[variable_name][~globals()[variable_name]['tournament_id'].isin(globals()[variable_name_2]['tournament_id'])]['tournament_id'].unique())\n",
    "    print(globals()[variable_name_2][~globals()[variable_name_2]['tournament_id'].isin(globals()[variable_name]['tournament_id'])]['tournament_id'].unique())"
   ]
  },
  {
   "cell_type": "markdown",
   "metadata": {},
   "source": [
    "### Potrzebujemy mieć takie same nazwy zawodników w obu ramkach, aby dodać do ramki bets id zawodnika z ramki github. Aktualnie w ramce bets nazwa zawodnika jest w formacie typu Djokovic N. a w ramce github w formacie typu Novak Djokovic, dlatego musimy stworzyć nazwy zawodników w skróconym w formacie w ramce github."
   ]
  },
  {
   "cell_type": "code",
   "execution_count": 14,
   "metadata": {},
   "outputs": [],
   "source": [
    "def transform_name(name):\n",
    "    name_parts = name.split()\n",
    "    first_name = name_parts[0]\n",
    "    last_name = ' '.join(name_parts[1:])\n",
    "    return f\"{last_name} {first_name[0]}.\""
   ]
  },
  {
   "cell_type": "code",
   "execution_count": 15,
   "metadata": {},
   "outputs": [],
   "source": [
    "for i in range(2021, 2024):\n",
    "    variable_name=f\"github_{i}\"\n",
    "    globals()[variable_name]['shortened_winner_name']=globals()[variable_name]['winner_name'].apply(transform_name)\n",
    "    globals()[variable_name]['shortened_loser_name']=globals()[variable_name]['loser_name'].apply(transform_name)"
   ]
  },
  {
   "cell_type": "markdown",
   "metadata": {},
   "source": [
    "### Sprawdzamy czy skrócona nazwa zawodnika jednoznacznie określa zawodnika"
   ]
  },
  {
   "cell_type": "code",
   "execution_count": 19,
   "metadata": {},
   "outputs": [
    {
     "name": "stdout",
     "output_type": "stream",
     "text": [
      "True\n",
      "True\n",
      "True\n",
      "True\n",
      "True\n",
      "True\n"
     ]
    }
   ],
   "source": [
    "for i in range(2021, 2024):\n",
    "    variable_name=f\"github_{i}\"\n",
    "    print(globals()[variable_name]['shortened_winner_name'].nunique() == globals()[variable_name]['winner_id'].nunique())\n",
    "    print(globals()[variable_name]['shortened_loser_name'].nunique() == globals()[variable_name]['loser_id'].nunique())"
   ]
  },
  {
   "cell_type": "markdown",
   "metadata": {},
   "source": [
    "## Zobaczmy, którzy zawodnicy nie są jednoznacznie określeni przez skróconą nazwę"
   ]
  },
  {
   "cell_type": "code",
   "execution_count": 20,
   "metadata": {},
   "outputs": [],
   "source": [
    "non_unique_losers={}\n",
    "for i in range(2021,2024):\n",
    "    variable_name=f\"github_{i}\"\n",
    "    loser_groups = globals()[variable_name].groupby('shortened_loser_name')['loser_id'].nunique()\n",
    "    non_unique_loser_names = loser_groups[loser_groups > 1].index.tolist()\n",
    "    non_unique_losers[i] = globals()[variable_name][globals()[variable_name]['shortened_loser_name'].isin(non_unique_loser_names)][['shortened_loser_name', 'loser_id']].drop_duplicates()\n",
    "\n",
    "for i in range(2021,2024):\n",
    "    if not non_unique_losers[i].empty:\n",
    "        print(f\"Lata {i} - Przegrani z niejednoznacznymi skróconymi nazwami:\")\n",
    "        print(non_unique_losers[i])"
   ]
  },
  {
   "cell_type": "markdown",
   "metadata": {},
   "source": [
    "105413- Martin andrej"
   ]
  },
  {
   "cell_type": "markdown",
   "metadata": {},
   "source": [
    "## W celu rozróżnienia zawodników do skrótu imienia jednego z nich dopsujemy drugą literkę imienia"
   ]
  },
  {
   "cell_type": "code",
   "execution_count": 18,
   "metadata": {},
   "outputs": [],
   "source": [
    "for i in range(2021, 2024):\n",
    "   variable_name=f\"github_{i}\"\n",
    "   globals()[variable_name].loc[globals()[variable_name]['loser_id'] == 124013, 'shortened_loser_name'] = 'Nava Ed.'\n",
    "for i in range(2021, 2023):\n",
    "   variable_name=f\"github_{i}\"\n",
    "   globals()[variable_name].loc[globals()[variable_name]['loser_id'] == 211346, 'shortened_loser_name'] = 'Martin An.'\n",
    "   globals()[variable_name].loc[globals()[variable_name]['winner_id'] == 211346, 'shortened_winner_name'] = 'Martin An.'"
   ]
  },
  {
   "cell_type": "markdown",
   "metadata": {},
   "source": [
    "### Możemy teraz przypisać do zawodników w ramce bets id zawodnika pozyskane z ramki github. Sprawdzamy czy do jakiegoś zawodnika nie zostało przypisany id."
   ]
  },
  {
   "cell_type": "code",
   "execution_count": 21,
   "metadata": {},
   "outputs": [],
   "source": [
    "github_2023['shortened_loser_name'] = github_2023['shortened_loser_name'].replace({\"Meligeni Alves F.\":\"Meligeni Rodrigues F\",\"Arnaud Bailly G.\":\"Bailly G.\",\"Sung Nam J.\":\"Nam J.S.\",\"Chan Hong S.\":\"Hong S.\",\"Fa Rodriguez Taverna S.\":\"Rodriguez Taverna S.\",\"Pucinelli De Almeida M.\":\"Pucinelli de Almeida M.\",\"Alejandro Hernandez Serrano J.\":\"Hernandez A.\",\"Marcel Stebe C.\":\"Stebe C.M.\",\"Martin del Potro J.\":\"Del Potro J.M.\",\"Marco Moroni G.\":\"Moroni G.M.\",\"Tsonga J.\":\"Tsonga J.W.\",\"Ignacio Londero J.\":\"Londero J.I.\",\"Pablo Varillas J.\":\"Varillas J. P.\",\"Pablo Ficovich J.\":\"Ficovich J.P.\",\"C.H. Tseng\":\"Tseng C. H.\",\"Oconnell C.\": \"O Connell C.\", \"Elahi Galan D.\": \"Galan D.E.\", \"Auger Aliassime F.\": \"Auger-Aliassime F.\", \"Woo Kwon S.\": \"Kwon S.W.\", \"Barrios Vera T.\": \"Barrios M.\", \"Yunchaokete B.\": \"Bu Y.\", \"Manuel Cerundolo J.\": \"Cerundolo J.M.\", \"Martin Etcheverry T.\": \"Etcheverry T.\", \"Hugues Herbert P.\": \"Herbert P.H.\", \"Hsiou Hsu Y.\": \"Hsu Y.\", \"Andrea Huesler M.\": \"Huesler M.A.\", \"Kuznetsov A.\": \"Kuznetsov An.\", \"Son Kwiatkowski T.\": \"Kwiatkowski T.S.\", \"Li Z.\": \"Li Zh.\", \"Hsin Tseng C.\": \"Tseng C. H.\", \"Kumar Mukund S.\": \"Mukund S.\", \"Ramos A.\": \"Ramos-Vinolas A.\", \"J Wolf J.\": \"Wolf J.J.\", \"Zhang Z.\": \"Zhang Zh.\", \"Pablo Varillas J.\": \"Varillas J. P.\", \"Lennard Struff J.\": \"Struff J.L.\", \"Lin Wu T.\": \"Wu T.L.\", \"Hans Rehberg M.\": \"Rehberg M.\", \"Mpetshi Perricard G.\": \"Mpetshi G.\", \"Agustin Tirante T.\": \"Tirante T.A.\", \"Alberto Olivieri G.\": \"Olivieri G.\", \"Nicolae Madaras D.\": \"Madaras D.\", \"Cong Mo Y.\": \"Mo Y.\"})\n",
    "github_2022['shortened_loser_name'] = github_2022['shortened_loser_name'].replace({\"Meligeni Alves F.\":\"Meligeni Rodrigues F\",\"Arnaud Bailly G.\":\"Bailly G.\",\"Sung Nam J.\":\"Nam J.S.\",\"Chan Hong S.\":\"Hong S.\",\"Fa Rodriguez Taverna S.\":\"Rodriguez Taverna S.\",\"Pucinelli De Almeida M.\":\"Pucinelli de Almeida M.\",\"Alejandro Hernandez Serrano J.\":\"Hernandez A.\",\"Marcel Stebe C.\":\"Stebe C.M.\",\"Martin del Potro J.\":\"Del Potro J.M.\",\"Marco Moroni G.\":\"Moroni G.M.\",\"Tsonga J.\":\"Tsonga J.W.\",\"Ignacio Londero J.\":\"Londero J.I.\",\"Pablo Varillas J.\":\"Varillas J. P.\",\"Pablo Ficovich J.\":\"Ficovich J.P.\",\"C.H. Tseng\":\"Tseng C. H.\",\"Oconnell C.\": \"O Connell C.\", \"Elahi Galan D.\": \"Galan D.E.\", \"Auger Aliassime F.\": \"Auger-Aliassime F.\", \"Woo Kwon S.\": \"Kwon S.W.\", \"Barrios Vera T.\": \"Barrios M.\", \"Yunchaokete B.\": \"Bu Y.\", \"Manuel Cerundolo J.\": \"Cerundolo J.M.\", \"Martin Etcheverry T.\": \"Etcheverry T.\", \"Hugues Herbert P.\": \"Herbert P.H.\", \"Hsiou Hsu Y.\": \"Hsu Y.\", \"Andrea Huesler M.\": \"Huesler M.A.\", \"Kuznetsov A.\": \"Kuznetsov An.\", \"Son Kwiatkowski T.\": \"Kwiatkowski T.S.\", \"Li Z.\": \"Li Zh.\", \"Hsin Tseng C.\": \"Tseng C. H.\", \"Kumar Mukund S.\": \"Mukund S.\", \"Ramos A.\": \"Ramos-Vinolas A.\", \"J Wolf J.\": \"Wolf J.J.\", \"Zhang Z.\": \"Zhang Zh.\", \"Pablo Varillas J.\": \"Varillas J. P.\", \"Lennard Struff J.\": \"Struff J.L.\", \"Lin Wu T.\": \"Wu T.L.\", \"Hans Rehberg M.\": \"Rehberg M.\", \"Mpetshi Perricard G.\": \"Mpetshi G.\", \"Agustin Tirante T.\": \"Tirante T.A.\", \"Alberto Olivieri G.\": \"Olivieri G.\", \"Nicolae Madaras D.\": \"Madaras D.\", \"Cong Mo Y.\": \"Mo Y.\"})\n",
    "github_2021['shortened_loser_name'] = github_2021['shortened_loser_name'].replace({\"Patrick Smith J.\":\"Smith J.P.\",\"Shannan Zayid M.\":\"Zayid M.\",\"Hsun Lu Y.\":\"Lu Y.\",\"Aragone J.\":\"Aragone J.C.\",\"Meligeni Alves F.\":\"Meligeni Rodrigues F\",\"Arnaud Bailly G.\":\"Bailly G.\",\"Sung Nam J.\":\"Nam J.S.\",\"Chan Hong S.\":\"Hong S.\",\"Fa Rodriguez Taverna S.\":\"Rodriguez Taverna S.\",\"Pucinelli De Almeida M.\":\"Pucinelli de Almeida M.\",\"Alejandro Hernandez Serrano J.\":\"Hernandez A.\",\"Marcel Stebe C.\":\"Stebe C.M.\",\"Martin del Potro J.\":\"Del Potro J.M.\",\"Marco Moroni G.\":\"Moroni G.M.\",\"Tsonga J.\":\"Tsonga J.W.\",\"Ignacio Londero J.\":\"Londero J.I.\",\"Pablo Varillas J.\":\"Varillas J. P.\",\"Pablo Ficovich J.\":\"Ficovich J.P.\",\"C.H. Tseng\":\"Tseng C. H.\",\"Oconnell C.\": \"O Connell C.\", \"Elahi Galan D.\": \"Galan D.E.\", \"Auger Aliassime F.\": \"Auger-Aliassime F.\", \"Woo Kwon S.\": \"Kwon S.W.\", \"Barrios Vera T.\": \"Barrios M.\", \"Yunchaokete B.\": \"Bu Y.\", \"Manuel Cerundolo J.\": \"Cerundolo J.M.\", \"Martin Etcheverry T.\": \"Etcheverry T.\", \"Hugues Herbert P.\": \"Herbert P.H.\", \"Hsiou Hsu Y.\": \"Hsu Y.\", \"Andrea Huesler M.\": \"Huesler M.A.\", \"Kuznetsov A.\": \"Kuznetsov An.\", \"Son Kwiatkowski T.\": \"Kwiatkowski T.S.\", \"Li Z.\": \"Li Zh.\", \"Hsin Tseng C.\": \"Tseng C. H.\", \"Kumar Mukund S.\": \"Mukund S.\", \"Ramos A.\": \"Ramos-Vinolas A.\", \"J Wolf J.\": \"Wolf J.J.\", \"Zhang Z.\": \"Zhang Zh.\", \"Pablo Varillas J.\": \"Varillas J. P.\", \"Lennard Struff J.\": \"Struff J.L.\", \"Lin Wu T.\": \"Wu T.L.\", \"Hans Rehberg M.\": \"Rehberg M.\", \"Mpetshi Perricard G.\": \"Mpetshi G.\", \"Agustin Tirante T.\": \"Tirante T.A.\", \"Alberto Olivieri G.\": \"Olivieri G.\", \"Nicolae Madaras D.\": \"Madaras D.\", \"Cong Mo Y.\": \"Mo Y.\"})"
   ]
  },
  {
   "cell_type": "code",
   "execution_count": 22,
   "metadata": {},
   "outputs": [],
   "source": [
    "github_2023['shortened_winner_name'] = github_2023['shortened_winner_name'].replace({\"Varillas J.P.\":\"Varillas J. P.\",\"Meligeni Alves F.\":\"Meligeni Rodrigues F\",\"Arnaud Bailly G.\":\"Bailly G.\",\"Sung Nam J.\":\"Nam J.S.\",\"Chan Hong S.\":\"Hong S.\",\"Fa Rodriguez Taverna S.\":\"Rodriguez Taverna S.\",\"Pucinelli De Almeida M.\":\"Pucinelli de Almeida M.\",\"Alejandro Hernandez Serrano J.\":\"Hernandez A.\",\"Marcel Stebe C.\":\"Stebe C.M.\",\"Martin del Potro J.\":\"Del Potro J.M.\",\"Marco Moroni G.\":\"Moroni G.M.\",\"Tsonga J.\":\"Tsonga J.W.\",\"Ignacio Londero J.\":\"Londero J.I.\",\"Pablo Varillas J.\":\"Varillas J. P.\",\"Pablo Ficovich J.\":\"Ficovich J.P.\",\"C.H. Tseng\":\"Tseng C. H.\",\"Oconnell C.\": \"O Connell C.\", \"Elahi Galan D.\": \"Galan D.E.\", \"Auger Aliassime F.\": \"Auger-Aliassime F.\", \"Woo Kwon S.\": \"Kwon S.W.\", \"Barrios Vera T.\": \"Barrios M.\", \"Yunchaokete B.\": \"Bu Y.\", \"Manuel Cerundolo J.\": \"Cerundolo J.M.\", \"Martin Etcheverry T.\": \"Etcheverry T.\", \"Hugues Herbert P.\": \"Herbert P.H.\", \"Hsiou Hsu Y.\": \"Hsu Y.\", \"Andrea Huesler M.\": \"Huesler M.A.\", \"Kuznetsov A.\": \"Kuznetsov An.\", \"Son Kwiatkowski T.\": \"Kwiatkowski T.S.\", \"Li Z.\": \"Li Zh.\", \"Hsin Tseng C.\": \"Tseng C. H.\", \"Kumar Mukund S.\": \"Mukund S.\", \"Ramos A.\": \"Ramos-Vinolas A.\", \"J Wolf J.\": \"Wolf J.J.\", \"Zhang Z.\": \"Zhang Zh.\", \"Pablo Varillas J.\": \"Varillas J. P.\", \"Lennard Struff J.\": \"Struff J.L.\", \"Lin Wu T.\": \"Wu T.L.\", \"Hans Rehberg M.\": \"Rehberg M.\", \"Mpetshi Perricard G.\": \"Mpetshi G.\", \"Agustin Tirante T.\": \"Tirante T.A.\", \"Alberto Olivieri G.\": \"Olivieri G.\", \"Nicolae Madaras D.\": \"Madaras D.\", \"Cong Mo Y.\": \"Mo Y.\"})\n",
    "github_2022['shortened_winner_name'] = github_2022['shortened_winner_name'].replace({\"Varillas J.P.\":\"Varillas J. P.\",\"Meligeni Alves F.\":\"Meligeni Rodrigues F\",\"Arnaud Bailly G.\":\"Bailly G.\",\"Sung Nam J.\":\"Nam J.S.\",\"Chan Hong S.\":\"Hong S.\",\"Fa Rodriguez Taverna S.\":\"Rodriguez Taverna S.\",\"Pucinelli De Almeida M.\":\"Pucinelli de Almeida M.\",\"Alejandro Hernandez Serrano J.\":\"Hernandez A.\",\"Marcel Stebe C.\":\"Stebe C.M.\",\"Martin del Potro J.\":\"Del Potro J.M.\",\"Marco Moroni G.\":\"Moroni G.M.\",\"Tsonga J.\":\"Tsonga J.W.\",\"Ignacio Londero J.\":\"Londero J.I.\",\"Pablo Varillas J.\":\"Varillas J. P.\",\"Pablo Ficovich J.\":\"Ficovich J.P.\",\"C.H. Tseng\":\"Tseng C. H.\",\"Arnaud Bailly G.\":\"Bailly G.\",\"Sung Nam J.\":\"Nam J.S.\",\"Chan Hong S.\":\"Hong S.\",\"Fa Rodriguez Taverna S.\":\"Rodriguez Taverna S.\",\"Pucinelli De Almeida M.\":\"Pucinelli de Almeida M.\",\"Alejandro Hernandez Serrano J.\":\"Hernandez A.\",\"Marcel Stebe C.\":\"Stebe C.M.\",\"Martin del Potro J.\":\"Del Potro J.M.\",\"Marco Moroni G.\":\"Moroni G.M.\",\"Tsonga J.\":\"Tsonga J.W.\",\"Ignacio Londero J.\":\"Londero J.I.\",\"Pablo Varillas J.\":\"Varillas J. P.\",\"Pablo Ficovich J.\":\"Ficovich J.P.\",\"C.H. Tseng\":\"Tseng C. H.\",\"Oconnell C.\": \"O Connell C.\", \"Elahi Galan D.\": \"Galan D.E.\", \"Auger Aliassime F.\": \"Auger-Aliassime F.\", \"Woo Kwon S.\": \"Kwon S.W.\", \"Barrios Vera T.\": \"Barrios M.\", \"Yunchaokete B.\": \"Bu Y.\", \"Manuel Cerundolo J.\": \"Cerundolo J.M.\", \"Martin Etcheverry T.\": \"Etcheverry T.\", \"Hugues Herbert P.\": \"Herbert P.H.\", \"Hsiou Hsu Y.\": \"Hsu Y.\", \"Andrea Huesler M.\": \"Huesler M.A.\", \"Kuznetsov A.\": \"Kuznetsov An.\", \"Son Kwiatkowski T.\": \"Kwiatkowski T.S.\", \"Li Z.\": \"Li Zh.\", \"Hsin Tseng C.\": \"Tseng C. H.\", \"Kumar Mukund S.\": \"Mukund S.\", \"Ramos A.\": \"Ramos-Vinolas A.\", \"J Wolf J.\": \"Wolf J.J.\", \"Zhang Z.\": \"Zhang Zh.\", \"Pablo Varillas J.\": \"Varillas J. P.\", \"Lennard Struff J.\": \"Struff J.L.\", \"Lin Wu T.\": \"Wu T.L.\", \"Hans Rehberg M.\": \"Rehberg M.\", \"Mpetshi Perricard G.\": \"Mpetshi G.\", \"Agustin Tirante T.\": \"Tirante T.A.\", \"Alberto Olivieri G.\": \"Olivieri G.\", \"Nicolae Madaras D.\": \"Madaras D.\", \"Cong Mo Y.\": \"Mo Y.\"})\n",
    "github_2021['shortened_winner_name'] = github_2021['shortened_winner_name'].replace({\"Varillas J.P.\":\"Varillas J. P.\",\"Patrick Smith J.\":\"Smith J.P.\",\"Shannan Zayid M.\":\"Zayid M.\",\"Hsun Lu Y.\":\"Lu Y.\",\"Aragone J.\":\"Aragone J.C.\",\"Meligeni Alves F.\":\"Meligeni Rodrigues F\",\"Arnaud Bailly G.\":\"Bailly G.\",\"Sung Nam J.\":\"Nam J.S.\",\"Chan Hong S.\":\"Hong S.\",\"Fa Rodriguez Taverna S.\":\"Rodriguez Taverna S.\",\"Pucinelli De Almeida M.\":\"Pucinelli de Almeida M.\",\"Alejandro Hernandez Serrano J.\":\"Hernandez A.\",\"Marcel Stebe C.\":\"Stebe C.M.\",\"Martin del Potro J.\":\"Del Potro J.M.\",\"Marco Moroni G.\":\"Moroni G.M.\",\"Tsonga J.\":\"Tsonga J.W.\",\"Ignacio Londero J.\":\"Londero J.I.\",\"Pablo Varillas J.\":\"Varillas J. P.\",\"Pablo Ficovich J.\":\"Ficovich J.P.\",\"C.H. Tseng\":\"Tseng C. H.\",\"Oconnell C.\": \"O Connell C.\", \"Elahi Galan D.\": \"Galan D.E.\", \"Auger Aliassime F.\": \"Auger-Aliassime F.\", \"Woo Kwon S.\": \"Kwon S.W.\", \"Barrios Vera T.\": \"Barrios M.\", \"Yunchaokete B.\": \"Bu Y.\", \"Manuel Cerundolo J.\": \"Cerundolo J.M.\", \"Martin Etcheverry T.\": \"Etcheverry T.\", \"Hugues Herbert P.\": \"Herbert P.H.\", \"Hsiou Hsu Y.\": \"Hsu Y.\", \"Andrea Huesler M.\": \"Huesler M.A.\", \"Kuznetsov A.\": \"Kuznetsov An.\", \"Son Kwiatkowski T.\": \"Kwiatkowski T.S.\", \"Li Z.\": \"Li Zh.\", \"Hsin Tseng C.\": \"Tseng C. H.\", \"Kumar Mukund S.\": \"Mukund S.\", \"Ramos A.\": \"Ramos-Vinolas A.\", \"J Wolf J.\": \"Wolf J.J.\", \"Zhang Z.\": \"Zhang Zh.\", \"Pablo Varillas J.\": \"Varillas J. P.\", \"Lennard Struff J.\": \"Struff J.L.\", \"Lin Wu T.\": \"Wu T.L.\", \"Hans Rehberg M.\": \"Rehberg M.\", \"Mpetshi Perricard G.\": \"Mpetshi G.\", \"Agustin Tirante T.\": \"Tirante T.A.\", \"Alberto Olivieri G.\": \"Olivieri G.\", \"Nicolae Madaras D.\": \"Madaras D.\", \"Cong Mo Y.\": \"Mo Y.\"})"
   ]
  },
  {
   "cell_type": "code",
   "execution_count": 23,
   "metadata": {},
   "outputs": [],
   "source": [
    "bets_2022['Loser']=bets_2022['Loser'].replace({\"Tseng C.H.\":\"Tseng C. H.\"})\n",
    "bets_2022['Loser']=bets_2022['Loser'].replace({\"Varillas J.P.\":\"Varillas J. P.\"})\n",
    "bets_2023['Loser']=bets_2023['Loser'].replace({\"Tseng C.H.\":\"Tseng C. H.\"})\n",
    "bets_2023['Loser']=bets_2023['Loser'].replace({\"Varillas J.P.\":\"Varillas J. P.\"})\n",
    "bets_2023['Loser']=bets_2023['Loser'].replace({\"Meligeni Alves F.\":\"Meligeni Rodrigues F\"})\n",
    "bets_2021['Loser']=bets_2021['Loser'].replace({\"Varillas J.P.\":\"Varillas J. P.\"})"
   ]
  },
  {
   "cell_type": "code",
   "execution_count": 24,
   "metadata": {},
   "outputs": [],
   "source": [
    "bets_2022['Winner']=bets_2022['Winner'].replace({\"Tseng C.H.\":\"Tseng C. H.\"})\n",
    "bets_2022['Winner']=bets_2022['Winner'].replace({\"Varillas J.P.\":\"Varillas J. P.\"})\n",
    "bets_2023['Winner']=bets_2023['Winner'].replace({\"Tseng C.H.\":\"Tseng C. H.\"})\n",
    "bets_2023['Winner']=bets_2023['Winner'].replace({\"Varillas J.P.\":\"Varillas J. P.\"})\n",
    "bets_2023['Winner']=bets_2023['Winner'].replace({\"Meligeni Alves F.\":\"Meligeni Rodrigues F\"})\n",
    "bets_2021['Winner']=bets_2021['Winner'].replace({\"Varillas J.P.\":\"Varillas J. P.\"})"
   ]
  },
  {
   "cell_type": "markdown",
   "metadata": {},
   "source": [
    "## Po poprawkach każdy zawodnik w ramce bets ma już id"
   ]
  },
  {
   "cell_type": "code",
   "execution_count": 25,
   "metadata": {},
   "outputs": [],
   "source": [
    "for i in range(2021,2024):\n",
    "    variable_name=f\"github_{i}\"\n",
    "    variable_name_2=f\"bets_{i}\"\n",
    "    map_player_name_player_id = globals()[variable_name].groupby('shortened_loser_name', as_index=False)[['shortened_loser_name', 'loser_id']].first()\n",
    "    mapping = dict(zip(map_player_name_player_id['shortened_loser_name'], map_player_name_player_id['loser_id']))\n",
    "    globals()[variable_name_2]['loser_id'] = globals()[variable_name_2]['Loser'].map(mapping)\n",
    "    "
   ]
  },
  {
   "cell_type": "code",
   "execution_count": 26,
   "metadata": {},
   "outputs": [
    {
     "data": {
      "text/plain": [
       "array([], dtype=object)"
      ]
     },
     "execution_count": 26,
     "metadata": {},
     "output_type": "execute_result"
    }
   ],
   "source": [
    "bets_2023.loc[bets_2023['loser_id'].isna(), 'Loser'].unique()"
   ]
  },
  {
   "cell_type": "code",
   "execution_count": 27,
   "metadata": {},
   "outputs": [
    {
     "data": {
      "text/plain": [
       "array([], dtype=object)"
      ]
     },
     "execution_count": 27,
     "metadata": {},
     "output_type": "execute_result"
    }
   ],
   "source": [
    "bets_2022.loc[bets_2022['loser_id'].isna(), 'Loser'].unique()"
   ]
  },
  {
   "cell_type": "code",
   "execution_count": 28,
   "metadata": {},
   "outputs": [
    {
     "data": {
      "text/plain": [
       "array([], dtype=object)"
      ]
     },
     "execution_count": 28,
     "metadata": {},
     "output_type": "execute_result"
    }
   ],
   "source": [
    "bets_2021.loc[bets_2021['loser_id'].isna(), 'Loser'].unique()"
   ]
  },
  {
   "cell_type": "code",
   "execution_count": 29,
   "metadata": {},
   "outputs": [],
   "source": [
    "for i in range(2021,2024):\n",
    "    variable_name=f\"github_{i}\"\n",
    "    variable_name_2=f\"bets_{i}\"\n",
    "    map_player_name_player_id = globals()[variable_name].groupby('shortened_winner_name', as_index=False)[['shortened_winner_name', 'winner_id']].first()\n",
    "    mapping = dict(zip(map_player_name_player_id['shortened_winner_name'], map_player_name_player_id['winner_id']))\n",
    "    globals()[variable_name_2]['winner_id'] = globals()[variable_name_2]['Winner'].map(mapping)"
   ]
  },
  {
   "cell_type": "code",
   "execution_count": 30,
   "metadata": {},
   "outputs": [
    {
     "data": {
      "text/plain": [
       "array([], dtype=object)"
      ]
     },
     "execution_count": 30,
     "metadata": {},
     "output_type": "execute_result"
    }
   ],
   "source": [
    "bets_2023.loc[bets_2023['winner_id'].isna(), 'Winner'].unique()"
   ]
  },
  {
   "cell_type": "code",
   "execution_count": 31,
   "metadata": {},
   "outputs": [
    {
     "data": {
      "text/plain": [
       "array([], dtype=object)"
      ]
     },
     "execution_count": 31,
     "metadata": {},
     "output_type": "execute_result"
    }
   ],
   "source": [
    "bets_2022.loc[bets_2022['winner_id'].isna(), 'Winner'].unique()"
   ]
  },
  {
   "cell_type": "code",
   "execution_count": 32,
   "metadata": {},
   "outputs": [
    {
     "data": {
      "text/plain": [
       "array([], dtype=object)"
      ]
     },
     "execution_count": 32,
     "metadata": {},
     "output_type": "execute_result"
    }
   ],
   "source": [
    "bets_2021.loc[bets_2021['winner_id'].isna(), 'Winner'].unique()"
   ]
  },
  {
   "cell_type": "markdown",
   "metadata": {},
   "source": [
    "### Skoro mamy już wspólne id zawodnika, oraz id turnieju to możemy w obu ramkach zdefiniować wspólne id meczu. Sprawdzamy czy id meczu jest unikalne dla każdego wiersza w ramkach"
   ]
  },
  {
   "cell_type": "code",
   "execution_count": 33,
   "metadata": {},
   "outputs": [],
   "source": [
    "for i in range(2021, 2024):\n",
    "    variable_name=f\"github_{i}\"\n",
    "    variable_name_2=f\"bets_{i}\"\n",
    "    globals()[variable_name]['match_id'] = globals()[variable_name]['tournament_id'].astype(str) + '_' +  globals()[variable_name]['winner_id'].astype(str) + '_' + globals()[variable_name]['loser_id'].astype(str)\n",
    "    globals()[variable_name_2]['match_id'] = globals()[variable_name_2]['tournament_id'].astype(str) + '_' +  globals()[variable_name_2]['winner_id'].astype(str) + '_' + globals()[variable_name_2]['loser_id'].astype(str)"
   ]
  },
  {
   "cell_type": "code",
   "execution_count": 34,
   "metadata": {},
   "outputs": [
    {
     "name": "stdout",
     "output_type": "stream",
     "text": [
      "True\n",
      "True\n",
      "True\n",
      "True\n",
      "True\n",
      "True\n"
     ]
    }
   ],
   "source": [
    "for i in range(2021,2024):\n",
    "    variable_name=f\"github_{i}\"\n",
    "    variable_name_2=f\"bets_{i}\"\n",
    "    print(globals()[variable_name]['match_id'].nunique() == len(globals()[variable_name]))\n",
    "    print(globals()[variable_name_2]['match_id'].nunique() == len(globals()[variable_name_2]))\n"
   ]
  },
  {
   "cell_type": "markdown",
   "metadata": {},
   "source": [
    "### W bets_2023 jest źle wpisywany wynik meczu Bu Y. vs Kecmanovic M. w pierwszej rundzie turnieju w Shanghaju., wpisane jest zwycięstwo Kecmanovica a przegrał on ten mecz. Taka sama sytaacja wystąpiła w meczu 1/8 finału pomiędzy Kuzmanov D. a Carbales Baena R. Musimy zamienić ze soba wszystkie kolumny zawierajace wartości dedykowane zwycięzcy/przegranemu"
   ]
  },
  {
   "cell_type": "code",
   "execution_count": 35,
   "metadata": {},
   "outputs": [],
   "source": [
    "def swap_winner_loser_bets(match_ids):\n",
    "    winner_cols = [col for col in bets_2023.columns if col.startswith('W') or col.endswith('W') or col == 'Winner']\n",
    "    loser_cols = [col for col in bets_2023.columns if col.startswith('L') or col.endswith('L') or col == 'Loser']\n",
    "    condition = bets_2023['match_id'].isin(match_ids)\n",
    "    \n",
    "    if not bets_2023[condition].empty:\n",
    "        for w_col, l_col in zip(winner_cols, loser_cols):\n",
    "            bets_2023.loc[condition, w_col], bets_2023.loc[condition, l_col] = bets_2023.loc[condition, l_col].values, bets_2023.loc[condition, w_col].values\n",
    "    else:\n",
    "        print(f\"No match found with match_id {match_ids}\")\n",
    "    \n",
    "    return bets_2023"
   ]
  },
  {
   "cell_type": "code",
   "execution_count": 36,
   "metadata": {},
   "outputs": [],
   "source": [
    "bets_2023 = swap_winner_loser_bets([\"Marrakech_ATP250_2023_106220_106148\", \"Shanghai_Masters 1000_2023_200175_207352\"])\n",
    "bets_2023['match_id'] = bets_2023['match_id'].replace({\"Marrakech_ATP250_2023_106220_106148\": \"Marrakech_ATP250_2023_106148_106220\", \"Shanghai_Masters 1000_2023_200175_207352\": \"Shanghai_Masters 1000_2023_207352_200175\"})"
   ]
  },
  {
   "cell_type": "markdown",
   "metadata": {},
   "source": [
    "### Sprawdźmy jeszcze czy sa jakieś mecze, które sa tylko w jednej ramce."
   ]
  },
  {
   "cell_type": "code",
   "execution_count": 37,
   "metadata": {},
   "outputs": [
    {
     "name": "stdout",
     "output_type": "stream",
     "text": [
      "[]\n",
      "[]\n",
      "[]\n",
      "[]\n",
      "[]\n",
      "[]\n"
     ]
    }
   ],
   "source": [
    "for i in range(2021,2024):\n",
    "    variable_name=f\"github_{i}\"\n",
    "    variable_name_2=f\"bets_{i}\"\n",
    "    print(globals()[variable_name_2][~globals()[variable_name_2]['match_id'].isin(globals()[variable_name]['match_id'])]['match_id'].unique())\n",
    "    print(globals()[variable_name][~globals()[variable_name]['match_id'].isin(globals()[variable_name_2]['match_id'])]['match_id'].unique())\n",
    "    "
   ]
  },
  {
   "cell_type": "code",
   "execution_count": 38,
   "metadata": {},
   "outputs": [],
   "source": [
    "folder_path = 'D:/tennis_data/Tennis/Processed data/'\n",
    "bets_2023.to_csv(folder_path +'bets2023.csv', index=False)\n",
    "bets_2022.to_csv(folder_path +'bets2022.csv', index=False)\n",
    "bets_2021.to_csv(folder_path +'bets2021.csv', index=False)\n",
    "github_2023.to_csv(folder_path +'github2023.csv', index=False)\n",
    "github_2022.to_csv(folder_path +'github2022.csv', index=False)\n",
    "github_2021.to_csv(folder_path +'github2021.csv', index=False)"
   ]
  }
 ],
 "metadata": {
  "kernelspec": {
   "display_name": "Python 3",
   "language": "python",
   "name": "python3"
  },
  "language_info": {
   "codemirror_mode": {
    "name": "ipython",
    "version": 3
   },
   "file_extension": ".py",
   "mimetype": "text/x-python",
   "name": "python",
   "nbconvert_exporter": "python",
   "pygments_lexer": "ipython3",
   "version": "3.12.7"
  }
 },
 "nbformat": 4,
 "nbformat_minor": 2
}
