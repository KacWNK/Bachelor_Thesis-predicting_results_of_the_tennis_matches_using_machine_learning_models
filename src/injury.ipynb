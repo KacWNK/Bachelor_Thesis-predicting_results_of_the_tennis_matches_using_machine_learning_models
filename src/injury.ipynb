{
 "cells": [
  {
   "cell_type": "code",
   "id": "initial_id",
   "metadata": {
    "collapsed": true,
    "ExecuteTime": {
     "end_time": "2024-12-17T12:16:59.560310Z",
     "start_time": "2024-12-17T12:16:59.557798Z"
    }
   },
   "source": "import pandas as pd",
   "outputs": [],
   "execution_count": 1
  },
  {
   "metadata": {
    "ExecuteTime": {
     "end_time": "2024-12-17T12:16:59.998351Z",
     "start_time": "2024-12-17T12:16:59.561303Z"
    }
   },
   "cell_type": "code",
   "source": "matches = pd.read_csv('../data/everything_before_models/matches.csv')",
   "id": "ba3899b8ab0e63dd",
   "outputs": [],
   "execution_count": 2
  },
  {
   "metadata": {
    "ExecuteTime": {
     "end_time": "2024-12-17T12:17:00.005889Z",
     "start_time": "2024-12-17T12:16:59.999351Z"
    }
   },
   "cell_type": "code",
   "source": "matches['Comment'].unique()",
   "id": "406347a6c91c1cc3",
   "outputs": [
    {
     "data": {
      "text/plain": [
       "array(['Completed', 'Retired', 'Walkover', 'Awarded', 'Sched',\n",
       "       'Disqualified'], dtype=object)"
      ]
     },
     "execution_count": 3,
     "metadata": {},
     "output_type": "execute_result"
    }
   ],
   "execution_count": 3
  },
  {
   "metadata": {
    "ExecuteTime": {
     "end_time": "2024-12-17T12:17:00.010877Z",
     "start_time": "2024-12-17T12:17:00.005889Z"
    }
   },
   "cell_type": "code",
   "source": [
    "def calculate_injury_score(df, discount_factor=0):\n",
    "    # Ensure the DataFrame is sorted by match date\n",
    "    df = df.sort_values(by=['Date'])\n",
    "    \n",
    "    # Initialize columns for the discounted feature\n",
    "    df['winner_injury_score'] = 0.0\n",
    "    df['loser_injury_score'] = 0.0\n",
    "    \n",
    "    # Dictionary to track matches since last retirement for each player\n",
    "    matches_since_last_retirement = {}\n",
    "    \n",
    "    # Iterate over each match\n",
    "    for idx, row in df.iterrows():\n",
    "        winner_id = row['winner_id']\n",
    "        loser_id = row['loser_id']\n",
    "        \n",
    "        matches_since_last_retirement_winner = matches_since_last_retirement.get(winner_id, 10)\n",
    "        matches_since_last_retirement_loser = matches_since_last_retirement.get(loser_id, 10)\n",
    "        \n",
    "        if 0 <= matches_since_last_retirement_winner <= 0:\n",
    "            df.at[idx, 'winner_injury_score'] = discount_factor ** matches_since_last_retirement_winner\n",
    "        if 0 <= matches_since_last_retirement_loser <= 0:\n",
    "            df.at[idx, 'loser_injury_score'] = discount_factor ** matches_since_last_retirement_loser\n",
    "\n",
    "        if row['Comment'] == 'Retired':  \n",
    "            matches_since_last_retirement[loser_id] = 0  # Reset counter\n",
    "        else:\n",
    "            matches_since_last_retirement[loser_id] = matches_since_last_retirement.get(loser_id, 10) + 1\n",
    "        matches_since_last_retirement[winner_id] = matches_since_last_retirement.get(winner_id, 10) + 1\n",
    "    return df"
   ],
   "id": "86a7b039ca5d8b27",
   "outputs": [],
   "execution_count": 4
  },
  {
   "metadata": {
    "ExecuteTime": {
     "end_time": "2024-12-17T12:17:00.495676Z",
     "start_time": "2024-12-17T12:17:00.011875Z"
    }
   },
   "cell_type": "code",
   "source": "matches = calculate_injury_score(matches)",
   "id": "b863815096b3c915",
   "outputs": [],
   "execution_count": 5
  },
  {
   "metadata": {
    "ExecuteTime": {
     "end_time": "2024-12-17T12:17:00.526101Z",
     "start_time": "2024-12-17T12:17:00.496659Z"
    }
   },
   "cell_type": "code",
   "source": "matches[['winner_name', 'loser_name', 'winner_injury_score', 'loser_injury_score', 'tournament_name']]",
   "id": "e281e34eb695cc47",
   "outputs": [
    {
     "data": {
      "text/plain": [
       "                winner_name             loser_name  winner_injury_score  \\\n",
       "0       Alexandr Dolgopolov      Diego Schwartzman                  0.0   \n",
       "1            Alex De Minaur          Steve Johnson                  0.0   \n",
       "18            Andrey Rublev    Cedrik Marcel Stebe                  0.0   \n",
       "17            Nicolas Jarry          Pablo Andujar                  0.0   \n",
       "16            Matthew Ebden         Frances Tiafoe                  0.0   \n",
       "...                     ...                    ...                  ...   \n",
       "14105      Adrian Mannarino            Pavel Kotov                  0.0   \n",
       "14106  Alexander Shevchenko  Pierre Hugues Herbert                  0.0   \n",
       "14108           Jack Draper     Jan Lennard Struff                  0.0   \n",
       "14109           Ugo Humbert   Alexander Shevchenko                  0.0   \n",
       "14110      Adrian Mannarino            Jack Draper                  0.0   \n",
       "\n",
       "       loser_injury_score         tournament_name  \n",
       "0                     0.0  Brisbane International  \n",
       "1                     0.0  Brisbane International  \n",
       "18                    0.0  Qatar Exxon Mobil Open  \n",
       "17                    0.0               Tata Open  \n",
       "16                    0.0  Brisbane International  \n",
       "...                   ...                     ...  \n",
       "14105                 0.0              Sofia Open  \n",
       "14106                 0.0         Open de Moselle  \n",
       "14108                 0.0              Sofia Open  \n",
       "14109                 0.0         Open de Moselle  \n",
       "14110                 0.0              Sofia Open  \n",
       "\n",
       "[14111 rows x 5 columns]"
      ],
      "text/html": [
       "<div>\n",
       "<style scoped>\n",
       "    .dataframe tbody tr th:only-of-type {\n",
       "        vertical-align: middle;\n",
       "    }\n",
       "\n",
       "    .dataframe tbody tr th {\n",
       "        vertical-align: top;\n",
       "    }\n",
       "\n",
       "    .dataframe thead th {\n",
       "        text-align: right;\n",
       "    }\n",
       "</style>\n",
       "<table border=\"1\" class=\"dataframe\">\n",
       "  <thead>\n",
       "    <tr style=\"text-align: right;\">\n",
       "      <th></th>\n",
       "      <th>winner_name</th>\n",
       "      <th>loser_name</th>\n",
       "      <th>winner_injury_score</th>\n",
       "      <th>loser_injury_score</th>\n",
       "      <th>tournament_name</th>\n",
       "    </tr>\n",
       "  </thead>\n",
       "  <tbody>\n",
       "    <tr>\n",
       "      <th>0</th>\n",
       "      <td>Alexandr Dolgopolov</td>\n",
       "      <td>Diego Schwartzman</td>\n",
       "      <td>0.0</td>\n",
       "      <td>0.0</td>\n",
       "      <td>Brisbane International</td>\n",
       "    </tr>\n",
       "    <tr>\n",
       "      <th>1</th>\n",
       "      <td>Alex De Minaur</td>\n",
       "      <td>Steve Johnson</td>\n",
       "      <td>0.0</td>\n",
       "      <td>0.0</td>\n",
       "      <td>Brisbane International</td>\n",
       "    </tr>\n",
       "    <tr>\n",
       "      <th>18</th>\n",
       "      <td>Andrey Rublev</td>\n",
       "      <td>Cedrik Marcel Stebe</td>\n",
       "      <td>0.0</td>\n",
       "      <td>0.0</td>\n",
       "      <td>Qatar Exxon Mobil Open</td>\n",
       "    </tr>\n",
       "    <tr>\n",
       "      <th>17</th>\n",
       "      <td>Nicolas Jarry</td>\n",
       "      <td>Pablo Andujar</td>\n",
       "      <td>0.0</td>\n",
       "      <td>0.0</td>\n",
       "      <td>Tata Open</td>\n",
       "    </tr>\n",
       "    <tr>\n",
       "      <th>16</th>\n",
       "      <td>Matthew Ebden</td>\n",
       "      <td>Frances Tiafoe</td>\n",
       "      <td>0.0</td>\n",
       "      <td>0.0</td>\n",
       "      <td>Brisbane International</td>\n",
       "    </tr>\n",
       "    <tr>\n",
       "      <th>...</th>\n",
       "      <td>...</td>\n",
       "      <td>...</td>\n",
       "      <td>...</td>\n",
       "      <td>...</td>\n",
       "      <td>...</td>\n",
       "    </tr>\n",
       "    <tr>\n",
       "      <th>14105</th>\n",
       "      <td>Adrian Mannarino</td>\n",
       "      <td>Pavel Kotov</td>\n",
       "      <td>0.0</td>\n",
       "      <td>0.0</td>\n",
       "      <td>Sofia Open</td>\n",
       "    </tr>\n",
       "    <tr>\n",
       "      <th>14106</th>\n",
       "      <td>Alexander Shevchenko</td>\n",
       "      <td>Pierre Hugues Herbert</td>\n",
       "      <td>0.0</td>\n",
       "      <td>0.0</td>\n",
       "      <td>Open de Moselle</td>\n",
       "    </tr>\n",
       "    <tr>\n",
       "      <th>14108</th>\n",
       "      <td>Jack Draper</td>\n",
       "      <td>Jan Lennard Struff</td>\n",
       "      <td>0.0</td>\n",
       "      <td>0.0</td>\n",
       "      <td>Sofia Open</td>\n",
       "    </tr>\n",
       "    <tr>\n",
       "      <th>14109</th>\n",
       "      <td>Ugo Humbert</td>\n",
       "      <td>Alexander Shevchenko</td>\n",
       "      <td>0.0</td>\n",
       "      <td>0.0</td>\n",
       "      <td>Open de Moselle</td>\n",
       "    </tr>\n",
       "    <tr>\n",
       "      <th>14110</th>\n",
       "      <td>Adrian Mannarino</td>\n",
       "      <td>Jack Draper</td>\n",
       "      <td>0.0</td>\n",
       "      <td>0.0</td>\n",
       "      <td>Sofia Open</td>\n",
       "    </tr>\n",
       "  </tbody>\n",
       "</table>\n",
       "<p>14111 rows × 5 columns</p>\n",
       "</div>"
      ]
     },
     "execution_count": 6,
     "metadata": {},
     "output_type": "execute_result"
    }
   ],
   "execution_count": 6
  },
  {
   "metadata": {
    "ExecuteTime": {
     "end_time": "2024-12-17T12:17:34.295538Z",
     "start_time": "2024-12-17T12:17:34.291947Z"
    }
   },
   "cell_type": "code",
   "source": [
    "def calculate_percentage_lower_injury_wins(df):\n",
    "    after_injury_matches = df[\n",
    "        ((df['winner_injury_score'] > 0) | (df['loser_injury_score'] > 0))\n",
    "        &\n",
    "        (df['loser_rank'] - df['winner_rank'] < 10)\n",
    "    ]\n",
    "    print(after_injury_matches.shape[0])\n",
    "    lower_injury_wins = after_injury_matches[\n",
    "        after_injury_matches['winner_injury_score'] <= after_injury_matches['loser_injury_score']\n",
    "    ].shape[0]\n",
    "    \n",
    "    \n",
    "    # Calculate the percentage\n",
    "    percentage_lower_injury_wins = (lower_injury_wins / after_injury_matches.shape[0]) * 100\n",
    "    \n",
    "    return percentage_lower_injury_wins"
   ],
   "id": "6a088a8479265dc4",
   "outputs": [],
   "execution_count": 15
  },
  {
   "metadata": {
    "ExecuteTime": {
     "end_time": "2024-12-17T12:17:34.629028Z",
     "start_time": "2024-12-17T12:17:34.624330Z"
    }
   },
   "cell_type": "code",
   "source": "print(calculate_percentage_lower_injury_wins(matches))",
   "id": "52500f4845c6956d",
   "outputs": [
    {
     "name": "stdout",
     "output_type": "stream",
     "text": [
      "156\n",
      "58.97435897435898\n"
     ]
    }
   ],
   "execution_count": 16
  },
  {
   "metadata": {},
   "cell_type": "code",
   "outputs": [],
   "execution_count": null,
   "source": "",
   "id": "28fcc8813cf3db01"
  }
 ],
 "metadata": {
  "kernelspec": {
   "display_name": "Python 3",
   "language": "python",
   "name": "python3"
  },
  "language_info": {
   "codemirror_mode": {
    "name": "ipython",
    "version": 2
   },
   "file_extension": ".py",
   "mimetype": "text/x-python",
   "name": "python",
   "nbconvert_exporter": "python",
   "pygments_lexer": "ipython2",
   "version": "2.7.6"
  }
 },
 "nbformat": 4,
 "nbformat_minor": 5
}
