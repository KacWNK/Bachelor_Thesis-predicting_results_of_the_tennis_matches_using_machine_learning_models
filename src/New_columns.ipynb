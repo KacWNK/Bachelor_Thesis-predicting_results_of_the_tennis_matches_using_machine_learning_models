{
 "cells": [
  {
   "cell_type": "code",
   "execution_count": 1,
   "metadata": {
    "ExecuteTime": {
     "end_time": "2024-11-28T01:46:33.770381Z",
     "start_time": "2024-11-28T01:46:33.426956Z"
    }
   },
   "outputs": [],
   "source": [
    "import pandas as pd"
   ]
  },
  {
   "cell_type": "code",
   "execution_count": 2,
   "metadata": {
    "ExecuteTime": {
     "end_time": "2024-11-28T01:46:33.875195Z",
     "start_time": "2024-11-28T01:46:33.771595Z"
    }
   },
   "outputs": [],
   "source": [
    "matches = pd.read_csv(\"../data/Merged_year_data/matches_cleaned.csv\")"
   ]
  },
  {
   "cell_type": "code",
   "execution_count": 3,
   "metadata": {
    "ExecuteTime": {
     "end_time": "2024-11-28T01:46:33.880720Z",
     "start_time": "2024-11-28T01:46:33.876004Z"
    }
   },
   "outputs": [],
   "source": [
    "matches['w_2ndIn'] = matches['w_svpt'] - matches['w_1stIn']-matches['w_df']\n",
    "matches['l_2ndIn'] = matches['l_svpt'] - matches['l_1stIn']-matches['l_df']"
   ]
  },
  {
   "cell_type": "code",
   "execution_count": 4,
   "metadata": {
    "ExecuteTime": {
     "end_time": "2024-11-28T01:46:33.903679Z",
     "start_time": "2024-11-28T01:46:33.882398Z"
    }
   },
   "outputs": [
    {
     "data": {
      "text/plain": "      tournament_location           tournament_name        Date  \\\n0              Adelaide 1  Adelaide International 1  2023-01-01   \n1              Adelaide 1  Adelaide International 1  2023-01-01   \n2              Adelaide 1  Adelaide International 1  2023-01-02   \n3              Adelaide 1  Adelaide International 1  2023-01-02   \n4              Adelaide 1  Adelaide International 1  2023-01-02   \n...                   ...                       ...         ...   \n14106             Paris 2       BNP Paribas Masters  2018-11-02   \n14107             Paris 2       BNP Paribas Masters  2018-11-02   \n14108             Paris 2       BNP Paribas Masters  2018-11-03   \n14109             Paris 2       BNP Paribas Masters  2018-11-03   \n14110             Paris 2       BNP Paribas Masters  2018-11-04   \n\n      indoor_or_outdoor Surface          Round   W1   L1   W2   L2  ...  \\\n0               Outdoor    Hard      1st Round  7.0  6.0  6.0  7.0  ...   \n1               Outdoor    Hard      1st Round  6.0  3.0  0.0  0.0  ...   \n2               Outdoor    Hard      1st Round  6.0  4.0  6.0  4.0  ...   \n3               Outdoor    Hard      1st Round  2.0  6.0  6.0  4.0  ...   \n4               Outdoor    Hard      1st Round  6.0  4.0  7.0  6.0  ...   \n...                 ...     ...            ...  ...  ...  ...  ...  ...   \n14106            Indoor    Hard  Quarterfinals  4.0  6.0  6.0  2.0  ...   \n14107            Indoor    Hard  Quarterfinals  6.0  4.0  6.0  4.0  ...   \n14108            Indoor    Hard     Semifinals  6.0  4.0  6.0  1.0  ...   \n14109            Indoor    Hard     Semifinals  7.0  6.0  5.0  7.0  ...   \n14110            Indoor    Hard      The Final  7.0  5.0  6.0  4.0  ...   \n\n       winner_entry_LL  winner_entry_Q  winner_entry_WC  loser_entry_LL  \\\n0                False           False            False           False   \n1                False           False            False           False   \n2                False           False            False           False   \n3                False           False            False           False   \n4                False            True            False           False   \n...                ...             ...              ...             ...   \n14106            False           False            False           False   \n14107            False           False            False           False   \n14108            False           False            False           False   \n14109            False           False            False           False   \n14110            False           False            False           False   \n\n       loser_entry_Q  loser_entry_WC  winner_is_seeded  loser_is_seeded  \\\n0              False           False                 0                0   \n1              False           False                 0                0   \n2              False            True                 0                0   \n3              False           False                 0                1   \n4              False           False                 0                1   \n...              ...             ...               ...              ...   \n14106          False           False                 1                1   \n14107          False           False                 1                1   \n14108          False           False                 0                1   \n14109          False           False                 1                1   \n14110          False           False                 0                1   \n\n      w_2ndIn  l_2ndIn  \n0        32.0     61.0  \n1         5.0     13.0  \n2        28.0     22.0  \n3        24.0     30.0  \n4        20.0     19.0  \n...       ...      ...  \n14106    26.0     28.0  \n14107    25.0     26.0  \n14108    12.0     26.0  \n14109    37.0     44.0  \n14110    14.0     27.0  \n\n[14111 rows x 74 columns]",
      "text/html": "<div>\n<style scoped>\n    .dataframe tbody tr th:only-of-type {\n        vertical-align: middle;\n    }\n\n    .dataframe tbody tr th {\n        vertical-align: top;\n    }\n\n    .dataframe thead th {\n        text-align: right;\n    }\n</style>\n<table border=\"1\" class=\"dataframe\">\n  <thead>\n    <tr style=\"text-align: right;\">\n      <th></th>\n      <th>tournament_location</th>\n      <th>tournament_name</th>\n      <th>Date</th>\n      <th>indoor_or_outdoor</th>\n      <th>Surface</th>\n      <th>Round</th>\n      <th>W1</th>\n      <th>L1</th>\n      <th>W2</th>\n      <th>L2</th>\n      <th>...</th>\n      <th>winner_entry_LL</th>\n      <th>winner_entry_Q</th>\n      <th>winner_entry_WC</th>\n      <th>loser_entry_LL</th>\n      <th>loser_entry_Q</th>\n      <th>loser_entry_WC</th>\n      <th>winner_is_seeded</th>\n      <th>loser_is_seeded</th>\n      <th>w_2ndIn</th>\n      <th>l_2ndIn</th>\n    </tr>\n  </thead>\n  <tbody>\n    <tr>\n      <th>0</th>\n      <td>Adelaide 1</td>\n      <td>Adelaide International 1</td>\n      <td>2023-01-01</td>\n      <td>Outdoor</td>\n      <td>Hard</td>\n      <td>1st Round</td>\n      <td>7.0</td>\n      <td>6.0</td>\n      <td>6.0</td>\n      <td>7.0</td>\n      <td>...</td>\n      <td>False</td>\n      <td>False</td>\n      <td>False</td>\n      <td>False</td>\n      <td>False</td>\n      <td>False</td>\n      <td>0</td>\n      <td>0</td>\n      <td>32.0</td>\n      <td>61.0</td>\n    </tr>\n    <tr>\n      <th>1</th>\n      <td>Adelaide 1</td>\n      <td>Adelaide International 1</td>\n      <td>2023-01-01</td>\n      <td>Outdoor</td>\n      <td>Hard</td>\n      <td>1st Round</td>\n      <td>6.0</td>\n      <td>3.0</td>\n      <td>0.0</td>\n      <td>0.0</td>\n      <td>...</td>\n      <td>False</td>\n      <td>False</td>\n      <td>False</td>\n      <td>False</td>\n      <td>False</td>\n      <td>False</td>\n      <td>0</td>\n      <td>0</td>\n      <td>5.0</td>\n      <td>13.0</td>\n    </tr>\n    <tr>\n      <th>2</th>\n      <td>Adelaide 1</td>\n      <td>Adelaide International 1</td>\n      <td>2023-01-02</td>\n      <td>Outdoor</td>\n      <td>Hard</td>\n      <td>1st Round</td>\n      <td>6.0</td>\n      <td>4.0</td>\n      <td>6.0</td>\n      <td>4.0</td>\n      <td>...</td>\n      <td>False</td>\n      <td>False</td>\n      <td>False</td>\n      <td>False</td>\n      <td>False</td>\n      <td>True</td>\n      <td>0</td>\n      <td>0</td>\n      <td>28.0</td>\n      <td>22.0</td>\n    </tr>\n    <tr>\n      <th>3</th>\n      <td>Adelaide 1</td>\n      <td>Adelaide International 1</td>\n      <td>2023-01-02</td>\n      <td>Outdoor</td>\n      <td>Hard</td>\n      <td>1st Round</td>\n      <td>2.0</td>\n      <td>6.0</td>\n      <td>6.0</td>\n      <td>4.0</td>\n      <td>...</td>\n      <td>False</td>\n      <td>False</td>\n      <td>False</td>\n      <td>False</td>\n      <td>False</td>\n      <td>False</td>\n      <td>0</td>\n      <td>1</td>\n      <td>24.0</td>\n      <td>30.0</td>\n    </tr>\n    <tr>\n      <th>4</th>\n      <td>Adelaide 1</td>\n      <td>Adelaide International 1</td>\n      <td>2023-01-02</td>\n      <td>Outdoor</td>\n      <td>Hard</td>\n      <td>1st Round</td>\n      <td>6.0</td>\n      <td>4.0</td>\n      <td>7.0</td>\n      <td>6.0</td>\n      <td>...</td>\n      <td>False</td>\n      <td>True</td>\n      <td>False</td>\n      <td>False</td>\n      <td>False</td>\n      <td>False</td>\n      <td>0</td>\n      <td>1</td>\n      <td>20.0</td>\n      <td>19.0</td>\n    </tr>\n    <tr>\n      <th>...</th>\n      <td>...</td>\n      <td>...</td>\n      <td>...</td>\n      <td>...</td>\n      <td>...</td>\n      <td>...</td>\n      <td>...</td>\n      <td>...</td>\n      <td>...</td>\n      <td>...</td>\n      <td>...</td>\n      <td>...</td>\n      <td>...</td>\n      <td>...</td>\n      <td>...</td>\n      <td>...</td>\n      <td>...</td>\n      <td>...</td>\n      <td>...</td>\n      <td>...</td>\n      <td>...</td>\n    </tr>\n    <tr>\n      <th>14106</th>\n      <td>Paris 2</td>\n      <td>BNP Paribas Masters</td>\n      <td>2018-11-02</td>\n      <td>Indoor</td>\n      <td>Hard</td>\n      <td>Quarterfinals</td>\n      <td>4.0</td>\n      <td>6.0</td>\n      <td>6.0</td>\n      <td>2.0</td>\n      <td>...</td>\n      <td>False</td>\n      <td>False</td>\n      <td>False</td>\n      <td>False</td>\n      <td>False</td>\n      <td>False</td>\n      <td>1</td>\n      <td>1</td>\n      <td>26.0</td>\n      <td>28.0</td>\n    </tr>\n    <tr>\n      <th>14107</th>\n      <td>Paris 2</td>\n      <td>BNP Paribas Masters</td>\n      <td>2018-11-02</td>\n      <td>Indoor</td>\n      <td>Hard</td>\n      <td>Quarterfinals</td>\n      <td>6.0</td>\n      <td>4.0</td>\n      <td>6.0</td>\n      <td>4.0</td>\n      <td>...</td>\n      <td>False</td>\n      <td>False</td>\n      <td>False</td>\n      <td>False</td>\n      <td>False</td>\n      <td>False</td>\n      <td>1</td>\n      <td>1</td>\n      <td>25.0</td>\n      <td>26.0</td>\n    </tr>\n    <tr>\n      <th>14108</th>\n      <td>Paris 2</td>\n      <td>BNP Paribas Masters</td>\n      <td>2018-11-03</td>\n      <td>Indoor</td>\n      <td>Hard</td>\n      <td>Semifinals</td>\n      <td>6.0</td>\n      <td>4.0</td>\n      <td>6.0</td>\n      <td>1.0</td>\n      <td>...</td>\n      <td>False</td>\n      <td>False</td>\n      <td>False</td>\n      <td>False</td>\n      <td>False</td>\n      <td>False</td>\n      <td>0</td>\n      <td>1</td>\n      <td>12.0</td>\n      <td>26.0</td>\n    </tr>\n    <tr>\n      <th>14109</th>\n      <td>Paris 2</td>\n      <td>BNP Paribas Masters</td>\n      <td>2018-11-03</td>\n      <td>Indoor</td>\n      <td>Hard</td>\n      <td>Semifinals</td>\n      <td>7.0</td>\n      <td>6.0</td>\n      <td>5.0</td>\n      <td>7.0</td>\n      <td>...</td>\n      <td>False</td>\n      <td>False</td>\n      <td>False</td>\n      <td>False</td>\n      <td>False</td>\n      <td>False</td>\n      <td>1</td>\n      <td>1</td>\n      <td>37.0</td>\n      <td>44.0</td>\n    </tr>\n    <tr>\n      <th>14110</th>\n      <td>Paris 2</td>\n      <td>BNP Paribas Masters</td>\n      <td>2018-11-04</td>\n      <td>Indoor</td>\n      <td>Hard</td>\n      <td>The Final</td>\n      <td>7.0</td>\n      <td>5.0</td>\n      <td>6.0</td>\n      <td>4.0</td>\n      <td>...</td>\n      <td>False</td>\n      <td>False</td>\n      <td>False</td>\n      <td>False</td>\n      <td>False</td>\n      <td>False</td>\n      <td>0</td>\n      <td>1</td>\n      <td>14.0</td>\n      <td>27.0</td>\n    </tr>\n  </tbody>\n</table>\n<p>14111 rows × 74 columns</p>\n</div>"
     },
     "execution_count": 4,
     "metadata": {},
     "output_type": "execute_result"
    }
   ],
   "source": [
    "matches"
   ]
  },
  {
   "cell_type": "markdown",
   "metadata": {},
   "source": [
    "### Dodajemy h2h_diff (różnica między winami a losami z pova winnera) raz h2h_matches_played"
   ]
  },
  {
   "cell_type": "code",
   "execution_count": 5,
   "metadata": {
    "ExecuteTime": {
     "end_time": "2024-11-28T01:46:34.098737Z",
     "start_time": "2024-11-28T01:46:33.904503Z"
    }
   },
   "outputs": [],
   "source": [
    "from collections import defaultdict\n",
    "h2h = defaultdict(lambda: [0,0])\n",
    "h2h_diff = []\n",
    "h2h_matches_played = []\n",
    "for row in matches.itertuples(index=True, name=\"PandasRow\"):\n",
    "    winner, loser = row.winner_id, row.loser_id\n",
    "    if min(winner, loser) == winner:\n",
    "        h2h_pov = 'winner'\n",
    "    else:\n",
    "        h2h_pov = 'loser'\n",
    "    first = min(winner, loser)\n",
    "    second = max(winner, loser)\n",
    "    key = f'{first}_{second}'\n",
    "    \n",
    "    if h2h_pov == 'winner':\n",
    "        h2h_diff.append(h2h[key][1])\n",
    "    else:\n",
    "        h2h_diff.append(h2h[key][1]*(-1))\n",
    "        \n",
    "    h2h_matches_played.append(h2h[key][0])\n",
    "    if h2h_pov == 'winner':\n",
    "        h2h[key][1] += 1 \n",
    "    else:\n",
    "        h2h[key][1] -= 1\n",
    "        \n",
    "    h2h[key][0] += 1\n",
    "    \n",
    "matches['h2h_diff'] = h2h_diff\n",
    "matches['h2h_matches_played'] = h2h_matches_played"
   ]
  },
  {
   "cell_type": "code",
   "execution_count": 6,
   "metadata": {
    "ExecuteTime": {
     "end_time": "2024-11-28T01:46:34.120186Z",
     "start_time": "2024-11-28T01:46:34.099519Z"
    }
   },
   "outputs": [
    {
     "data": {
      "text/plain": "      tournament_location           tournament_name        Date  \\\n0              Adelaide 1  Adelaide International 1  2023-01-01   \n1              Adelaide 1  Adelaide International 1  2023-01-01   \n2              Adelaide 1  Adelaide International 1  2023-01-02   \n3              Adelaide 1  Adelaide International 1  2023-01-02   \n4              Adelaide 1  Adelaide International 1  2023-01-02   \n...                   ...                       ...         ...   \n14106             Paris 2       BNP Paribas Masters  2018-11-02   \n14107             Paris 2       BNP Paribas Masters  2018-11-02   \n14108             Paris 2       BNP Paribas Masters  2018-11-03   \n14109             Paris 2       BNP Paribas Masters  2018-11-03   \n14110             Paris 2       BNP Paribas Masters  2018-11-04   \n\n      indoor_or_outdoor Surface          Round   W1   L1   W2   L2  ...  \\\n0               Outdoor    Hard      1st Round  7.0  6.0  6.0  7.0  ...   \n1               Outdoor    Hard      1st Round  6.0  3.0  0.0  0.0  ...   \n2               Outdoor    Hard      1st Round  6.0  4.0  6.0  4.0  ...   \n3               Outdoor    Hard      1st Round  2.0  6.0  6.0  4.0  ...   \n4               Outdoor    Hard      1st Round  6.0  4.0  7.0  6.0  ...   \n...                 ...     ...            ...  ...  ...  ...  ...  ...   \n14106            Indoor    Hard  Quarterfinals  4.0  6.0  6.0  2.0  ...   \n14107            Indoor    Hard  Quarterfinals  6.0  4.0  6.0  4.0  ...   \n14108            Indoor    Hard     Semifinals  6.0  4.0  6.0  1.0  ...   \n14109            Indoor    Hard     Semifinals  7.0  6.0  5.0  7.0  ...   \n14110            Indoor    Hard      The Final  7.0  5.0  6.0  4.0  ...   \n\n       winner_entry_WC  loser_entry_LL  loser_entry_Q  loser_entry_WC  \\\n0                False           False          False           False   \n1                False           False          False           False   \n2                False           False          False            True   \n3                False           False          False           False   \n4                False           False          False           False   \n...                ...             ...            ...             ...   \n14106            False           False          False           False   \n14107            False           False          False           False   \n14108            False           False          False           False   \n14109            False           False          False           False   \n14110            False           False          False           False   \n\n       winner_is_seeded  loser_is_seeded  w_2ndIn  l_2ndIn h2h_diff  \\\n0                     0                0     32.0     61.0        0   \n1                     0                0      5.0     13.0        0   \n2                     0                0     28.0     22.0        0   \n3                     0                1     24.0     30.0        0   \n4                     0                1     20.0     19.0        0   \n...                 ...              ...      ...      ...      ...   \n14106                 1                1     26.0     28.0        2   \n14107                 1                1     25.0     26.0        2   \n14108                 0                1     12.0     26.0       -2   \n14109                 1                1     37.0     44.0        3   \n14110                 0                1     14.0     27.0       -8   \n\n       h2h_matches_played  \n0                       0  \n1                       0  \n2                       0  \n3                       0  \n4                       0  \n...                   ...  \n14106                   4  \n14107                   2  \n14108                   2  \n14109                   3  \n14110                   8  \n\n[14111 rows x 76 columns]",
      "text/html": "<div>\n<style scoped>\n    .dataframe tbody tr th:only-of-type {\n        vertical-align: middle;\n    }\n\n    .dataframe tbody tr th {\n        vertical-align: top;\n    }\n\n    .dataframe thead th {\n        text-align: right;\n    }\n</style>\n<table border=\"1\" class=\"dataframe\">\n  <thead>\n    <tr style=\"text-align: right;\">\n      <th></th>\n      <th>tournament_location</th>\n      <th>tournament_name</th>\n      <th>Date</th>\n      <th>indoor_or_outdoor</th>\n      <th>Surface</th>\n      <th>Round</th>\n      <th>W1</th>\n      <th>L1</th>\n      <th>W2</th>\n      <th>L2</th>\n      <th>...</th>\n      <th>winner_entry_WC</th>\n      <th>loser_entry_LL</th>\n      <th>loser_entry_Q</th>\n      <th>loser_entry_WC</th>\n      <th>winner_is_seeded</th>\n      <th>loser_is_seeded</th>\n      <th>w_2ndIn</th>\n      <th>l_2ndIn</th>\n      <th>h2h_diff</th>\n      <th>h2h_matches_played</th>\n    </tr>\n  </thead>\n  <tbody>\n    <tr>\n      <th>0</th>\n      <td>Adelaide 1</td>\n      <td>Adelaide International 1</td>\n      <td>2023-01-01</td>\n      <td>Outdoor</td>\n      <td>Hard</td>\n      <td>1st Round</td>\n      <td>7.0</td>\n      <td>6.0</td>\n      <td>6.0</td>\n      <td>7.0</td>\n      <td>...</td>\n      <td>False</td>\n      <td>False</td>\n      <td>False</td>\n      <td>False</td>\n      <td>0</td>\n      <td>0</td>\n      <td>32.0</td>\n      <td>61.0</td>\n      <td>0</td>\n      <td>0</td>\n    </tr>\n    <tr>\n      <th>1</th>\n      <td>Adelaide 1</td>\n      <td>Adelaide International 1</td>\n      <td>2023-01-01</td>\n      <td>Outdoor</td>\n      <td>Hard</td>\n      <td>1st Round</td>\n      <td>6.0</td>\n      <td>3.0</td>\n      <td>0.0</td>\n      <td>0.0</td>\n      <td>...</td>\n      <td>False</td>\n      <td>False</td>\n      <td>False</td>\n      <td>False</td>\n      <td>0</td>\n      <td>0</td>\n      <td>5.0</td>\n      <td>13.0</td>\n      <td>0</td>\n      <td>0</td>\n    </tr>\n    <tr>\n      <th>2</th>\n      <td>Adelaide 1</td>\n      <td>Adelaide International 1</td>\n      <td>2023-01-02</td>\n      <td>Outdoor</td>\n      <td>Hard</td>\n      <td>1st Round</td>\n      <td>6.0</td>\n      <td>4.0</td>\n      <td>6.0</td>\n      <td>4.0</td>\n      <td>...</td>\n      <td>False</td>\n      <td>False</td>\n      <td>False</td>\n      <td>True</td>\n      <td>0</td>\n      <td>0</td>\n      <td>28.0</td>\n      <td>22.0</td>\n      <td>0</td>\n      <td>0</td>\n    </tr>\n    <tr>\n      <th>3</th>\n      <td>Adelaide 1</td>\n      <td>Adelaide International 1</td>\n      <td>2023-01-02</td>\n      <td>Outdoor</td>\n      <td>Hard</td>\n      <td>1st Round</td>\n      <td>2.0</td>\n      <td>6.0</td>\n      <td>6.0</td>\n      <td>4.0</td>\n      <td>...</td>\n      <td>False</td>\n      <td>False</td>\n      <td>False</td>\n      <td>False</td>\n      <td>0</td>\n      <td>1</td>\n      <td>24.0</td>\n      <td>30.0</td>\n      <td>0</td>\n      <td>0</td>\n    </tr>\n    <tr>\n      <th>4</th>\n      <td>Adelaide 1</td>\n      <td>Adelaide International 1</td>\n      <td>2023-01-02</td>\n      <td>Outdoor</td>\n      <td>Hard</td>\n      <td>1st Round</td>\n      <td>6.0</td>\n      <td>4.0</td>\n      <td>7.0</td>\n      <td>6.0</td>\n      <td>...</td>\n      <td>False</td>\n      <td>False</td>\n      <td>False</td>\n      <td>False</td>\n      <td>0</td>\n      <td>1</td>\n      <td>20.0</td>\n      <td>19.0</td>\n      <td>0</td>\n      <td>0</td>\n    </tr>\n    <tr>\n      <th>...</th>\n      <td>...</td>\n      <td>...</td>\n      <td>...</td>\n      <td>...</td>\n      <td>...</td>\n      <td>...</td>\n      <td>...</td>\n      <td>...</td>\n      <td>...</td>\n      <td>...</td>\n      <td>...</td>\n      <td>...</td>\n      <td>...</td>\n      <td>...</td>\n      <td>...</td>\n      <td>...</td>\n      <td>...</td>\n      <td>...</td>\n      <td>...</td>\n      <td>...</td>\n      <td>...</td>\n    </tr>\n    <tr>\n      <th>14106</th>\n      <td>Paris 2</td>\n      <td>BNP Paribas Masters</td>\n      <td>2018-11-02</td>\n      <td>Indoor</td>\n      <td>Hard</td>\n      <td>Quarterfinals</td>\n      <td>4.0</td>\n      <td>6.0</td>\n      <td>6.0</td>\n      <td>2.0</td>\n      <td>...</td>\n      <td>False</td>\n      <td>False</td>\n      <td>False</td>\n      <td>False</td>\n      <td>1</td>\n      <td>1</td>\n      <td>26.0</td>\n      <td>28.0</td>\n      <td>2</td>\n      <td>4</td>\n    </tr>\n    <tr>\n      <th>14107</th>\n      <td>Paris 2</td>\n      <td>BNP Paribas Masters</td>\n      <td>2018-11-02</td>\n      <td>Indoor</td>\n      <td>Hard</td>\n      <td>Quarterfinals</td>\n      <td>6.0</td>\n      <td>4.0</td>\n      <td>6.0</td>\n      <td>4.0</td>\n      <td>...</td>\n      <td>False</td>\n      <td>False</td>\n      <td>False</td>\n      <td>False</td>\n      <td>1</td>\n      <td>1</td>\n      <td>25.0</td>\n      <td>26.0</td>\n      <td>2</td>\n      <td>2</td>\n    </tr>\n    <tr>\n      <th>14108</th>\n      <td>Paris 2</td>\n      <td>BNP Paribas Masters</td>\n      <td>2018-11-03</td>\n      <td>Indoor</td>\n      <td>Hard</td>\n      <td>Semifinals</td>\n      <td>6.0</td>\n      <td>4.0</td>\n      <td>6.0</td>\n      <td>1.0</td>\n      <td>...</td>\n      <td>False</td>\n      <td>False</td>\n      <td>False</td>\n      <td>False</td>\n      <td>0</td>\n      <td>1</td>\n      <td>12.0</td>\n      <td>26.0</td>\n      <td>-2</td>\n      <td>2</td>\n    </tr>\n    <tr>\n      <th>14109</th>\n      <td>Paris 2</td>\n      <td>BNP Paribas Masters</td>\n      <td>2018-11-03</td>\n      <td>Indoor</td>\n      <td>Hard</td>\n      <td>Semifinals</td>\n      <td>7.0</td>\n      <td>6.0</td>\n      <td>5.0</td>\n      <td>7.0</td>\n      <td>...</td>\n      <td>False</td>\n      <td>False</td>\n      <td>False</td>\n      <td>False</td>\n      <td>1</td>\n      <td>1</td>\n      <td>37.0</td>\n      <td>44.0</td>\n      <td>3</td>\n      <td>3</td>\n    </tr>\n    <tr>\n      <th>14110</th>\n      <td>Paris 2</td>\n      <td>BNP Paribas Masters</td>\n      <td>2018-11-04</td>\n      <td>Indoor</td>\n      <td>Hard</td>\n      <td>The Final</td>\n      <td>7.0</td>\n      <td>5.0</td>\n      <td>6.0</td>\n      <td>4.0</td>\n      <td>...</td>\n      <td>False</td>\n      <td>False</td>\n      <td>False</td>\n      <td>False</td>\n      <td>0</td>\n      <td>1</td>\n      <td>14.0</td>\n      <td>27.0</td>\n      <td>-8</td>\n      <td>8</td>\n    </tr>\n  </tbody>\n</table>\n<p>14111 rows × 76 columns</p>\n</div>"
     },
     "execution_count": 6,
     "metadata": {},
     "output_type": "execute_result"
    }
   ],
   "source": [
    "matches"
   ]
  },
  {
   "cell_type": "markdown",
   "metadata": {},
   "source": [
    "### dodajemy winner_home, loser_home, które są true gdy zawodnik gra turniej w kraju, z którego pochodzi"
   ]
  },
  {
   "cell_type": "code",
   "execution_count": 7,
   "metadata": {
    "ExecuteTime": {
     "end_time": "2024-11-28T01:46:34.126416Z",
     "start_time": "2024-11-28T01:46:34.121399Z"
    }
   },
   "outputs": [],
   "source": [
    "locations_to_countries = {\n",
    "    'Adelaide 1': 'AUS',\n",
    "    'Pune': 'IND',\n",
    "    'Adelaide 2': 'AUS',\n",
    "    'Auckland': 'NZL',\n",
    "    'Melbourne': 'AUS',\n",
    "    'Cordoba': 'ARG',\n",
    "    'Dallas': 'USA',\n",
    "    'Montpellier': 'FRA',\n",
    "    'Buenos Aires': 'ARG',\n",
    "    'Delray Beach': 'USA',\n",
    "    'Rotterdam': 'NED',\n",
    "    'Doha': 'QAT',\n",
    "    'Marseille': 'FRA',\n",
    "    'Rio de Janeiro': 'BRA',\n",
    "    'Acapulco': 'MEX',\n",
    "    'Dubai': 'UAE',\n",
    "    'Santiago': 'CHI',\n",
    "    'Indian Wells': 'USA',\n",
    "    'Miami': 'USA',\n",
    "    'Estoril': 'POR',\n",
    "    'Houston': 'USA',\n",
    "    'Marrakech': 'MAR',\n",
    "    'Monte Carlo': 'MCO',\n",
    "    'Barcelona': 'ESP',\n",
    "    'Banja Luka': 'BIH',\n",
    "    'Munich': 'GER',\n",
    "    'Madrid': 'ESP',\n",
    "    'Rome': 'ITA',\n",
    "    'Geneva': 'SUI',\n",
    "    'Lyon': 'FRA',\n",
    "    'Paris': 'FRA',\n",
    "    \"'s-Hertogenbosch\": 'NED',\n",
    "    'Stuttgart': 'GER',\n",
    "    'Halle': 'GER',\n",
    "    'Queens Club': 'GBR',\n",
    "    'Eastbourne': 'GBR',\n",
    "    'Mallorca': 'ESP',\n",
    "    'London': 'GBR',\n",
    "    'Bastad': 'SWE',\n",
    "    'Gstaad': 'SUI',\n",
    "    'Newport': 'USA',\n",
    "    'Atlanta': 'USA',\n",
    "    'Hamburg': 'GER',\n",
    "    'Umag': 'CRO',\n",
    "    'Kitzbuhel': 'AUT',\n",
    "    'Los Cabos': 'MEX',\n",
    "    'Washington': 'USA',\n",
    "    'Toronto': 'CAN',\n",
    "    'Cincinnati': 'USA',\n",
    "    'Winston-Salem': 'USA',\n",
    "    'New York': 'USA',\n",
    "    'Chengdu': 'CHN',\n",
    "    'Zhuhai': 'CHN',\n",
    "    'Beijing': 'CHN',\n",
    "    'Nur-Sultan': 'KAZ',\n",
    "    'Shanghai': 'CHN',\n",
    "    'Antwerp': 'BEL',\n",
    "    'Stockholm': 'SWE',\n",
    "    'Tokyo': 'JPN',\n",
    "    'Basel': 'SUI',\n",
    "    'Gijon': 'ESP',\n",
    "    'Cologne 1': 'GER',\n",
    "    'Cologne 2': 'GER',\n",
    "    'Vienna': 'AUT',\n",
    "    'Sofia': 'BUL',\n",
    "    'Paris 2': 'FRA',\n",
    "    'Metz': 'FRA',\n",
    "    'Sydney': 'AUS',\n",
    "    'Belgrade': 'SRB',\n",
    "    'Montreal': 'CAN',\n",
    "    'San Diego': 'USA',\n",
    "    'Moscow': 'RUS',\n",
    "    'St. Petersburg': 'RUS',\n",
    "    'Seoul': 'KOR',\n",
    "    'Tel Aviv': 'ISR',\n",
    "    'Florence': 'ITA',\n",
    "    'Naples': 'ITA',\n",
    "    'Antalya': 'TUR',\n",
    "    'Singapore': 'SGP',\n",
    "    'Cagliari': 'ITA',\n",
    "    'Marbella': 'ESP',\n",
    "    'Belgrade 2': 'SRB',\n",
    "    'Parma': 'ITA',\n",
    "    'Adelaide': 'AUS',\n",
    "    'Sardinia': 'ITA',\n",
    "    'Brisbane': 'AUS',\n",
    "    'Sao Paulo': 'BRA',\n",
    "    'Budapest': 'HUN',\n",
    "    'Quito': 'ECU',\n",
    "    'Istanbul': 'TUR',\n",
    "    'Shenzhen': 'CHN'\n",
    "}"
   ]
  },
  {
   "cell_type": "code",
   "execution_count": 8,
   "metadata": {
    "ExecuteTime": {
     "end_time": "2024-11-28T01:46:34.131379Z",
     "start_time": "2024-11-28T01:46:34.127469Z"
    }
   },
   "outputs": [],
   "source": [
    "matches['tournament_country'] = matches['tournament_location'].map(locations_to_countries)"
   ]
  },
  {
   "cell_type": "code",
   "execution_count": 9,
   "metadata": {
    "ExecuteTime": {
     "end_time": "2024-11-28T01:46:34.137564Z",
     "start_time": "2024-11-28T01:46:34.132089Z"
    }
   },
   "outputs": [],
   "source": [
    "matches['winner_home'] = (matches['winner_ioc'] == matches['tournament_country'])\n",
    "matches['loser_home'] = (matches['loser_ioc'] == matches['tournament_country'])"
   ]
  },
  {
   "cell_type": "code",
   "execution_count": 10,
   "metadata": {
    "ExecuteTime": {
     "end_time": "2024-11-28T01:46:34.158800Z",
     "start_time": "2024-11-28T01:46:34.140438Z"
    }
   },
   "outputs": [
    {
     "data": {
      "text/plain": "      tournament_location           tournament_name        Date  \\\n0              Adelaide 1  Adelaide International 1  2023-01-01   \n1              Adelaide 1  Adelaide International 1  2023-01-01   \n2              Adelaide 1  Adelaide International 1  2023-01-02   \n3              Adelaide 1  Adelaide International 1  2023-01-02   \n4              Adelaide 1  Adelaide International 1  2023-01-02   \n...                   ...                       ...         ...   \n14106             Paris 2       BNP Paribas Masters  2018-11-02   \n14107             Paris 2       BNP Paribas Masters  2018-11-02   \n14108             Paris 2       BNP Paribas Masters  2018-11-03   \n14109             Paris 2       BNP Paribas Masters  2018-11-03   \n14110             Paris 2       BNP Paribas Masters  2018-11-04   \n\n      indoor_or_outdoor Surface          Round   W1   L1   W2   L2  ...  \\\n0               Outdoor    Hard      1st Round  7.0  6.0  6.0  7.0  ...   \n1               Outdoor    Hard      1st Round  6.0  3.0  0.0  0.0  ...   \n2               Outdoor    Hard      1st Round  6.0  4.0  6.0  4.0  ...   \n3               Outdoor    Hard      1st Round  2.0  6.0  6.0  4.0  ...   \n4               Outdoor    Hard      1st Round  6.0  4.0  7.0  6.0  ...   \n...                 ...     ...            ...  ...  ...  ...  ...  ...   \n14106            Indoor    Hard  Quarterfinals  4.0  6.0  6.0  2.0  ...   \n14107            Indoor    Hard  Quarterfinals  6.0  4.0  6.0  4.0  ...   \n14108            Indoor    Hard     Semifinals  6.0  4.0  6.0  1.0  ...   \n14109            Indoor    Hard     Semifinals  7.0  6.0  5.0  7.0  ...   \n14110            Indoor    Hard      The Final  7.0  5.0  6.0  4.0  ...   \n\n       loser_entry_WC  winner_is_seeded  loser_is_seeded  w_2ndIn  l_2ndIn  \\\n0               False                 0                0     32.0     61.0   \n1               False                 0                0      5.0     13.0   \n2                True                 0                0     28.0     22.0   \n3               False                 0                1     24.0     30.0   \n4               False                 0                1     20.0     19.0   \n...               ...               ...              ...      ...      ...   \n14106           False                 1                1     26.0     28.0   \n14107           False                 1                1     25.0     26.0   \n14108           False                 0                1     12.0     26.0   \n14109           False                 1                1     37.0     44.0   \n14110           False                 0                1     14.0     27.0   \n\n       h2h_diff  h2h_matches_played  tournament_country winner_home  \\\n0             0                   0                 AUS       False   \n1             0                   0                 AUS       False   \n2             0                   0                 AUS       False   \n3             0                   0                 AUS       False   \n4             0                   0                 AUS        True   \n...         ...                 ...                 ...         ...   \n14106         2                   4                 FRA       False   \n14107         2                   2                 FRA       False   \n14108        -2                   2                 FRA       False   \n14109         3                   3                 FRA       False   \n14110        -8                   8                 FRA       False   \n\n       loser_home  \n0           False  \n1           False  \n2            True  \n3           False  \n4           False  \n...           ...  \n14106       False  \n14107       False  \n14108       False  \n14109       False  \n14110       False  \n\n[14111 rows x 79 columns]",
      "text/html": "<div>\n<style scoped>\n    .dataframe tbody tr th:only-of-type {\n        vertical-align: middle;\n    }\n\n    .dataframe tbody tr th {\n        vertical-align: top;\n    }\n\n    .dataframe thead th {\n        text-align: right;\n    }\n</style>\n<table border=\"1\" class=\"dataframe\">\n  <thead>\n    <tr style=\"text-align: right;\">\n      <th></th>\n      <th>tournament_location</th>\n      <th>tournament_name</th>\n      <th>Date</th>\n      <th>indoor_or_outdoor</th>\n      <th>Surface</th>\n      <th>Round</th>\n      <th>W1</th>\n      <th>L1</th>\n      <th>W2</th>\n      <th>L2</th>\n      <th>...</th>\n      <th>loser_entry_WC</th>\n      <th>winner_is_seeded</th>\n      <th>loser_is_seeded</th>\n      <th>w_2ndIn</th>\n      <th>l_2ndIn</th>\n      <th>h2h_diff</th>\n      <th>h2h_matches_played</th>\n      <th>tournament_country</th>\n      <th>winner_home</th>\n      <th>loser_home</th>\n    </tr>\n  </thead>\n  <tbody>\n    <tr>\n      <th>0</th>\n      <td>Adelaide 1</td>\n      <td>Adelaide International 1</td>\n      <td>2023-01-01</td>\n      <td>Outdoor</td>\n      <td>Hard</td>\n      <td>1st Round</td>\n      <td>7.0</td>\n      <td>6.0</td>\n      <td>6.0</td>\n      <td>7.0</td>\n      <td>...</td>\n      <td>False</td>\n      <td>0</td>\n      <td>0</td>\n      <td>32.0</td>\n      <td>61.0</td>\n      <td>0</td>\n      <td>0</td>\n      <td>AUS</td>\n      <td>False</td>\n      <td>False</td>\n    </tr>\n    <tr>\n      <th>1</th>\n      <td>Adelaide 1</td>\n      <td>Adelaide International 1</td>\n      <td>2023-01-01</td>\n      <td>Outdoor</td>\n      <td>Hard</td>\n      <td>1st Round</td>\n      <td>6.0</td>\n      <td>3.0</td>\n      <td>0.0</td>\n      <td>0.0</td>\n      <td>...</td>\n      <td>False</td>\n      <td>0</td>\n      <td>0</td>\n      <td>5.0</td>\n      <td>13.0</td>\n      <td>0</td>\n      <td>0</td>\n      <td>AUS</td>\n      <td>False</td>\n      <td>False</td>\n    </tr>\n    <tr>\n      <th>2</th>\n      <td>Adelaide 1</td>\n      <td>Adelaide International 1</td>\n      <td>2023-01-02</td>\n      <td>Outdoor</td>\n      <td>Hard</td>\n      <td>1st Round</td>\n      <td>6.0</td>\n      <td>4.0</td>\n      <td>6.0</td>\n      <td>4.0</td>\n      <td>...</td>\n      <td>True</td>\n      <td>0</td>\n      <td>0</td>\n      <td>28.0</td>\n      <td>22.0</td>\n      <td>0</td>\n      <td>0</td>\n      <td>AUS</td>\n      <td>False</td>\n      <td>True</td>\n    </tr>\n    <tr>\n      <th>3</th>\n      <td>Adelaide 1</td>\n      <td>Adelaide International 1</td>\n      <td>2023-01-02</td>\n      <td>Outdoor</td>\n      <td>Hard</td>\n      <td>1st Round</td>\n      <td>2.0</td>\n      <td>6.0</td>\n      <td>6.0</td>\n      <td>4.0</td>\n      <td>...</td>\n      <td>False</td>\n      <td>0</td>\n      <td>1</td>\n      <td>24.0</td>\n      <td>30.0</td>\n      <td>0</td>\n      <td>0</td>\n      <td>AUS</td>\n      <td>False</td>\n      <td>False</td>\n    </tr>\n    <tr>\n      <th>4</th>\n      <td>Adelaide 1</td>\n      <td>Adelaide International 1</td>\n      <td>2023-01-02</td>\n      <td>Outdoor</td>\n      <td>Hard</td>\n      <td>1st Round</td>\n      <td>6.0</td>\n      <td>4.0</td>\n      <td>7.0</td>\n      <td>6.0</td>\n      <td>...</td>\n      <td>False</td>\n      <td>0</td>\n      <td>1</td>\n      <td>20.0</td>\n      <td>19.0</td>\n      <td>0</td>\n      <td>0</td>\n      <td>AUS</td>\n      <td>True</td>\n      <td>False</td>\n    </tr>\n    <tr>\n      <th>...</th>\n      <td>...</td>\n      <td>...</td>\n      <td>...</td>\n      <td>...</td>\n      <td>...</td>\n      <td>...</td>\n      <td>...</td>\n      <td>...</td>\n      <td>...</td>\n      <td>...</td>\n      <td>...</td>\n      <td>...</td>\n      <td>...</td>\n      <td>...</td>\n      <td>...</td>\n      <td>...</td>\n      <td>...</td>\n      <td>...</td>\n      <td>...</td>\n      <td>...</td>\n      <td>...</td>\n    </tr>\n    <tr>\n      <th>14106</th>\n      <td>Paris 2</td>\n      <td>BNP Paribas Masters</td>\n      <td>2018-11-02</td>\n      <td>Indoor</td>\n      <td>Hard</td>\n      <td>Quarterfinals</td>\n      <td>4.0</td>\n      <td>6.0</td>\n      <td>6.0</td>\n      <td>2.0</td>\n      <td>...</td>\n      <td>False</td>\n      <td>1</td>\n      <td>1</td>\n      <td>26.0</td>\n      <td>28.0</td>\n      <td>2</td>\n      <td>4</td>\n      <td>FRA</td>\n      <td>False</td>\n      <td>False</td>\n    </tr>\n    <tr>\n      <th>14107</th>\n      <td>Paris 2</td>\n      <td>BNP Paribas Masters</td>\n      <td>2018-11-02</td>\n      <td>Indoor</td>\n      <td>Hard</td>\n      <td>Quarterfinals</td>\n      <td>6.0</td>\n      <td>4.0</td>\n      <td>6.0</td>\n      <td>4.0</td>\n      <td>...</td>\n      <td>False</td>\n      <td>1</td>\n      <td>1</td>\n      <td>25.0</td>\n      <td>26.0</td>\n      <td>2</td>\n      <td>2</td>\n      <td>FRA</td>\n      <td>False</td>\n      <td>False</td>\n    </tr>\n    <tr>\n      <th>14108</th>\n      <td>Paris 2</td>\n      <td>BNP Paribas Masters</td>\n      <td>2018-11-03</td>\n      <td>Indoor</td>\n      <td>Hard</td>\n      <td>Semifinals</td>\n      <td>6.0</td>\n      <td>4.0</td>\n      <td>6.0</td>\n      <td>1.0</td>\n      <td>...</td>\n      <td>False</td>\n      <td>0</td>\n      <td>1</td>\n      <td>12.0</td>\n      <td>26.0</td>\n      <td>-2</td>\n      <td>2</td>\n      <td>FRA</td>\n      <td>False</td>\n      <td>False</td>\n    </tr>\n    <tr>\n      <th>14109</th>\n      <td>Paris 2</td>\n      <td>BNP Paribas Masters</td>\n      <td>2018-11-03</td>\n      <td>Indoor</td>\n      <td>Hard</td>\n      <td>Semifinals</td>\n      <td>7.0</td>\n      <td>6.0</td>\n      <td>5.0</td>\n      <td>7.0</td>\n      <td>...</td>\n      <td>False</td>\n      <td>1</td>\n      <td>1</td>\n      <td>37.0</td>\n      <td>44.0</td>\n      <td>3</td>\n      <td>3</td>\n      <td>FRA</td>\n      <td>False</td>\n      <td>False</td>\n    </tr>\n    <tr>\n      <th>14110</th>\n      <td>Paris 2</td>\n      <td>BNP Paribas Masters</td>\n      <td>2018-11-04</td>\n      <td>Indoor</td>\n      <td>Hard</td>\n      <td>The Final</td>\n      <td>7.0</td>\n      <td>5.0</td>\n      <td>6.0</td>\n      <td>4.0</td>\n      <td>...</td>\n      <td>False</td>\n      <td>0</td>\n      <td>1</td>\n      <td>14.0</td>\n      <td>27.0</td>\n      <td>-8</td>\n      <td>8</td>\n      <td>FRA</td>\n      <td>False</td>\n      <td>False</td>\n    </tr>\n  </tbody>\n</table>\n<p>14111 rows × 79 columns</p>\n</div>"
     },
     "execution_count": 10,
     "metadata": {},
     "output_type": "execute_result"
    }
   ],
   "source": [
    "matches"
   ]
  },
  {
   "cell_type": "markdown",
   "metadata": {},
   "source": [
    "# tworzenie kolumn będących danymi przed meczem"
   ]
  },
  {
   "cell_type": "code",
   "execution_count": 11,
   "metadata": {
    "ExecuteTime": {
     "end_time": "2024-11-28T01:46:38.168550Z",
     "start_time": "2024-11-28T01:46:34.159634Z"
    }
   },
   "outputs": [],
   "source": [
    "round_order = {\n",
    "    '1st Round': 1,\n",
    "    '2nd Round': 2,\n",
    "    '3rd Round': 3,\n",
    "    '4th Round': 4,\n",
    "    'Quarterfinals': 5,\n",
    "    'Semifinals': 6,\n",
    "    'The Final': 7\n",
    "}\n",
    "\n",
    "matches['Round_Num'] = matches['Round'].map(round_order)\n",
    "\n",
    "matches_sorted = matches.sort_values(by=['tournament_date', 'Round_Num'])\n",
    "\n",
    "# Tworzenie słownika przechowującego statystyki przedmeczowe dla każdego zawodnika w danym turnieju\n",
    "player_stats = {}\n",
    "\n",
    "for index, row in matches_sorted.iterrows():\n",
    "    winner_id = row['winner_id']  # ID zwycięzcy\n",
    "    loser_id = row['loser_id']    # ID przegranego\n",
    "    tournament_id = row['tournament_id']  # ID turnieju\n",
    "    \n",
    "    # Sprawdzanie, czy turniej jest już w słowniku, jeśli nie, inicjalizacja\n",
    "    if tournament_id not in player_stats:\n",
    "        player_stats[tournament_id] = {}\n",
    "    \n",
    "    # Aktualizacja statystyk przed pierwszym meczem w turnieju\n",
    "    if winner_id not in player_stats[tournament_id]:\n",
    "        player_stats[tournament_id][winner_id] = {'Total_aces': 0, 'Total_minutes': 0, 'Total_double_errors':0, 'Total_serves':0, 'Total_points_won_after_1st_serve':0,'Total_points_won_after_2nd_serve':0,'Total_1st_serves':0, 'Total_2nd_serves':0,'Total_games_serving':0}\n",
    "    if loser_id not in player_stats[tournament_id]:\n",
    "        player_stats[tournament_id][loser_id] = {'Total_aces': 0, 'Total_minutes': 0, 'Total_double_errors':0, 'Total_serves':0, 'Total_points_won_after_1st_serve':0,'Total_points_won_after_2nd_serve':0,'Total_1st_serves':0, 'Total_2nd_serves':0,'Total_games_serving':0}\n",
    "    \n",
    "    # Statystyki, które będą aktualizowane\n",
    "    stats = [\n",
    "        'Total_aces', 'Total_minutes', 'Total_double_errors', 'Total_serves',\n",
    "        'Total_points_won_after_1st_serve', 'Total_points_won_after_2nd_serve',\n",
    "        'Total_1st_serves', 'Total_2nd_serves', 'Total_games_serving'\n",
    "    ]\n",
    "\n",
    "    # Dodanie kolumn do ramki danych ze statystykami przedmeczowymi\n",
    "    for stat in stats:\n",
    "        matches.at[index, f'Winner_{stat}'] = player_stats[tournament_id][winner_id][stat]\n",
    "        matches.at[index, f'Loser_{stat}'] = player_stats[tournament_id][loser_id][stat]\n",
    "\n",
    "    # Aktualizacja statystyk po meczu\n",
    "    winner_stats = {\n",
    "        key: int(row[val]) if pd.notna(row[val]) else 0\n",
    "        for key, val in {\n",
    "            'Total_aces': 'w_ace',\n",
    "            'Total_minutes': 'minutes',\n",
    "            'Total_double_errors': 'w_df',\n",
    "            'Total_serves': 'w_svpt',\n",
    "            'Total_points_won_after_1st_serve': 'w_1stWon',\n",
    "            'Total_points_won_after_2nd_serve': 'w_2ndWon',\n",
    "            'Total_1st_serves': 'w_1stIn',\n",
    "            'Total_2nd_serves': 'w_2ndIn',\n",
    "            'Total_games_serving': 'w_SvGms'\n",
    "        }.items()\n",
    "    }\n",
    "\n",
    "    loser_stats = {\n",
    "        key: int(row[val]) if pd.notna(row[val]) else 0\n",
    "        for key, val in {\n",
    "            'Total_aces': 'l_ace',\n",
    "            'Total_minutes': 'minutes',\n",
    "            'Total_double_errors': 'l_df',\n",
    "            'Total_serves': 'l_svpt',\n",
    "            'Total_points_won_after_1st_serve': 'l_1stWon',\n",
    "            'Total_points_won_after_2nd_serve': 'l_2ndWon',\n",
    "            'Total_1st_serves': 'l_1stIn',\n",
    "            'Total_2nd_serves': 'l_2ndIn',\n",
    "            'Total_games_serving': 'l_SvGms'\n",
    "        }.items()\n",
    "    }\n",
    "\n",
    "    for stat in stats:\n",
    "        player_stats[tournament_id][winner_id][stat] += winner_stats[stat]\n",
    "        player_stats[tournament_id][loser_id][stat] += loser_stats[stat]\n",
    "    \n",
    "    \n",
    "    "
   ]
  },
  {
   "cell_type": "markdown",
   "metadata": {},
   "source": [
    "# stworzenie kolumn, z procentem wygranych gier dla danego zawodnika w 10 ostatnich grach i 10 ostatnich grach na danej nawierzchni(do walidacji)"
   ]
  },
  {
   "cell_type": "code",
   "execution_count": 12,
   "metadata": {
    "ExecuteTime": {
     "end_time": "2024-11-28T01:48:34.432530Z",
     "start_time": "2024-11-28T01:46:38.169610Z"
    }
   },
   "outputs": [],
   "source": [
    "import datetime\n",
    "\n",
    "def calculate_win_percentage_before_match(matches: pd.DataFrame, player_id: str, current_date: datetime, surface=None):\n",
    "    # Filter matches for the given player before the current date\n",
    "    player_matches = matches[((matches['winner_id'] == player_id) | (matches['loser_id'] == player_id)) & (matches['Date'] < current_date)]\n",
    "    \n",
    "    # Filter by surface if specified\n",
    "    if surface:\n",
    "        player_matches = player_matches[player_matches['Surface'] == surface]\n",
    "    \n",
    "    # Sort by date and take the last 10 matches\n",
    "    player_matches = player_matches.sort_values(by='Date', ascending=False).head(10)\n",
    "    \n",
    "    # Calculate win percentage\n",
    "    total_matches = len(player_matches)\n",
    "    if total_matches == 0:\n",
    "        return 0.0\n",
    "    \n",
    "    wins = len(player_matches[player_matches['winner_id'] == player_id])\n",
    "    return wins / total_matches\n",
    "\n",
    "# Calculate win percentages\n",
    "matches['winner_win_pct_last_10'] = matches.apply(lambda row: calculate_win_percentage_before_match(matches, row['winner_id'], row['Date']),axis=1)\n",
    "matches['loser_win_pct_last_10'] = matches.apply(lambda row: calculate_win_percentage_before_match(matches, row['loser_id'], row['Date']),axis=1)\n",
    "matches['winner_win_pct_last_10_surface'] = matches.apply(lambda row: calculate_win_percentage_before_match(matches, row['winner_id'], row['Date'], row['Surface']),axis=1)\n",
    "matches['loser_win_pct_last_10_surface'] = matches.apply(lambda row: calculate_win_percentage_before_match(matches, row['loser_id'], row['Date'], row['Surface']),axis=1)"
   ]
  },
  {
   "cell_type": "markdown",
   "metadata": {},
   "source": [
    "### Stworzenie kolumn z procentowym wygrywaniem serwisow i returnow"
   ]
  },
  {
   "cell_type": "code",
   "execution_count": 13,
   "metadata": {
    "ExecuteTime": {
     "end_time": "2024-11-28T01:48:34.442941Z",
     "start_time": "2024-11-28T01:48:34.434959Z"
    }
   },
   "outputs": [],
   "source": [
    "\n",
    "def calculate_1st_serve_in_percentage(row):\n",
    "    if pd.isna(row['w_svpt']) or pd.isna(row['w_1stIn']):\n",
    "        return None\n",
    "    if row['w_svpt'] > 0:\n",
    "        return row['w_1stIn'] / row['w_svpt']\n",
    "    return 0\n",
    "\n",
    "def calculate_1st_serve_win_percentage(row):\n",
    "    if pd.isna(row['w_1stIn']) or pd.isna(row['w_1stWon']):\n",
    "        return None\n",
    "    if row['w_1stIn'] > 0:\n",
    "        return row['w_1stWon'] / row['w_1stIn']\n",
    "    return 0\n",
    "\n",
    "def calculate_2nd_serve_in_percentage(row):\n",
    "    if pd.isna(row['w_svpt']) or pd.isna(row['w_2ndIn']):\n",
    "        return None\n",
    "    if row['w_svpt'] > 0:\n",
    "        return row['w_2ndIn'] / row['w_svpt']\n",
    "    return 0\n",
    "\n",
    "def calculate_2nd_serve_win_percentage(row):\n",
    "    if pd.isna(row['w_2ndIn']) or pd.isna(row['w_1stIn']) or pd.isna(row['w_2ndWon']):\n",
    "        return None\n",
    "    if row['w_2ndIn'] - row['w_1stIn'] > 0:\n",
    "        return row['w_2ndWon'] / (row['w_2ndIn'] - row['w_1stIn'])\n",
    "    return 0\n",
    "\n",
    "def calculate_service_games_won_percentage(row):\n",
    "    if pd.isna(row['w_SvGms']) or pd.isna(row['w_bpFaced']) or pd.isna(row['w_bpSaved']):\n",
    "        return None\n",
    "    if row['w_SvGms'] > 0:\n",
    "        return (row['w_SvGms'] - (row['w_bpFaced'] - row['w_bpSaved'])) / row['w_SvGms']\n",
    "    return 0\n",
    "    \n",
    "\n",
    "def calculate_1st_serve_in_percentage_loser(row):\n",
    "    if pd.isna(row['l_svpt']) or pd.isna(row['l_1stIn']):\n",
    "        return None\n",
    "    if row['l_svpt'] > 0:\n",
    "        return row['l_1stIn'] / row['l_svpt']\n",
    "    return 0\n",
    "\n",
    "def calculate_1st_serve_win_percentage_loser(row):\n",
    "    if pd.isna(row['l_1stIn']) or pd.isna(row['l_1stWon']):\n",
    "        return None\n",
    "    if row['l_1stIn'] > 0:\n",
    "        return row['l_1stWon'] / row['l_1stIn']\n",
    "    return 0\n",
    "\n",
    "def calculate_2nd_serve_in_percentage_loser(row):\n",
    "    if pd.isna(row['l_svpt']) or pd.isna(row['l_1stIn']) or pd.isna(row['l_2ndIn']):\n",
    "        return None\n",
    "    if row['l_svpt'] - row['l_1stIn'] > 0:\n",
    "        return row['l_2ndIn'] / (row['l_svpt'] - row['l_1stIn'])\n",
    "    return 0\n",
    "\n",
    "def calculate_2nd_serve_win_percentage_loser(row):\n",
    "    if pd.isna(row['l_2ndIn']) or pd.isna(row['l_2ndWon']):\n",
    "        return None\n",
    "    if row['l_2ndIn'] > 0:\n",
    "        return row['l_2ndWon'] / row['l_2ndIn']\n",
    "    return 0\n",
    "\n",
    "def calculate_service_games_won_percentage_loser(row):\n",
    "    if pd.isna(row['l_SvGms']) or pd.isna(row['l_bpFaced']) or pd.isna(row['l_bpSaved']):\n",
    "        return None\n",
    "    if row['l_SvGms'] > 0:\n",
    "        return (row['l_SvGms'] - (row['l_bpFaced'] - row['l_bpSaved'])) / row['l_SvGms']\n",
    "    return 0\n",
    "\n"
   ]
  },
  {
   "cell_type": "code",
   "execution_count": 14,
   "metadata": {
    "ExecuteTime": {
     "end_time": "2024-11-28T01:48:36.182400Z",
     "start_time": "2024-11-28T01:48:34.443797Z"
    }
   },
   "outputs": [],
   "source": [
    "matches['winner_1st_serve_in_pct'] = matches.apply(calculate_1st_serve_in_percentage, axis=1)\n",
    "matches['winner_1st_serve_win_pct'] = matches.apply(calculate_1st_serve_win_percentage, axis=1)\n",
    "matches['winner_2nd_serve_in_pct'] = matches.apply(calculate_2nd_serve_in_percentage, axis=1)\n",
    "matches['winner_2nd_serve_win_pct'] = matches.apply(calculate_2nd_serve_win_percentage, axis=1)\n",
    "matches['winner_service_games_won_pct'] = matches.apply(calculate_service_games_won_percentage, axis=1)\n",
    "matches['loser_1st_serve_in_pct'] = matches.apply(calculate_1st_serve_in_percentage_loser, axis=1)\n",
    "matches['loser_1st_serve_win_pct'] = matches.apply(calculate_1st_serve_win_percentage_loser, axis=1)\n",
    "matches['loser_2nd_serve_in_pct'] = matches.apply(calculate_2nd_serve_in_percentage_loser, axis=1)\n",
    "matches['loser_2nd_serve_win_pct'] = matches.apply(calculate_2nd_serve_win_percentage_loser, axis=1)\n",
    "matches['loser_service_games_won_pct'] = matches.apply(calculate_service_games_won_percentage_loser, axis=1)"
   ]
  },
  {
   "cell_type": "code",
   "execution_count": 15,
   "metadata": {
    "ExecuteTime": {
     "end_time": "2024-11-28T01:48:36.187070Z",
     "start_time": "2024-11-28T01:48:36.183447Z"
    }
   },
   "outputs": [],
   "source": [
    "\n",
    "def calculate_1st_serve_return_win_percentage(row):\n",
    "    if pd.isna(row['loser_1st_serve_win_pct']):\n",
    "        return None\n",
    "    return 1 - row['loser_1st_serve_win_pct']\n",
    "\n",
    "def calculate_2nd_serve_return_win_percentage(row):\n",
    "    if pd.isna(row['loser_2nd_serve_win_pct']):\n",
    "        return None\n",
    "    return 1 - row['loser_2nd_serve_win_pct']\n",
    "\n",
    "def calculate_return_games_win_percentage(row):\n",
    "    if pd.isna(row['loser_service_games_won_pct']):\n",
    "        return None\n",
    "    return 1 - row['loser_service_games_won_pct']\n",
    "\n",
    "def calculate_1st_serve_return_win_percentage_loser(row):\n",
    "    if pd.isna(row['winner_1st_serve_win_pct']):\n",
    "        return None\n",
    "    return 1 - row['winner_1st_serve_win_pct']\n",
    "\n",
    "def calculate_2nd_serve_return_win_percentage_loser(row):\n",
    "    if pd.isna(row['winner_2nd_serve_win_pct']):\n",
    "        return None\n",
    "    return 1 - row['winner_2nd_serve_win_pct']\n",
    "\n",
    "def calculate_return_games_win_percentage_loser(row):\n",
    "    if pd.isna(row['winner_service_games_won_pct']):\n",
    "        return None\n",
    "    return 1 - row['winner_service_games_won_pct']\n",
    "\n"
   ]
  },
  {
   "cell_type": "code",
   "execution_count": 16,
   "metadata": {
    "ExecuteTime": {
     "end_time": "2024-11-28T01:48:36.851433Z",
     "start_time": "2024-11-28T01:48:36.188032Z"
    }
   },
   "outputs": [],
   "source": [
    "matches['winner_1st_serve_return_win_pct'] = matches.apply(calculate_1st_serve_return_win_percentage, axis=1)\n",
    "matches['winner_2nd_serve_return_win_pct'] = matches.apply(calculate_2nd_serve_return_win_percentage, axis=1)\n",
    "matches['winner_return_games_win_pct'] = matches.apply(calculate_return_games_win_percentage, axis=1)\n",
    "matches['loser_1st_serve_return_win_pct'] = matches.apply(calculate_1st_serve_return_win_percentage_loser, axis=1)\n",
    "matches['loser_2nd_serve_return_win_pct'] = matches.apply(calculate_2nd_serve_return_win_percentage_loser, axis=1)\n",
    "matches['loser_return_games_win_pct'] = matches.apply(calculate_return_games_win_percentage_loser, axis=1)"
   ]
  },
  {
   "cell_type": "code",
   "execution_count": 17,
   "metadata": {
    "ExecuteTime": {
     "end_time": "2024-11-28T01:48:36.856630Z",
     "start_time": "2024-11-28T01:48:36.852530Z"
    }
   },
   "outputs": [],
   "source": [
    "\n",
    "def calculate_percentage_of_break_points_won_on_opponents_serve(row):\n",
    "    if pd.isna(row['l_bpFaced']) or pd.isna(row['l_bpSaved']):\n",
    "        return None\n",
    "    if row['l_bpFaced'] > 0:\n",
    "        return (row['l_bpFaced'] - row['l_bpSaved']) / row['l_bpFaced']\n",
    "    return 0\n",
    "\n",
    "def calculate_percentage_of_break_points_won_on_opponents_serve_loser(row):\n",
    "    if pd.isna(row['w_bpFaced']) or pd.isna(row['w_bpSaved']):\n",
    "        return None\n",
    "    if row['w_bpFaced'] > 0:\n",
    "        return (row['w_bpFaced'] - row['w_bpSaved']) / row['w_bpFaced']\n",
    "    return 0\n",
    "\n",
    "def calculate_percentage_of_break_points_saved(row):\n",
    "    if pd.isna(row['w_bpFaced']) or pd.isna(row['w_bpSaved']):\n",
    "        return None\n",
    "    if row['w_bpFaced'] > 0:\n",
    "        return row['w_bpSaved'] / row['w_bpFaced']\n",
    "    return 0\n",
    "\n",
    "def calculate_percentage_of_break_points_saved_loser(row):\n",
    "    if pd.isna(row['l_bpFaced']) or pd.isna(row['l_bpSaved']):\n",
    "        return None\n",
    "    if row['l_bpFaced'] > 0:\n",
    "        return row['l_bpSaved'] / row['l_bpFaced']\n",
    "    return 0\n"
   ]
  },
  {
   "cell_type": "code",
   "execution_count": 18,
   "metadata": {
    "ExecuteTime": {
     "end_time": "2024-11-28T01:48:37.535823Z",
     "start_time": "2024-11-28T01:48:36.857849Z"
    }
   },
   "outputs": [],
   "source": [
    "matches['winner_bp_won_pct'] = matches.apply(calculate_percentage_of_break_points_won_on_opponents_serve, axis=1)\n",
    "matches['loser_bp_won_pct'] = matches.apply(calculate_percentage_of_break_points_won_on_opponents_serve_loser, axis=1)\n",
    "matches['winner_bp_saved_pct'] = matches.apply(calculate_percentage_of_break_points_saved, axis=1)\n",
    "matches['loser_bp_saved_pct'] = matches.apply(calculate_percentage_of_break_points_saved_loser, axis=1)\n"
   ]
  },
  {
   "cell_type": "markdown",
   "metadata": {},
   "source": [
    "### Procentowe statystyki przedmeczowe"
   ]
  },
  {
   "cell_type": "code",
   "execution_count": 19,
   "metadata": {
    "ExecuteTime": {
     "end_time": "2024-11-28T01:48:37.542986Z",
     "start_time": "2024-11-28T01:48:37.536881Z"
    }
   },
   "outputs": [],
   "source": [
    "\n",
    "def calculate_total_1st_serve_in_percentage(row):\n",
    "    if pd.isna(row['Winner_Total_serves']) or pd.isna(row['Winner_Total_1st_serves']):\n",
    "        return None\n",
    "    if row['Winner_Total_serves'] > 0:\n",
    "        return row['Winner_Total_1st_serves'] / row['Winner_Total_serves']\n",
    "    return 0\n",
    "\n",
    "def calculate_total_1st_serve_win_percentage(row):\n",
    "    if pd.isna(row['Winner_Total_1st_serves']) or pd.isna(row['Winner_Total_points_won_after_1st_serve']):\n",
    "        return None\n",
    "    if row['Winner_Total_1st_serves'] > 0:\n",
    "        return row['Winner_Total_points_won_after_1st_serve'] / row['Winner_Total_1st_serves']\n",
    "    return 0\n",
    "\n",
    "def calculate_total_2nd_serve_in_percentage(row):\n",
    "    if pd.isna(row['Winner_Total_serves']) or pd.isna(row['Winner_Total_1st_serves']) or pd.isna(row['Winner_Total_2nd_serves']):\n",
    "        return None\n",
    "    if row['Winner_Total_serves'] - row['Winner_Total_1st_serves'] > 0:\n",
    "        return row['Winner_Total_2nd_serves'] / (row['Winner_Total_serves'] - row['Winner_Total_1st_serves'])\n",
    "    return 0\n",
    "\n",
    "def calculate_total_2nd_serve_win_percentage(row):\n",
    "    if pd.isna(row['Winner_Total_2nd_serves']) or pd.isna(row['Winner_Total_points_won_after_2nd_serve']):\n",
    "        return None\n",
    "    if row['Winner_Total_2nd_serves'] > 0:\n",
    "        return row['Winner_Total_points_won_after_2nd_serve'] / row['Winner_Total_2nd_serves']\n",
    "    return 0\n",
    "\n",
    "def calculate_total_1st_serve_in_percentage_loser(row):\n",
    "    if pd.isna(row['Loser_Total_serves']) or pd.isna(row['Loser_Total_1st_serves']):\n",
    "        return None\n",
    "    if row['Loser_Total_serves'] > 0:\n",
    "        return row['Loser_Total_1st_serves'] / row['Loser_Total_serves']\n",
    "    return 0\n",
    "\n",
    "def calculate_total_1st_serve_win_percentage_loser(row):\n",
    "    if pd.isna(row['Loser_Total_1st_serves']) or pd.isna(row['Loser_Total_points_won_after_1st_serve']):\n",
    "        return None\n",
    "    if row['Loser_Total_1st_serves'] > 0:\n",
    "        return row['Loser_Total_points_won_after_1st_serve'] / row['Loser_Total_1st_serves']\n",
    "    return 0\n",
    "\n",
    "def calculate_total_2nd_serve_in_percentage_loser(row):\n",
    "    if pd.isna(row['Loser_Total_serves']) or pd.isna(row['Loser_Total_1st_serves']) or pd.isna(row['Loser_Total_2nd_serves']):\n",
    "        return None\n",
    "    if row['Loser_Total_serves'] - row['Loser_Total_1st_serves'] > 0:\n",
    "        return row['Loser_Total_2nd_serves'] / (row['Loser_Total_serves'] - row['Loser_Total_1st_serves'])\n",
    "    return 0\n",
    "\n",
    "def calculate_total_2nd_serve_win_percentage_loser(row):\n",
    "    if pd.isna(row['Loser_Total_2nd_serves']) or pd.isna(row['Loser_Total_points_won_after_2nd_serve']):\n",
    "        return None\n",
    "    if row['Loser_Total_2nd_serves'] > 0:\n",
    "        return row['Loser_Total_points_won_after_2nd_serve'] / row['Loser_Total_2nd_serves']\n",
    "    return 0\n",
    "\n"
   ]
  },
  {
   "cell_type": "code",
   "execution_count": 20,
   "metadata": {
    "ExecuteTime": {
     "end_time": "2024-11-28T01:48:38.843085Z",
     "start_time": "2024-11-28T01:48:37.543852Z"
    }
   },
   "outputs": [],
   "source": [
    "matches['winner_total_1st_serve_in_pct'] = matches.apply(calculate_total_1st_serve_in_percentage, axis=1)\n",
    "matches['winner_total_1st_serve_win_pct'] = matches.apply(calculate_total_1st_serve_win_percentage, axis=1)\n",
    "matches['winner_total_2nd_serve_in_pct'] = matches.apply(calculate_total_2nd_serve_in_percentage, axis=1)\n",
    "matches['winner_total_2nd_serve_win_pct'] = matches.apply(calculate_total_2nd_serve_win_percentage, axis=1)\n",
    "matches['loser_total_1st_serve_in_pct'] = matches.apply(calculate_total_1st_serve_in_percentage_loser, axis=1)\n",
    "matches['loser_total_1st_serve_win_pct'] = matches.apply(calculate_total_1st_serve_win_percentage_loser, axis=1)\n",
    "matches['loser_total_2nd_serve_in_pct'] = matches.apply(calculate_total_2nd_serve_in_percentage_loser, axis=1)\n",
    "matches['loser_total_2nd_serve_win_pct'] = matches.apply(calculate_total_2nd_serve_win_percentage_loser, axis=1)"
   ]
  },
  {
   "cell_type": "code",
   "execution_count": 21,
   "metadata": {
    "ExecuteTime": {
     "end_time": "2024-11-28T01:48:39.658143Z",
     "start_time": "2024-11-28T01:48:38.843940Z"
    }
   },
   "outputs": [],
   "source": [
    "matches.to_csv(\"../data/all_years_with_new_columns/matches.csv\", index=False)"
   ]
  },
  {
   "cell_type": "markdown",
   "metadata": {
    "vscode": {
     "languageId": "ruby"
    }
   },
   "source": [
    "columns_to_drop = [\n",
    "    'l_df', 'l_ace', 'l_svpt', 'l_1stIn', 'l_1stWon', 'l_2ndWon', 'l_SvGms',\n",
    "    'w_df', 'w_ace', 'w_svpt', 'w_1stIn', 'w_1stWon', 'w_2ndWon', 'w_SvGms',\n",
    "    'minutes', 'l_2ndIn', 'w_2ndIn', 'Round_Num', 'Winner', 'Loser'\n",
    "]\n",
    "\n",
    "matches.drop(columns=columns_to_drop, inplace=True)"
   ]
  }
 ],
 "metadata": {
  "kernelspec": {
   "display_name": "Python 3",
   "language": "python",
   "name": "python3"
  },
  "language_info": {
   "codemirror_mode": {
    "name": "ipython",
    "version": 3
   },
   "file_extension": ".py",
   "mimetype": "text/x-python",
   "name": "python",
   "nbconvert_exporter": "python",
   "pygments_lexer": "ipython3",
   "version": "3.10.0"
  }
 },
 "nbformat": 4,
 "nbformat_minor": 2
}
