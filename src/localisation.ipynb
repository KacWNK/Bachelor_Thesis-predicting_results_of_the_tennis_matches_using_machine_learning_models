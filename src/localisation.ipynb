{
 "cells": [
  {
   "cell_type": "code",
   "execution_count": 1,
   "metadata": {},
   "outputs": [],
   "source": [
    "import pandas as pd\n",
    "from geopy.geocoders import Nominatim\n",
    "from geopy.exc import GeocoderTimedOut"
   ]
  },
  {
   "cell_type": "code",
   "execution_count": 2,
   "metadata": {},
   "outputs": [],
   "source": [
    "matches=pd.read_csv('../data/all_years_with_new_columns_and_time/matches.csv')"
   ]
  },
  {
   "cell_type": "code",
   "execution_count": 3,
   "metadata": {},
   "outputs": [],
   "source": [
    "geolocator = Nominatim(user_agent=\"geoapi\")"
   ]
  },
  {
   "cell_type": "code",
   "execution_count": 15,
   "metadata": {},
   "outputs": [],
   "source": [
    "def get_lat_long(location: str):\n",
    "    if location[-1].isdigit():\n",
    "        location = location[:-2]\n",
    "    if location == 'Queens Club':\n",
    "        location = 'West Kensington London'\n",
    "    try:\n",
    "        loc = geolocator.geocode(location, timeout=10)\n",
    "        if loc:\n",
    "            return loc.latitude, loc.longitude\n",
    "        return None, None\n",
    "    except GeocoderTimedOut:\n",
    "        return None, None"
   ]
  },
  {
   "cell_type": "code",
   "execution_count": 16,
   "metadata": {},
   "outputs": [],
   "source": [
    "unique_locations = matches['tournament_location'].unique()"
   ]
  },
  {
   "cell_type": "code",
   "execution_count": 17,
   "metadata": {},
   "outputs": [],
   "source": [
    "location_dict = {location: get_lat_long(location) for location in unique_locations}"
   ]
  },
  {
   "cell_type": "code",
   "execution_count": 18,
   "metadata": {},
   "outputs": [],
   "source": [
    "location_dict['Cordoba'] = (-31.4, -64.183)\n",
    "location_dict['Santiago'] = (-33.45, -70.67)\n",
    "location_dict['Los Cabos'] = (22.883, -109.917)\n",
    "location_dict['Cologne 1'] = (50.933, 6.95)\n",
    "location_dict['Cologne 2'] = (50.933, 6.95)"
   ]
  },
  {
   "cell_type": "code",
   "execution_count": 19,
   "metadata": {},
   "outputs": [],
   "source": [
    "matches['latitude'] = matches['tournament_location'].map(lambda x: location_dict[x][0])\n",
    "matches['longitude'] = matches['tournament_location'].map(lambda x: location_dict[x][1])"
   ]
  },
  {
   "cell_type": "code",
   "execution_count": 20,
   "metadata": {},
   "outputs": [],
   "source": [
    "matches.to_csv('../data/all_years_nc_time_coordinations/matches.csv', index=False)"
   ]
  }
 ],
 "metadata": {
  "kernelspec": {
   "display_name": "Python 3",
   "language": "python",
   "name": "python3"
  },
  "language_info": {
   "codemirror_mode": {
    "name": "ipython",
    "version": 3
   },
   "file_extension": ".py",
   "mimetype": "text/x-python",
   "name": "python",
   "nbconvert_exporter": "python",
   "pygments_lexer": "ipython3",
   "version": "3.10.0"
  }
 },
 "nbformat": 4,
 "nbformat_minor": 2
}
