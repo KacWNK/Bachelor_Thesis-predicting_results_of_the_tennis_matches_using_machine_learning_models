{
 "cells": [
  {
   "cell_type": "code",
   "execution_count": 1,
   "metadata": {},
   "outputs": [],
   "source": [
    "import pandas as pd"
   ]
  },
  {
   "cell_type": "code",
   "execution_count": 6,
   "metadata": {},
   "outputs": [],
   "source": [
    "bets_2023 = pd.read_csv(\"Processed data with balance/bets2023_b.csv\")\n",
    "bets_2022 = pd.read_csv(\"Processed data with balance/bets2022_b.csv\")\n",
    "bets_2021 = pd.read_csv(\"Processed data with balance/bets2021_b.csv\")\n",
    "bets_2020 = pd.read_csv(\"Processed data with balance/bets2020_b.csv\")\n",
    "bets_2019 = pd.read_csv(\"Processed data with balance/bets2019_b.csv\")\n",
    "bets_2018 = pd.read_csv(\"Processed data with balance/bets2018_b.csv\")"
   ]
  },
  {
   "cell_type": "code",
   "execution_count": 7,
   "metadata": {},
   "outputs": [],
   "source": [
    "github_2023 = pd.read_csv(\"Processed data/github2023.csv\")\n",
    "github_2022 = pd.read_csv(\"Processed data/github2022.csv\")\n",
    "github_2021 = pd.read_csv(\"Processed data/github2021.csv\")\n",
    "github_2020 = pd.read_csv(\"Processed data/github2020.csv\")\n",
    "github_2019 = pd.read_csv(\"Processed data/github2019.csv\")\n",
    "github_2018 = pd.read_csv(\"Processed data/github2018.csv\")\n"
   ]
  },
  {
   "cell_type": "code",
   "execution_count": 8,
   "metadata": {},
   "outputs": [],
   "source": [
    "dfs = []\n",
    "for i in range(2018, 2024):\n",
    "    variable_name = f\"bets_{i}\"\n",
    "    if variable_name in globals() and isinstance(globals()[variable_name], pd.DataFrame):\n",
    "        dfs.append(globals()[variable_name])\n",
    "merged_bets = pd.concat(dfs, ignore_index=True)        "
   ]
  },
  {
   "cell_type": "code",
   "execution_count": 9,
   "metadata": {},
   "outputs": [],
   "source": [
    "dfs2 = []\n",
    "for i in range(2018, 2024):\n",
    "    variable_name = f\"github_{i}\"\n",
    "    if variable_name in globals() and isinstance(globals()[variable_name], pd.DataFrame):\n",
    "        dfs2.append(globals()[variable_name])\n",
    "merged_git = pd.concat(dfs2, ignore_index=True)  "
   ]
  },
  {
   "cell_type": "code",
   "execution_count": 10,
   "metadata": {},
   "outputs": [],
   "source": [
    "folder_path= '../Tennis/Merged year data/'\n",
    "merged_bets.to_csv(folder_path + 'merged_bets_b.csv', index=False)\n",
    "merged_git.to_csv(folder_path + 'merged_git.csv', index=False)"
   ]
  }
 ],
 "metadata": {
  "kernelspec": {
   "display_name": "Python 3",
   "language": "python",
   "name": "python3"
  },
  "language_info": {
   "codemirror_mode": {
    "name": "ipython",
    "version": 3
   },
   "file_extension": ".py",
   "mimetype": "text/x-python",
   "name": "python",
   "nbconvert_exporter": "python",
   "pygments_lexer": "ipython3",
   "version": "3.12.7"
  }
 },
 "nbformat": 4,
 "nbformat_minor": 2
}
