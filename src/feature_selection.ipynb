{
 "cells": [
  {
   "cell_type": "code",
   "execution_count": 1,
   "id": "b8dd5043a5bc7ba4",
   "metadata": {
    "collapsed": false,
    "ExecuteTime": {
     "end_time": "2024-11-28T11:27:11.310426Z",
     "start_time": "2024-11-28T11:27:10.974309Z"
    }
   },
   "outputs": [],
   "source": [
    "import pandas as pd"
   ]
  },
  {
   "cell_type": "code",
   "execution_count": 2,
   "id": "b4249fc9c8c46b51",
   "metadata": {
    "collapsed": false,
    "ExecuteTime": {
     "end_time": "2024-11-28T11:27:12.281614Z",
     "start_time": "2024-11-28T11:27:12.065105Z"
    }
   },
   "outputs": [],
   "source": [
    "matches = pd.read_csv(\"../data/all_years_nc_tc_elo_aggr_stats/matches.csv\")"
   ]
  },
  {
   "cell_type": "code",
   "execution_count": 3,
   "id": "ddf7d6d9b1a718d1",
   "metadata": {
    "collapsed": false,
    "ExecuteTime": {
     "end_time": "2024-11-28T11:27:12.377720Z",
     "start_time": "2024-11-28T11:27:12.371705Z"
    }
   },
   "outputs": [
    {
     "data": {
      "text/plain": "['tournament_location',\n 'tournament_name',\n 'Date',\n 'indoor_or_outdoor',\n 'Surface',\n 'Round',\n 'W1',\n 'L1',\n 'W2',\n 'L2',\n 'W3',\n 'L3',\n 'W4',\n 'L4',\n 'W5',\n 'L5',\n 'Wsets',\n 'Lsets',\n 'Comment',\n 'loser_id',\n 'winner_id',\n 'match_id',\n 'Winner_Sets_Before',\n 'Winner_Gems_Before',\n 'Loser_Sets_Before',\n 'Loser_Gems_Before',\n 'tournament_id',\n 'draw_size',\n 'tournament_level',\n 'tournament_date',\n 'winner_name',\n 'winner_hand',\n 'winner_ht',\n 'winner_ioc',\n 'winner_age',\n 'loser_name',\n 'loser_hand',\n 'loser_ht',\n 'loser_ioc',\n 'loser_age',\n 'best_of',\n 'minutes',\n 'w_ace',\n 'w_df',\n 'w_svpt',\n 'w_1stIn',\n 'w_1stWon',\n 'w_2ndWon',\n 'w_SvGms',\n 'w_bpSaved',\n 'w_bpFaced',\n 'l_ace',\n 'l_df',\n 'l_svpt',\n 'l_1stIn',\n 'l_1stWon',\n 'l_2ndWon',\n 'l_SvGms',\n 'l_bpSaved',\n 'l_bpFaced',\n 'winner_rank',\n 'winner_rank_points',\n 'loser_rank',\n 'loser_rank_points',\n 'winner_entry_LL',\n 'winner_entry_Q',\n 'winner_entry_WC',\n 'loser_entry_LL',\n 'loser_entry_Q',\n 'loser_entry_WC',\n 'winner_is_seeded',\n 'loser_is_seeded',\n 'w_2ndIn',\n 'l_2ndIn',\n 'h2h_diff',\n 'h2h_matches_played',\n 'tournament_country',\n 'winner_home',\n 'loser_home',\n 'Round_Num',\n 'Winner_Total_aces',\n 'Loser_Total_aces',\n 'Winner_Total_minutes',\n 'Loser_Total_minutes',\n 'Winner_Total_double_errors',\n 'Loser_Total_double_errors',\n 'Winner_Total_serves',\n 'Loser_Total_serves',\n 'Winner_Total_points_won_after_1st_serve',\n 'Loser_Total_points_won_after_1st_serve',\n 'Winner_Total_points_won_after_2nd_serve',\n 'Loser_Total_points_won_after_2nd_serve',\n 'Winner_Total_1st_serves',\n 'Loser_Total_1st_serves',\n 'Winner_Total_2nd_serves',\n 'Loser_Total_2nd_serves',\n 'Winner_Total_games_serving',\n 'Loser_Total_games_serving',\n 'winner_win_pct_last_10',\n 'loser_win_pct_last_10',\n 'winner_win_pct_last_10_surface',\n 'loser_win_pct_last_10_surface',\n 'winner_1st_serve_in_pct',\n 'winner_1st_serve_win_pct',\n 'winner_2nd_serve_in_pct',\n 'winner_2nd_serve_win_pct',\n 'winner_service_games_won_pct',\n 'loser_1st_serve_in_pct',\n 'loser_1st_serve_win_pct',\n 'loser_2nd_serve_in_pct',\n 'loser_2nd_serve_win_pct',\n 'loser_service_games_won_pct',\n 'winner_1st_serve_return_win_pct',\n 'winner_2nd_serve_return_win_pct',\n 'winner_return_games_win_pct',\n 'loser_1st_serve_return_win_pct',\n 'loser_2nd_serve_return_win_pct',\n 'loser_return_games_win_pct',\n 'winner_bp_won_pct',\n 'loser_bp_won_pct',\n 'winner_bp_saved_pct',\n 'loser_bp_saved_pct',\n 'winner_total_1st_serve_in_pct',\n 'winner_total_1st_serve_win_pct',\n 'winner_total_2nd_serve_in_pct',\n 'winner_total_2nd_serve_win_pct',\n 'loser_total_1st_serve_in_pct',\n 'loser_total_1st_serve_win_pct',\n 'loser_total_2nd_serve_in_pct',\n 'loser_total_2nd_serve_win_pct',\n 'time',\n 'latitude',\n 'longitude',\n 'elo_winner',\n 'elo_loser',\n 'surface_elo_winner',\n 'surface_elo_loser',\n 'blended_elo_winner',\n 'blended_elo_loser',\n 'CO_active',\n 'CO_1st_serve_in_p_diff',\n '1st_serve_in_p_diff',\n 'CO_1st_serve_win_p_diff',\n '1st_serve_win_p_diff',\n 'CO_2nd_serve_win_p_diff',\n '2nd_serve_win_p_diff',\n 'CO_serve_games_win_p_diff',\n 'serve_games_win_p_diff',\n 'CO_avg_ace_per_match_diff',\n 'avg_ace_per_match_diff',\n 'CO_avg_df_per_match_diff',\n 'avg_df_per_match_diff',\n 'CO_1st_serve_wrp_diff',\n '1st_serve_wrp_diff']"
     },
     "execution_count": 3,
     "metadata": {},
     "output_type": "execute_result"
    }
   ],
   "source": [
    "list(matches.columns)"
   ]
  },
  {
   "cell_type": "markdown",
   "id": "59cbf0661ede15d8",
   "metadata": {
    "collapsed": false
   },
   "source": [
    "### Dropimy kolumny, które nie będą używane do predykcji"
   ]
  },
  {
   "cell_type": "code",
   "execution_count": 4,
   "id": "3658fe539b505eea",
   "metadata": {
    "collapsed": false,
    "ExecuteTime": {
     "end_time": "2024-11-28T11:27:13.299857Z",
     "start_time": "2024-11-28T11:27:13.291544Z"
    }
   },
   "outputs": [],
   "source": [
    "matches = matches.drop(columns=[\"W1\", \"L1\", \"W2\", \"L2\", \"W3\", \"L3\", \"W4\", \"L4\", \"W5\", \"L5\", \"Wsets\", \"Lsets\", \"tournament_location\", \"tournament_name\", \"Date\", \"loser_id\", \"winner_id\", \"match_id\", \"tournament_id\", \"draw_size\", \"tournament_date\", \"winner_name\", \"winner_ioc\", \"winner_ht\", \"loser_name\", \"loser_ht\", \"loser_ioc\", \"winner_rank_points\", \"loser_rank_points\", \"tournament_country\", \"Round\", \"time\", \"latitude\", \"longitude\",\n",
    "'Winner_Total_aces',\n",
    "'w_ace',\n",
    " 'w_df',\n",
    " 'w_svpt',\n",
    " 'w_1stIn',\n",
    " 'w_1stWon',\n",
    " 'w_2ndWon',\n",
    " 'w_SvGms',\n",
    " 'w_bpSaved',\n",
    " 'w_bpFaced',\n",
    "'l_ace',\n",
    " 'l_df',\n",
    " 'l_svpt',\n",
    " 'l_1stIn',\n",
    " 'l_1stWon',\n",
    " 'l_2ndWon',\n",
    " 'w_2ndIn',\n",
    " 'l_2ndIn',\n",
    " 'l_SvGms',\n",
    " 'l_bpSaved',\n",
    " 'l_bpFaced',\n",
    " 'Loser_Total_aces',\n",
    " 'Winner_Total_minutes',\n",
    " 'Loser_Total_minutes',\n",
    " 'Winner_Total_double_errors',\n",
    " 'Loser_Total_double_errors',\n",
    " 'Winner_Total_serves',\n",
    " 'Loser_Total_serves',\n",
    " 'Winner_Total_points_won_after_1st_serve',\n",
    " 'Loser_Total_points_won_after_1st_serve',\n",
    " 'Winner_Total_points_won_after_2nd_serve',\n",
    " 'Winner_Total_1st_serves',\n",
    " 'Loser_Total_1st_serves',\n",
    " 'Winner_Total_2nd_serves',\n",
    " 'Loser_Total_2nd_serves',\n",
    " 'Winner_Total_games_serving',\n",
    " 'Loser_Total_games_serving',\n",
    "'winner_1st_serve_in_pct',\n",
    " 'winner_1st_serve_win_pct',\n",
    " 'winner_2nd_serve_in_pct',\n",
    " 'winner_2nd_serve_win_pct',\n",
    " 'winner_service_games_won_pct',\n",
    " 'loser_1st_serve_in_pct',\n",
    " 'loser_1st_serve_win_pct',\n",
    " 'loser_2nd_serve_in_pct',\n",
    "'loser_2nd_serve_win_pct',\n",
    " 'loser_service_games_won_pct',\n",
    " 'winner_1st_serve_return_win_pct',\n",
    " 'winner_2nd_serve_return_win_pct',\n",
    " 'winner_return_games_win_pct',\n",
    " 'loser_1st_serve_return_win_pct',\n",
    " 'loser_2nd_serve_return_win_pct',\n",
    " 'loser_return_games_win_pct',\n",
    " 'winner_bp_won_pct',\n",
    " 'loser_bp_won_pct',\n",
    " 'winner_bp_saved_pct',\n",
    " 'loser_bp_saved_pct',\n",
    " 'winner_total_1st_serve_in_pct',\n",
    " 'winner_total_1st_serve_win_pct',\n",
    " 'winner_total_2nd_serve_in_pct',\n",
    " 'winner_total_2nd_serve_win_pct',\n",
    " 'loser_total_1st_serve_in_pct',\n",
    "'loser_total_1st_serve_win_pct',\n",
    " 'loser_total_2nd_serve_in_pct',\n",
    " 'loser_total_2nd_serve_win_pct',\n",
    " 'Comment'  # Do jeszcze do pokmininenia\n",
    "                                ])"
   ]
  },
  {
   "cell_type": "code",
   "execution_count": 5,
   "id": "5aeccebc0e5e920",
   "metadata": {
    "collapsed": false,
    "ExecuteTime": {
     "end_time": "2024-11-28T11:27:14.212295Z",
     "start_time": "2024-11-28T11:27:14.206829Z"
    }
   },
   "outputs": [
    {
     "data": {
      "text/plain": "['indoor_or_outdoor',\n 'Surface',\n 'Winner_Sets_Before',\n 'Winner_Gems_Before',\n 'Loser_Sets_Before',\n 'Loser_Gems_Before',\n 'tournament_level',\n 'winner_hand',\n 'winner_age',\n 'loser_hand',\n 'loser_age',\n 'best_of',\n 'minutes',\n 'winner_rank',\n 'loser_rank',\n 'winner_entry_LL',\n 'winner_entry_Q',\n 'winner_entry_WC',\n 'loser_entry_LL',\n 'loser_entry_Q',\n 'loser_entry_WC',\n 'winner_is_seeded',\n 'loser_is_seeded',\n 'h2h_diff',\n 'h2h_matches_played',\n 'winner_home',\n 'loser_home',\n 'Round_Num',\n 'Loser_Total_points_won_after_2nd_serve',\n 'winner_win_pct_last_10',\n 'loser_win_pct_last_10',\n 'winner_win_pct_last_10_surface',\n 'loser_win_pct_last_10_surface',\n 'elo_winner',\n 'elo_loser',\n 'surface_elo_winner',\n 'surface_elo_loser',\n 'blended_elo_winner',\n 'blended_elo_loser',\n 'CO_active',\n 'CO_1st_serve_in_p_diff',\n '1st_serve_in_p_diff',\n 'CO_1st_serve_win_p_diff',\n '1st_serve_win_p_diff',\n 'CO_2nd_serve_win_p_diff',\n '2nd_serve_win_p_diff',\n 'CO_serve_games_win_p_diff',\n 'serve_games_win_p_diff',\n 'CO_avg_ace_per_match_diff',\n 'avg_ace_per_match_diff',\n 'CO_avg_df_per_match_diff',\n 'avg_df_per_match_diff',\n 'CO_1st_serve_wrp_diff',\n '1st_serve_wrp_diff']"
     },
     "execution_count": 5,
     "metadata": {},
     "output_type": "execute_result"
    }
   ],
   "source": [
    "list(matches.columns)"
   ]
  },
  {
   "cell_type": "markdown",
   "source": [
    "### Sprawdźmy czy nie mamy braków danych"
   ],
   "metadata": {
    "collapsed": false
   },
   "id": "acd67278237da868"
  },
  {
   "cell_type": "code",
   "outputs": [
    {
     "name": "stdout",
     "output_type": "stream",
     "text": [
      "Columns with NaN values and their counts:\n",
      "Series([], dtype: int64)\n"
     ]
    }
   ],
   "source": [
    "# Check for missing values in the DataFrame\n",
    "missing_values = matches.isnull().sum()\n",
    "\n",
    "# Filter columns with missing values\n",
    "columns_with_nan = missing_values[missing_values > 0]\n",
    "\n",
    "# Display the columns and their corresponding NaN counts\n",
    "print(\"Columns with NaN values and their counts:\")\n",
    "print(columns_with_nan)"
   ],
   "metadata": {
    "collapsed": false,
    "ExecuteTime": {
     "end_time": "2024-11-28T11:27:15.846388Z",
     "start_time": "2024-11-28T11:27:15.836513Z"
    }
   },
   "id": "708c0e9d353cc66c",
   "execution_count": 6
  },
  {
   "cell_type": "markdown",
   "id": "74bd88676ef9f2f7",
   "metadata": {
    "collapsed": false
   },
   "source": [
    "### Chcemy, żeby wszystkie kolumny były numeryczne"
   ]
  },
  {
   "cell_type": "code",
   "execution_count": 7,
   "id": "a15a4946bf3b7ac0",
   "metadata": {
    "collapsed": false,
    "ExecuteTime": {
     "end_time": "2024-11-28T11:27:21.625649Z",
     "start_time": "2024-11-28T11:27:21.622348Z"
    }
   },
   "outputs": [],
   "source": [
    "def is_numeric_or_castable(series):\n",
    "    try:\n",
    "        pd.to_numeric(series)\n",
    "        return True\n",
    "    except TypeError:\n",
    "        print(series)\n",
    "    except ValueError:\n",
    "        return False"
   ]
  },
  {
   "cell_type": "code",
   "execution_count": 8,
   "id": "308677bcd8124966",
   "metadata": {
    "collapsed": false,
    "ExecuteTime": {
     "end_time": "2024-11-28T11:27:21.973248Z",
     "start_time": "2024-11-28T11:27:21.968612Z"
    }
   },
   "outputs": [
    {
     "name": "stdout",
     "output_type": "stream",
     "text": [
      "The following columns are not numeric or contain non-castable values: ['indoor_or_outdoor', 'Surface', 'tournament_level', 'winner_hand', 'loser_hand']\n"
     ]
    }
   ],
   "source": [
    "problematic_columns = [col for col in matches.columns if not is_numeric_or_castable(matches[col])]\n",
    "\n",
    "if not problematic_columns:\n",
    "    print(\"All columns are numeric or can be cast to numeric values.\")\n",
    "else:\n",
    "    print(f\"The following columns are not numeric or contain non-castable values: {problematic_columns}\")"
   ]
  },
  {
   "cell_type": "code",
   "execution_count": 9,
   "id": "94fefb1d3f08601a",
   "metadata": {
    "collapsed": false,
    "ExecuteTime": {
     "end_time": "2024-11-28T11:27:22.143078Z",
     "start_time": "2024-11-28T11:27:22.138243Z"
    }
   },
   "outputs": [
    {
     "data": {
      "text/plain": "array(['Outdoor', 'Indoor'], dtype=object)"
     },
     "execution_count": 9,
     "metadata": {},
     "output_type": "execute_result"
    }
   ],
   "source": [
    "matches['indoor_or_outdoor'].unique()"
   ]
  },
  {
   "cell_type": "code",
   "execution_count": 10,
   "id": "e50a235f6add8afa",
   "metadata": {
    "collapsed": false,
    "ExecuteTime": {
     "end_time": "2024-11-28T11:27:22.405915Z",
     "start_time": "2024-11-28T11:27:22.398833Z"
    }
   },
   "outputs": [],
   "source": [
    "matches['indoor_or_outdoor'] = matches['indoor_or_outdoor'].map({'Outdoor': 1, 'Indoor': 0})\n",
    "matches.rename(columns={'indoor_or_outdoor': 'outdoor'}, inplace=True)"
   ]
  },
  {
   "cell_type": "code",
   "execution_count": 11,
   "id": "5b555a703f5c0605",
   "metadata": {
    "collapsed": false,
    "ExecuteTime": {
     "end_time": "2024-11-28T11:27:22.642166Z",
     "start_time": "2024-11-28T11:27:22.637974Z"
    }
   },
   "outputs": [
    {
     "data": {
      "text/plain": "array(['Hard', 'Clay', 'Grass'], dtype=object)"
     },
     "execution_count": 11,
     "metadata": {},
     "output_type": "execute_result"
    }
   ],
   "source": [
    "matches['Surface'].unique()"
   ]
  },
  {
   "cell_type": "code",
   "execution_count": 12,
   "id": "cf6c8fbc6b2cb101",
   "metadata": {
    "collapsed": false,
    "ExecuteTime": {
     "end_time": "2024-11-28T11:27:22.957653Z",
     "start_time": "2024-11-28T11:27:22.950228Z"
    }
   },
   "outputs": [],
   "source": [
    "matches = pd.get_dummies(matches, columns=['Surface'], prefix='Surface')"
   ]
  },
  {
   "cell_type": "code",
   "execution_count": 13,
   "id": "cd7a2dea68458690",
   "metadata": {
    "collapsed": false,
    "ExecuteTime": {
     "end_time": "2024-11-28T11:27:23.308858Z",
     "start_time": "2024-11-28T11:27:23.304010Z"
    }
   },
   "outputs": [
    {
     "data": {
      "text/plain": "array(['A', 'G', 'M'], dtype=object)"
     },
     "execution_count": 13,
     "metadata": {},
     "output_type": "execute_result"
    }
   ],
   "source": [
    "matches[\"tournament_level\"].unique()"
   ]
  },
  {
   "cell_type": "markdown",
   "id": "dfdb661e772c0859",
   "metadata": {
    "collapsed": false
   },
   "source": [
    "### Tu mi się nie podoba że jest ten level z githuba że jest A dla atp250 i atp500, kiedyś do poprawy, żeby były oddzielne levele dla atp250 i atp500"
   ]
  },
  {
   "cell_type": "code",
   "execution_count": 14,
   "id": "64b298298c36dab7",
   "metadata": {
    "collapsed": false,
    "ExecuteTime": {
     "end_time": "2024-11-28T11:27:24.004236Z",
     "start_time": "2024-11-28T11:27:23.999997Z"
    }
   },
   "outputs": [],
   "source": [
    "matches[\"tournament_level\"] = matches[\"tournament_level\"].map({\"A\": 0, \"M\": 1, \"G\": 2})"
   ]
  },
  {
   "cell_type": "code",
   "execution_count": 15,
   "id": "397dbc50c3e82253",
   "metadata": {
    "collapsed": false,
    "ExecuteTime": {
     "end_time": "2024-11-28T11:27:24.327982Z",
     "start_time": "2024-11-28T11:27:24.322213Z"
    }
   },
   "outputs": [
    {
     "data": {
      "text/plain": "array(['R', 'L', 'U'], dtype=object)"
     },
     "execution_count": 15,
     "metadata": {},
     "output_type": "execute_result"
    }
   ],
   "source": [
    "matches[\"winner_hand\"].unique()\n",
    "matches[\"loser_hand\"].unique()"
   ]
  },
  {
   "cell_type": "code",
   "execution_count": 16,
   "id": "cb32036711936151",
   "metadata": {
    "collapsed": false,
    "ExecuteTime": {
     "end_time": "2024-11-28T11:27:24.556498Z",
     "start_time": "2024-11-28T11:27:24.551111Z"
    }
   },
   "outputs": [],
   "source": [
    "matches[\"winner_hand\"] = matches[\"winner_hand\"].map({\"R\": 1, \"L\": 0, \"U\": 0}) # U traktujemy jak lewą, bo nie wiem ilu graczy jest serio oburęcznych\n",
    "matches.rename(columns={'winner_hand': 'winner_right_handed'}, inplace=True)\n",
    "matches[\"loser_hand\"] = matches[\"loser_hand\"].map({\"R\": 1, \"L\": 0, \"U\": 0})\n",
    "matches.rename(columns={'loser_hand': 'loser_right_handed'}, inplace=True)"
   ]
  },
  {
   "cell_type": "code",
   "execution_count": 17,
   "id": "581998dc8534aa7c",
   "metadata": {
    "collapsed": false,
    "ExecuteTime": {
     "end_time": "2024-11-28T11:27:24.794426Z",
     "start_time": "2024-11-28T11:27:24.772879Z"
    }
   },
   "outputs": [
    {
     "data": {
      "text/plain": "       outdoor  Winner_Sets_Before  Winner_Gems_Before  Loser_Sets_Before  \\\n0            1                 0.0                 0.0                0.0   \n1            1                 0.0                 0.0                0.0   \n2            1                 0.0                 0.0                0.0   \n3            1                 0.0                 0.0                0.0   \n4            1                 0.0                 0.0                0.0   \n...        ...                 ...                 ...                ...   \n14106        0                 3.0                12.0                4.0   \n14107        0                 2.0                 5.0                4.0   \n14108        0                 6.0                21.0                4.0   \n14109        0                 4.0                17.0                4.0   \n14110        0                 8.0                28.0                5.0   \n\n       Loser_Gems_Before  tournament_level  winner_right_handed  winner_age  \\\n0                    0.0                 0                    1        29.4   \n1                    0.0                 0                    1        27.7   \n2                    0.0                 0                    1        23.3   \n3                    0.0                 0                    0        27.2   \n4                    0.0                 0                    1        23.4   \n...                  ...               ...                  ...         ...   \n14106                8.0                 1                    1        31.4   \n14107                8.0                 1                    1        37.2   \n14108               13.0                 1                    1        22.4   \n14109                9.0                 1                    1        31.4   \n14110               17.0                 1                    1        22.4   \n\n       loser_right_handed  loser_age  ...  serve_games_win_p_diff  \\\n0                       1       36.5  ...                0.006206   \n1                       1       26.5  ...                0.027006   \n2                       1       28.5  ...               -0.055942   \n3                       1       19.6  ...               -0.080092   \n4                       1       22.4  ...                0.011054   \n...                   ...        ...  ...                     ...   \n14106                   1       30.0  ...               -0.017370   \n14107                   1       28.8  ...                0.113635   \n14108                   1       25.1  ...                0.038743   \n14109                   1       37.2  ...               -0.057940   \n14110                   1       31.4  ...                0.004071   \n\n       CO_avg_ace_per_match_diff  avg_ace_per_match_diff  \\\n0                      -0.509341                0.248231   \n1                       1.966346                1.543370   \n2                      -7.618056               -4.659332   \n3                      -2.666532               -2.186826   \n4                       0.092428               -0.085016   \n...                          ...                     ...   \n14106                  -5.989177               -5.249510   \n14107                   8.742647                7.093651   \n14108                   1.511957                2.262487   \n14109                  -5.197917               -5.093815   \n14110                   2.573504                4.321008   \n\n       CO_avg_df_per_match_diff  avg_df_per_match_diff  CO_1st_serve_wrp_diff  \\\n0                     -0.847622              -1.034559              -0.018945   \n1                      0.560096               1.291288               0.002895   \n2                     -0.506944               0.015621               0.023443   \n3                     -1.738923              -2.009373              -0.022720   \n4                     -0.157466              -0.351460              -0.032933   \n...                         ...                    ...                    ...   \n14106                 -0.872294              -0.557097               0.060492   \n14107                  1.164706               0.411111               0.040079   \n14108                 -1.981522              -1.471780               0.001248   \n14109                  1.716667               0.243685               0.006929   \n14110                 -0.923291              -0.528587              -0.020090   \n\n       1st_serve_wrp_diff  Surface_Clay  Surface_Grass  Surface_Hard  \n0               -0.015093         False          False          True  \n1               -0.009121         False          False          True  \n2                0.024988         False          False          True  \n3               -0.025177         False          False          True  \n4               -0.030256         False          False          True  \n...                   ...           ...            ...           ...  \n14106            0.042248         False          False          True  \n14107            0.016111         False          False          True  \n14108           -0.012370         False          False          True  \n14109            0.035041         False          False          True  \n14110           -0.049593         False          False          True  \n\n[14111 rows x 56 columns]",
      "text/html": "<div>\n<style scoped>\n    .dataframe tbody tr th:only-of-type {\n        vertical-align: middle;\n    }\n\n    .dataframe tbody tr th {\n        vertical-align: top;\n    }\n\n    .dataframe thead th {\n        text-align: right;\n    }\n</style>\n<table border=\"1\" class=\"dataframe\">\n  <thead>\n    <tr style=\"text-align: right;\">\n      <th></th>\n      <th>outdoor</th>\n      <th>Winner_Sets_Before</th>\n      <th>Winner_Gems_Before</th>\n      <th>Loser_Sets_Before</th>\n      <th>Loser_Gems_Before</th>\n      <th>tournament_level</th>\n      <th>winner_right_handed</th>\n      <th>winner_age</th>\n      <th>loser_right_handed</th>\n      <th>loser_age</th>\n      <th>...</th>\n      <th>serve_games_win_p_diff</th>\n      <th>CO_avg_ace_per_match_diff</th>\n      <th>avg_ace_per_match_diff</th>\n      <th>CO_avg_df_per_match_diff</th>\n      <th>avg_df_per_match_diff</th>\n      <th>CO_1st_serve_wrp_diff</th>\n      <th>1st_serve_wrp_diff</th>\n      <th>Surface_Clay</th>\n      <th>Surface_Grass</th>\n      <th>Surface_Hard</th>\n    </tr>\n  </thead>\n  <tbody>\n    <tr>\n      <th>0</th>\n      <td>1</td>\n      <td>0.0</td>\n      <td>0.0</td>\n      <td>0.0</td>\n      <td>0.0</td>\n      <td>0</td>\n      <td>1</td>\n      <td>29.4</td>\n      <td>1</td>\n      <td>36.5</td>\n      <td>...</td>\n      <td>0.006206</td>\n      <td>-0.509341</td>\n      <td>0.248231</td>\n      <td>-0.847622</td>\n      <td>-1.034559</td>\n      <td>-0.018945</td>\n      <td>-0.015093</td>\n      <td>False</td>\n      <td>False</td>\n      <td>True</td>\n    </tr>\n    <tr>\n      <th>1</th>\n      <td>1</td>\n      <td>0.0</td>\n      <td>0.0</td>\n      <td>0.0</td>\n      <td>0.0</td>\n      <td>0</td>\n      <td>1</td>\n      <td>27.7</td>\n      <td>1</td>\n      <td>26.5</td>\n      <td>...</td>\n      <td>0.027006</td>\n      <td>1.966346</td>\n      <td>1.543370</td>\n      <td>0.560096</td>\n      <td>1.291288</td>\n      <td>0.002895</td>\n      <td>-0.009121</td>\n      <td>False</td>\n      <td>False</td>\n      <td>True</td>\n    </tr>\n    <tr>\n      <th>2</th>\n      <td>1</td>\n      <td>0.0</td>\n      <td>0.0</td>\n      <td>0.0</td>\n      <td>0.0</td>\n      <td>0</td>\n      <td>1</td>\n      <td>23.3</td>\n      <td>1</td>\n      <td>28.5</td>\n      <td>...</td>\n      <td>-0.055942</td>\n      <td>-7.618056</td>\n      <td>-4.659332</td>\n      <td>-0.506944</td>\n      <td>0.015621</td>\n      <td>0.023443</td>\n      <td>0.024988</td>\n      <td>False</td>\n      <td>False</td>\n      <td>True</td>\n    </tr>\n    <tr>\n      <th>3</th>\n      <td>1</td>\n      <td>0.0</td>\n      <td>0.0</td>\n      <td>0.0</td>\n      <td>0.0</td>\n      <td>0</td>\n      <td>0</td>\n      <td>27.2</td>\n      <td>1</td>\n      <td>19.6</td>\n      <td>...</td>\n      <td>-0.080092</td>\n      <td>-2.666532</td>\n      <td>-2.186826</td>\n      <td>-1.738923</td>\n      <td>-2.009373</td>\n      <td>-0.022720</td>\n      <td>-0.025177</td>\n      <td>False</td>\n      <td>False</td>\n      <td>True</td>\n    </tr>\n    <tr>\n      <th>4</th>\n      <td>1</td>\n      <td>0.0</td>\n      <td>0.0</td>\n      <td>0.0</td>\n      <td>0.0</td>\n      <td>0</td>\n      <td>1</td>\n      <td>23.4</td>\n      <td>1</td>\n      <td>22.4</td>\n      <td>...</td>\n      <td>0.011054</td>\n      <td>0.092428</td>\n      <td>-0.085016</td>\n      <td>-0.157466</td>\n      <td>-0.351460</td>\n      <td>-0.032933</td>\n      <td>-0.030256</td>\n      <td>False</td>\n      <td>False</td>\n      <td>True</td>\n    </tr>\n    <tr>\n      <th>...</th>\n      <td>...</td>\n      <td>...</td>\n      <td>...</td>\n      <td>...</td>\n      <td>...</td>\n      <td>...</td>\n      <td>...</td>\n      <td>...</td>\n      <td>...</td>\n      <td>...</td>\n      <td>...</td>\n      <td>...</td>\n      <td>...</td>\n      <td>...</td>\n      <td>...</td>\n      <td>...</td>\n      <td>...</td>\n      <td>...</td>\n      <td>...</td>\n      <td>...</td>\n      <td>...</td>\n    </tr>\n    <tr>\n      <th>14106</th>\n      <td>0</td>\n      <td>3.0</td>\n      <td>12.0</td>\n      <td>4.0</td>\n      <td>8.0</td>\n      <td>1</td>\n      <td>1</td>\n      <td>31.4</td>\n      <td>1</td>\n      <td>30.0</td>\n      <td>...</td>\n      <td>-0.017370</td>\n      <td>-5.989177</td>\n      <td>-5.249510</td>\n      <td>-0.872294</td>\n      <td>-0.557097</td>\n      <td>0.060492</td>\n      <td>0.042248</td>\n      <td>False</td>\n      <td>False</td>\n      <td>True</td>\n    </tr>\n    <tr>\n      <th>14107</th>\n      <td>0</td>\n      <td>2.0</td>\n      <td>5.0</td>\n      <td>4.0</td>\n      <td>8.0</td>\n      <td>1</td>\n      <td>1</td>\n      <td>37.2</td>\n      <td>1</td>\n      <td>28.8</td>\n      <td>...</td>\n      <td>0.113635</td>\n      <td>8.742647</td>\n      <td>7.093651</td>\n      <td>1.164706</td>\n      <td>0.411111</td>\n      <td>0.040079</td>\n      <td>0.016111</td>\n      <td>False</td>\n      <td>False</td>\n      <td>True</td>\n    </tr>\n    <tr>\n      <th>14108</th>\n      <td>0</td>\n      <td>6.0</td>\n      <td>21.0</td>\n      <td>4.0</td>\n      <td>13.0</td>\n      <td>1</td>\n      <td>1</td>\n      <td>22.4</td>\n      <td>1</td>\n      <td>25.1</td>\n      <td>...</td>\n      <td>0.038743</td>\n      <td>1.511957</td>\n      <td>2.262487</td>\n      <td>-1.981522</td>\n      <td>-1.471780</td>\n      <td>0.001248</td>\n      <td>-0.012370</td>\n      <td>False</td>\n      <td>False</td>\n      <td>True</td>\n    </tr>\n    <tr>\n      <th>14109</th>\n      <td>0</td>\n      <td>4.0</td>\n      <td>17.0</td>\n      <td>4.0</td>\n      <td>9.0</td>\n      <td>1</td>\n      <td>1</td>\n      <td>31.4</td>\n      <td>1</td>\n      <td>37.2</td>\n      <td>...</td>\n      <td>-0.057940</td>\n      <td>-5.197917</td>\n      <td>-5.093815</td>\n      <td>1.716667</td>\n      <td>0.243685</td>\n      <td>0.006929</td>\n      <td>0.035041</td>\n      <td>False</td>\n      <td>False</td>\n      <td>True</td>\n    </tr>\n    <tr>\n      <th>14110</th>\n      <td>0</td>\n      <td>8.0</td>\n      <td>28.0</td>\n      <td>5.0</td>\n      <td>17.0</td>\n      <td>1</td>\n      <td>1</td>\n      <td>22.4</td>\n      <td>1</td>\n      <td>31.4</td>\n      <td>...</td>\n      <td>0.004071</td>\n      <td>2.573504</td>\n      <td>4.321008</td>\n      <td>-0.923291</td>\n      <td>-0.528587</td>\n      <td>-0.020090</td>\n      <td>-0.049593</td>\n      <td>False</td>\n      <td>False</td>\n      <td>True</td>\n    </tr>\n  </tbody>\n</table>\n<p>14111 rows × 56 columns</p>\n</div>"
     },
     "execution_count": 17,
     "metadata": {},
     "output_type": "execute_result"
    }
   ],
   "source": [
    "matches"
   ]
  },
  {
   "cell_type": "code",
   "execution_count": 18,
   "id": "712e540ed14d2e33",
   "metadata": {
    "collapsed": false,
    "ExecuteTime": {
     "end_time": "2024-11-28T11:27:25.172495Z",
     "start_time": "2024-11-28T11:27:25.167536Z"
    }
   },
   "outputs": [
    {
     "name": "stdout",
     "output_type": "stream",
     "text": [
      "All columns are numeric or can be cast to numeric values.\n"
     ]
    }
   ],
   "source": [
    "problematic_columns = [col for col in matches.columns if not is_numeric_or_castable(matches[col])]\n",
    "\n",
    "if not problematic_columns:\n",
    "    print(\"All columns are numeric or can be cast to numeric values.\")\n",
    "else:\n",
    "    print(f\"The following columns are not numeric or contain non-castable values: {problematic_columns}\")"
   ]
  },
  {
   "cell_type": "code",
   "execution_count": 19,
   "id": "936d39bc0c11c9f2",
   "metadata": {
    "collapsed": false,
    "ExecuteTime": {
     "end_time": "2024-11-28T11:27:25.429341Z",
     "start_time": "2024-11-28T11:27:25.424781Z"
    }
   },
   "outputs": [
    {
     "data": {
      "text/plain": "['outdoor',\n 'Winner_Sets_Before',\n 'Winner_Gems_Before',\n 'Loser_Sets_Before',\n 'Loser_Gems_Before',\n 'tournament_level',\n 'winner_right_handed',\n 'winner_age',\n 'loser_right_handed',\n 'loser_age',\n 'best_of',\n 'minutes',\n 'winner_rank',\n 'loser_rank',\n 'winner_entry_LL',\n 'winner_entry_Q',\n 'winner_entry_WC',\n 'loser_entry_LL',\n 'loser_entry_Q',\n 'loser_entry_WC',\n 'winner_is_seeded',\n 'loser_is_seeded',\n 'h2h_diff',\n 'h2h_matches_played',\n 'winner_home',\n 'loser_home',\n 'Round_Num',\n 'Loser_Total_points_won_after_2nd_serve',\n 'winner_win_pct_last_10',\n 'loser_win_pct_last_10',\n 'winner_win_pct_last_10_surface',\n 'loser_win_pct_last_10_surface',\n 'elo_winner',\n 'elo_loser',\n 'surface_elo_winner',\n 'surface_elo_loser',\n 'blended_elo_winner',\n 'blended_elo_loser',\n 'CO_active',\n 'CO_1st_serve_in_p_diff',\n '1st_serve_in_p_diff',\n 'CO_1st_serve_win_p_diff',\n '1st_serve_win_p_diff',\n 'CO_2nd_serve_win_p_diff',\n '2nd_serve_win_p_diff',\n 'CO_serve_games_win_p_diff',\n 'serve_games_win_p_diff',\n 'CO_avg_ace_per_match_diff',\n 'avg_ace_per_match_diff',\n 'CO_avg_df_per_match_diff',\n 'avg_df_per_match_diff',\n 'CO_1st_serve_wrp_diff',\n '1st_serve_wrp_diff',\n 'Surface_Clay',\n 'Surface_Grass',\n 'Surface_Hard']"
     },
     "execution_count": 19,
     "metadata": {},
     "output_type": "execute_result"
    }
   ],
   "source": [
    "list(matches.columns)"
   ]
  },
  {
   "cell_type": "markdown",
   "id": "2e0b73d470461d74",
   "metadata": {
    "collapsed": false
   },
   "source": [
    "### Chcemy żeby kolumny nazywały się player1/player2 a nie winner/loser"
   ]
  },
  {
   "cell_type": "code",
   "execution_count": 20,
   "id": "79deb86a18761f9b",
   "metadata": {
    "collapsed": false,
    "ExecuteTime": {
     "end_time": "2024-11-28T11:27:26.074622Z",
     "start_time": "2024-11-28T11:27:26.069Z"
    }
   },
   "outputs": [
    {
     "name": "stdout",
     "output_type": "stream",
     "text": [
      "['outdoor', 'player1_Sets_Before', 'player1_Gems_Before', 'player2_Sets_Before', 'player2_Gems_Before', 'tournament_level', 'player1_right_handed', 'player1_age', 'player2_right_handed', 'player2_age', 'best_of', 'minutes', 'player1_rank', 'player2_rank', 'player1_entry_LL', 'player1_entry_Q', 'player1_entry_WC', 'player2_entry_LL', 'player2_entry_Q', 'player2_entry_WC', 'player1_is_seeded', 'player2_is_seeded', 'h2h_diff', 'h2h_matches_played', 'player1_home', 'player2_home', 'Round_Num', 'player2_Totaplayer2_points_won_after_2nd_serve', 'player1_win_pct_last_10', 'player2_win_pct_last_10', 'player1_win_pct_last_10_surface', 'player2_win_pct_last_10_surface', 'player1_elo', 'player2_elo', 'player1_surface_elo', 'player2_surface_elo', 'player1_blended_elo', 'player2_blended_elo', 'CO_active', 'CO_1st_serve_in_p_diff', '1st_serve_in_p_diff', 'CO_1st_serve_win_p_diff', '1st_serve_win_p_diff', 'CO_2nd_serve_win_p_diff', '2nd_serve_win_p_diff', 'CO_serve_games_win_p_diff', 'serve_games_win_p_diff', 'CO_avg_ace_per_match_diff', 'avg_ace_per_match_diff', 'CO_avg_df_per_match_diff', 'avg_df_per_match_diff', 'CO_1st_serve_wrp_diff', '1st_serve_wrp_diff', 'Surface_Clay', 'Surface_Grass', 'Surface_Hard']\n"
     ]
    }
   ],
   "source": [
    "def rename_player_columns(col):\n",
    "    col_lower = col.lower()  # Convert to lowercase for consistent checks\n",
    "\n",
    "    # Check if the column starts with \"winner\" or \"w_\"\n",
    "    if col_lower.startswith('winner') or col_lower.startswith('w_'):\n",
    "        return col.replace('Winner', 'player1').replace('winner', 'player1').replace('w_', 'player1_', 1)\n",
    "\n",
    "    # Check if the column starts with \"loser\" or \"l_\"\n",
    "    elif col_lower.startswith('loser') or col_lower.startswith('l_'):\n",
    "        return col.replace('Loser', 'player2').replace('loser', 'player2').replace('l_', 'player2_', 1)\n",
    "\n",
    "    # Check if the column ends with \"winner\"\n",
    "    elif col_lower.endswith('winner'):\n",
    "        return f\"player1_{col.replace('_winner', '').replace('Winner', '').replace('winner', '')}\".strip('_')\n",
    "\n",
    "    # Check if the column ends with \"loser\"\n",
    "    elif col_lower.endswith('loser'):\n",
    "        return f\"player2_{col.replace('_loser', '').replace('Loser', '').replace('loser', '')}\".strip('_')\n",
    "\n",
    "    return col  # Keep other columns unchanged\n",
    "\n",
    "\n",
    "# Apply renaming\n",
    "matches.columns = [rename_player_columns(col) for col in list(matches.columns)]\n",
    "\n",
    "# Create a DataFrame to showcase the new column names\n",
    "print(list(matches.columns))"
   ]
  },
  {
   "cell_type": "markdown",
   "id": "4b18a712461926d1",
   "metadata": {
    "collapsed": false
   },
   "source": [
    "### Tworzymy target który jest 1 gdy player1 wygrał i 0 wpp, i ustawiamy narazie wszystko na 1 bo winner został zmienionu na player1"
   ]
  },
  {
   "cell_type": "code",
   "execution_count": 21,
   "id": "f785b0b4836dc558",
   "metadata": {
    "collapsed": false,
    "ExecuteTime": {
     "end_time": "2024-11-28T11:27:26.835289Z",
     "start_time": "2024-11-28T11:27:26.832167Z"
    }
   },
   "outputs": [],
   "source": [
    "matches[\"target\"] = 1"
   ]
  },
  {
   "cell_type": "markdown",
   "id": "37b3c34a527d93d",
   "metadata": {
    "collapsed": false
   },
   "source": [
    "### Żeby nie było tak że zawsze to player1 jest wygranym to mieszamy w losowo wybranych rzędach staty pomiędzy player1 a player2 i w tych rzędach zmieniamy target z 1 na 0"
   ]
  },
  {
   "cell_type": "code",
   "execution_count": 22,
   "id": "91610486391510ca",
   "metadata": {
    "collapsed": false,
    "ExecuteTime": {
     "end_time": "2024-11-28T11:27:27.456820Z",
     "start_time": "2024-11-28T11:27:27.453966Z"
    }
   },
   "outputs": [],
   "source": [
    "import numpy as np"
   ]
  },
  {
   "cell_type": "code",
   "execution_count": 23,
   "id": "f76deada71d5c7af",
   "metadata": {
    "collapsed": false,
    "ExecuteTime": {
     "end_time": "2024-11-28T11:27:27.826688Z",
     "start_time": "2024-11-28T11:27:27.803544Z"
    }
   },
   "outputs": [],
   "source": [
    "# Randomly select rows to swap\n",
    "np.random.seed(42)  # For reproducibility\n",
    "rows_to_swap = np.random.choice(matches.index, size=int(len(matches) * 0.5), replace=False)  # Swap 50% of rows\n",
    "\n",
    "# Swap player1 and player2 stats for the selected rows\n",
    "for col in matches.columns:\n",
    "    if col.startswith('player1_'):\n",
    "        corresponding_col = col.replace('player1_', 'player2_')\n",
    "        matches.loc[rows_to_swap, [col, corresponding_col]] = matches.loc[rows_to_swap, [corresponding_col, col]].values\n",
    "\n",
    "# Update the target column for swapped rows\n",
    "matches.loc[rows_to_swap, 'target'] = 0  # Player 2 is the winner\n"
   ]
  },
  {
   "cell_type": "code",
   "execution_count": 24,
   "id": "8ef9e0d04c469280",
   "metadata": {
    "collapsed": false,
    "ExecuteTime": {
     "end_time": "2024-11-28T11:27:28.329623Z",
     "start_time": "2024-11-28T11:27:28.305440Z"
    }
   },
   "outputs": [
    {
     "data": {
      "text/plain": "       outdoor  player1_Sets_Before  player1_Gems_Before  player2_Sets_Before  \\\n0            1                  0.0                  0.0                  0.0   \n1            1                  0.0                  0.0                  0.0   \n2            1                  0.0                  0.0                  0.0   \n3            1                  0.0                  0.0                  0.0   \n4            1                  0.0                  0.0                  0.0   \n...        ...                  ...                  ...                  ...   \n14106        0                  4.0                  8.0                  3.0   \n14107        0                  2.0                  5.0                  4.0   \n14108        0                  6.0                 21.0                  4.0   \n14109        0                  4.0                  9.0                  4.0   \n14110        0                  5.0                 17.0                  8.0   \n\n       player2_Gems_Before  tournament_level  player1_right_handed  \\\n0                      0.0                 0                     1   \n1                      0.0                 0                     1   \n2                      0.0                 0                     1   \n3                      0.0                 0                     1   \n4                      0.0                 0                     1   \n...                    ...               ...                   ...   \n14106                 12.0                 1                     1   \n14107                  8.0                 1                     1   \n14108                 13.0                 1                     1   \n14109                 17.0                 1                     1   \n14110                 28.0                 1                     1   \n\n       player1_age  player2_right_handed  player2_age  ...  \\\n0             36.5                     1         29.4  ...   \n1             27.7                     1         26.5  ...   \n2             23.3                     1         28.5  ...   \n3             19.6                     0         27.2  ...   \n4             23.4                     1         22.4  ...   \n...            ...                   ...          ...  ...   \n14106         30.0                     1         31.4  ...   \n14107         37.2                     1         28.8  ...   \n14108         22.4                     1         25.1  ...   \n14109         37.2                     1         31.4  ...   \n14110         31.4                     1         22.4  ...   \n\n       CO_avg_ace_per_match_diff  avg_ace_per_match_diff  \\\n0                      -0.509341                0.248231   \n1                       1.966346                1.543370   \n2                      -7.618056               -4.659332   \n3                      -2.666532               -2.186826   \n4                       0.092428               -0.085016   \n...                          ...                     ...   \n14106                  -5.989177               -5.249510   \n14107                   8.742647                7.093651   \n14108                   1.511957                2.262487   \n14109                  -5.197917               -5.093815   \n14110                   2.573504                4.321008   \n\n       CO_avg_df_per_match_diff  avg_df_per_match_diff  CO_1st_serve_wrp_diff  \\\n0                     -0.847622              -1.034559              -0.018945   \n1                      0.560096               1.291288               0.002895   \n2                     -0.506944               0.015621               0.023443   \n3                     -1.738923              -2.009373              -0.022720   \n4                     -0.157466              -0.351460              -0.032933   \n...                         ...                    ...                    ...   \n14106                 -0.872294              -0.557097               0.060492   \n14107                  1.164706               0.411111               0.040079   \n14108                 -1.981522              -1.471780               0.001248   \n14109                  1.716667               0.243685               0.006929   \n14110                 -0.923291              -0.528587              -0.020090   \n\n       1st_serve_wrp_diff  Surface_Clay  Surface_Grass  Surface_Hard  target  \n0               -0.015093         False          False          True       0  \n1               -0.009121         False          False          True       1  \n2                0.024988         False          False          True       1  \n3               -0.025177         False          False          True       0  \n4               -0.030256         False          False          True       1  \n...                   ...           ...            ...           ...     ...  \n14106            0.042248         False          False          True       0  \n14107            0.016111         False          False          True       1  \n14108           -0.012370         False          False          True       1  \n14109            0.035041         False          False          True       0  \n14110           -0.049593         False          False          True       0  \n\n[14111 rows x 57 columns]",
      "text/html": "<div>\n<style scoped>\n    .dataframe tbody tr th:only-of-type {\n        vertical-align: middle;\n    }\n\n    .dataframe tbody tr th {\n        vertical-align: top;\n    }\n\n    .dataframe thead th {\n        text-align: right;\n    }\n</style>\n<table border=\"1\" class=\"dataframe\">\n  <thead>\n    <tr style=\"text-align: right;\">\n      <th></th>\n      <th>outdoor</th>\n      <th>player1_Sets_Before</th>\n      <th>player1_Gems_Before</th>\n      <th>player2_Sets_Before</th>\n      <th>player2_Gems_Before</th>\n      <th>tournament_level</th>\n      <th>player1_right_handed</th>\n      <th>player1_age</th>\n      <th>player2_right_handed</th>\n      <th>player2_age</th>\n      <th>...</th>\n      <th>CO_avg_ace_per_match_diff</th>\n      <th>avg_ace_per_match_diff</th>\n      <th>CO_avg_df_per_match_diff</th>\n      <th>avg_df_per_match_diff</th>\n      <th>CO_1st_serve_wrp_diff</th>\n      <th>1st_serve_wrp_diff</th>\n      <th>Surface_Clay</th>\n      <th>Surface_Grass</th>\n      <th>Surface_Hard</th>\n      <th>target</th>\n    </tr>\n  </thead>\n  <tbody>\n    <tr>\n      <th>0</th>\n      <td>1</td>\n      <td>0.0</td>\n      <td>0.0</td>\n      <td>0.0</td>\n      <td>0.0</td>\n      <td>0</td>\n      <td>1</td>\n      <td>36.5</td>\n      <td>1</td>\n      <td>29.4</td>\n      <td>...</td>\n      <td>-0.509341</td>\n      <td>0.248231</td>\n      <td>-0.847622</td>\n      <td>-1.034559</td>\n      <td>-0.018945</td>\n      <td>-0.015093</td>\n      <td>False</td>\n      <td>False</td>\n      <td>True</td>\n      <td>0</td>\n    </tr>\n    <tr>\n      <th>1</th>\n      <td>1</td>\n      <td>0.0</td>\n      <td>0.0</td>\n      <td>0.0</td>\n      <td>0.0</td>\n      <td>0</td>\n      <td>1</td>\n      <td>27.7</td>\n      <td>1</td>\n      <td>26.5</td>\n      <td>...</td>\n      <td>1.966346</td>\n      <td>1.543370</td>\n      <td>0.560096</td>\n      <td>1.291288</td>\n      <td>0.002895</td>\n      <td>-0.009121</td>\n      <td>False</td>\n      <td>False</td>\n      <td>True</td>\n      <td>1</td>\n    </tr>\n    <tr>\n      <th>2</th>\n      <td>1</td>\n      <td>0.0</td>\n      <td>0.0</td>\n      <td>0.0</td>\n      <td>0.0</td>\n      <td>0</td>\n      <td>1</td>\n      <td>23.3</td>\n      <td>1</td>\n      <td>28.5</td>\n      <td>...</td>\n      <td>-7.618056</td>\n      <td>-4.659332</td>\n      <td>-0.506944</td>\n      <td>0.015621</td>\n      <td>0.023443</td>\n      <td>0.024988</td>\n      <td>False</td>\n      <td>False</td>\n      <td>True</td>\n      <td>1</td>\n    </tr>\n    <tr>\n      <th>3</th>\n      <td>1</td>\n      <td>0.0</td>\n      <td>0.0</td>\n      <td>0.0</td>\n      <td>0.0</td>\n      <td>0</td>\n      <td>1</td>\n      <td>19.6</td>\n      <td>0</td>\n      <td>27.2</td>\n      <td>...</td>\n      <td>-2.666532</td>\n      <td>-2.186826</td>\n      <td>-1.738923</td>\n      <td>-2.009373</td>\n      <td>-0.022720</td>\n      <td>-0.025177</td>\n      <td>False</td>\n      <td>False</td>\n      <td>True</td>\n      <td>0</td>\n    </tr>\n    <tr>\n      <th>4</th>\n      <td>1</td>\n      <td>0.0</td>\n      <td>0.0</td>\n      <td>0.0</td>\n      <td>0.0</td>\n      <td>0</td>\n      <td>1</td>\n      <td>23.4</td>\n      <td>1</td>\n      <td>22.4</td>\n      <td>...</td>\n      <td>0.092428</td>\n      <td>-0.085016</td>\n      <td>-0.157466</td>\n      <td>-0.351460</td>\n      <td>-0.032933</td>\n      <td>-0.030256</td>\n      <td>False</td>\n      <td>False</td>\n      <td>True</td>\n      <td>1</td>\n    </tr>\n    <tr>\n      <th>...</th>\n      <td>...</td>\n      <td>...</td>\n      <td>...</td>\n      <td>...</td>\n      <td>...</td>\n      <td>...</td>\n      <td>...</td>\n      <td>...</td>\n      <td>...</td>\n      <td>...</td>\n      <td>...</td>\n      <td>...</td>\n      <td>...</td>\n      <td>...</td>\n      <td>...</td>\n      <td>...</td>\n      <td>...</td>\n      <td>...</td>\n      <td>...</td>\n      <td>...</td>\n      <td>...</td>\n    </tr>\n    <tr>\n      <th>14106</th>\n      <td>0</td>\n      <td>4.0</td>\n      <td>8.0</td>\n      <td>3.0</td>\n      <td>12.0</td>\n      <td>1</td>\n      <td>1</td>\n      <td>30.0</td>\n      <td>1</td>\n      <td>31.4</td>\n      <td>...</td>\n      <td>-5.989177</td>\n      <td>-5.249510</td>\n      <td>-0.872294</td>\n      <td>-0.557097</td>\n      <td>0.060492</td>\n      <td>0.042248</td>\n      <td>False</td>\n      <td>False</td>\n      <td>True</td>\n      <td>0</td>\n    </tr>\n    <tr>\n      <th>14107</th>\n      <td>0</td>\n      <td>2.0</td>\n      <td>5.0</td>\n      <td>4.0</td>\n      <td>8.0</td>\n      <td>1</td>\n      <td>1</td>\n      <td>37.2</td>\n      <td>1</td>\n      <td>28.8</td>\n      <td>...</td>\n      <td>8.742647</td>\n      <td>7.093651</td>\n      <td>1.164706</td>\n      <td>0.411111</td>\n      <td>0.040079</td>\n      <td>0.016111</td>\n      <td>False</td>\n      <td>False</td>\n      <td>True</td>\n      <td>1</td>\n    </tr>\n    <tr>\n      <th>14108</th>\n      <td>0</td>\n      <td>6.0</td>\n      <td>21.0</td>\n      <td>4.0</td>\n      <td>13.0</td>\n      <td>1</td>\n      <td>1</td>\n      <td>22.4</td>\n      <td>1</td>\n      <td>25.1</td>\n      <td>...</td>\n      <td>1.511957</td>\n      <td>2.262487</td>\n      <td>-1.981522</td>\n      <td>-1.471780</td>\n      <td>0.001248</td>\n      <td>-0.012370</td>\n      <td>False</td>\n      <td>False</td>\n      <td>True</td>\n      <td>1</td>\n    </tr>\n    <tr>\n      <th>14109</th>\n      <td>0</td>\n      <td>4.0</td>\n      <td>9.0</td>\n      <td>4.0</td>\n      <td>17.0</td>\n      <td>1</td>\n      <td>1</td>\n      <td>37.2</td>\n      <td>1</td>\n      <td>31.4</td>\n      <td>...</td>\n      <td>-5.197917</td>\n      <td>-5.093815</td>\n      <td>1.716667</td>\n      <td>0.243685</td>\n      <td>0.006929</td>\n      <td>0.035041</td>\n      <td>False</td>\n      <td>False</td>\n      <td>True</td>\n      <td>0</td>\n    </tr>\n    <tr>\n      <th>14110</th>\n      <td>0</td>\n      <td>5.0</td>\n      <td>17.0</td>\n      <td>8.0</td>\n      <td>28.0</td>\n      <td>1</td>\n      <td>1</td>\n      <td>31.4</td>\n      <td>1</td>\n      <td>22.4</td>\n      <td>...</td>\n      <td>2.573504</td>\n      <td>4.321008</td>\n      <td>-0.923291</td>\n      <td>-0.528587</td>\n      <td>-0.020090</td>\n      <td>-0.049593</td>\n      <td>False</td>\n      <td>False</td>\n      <td>True</td>\n      <td>0</td>\n    </tr>\n  </tbody>\n</table>\n<p>14111 rows × 57 columns</p>\n</div>"
     },
     "execution_count": 24,
     "metadata": {},
     "output_type": "execute_result"
    }
   ],
   "source": [
    "matches"
   ]
  },
  {
   "cell_type": "markdown",
   "id": "159abc4316c6b5d2",
   "metadata": {
    "collapsed": false
   },
   "source": [
    "## Feature importance/selection"
   ]
  },
  {
   "cell_type": "code",
   "execution_count": 25,
   "id": "14ceae4f8882f7be",
   "metadata": {
    "collapsed": false,
    "ExecuteTime": {
     "end_time": "2024-11-28T11:27:29.280150Z",
     "start_time": "2024-11-28T11:27:29.138334Z"
    }
   },
   "outputs": [
    {
     "name": "stdout",
     "output_type": "stream",
     "text": [
      "Top Correlated Features with Target:\n",
      "target                                            1.000000\n",
      "player1_blended_elo                               0.219086\n",
      "player1_elo                                       0.216861\n",
      "player1_surface_elo                               0.211552\n",
      "player1_is_seeded                                 0.185449\n",
      "player2_rank                                      0.136635\n",
      "player1_win_pct_last_10                           0.131172\n",
      "player1_win_pct_last_10_surface                   0.112131\n",
      "player2_entry_WC                                  0.066943\n",
      "player2_entry_Q                                   0.065389\n",
      "player2_entry_LL                                  0.040486\n",
      "player2_age                                       0.028953\n",
      "player1_right_handed                              0.021330\n",
      "tournament_level                                  0.016942\n",
      "outdoor                                           0.014274\n",
      "best_of                                           0.013082\n",
      "CO_2nd_serve_win_p_diff                           0.011346\n",
      "player2_home                                      0.010280\n",
      "2nd_serve_win_p_diff                              0.009372\n",
      "h2h_matches_played                                0.008228\n",
      "1st_serve_wrp_diff                                0.006205\n",
      "Surface_Clay                                      0.005630\n",
      "Surface_Grass                                     0.004677\n",
      "player1_Gems_Before                               0.004449\n",
      "CO_avg_ace_per_match_diff                         0.003775\n",
      "avg_ace_per_match_diff                            0.003732\n",
      "player2_Sets_Before                               0.001501\n",
      "1st_serve_in_p_diff                               0.001116\n",
      "minutes                                           0.000698\n",
      "1st_serve_win_p_diff                              0.000186\n",
      "serve_games_win_p_diff                           -0.001519\n",
      "avg_df_per_match_diff                            -0.001906\n",
      "CO_active                                        -0.002511\n",
      "CO_avg_df_per_match_diff                         -0.004604\n",
      "player2_Totaplayer2_points_won_after_2nd_serve   -0.006582\n",
      "Surface_Hard                                     -0.008264\n",
      "h2h_diff                                         -0.010638\n",
      "CO_1st_serve_in_p_diff                           -0.010648\n",
      "CO_1st_serve_wrp_diff                            -0.012962\n",
      "CO_1st_serve_win_p_diff                          -0.013291\n",
      "player2_Gems_Before                              -0.013598\n",
      "player1_Sets_Before                              -0.015401\n",
      "CO_serve_games_win_p_diff                        -0.015881\n",
      "Round_Num                                        -0.018088\n",
      "player2_right_handed                             -0.024667\n",
      "player1_home                                     -0.035244\n",
      "player1_age                                      -0.039558\n",
      "player1_entry_WC                                 -0.046519\n",
      "player1_entry_LL                                 -0.052668\n",
      "player1_entry_Q                                  -0.066896\n",
      "player2_win_pct_last_10_surface                  -0.123123\n",
      "player1_rank                                     -0.124641\n",
      "player2_win_pct_last_10                          -0.141745\n",
      "player2_is_seeded                                -0.189852\n",
      "player2_surface_elo                              -0.218903\n",
      "player2_elo                                      -0.222244\n",
      "player2_blended_elo                              -0.225093\n",
      "Name: target, dtype: float64\n"
     ]
    }
   ],
   "source": [
    "import pandas as pd\n",
    "\n",
    "# Calculate correlation\n",
    "correlation = matches.corr()['target'].sort_values(ascending=False)\n",
    "\n",
    "# Display features with strong correlation\n",
    "print(\"Top Correlated Features with Target:\")\n",
    "print(correlation)"
   ]
  },
  {
   "cell_type": "markdown",
   "id": "13fc1923ac48b63a",
   "metadata": {
    "collapsed": false
   },
   "source": [
    "### Sigma wynik elo"
   ]
  },
  {
   "cell_type": "code",
   "outputs": [],
   "source": [],
   "metadata": {
    "collapsed": false
   },
   "id": "1de4f754c4aac72e"
  }
 ],
 "metadata": {
  "kernelspec": {
   "display_name": "Python 3",
   "language": "python",
   "name": "python3"
  },
  "language_info": {
   "codemirror_mode": {
    "name": "ipython",
    "version": 2
   },
   "file_extension": ".py",
   "mimetype": "text/x-python",
   "name": "python",
   "nbconvert_exporter": "python",
   "pygments_lexer": "ipython2",
   "version": "2.7.6"
  }
 },
 "nbformat": 4,
 "nbformat_minor": 5
}
