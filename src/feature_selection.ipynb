{
 "cells": [
  {
   "cell_type": "code",
   "outputs": [],
   "source": [
    "import pandas as pd"
   ],
   "metadata": {
    "collapsed": false,
    "ExecuteTime": {
     "end_time": "2024-11-26T21:12:25.709936Z",
     "start_time": "2024-11-26T21:12:25.354019Z"
    }
   },
   "id": "b8dd5043a5bc7ba4",
   "execution_count": 1
  },
  {
   "cell_type": "code",
   "outputs": [],
   "source": [
    "matches = pd.read_csv(\"../data/all_years_nc_tc_elo_aggr_stats/matches.csv\")"
   ],
   "metadata": {
    "collapsed": false,
    "ExecuteTime": {
     "end_time": "2024-11-26T21:12:25.928730Z",
     "start_time": "2024-11-26T21:12:25.711245Z"
    }
   },
   "id": "b4249fc9c8c46b51",
   "execution_count": 2
  },
  {
   "cell_type": "code",
   "outputs": [
    {
     "data": {
      "text/plain": "['tournament_location',\n 'tournament_name',\n 'Date',\n 'indoor_or_outdoor',\n 'Surface',\n 'Round',\n 'W1',\n 'L1',\n 'W2',\n 'L2',\n 'W3',\n 'L3',\n 'W4',\n 'L4',\n 'W5',\n 'L5',\n 'Wsets',\n 'Lsets',\n 'Comment',\n 'loser_id',\n 'winner_id',\n 'match_id',\n 'Winner_Sets_Before',\n 'Winner_Gems_Before',\n 'Loser_Sets_Before',\n 'Loser_Gems_Before',\n 'tournament_id',\n 'draw_size',\n 'tournament_level',\n 'tournament_date',\n 'winner_seed',\n 'winner_entry',\n 'winner_name',\n 'winner_hand',\n 'winner_ht',\n 'winner_ioc',\n 'winner_age',\n 'loser_seed',\n 'loser_entry',\n 'loser_name',\n 'loser_hand',\n 'loser_ht',\n 'loser_ioc',\n 'loser_age',\n 'best_of',\n 'minutes',\n 'w_ace',\n 'w_df',\n 'w_svpt',\n 'w_1stIn',\n 'w_1stWon',\n 'w_2ndWon',\n 'w_SvGms',\n 'w_bpSaved',\n 'w_bpFaced',\n 'l_ace',\n 'l_df',\n 'l_svpt',\n 'l_1stIn',\n 'l_1stWon',\n 'l_2ndWon',\n 'l_SvGms',\n 'l_bpSaved',\n 'l_bpFaced',\n 'winner_rank',\n 'winner_rank_points',\n 'loser_rank',\n 'loser_rank_points',\n 'w_2ndIn',\n 'l_2ndIn',\n 'h2h_diff',\n 'h2h_matches_played',\n 'tournament_country',\n 'winner_home',\n 'loser_home',\n 'Round_Num',\n 'Winner_Total_aces',\n 'Loser_Total_aces',\n 'Winner_Total_minutes',\n 'Loser_Total_minutes',\n 'Winner_Total_double_errors',\n 'Loser_Total_double_errors',\n 'Winner_Total_serves',\n 'Loser_Total_serves',\n 'Winner_Total_points_won_after_1st_serve',\n 'Loser_Total_points_won_after_1st_serve',\n 'Winner_Total_points_won_after_2nd_serve',\n 'Loser_Total_points_won_after_2nd_serve',\n 'Winner_Total_1st_serves',\n 'Loser_Total_1st_serves',\n 'Winner_Total_2nd_serves',\n 'Loser_Total_2nd_serves',\n 'Winner_Total_games_serving',\n 'Loser_Total_games_serving',\n 'winner_win_pct_last_10',\n 'loser_win_pct_last_10',\n 'winner_win_pct_last_10_surface',\n 'loser_win_pct_last_10_surface',\n 'winner_1st_serve_in_pct',\n 'winner_1st_serve_win_pct',\n 'winner_2nd_serve_in_pct',\n 'winner_2nd_serve_win_pct',\n 'winner_service_games_won_pct',\n 'loser_1st_serve_in_pct',\n 'loser_1st_serve_win_pct',\n 'loser_2nd_serve_in_pct',\n 'loser_2nd_serve_win_pct',\n 'loser_service_games_won_pct',\n 'winner_1st_serve_return_win_pct',\n 'winner_2nd_serve_return_win_pct',\n 'winner_return_games_win_pct',\n 'loser_1st_serve_return_win_pct',\n 'loser_2nd_serve_return_win_pct',\n 'loser_return_games_win_pct',\n 'winner_bp_won_pct',\n 'loser_bp_won_pct',\n 'winner_bp_saved_pct',\n 'loser_bp_saved_pct',\n 'winner_total_1st_serve_in_pct',\n 'winner_total_1st_serve_win_pct',\n 'winner_total_2nd_serve_in_pct',\n 'winner_total_2nd_serve_win_pct',\n 'loser_total_1st_serve_in_pct',\n 'loser_total_1st_serve_win_pct',\n 'loser_total_2nd_serve_in_pct',\n 'loser_total_2nd_serve_win_pct',\n 'time',\n 'latitude',\n 'longitude',\n 'elo_winner',\n 'elo_loser',\n 'surface_elo_winner',\n 'surface_elo_loser',\n 'blended_elo_winner',\n 'blended_elo_loser',\n 'CO_1st_serve_in_p_diff',\n '1st_serve_in_p_diff',\n 'CO_1st_serve_win_p_diff',\n '1st_serve_win_p_diff',\n 'CO_2nd_serve_win_p_diff',\n '2nd_serve_win_p_diff',\n 'CO_serve_games_win_p_diff',\n 'serve_games_win_p_diff',\n 'CO_avg_ace_per_match_diff',\n 'avg_ace_per_match_diff',\n 'CO_avg_df_per_match_diff',\n 'avg_df_per_match_diff',\n 'CO_1st_serve_wrp_diff',\n '1st_serve_wrp_diff']"
     },
     "execution_count": 3,
     "metadata": {},
     "output_type": "execute_result"
    }
   ],
   "source": [
    "list(matches.columns)"
   ],
   "metadata": {
    "collapsed": false,
    "ExecuteTime": {
     "end_time": "2024-11-26T21:12:25.935194Z",
     "start_time": "2024-11-26T21:12:25.929766Z"
    }
   },
   "id": "ddf7d6d9b1a718d1",
   "execution_count": 3
  },
  {
   "cell_type": "markdown",
   "source": [
    "### Dropimy kolumny, które nie będą używane do predykcji"
   ],
   "metadata": {
    "collapsed": false
   },
   "id": "59cbf0661ede15d8"
  },
  {
   "cell_type": "code",
   "outputs": [],
   "source": [
    "matches = matches.drop(columns=[\"W1\", \"L1\", \"W2\", \"L2\", \"W3\", \"L3\", \"W4\", \"L4\", \"W5\", \"L5\", \"Wsets\", \"Lsets\", \"tournament_location\", \"tournament_name\", \"Date\", \"loser_id\", \"winner_id\", \"match_id\", \"tournament_id\", \"draw_size\", \"tournament_date\", \"winner_name\", \"winner_ioc\", \"winner_ht\", \"loser_name\", \"loser_ht\", \"loser_ioc\", \"winner_rank_points\", \"loser_rank_points\", \"tournament_country\", \"Round\", \"time\", \"latitude\", \"longitude\",\n",
    "'Winner_Total_aces',\n",
    "'w_ace',\n",
    " 'w_df',\n",
    " 'w_svpt',\n",
    " 'w_1stIn',\n",
    " 'w_1stWon',\n",
    " 'w_2ndWon',\n",
    " 'w_SvGms',\n",
    " 'w_bpSaved',\n",
    " 'w_bpFaced',\n",
    "'l_ace',\n",
    " 'l_df',\n",
    " 'l_svpt',\n",
    " 'l_1stIn',\n",
    " 'l_1stWon',\n",
    " 'l_2ndWon',\n",
    " 'l_SvGms',\n",
    " 'l_bpSaved',\n",
    " 'l_bpFaced',\n",
    " 'Loser_Total_aces',\n",
    " 'Winner_Total_minutes',\n",
    " 'Loser_Total_minutes',\n",
    " 'Winner_Total_double_errors',\n",
    " 'Loser_Total_double_errors',\n",
    " 'Winner_Total_serves',\n",
    " 'Loser_Total_serves',\n",
    " 'Winner_Total_points_won_after_1st_serve',\n",
    " 'Loser_Total_points_won_after_1st_serve',\n",
    " 'Winner_Total_points_won_after_2nd_serve',\n",
    " 'Winner_Total_1st_serves',\n",
    " 'Loser_Total_1st_serves',\n",
    " 'Winner_Total_2nd_serves',\n",
    " 'Loser_Total_2nd_serves',\n",
    " 'Winner_Total_games_serving',\n",
    " 'Loser_Total_games_serving',\n",
    "'winner_1st_serve_in_pct',\n",
    " 'winner_1st_serve_win_pct',\n",
    " 'winner_2nd_serve_in_pct',\n",
    " 'winner_2nd_serve_win_pct',\n",
    " 'winner_service_games_won_pct',\n",
    " 'loser_1st_serve_in_pct',\n",
    " 'loser_1st_serve_win_pct',\n",
    " 'loser_2nd_serve_in_pct',\n",
    "'loser_2nd_serve_win_pct',\n",
    " 'loser_service_games_won_pct',\n",
    " 'winner_1st_serve_return_win_pct',\n",
    " 'winner_2nd_serve_return_win_pct',\n",
    " 'winner_return_games_win_pct',\n",
    " 'loser_1st_serve_return_win_pct',\n",
    " 'loser_2nd_serve_return_win_pct',\n",
    " 'loser_return_games_win_pct',\n",
    " 'winner_bp_won_pct',\n",
    " 'loser_bp_won_pct',\n",
    " 'winner_bp_saved_pct',\n",
    " 'loser_bp_saved_pct',\n",
    " 'winner_total_1st_serve_in_pct',\n",
    " 'winner_total_1st_serve_win_pct',\n",
    " 'winner_total_2nd_serve_in_pct',\n",
    " 'winner_total_2nd_serve_win_pct',\n",
    " 'loser_total_1st_serve_in_pct',\n",
    "'loser_total_1st_serve_win_pct',\n",
    " 'loser_total_2nd_serve_in_pct',\n",
    " 'loser_total_2nd_serve_win_pct',\n",
    " 'Comment'  # Do jeszcze do pokmininenia\n",
    "                                ])"
   ],
   "metadata": {
    "collapsed": false,
    "ExecuteTime": {
     "end_time": "2024-11-26T21:12:25.944121Z",
     "start_time": "2024-11-26T21:12:25.936860Z"
    }
   },
   "id": "3658fe539b505eea",
   "execution_count": 4
  },
  {
   "cell_type": "code",
   "outputs": [
    {
     "data": {
      "text/plain": "['indoor_or_outdoor',\n 'Surface',\n 'Winner_Sets_Before',\n 'Winner_Gems_Before',\n 'Loser_Sets_Before',\n 'Loser_Gems_Before',\n 'tournament_level',\n 'winner_seed',\n 'winner_entry',\n 'winner_hand',\n 'winner_age',\n 'loser_seed',\n 'loser_entry',\n 'loser_hand',\n 'loser_age',\n 'best_of',\n 'minutes',\n 'winner_rank',\n 'loser_rank',\n 'w_2ndIn',\n 'l_2ndIn',\n 'h2h_diff',\n 'h2h_matches_played',\n 'winner_home',\n 'loser_home',\n 'Round_Num',\n 'Loser_Total_points_won_after_2nd_serve',\n 'winner_win_pct_last_10',\n 'loser_win_pct_last_10',\n 'winner_win_pct_last_10_surface',\n 'loser_win_pct_last_10_surface',\n 'elo_winner',\n 'elo_loser',\n 'surface_elo_winner',\n 'surface_elo_loser',\n 'blended_elo_winner',\n 'blended_elo_loser',\n 'CO_1st_serve_in_p_diff',\n '1st_serve_in_p_diff',\n 'CO_1st_serve_win_p_diff',\n '1st_serve_win_p_diff',\n 'CO_2nd_serve_win_p_diff',\n '2nd_serve_win_p_diff',\n 'CO_serve_games_win_p_diff',\n 'serve_games_win_p_diff',\n 'CO_avg_ace_per_match_diff',\n 'avg_ace_per_match_diff',\n 'CO_avg_df_per_match_diff',\n 'avg_df_per_match_diff',\n 'CO_1st_serve_wrp_diff',\n '1st_serve_wrp_diff']"
     },
     "execution_count": 5,
     "metadata": {},
     "output_type": "execute_result"
    }
   ],
   "source": [
    "list(matches.columns)"
   ],
   "metadata": {
    "collapsed": false,
    "ExecuteTime": {
     "end_time": "2024-11-26T21:12:25.948814Z",
     "start_time": "2024-11-26T21:12:25.945106Z"
    }
   },
   "id": "5aeccebc0e5e920",
   "execution_count": 5
  },
  {
   "cell_type": "markdown",
   "source": [
    "### Chcemy, żeby wszystkie kolumny były numeryczne"
   ],
   "metadata": {
    "collapsed": false
   },
   "id": "74bd88676ef9f2f7"
  },
  {
   "cell_type": "code",
   "outputs": [],
   "source": [
    "def is_numeric_or_castable(series):\n",
    "    try:\n",
    "        pd.to_numeric(series)\n",
    "        return True\n",
    "    except TypeError:\n",
    "        print(series)\n",
    "    except ValueError:\n",
    "        return False"
   ],
   "metadata": {
    "collapsed": false,
    "ExecuteTime": {
     "end_time": "2024-11-26T21:12:25.951832Z",
     "start_time": "2024-11-26T21:12:25.949817Z"
    }
   },
   "id": "a15a4946bf3b7ac0",
   "execution_count": 6
  },
  {
   "cell_type": "code",
   "outputs": [
    {
     "name": "stdout",
     "output_type": "stream",
     "text": [
      "The following columns are not numeric or contain non-castable values: ['indoor_or_outdoor', 'Surface', 'tournament_level', 'winner_entry', 'winner_hand', 'loser_entry', 'loser_hand']\n"
     ]
    }
   ],
   "source": [
    "problematic_columns = [col for col in matches.columns if not is_numeric_or_castable(matches[col])]\n",
    "\n",
    "if not problematic_columns:\n",
    "    print(\"All columns are numeric or can be cast to numeric values.\")\n",
    "else:\n",
    "    print(f\"The following columns are not numeric or contain non-castable values: {problematic_columns}\")"
   ],
   "metadata": {
    "collapsed": false,
    "ExecuteTime": {
     "end_time": "2024-11-26T21:12:25.956897Z",
     "start_time": "2024-11-26T21:12:25.952628Z"
    }
   },
   "id": "308677bcd8124966",
   "execution_count": 7
  },
  {
   "cell_type": "code",
   "outputs": [
    {
     "data": {
      "text/plain": "array(['Outdoor', 'Indoor'], dtype=object)"
     },
     "execution_count": 8,
     "metadata": {},
     "output_type": "execute_result"
    }
   ],
   "source": [
    "matches['indoor_or_outdoor'].unique()"
   ],
   "metadata": {
    "collapsed": false,
    "ExecuteTime": {
     "end_time": "2024-11-26T21:12:25.961214Z",
     "start_time": "2024-11-26T21:12:25.957828Z"
    }
   },
   "id": "94fefb1d3f08601a",
   "execution_count": 8
  },
  {
   "cell_type": "code",
   "outputs": [],
   "source": [
    "matches['indoor_or_outdoor'] = matches['indoor_or_outdoor'].map({'Outdoor': 1, 'Indoor': 0})\n",
    "matches.rename(columns={'indoor_or_outdoor': 'outdoor'}, inplace=True)"
   ],
   "metadata": {
    "collapsed": false,
    "ExecuteTime": {
     "end_time": "2024-11-26T21:12:25.965826Z",
     "start_time": "2024-11-26T21:12:25.961889Z"
    }
   },
   "id": "e50a235f6add8afa",
   "execution_count": 9
  },
  {
   "cell_type": "code",
   "outputs": [
    {
     "data": {
      "text/plain": "array(['Hard', 'Clay', 'Grass'], dtype=object)"
     },
     "execution_count": 10,
     "metadata": {},
     "output_type": "execute_result"
    }
   ],
   "source": [
    "matches['Surface'].unique()"
   ],
   "metadata": {
    "collapsed": false,
    "ExecuteTime": {
     "end_time": "2024-11-26T21:12:25.971370Z",
     "start_time": "2024-11-26T21:12:25.968193Z"
    }
   },
   "id": "5b555a703f5c0605",
   "execution_count": 10
  },
  {
   "cell_type": "code",
   "outputs": [],
   "source": [
    "matches = pd.get_dummies(matches, columns=['Surface'], prefix='Surface')"
   ],
   "metadata": {
    "collapsed": false,
    "ExecuteTime": {
     "end_time": "2024-11-26T21:12:25.979056Z",
     "start_time": "2024-11-26T21:12:25.972208Z"
    }
   },
   "id": "cf6c8fbc6b2cb101",
   "execution_count": 11
  },
  {
   "cell_type": "code",
   "outputs": [
    {
     "data": {
      "text/plain": "array(['A', 'G', 'M'], dtype=object)"
     },
     "execution_count": 12,
     "metadata": {},
     "output_type": "execute_result"
    }
   ],
   "source": [
    "matches[\"tournament_level\"].unique()"
   ],
   "metadata": {
    "collapsed": false,
    "ExecuteTime": {
     "end_time": "2024-11-26T21:12:25.983619Z",
     "start_time": "2024-11-26T21:12:25.979811Z"
    }
   },
   "id": "cd7a2dea68458690",
   "execution_count": 12
  },
  {
   "cell_type": "markdown",
   "source": [
    "### Tu mi się nie podoba że jest ten level z githuba że jest A dla atp250 i atp500, kiedyś do poprawy, żeby były oddzielne levele dla atp250 i atp500"
   ],
   "metadata": {
    "collapsed": false
   },
   "id": "dfdb661e772c0859"
  },
  {
   "cell_type": "code",
   "outputs": [],
   "source": [
    "matches[\"tournament_level\"] = matches[\"tournament_level\"].map({\"A\": 0, \"M\": 1, \"G\": 2})"
   ],
   "metadata": {
    "collapsed": false,
    "ExecuteTime": {
     "end_time": "2024-11-26T21:12:25.988234Z",
     "start_time": "2024-11-26T21:12:25.984398Z"
    }
   },
   "id": "64b298298c36dab7",
   "execution_count": 13
  },
  {
   "cell_type": "code",
   "outputs": [
    {
     "name": "stdout",
     "output_type": "stream",
     "text": [
      "[nan 'Q' 'WC' 'LL' 'PR' 'SE' 'Alt' 'ALT']\n",
      "[nan 'WC' 'Q' 'PR' 'LL' 'SE' 'Alt' 'ALT']\n"
     ]
    }
   ],
   "source": [
    "print(matches['winner_entry'].unique())\n",
    "print(matches['loser_entry'].unique())"
   ],
   "metadata": {
    "collapsed": false,
    "ExecuteTime": {
     "end_time": "2024-11-26T21:12:25.992233Z",
     "start_time": "2024-11-26T21:12:25.988977Z"
    }
   },
   "id": "d29374114bdc097e",
   "execution_count": 14
  },
  {
   "cell_type": "code",
   "outputs": [],
   "source": [
    "# Reszty nie chcemy trzymać, bo to nie wiadomo co albo niepotrzebe\n",
    "values_to_encode = ['WC', 'Q', 'LL']\n",
    "\n",
    "# Replace unwanted values with NaN\n",
    "matches['winner_entry'] = matches['winner_entry'].where(matches['winner_entry'].isin(values_to_encode))\n",
    "matches['loser_entry'] = matches['loser_entry'].where(matches['loser_entry'].isin(values_to_encode))\n",
    "\n",
    "# One-hot encode the filtered column\n",
    "matches = pd.get_dummies(matches, columns=['winner_entry'], prefix='winner_entry', prefix_sep='_')\n",
    "matches = pd.get_dummies(matches, columns=['loser_entry'], prefix='loser_entry', prefix_sep='_')"
   ],
   "metadata": {
    "collapsed": false,
    "ExecuteTime": {
     "end_time": "2024-11-26T21:12:26.007784Z",
     "start_time": "2024-11-26T21:12:25.992970Z"
    }
   },
   "id": "893ab7d42eaf8a40",
   "execution_count": 15
  },
  {
   "cell_type": "code",
   "outputs": [
    {
     "data": {
      "text/plain": "array(['R', 'U', 'L'], dtype=object)"
     },
     "execution_count": 16,
     "metadata": {},
     "output_type": "execute_result"
    }
   ],
   "source": [
    "matches[\"winner_hand\"].unique()\n",
    "matches[\"loser_hand\"].unique()"
   ],
   "metadata": {
    "collapsed": false,
    "ExecuteTime": {
     "end_time": "2024-11-26T21:12:26.012966Z",
     "start_time": "2024-11-26T21:12:26.008512Z"
    }
   },
   "id": "397dbc50c3e82253",
   "execution_count": 16
  },
  {
   "cell_type": "code",
   "outputs": [],
   "source": [
    "matches[\"winner_hand\"] = matches[\"winner_hand\"].map({\"R\": 1, \"L\": 0, \"U\": 0}) # U traktujemy jak lewą, bo nie wiem ilu graczy jest serio oburęcznych\n",
    "matches.rename(columns={'winner_hand': 'winner_right_handed'}, inplace=True)\n",
    "matches[\"loser_hand\"] = matches[\"loser_hand\"].map({\"R\": 1, \"L\": 0, \"U\": 0})\n",
    "matches.rename(columns={'loser_hand': 'loser_right_handed'}, inplace=True)"
   ],
   "metadata": {
    "collapsed": false,
    "ExecuteTime": {
     "end_time": "2024-11-26T21:12:26.018716Z",
     "start_time": "2024-11-26T21:12:26.014159Z"
    }
   },
   "id": "cb32036711936151",
   "execution_count": 17
  },
  {
   "cell_type": "code",
   "outputs": [
    {
     "data": {
      "text/plain": "       outdoor  Winner_Sets_Before  Winner_Gems_Before  Loser_Sets_Before  \\\n0            1                 0.0                 0.0                0.0   \n1            1                 0.0                 0.0                0.0   \n2            1                 0.0                 0.0                0.0   \n3            1                 0.0                 0.0                0.0   \n4            1                 0.0                 0.0                0.0   \n...        ...                 ...                 ...                ...   \n14106        0                 3.0                12.0                4.0   \n14107        0                 2.0                 5.0                4.0   \n14108        0                 6.0                21.0                4.0   \n14109        0                 4.0                17.0                4.0   \n14110        0                 8.0                28.0                5.0   \n\n       Loser_Gems_Before  tournament_level  winner_seed  winner_right_handed  \\\n0                    0.0                 0          NaN                    1   \n1                    0.0                 0          NaN                    1   \n2                    0.0                 0          NaN                    1   \n3                    0.0                 0          NaN                    0   \n4                    0.0                 0          NaN                    1   \n...                  ...               ...          ...                  ...   \n14106                8.0                 1          2.0                    1   \n14107                8.0                 1          3.0                    1   \n14108               13.0                 1          NaN                    1   \n14109                9.0                 1          2.0                    1   \n14110               17.0                 1          NaN                    1   \n\n       winner_age  loser_seed  ...  1st_serve_wrp_diff  Surface_Clay  \\\n0            29.4         NaN  ...           -0.033253         False   \n1            27.7         NaN  ...           -0.016278         False   \n2            23.3         NaN  ...            0.024988         False   \n3            27.2         5.0  ...           -0.027436         False   \n4            23.4         2.0  ...           -0.032529         False   \n...           ...         ...  ...                 ...           ...   \n14106        31.4         5.0  ...            0.033625         False   \n14107        37.2        10.0  ...            0.023222         False   \n14108        22.4         6.0  ...           -0.033747         False   \n14109        31.4         3.0  ...            0.028102         False   \n14110        22.4         2.0  ...           -0.049593         False   \n\n       Surface_Grass  Surface_Hard  winner_entry_LL  winner_entry_Q  \\\n0              False          True            False           False   \n1              False          True            False           False   \n2              False          True            False           False   \n3              False          True            False           False   \n4              False          True            False            True   \n...              ...           ...              ...             ...   \n14106          False          True            False           False   \n14107          False          True            False           False   \n14108          False          True            False           False   \n14109          False          True            False           False   \n14110          False          True            False           False   \n\n       winner_entry_WC  loser_entry_LL  loser_entry_Q  loser_entry_WC  \n0                False           False          False           False  \n1                False           False          False           False  \n2                False           False          False            True  \n3                False           False          False           False  \n4                False           False          False           False  \n...                ...             ...            ...             ...  \n14106            False           False          False           False  \n14107            False           False          False           False  \n14108            False           False          False           False  \n14109            False           False          False           False  \n14110            False           False          False           False  \n\n[14111 rows x 57 columns]",
      "text/html": "<div>\n<style scoped>\n    .dataframe tbody tr th:only-of-type {\n        vertical-align: middle;\n    }\n\n    .dataframe tbody tr th {\n        vertical-align: top;\n    }\n\n    .dataframe thead th {\n        text-align: right;\n    }\n</style>\n<table border=\"1\" class=\"dataframe\">\n  <thead>\n    <tr style=\"text-align: right;\">\n      <th></th>\n      <th>outdoor</th>\n      <th>Winner_Sets_Before</th>\n      <th>Winner_Gems_Before</th>\n      <th>Loser_Sets_Before</th>\n      <th>Loser_Gems_Before</th>\n      <th>tournament_level</th>\n      <th>winner_seed</th>\n      <th>winner_right_handed</th>\n      <th>winner_age</th>\n      <th>loser_seed</th>\n      <th>...</th>\n      <th>1st_serve_wrp_diff</th>\n      <th>Surface_Clay</th>\n      <th>Surface_Grass</th>\n      <th>Surface_Hard</th>\n      <th>winner_entry_LL</th>\n      <th>winner_entry_Q</th>\n      <th>winner_entry_WC</th>\n      <th>loser_entry_LL</th>\n      <th>loser_entry_Q</th>\n      <th>loser_entry_WC</th>\n    </tr>\n  </thead>\n  <tbody>\n    <tr>\n      <th>0</th>\n      <td>1</td>\n      <td>0.0</td>\n      <td>0.0</td>\n      <td>0.0</td>\n      <td>0.0</td>\n      <td>0</td>\n      <td>NaN</td>\n      <td>1</td>\n      <td>29.4</td>\n      <td>NaN</td>\n      <td>...</td>\n      <td>-0.033253</td>\n      <td>False</td>\n      <td>False</td>\n      <td>True</td>\n      <td>False</td>\n      <td>False</td>\n      <td>False</td>\n      <td>False</td>\n      <td>False</td>\n      <td>False</td>\n    </tr>\n    <tr>\n      <th>1</th>\n      <td>1</td>\n      <td>0.0</td>\n      <td>0.0</td>\n      <td>0.0</td>\n      <td>0.0</td>\n      <td>0</td>\n      <td>NaN</td>\n      <td>1</td>\n      <td>27.7</td>\n      <td>NaN</td>\n      <td>...</td>\n      <td>-0.016278</td>\n      <td>False</td>\n      <td>False</td>\n      <td>True</td>\n      <td>False</td>\n      <td>False</td>\n      <td>False</td>\n      <td>False</td>\n      <td>False</td>\n      <td>False</td>\n    </tr>\n    <tr>\n      <th>2</th>\n      <td>1</td>\n      <td>0.0</td>\n      <td>0.0</td>\n      <td>0.0</td>\n      <td>0.0</td>\n      <td>0</td>\n      <td>NaN</td>\n      <td>1</td>\n      <td>23.3</td>\n      <td>NaN</td>\n      <td>...</td>\n      <td>0.024988</td>\n      <td>False</td>\n      <td>False</td>\n      <td>True</td>\n      <td>False</td>\n      <td>False</td>\n      <td>False</td>\n      <td>False</td>\n      <td>False</td>\n      <td>True</td>\n    </tr>\n    <tr>\n      <th>3</th>\n      <td>1</td>\n      <td>0.0</td>\n      <td>0.0</td>\n      <td>0.0</td>\n      <td>0.0</td>\n      <td>0</td>\n      <td>NaN</td>\n      <td>0</td>\n      <td>27.2</td>\n      <td>5.0</td>\n      <td>...</td>\n      <td>-0.027436</td>\n      <td>False</td>\n      <td>False</td>\n      <td>True</td>\n      <td>False</td>\n      <td>False</td>\n      <td>False</td>\n      <td>False</td>\n      <td>False</td>\n      <td>False</td>\n    </tr>\n    <tr>\n      <th>4</th>\n      <td>1</td>\n      <td>0.0</td>\n      <td>0.0</td>\n      <td>0.0</td>\n      <td>0.0</td>\n      <td>0</td>\n      <td>NaN</td>\n      <td>1</td>\n      <td>23.4</td>\n      <td>2.0</td>\n      <td>...</td>\n      <td>-0.032529</td>\n      <td>False</td>\n      <td>False</td>\n      <td>True</td>\n      <td>False</td>\n      <td>True</td>\n      <td>False</td>\n      <td>False</td>\n      <td>False</td>\n      <td>False</td>\n    </tr>\n    <tr>\n      <th>...</th>\n      <td>...</td>\n      <td>...</td>\n      <td>...</td>\n      <td>...</td>\n      <td>...</td>\n      <td>...</td>\n      <td>...</td>\n      <td>...</td>\n      <td>...</td>\n      <td>...</td>\n      <td>...</td>\n      <td>...</td>\n      <td>...</td>\n      <td>...</td>\n      <td>...</td>\n      <td>...</td>\n      <td>...</td>\n      <td>...</td>\n      <td>...</td>\n      <td>...</td>\n      <td>...</td>\n    </tr>\n    <tr>\n      <th>14106</th>\n      <td>0</td>\n      <td>3.0</td>\n      <td>12.0</td>\n      <td>4.0</td>\n      <td>8.0</td>\n      <td>1</td>\n      <td>2.0</td>\n      <td>1</td>\n      <td>31.4</td>\n      <td>5.0</td>\n      <td>...</td>\n      <td>0.033625</td>\n      <td>False</td>\n      <td>False</td>\n      <td>True</td>\n      <td>False</td>\n      <td>False</td>\n      <td>False</td>\n      <td>False</td>\n      <td>False</td>\n      <td>False</td>\n    </tr>\n    <tr>\n      <th>14107</th>\n      <td>0</td>\n      <td>2.0</td>\n      <td>5.0</td>\n      <td>4.0</td>\n      <td>8.0</td>\n      <td>1</td>\n      <td>3.0</td>\n      <td>1</td>\n      <td>37.2</td>\n      <td>10.0</td>\n      <td>...</td>\n      <td>0.023222</td>\n      <td>False</td>\n      <td>False</td>\n      <td>True</td>\n      <td>False</td>\n      <td>False</td>\n      <td>False</td>\n      <td>False</td>\n      <td>False</td>\n      <td>False</td>\n    </tr>\n    <tr>\n      <th>14108</th>\n      <td>0</td>\n      <td>6.0</td>\n      <td>21.0</td>\n      <td>4.0</td>\n      <td>13.0</td>\n      <td>1</td>\n      <td>NaN</td>\n      <td>1</td>\n      <td>22.4</td>\n      <td>6.0</td>\n      <td>...</td>\n      <td>-0.033747</td>\n      <td>False</td>\n      <td>False</td>\n      <td>True</td>\n      <td>False</td>\n      <td>False</td>\n      <td>False</td>\n      <td>False</td>\n      <td>False</td>\n      <td>False</td>\n    </tr>\n    <tr>\n      <th>14109</th>\n      <td>0</td>\n      <td>4.0</td>\n      <td>17.0</td>\n      <td>4.0</td>\n      <td>9.0</td>\n      <td>1</td>\n      <td>2.0</td>\n      <td>1</td>\n      <td>31.4</td>\n      <td>3.0</td>\n      <td>...</td>\n      <td>0.028102</td>\n      <td>False</td>\n      <td>False</td>\n      <td>True</td>\n      <td>False</td>\n      <td>False</td>\n      <td>False</td>\n      <td>False</td>\n      <td>False</td>\n      <td>False</td>\n    </tr>\n    <tr>\n      <th>14110</th>\n      <td>0</td>\n      <td>8.0</td>\n      <td>28.0</td>\n      <td>5.0</td>\n      <td>17.0</td>\n      <td>1</td>\n      <td>NaN</td>\n      <td>1</td>\n      <td>22.4</td>\n      <td>2.0</td>\n      <td>...</td>\n      <td>-0.049593</td>\n      <td>False</td>\n      <td>False</td>\n      <td>True</td>\n      <td>False</td>\n      <td>False</td>\n      <td>False</td>\n      <td>False</td>\n      <td>False</td>\n      <td>False</td>\n    </tr>\n  </tbody>\n</table>\n<p>14111 rows × 57 columns</p>\n</div>"
     },
     "execution_count": 18,
     "metadata": {},
     "output_type": "execute_result"
    }
   ],
   "source": [
    "matches"
   ],
   "metadata": {
    "collapsed": false,
    "ExecuteTime": {
     "end_time": "2024-11-26T21:12:26.035467Z",
     "start_time": "2024-11-26T21:12:26.019511Z"
    }
   },
   "id": "581998dc8534aa7c",
   "execution_count": 18
  },
  {
   "cell_type": "code",
   "outputs": [
    {
     "name": "stdout",
     "output_type": "stream",
     "text": [
      "All columns are numeric or can be cast to numeric values.\n"
     ]
    }
   ],
   "source": [
    "problematic_columns = [col for col in matches.columns if not is_numeric_or_castable(matches[col])]\n",
    "\n",
    "if not problematic_columns:\n",
    "    print(\"All columns are numeric or can be cast to numeric values.\")\n",
    "else:\n",
    "    print(f\"The following columns are not numeric or contain non-castable values: {problematic_columns}\")"
   ],
   "metadata": {
    "collapsed": false,
    "ExecuteTime": {
     "end_time": "2024-11-26T21:12:26.041002Z",
     "start_time": "2024-11-26T21:12:26.036361Z"
    }
   },
   "id": "712e540ed14d2e33",
   "execution_count": 19
  },
  {
   "cell_type": "code",
   "outputs": [
    {
     "data": {
      "text/plain": "['outdoor',\n 'Winner_Sets_Before',\n 'Winner_Gems_Before',\n 'Loser_Sets_Before',\n 'Loser_Gems_Before',\n 'tournament_level',\n 'winner_seed',\n 'winner_right_handed',\n 'winner_age',\n 'loser_seed',\n 'loser_right_handed',\n 'loser_age',\n 'best_of',\n 'minutes',\n 'winner_rank',\n 'loser_rank',\n 'w_2ndIn',\n 'l_2ndIn',\n 'h2h_diff',\n 'h2h_matches_played',\n 'winner_home',\n 'loser_home',\n 'Round_Num',\n 'Loser_Total_points_won_after_2nd_serve',\n 'winner_win_pct_last_10',\n 'loser_win_pct_last_10',\n 'winner_win_pct_last_10_surface',\n 'loser_win_pct_last_10_surface',\n 'elo_winner',\n 'elo_loser',\n 'surface_elo_winner',\n 'surface_elo_loser',\n 'blended_elo_winner',\n 'blended_elo_loser',\n 'CO_1st_serve_in_p_diff',\n '1st_serve_in_p_diff',\n 'CO_1st_serve_win_p_diff',\n '1st_serve_win_p_diff',\n 'CO_2nd_serve_win_p_diff',\n '2nd_serve_win_p_diff',\n 'CO_serve_games_win_p_diff',\n 'serve_games_win_p_diff',\n 'CO_avg_ace_per_match_diff',\n 'avg_ace_per_match_diff',\n 'CO_avg_df_per_match_diff',\n 'avg_df_per_match_diff',\n 'CO_1st_serve_wrp_diff',\n '1st_serve_wrp_diff',\n 'Surface_Clay',\n 'Surface_Grass',\n 'Surface_Hard',\n 'winner_entry_LL',\n 'winner_entry_Q',\n 'winner_entry_WC',\n 'loser_entry_LL',\n 'loser_entry_Q',\n 'loser_entry_WC']"
     },
     "execution_count": 20,
     "metadata": {},
     "output_type": "execute_result"
    }
   ],
   "source": [
    "list(matches.columns)"
   ],
   "metadata": {
    "collapsed": false,
    "ExecuteTime": {
     "end_time": "2024-11-26T21:12:26.045272Z",
     "start_time": "2024-11-26T21:12:26.041839Z"
    }
   },
   "id": "936d39bc0c11c9f2",
   "execution_count": 20
  },
  {
   "cell_type": "markdown",
   "source": [
    "### Chcemy żeby kolumny nazywały się player1/player2 a nie winner/loser"
   ],
   "metadata": {
    "collapsed": false
   },
   "id": "2e0b73d470461d74"
  },
  {
   "cell_type": "code",
   "outputs": [
    {
     "name": "stdout",
     "output_type": "stream",
     "text": [
      "['outdoor', 'player1_Sets_Before', 'player1_Gems_Before', 'player2_Sets_Before', 'player2_Gems_Before', 'tournament_level', 'player1_seed', 'player1_right_handed', 'player1_age', 'player2_seed', 'player2_right_handed', 'player2_age', 'best_of', 'minutes', 'player1_rank', 'player2_rank', 'player1_2ndIn', 'player2_2ndIn', 'h2h_diff', 'h2h_matches_played', 'player1_home', 'player2_home', 'Round_Num', 'player2_Totaplayer2_points_won_after_2nd_serve', 'player1_win_pct_last_10', 'player2_win_pct_last_10', 'player1_win_pct_last_10_surface', 'player2_win_pct_last_10_surface', 'player1_elo', 'player2_elo', 'player1_surface_elo', 'player2_surface_elo', 'player1_blended_elo', 'player2_blended_elo', 'CO_1st_serve_in_p_diff', '1st_serve_in_p_diff', 'CO_1st_serve_win_p_diff', '1st_serve_win_p_diff', 'CO_2nd_serve_win_p_diff', '2nd_serve_win_p_diff', 'CO_serve_games_win_p_diff', 'serve_games_win_p_diff', 'CO_avg_ace_per_match_diff', 'avg_ace_per_match_diff', 'CO_avg_df_per_match_diff', 'avg_df_per_match_diff', 'CO_1st_serve_wrp_diff', '1st_serve_wrp_diff', 'Surface_Clay', 'Surface_Grass', 'Surface_Hard', 'player1_entry_LL', 'player1_entry_Q', 'player1_entry_WC', 'player2_entry_LL', 'player2_entry_Q', 'player2_entry_WC']\n"
     ]
    }
   ],
   "source": [
    "def rename_player_columns(col):\n",
    "    col_lower = col.lower()  # Convert to lowercase for consistent checks\n",
    "\n",
    "    # Check if the column starts with \"winner\" or \"w_\"\n",
    "    if col_lower.startswith('winner') or col_lower.startswith('w_'):\n",
    "        return col.replace('Winner', 'player1').replace('winner', 'player1').replace('w_', 'player1_', 1)\n",
    "\n",
    "    # Check if the column starts with \"loser\" or \"l_\"\n",
    "    elif col_lower.startswith('loser') or col_lower.startswith('l_'):\n",
    "        return col.replace('Loser', 'player2').replace('loser', 'player2').replace('l_', 'player2_', 1)\n",
    "\n",
    "    # Check if the column ends with \"winner\"\n",
    "    elif col_lower.endswith('winner'):\n",
    "        return f\"player1_{col.replace('_winner', '').replace('Winner', '').replace('winner', '')}\".strip('_')\n",
    "\n",
    "    # Check if the column ends with \"loser\"\n",
    "    elif col_lower.endswith('loser'):\n",
    "        return f\"player2_{col.replace('_loser', '').replace('Loser', '').replace('loser', '')}\".strip('_')\n",
    "\n",
    "    return col  # Keep other columns unchanged\n",
    "\n",
    "\n",
    "# Apply renaming\n",
    "matches.columns = [rename_player_columns(col) for col in list(matches.columns)]\n",
    "\n",
    "# Create a DataFrame to showcase the new column names\n",
    "print(list(matches.columns))"
   ],
   "metadata": {
    "collapsed": false,
    "ExecuteTime": {
     "end_time": "2024-11-26T21:12:26.050256Z",
     "start_time": "2024-11-26T21:12:26.046090Z"
    }
   },
   "id": "79deb86a18761f9b",
   "execution_count": 21
  },
  {
   "cell_type": "markdown",
   "source": [
    "### Tworzymy target który jest 1 gdy player1 wygrał i 0 wpp, i ustawiamy narazie wszystko na 1 bo winner został zmienionu na player1"
   ],
   "metadata": {
    "collapsed": false
   },
   "id": "4b18a712461926d1"
  },
  {
   "cell_type": "code",
   "outputs": [],
   "source": [
    "matches[\"target\"] = 1"
   ],
   "metadata": {
    "collapsed": false,
    "ExecuteTime": {
     "end_time": "2024-11-26T21:12:26.053494Z",
     "start_time": "2024-11-26T21:12:26.051179Z"
    }
   },
   "id": "f785b0b4836dc558",
   "execution_count": 22
  },
  {
   "cell_type": "markdown",
   "source": [
    "### Żeby nie było tak że zawsze to player1 jest wygranym to mieszamy w losowo wybranych rzędach staty pomiędzy player1 a player2 i w tych rzędach zmieniamy target z 1 na 0"
   ],
   "metadata": {
    "collapsed": false
   },
   "id": "37b3c34a527d93d"
  },
  {
   "cell_type": "code",
   "outputs": [],
   "source": [
    "import numpy as np"
   ],
   "metadata": {
    "collapsed": false,
    "ExecuteTime": {
     "end_time": "2024-11-26T21:12:26.056391Z",
     "start_time": "2024-11-26T21:12:26.054395Z"
    }
   },
   "id": "91610486391510ca",
   "execution_count": 23
  },
  {
   "cell_type": "code",
   "outputs": [],
   "source": [
    "# Randomly select rows to swap\n",
    "np.random.seed(42)  # For reproducibility\n",
    "rows_to_swap = np.random.choice(matches.index, size=int(len(matches) * 0.5), replace=False)  # Swap 50% of rows\n",
    "\n",
    "# Swap player1 and player2 stats for the selected rows\n",
    "for col in matches.columns:\n",
    "    if col.startswith('player1_'):\n",
    "        corresponding_col = col.replace('player1_', 'player2_')\n",
    "        matches.loc[rows_to_swap, [col, corresponding_col]] = matches.loc[rows_to_swap, [corresponding_col, col]].values\n",
    "\n",
    "# Update the target column for swapped rows\n",
    "matches.loc[rows_to_swap, 'target'] = 0  # Player 2 is the winner\n"
   ],
   "metadata": {
    "collapsed": false,
    "ExecuteTime": {
     "end_time": "2024-11-26T21:12:26.080338Z",
     "start_time": "2024-11-26T21:12:26.057211Z"
    }
   },
   "id": "f76deada71d5c7af",
   "execution_count": 24
  },
  {
   "cell_type": "code",
   "outputs": [
    {
     "data": {
      "text/plain": "       outdoor  player1_Sets_Before  player1_Gems_Before  player2_Sets_Before  \\\n0            1                  0.0                  0.0                  0.0   \n1            1                  0.0                  0.0                  0.0   \n2            1                  0.0                  0.0                  0.0   \n3            1                  0.0                  0.0                  0.0   \n4            1                  0.0                  0.0                  0.0   \n...        ...                  ...                  ...                  ...   \n14106        0                  4.0                  8.0                  3.0   \n14107        0                  2.0                  5.0                  4.0   \n14108        0                  6.0                 21.0                  4.0   \n14109        0                  4.0                  9.0                  4.0   \n14110        0                  5.0                 17.0                  8.0   \n\n       player2_Gems_Before  tournament_level  player1_seed  \\\n0                      0.0                 0           NaN   \n1                      0.0                 0           NaN   \n2                      0.0                 0           NaN   \n3                      0.0                 0           5.0   \n4                      0.0                 0           NaN   \n...                    ...               ...           ...   \n14106                 12.0                 1           5.0   \n14107                  8.0                 1           3.0   \n14108                 13.0                 1           NaN   \n14109                 17.0                 1           3.0   \n14110                 28.0                 1           2.0   \n\n       player1_right_handed  player1_age  player2_seed  ...  Surface_Clay  \\\n0                         1         36.5           NaN  ...         False   \n1                         1         27.7           NaN  ...         False   \n2                         1         23.3           NaN  ...         False   \n3                         1         19.6           NaN  ...         False   \n4                         1         23.4           2.0  ...         False   \n...                     ...          ...           ...  ...           ...   \n14106                     1         30.0           2.0  ...         False   \n14107                     1         37.2          10.0  ...         False   \n14108                     1         22.4           6.0  ...         False   \n14109                     1         37.2           2.0  ...         False   \n14110                     1         31.4           NaN  ...         False   \n\n       Surface_Grass  Surface_Hard  player1_entry_LL  player1_entry_Q  \\\n0              False          True             False            False   \n1              False          True             False            False   \n2              False          True             False            False   \n3              False          True             False            False   \n4              False          True             False             True   \n...              ...           ...               ...              ...   \n14106          False          True             False            False   \n14107          False          True             False            False   \n14108          False          True             False            False   \n14109          False          True             False            False   \n14110          False          True             False            False   \n\n       player1_entry_WC  player2_entry_LL  player2_entry_Q  player2_entry_WC  \\\n0                 False             False            False             False   \n1                 False             False            False             False   \n2                 False             False            False              True   \n3                 False             False            False             False   \n4                 False             False            False             False   \n...                 ...               ...              ...               ...   \n14106             False             False            False             False   \n14107             False             False            False             False   \n14108             False             False            False             False   \n14109             False             False            False             False   \n14110             False             False            False             False   \n\n       target  \n0           0  \n1           1  \n2           1  \n3           0  \n4           1  \n...       ...  \n14106       0  \n14107       1  \n14108       1  \n14109       0  \n14110       0  \n\n[14111 rows x 58 columns]",
      "text/html": "<div>\n<style scoped>\n    .dataframe tbody tr th:only-of-type {\n        vertical-align: middle;\n    }\n\n    .dataframe tbody tr th {\n        vertical-align: top;\n    }\n\n    .dataframe thead th {\n        text-align: right;\n    }\n</style>\n<table border=\"1\" class=\"dataframe\">\n  <thead>\n    <tr style=\"text-align: right;\">\n      <th></th>\n      <th>outdoor</th>\n      <th>player1_Sets_Before</th>\n      <th>player1_Gems_Before</th>\n      <th>player2_Sets_Before</th>\n      <th>player2_Gems_Before</th>\n      <th>tournament_level</th>\n      <th>player1_seed</th>\n      <th>player1_right_handed</th>\n      <th>player1_age</th>\n      <th>player2_seed</th>\n      <th>...</th>\n      <th>Surface_Clay</th>\n      <th>Surface_Grass</th>\n      <th>Surface_Hard</th>\n      <th>player1_entry_LL</th>\n      <th>player1_entry_Q</th>\n      <th>player1_entry_WC</th>\n      <th>player2_entry_LL</th>\n      <th>player2_entry_Q</th>\n      <th>player2_entry_WC</th>\n      <th>target</th>\n    </tr>\n  </thead>\n  <tbody>\n    <tr>\n      <th>0</th>\n      <td>1</td>\n      <td>0.0</td>\n      <td>0.0</td>\n      <td>0.0</td>\n      <td>0.0</td>\n      <td>0</td>\n      <td>NaN</td>\n      <td>1</td>\n      <td>36.5</td>\n      <td>NaN</td>\n      <td>...</td>\n      <td>False</td>\n      <td>False</td>\n      <td>True</td>\n      <td>False</td>\n      <td>False</td>\n      <td>False</td>\n      <td>False</td>\n      <td>False</td>\n      <td>False</td>\n      <td>0</td>\n    </tr>\n    <tr>\n      <th>1</th>\n      <td>1</td>\n      <td>0.0</td>\n      <td>0.0</td>\n      <td>0.0</td>\n      <td>0.0</td>\n      <td>0</td>\n      <td>NaN</td>\n      <td>1</td>\n      <td>27.7</td>\n      <td>NaN</td>\n      <td>...</td>\n      <td>False</td>\n      <td>False</td>\n      <td>True</td>\n      <td>False</td>\n      <td>False</td>\n      <td>False</td>\n      <td>False</td>\n      <td>False</td>\n      <td>False</td>\n      <td>1</td>\n    </tr>\n    <tr>\n      <th>2</th>\n      <td>1</td>\n      <td>0.0</td>\n      <td>0.0</td>\n      <td>0.0</td>\n      <td>0.0</td>\n      <td>0</td>\n      <td>NaN</td>\n      <td>1</td>\n      <td>23.3</td>\n      <td>NaN</td>\n      <td>...</td>\n      <td>False</td>\n      <td>False</td>\n      <td>True</td>\n      <td>False</td>\n      <td>False</td>\n      <td>False</td>\n      <td>False</td>\n      <td>False</td>\n      <td>True</td>\n      <td>1</td>\n    </tr>\n    <tr>\n      <th>3</th>\n      <td>1</td>\n      <td>0.0</td>\n      <td>0.0</td>\n      <td>0.0</td>\n      <td>0.0</td>\n      <td>0</td>\n      <td>5.0</td>\n      <td>1</td>\n      <td>19.6</td>\n      <td>NaN</td>\n      <td>...</td>\n      <td>False</td>\n      <td>False</td>\n      <td>True</td>\n      <td>False</td>\n      <td>False</td>\n      <td>False</td>\n      <td>False</td>\n      <td>False</td>\n      <td>False</td>\n      <td>0</td>\n    </tr>\n    <tr>\n      <th>4</th>\n      <td>1</td>\n      <td>0.0</td>\n      <td>0.0</td>\n      <td>0.0</td>\n      <td>0.0</td>\n      <td>0</td>\n      <td>NaN</td>\n      <td>1</td>\n      <td>23.4</td>\n      <td>2.0</td>\n      <td>...</td>\n      <td>False</td>\n      <td>False</td>\n      <td>True</td>\n      <td>False</td>\n      <td>True</td>\n      <td>False</td>\n      <td>False</td>\n      <td>False</td>\n      <td>False</td>\n      <td>1</td>\n    </tr>\n    <tr>\n      <th>...</th>\n      <td>...</td>\n      <td>...</td>\n      <td>...</td>\n      <td>...</td>\n      <td>...</td>\n      <td>...</td>\n      <td>...</td>\n      <td>...</td>\n      <td>...</td>\n      <td>...</td>\n      <td>...</td>\n      <td>...</td>\n      <td>...</td>\n      <td>...</td>\n      <td>...</td>\n      <td>...</td>\n      <td>...</td>\n      <td>...</td>\n      <td>...</td>\n      <td>...</td>\n      <td>...</td>\n    </tr>\n    <tr>\n      <th>14106</th>\n      <td>0</td>\n      <td>4.0</td>\n      <td>8.0</td>\n      <td>3.0</td>\n      <td>12.0</td>\n      <td>1</td>\n      <td>5.0</td>\n      <td>1</td>\n      <td>30.0</td>\n      <td>2.0</td>\n      <td>...</td>\n      <td>False</td>\n      <td>False</td>\n      <td>True</td>\n      <td>False</td>\n      <td>False</td>\n      <td>False</td>\n      <td>False</td>\n      <td>False</td>\n      <td>False</td>\n      <td>0</td>\n    </tr>\n    <tr>\n      <th>14107</th>\n      <td>0</td>\n      <td>2.0</td>\n      <td>5.0</td>\n      <td>4.0</td>\n      <td>8.0</td>\n      <td>1</td>\n      <td>3.0</td>\n      <td>1</td>\n      <td>37.2</td>\n      <td>10.0</td>\n      <td>...</td>\n      <td>False</td>\n      <td>False</td>\n      <td>True</td>\n      <td>False</td>\n      <td>False</td>\n      <td>False</td>\n      <td>False</td>\n      <td>False</td>\n      <td>False</td>\n      <td>1</td>\n    </tr>\n    <tr>\n      <th>14108</th>\n      <td>0</td>\n      <td>6.0</td>\n      <td>21.0</td>\n      <td>4.0</td>\n      <td>13.0</td>\n      <td>1</td>\n      <td>NaN</td>\n      <td>1</td>\n      <td>22.4</td>\n      <td>6.0</td>\n      <td>...</td>\n      <td>False</td>\n      <td>False</td>\n      <td>True</td>\n      <td>False</td>\n      <td>False</td>\n      <td>False</td>\n      <td>False</td>\n      <td>False</td>\n      <td>False</td>\n      <td>1</td>\n    </tr>\n    <tr>\n      <th>14109</th>\n      <td>0</td>\n      <td>4.0</td>\n      <td>9.0</td>\n      <td>4.0</td>\n      <td>17.0</td>\n      <td>1</td>\n      <td>3.0</td>\n      <td>1</td>\n      <td>37.2</td>\n      <td>2.0</td>\n      <td>...</td>\n      <td>False</td>\n      <td>False</td>\n      <td>True</td>\n      <td>False</td>\n      <td>False</td>\n      <td>False</td>\n      <td>False</td>\n      <td>False</td>\n      <td>False</td>\n      <td>0</td>\n    </tr>\n    <tr>\n      <th>14110</th>\n      <td>0</td>\n      <td>5.0</td>\n      <td>17.0</td>\n      <td>8.0</td>\n      <td>28.0</td>\n      <td>1</td>\n      <td>2.0</td>\n      <td>1</td>\n      <td>31.4</td>\n      <td>NaN</td>\n      <td>...</td>\n      <td>False</td>\n      <td>False</td>\n      <td>True</td>\n      <td>False</td>\n      <td>False</td>\n      <td>False</td>\n      <td>False</td>\n      <td>False</td>\n      <td>False</td>\n      <td>0</td>\n    </tr>\n  </tbody>\n</table>\n<p>14111 rows × 58 columns</p>\n</div>"
     },
     "execution_count": 25,
     "metadata": {},
     "output_type": "execute_result"
    }
   ],
   "source": [
    "matches"
   ],
   "metadata": {
    "collapsed": false,
    "ExecuteTime": {
     "end_time": "2024-11-26T21:12:26.095226Z",
     "start_time": "2024-11-26T21:12:26.081402Z"
    }
   },
   "id": "8ef9e0d04c469280",
   "execution_count": 25
  },
  {
   "cell_type": "markdown",
   "source": [
    "## Feature importance/selection"
   ],
   "metadata": {
    "collapsed": false
   },
   "id": "159abc4316c6b5d2"
  },
  {
   "cell_type": "code",
   "outputs": [
    {
     "name": "stdout",
     "output_type": "stream",
     "text": [
      "Top Correlated Features with Target:\n",
      "target                                            1.000000\n",
      "player1_blended_elo                               0.219086\n",
      "player1_elo                                       0.216861\n",
      "player1_surface_elo                               0.211552\n",
      "player2_rank                                      0.155530\n",
      "player1_win_pct_last_10                           0.131172\n",
      "player1_win_pct_last_10_surface                   0.112131\n",
      "player2_seed                                      0.101652\n",
      "player2_2ndIn                                     0.078403\n",
      "player2_entry_WC                                  0.066943\n",
      "player2_entry_Q                                   0.065389\n",
      "player2_entry_LL                                  0.040486\n",
      "player2_age                                       0.029051\n",
      "player1_right_handed                              0.022324\n",
      "CO_2nd_serve_win_p_diff                           0.021297\n",
      "tournament_level                                  0.016942\n",
      "outdoor                                           0.014274\n",
      "best_of                                           0.013082\n",
      "2nd_serve_win_p_diff                              0.012510\n",
      "CO_avg_ace_per_match_diff                         0.010124\n",
      "player2_home                                      0.010080\n",
      "h2h_matches_played                                0.008228\n",
      "Surface_Clay                                      0.005630\n",
      "avg_ace_per_match_diff                            0.004722\n",
      "Surface_Grass                                     0.004677\n",
      "player1_Gems_Before                               0.004449\n",
      "1st_serve_wrp_diff                                0.004297\n",
      "player2_Sets_Before                               0.001501\n",
      "minutes                                           0.000376\n",
      "1st_serve_win_p_diff                             -0.000646\n",
      "CO_avg_df_per_match_diff                         -0.000789\n",
      "avg_df_per_match_diff                            -0.001885\n",
      "1st_serve_in_p_diff                              -0.002277\n",
      "serve_games_win_p_diff                           -0.002357\n",
      "CO_1st_serve_wrp_diff                            -0.003559\n",
      "player2_Totaplayer2_points_won_after_2nd_serve   -0.006582\n",
      "Surface_Hard                                     -0.008264\n",
      "CO_1st_serve_win_p_diff                          -0.008579\n",
      "h2h_diff                                         -0.010638\n",
      "player2_Gems_Before                              -0.013598\n",
      "player1_Sets_Before                              -0.015401\n",
      "Round_Num                                        -0.018088\n",
      "CO_1st_serve_in_p_diff                           -0.020132\n",
      "CO_serve_games_win_p_diff                        -0.022522\n",
      "player2_right_handed                             -0.028013\n",
      "player1_home                                     -0.034845\n",
      "player1_age                                      -0.039660\n",
      "player1_entry_WC                                 -0.046519\n",
      "player1_entry_LL                                 -0.052668\n",
      "player1_entry_Q                                  -0.066896\n",
      "player1_seed                                     -0.069592\n",
      "player1_2ndIn                                    -0.075456\n",
      "player2_win_pct_last_10_surface                  -0.123123\n",
      "player2_win_pct_last_10                          -0.141745\n",
      "player1_rank                                     -0.148563\n",
      "player2_surface_elo                              -0.218903\n",
      "player2_elo                                      -0.222244\n",
      "player2_blended_elo                              -0.225093\n",
      "Name: target, dtype: float64\n"
     ]
    }
   ],
   "source": [
    "import pandas as pd\n",
    "\n",
    "# Calculate correlation\n",
    "correlation = matches.corr()['target'].sort_values(ascending=False)\n",
    "\n",
    "# Display features with strong correlation\n",
    "print(\"Top Correlated Features with Target:\")\n",
    "print(correlation)"
   ],
   "metadata": {
    "collapsed": false,
    "ExecuteTime": {
     "end_time": "2024-11-26T21:12:26.190471Z",
     "start_time": "2024-11-26T21:12:26.096093Z"
    }
   },
   "id": "14ceae4f8882f7be",
   "execution_count": 26
  },
  {
   "cell_type": "markdown",
   "source": [
    "### Sigma wynik elo"
   ],
   "metadata": {
    "collapsed": false
   },
   "id": "13fc1923ac48b63a"
  },
  {
   "cell_type": "code",
   "outputs": [],
   "source": [],
   "metadata": {
    "collapsed": false,
    "ExecuteTime": {
     "end_time": "2024-11-26T21:12:26.193071Z",
     "start_time": "2024-11-26T21:12:26.191366Z"
    }
   },
   "id": "cc0e214a706d4915",
   "execution_count": 26
  }
 ],
 "metadata": {
  "kernelspec": {
   "display_name": "Python 3",
   "language": "python",
   "name": "python3"
  },
  "language_info": {
   "codemirror_mode": {
    "name": "ipython",
    "version": 2
   },
   "file_extension": ".py",
   "mimetype": "text/x-python",
   "name": "python",
   "nbconvert_exporter": "python",
   "pygments_lexer": "ipython2",
   "version": "2.7.6"
  }
 },
 "nbformat": 4,
 "nbformat_minor": 5
}
