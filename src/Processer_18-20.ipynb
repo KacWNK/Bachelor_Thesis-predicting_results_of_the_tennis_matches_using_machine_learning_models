{
 "cells": [
  {
   "cell_type": "code",
   "metadata": {
    "ExecuteTime": {
     "end_time": "2024-12-09T18:45:32.333212Z",
     "start_time": "2024-12-09T18:45:32.330214Z"
    }
   },
   "source": [
    "import pandas as pd"
   ],
   "outputs": [],
   "execution_count": 1
  },
  {
   "cell_type": "code",
   "metadata": {
    "ExecuteTime": {
     "end_time": "2024-12-09T18:45:37.449800Z",
     "start_time": "2024-12-09T18:45:37.446338Z"
    }
   },
   "source": [
    "# If notebook is run by pipline it has parameters and if one wants to run it manually from here default values are given, so that he can\n",
    "\n",
    "# Define default values for manual execution\n",
    "input_directory = \"../data/raw_data/\"\n",
    "output_directory = \"../data/Processed_data/\"\n",
    "years = [2018, 2019, 2020]"
   ],
   "outputs": [],
   "execution_count": 2
  },
  {
   "cell_type": "markdown",
   "metadata": {},
   "source": [
    "## Wczytanie danych bets"
   ]
  },
  {
   "metadata": {
    "ExecuteTime": {
     "end_time": "2024-12-09T18:45:40.878971Z",
     "start_time": "2024-12-09T18:45:39.222106Z"
    }
   },
   "cell_type": "code",
   "source": [
    "bets: dict[str: pd.DataFrame] = {}\n",
    "for year in years:\n",
    "    file_name = f\"{input_directory}{year}.xlsx\"   # noqa\n",
    "    bets[str(year)] = pd.read_excel(file_name)\n",
    "    print(f\"Loaded bets_{year} from {file_name}\")"
   ],
   "outputs": [
    {
     "name": "stdout",
     "output_type": "stream",
     "text": [
      "Loaded bets_2018 from ../data/raw_data/2018.xlsx\n",
      "Loaded bets_2019 from ../data/raw_data/2019.xlsx\n",
      "Loaded bets_2020 from ../data/raw_data/2020.xlsx\n"
     ]
    }
   ],
   "execution_count": 3
  },
  {
   "cell_type": "code",
   "metadata": {
    "ExecuteTime": {
     "end_time": "2024-12-09T18:45:40.899298Z",
     "start_time": "2024-12-09T18:45:40.879970Z"
    }
   },
   "source": [
    "for year in bets:\n",
    "    bets[year].loc[bets[year][\"Tournament\"] == \"Adelaide International 1\", \"Location\"] = \"Adelaide 1\"\n",
    "    bets[year].loc[bets[year][\"Tournament\"] == \"Adelaide International 2\", \"Location\"] = \"Adelaide 2\"\n",
    "    bets[year].loc[bets[year][\"Tournament\"] == \"Western & Southern Financial Group Masters\", \"Location\"] = \"Cincinnati\"\n",
    "    bets[year].loc[bets[year][\"Tournament\"] == \"bett1HULKS Indoors\", \"Location\"] = \"Cologne 1\"\n",
    "    bets[year].loc[bets[year][\"Tournament\"] == \"bett1HULKS Championship\", \"Location\"] = \"Cologne 2\"\n",
    "    bets[year][\"Location\"] = bets[year][\"Location\"].replace({'Dubai ': 'Dubai', 'Belgrade ': 'Belgrade', 'Napoli':'Naples', 'Shenzhen ': 'Shenzhen', 'St Petersburg': 'St. Petersburg'})\n",
    "    bets[year] = bets[year][~bets[year]['Location'].isin(['Turin'])]\n",
    "    bets[year]['Loser'] = bets[year]['Loser'].replace({\"Varillas J. P.\": \"Varillas J.P.\", \"Tseng C. H.\": \"Tseng C.H.\"})\n",
    "    bets[year]['Winner'] = bets[year]['Winner'].replace({\"Varillas J. P.\": \"Varillas J.P.\", \"Tseng C. H.\": \"Tseng C.H.\"})\n",
    "    bets[year] = bets[year][~bets[year]['Tournament'].isin(['United Cup', 'Tour Finals', 'Masters Cup', 'NextGen Finals','Tokyo Olympics','Atp Cup', 'Great Ocean Road Open', 'Murray River Open',\n",
    "     'Laver Cup', 'Melbourne Summer Set'])]\n",
    "    bets[year].loc[bets[year]['Tournament']== 'BNP Paribas Masters', 'Location']='Paris 2'\n",
    "    bets[year].loc[bets[year]['Tournament']== 'Belgrade Open', 'Location']='Belgrade 2'"
   ],
   "outputs": [],
   "execution_count": 4
  },
  {
   "cell_type": "markdown",
   "metadata": {},
   "source": [
    "### W ramce danych z 2019 roku jest błędnie wpisany zawodnik wraz z rankingiem. Poprawiamy ręcznie błąd"
   ]
  },
  {
   "cell_type": "code",
   "metadata": {
    "ExecuteTime": {
     "end_time": "2024-12-09T18:45:42.713115Z",
     "start_time": "2024-12-09T18:45:42.708Z"
    }
   },
   "source": [
    "bets[\"2019\"].loc[bets[\"2019\"]['Loser'] == 'Monteiro J.', 'LRank'] = 99\n",
    "bets[\"2019\"].loc[bets[\"2019\"]['Loser'] == 'Monteiro J.', 'LPts'] = 580.0\n",
    "bets[\"2019\"].loc[bets[\"2019\"]['Loser'] == 'Monteiro J.', 'Loser'] = 'Monteiro T.'"
   ],
   "outputs": [],
   "execution_count": 5
  },
  {
   "cell_type": "markdown",
   "metadata": {},
   "source": [
    "### W 2020 roku w ramce bets nazwa 2 turniejów jest ze sobą błednie zamieniona. Poprawiamy ten błąd zamieniając nazwy turniejów na poprawne."
   ]
  },
  {
   "cell_type": "code",
   "metadata": {
    "ExecuteTime": {
     "end_time": "2024-12-09T18:45:51.087655Z",
     "start_time": "2024-12-09T18:45:51.080743Z"
    }
   },
   "source": [
    "auckland_mask = (bets[\"2020\"]['Location'] == 'Auckland') & (bets[\"2020\"]['Tournament'] == 'ASB Classic')\n",
    "adelaide_mask = (bets[\"2020\"]['Location'] == 'Adelaide') & (bets[\"2020\"]['Tournament'] == 'Adelaide International')\n",
    "\n",
    "bets[\"2020\"].loc[auckland_mask, ['Location', 'Tournament']] = ['Adelaide', 'Adelaide International']\n",
    "bets[\"2020\"].loc[adelaide_mask, ['Location', 'Tournament']] = ['Auckland', 'ASB Classic']"
   ],
   "outputs": [],
   "execution_count": 6
  },
  {
   "cell_type": "code",
   "metadata": {
    "ExecuteTime": {
     "end_time": "2024-12-09T18:45:51.560974Z",
     "start_time": "2024-12-09T18:45:51.556973Z"
    }
   },
   "source": [
    "for year in bets:\n",
    "    bets[year].rename(columns={'Location': 'tourney_location'}, inplace=True)\n",
    "    bets[year].reset_index(drop=True, inplace=True)"
   ],
   "outputs": [],
   "execution_count": 7
  },
  {
   "cell_type": "code",
   "metadata": {
    "ExecuteTime": {
     "end_time": "2024-12-09T18:45:51.924478Z",
     "start_time": "2024-12-09T18:45:51.920476Z"
    }
   },
   "source": [
    "for year in bets:\n",
    "    print(f\"Year {year}: {bets[year].columns}\")"
   ],
   "outputs": [
    {
     "name": "stdout",
     "output_type": "stream",
     "text": [
      "Year 2018: Index(['ATP', 'tourney_location', 'Tournament', 'Date', 'Series', 'Court',\n",
      "       'Surface', 'Round', 'Best of', 'Winner', 'Loser', 'WRank', 'LRank',\n",
      "       'WPts', 'LPts', 'W1', 'L1', 'W2', 'L2', 'W3', 'L3', 'W4', 'L4', 'W5',\n",
      "       'L5', 'Wsets', 'Lsets', 'Comment', 'B365W', 'B365L', 'EXW', 'EXL',\n",
      "       'LBW', 'LBL', 'PSW', 'PSL', 'MaxW', 'MaxL', 'AvgW', 'AvgL'],\n",
      "      dtype='object')\n",
      "Year 2019: Index(['ATP', 'tourney_location', 'Tournament', 'Date', 'Series', 'Court',\n",
      "       'Surface', 'Round', 'Best of', 'Winner', 'Loser', 'WRank', 'LRank',\n",
      "       'WPts', 'LPts', 'W1', 'L1', 'W2', 'L2', 'W3', 'L3', 'W4', 'L4', 'W5',\n",
      "       'L5', 'Wsets', 'Lsets', 'Comment', 'B365W', 'B365L', 'PSW', 'PSL',\n",
      "       'MaxW', 'MaxL', 'AvgW', 'AvgL'],\n",
      "      dtype='object')\n",
      "Year 2020: Index(['ATP', 'tourney_location', 'Tournament', 'Date', 'Series', 'Court',\n",
      "       'Surface', 'Round', 'Best of', 'Winner', 'Loser', 'WRank', 'LRank',\n",
      "       'WPts', 'LPts', 'W1', 'L1', 'W2', 'L2', 'W3', 'L3', 'W4', 'L4', 'W5',\n",
      "       'L5', 'Wsets', 'Lsets', 'Comment', 'B365W', 'B365L', 'PSW', 'PSL',\n",
      "       'MaxW', 'MaxL', 'AvgW', 'AvgL'],\n",
      "      dtype='object')\n"
     ]
    }
   ],
   "execution_count": 8
  },
  {
   "cell_type": "markdown",
   "metadata": {},
   "source": [
    "## Rok 2018 ma dodatkowych bukmacherów których usuniemy dla zgodności"
   ]
  },
  {
   "cell_type": "code",
   "metadata": {
    "ExecuteTime": {
     "end_time": "2024-12-09T18:45:53.233882Z",
     "start_time": "2024-12-09T18:45:53.229882Z"
    }
   },
   "source": [
    "bets[\"2018\"] = bets[\"2018\"].drop(columns=[\"EXW\", \"EXL\", \"LBW\", \"LBL\"])    "
   ],
   "outputs": [],
   "execution_count": 9
  },
  {
   "cell_type": "markdown",
   "metadata": {},
   "source": [
    "### Sprawdzamy czy teraz te same kolumny"
   ]
  },
  {
   "cell_type": "code",
   "metadata": {
    "ExecuteTime": {
     "end_time": "2024-12-09T18:45:54.928172Z",
     "start_time": "2024-12-09T18:45:54.923661Z"
    }
   },
   "source": [
    "from test_helpers.preprocessing import check_columns_same\n",
    "check_columns_same(bets)"
   ],
   "outputs": [
    {
     "name": "stdout",
     "output_type": "stream",
     "text": [
      "✅ Year 2019: Columns match with the first year (2018).\n",
      "✅ Year 2020: Columns match with the first year (2018).\n"
     ]
    }
   ],
   "execution_count": 10
  },
  {
   "cell_type": "markdown",
   "metadata": {},
   "source": [
    "## Wczytanie danych github"
   ]
  },
  {
   "cell_type": "code",
   "metadata": {
    "ExecuteTime": {
     "end_time": "2024-12-09T18:45:58.120786Z",
     "start_time": "2024-12-09T18:45:58.019389Z"
    }
   },
   "source": [
    "github: dict[str: pd.DataFrame] = {}\n",
    "for year in years:\n",
    "    file_name = f\"{input_directory}atp_matches_{year}.csv\"\n",
    "    github[str(year)] = pd.read_csv(file_name)\n",
    "    print(f\"Loaded github_{year} from {file_name}\")"
   ],
   "outputs": [
    {
     "name": "stdout",
     "output_type": "stream",
     "text": [
      "Loaded github_2018 from ../data/raw_data/atp_matches_2018.csv\n",
      "Loaded github_2019 from ../data/raw_data/atp_matches_2019.csv\n",
      "Loaded github_2020 from ../data/raw_data/atp_matches_2020.csv\n"
     ]
    }
   ],
   "execution_count": 11
  },
  {
   "cell_type": "markdown",
   "metadata": {},
   "source": [
    "## Sprawdzenie czy zbiory mają takie same kolumny"
   ]
  },
  {
   "cell_type": "code",
   "metadata": {
    "ExecuteTime": {
     "end_time": "2024-12-09T18:45:58.807853Z",
     "start_time": "2024-12-09T18:45:58.803852Z"
    }
   },
   "source": "check_columns_same(github)",
   "outputs": [
    {
     "name": "stdout",
     "output_type": "stream",
     "text": [
      "✅ Year 2019: Columns match with the first year (2018).\n",
      "✅ Year 2020: Columns match with the first year (2018).\n"
     ]
    }
   ],
   "execution_count": 12
  },
  {
   "cell_type": "markdown",
   "metadata": {},
   "source": [
    "### Zgodnie z założeniami usuwamy Finals, NextGen Finals, United Cup oraz mecze Davis Cup"
   ]
  },
  {
   "cell_type": "code",
   "metadata": {
    "ExecuteTime": {
     "end_time": "2024-12-09T18:45:59.900209Z",
     "start_time": "2024-12-09T18:45:59.889183Z"
    }
   },
   "source": [
    "for year in github:\n",
    "    github[year]=github[year][~github[year]['tourney_name'].str.contains('Davis Cup', na=False)]\n",
    "    github[year] = github[year][~github[year]['tourney_name'].isin(['United Cup', 'Tour Finals', 'NextGen Finals','Tokyo Olympics','Atp Cup', 'Great Ocean Road Open', 'Murray River Open',\n",
    "  'Laver Cup','Melbourne Summer Set', 'Melbourne'])]\n",
    "    github[year][\"tourney_name\"] = github[year][\"tourney_name\"].replace({'Belgrade ': 'Belgrade'})"
   ],
   "outputs": [],
   "execution_count": 13
  },
  {
   "cell_type": "markdown",
   "metadata": {},
   "source": [
    "### W tej ramce kolumna 'tourney_name' to dla większości turniejów lokalizacja turnieju a nie jego nazwa, a potrzebujemy żeby nazwa turnieju była taka jak w ramce bets. Dla turniejów, dla których 'tourney_name' to nie lokalizacja, ręcznie wpisujemy lokalizację"
   ]
  },
  {
   "cell_type": "code",
   "metadata": {
    "ExecuteTime": {
     "end_time": "2024-12-09T18:46:00.562540Z",
     "start_time": "2024-12-09T18:46:00.552466Z"
    }
   },
   "source": [
    "for year in github:\n",
    "    github[year].rename(columns={'tourney_name': 'tourney_location'}, inplace=True)\n",
    "    github[year]['tourney_location'] = github[year]['tourney_location'].replace({\"Australian Open\": \"Melbourne\", \"Indian Wells Masters\": \"Indian Wells\", \"Miami Masters\": \"Miami\", \"Monte Carlo Masters\": \"Monte Carlo\", \"Madrid Masters\": \"Madrid\", \"Rome Masters\": \"Rome\", \"Roland Garros\": \"Paris\", \"s Hertogenbosch\": \"'s-Hertogenbosch\", \"Queen's Club\": \"Queens Club\", \"Wimbledon\": \"London\", \"Cincinnati Masters\": \"Cincinnati\", \"Us Open\": \"New York\", \"US Open\": \"New York\", \"Astana\": \"Nur-Sultan\", \"Shanghai Masters\": \"Shanghai\", \"Paris Masters\": \"Paris 2\", \"Rio De Janeiro\": \"Rio de Janeiro\", \"Shenzen \":\"Shenzen\", \"ATP Rio de Janeiro\": \"Rio de Janeiro\",'St Petersburg': 'St. Petersburg'})"
   ],
   "outputs": [],
   "execution_count": 14
  },
  {
   "cell_type": "markdown",
   "metadata": {},
   "source": [
    "### Turniej Canada Masters jest w nieparzystych latach w Montrealu i w parzystych w Toronto"
   ]
  },
  {
   "cell_type": "code",
   "metadata": {
    "ExecuteTime": {
     "end_time": "2024-12-09T18:46:01.408087Z",
     "start_time": "2024-12-09T18:46:01.402188Z"
    }
   },
   "source": [
    "for year in github:\n",
    "    if int(year) % 2 == 1:\n",
    "        github[year]['tourney_location'] = github[year]['tourney_location'].replace({\"Canada Masters\": \"Montreal\"})\n",
    "    else:\n",
    "        github[year]['tourney_location'] = github[year]['tourney_location'].replace({\"Canada Masters\": \"Toronto\"})"
   ],
   "outputs": [],
   "execution_count": 15
  },
  {
   "cell_type": "markdown",
   "metadata": {},
   "source": [
    "### Sprawdzamy, że utworzona przez nas kolumnna 'tourney_location' odpowiada kolumnie 'tourney_location' w ramce bets"
   ]
  },
  {
   "cell_type": "code",
   "metadata": {
    "ExecuteTime": {
     "end_time": "2024-12-09T18:46:03.016074Z",
     "start_time": "2024-12-09T18:46:03.010142Z"
    }
   },
   "source": [
    "from test_helpers.preprocessing import compare_tourney_locations\n",
    "\n",
    "compare_tourney_locations(github, bets, \"github\", \"bets\")"
   ],
   "outputs": [
    {
     "name": "stdout",
     "output_type": "stream",
     "text": [
      "✅ 'tourney_location' column matches for year 2018.\n",
      "✅ 'tourney_location' column matches for year 2019.\n",
      "✅ 'tourney_location' column matches for year 2020.\n"
     ]
    }
   ],
   "execution_count": 16
  },
  {
   "cell_type": "markdown",
   "metadata": {},
   "source": [
    "### Potrzebujemy mieć takie same nazwy zawodników w obu ramkach, aby dodać do ramki bets id zawodnika z ramki github. Aktualnie w ramce bets nazwa zawodnika jest w formacie typu Djokovic N. a w ramce github w formacie typu Novak Djokovic, dlatego musimy stworzyć nazwy zawodników w skróconym w formacie w ramce github."
   ]
  },
  {
   "cell_type": "code",
   "metadata": {
    "ExecuteTime": {
     "end_time": "2024-12-09T18:46:04.387196Z",
     "start_time": "2024-12-09T18:46:04.384215Z"
    }
   },
   "source": [
    "def transform_name(name: str):\n",
    "    name_parts = name.split()\n",
    "    first_name = name_parts[0]\n",
    "    last_name = ' '.join(name_parts[1:])\n",
    "    return f\"{last_name} {first_name[0]}.\""
   ],
   "outputs": [],
   "execution_count": 17
  },
  {
   "cell_type": "code",
   "metadata": {
    "ExecuteTime": {
     "end_time": "2024-12-09T18:46:04.979218Z",
     "start_time": "2024-12-09T18:46:04.968565Z"
    }
   },
   "source": [
    "for year in github:\n",
    "    github[year]['shortened_winner_name']=github[year]['winner_name'].apply(transform_name)\n",
    "    github[year]['shortened_loser_name']=github[year]['loser_name'].apply(transform_name)"
   ],
   "outputs": [],
   "execution_count": 18
  },
  {
   "cell_type": "markdown",
   "metadata": {},
   "source": [
    "### Sprawdzamy czy skrócona nazwa zawodnika jednoznacznie określa zawodnika"
   ]
  },
  {
   "cell_type": "code",
   "metadata": {
    "ExecuteTime": {
     "end_time": "2024-12-09T18:46:05.816332Z",
     "start_time": "2024-12-09T18:46:05.811331Z"
    }
   },
   "source": [
    "from test_helpers.preprocessing import check_one_to_one_mapping\n",
    "\n",
    "check_one_to_one_mapping(github, column_pairs = [('shortened_winner_name', 'winner_id'), ('shortened_loser_name', 'loser_id')], raise_error=False)"
   ],
   "outputs": [
    {
     "name": "stdout",
     "output_type": "stream",
     "text": [
      "✅ Year 2018: One-to-one mapping between 'shortened_winner_name' and 'winner_id' is valid.\n",
      "\n",
      "            ❌ One-to-one mapping violation between 'shortened_loser_name' and 'loser_id' in year 2018:\n",
      "            - Unique 'shortened_loser_name': 290\n",
      "            - Unique 'loser_id': 291\n",
      "            This suggests that some 'shortened_loser_name' values map to multiple 'loser_id' values or vice versa.\n",
      "            \n",
      "✅ Year 2019: One-to-one mapping between 'shortened_winner_name' and 'winner_id' is valid.\n",
      "\n",
      "            ❌ One-to-one mapping violation between 'shortened_loser_name' and 'loser_id' in year 2019:\n",
      "            - Unique 'shortened_loser_name': 281\n",
      "            - Unique 'loser_id': 282\n",
      "            This suggests that some 'shortened_loser_name' values map to multiple 'loser_id' values or vice versa.\n",
      "            \n",
      "✅ Year 2020: One-to-one mapping between 'shortened_winner_name' and 'winner_id' is valid.\n",
      "✅ Year 2020: One-to-one mapping between 'shortened_loser_name' and 'loser_id' is valid.\n"
     ]
    }
   ],
   "execution_count": 19
  },
  {
   "cell_type": "markdown",
   "metadata": {},
   "source": [
    "## Zobaczmy, którzy zawodnicy nie są jednoznacznie określeni przez skróconą nazwę"
   ]
  },
  {
   "cell_type": "code",
   "metadata": {
    "ExecuteTime": {
     "end_time": "2024-12-09T18:46:07.496106Z",
     "start_time": "2024-12-09T18:46:07.485188Z"
    }
   },
   "source": [
    "non_unique_losers={}\n",
    "for year in github:\n",
    "    loser_groups = github[year].groupby('shortened_loser_name')['loser_id'].nunique()\n",
    "    non_unique_loser_names = loser_groups[loser_groups > 1].index.tolist()\n",
    "    non_unique_losers[year] = github[year][github[year]['shortened_loser_name'].isin(non_unique_loser_names)][['shortened_loser_name', 'loser_id']].drop_duplicates()\n",
    "\n",
    "for i in range(2018,2021):\n",
    "    if not non_unique_losers[str(i)].empty:\n",
    "        print(f\"Lata {i} - Przegrani z niejednoznacznymi skróconymi nazwami:\")\n",
    "        print(non_unique_losers[str(i)])"
   ],
   "outputs": [
    {
     "name": "stdout",
     "output_type": "stream",
     "text": [
      "Lata 2018 - Przegrani z niejednoznacznymi skróconymi nazwami:\n",
      "     shortened_loser_name  loser_id\n",
      "2532             Zhang Z.    111190\n",
      "2633             Zhang Z.    105585\n",
      "Lata 2019 - Przegrani z niejednoznacznymi skróconymi nazwami:\n",
      "     shortened_loser_name  loser_id\n",
      "2274             Zhang Z.    111190\n",
      "2276             Zhang Z.    105585\n"
     ]
    }
   ],
   "execution_count": 20
  },
  {
   "cell_type": "markdown",
   "metadata": {},
   "source": [
    "## W celu rozróżnienia zawodników dopsujemy drugą literkę imienia"
   ]
  },
  {
   "cell_type": "code",
   "metadata": {
    "ExecuteTime": {
     "end_time": "2024-12-09T18:46:08.577231Z",
     "start_time": "2024-12-09T18:46:08.569605Z"
    }
   },
   "source": [
    "for year in github:\n",
    "   github[year].loc[github[year]['loser_id'] == 111190, 'shortened_loser_name'] = 'Zhang Zh.'\n",
    "   github[year].loc[github[year]['winner_id'] == 111190, 'shortened_winner_name'] = 'Zhang Zh.'\n",
    "   github[year].loc[github[year]['loser_id'] == 105585, 'shortened_loser_name'] = 'Zhang Ze.'\n",
    "   github[year].loc[github[year]['winner_id'] == 105585, 'shortened_winner_name'] = 'Zhang Ze.'"
   ],
   "outputs": [],
   "execution_count": 21
  },
  {
   "metadata": {
    "ExecuteTime": {
     "end_time": "2024-12-09T18:46:09.160290Z",
     "start_time": "2024-12-09T18:46:09.155240Z"
    }
   },
   "cell_type": "code",
   "source": "check_one_to_one_mapping(github, column_pairs = [('shortened_winner_name', 'winner_id'), ('shortened_loser_name', 'loser_id')], raise_error=True)",
   "outputs": [
    {
     "name": "stdout",
     "output_type": "stream",
     "text": [
      "✅ Year 2018: One-to-one mapping between 'shortened_winner_name' and 'winner_id' is valid.\n",
      "✅ Year 2018: One-to-one mapping between 'shortened_loser_name' and 'loser_id' is valid.\n",
      "✅ Year 2019: One-to-one mapping between 'shortened_winner_name' and 'winner_id' is valid.\n",
      "✅ Year 2019: One-to-one mapping between 'shortened_loser_name' and 'loser_id' is valid.\n",
      "✅ Year 2020: One-to-one mapping between 'shortened_winner_name' and 'winner_id' is valid.\n",
      "✅ Year 2020: One-to-one mapping between 'shortened_loser_name' and 'loser_id' is valid.\n"
     ]
    }
   ],
   "execution_count": 22
  },
  {
   "cell_type": "markdown",
   "metadata": {},
   "source": [
    "### Niektóre imiona i nazwiska ze względu na swoją unikalność lub brak konsekwencji w zapisie musimy zmodyfikować ręcznie"
   ]
  },
  {
   "cell_type": "code",
   "metadata": {
    "ExecuteTime": {
     "end_time": "2024-12-09T18:46:10.095109Z",
     "start_time": "2024-12-09T18:46:10.002550Z"
    }
   },
   "source": [
    "def replace_shortened_names(dataframes: [pd.DataFrame]):\n",
    "    replacements = {\n",
    "        \"Varillas J.P.\": \"Varillas J.P.\",\n",
    "        \"Meligeni Alves F.\": \"Meligeni Rodrigues F\",\n",
    "        \"Arnaud Bailly G.\": \"Bailly G.\",\n",
    "        \"Sung Nam J.\": \"Nam J.S.\",\n",
    "        \"Chan Hong S.\": \"Hong S.\",\n",
    "        \"Fa Rodriguez Taverna S.\": \"Rodriguez Taverna S.\",\n",
    "        \"Pucinelli De Almeida M.\": \"Pucinelli de Almeida M.\",\n",
    "        \"Alejandro Hernandez Serrano J.\": \"Hernandez A.\",\n",
    "        \"Marcel Stebe C.\": \"Stebe C.M.\",\n",
    "        \"Martin del Potro J.\": \"Del Potro J.M.\",\n",
    "        \"Marco Moroni G.\": \"Moroni G.M.\",\n",
    "        \"Tsonga J.\": \"Tsonga J.W.\",\n",
    "        \"Ignacio Londero J.\": \"Londero J.I.\",\n",
    "        \"Pablo Varillas J.\": \"Varillas J.P.\",\n",
    "        \"Pablo Ficovich J.\": \"Ficovich J.P.\",\n",
    "        \"C.H. Tseng\": \"Tseng C.H.\",\n",
    "        \"Oconnell C.\": \"O Connell C.\",\n",
    "        \"Elahi Galan D.\": \"Galan D.E.\",\n",
    "        \"Auger Aliassime F.\": \"Auger-Aliassime F.\",\n",
    "        \"Woo Kwon S.\": \"Kwon S.W.\",\n",
    "        \"Barrios Vera T.\": \"Barrios M.\",\n",
    "        \"Yunchaokete B.\": \"Bu Y.\",\n",
    "        \"Manuel Cerundolo J.\": \"Cerundolo J.M.\",\n",
    "        \"Martin Etcheverry T.\": \"Etcheverry T.\",\n",
    "        \"Hugues Herbert P.\": \"Herbert P.H.\",\n",
    "        \"Hsiou Hsu Y.\": \"Hsu Y.\",\n",
    "        \"Andrea Huesler M.\": \"Huesler M.A.\",\n",
    "        \"Kuznetsov A.\": \"Kuznetsov An.\",\n",
    "        \"Son Kwiatkowski T.\": \"Kwiatkowski T.S.\",\n",
    "        \"Li Z.\": \"Li Zh.\",\n",
    "        \"Hsin Tseng C.\": \"Tseng C.H.\",\n",
    "        \"Kumar Mukund S.\": \"Mukund S.\",\n",
    "        \"Ramos A.\": \"Ramos-Vinolas A.\",\n",
    "        \"J Wolf J.\": \"Wolf J.J.\",\n",
    "        \"Zhang Ze\": \"Zhang Ze.\",\n",
    "        \"Lin Wu T.\": \"Wu T.L.\",\n",
    "        \"Hans Rehberg M.\": \"Rehberg M.\",\n",
    "        \"Mpetshi Perricard G.\": \"Mpetshi G.\",\n",
    "        \"Agustin Tirante T.\": \"Tirante T.A.\",\n",
    "        \"Alberto Olivieri G.\": \"Olivieri G.\",\n",
    "        \"Nicolae Madaras D.\": \"Madaras D.\",\n",
    "        \"Cong Mo Y.\": \"Mo Y.\",\n",
    "        \"Patrick Smith J.\": \"Smith J.P.\",\n",
    "        \"Hsun Lu Y.\":\"Lu Y.H.\",\n",
    "        \"Barrios M.\":\"Barrios Vera M.T.\",\n",
    "        \"Lennard Struff J.\":\"Struff J.L.\",\n",
    "        \"Shannan Zayid M.\":\"Zayid M.S.\",\n",
    "        \"Garcia Lopez G.\":\"Garcia-Lopez G.\",\n",
    "        \"Rubin Statham J.\":\"Statham J.\",\n",
    "        \"Li Zh.\":\"Li Z.\",\n",
    "        \"Menendez Maceiras A.\":\"Menendez-Maceiras A.\",\n",
    "        \"Mingjie Lin J.\":\"Lin J.M.\",\n",
    "        \"Aragone J.\":\"Aragone JC\",\n",
    "        \"Moroni G.M.\":\"Moroni G.\",\n",
    "        \"Hee Lee D.\":\"Lee D.H.\",\n",
    "        \"Haider Maurer A.\":\"Haider-Maurer A.\",\n",
    "        \"Estrella V.\":\"Estrella Burgos V.\",\n",
    "        \"Ferreira Silva F.\":\"Silva F.F.\",\n",
    "        \"Gimeno Traver D.\":\"Gimeno-Traver D.\",\n",
    "        \"Samper Montana J.\":\"Samper-Montana J.\",\n",
    "        \"Hernandez J.\":\"Hernandez-Fernandez J\"\n",
    "    }\n",
    "    \n",
    "    for df in dataframes:\n",
    "        for old_name, new_name in replacements.items():\n",
    "            df['shortened_winner_name'] = df['shortened_winner_name'].replace({old_name: new_name})\n",
    "            df['shortened_loser_name'] = df['shortened_loser_name'].replace({old_name: new_name})\n",
    "\n",
    "replace_shortened_names([github['2018'], github['2019'], github['2020']])\n"
   ],
   "outputs": [],
   "execution_count": 23
  },
  {
   "cell_type": "code",
   "metadata": {
    "ExecuteTime": {
     "end_time": "2024-12-09T18:46:10.338748Z",
     "start_time": "2024-12-09T18:46:10.321293Z"
    }
   },
   "source": [
    "def replace_names(dataframes: [pd.DataFrame]):\n",
    "    replacements = {\n",
    "        \"Tseng C.H.\": \"Tseng C.H.\",\n",
    "        \"Varillas J.P.\": \"Varillas J.P.\",\n",
    "        \"Meligeni Alves F.\": \"Meligeni Rodrigues F\",\n",
    "        \"Zhang Ze\":\"Zhang Ze.\",\n",
    "        \"O'Connell C.\":\"O Connell C.\",\n",
    "        \"Galan D.\": \"Galan D.E.\",\n",
    "        \"Aragone J.\":\"Aragone JC\",\n",
    "        \"Dolgopolov O.\":\"Dolgopolov A.\",\n",
    "    }\n",
    "    \n",
    "    for df in dataframes:\n",
    "        for old_name, new_name in replacements.items():\n",
    "            df['Loser'] = df['Loser'].replace({old_name: new_name})\n",
    "            df['Winner']= df['Winner'].replace({old_name:new_name})\n",
    "\n",
    "replace_names([bets['2018'], bets['2019'], bets['2020']])"
   ],
   "outputs": [],
   "execution_count": 24
  },
  {
   "cell_type": "markdown",
   "metadata": {},
   "source": [
    "## Po poprawkach każdy zawodnik w ramce bets ma już id"
   ]
  },
  {
   "cell_type": "code",
   "metadata": {
    "ExecuteTime": {
     "end_time": "2024-12-09T18:46:11.008615Z",
     "start_time": "2024-12-09T18:46:10.999436Z"
    }
   },
   "source": [
    "for year in github:\n",
    "    map_player_name_player_id = github[year].groupby('shortened_loser_name', as_index=False)[['shortened_loser_name', 'loser_id']].first()\n",
    "    mapping = dict(zip(map_player_name_player_id['shortened_loser_name'], map_player_name_player_id['loser_id']))\n",
    "    bets[year]['loser_id'] = bets[year]['Loser'].map(mapping)"
   ],
   "outputs": [],
   "execution_count": 25
  },
  {
   "cell_type": "code",
   "metadata": {
    "ExecuteTime": {
     "end_time": "2024-12-09T18:46:11.325972Z",
     "start_time": "2024-12-09T18:46:11.317413Z"
    }
   },
   "source": [
    "for year in github:\n",
    "    map_player_name_player_id = github[year].groupby('shortened_winner_name', as_index=False)[['shortened_winner_name', 'winner_id']].first()\n",
    "    mapping = dict(zip(map_player_name_player_id['shortened_winner_name'], map_player_name_player_id['winner_id']))\n",
    "    bets[year]['winner_id'] = bets[year]['Winner'].map(mapping)"
   ],
   "outputs": [],
   "execution_count": 26
  },
  {
   "cell_type": "code",
   "metadata": {
    "ExecuteTime": {
     "end_time": "2024-12-09T18:46:11.696978Z",
     "start_time": "2024-12-09T18:46:11.691004Z"
    }
   },
   "source": [
    "from test_helpers.preprocessing import check_missing_player_ids\n",
    "\n",
    "check_missing_player_ids(bets)"
   ],
   "outputs": [
    {
     "name": "stdout",
     "output_type": "stream",
     "text": [
      "✅ Year 2018: No missing 'loser_id' or 'winner_id' values found.\n",
      "✅ Year 2019: No missing 'loser_id' or 'winner_id' values found.\n",
      "✅ Year 2020: No missing 'loser_id' or 'winner_id' values found.\n"
     ]
    }
   ],
   "execution_count": 27
  },
  {
   "cell_type": "markdown",
   "metadata": {},
   "source": [
    "### Skoro mamy już wspólne id zawodnika, oraz id turnieju to możemy w obu ramkach zdefiniować wspólne id meczu. Sprawdzamy czy id meczu jest unikalne dla każdego wiersza w ramkach"
   ]
  },
  {
   "cell_type": "code",
   "metadata": {
    "ExecuteTime": {
     "end_time": "2024-12-09T18:46:12.607449Z",
     "start_time": "2024-12-09T18:46:12.592138Z"
    }
   },
   "source": [
    "for year in github:\n",
    "    github[year]['match_id'] = github[year]['tourney_location'].astype(str) + '_' + year + '_' + github[year]['winner_id'].astype(str) + '_' + github[year]['loser_id'].astype(str)\n",
    "    bets[year]['match_id'] = bets[year]['tourney_location'].astype(str) + '_' + year + '_' +  bets[year]['winner_id'].astype(str) + '_' + bets[year]['loser_id'].astype(str)"
   ],
   "outputs": [],
   "execution_count": 28
  },
  {
   "cell_type": "code",
   "metadata": {
    "ExecuteTime": {
     "end_time": "2024-12-09T18:46:12.903335Z",
     "start_time": "2024-12-09T18:46:12.897785Z"
    }
   },
   "source": [
    "from test_helpers.preprocessing import check_match_id_uniqueness\n",
    "\n",
    "check_match_id_uniqueness(github, \"github\")\n",
    "check_match_id_uniqueness( bets, \"bets\")"
   ],
   "outputs": [
    {
     "name": "stdout",
     "output_type": "stream",
     "text": [
      "✅ Year 2018: All 'match_id' values are unique in github dataset.\n",
      "✅ Year 2019: All 'match_id' values are unique in github dataset.\n",
      "✅ Year 2020: All 'match_id' values are unique in github dataset.\n",
      "✅ Year 2018: All 'match_id' values are unique in bets dataset.\n",
      "✅ Year 2019: All 'match_id' values are unique in bets dataset.\n",
      "✅ Year 2020: All 'match_id' values are unique in bets dataset.\n"
     ]
    }
   ],
   "execution_count": 29
  },
  {
   "cell_type": "markdown",
   "metadata": {},
   "source": [
    "### Sprawdźmy jeszcze czy sa jakieś mecze, które sa tylko w jednej ramce."
   ]
  },
  {
   "cell_type": "code",
   "metadata": {
    "ExecuteTime": {
     "end_time": "2024-12-09T18:46:13.754656Z",
     "start_time": "2024-12-09T18:46:13.748131Z"
    }
   },
   "source": [
    "from test_helpers.preprocessing import check_match_id_consistency\n",
    "check_match_id_consistency(bets, github, 'bets', 'github') "
   ],
   "outputs": [
    {
     "name": "stdout",
     "output_type": "stream",
     "text": [
      "✅ Year 2018: `match_id` values are consistent between bets and github.\n",
      "✅ Year 2019: `match_id` values are consistent between bets and github.\n",
      "✅ Year 2020: `match_id` values are consistent between bets and github.\n"
     ]
    }
   ],
   "execution_count": 30
  },
  {
   "cell_type": "code",
   "metadata": {
    "ExecuteTime": {
     "end_time": "2024-12-02T22:28:21.139721Z",
     "start_time": "2024-12-02T22:28:20.844596Z"
    }
   },
   "source": [
    "for year in years:\n",
    "    bets[str(year)].to_csv(output_directory +f'bets{year}.csv', index=False)   # noqa\n",
    "    github[str(year)].to_csv(output_directory +f'github{year}.csv', index=False)"
   ],
   "outputs": [],
   "execution_count": 31
  }
 ],
 "metadata": {
  "kernelspec": {
   "display_name": ".venv",
   "language": "python",
   "name": ".venv"
  },
  "language_info": {
   "codemirror_mode": {
    "name": "ipython",
    "version": 3
   },
   "file_extension": ".py",
   "mimetype": "text/x-python",
   "name": "python",
   "nbconvert_exporter": "python",
   "pygments_lexer": "ipython3",
   "version": "3.12.0"
  }
 },
 "nbformat": 4,
 "nbformat_minor": 4
}
