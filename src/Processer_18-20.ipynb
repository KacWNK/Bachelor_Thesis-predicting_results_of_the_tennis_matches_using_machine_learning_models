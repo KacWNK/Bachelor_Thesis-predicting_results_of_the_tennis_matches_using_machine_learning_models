{
 "cells": [
  {
   "cell_type": "code",
   "execution_count": 1,
   "metadata": {},
   "outputs": [],
   "source": [
    "import pandas as pd"
   ]
  },
  {
   "cell_type": "markdown",
   "metadata": {},
   "source": [
    "## Wczytanie danych bets"
   ]
  },
  {
   "cell_type": "code",
   "execution_count": 86,
   "metadata": {},
   "outputs": [
    {
     "name": "stdout",
     "output_type": "stream",
     "text": [
      "Loaded bets_2018 from Raw data/2018.xlsx\n",
      "Loaded bets_2019 from Raw data/2019.xlsx\n",
      "Loaded bets_2020 from Raw data/2020.xlsx\n"
     ]
    }
   ],
   "source": [
    "for year in range(2018, 2021):\n",
    "    file_name=f\"Raw data/{year}.xlsx\"\n",
    "    variable_name=f\"bets_{year}\"\n",
    "    globals()[variable_name] = pd.read_excel(file_name)\n",
    "    print(f\"Loaded {variable_name} from {file_name}\")"
   ]
  },
  {
   "cell_type": "code",
   "execution_count": 87,
   "metadata": {},
   "outputs": [],
   "source": [
    "for i in range(2018,2021):\n",
    "    variable_name=f\"bets_{i}\"\n",
    "    globals()[variable_name].loc[globals()[variable_name][\"Tournament\"] == \"Adelaide International 1\", \"Location\"] = \"Adelaide 1\"\n",
    "    globals()[variable_name].loc[globals()[variable_name][\"Tournament\"] == \"Adelaide International 2\", \"Location\"] = \"Adelaide 2\"\n",
    "    globals()[variable_name].loc[globals()[variable_name][\"Tournament\"] == \"Western & Southern Financial Group Masters\", \"Location\"] = \"Cincinnati\"\n",
    "    globals()[variable_name].loc[globals()[variable_name][\"Tournament\"] == \"bett1HULKS Indoors\", \"Location\"] = \"Cologne 1\"\n",
    "    globals()[variable_name].loc[globals()[variable_name][\"Tournament\"] == \"bett1HULKS Championship\", \"Location\"] = \"Cologne 2\"\n",
    "    globals()[variable_name][\"Location\"] = globals()[variable_name][\"Location\"].replace({'Dubai ': 'Dubai', 'Belgrade ': 'Belgrade', 'Napoli':'Naples', 'Montreal': 'Toronto', 'Shenzhen ': 'Shenzhen', 'St Petersburg': 'St. Petersburg'})\n",
    "    globals()[variable_name] = globals()[variable_name][~globals()[variable_name]['Location'].isin(['Turin'])]\n",
    "    globals()[variable_name]['Loser'] = globals()[variable_name]['Loser'].replace({\"Varillas J. P.\": \"Varillas J.P.\", \"Tseng C. H.\": \"Tseng C.H.\"})\n",
    "    globals()[variable_name]['Winner'] = globals()[variable_name]['Winner'].replace({\"Varillas J. P.\": \"Varillas J.P.\", \"Tseng C. H.\": \"Tseng C.H.\"})\n",
    "    globals()[variable_name] = globals()[variable_name][~globals()[variable_name]['Tournament'].isin(['United Cup', 'Tour Finals', 'NextGen Finals','Tokyo Olympics','Atp Cup', 'Great Ocean Road Open', 'Murray River Open',\n",
    "     'Laver Cup', 'Melbourne Summer Set'])]\n",
    "    globals()[variable_name].loc[globals()[variable_name]['Tournament']== 'BNP Paribas Masters', 'Location']='Paris 2'\n",
    "    globals()[variable_name].loc[globals()[variable_name]['Tournament']== 'Belgrade Open', 'Location']='Belgrade 2'\n",
    "\n",
    "    \n",
    "    \n",
    "    \n",
    "    "
   ]
  },
  {
   "cell_type": "markdown",
   "metadata": {},
   "source": [
    "### W ramce danych z 2019 roku jest błędnie wpisany zawodnik wraz z rankingiem. Poprawiamy ręcznie błąd"
   ]
  },
  {
   "cell_type": "code",
   "execution_count": 88,
   "metadata": {},
   "outputs": [],
   "source": [
    "bets_2019.loc[bets_2019['Loser'] == 'Monteiro J.', 'LRank'] = 99\n",
    "bets_2019.loc[bets_2019['Loser'] == 'Monteiro J.', 'LPts'] = 580.0\n",
    "bets_2019.loc[bets_2019['Loser'] == 'Monteiro J.', 'Loser'] = 'Monteiro T.'"
   ]
  },
  {
   "cell_type": "markdown",
   "metadata": {},
   "source": [
    "### W 2020 roku w ramce bets nazwa 2 turniejów jest ze sobą błednie zamieniona. Poprawiamy ten błąd zamieniając nazwy turniejów na poprawne."
   ]
  },
  {
   "cell_type": "code",
   "execution_count": 90,
   "metadata": {},
   "outputs": [],
   "source": [
    "auckland_mask = (bets_2020['Location'] == 'Auckland') & (bets_2020['Tournament'] == 'ASB Classic')\n",
    "adelaide_mask = (bets_2020['Location'] == 'Adelaide') & (bets_2020['Tournament'] == 'Adelaide International')\n",
    "\n",
    "bets_2020.loc[auckland_mask, ['Location', 'Tournament']] = ['Adelaide', 'Adelaide International']\n",
    "bets_2020.loc[adelaide_mask, ['Location', 'Tournament']] = ['Auckland', 'ASB Classic']"
   ]
  },
  {
   "cell_type": "code",
   "execution_count": 91,
   "metadata": {},
   "outputs": [],
   "source": [
    "for i in range(2018,2021):\n",
    "    variable_name=f\"bets_{i}\"\n",
    "    globals()[variable_name].rename(columns={'Location': 'tourney_location'}, inplace=True)\n",
    "    globals()[variable_name].reset_index(drop=True, inplace=True)"
   ]
  },
  {
   "cell_type": "markdown",
   "metadata": {},
   "source": [
    "## ZBIORY RÓŻNIĄ SIĘ BUKMACHERAMI, DLATEGO ZBIERAMY WSZYSTKIE UNIKATOWE NAZWY BUKMACHEROW I UPEWNIAMY SIE, ŻE KAŻDY ZBIÓR MA KAŻDEGO BUKMACHERA POPRZEZ DODANIE KOLUMNY, WARTOŚCI DLA NOWO DODANEJ KOLUMNY SĄ NAN"
   ]
  },
  {
   "cell_type": "code",
   "execution_count": 92,
   "metadata": {},
   "outputs": [],
   "source": [
    "for i in range(2018, 2021):\n",
    "    variable_name = f\"bets_{i}\"\n",
    "    variable_name_bookmakers = f\"bets_{i}_bookmakers\"\n",
    "    globals()[variable_name_bookmakers] = globals()[variable_name].copy()\n",
    "    \n",
    "    columns_to_drop = ['ATP', 'tourney_location', 'Tournament', 'Date', 'Series', 'Court', 'Surface',\n",
    "                       'Round', 'Best of', 'Winner', 'Loser', 'WRank', 'LRank', 'W1', 'L1',\n",
    "                       'W2', 'L2', 'W3', 'L3', 'W4', 'L4', 'W5', 'L5', 'Wsets', 'Lsets',\n",
    "                       'Comment']\n",
    "    \n",
    "    globals()[variable_name_bookmakers] = globals()[variable_name_bookmakers].drop(columns=columns_to_drop)\n",
    "    "
   ]
  },
  {
   "cell_type": "markdown",
   "metadata": {},
   "source": [
    "## ZEBRANIE WSZYSTKICH UNIKALNYCH NAZW BUKMACHERÓW"
   ]
  },
  {
   "cell_type": "code",
   "execution_count": 93,
   "metadata": {},
   "outputs": [],
   "source": [
    "unique_columns = set()\n",
    "for i in range(2018, 2021):\n",
    "    variable_name_bookmakers = f\"bets_{i}_bookmakers\"\n",
    "    if variable_name_bookmakers in globals() and isinstance(globals()[variable_name_bookmakers], pd.DataFrame):\n",
    "        unique_columns.update(globals()[variable_name_bookmakers].columns)\n"
   ]
  },
  {
   "cell_type": "markdown",
   "metadata": {},
   "source": [
    "## UZUPEŁNIENIE BRAKUJĄCYCH KOLUMN W bets_{rok} I USTAWIENIE WARTOŚCI NA NAN"
   ]
  },
  {
   "cell_type": "code",
   "execution_count": 94,
   "metadata": {},
   "outputs": [],
   "source": [
    "for i in range(2018, 2021):\n",
    "    variable_name = f\"bets_{i}\"\n",
    "    if variable_name in globals() and isinstance(globals()[variable_name], pd.DataFrame):\n",
    "        missing_columns = unique_columns.difference(globals()[variable_name].columns)\n",
    "        for column in missing_columns:\n",
    "            globals()[variable_name][column] = None"
   ]
  },
  {
   "cell_type": "markdown",
   "metadata": {},
   "source": [
    "## PONIŻSZA FUNKCJA NIE MA ŻADNEGO OUTPUTU, TZN ŻE WSZYSTKO JEST W PORZĄDKU I DANE MOŻNA ZMERGOWAĆ"
   ]
  },
  {
   "cell_type": "code",
   "execution_count": 95,
   "metadata": {},
   "outputs": [],
   "source": [
    "for i in range(2018, 2021):\n",
    "    variable_name=f\"bets_{i}\"\n",
    "    columns=set(globals()[variable_name].columns)\n",
    "    for j in range(i+1, 2021):\n",
    "        variable_name_2=f\"bets_{j}\"\n",
    "        if columns != set(globals()[variable_name_2].columns):\n",
    "            print(f\"Rok: {i} niezgodny z rokiem {j}\")"
   ]
  },
  {
   "cell_type": "markdown",
   "metadata": {},
   "source": [
    "## Wczytanie danych github"
   ]
  },
  {
   "cell_type": "code",
   "execution_count": 96,
   "metadata": {},
   "outputs": [
    {
     "name": "stdout",
     "output_type": "stream",
     "text": [
      "Loaded github_2018 from Raw data/atp_matches_2018.csv\n",
      "Loaded github_2019 from Raw data/atp_matches_2019.csv\n",
      "Loaded github_2020 from Raw data/atp_matches_2020.csv\n"
     ]
    }
   ],
   "source": [
    "for i in range(2018, 2021):\n",
    "    variable_name=f\"github_{i}\"\n",
    "    file_name = f\"Raw data/atp_matches_{i}.csv\"\n",
    "    globals()[variable_name] = pd.read_csv(file_name)\n",
    "    print(f\"Loaded {variable_name} from {file_name}\")"
   ]
  },
  {
   "cell_type": "markdown",
   "metadata": {},
   "source": [
    "## wszystkie zbiory mają jednakowe kolumny :))"
   ]
  },
  {
   "cell_type": "code",
   "execution_count": 97,
   "metadata": {},
   "outputs": [
    {
     "name": "stdout",
     "output_type": "stream",
     "text": [
      "0\n"
     ]
    }
   ],
   "source": [
    "k=0\n",
    "for i in range(2018, 2021):\n",
    "    variable_name=f\"github_{i}\"\n",
    "    columns=set(globals()[variable_name].columns)\n",
    "    for j in range(i+1, 2021):\n",
    "        variable_name_2=f\"github_{j}\"\n",
    "        if columns != set(globals()[variable_name_2].columns):\n",
    "            print(f\"Rok: {i} niezgodny z rokiem {j}\")\n",
    "            k+=1\n",
    "print(k)"
   ]
  },
  {
   "cell_type": "markdown",
   "metadata": {},
   "source": [
    "### Zgodnie z założeniami usuwamy Finals, NextGen Finals, United Cup oraz mecze Davis Cup"
   ]
  },
  {
   "cell_type": "code",
   "execution_count": 98,
   "metadata": {},
   "outputs": [],
   "source": [
    "for i in range(2018, 2021):\n",
    "    variable_name=f\"github_{i}\"\n",
    "    globals()[variable_name]=globals()[variable_name][~globals()[variable_name]['tourney_name'].str.contains('Davis Cup', na=False)]\n",
    "    globals()[variable_name] = globals()[variable_name][~globals()[variable_name]['tourney_name'].isin(['United Cup', 'Tour Finals', 'NextGen Finals','Tokyo Olympics','Atp Cup', 'Great Ocean Road Open', 'Murray River Open',\n",
    "  'Laver Cup','Melbourne Summer Set', 'Melbourne'])]\n",
    "    globals()[variable_name][\"tourney_name\"] = globals()[variable_name][\"tourney_name\"].replace({'Belgrade ': 'Belgrade'})\n",
    "    \n",
    "    "
   ]
  },
  {
   "cell_type": "markdown",
   "metadata": {},
   "source": [
    "### usunięcie turnieju, który występuje wyłącznie w jednej z ramek. Uniemożliwia to walidację, wolimy turniej usunąć i mieć pewniejsze dane niż zaufać jednemu ze źródeł"
   ]
  },
  {
   "cell_type": "code",
   "execution_count": 99,
   "metadata": {},
   "outputs": [],
   "source": [
    "bets_2020=bets_2020[~bets_2020['tourney_location'].str.contains('London', na=False)]\n",
    "bets_2018 = bets_2018[~((bets_2018['tourney_location'].str.contains('London', na=False)) & (bets_2018['Series'] == 'Masters Cup'))]\n",
    "bets_2019 = bets_2019[~((bets_2019['tourney_location'].str.contains('London', na=False)) & (bets_2019['Series'] == 'Masters Cup'))]"
   ]
  },
  {
   "cell_type": "markdown",
   "metadata": {},
   "source": [
    "### W tej ramce kolumna 'tourney_name' to dla większości turniejów lokalizacja turnieju a nie jego nazwa, a potrzebujemy żeby nazwa turnieju była taka jak w ramce bets. Dla turniejów, dla których 'tourney_name' to nie lokalizacja, ręcznie wpisujemy lokalizację"
   ]
  },
  {
   "cell_type": "code",
   "execution_count": 100,
   "metadata": {},
   "outputs": [],
   "source": [
    "for i in range(2018, 2021):\n",
    "    variable_name=f\"github_{i}\"\n",
    "    globals()[variable_name].rename(columns={'tourney_name': 'tourney_location'}, inplace=True)\n",
    "    globals()[variable_name]['tourney_location'] = globals()[variable_name]['tourney_location'].replace({\"Australian Open\": \"Melbourne\", \"Indian Wells Masters\": \"Indian Wells\", \"Miami Masters\": \"Miami\", \"Monte Carlo Masters\": \"Monte Carlo\", \"Madrid Masters\": \"Madrid\", \"Rome Masters\": \"Rome\", \"Roland Garros\": \"Paris\", \"s Hertogenbosch\": \"'s-Hertogenbosch\", \"Queen's Club\": \"Queens Club\", \"Wimbledon\": \"London\", \"Canada Masters\": \"Toronto\", \"Cincinnati Masters\": \"Cincinnati\", \"Us Open\": \"New York\", \"US Open\": \"New York\", \"Astana\": \"Nur-Sultan\", \"Shanghai Masters\": \"Shanghai\", \"Paris Masters\": \"Paris 2\", \"Rio De Janeiro\": \"Rio de Janeiro\", \"Shenzen \":\"Shenzen\", \"ATP Rio de Janeiro\": \"Rio de Janeiro\",'St Petersburg': 'St. Petersburg'})"
   ]
  },
  {
   "cell_type": "markdown",
   "metadata": {},
   "source": [
    "### Sprawdzamy, że utworzona przez nas kolumnna 'tourney_location' odpowiada kolumnie 'tourney_location' w ramce bets"
   ]
  },
  {
   "cell_type": "code",
   "execution_count": 101,
   "metadata": {},
   "outputs": [
    {
     "name": "stdout",
     "output_type": "stream",
     "text": [
      "[]\n",
      "[]\n",
      "[]\n",
      "[]\n",
      "[]\n",
      "[]\n"
     ]
    }
   ],
   "source": [
    "for i in range(2018, 2021):\n",
    "    variable_name=f\"github_{i}\"\n",
    "    variable_name_2=f\"bets_{i}\"\n",
    "    print(globals()[variable_name][~globals()[variable_name]['tourney_location'].isin(globals()[variable_name_2]['tourney_location'])]['tourney_location'].unique())\n",
    "    print(globals()[variable_name_2][~globals()[variable_name_2]['tourney_location'].isin(globals()[variable_name]['tourney_location'])]['tourney_location'].unique())\n",
    "    \n",
    "    "
   ]
  },
  {
   "cell_type": "markdown",
   "metadata": {},
   "source": [
    "### Dzięki temu możemy zamienić wartości kolumny 'tourney_level' na wartości kolumny 'Series' z ramki bets. Dziwne określenie rangi turnieju za pomoca literek zmieniamy na standardowe rangi ATP250, ATP500 etc. Ręcznie musimy jedynie poprawić turniej Masters 1000 w Paryżu, gdyż również w Paryżu odbywa się turniej rangi Grand Slam."
   ]
  },
  {
   "cell_type": "code",
   "execution_count": 102,
   "metadata": {},
   "outputs": [],
   "source": [
    "for i in range(2018, 2021):\n",
    "    github_name = f\"github_{i}\"\n",
    "    bets_name = f\"bets_{i}\"\n",
    "    \n",
    "    github_df = globals()[github_name]\n",
    "    bets_df = globals()[bets_name]\n",
    "    df2=bets_df.drop_duplicates(subset='tourney_location', keep='first')\n",
    "\n",
    "    merged_df = pd.merge(github_df, df2[['tourney_location', 'Series']], on='tourney_location', how='left')\n",
    "    merged_df['tourney_level'] = merged_df['Series']\n",
    "    merged_df = merged_df.drop(columns=['Series'])\n",
    "    globals()[github_name]=merged_df\n",
    "    "
   ]
  },
  {
   "cell_type": "code",
   "execution_count": 103,
   "metadata": {},
   "outputs": [],
   "source": [
    "for i in range(2018,2021):\n",
    "    variable_name=f\"github_{i}\"\n",
    "    globals()[variable_name].loc[(globals()[variable_name][\"draw_size\"] == 128) & (globals()[variable_name][\"tourney_location\"] == \"New York\"), \"tourney_level\"] = \"Grand Slam\""
   ]
  },
  {
   "cell_type": "markdown",
   "metadata": {},
   "source": [
    "### Możemy teraz stworzyć w obu ramkach klucz 'tournament_id', który jest połaczeniem 'tourney_location' oraz 'tourney_level' i jednoznacznie określa turniej"
   ]
  },
  {
   "cell_type": "code",
   "execution_count": 104,
   "metadata": {},
   "outputs": [
    {
     "name": "stderr",
     "output_type": "stream",
     "text": [
      "C:\\Users\\kacpe\\AppData\\Local\\Temp\\ipykernel_25176\\45324509.py:5: SettingWithCopyWarning: \n",
      "A value is trying to be set on a copy of a slice from a DataFrame.\n",
      "Try using .loc[row_indexer,col_indexer] = value instead\n",
      "\n",
      "See the caveats in the documentation: https://pandas.pydata.org/pandas-docs/stable/user_guide/indexing.html#returning-a-view-versus-a-copy\n",
      "  globals()[variable_name_2]['tournament_id']=globals()[variable_name_2]['tourney_location'].astype(str)+ '_' + globals()[variable_name_2]['Series'].astype(str)+ '_' + str(i)\n"
     ]
    }
   ],
   "source": [
    "for i in range(2018,2021):\n",
    "    variable_name=f\"github_{i}\"\n",
    "    variable_name_2=f\"bets_{i}\"\n",
    "    globals()[variable_name]['tournament_id']=globals()[variable_name]['tourney_location'].astype(str)+ '_' + globals()[variable_name]['tourney_level'].astype(str)+ '_' + str(i)\n",
    "    globals()[variable_name_2]['tournament_id']=globals()[variable_name_2]['tourney_location'].astype(str)+ '_' + globals()[variable_name_2]['Series'].astype(str)+ '_' + str(i)\n",
    "    "
   ]
  },
  {
   "cell_type": "markdown",
   "metadata": {},
   "source": [
    "### Sprawdzamy czy w obu ramkach mamy te same klucze turnieju"
   ]
  },
  {
   "cell_type": "code",
   "execution_count": 105,
   "metadata": {},
   "outputs": [
    {
     "name": "stdout",
     "output_type": "stream",
     "text": [
      "[]\n",
      "[]\n",
      "[]\n",
      "[]\n",
      "[]\n",
      "[]\n"
     ]
    }
   ],
   "source": [
    "for i in range(2018, 2021):\n",
    "    variable_name=f\"github_{i}\"\n",
    "    variable_name_2=f\"bets_{i}\"\n",
    "    print(globals()[variable_name][~globals()[variable_name]['tournament_id'].isin(globals()[variable_name_2]['tournament_id'])]['tournament_id'].unique())\n",
    "    print(globals()[variable_name_2][~globals()[variable_name_2]['tournament_id'].isin(globals()[variable_name]['tournament_id'])]['tournament_id'].unique())"
   ]
  },
  {
   "cell_type": "markdown",
   "metadata": {},
   "source": [
    "### Potrzebujemy mieć takie same nazwy zawodników w obu ramkach, aby dodać do ramki bets id zawodnika z ramki github. Aktualnie w ramce bets nazwa zawodnika jest w formacie typu Djokovic N. a w ramce github w formacie typu Novak Djokovic, dlatego musimy stworzyć nazwy zawodników w skróconym w formacie w ramce github."
   ]
  },
  {
   "cell_type": "code",
   "execution_count": 106,
   "metadata": {},
   "outputs": [],
   "source": [
    "def transform_name(name):\n",
    "    name_parts = name.split()\n",
    "    first_name = name_parts[0]\n",
    "    last_name = ' '.join(name_parts[1:])\n",
    "    return f\"{last_name} {first_name[0]}.\""
   ]
  },
  {
   "cell_type": "code",
   "execution_count": 107,
   "metadata": {},
   "outputs": [],
   "source": [
    "for i in range(2018, 2021):\n",
    "    variable_name=f\"github_{i}\"\n",
    "    globals()[variable_name]['shortened_winner_name']=globals()[variable_name]['winner_name'].apply(transform_name)\n",
    "    globals()[variable_name]['shortened_loser_name']=globals()[variable_name]['loser_name'].apply(transform_name)"
   ]
  },
  {
   "cell_type": "markdown",
   "metadata": {},
   "source": [
    "### Sprawdzamy czy skrócona nazwa zawodnika jednoznacznie określa zawodnika"
   ]
  },
  {
   "cell_type": "code",
   "execution_count": 111,
   "metadata": {},
   "outputs": [
    {
     "name": "stdout",
     "output_type": "stream",
     "text": [
      "True\n",
      "True\n",
      "True\n",
      "True\n",
      "True\n",
      "True\n"
     ]
    }
   ],
   "source": [
    "for i in range(2018, 2021):\n",
    "    variable_name=f\"github_{i}\"\n",
    "    print(globals()[variable_name]['shortened_winner_name'].nunique() == globals()[variable_name]['winner_id'].nunique())\n",
    "    print(globals()[variable_name]['shortened_loser_name'].nunique() == globals()[variable_name]['loser_id'].nunique())"
   ]
  },
  {
   "cell_type": "markdown",
   "metadata": {},
   "source": [
    "## Zobaczmy, którzy zawodnicy nie są jednoznacznie określeni przez skróconą nazwę"
   ]
  },
  {
   "cell_type": "code",
   "execution_count": 109,
   "metadata": {},
   "outputs": [
    {
     "name": "stdout",
     "output_type": "stream",
     "text": [
      "Lata 2018 - Przegrani z niejednoznacznymi skróconymi nazwami:\n",
      "     shortened_loser_name  loser_id\n",
      "2299             Zhang Z.    111190\n",
      "2400             Zhang Z.    105585\n",
      "Lata 2019 - Przegrani z niejednoznacznymi skróconymi nazwami:\n",
      "     shortened_loser_name  loser_id\n",
      "2274             Zhang Z.    111190\n",
      "2276             Zhang Z.    105585\n"
     ]
    }
   ],
   "source": [
    "non_unique_losers={}\n",
    "for i in range(2018,2021):\n",
    "    variable_name=f\"github_{i}\"\n",
    "    loser_groups = globals()[variable_name].groupby('shortened_loser_name')['loser_id'].nunique()\n",
    "    non_unique_loser_names = loser_groups[loser_groups > 1].index.tolist()\n",
    "    non_unique_losers[i] = globals()[variable_name][globals()[variable_name]['shortened_loser_name'].isin(non_unique_loser_names)][['shortened_loser_name', 'loser_id']].drop_duplicates()\n",
    "\n",
    "for i in range(2018,2021):\n",
    "    if not non_unique_losers[i].empty:\n",
    "        print(f\"Lata {i} - Przegrani z niejednoznacznymi skróconymi nazwami:\")\n",
    "        print(non_unique_losers[i])"
   ]
  },
  {
   "cell_type": "markdown",
   "metadata": {},
   "source": [
    "## W celu rozróżnienia zawodników do skrótu imienia jednego z nich dopsujemy drugą literkę imienia"
   ]
  },
  {
   "cell_type": "code",
   "execution_count": 110,
   "metadata": {},
   "outputs": [],
   "source": [
    "for i in range(2018, 2021):\n",
    "   variable_name=f\"github_{i}\"\n",
    "   globals()[variable_name].loc[globals()[variable_name]['loser_id'] == 111190, 'shortened_loser_name'] = 'Zhang Zh.'\n",
    "   globals()[variable_name].loc[globals()[variable_name]['winner_id'] == 111190, 'shortened_winner_name'] = 'Zhang Zh.'\n",
    "   globals()[variable_name].loc[globals()[variable_name]['loser_id'] == 105585, 'shortened_loser_name'] = 'Zhang Ze.'\n",
    "   globals()[variable_name].loc[globals()[variable_name]['winner_id'] == 105585, 'shortened_winner_name'] = 'Zhang Ze.'\n"
   ]
  },
  {
   "cell_type": "markdown",
   "metadata": {},
   "source": [
    "### Niektóre imiona i nazwiska ze względu na swoją unikalność lub brak konsekwencji w zapisie musimy zmodyfikować ręcznie"
   ]
  },
  {
   "cell_type": "code",
   "execution_count": 112,
   "metadata": {},
   "outputs": [],
   "source": [
    "def replace_shortened_names(dataframes):\n",
    "    replacements = {\n",
    "        \"Varillas J.P.\": \"Varillas J. P.\",\n",
    "        \"Meligeni Alves F.\": \"Meligeni Rodrigues F\",\n",
    "        \"Arnaud Bailly G.\": \"Bailly G.\",\n",
    "        \"Sung Nam J.\": \"Nam J.S.\",\n",
    "        \"Chan Hong S.\": \"Hong S.\",\n",
    "        \"Fa Rodriguez Taverna S.\": \"Rodriguez Taverna S.\",\n",
    "        \"Pucinelli De Almeida M.\": \"Pucinelli de Almeida M.\",\n",
    "        \"Alejandro Hernandez Serrano J.\": \"Hernandez A.\",\n",
    "        \"Marcel Stebe C.\": \"Stebe C.M.\",\n",
    "        \"Martin del Potro J.\": \"Del Potro J.M.\",\n",
    "        \"Marco Moroni G.\": \"Moroni G.M.\",\n",
    "        \"Tsonga J.\": \"Tsonga J.W.\",\n",
    "        \"Ignacio Londero J.\": \"Londero J.I.\",\n",
    "        \"Pablo Varillas J.\": \"Varillas J. P.\",\n",
    "        \"Pablo Ficovich J.\": \"Ficovich J.P.\",\n",
    "        \"C.H. Tseng\": \"Tseng C. H.\",\n",
    "        \"Oconnell C.\": \"O Connell C.\",\n",
    "        \"Elahi Galan D.\": \"Galan D.E.\",\n",
    "        \"Auger Aliassime F.\": \"Auger-Aliassime F.\",\n",
    "        \"Woo Kwon S.\": \"Kwon S.W.\",\n",
    "        \"Barrios Vera T.\": \"Barrios M.\",\n",
    "        \"Yunchaokete B.\": \"Bu Y.\",\n",
    "        \"Manuel Cerundolo J.\": \"Cerundolo J.M.\",\n",
    "        \"Martin Etcheverry T.\": \"Etcheverry T.\",\n",
    "        \"Hugues Herbert P.\": \"Herbert P.H.\",\n",
    "        \"Hsiou Hsu Y.\": \"Hsu Y.\",\n",
    "        \"Andrea Huesler M.\": \"Huesler M.A.\",\n",
    "        \"Kuznetsov A.\": \"Kuznetsov An.\",\n",
    "        \"Son Kwiatkowski T.\": \"Kwiatkowski T.S.\",\n",
    "        \"Li Z.\": \"Li Zh.\",\n",
    "        \"Hsin Tseng C.\": \"Tseng C. H.\",\n",
    "        \"Kumar Mukund S.\": \"Mukund S.\",\n",
    "        \"Ramos A.\": \"Ramos-Vinolas A.\",\n",
    "        \"J Wolf J.\": \"Wolf J.J.\",\n",
    "        \"Zhang Ze\": \"Zhang Ze.\",\n",
    "        \"Lin Wu T.\": \"Wu T.L.\",\n",
    "        \"Hans Rehberg M.\": \"Rehberg M.\",\n",
    "        \"Mpetshi Perricard G.\": \"Mpetshi G.\",\n",
    "        \"Agustin Tirante T.\": \"Tirante T.A.\",\n",
    "        \"Alberto Olivieri G.\": \"Olivieri G.\",\n",
    "        \"Nicolae Madaras D.\": \"Madaras D.\",\n",
    "        \"Cong Mo Y.\": \"Mo Y.\",\n",
    "        \"Patrick Smith J.\": \"Smith J.P.\",\n",
    "        \"Hsun Lu Y.\":\"Lu Y.H.\",\n",
    "        \"Barrios M.\":\"Barrios Vera M.T.\",\n",
    "        \"Lennard Struff J.\":\"Struff J.L.\",\n",
    "        \"Shannan Zayid M.\":\"Zayid M.S.\",\n",
    "        \"Garcia Lopez G.\":\"Garcia-Lopez G.\",\n",
    "        \"Rubin Statham J.\":\"Statham J.\",\n",
    "        \"Li Zh.\":\"Li Z.\",\n",
    "        \"Menendez Maceiras A.\":\"Menendez-Maceiras A.\",\n",
    "        \"Mingjie Lin J.\":\"Lin J.M.\",\n",
    "        \"Aragone J.\":\"Aragone JC\",\n",
    "        \"Moroni G.M.\":\"Moroni G.\",\n",
    "        \"Hee Lee D.\":\"Lee D.H.\",\n",
    "        \"Haider Maurer A.\":\"Haider-Maurer A.\",\n",
    "        \"Estrella V.\":\"Estrella Burgos V.\",\n",
    "        \"Ferreira Silva F.\":\"Silva F.F.\",\n",
    "        \"Gimeno Traver D.\":\"Gimeno-Traver D.\",\n",
    "        \"Samper Montana J.\":\"Samper-Montana J.\",\n",
    "        \"Hernandez J.\":\"Hernandez-Fernandez J\"\n",
    "    }\n",
    "    \n",
    "    for df in dataframes:\n",
    "        for old_name, new_name in replacements.items():\n",
    "            df['shortened_winner_name'] = df['shortened_winner_name'].replace({old_name: new_name})\n",
    "            df['shortened_loser_name'] = df['shortened_loser_name'].replace({old_name: new_name})\n",
    "\n",
    "dataframes = [github_2018, github_2019, github_2020]\n",
    "replace_shortened_names(dataframes)\n"
   ]
  },
  {
   "cell_type": "code",
   "execution_count": 113,
   "metadata": {},
   "outputs": [
    {
     "name": "stderr",
     "output_type": "stream",
     "text": [
      "C:\\Users\\kacpe\\AppData\\Local\\Temp\\ipykernel_25176\\2619847961.py:15: SettingWithCopyWarning: \n",
      "A value is trying to be set on a copy of a slice from a DataFrame.\n",
      "Try using .loc[row_indexer,col_indexer] = value instead\n",
      "\n",
      "See the caveats in the documentation: https://pandas.pydata.org/pandas-docs/stable/user_guide/indexing.html#returning-a-view-versus-a-copy\n",
      "  df['Loser'] = df['Loser'].replace({old_name: new_name})\n",
      "C:\\Users\\kacpe\\AppData\\Local\\Temp\\ipykernel_25176\\2619847961.py:16: SettingWithCopyWarning: \n",
      "A value is trying to be set on a copy of a slice from a DataFrame.\n",
      "Try using .loc[row_indexer,col_indexer] = value instead\n",
      "\n",
      "See the caveats in the documentation: https://pandas.pydata.org/pandas-docs/stable/user_guide/indexing.html#returning-a-view-versus-a-copy\n",
      "  df['Winner']= df['Winner'].replace({old_name:new_name})\n"
     ]
    }
   ],
   "source": [
    "\n",
    "def replace_names(dataframes):\n",
    "    replacements = {\n",
    "        \"Tseng C.H.\": \"Tseng C. H.\",\n",
    "        \"Varillas J.P.\": \"Varillas J. P.\",\n",
    "        \"Meligeni Alves F.\": \"Meligeni Rodrigues F\",\n",
    "        \"Zhang Ze\":\"Zhang Ze.\",\n",
    "        \"O'Connell C.\":\"O Connell C.\",\n",
    "        \"Galan D.\": \"Galan D.E.\",\n",
    "        \"Aragone J.\":\"Aragone JC\",\n",
    "        \"Dolgopolov O.\":\"Dolgopolov A.\",\n",
    "    }\n",
    "    \n",
    "    for df in dataframes:\n",
    "        for old_name, new_name in replacements.items():\n",
    "            df['Loser'] = df['Loser'].replace({old_name: new_name})\n",
    "            df['Winner']= df['Winner'].replace({old_name:new_name})\n",
    "\n",
    "dataframes = [bets_2018, bets_2019, bets_2020]\n",
    "replace_names(dataframes)"
   ]
  },
  {
   "cell_type": "markdown",
   "metadata": {},
   "source": [
    "## Po poprawkach każdy zawodnik w ramce bets ma już id"
   ]
  },
  {
   "cell_type": "code",
   "execution_count": 114,
   "metadata": {},
   "outputs": [
    {
     "name": "stderr",
     "output_type": "stream",
     "text": [
      "C:\\Users\\kacpe\\AppData\\Local\\Temp\\ipykernel_25176\\167549120.py:6: SettingWithCopyWarning: \n",
      "A value is trying to be set on a copy of a slice from a DataFrame.\n",
      "Try using .loc[row_indexer,col_indexer] = value instead\n",
      "\n",
      "See the caveats in the documentation: https://pandas.pydata.org/pandas-docs/stable/user_guide/indexing.html#returning-a-view-versus-a-copy\n",
      "  globals()[variable_name_2]['loser_id'] = globals()[variable_name_2]['Loser'].map(mapping)\n"
     ]
    }
   ],
   "source": [
    "for i in range(2018,2021):\n",
    "    variable_name=f\"github_{i}\"\n",
    "    variable_name_2=f\"bets_{i}\"\n",
    "    map_player_name_player_id = globals()[variable_name].groupby('shortened_loser_name', as_index=False)[['shortened_loser_name', 'loser_id']].first()\n",
    "    mapping = dict(zip(map_player_name_player_id['shortened_loser_name'], map_player_name_player_id['loser_id']))\n",
    "    globals()[variable_name_2]['loser_id'] = globals()[variable_name_2]['Loser'].map(mapping)\n",
    "    "
   ]
  },
  {
   "cell_type": "code",
   "execution_count": 115,
   "metadata": {},
   "outputs": [
    {
     "data": {
      "text/plain": [
       "array([], dtype=object)"
      ]
     },
     "execution_count": 115,
     "metadata": {},
     "output_type": "execute_result"
    }
   ],
   "source": [
    "bets_2020.loc[bets_2020['loser_id'].isna(), 'Loser'].unique()"
   ]
  },
  {
   "cell_type": "code",
   "execution_count": 116,
   "metadata": {},
   "outputs": [
    {
     "data": {
      "text/plain": [
       "array([], dtype=object)"
      ]
     },
     "execution_count": 116,
     "metadata": {},
     "output_type": "execute_result"
    }
   ],
   "source": [
    "bets_2019.loc[bets_2019['loser_id'].isna(), 'Loser'].unique()"
   ]
  },
  {
   "cell_type": "code",
   "execution_count": 117,
   "metadata": {},
   "outputs": [
    {
     "data": {
      "text/plain": [
       "array([], dtype=object)"
      ]
     },
     "execution_count": 117,
     "metadata": {},
     "output_type": "execute_result"
    }
   ],
   "source": [
    "bets_2018.loc[bets_2018['loser_id'].isna(), 'Loser'].unique()"
   ]
  },
  {
   "cell_type": "code",
   "execution_count": 118,
   "metadata": {},
   "outputs": [
    {
     "name": "stderr",
     "output_type": "stream",
     "text": [
      "C:\\Users\\kacpe\\AppData\\Local\\Temp\\ipykernel_25176\\135999362.py:6: SettingWithCopyWarning: \n",
      "A value is trying to be set on a copy of a slice from a DataFrame.\n",
      "Try using .loc[row_indexer,col_indexer] = value instead\n",
      "\n",
      "See the caveats in the documentation: https://pandas.pydata.org/pandas-docs/stable/user_guide/indexing.html#returning-a-view-versus-a-copy\n",
      "  globals()[variable_name_2]['winner_id'] = globals()[variable_name_2]['Winner'].map(mapping)\n"
     ]
    }
   ],
   "source": [
    "for i in range(2018,2021):\n",
    "    variable_name=f\"github_{i}\"\n",
    "    variable_name_2=f\"bets_{i}\"\n",
    "    map_player_name_player_id = globals()[variable_name].groupby('shortened_winner_name', as_index=False)[['shortened_winner_name', 'winner_id']].first()\n",
    "    mapping = dict(zip(map_player_name_player_id['shortened_winner_name'], map_player_name_player_id['winner_id']))\n",
    "    globals()[variable_name_2]['winner_id'] = globals()[variable_name_2]['Winner'].map(mapping)"
   ]
  },
  {
   "cell_type": "code",
   "execution_count": 119,
   "metadata": {},
   "outputs": [
    {
     "data": {
      "text/plain": [
       "array([], dtype=object)"
      ]
     },
     "execution_count": 119,
     "metadata": {},
     "output_type": "execute_result"
    }
   ],
   "source": [
    "bets_2020.loc[bets_2020['winner_id'].isna(), 'Winner'].unique()"
   ]
  },
  {
   "cell_type": "code",
   "execution_count": 120,
   "metadata": {},
   "outputs": [
    {
     "data": {
      "text/plain": [
       "array([], dtype=object)"
      ]
     },
     "execution_count": 120,
     "metadata": {},
     "output_type": "execute_result"
    }
   ],
   "source": [
    "bets_2019.loc[bets_2019['winner_id'].isna(), 'Winner'].unique()"
   ]
  },
  {
   "cell_type": "code",
   "execution_count": 121,
   "metadata": {},
   "outputs": [
    {
     "data": {
      "text/plain": [
       "array([], dtype=object)"
      ]
     },
     "execution_count": 121,
     "metadata": {},
     "output_type": "execute_result"
    }
   ],
   "source": [
    "bets_2018.loc[bets_2018['winner_id'].isna(), 'Winner'].unique()"
   ]
  },
  {
   "cell_type": "markdown",
   "metadata": {},
   "source": [
    "### Skoro mamy już wspólne id zawodnika, oraz id turnieju to możemy w obu ramkach zdefiniować wspólne id meczu. Sprawdzamy czy id meczu jest unikalne dla każdego wiersza w ramkach"
   ]
  },
  {
   "cell_type": "code",
   "execution_count": 122,
   "metadata": {},
   "outputs": [
    {
     "name": "stderr",
     "output_type": "stream",
     "text": [
      "C:\\Users\\kacpe\\AppData\\Local\\Temp\\ipykernel_25176\\4264914879.py:5: SettingWithCopyWarning: \n",
      "A value is trying to be set on a copy of a slice from a DataFrame.\n",
      "Try using .loc[row_indexer,col_indexer] = value instead\n",
      "\n",
      "See the caveats in the documentation: https://pandas.pydata.org/pandas-docs/stable/user_guide/indexing.html#returning-a-view-versus-a-copy\n",
      "  globals()[variable_name_2]['match_id'] = globals()[variable_name_2]['tournament_id'].astype(str) + '_' +  globals()[variable_name_2]['winner_id'].astype(str) + '_' + globals()[variable_name_2]['loser_id'].astype(str)\n"
     ]
    }
   ],
   "source": [
    "for i in range(2018, 2021):\n",
    "    variable_name=f\"github_{i}\"\n",
    "    variable_name_2=f\"bets_{i}\"\n",
    "    globals()[variable_name]['match_id'] = globals()[variable_name]['tournament_id'].astype(str) + '_' +  globals()[variable_name]['winner_id'].astype(str) + '_' + globals()[variable_name]['loser_id'].astype(str)\n",
    "    globals()[variable_name_2]['match_id'] = globals()[variable_name_2]['tournament_id'].astype(str) + '_' +  globals()[variable_name_2]['winner_id'].astype(str) + '_' + globals()[variable_name_2]['loser_id'].astype(str)"
   ]
  },
  {
   "cell_type": "code",
   "execution_count": 123,
   "metadata": {},
   "outputs": [
    {
     "name": "stdout",
     "output_type": "stream",
     "text": [
      "True\n",
      "True\n",
      "True\n",
      "True\n",
      "True\n",
      "True\n"
     ]
    }
   ],
   "source": [
    "for i in range(2018,2021):\n",
    "    variable_name=f\"github_{i}\"\n",
    "    variable_name_2=f\"bets_{i}\"\n",
    "    print(globals()[variable_name]['match_id'].nunique() == len(globals()[variable_name]))\n",
    "    print(globals()[variable_name_2]['match_id'].nunique() == len(globals()[variable_name_2]))\n"
   ]
  },
  {
   "cell_type": "markdown",
   "metadata": {},
   "source": [
    "### Sprawdźmy jeszcze czy sa jakieś mecze, które sa tylko w jednej ramce."
   ]
  },
  {
   "cell_type": "code",
   "execution_count": 124,
   "metadata": {},
   "outputs": [
    {
     "name": "stdout",
     "output_type": "stream",
     "text": [
      "[]\n",
      "[]\n",
      "[]\n",
      "[]\n",
      "[]\n",
      "[]\n"
     ]
    }
   ],
   "source": [
    "for i in range(2018,2021):\n",
    "    variable_name=f\"github_{i}\"\n",
    "    variable_name_2=f\"bets_{i}\"\n",
    "    print(globals()[variable_name_2][~globals()[variable_name_2]['match_id'].isin(globals()[variable_name]['match_id'])]['match_id'].unique())\n",
    "    print(globals()[variable_name][~globals()[variable_name]['match_id'].isin(globals()[variable_name_2]['match_id'])]['match_id'].unique())\n",
    "    "
   ]
  },
  {
   "cell_type": "code",
   "execution_count": 126,
   "metadata": {},
   "outputs": [],
   "source": [
    "folder_path = '../Tennis/Processed data/'\n",
    "bets_2020.to_csv(folder_path +'bets2020.csv', index=False)\n",
    "bets_2019.to_csv(folder_path +'bets2019.csv', index=False)\n",
    "bets_2018.to_csv(folder_path +'bets2018.csv', index=False)\n",
    "github_2020.to_csv(folder_path +'github2020.csv', index=False)\n",
    "github_2019.to_csv(folder_path +'github2019.csv', index=False)\n",
    "github_2018.to_csv(folder_path +'github2018.csv', index=False)"
   ]
  }
 ],
 "metadata": {
  "kernelspec": {
   "display_name": "Python 3",
   "language": "python",
   "name": "python3"
  },
  "language_info": {
   "codemirror_mode": {
    "name": "ipython",
    "version": 3
   },
   "file_extension": ".py",
   "mimetype": "text/x-python",
   "name": "python",
   "nbconvert_exporter": "python",
   "pygments_lexer": "ipython3",
   "version": "3.12.7"
  }
 },
 "nbformat": 4,
 "nbformat_minor": 2
}
