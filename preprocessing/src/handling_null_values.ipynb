{
 "cells": [
  {
   "cell_type": "code",
   "id": "initial_id",
   "metadata": {
    "collapsed": true,
    "ExecuteTime": {
     "end_time": "2025-01-18T19:11:23.821603Z",
     "start_time": "2025-01-18T19:11:23.818610Z"
    }
   },
   "source": [
    "import pandas as pd\n",
    "import numpy as np"
   ],
   "outputs": [],
   "execution_count": 17
  },
  {
   "cell_type": "code",
   "id": "751686bda960b15",
   "metadata": {
    "collapsed": false,
    "ExecuteTime": {
     "end_time": "2025-01-18T19:11:23.913037Z",
     "start_time": "2025-01-18T19:11:23.833676Z"
    }
   },
   "source": "matches = pd.read_csv('../data/merged_matches_with_time.csv')",
   "outputs": [],
   "execution_count": 18
  },
  {
   "metadata": {},
   "cell_type": "markdown",
   "source": "### Lets see what columns and how many null values they have",
   "id": "ab1b72b8631f22f7"
  },
  {
   "cell_type": "code",
   "id": "18e8fdad5af08800",
   "metadata": {
    "collapsed": false,
    "ExecuteTime": {
     "end_time": "2025-01-18T19:11:23.926038Z",
     "start_time": "2025-01-18T19:11:23.914016Z"
    }
   },
   "source": [
    "missing_values = matches.isnull().sum()\n",
    "\n",
    "columns_with_nan = missing_values[missing_values > 0]\n",
    "\n",
    "print(\"Columns with NaN values and their counts:\")\n",
    "print(columns_with_nan)"
   ],
   "outputs": [
    {
     "name": "stdout",
     "output_type": "stream",
     "text": [
      "Columns with NaN values and their counts:\n",
      "W1                       97\n",
      "L1                       95\n",
      "W2                      188\n",
      "L2                      188\n",
      "W3                     7192\n",
      "L3                     7192\n",
      "W4                    12590\n",
      "L4                    12590\n",
      "W5                    13550\n",
      "L5                    13550\n",
      "Wsets                    95\n",
      "Lsets                    97\n",
      "AvgW                     12\n",
      "AvgL                     12\n",
      "winner_seed            7909\n",
      "winner_entry          11716\n",
      "winner_ht                37\n",
      "loser_seed            10435\n",
      "loser_entry           10510\n",
      "loser_ht                 99\n",
      "loser_age                 1\n",
      "minutes                 189\n",
      "w_ace                   100\n",
      "w_df                    100\n",
      "w_svpt                  100\n",
      "w_1stIn                 100\n",
      "w_1stWon                100\n",
      "w_2ndWon                100\n",
      "w_SvGms                  99\n",
      "w_bpSaved               100\n",
      "w_bpFaced               100\n",
      "l_ace                   100\n",
      "l_df                    100\n",
      "l_svpt                  100\n",
      "l_1stIn                 100\n",
      "l_1stWon                100\n",
      "l_2ndWon                100\n",
      "l_SvGms                  99\n",
      "l_bpSaved               100\n",
      "l_bpFaced               100\n",
      "winner_rank               9\n",
      "winner_rank_points        9\n",
      "loser_rank               38\n",
      "loser_rank_points        38\n",
      "dtype: int64\n"
     ]
    }
   ],
   "execution_count": 19
  },
  {
   "cell_type": "markdown",
   "id": "90527656f50ffaa5",
   "metadata": {
    "collapsed": false
   },
   "source": [
    "### Null values in Wsets and Lsets are due to match not being Completed, so Walkover or Retired"
   ]
  },
  {
   "cell_type": "code",
   "id": "e0a7d094a48ae47c",
   "metadata": {
    "collapsed": false,
    "ExecuteTime": {
     "end_time": "2025-01-18T19:11:23.931056Z",
     "start_time": "2025-01-18T19:11:23.926777Z"
    }
   },
   "source": [
    "null_count = matches.loc[matches['Comment'] == 'Completed', 'Wsets'].isnull().sum()\n",
    "\n",
    "print(f\"Number of null values in 'WSets' where 'Comment' equals 'Completed': {null_count}\")"
   ],
   "outputs": [
    {
     "name": "stdout",
     "output_type": "stream",
     "text": [
      "Number of null values in 'WSets' where 'Comment' equals 'Completed': 0\n"
     ]
    }
   ],
   "execution_count": 20
  },
  {
   "cell_type": "code",
   "id": "792c31024adb9f11",
   "metadata": {
    "collapsed": false,
    "ExecuteTime": {
     "end_time": "2025-01-18T19:11:23.936085Z",
     "start_time": "2025-01-18T19:11:23.932053Z"
    }
   },
   "source": [
    "missing_winner_ht = matches[matches['winner_ht'].isnull()]['winner_name'].unique()\n",
    "missing_loser_ht = matches[matches['loser_ht'].isnull()]['loser_name'].unique()\n",
    "unique_players_missing_ht = pd.unique(np.concatenate((missing_winner_ht, missing_loser_ht)))\n",
    "\n",
    "print(\"bez wzrostu:\")\n",
    "print(unique_players_missing_ht)\n"
   ],
   "outputs": [
    {
     "name": "stdout",
     "output_type": "stream",
     "text": [
      "bez wzrostu:\n",
      "['Alen Avidzba' 'Flavio Cobolli' 'Gijs Brouwer' 'Manuel Guinard'\n",
      " 'Camilo Ugo Carabelli' 'Ryan Peniston' 'Alastair Gray'\n",
      " 'Alexander Ritschard' 'Ben Shelton' 'Andres Martin' 'Filip Misolic'\n",
      " 'Franco Agamenone' 'Rinky Hijikata' 'Juan Alejandro Hernandez Serrano'\n",
      " 'Brandon Holt' 'Aleksandar Kovacevic' 'Rio Noguchi' 'Francesco Passaro'\n",
      " 'Nicolas Alvarez Varona' 'Jabor Al Mutawa' 'Jordi Samper Montana'\n",
      " 'Takanyi Garanganga' 'Mubarak Shannan Zayid' 'Jack Mingjie Lin'\n",
      " 'Andrea Basso' 'Cole Gromley' 'Alibek Kachmazov' 'Brian Shi'\n",
      " 'Shintaro Mochizuki' 'Eduardo Nava' 'Evgenii Tiurnev'\n",
      " 'Caleb Chakravarthi' 'Juncheng Shang' 'Max Hans Rehberg'\n",
      " 'Carlos Gimeno Valero' 'Santiago Fa Rodriguez Taverna' 'Jesper De Jong'\n",
      " 'Henri Squire' 'William Blumberg' 'Hernan Casanova'\n",
      " 'Alexander Shevchenko' 'Ivan Gakhov' 'Mili Poljicak' 'Dino Prizmic'\n",
      " 'Rodrigo Pacheco Mendez' 'Nick Chappell' 'Gonzalo Villanueva'\n",
      " 'Alexis Galarneau' 'Learner Tien' 'Evan Furness' 'Facundo Mena'\n",
      " 'Seong Chan Hong' 'Yunseong Chung' 'Dragos Nicolae Madaras'\n",
      " 'Beibit Zhukayev' 'Sho Shimabukuro' 'Francesco Maestrelli'\n",
      " 'Luca Van Assche' 'Gilles Arnaud Bailly' 'Liam Krall' 'Emilio Nava']\n"
     ]
    }
   ],
   "execution_count": 21
  },
  {
   "cell_type": "markdown",
   "id": "185118f5",
   "metadata": {},
   "source": [
    "### moze w innych wierszach goscie maja podany wzrost"
   ]
  },
  {
   "cell_type": "code",
   "id": "c967b50b1a6b1291",
   "metadata": {
    "collapsed": false,
    "ExecuteTime": {
     "end_time": "2025-01-18T19:11:24.012585Z",
     "start_time": "2025-01-18T19:11:23.936085Z"
    }
   },
   "source": [
    "player_heights = {}\n",
    "\n",
    "for player in unique_players_missing_ht:\n",
    "    \n",
    "    winner_height = matches[matches['winner_name'] == player]['winner_ht'].dropna()\n",
    "    if not winner_height.empty:\n",
    "        player_heights[player] = winner_height.iloc[0]\n",
    "        continue\n",
    "    \n",
    "    \n",
    "    loser_height = matches[matches['loser_name'] == player]['loser_ht'].dropna()\n",
    "    if not loser_height.empty:\n",
    "        player_heights[player] = loser_height.iloc[0]\n",
    "\n",
    "\n",
    "print(\"Zawodnicy, ktorzy maja podany wzrost w df:\")\n",
    "for player, height in player_heights.items():\n",
    "    print(f\"{player}: {height}\")"
   ],
   "outputs": [
    {
     "name": "stdout",
     "output_type": "stream",
     "text": [
      "Zawodnicy, ktorzy maja podany wzrost w df:\n",
      "Flavio Cobolli: 183.0\n",
      "Gijs Brouwer: 191.0\n",
      "Camilo Ugo Carabelli: 185.0\n",
      "Ryan Peniston: 180.0\n",
      "Alexander Ritschard: 193.0\n",
      "Ben Shelton: 193.0\n",
      "Andres Martin: 183.0\n",
      "Filip Misolic: 180.0\n",
      "Rinky Hijikata: 178.0\n",
      "Brandon Holt: 185.0\n",
      "Aleksandar Kovacevic: 183.0\n",
      "Francesco Passaro: 180.0\n",
      "Alibek Kachmazov: 185.0\n",
      "Shintaro Mochizuki: 175.0\n",
      "Juncheng Shang: 180.0\n",
      "Max Hans Rehberg: 183.0\n",
      "Jesper De Jong: 180.0\n",
      "Alexander Shevchenko: 185.0\n",
      "Ivan Gakhov: 191.0\n",
      "Dino Prizmic: 188.0\n",
      "Rodrigo Pacheco Mendez: 188.0\n",
      "Nick Chappell: 178.0\n",
      "Alexis Galarneau: 180.0\n",
      "Learner Tien: 180.0\n",
      "Yunseong Chung: 178.0\n",
      "Beibit Zhukayev: 198.0\n",
      "Sho Shimabukuro: 180.0\n",
      "Luca Van Assche: 178.0\n",
      "Emilio Nava: 183.0\n"
     ]
    }
   ],
   "execution_count": 22
  },
  {
   "cell_type": "markdown",
   "id": "c7ac0276",
   "metadata": {},
   "source": [
    "spore rozczarowanie..."
   ]
  },
  {
   "cell_type": "markdown",
   "id": "40df6773",
   "metadata": {},
   "source": [
    "### Zmiana brakujacych wartosci w kolumnach setowych, dla meczów zakonczonych przez: walkover retired awarded"
   ]
  },
  {
   "cell_type": "code",
   "id": "716d434c",
   "metadata": {
    "ExecuteTime": {
     "end_time": "2025-01-18T19:11:24.017096Z",
     "start_time": "2025-01-18T19:11:24.013581Z"
    }
   },
   "source": [
    "matches['Comment'] = matches['Comment'].replace('Rrtired', 'Retired')"
   ],
   "outputs": [],
   "execution_count": 23
  },
  {
   "cell_type": "code",
   "id": "94924572",
   "metadata": {
    "ExecuteTime": {
     "end_time": "2025-01-18T19:11:24.025644Z",
     "start_time": "2025-01-18T19:11:24.018096Z"
    }
   },
   "source": [
    "\n",
    "columns_to_update = ['W1', 'W2', 'W3', 'W4', 'W5', 'L1', 'L2', 'L3', 'L4', 'L5','Wsets','Lsets', 'minutes']\n",
    "matches.loc[matches['Comment'].isin(['Disqualified','Retired', 'Walkover', 'Awarded']), columns_to_update]=matches.loc[matches['Comment'].isin(['Disqualified','Retired', 'Walkover', 'Awarded']), columns_to_update].fillna(0)"
   ],
   "outputs": [],
   "execution_count": 24
  },
  {
   "cell_type": "code",
   "id": "ba715e50",
   "metadata": {
    "ExecuteTime": {
     "end_time": "2025-01-18T19:11:24.031676Z",
     "start_time": "2025-01-18T19:11:24.026179Z"
    }
   },
   "source": [
    "matches.loc[matches['match_id'] =='Estoril_2022_202104_126207', 'Wsets'] = 2\n",
    "matches.loc[matches['match_id'] =='Metz_2019_104542_105379', ['W2','L2', 'W3','L3', 'Wsets']] = [7, 6, 6, 3, 2]"
   ],
   "outputs": [],
   "execution_count": 25
  },
  {
   "cell_type": "markdown",
   "id": "d412af14",
   "metadata": {},
   "source": [
    "### Entry"
   ]
  },
  {
   "cell_type": "code",
   "id": "1c3be7b4",
   "metadata": {
    "ExecuteTime": {
     "end_time": "2025-01-18T19:11:24.058833Z",
     "start_time": "2025-01-18T19:11:24.032677Z"
    }
   },
   "source": [
    "# Reszty nie chcemy trzymać, bo to nie wiadomo co albo niepotrzebe\n",
    "values_to_encode = ['WC', 'Q', 'LL']\n",
    "\n",
    "# Replace unwanted values with NaN\n",
    "matches['winner_entry'] = matches['winner_entry'].where(matches['winner_entry'].isin(values_to_encode))\n",
    "matches['loser_entry'] = matches['loser_entry'].where(matches['loser_entry'].isin(values_to_encode))\n",
    "\n",
    "# One-hot encode the filtered column\n",
    "matches = pd.get_dummies(matches, columns=['winner_entry'], prefix='winner_entry', prefix_sep='_')\n",
    "matches = pd.get_dummies(matches, columns=['loser_entry'], prefix='loser_entry', prefix_sep='_')"
   ],
   "outputs": [],
   "execution_count": 26
  },
  {
   "cell_type": "markdown",
   "id": "017b5dde",
   "metadata": {},
   "source": [
    "### Seed (rozstawienie), zamieniamy kolumnę która określała nr rozstawienia zawodnika i było NaN gdy zawodnik był nierozstawiony na binarną kolumnę określającą czy zawodnik był rozstawione"
   ]
  },
  {
   "cell_type": "code",
   "id": "cdcb601b",
   "metadata": {
    "ExecuteTime": {
     "end_time": "2025-01-18T19:11:24.069752Z",
     "start_time": "2025-01-18T19:11:24.059834Z"
    }
   },
   "source": [
    "matches['winner_is_seeded'] = matches['winner_seed'].notna().astype(int)\n",
    "matches['loser_is_seeded'] = matches['loser_seed'].notna().astype(int)\n",
    "matches=matches.drop(columns=['winner_seed', 'loser_seed'])"
   ],
   "outputs": [],
   "execution_count": 27
  },
  {
   "cell_type": "markdown",
   "id": "1648112c",
   "metadata": {},
   "source": [
    "### Minutes, dla meczy które się ukończyły braki danych zastępujemy średnim czasem meczu"
   ]
  },
  {
   "cell_type": "code",
   "id": "a0056c66",
   "metadata": {
    "ExecuteTime": {
     "end_time": "2025-01-18T19:11:24.080755Z",
     "start_time": "2025-01-18T19:11:24.070716Z"
    }
   },
   "source": [
    "average_minutes = matches[matches['Comment'] == 'Completed'].groupby('best_of')['minutes'].mean().round()\n",
    "matches.loc[(matches['Comment'] == 'Completed') & (matches['minutes'].isnull()), 'minutes'] = matches['best_of'].map(average_minutes)"
   ],
   "outputs": [],
   "execution_count": 28
  },
  {
   "cell_type": "markdown",
   "id": "e939c922",
   "metadata": {},
   "source": [
    "### Rank i Rank points, Nan dla Rank oraz Rank points oznacza zawodnika bez rankingu"
   ]
  },
  {
   "cell_type": "code",
   "id": "03959ea3",
   "metadata": {
    "ExecuteTime": {
     "end_time": "2025-01-18T19:11:24.086381Z",
     "start_time": "2025-01-18T19:11:24.081754Z"
    }
   },
   "source": [
    "matches.loc[matches['winner_rank'].isnull(), 'winner_rank'] = 2000\n",
    "matches.loc[matches['loser_rank'].isnull(), 'loser_rank'] = 2000\n",
    "matches.loc[matches['winner_rank_points'].isnull(), 'winner_rank_points'] = 0\n",
    "matches.loc[matches['loser_rank_points'].isnull(), 'loser_rank_points'] = 0"
   ],
   "outputs": [],
   "execution_count": 29
  },
  {
   "cell_type": "markdown",
   "id": "2cdda778",
   "metadata": {},
   "source": [
    "### AGE, tylko 2 braki danych, ręcznie poprawiamy"
   ]
  },
  {
   "cell_type": "code",
   "id": "7635400d",
   "metadata": {
    "ExecuteTime": {
     "end_time": "2025-01-18T19:11:24.091811Z",
     "start_time": "2025-01-18T19:11:24.087284Z"
    }
   },
   "source": [
    "matches.loc[matches['loser_name']=='Liam Krall', 'loser_age'] = 21\n",
    "matches.loc[matches['loser_name']=='Manas Dhamne', 'loser_age'] = 21"
   ],
   "outputs": [],
   "execution_count": 30
  },
  {
   "cell_type": "code",
   "source": [
    "missing_values = matches.isnull().sum()\n",
    "\n",
    "columns_with_nan = missing_values[missing_values > 0]\n",
    "\n",
    "print(\"Columns with NaN values and their counts:\")\n",
    "print(columns_with_nan)"
   ],
   "metadata": {
    "collapsed": false,
    "ExecuteTime": {
     "end_time": "2025-01-18T19:11:24.102810Z",
     "start_time": "2025-01-18T19:11:24.091811Z"
    }
   },
   "id": "7bd3618565e73269",
   "outputs": [
    {
     "name": "stdout",
     "output_type": "stream",
     "text": [
      "Columns with NaN values and their counts:\n",
      "W3            6832\n",
      "L3            6832\n",
      "W4           12171\n",
      "L4           12171\n",
      "W5           13119\n",
      "L5           13119\n",
      "AvgW            12\n",
      "AvgL            12\n",
      "winner_ht       37\n",
      "loser_ht        99\n",
      "w_ace          100\n",
      "w_df           100\n",
      "w_svpt         100\n",
      "w_1stIn        100\n",
      "w_1stWon       100\n",
      "w_2ndWon       100\n",
      "w_SvGms         99\n",
      "w_bpSaved      100\n",
      "w_bpFaced      100\n",
      "l_ace          100\n",
      "l_df           100\n",
      "l_svpt         100\n",
      "l_1stIn        100\n",
      "l_1stWon       100\n",
      "l_2ndWon       100\n",
      "l_SvGms         99\n",
      "l_bpSaved      100\n",
      "l_bpFaced      100\n",
      "dtype: int64\n"
     ]
    }
   ],
   "execution_count": 31
  },
  {
   "cell_type": "code",
   "source": "matches.to_csv('../data/matches.csv', index=False)",
   "metadata": {
    "ExecuteTime": {
     "end_time": "2025-01-18T19:11:24.390226Z",
     "start_time": "2025-01-18T19:11:24.103811Z"
    }
   },
   "id": "ea91a00a",
   "outputs": [],
   "execution_count": 32
  },
  {
   "metadata": {
    "ExecuteTime": {
     "end_time": "2025-01-18T19:11:24.393213Z",
     "start_time": "2025-01-18T19:11:24.391189Z"
    }
   },
   "cell_type": "code",
   "source": "",
   "id": "377720c2d608ce96",
   "outputs": [],
   "execution_count": 32
  }
 ],
 "metadata": {
  "kernelspec": {
   "display_name": "Python 3",
   "language": "python",
   "name": "python3"
  },
  "language_info": {
   "codemirror_mode": {
    "name": "ipython",
    "version": 3
   },
   "file_extension": ".py",
   "mimetype": "text/x-python",
   "name": "python",
   "nbconvert_exporter": "python",
   "pygments_lexer": "ipython3",
   "version": "3.10.0"
  }
 },
 "nbformat": 4,
 "nbformat_minor": 5
}
