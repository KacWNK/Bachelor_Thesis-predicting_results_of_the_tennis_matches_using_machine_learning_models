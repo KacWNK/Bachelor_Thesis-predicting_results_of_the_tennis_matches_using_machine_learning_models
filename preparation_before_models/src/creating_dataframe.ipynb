{
 "cells": [
  {
   "cell_type": "code",
   "id": "initial_id",
   "metadata": {
    "collapsed": true,
    "ExecuteTime": {
     "end_time": "2025-01-18T19:20:21.221627Z",
     "start_time": "2025-01-18T19:20:21.218530Z"
    }
   },
   "source": [
    "import pandas as pd\n",
    "import os"
   ],
   "outputs": [],
   "execution_count": 25
  },
  {
   "metadata": {
    "ExecuteTime": {
     "end_time": "2025-01-18T19:20:22.261030Z",
     "start_time": "2025-01-18T19:20:21.898522Z"
    }
   },
   "cell_type": "code",
   "source": [
    "directory = \"../../feature_creation/data/created_features_separate\"\n",
    "\n",
    "merged_new_features = None\n",
    "\n",
    "for filename in os.listdir(directory):\n",
    "    if filename.endswith(\".csv\") and filename != \"features_merged.csv\" and filename != \"aggregate_player_match_stats_diff.csv\":\n",
    "        file_path = os.path.join(directory, filename)\n",
    "        print(f\"Processing {filename}...\")  \n",
    "        \n",
    "        df = pd.read_csv(file_path)\n",
    "        \n",
    "        if merged_new_features is None:\n",
    "            merged_new_features = df\n",
    "        else:\n",
    "            merged_new_features = pd.merge(merged_new_features, df, on=\"match_id\", how=\"outer\")\n",
    "\n",
    "print(\"All features merged\")"
   ],
   "id": "6783d9a861327cb8",
   "outputs": [
    {
     "name": "stdout",
     "output_type": "stream",
     "text": [
      "Processing aggregate_player_match_stats.csv...\n",
      "Processing elo.csv...\n",
      "Processing fatigue.csv...\n",
      "Processing h2h.csv...\n",
      "Processing home_advantage.csv...\n",
      "Processing injury.csv...\n",
      "Processing last_10_win_record.csv...\n",
      "Processing player_current_tournament_record.csv...\n",
      "Processing tournament_win_loss_history.csv...\n",
      "Processing weather.csv...\n",
      "All features merged\n"
     ]
    }
   ],
   "execution_count": 26
  },
  {
   "metadata": {
    "ExecuteTime": {
     "end_time": "2025-01-18T19:20:22.862127Z",
     "start_time": "2025-01-18T19:20:22.763570Z"
    }
   },
   "cell_type": "code",
   "source": "preprocessed_matches = pd.read_csv(\"../../preprocessing/data/matches.csv\")",
   "id": "7510901c5f4b9897",
   "outputs": [],
   "execution_count": 27
  },
  {
   "metadata": {
    "ExecuteTime": {
     "end_time": "2025-01-18T19:20:24.288632Z",
     "start_time": "2025-01-18T19:20:23.339397Z"
    }
   },
   "cell_type": "code",
   "source": "merged_new_features.to_csv(\"../../feature_creation/data/features_merged.csv\", index=False)",
   "id": "390f76b16b6e57d5",
   "outputs": [],
   "execution_count": 28
  },
  {
   "metadata": {
    "ExecuteTime": {
     "end_time": "2025-01-18T19:20:24.363362Z",
     "start_time": "2025-01-18T19:20:24.288632Z"
    }
   },
   "cell_type": "code",
   "source": [
    "matches = pd.merge(preprocessed_matches, merged_new_features, on=\"match_id\", how=\"outer\")\n",
    "matches = matches.sort_values(by=['Date']).reset_index(drop=True)"
   ],
   "id": "55564a38fac1c06d",
   "outputs": [],
   "execution_count": 29
  },
  {
   "metadata": {
    "ExecuteTime": {
     "end_time": "2025-01-18T19:20:24.386904Z",
     "start_time": "2025-01-18T19:20:24.364344Z"
    }
   },
   "cell_type": "code",
   "source": "matches",
   "id": "253ea6d9b08a0bc5",
   "outputs": [
    {
     "data": {
      "text/plain": [
       "      tournament_location         tournament_name        Date  \\\n",
       "0                Brisbane  Brisbane International  2017-12-31   \n",
       "1                Brisbane  Brisbane International  2017-12-31   \n",
       "2                Brisbane  Brisbane International  2018-01-01   \n",
       "3                    Pune               Tata Open  2018-01-01   \n",
       "4                    Pune               Tata Open  2018-01-01   \n",
       "...                   ...                     ...         ...   \n",
       "14106               Sofia              Sofia Open  2023-11-10   \n",
       "14107                Metz         Open de Moselle  2023-11-10   \n",
       "14108                Metz         Open de Moselle  2023-11-10   \n",
       "14109                Metz         Open de Moselle  2023-11-11   \n",
       "14110               Sofia              Sofia Open  2023-11-11   \n",
       "\n",
       "      tournament_level indoor_or_outdoor Surface       Round   W1   L1   W2  \\\n",
       "0               ATP250           Outdoor    Hard   1st Round  7.0  6.0  6.0   \n",
       "1               ATP250           Outdoor    Hard   1st Round  6.0  4.0  7.0   \n",
       "2               ATP250           Outdoor    Hard   1st Round  6.0  3.0  6.0   \n",
       "3               ATP250           Outdoor    Hard   1st Round  6.0  0.0  6.0   \n",
       "4               ATP250           Outdoor    Hard   1st Round  6.0  3.0  7.0   \n",
       "...                ...               ...     ...         ...  ...  ...  ...   \n",
       "14106           ATP250            Indoor    Hard  Semifinals  6.0  2.0  7.0   \n",
       "14107           ATP250            Indoor    Hard  Semifinals  6.0  0.0  6.0   \n",
       "14108           ATP250            Indoor    Hard  Semifinals  6.0  4.0  6.0   \n",
       "14109           ATP250            Indoor    Hard   The Final  6.0  3.0  6.0   \n",
       "14110           ATP250            Indoor    Hard   The Final  7.0  6.0  2.0   \n",
       "\n",
       "       ...  Loser_Set_Diff_Tournament  Loser_Game_Diff_Tournament  \\\n",
       "0      ...                        0.0                         0.0   \n",
       "1      ...                        0.0                         0.0   \n",
       "2      ...                        0.0                         0.0   \n",
       "3      ...                        0.0                         0.0   \n",
       "4      ...                        0.0                         0.0   \n",
       "...    ...                        ...                         ...   \n",
       "14106  ...                        3.0                         8.0   \n",
       "14107  ...                        5.0                        11.0   \n",
       "14108  ...                        5.0                        10.0   \n",
       "14109  ...                        7.0                        14.0   \n",
       "14110  ...                        8.0                        26.0   \n",
       "\n",
       "       winner_total_wins_tournament_history  \\\n",
       "0                                       0.0   \n",
       "1                                       0.0   \n",
       "2                                       0.0   \n",
       "3                                       0.0   \n",
       "4                                       0.0   \n",
       "...                                     ...   \n",
       "14106                                   5.0   \n",
       "14107                                   3.0   \n",
       "14108                                   3.0   \n",
       "14109                                   4.0   \n",
       "14110                                   6.0   \n",
       "\n",
       "       winner_total_losses_tournament_history  \\\n",
       "0                                         0.0   \n",
       "1                                         0.0   \n",
       "2                                         0.0   \n",
       "3                                         0.0   \n",
       "4                                         0.0   \n",
       "...                                       ...   \n",
       "14106                                     4.0   \n",
       "14107                                     4.0   \n",
       "14108                                     0.0   \n",
       "14109                                     4.0   \n",
       "14110                                     4.0   \n",
       "\n",
       "       loser_total_wins_tournament_history  \\\n",
       "0                                      0.0   \n",
       "1                                      0.0   \n",
       "2                                      0.0   \n",
       "3                                      0.0   \n",
       "4                                      0.0   \n",
       "...                                    ...   \n",
       "14106                                  3.0   \n",
       "14107                                  3.0   \n",
       "14108                                  4.0   \n",
       "14109                                  4.0   \n",
       "14110                                  4.0   \n",
       "\n",
       "       loser_total_losses_tournament_history  temperature_2m  \\\n",
       "0                                        0.0            27.0   \n",
       "1                                        0.0            28.9   \n",
       "2                                        0.0            19.7   \n",
       "3                                        0.0            24.2   \n",
       "4                                        0.0            16.2   \n",
       "...                                      ...             ...   \n",
       "14106                                    0.0             6.6   \n",
       "14107                                    0.0            16.1   \n",
       "14108                                    2.0            16.1   \n",
       "14109                                    0.0            13.0   \n",
       "14110                                    0.0            12.8   \n",
       "\n",
       "       relative_humidity_2m  windspeed_10m apparent_temperature  \n",
       "0                        77            9.6                 30.9  \n",
       "1                        68           15.2                 31.8  \n",
       "2                        52            8.8                 18.3  \n",
       "3                        83            6.9                 27.6  \n",
       "4                        56           10.9                 13.9  \n",
       "...                     ...            ...                  ...  \n",
       "14106                    88           13.7                  3.3  \n",
       "14107                    49            4.6                 14.3  \n",
       "14108                    49            4.6                 14.3  \n",
       "14109                    57            4.5                 11.0  \n",
       "14110                    69            4.7                 11.4  \n",
       "\n",
       "[14111 rows x 159 columns]"
      ],
      "text/html": [
       "<div>\n",
       "<style scoped>\n",
       "    .dataframe tbody tr th:only-of-type {\n",
       "        vertical-align: middle;\n",
       "    }\n",
       "\n",
       "    .dataframe tbody tr th {\n",
       "        vertical-align: top;\n",
       "    }\n",
       "\n",
       "    .dataframe thead th {\n",
       "        text-align: right;\n",
       "    }\n",
       "</style>\n",
       "<table border=\"1\" class=\"dataframe\">\n",
       "  <thead>\n",
       "    <tr style=\"text-align: right;\">\n",
       "      <th></th>\n",
       "      <th>tournament_location</th>\n",
       "      <th>tournament_name</th>\n",
       "      <th>Date</th>\n",
       "      <th>tournament_level</th>\n",
       "      <th>indoor_or_outdoor</th>\n",
       "      <th>Surface</th>\n",
       "      <th>Round</th>\n",
       "      <th>W1</th>\n",
       "      <th>L1</th>\n",
       "      <th>W2</th>\n",
       "      <th>...</th>\n",
       "      <th>Loser_Set_Diff_Tournament</th>\n",
       "      <th>Loser_Game_Diff_Tournament</th>\n",
       "      <th>winner_total_wins_tournament_history</th>\n",
       "      <th>winner_total_losses_tournament_history</th>\n",
       "      <th>loser_total_wins_tournament_history</th>\n",
       "      <th>loser_total_losses_tournament_history</th>\n",
       "      <th>temperature_2m</th>\n",
       "      <th>relative_humidity_2m</th>\n",
       "      <th>windspeed_10m</th>\n",
       "      <th>apparent_temperature</th>\n",
       "    </tr>\n",
       "  </thead>\n",
       "  <tbody>\n",
       "    <tr>\n",
       "      <th>0</th>\n",
       "      <td>Brisbane</td>\n",
       "      <td>Brisbane International</td>\n",
       "      <td>2017-12-31</td>\n",
       "      <td>ATP250</td>\n",
       "      <td>Outdoor</td>\n",
       "      <td>Hard</td>\n",
       "      <td>1st Round</td>\n",
       "      <td>7.0</td>\n",
       "      <td>6.0</td>\n",
       "      <td>6.0</td>\n",
       "      <td>...</td>\n",
       "      <td>0.0</td>\n",
       "      <td>0.0</td>\n",
       "      <td>0.0</td>\n",
       "      <td>0.0</td>\n",
       "      <td>0.0</td>\n",
       "      <td>0.0</td>\n",
       "      <td>27.0</td>\n",
       "      <td>77</td>\n",
       "      <td>9.6</td>\n",
       "      <td>30.9</td>\n",
       "    </tr>\n",
       "    <tr>\n",
       "      <th>1</th>\n",
       "      <td>Brisbane</td>\n",
       "      <td>Brisbane International</td>\n",
       "      <td>2017-12-31</td>\n",
       "      <td>ATP250</td>\n",
       "      <td>Outdoor</td>\n",
       "      <td>Hard</td>\n",
       "      <td>1st Round</td>\n",
       "      <td>6.0</td>\n",
       "      <td>4.0</td>\n",
       "      <td>7.0</td>\n",
       "      <td>...</td>\n",
       "      <td>0.0</td>\n",
       "      <td>0.0</td>\n",
       "      <td>0.0</td>\n",
       "      <td>0.0</td>\n",
       "      <td>0.0</td>\n",
       "      <td>0.0</td>\n",
       "      <td>28.9</td>\n",
       "      <td>68</td>\n",
       "      <td>15.2</td>\n",
       "      <td>31.8</td>\n",
       "    </tr>\n",
       "    <tr>\n",
       "      <th>2</th>\n",
       "      <td>Brisbane</td>\n",
       "      <td>Brisbane International</td>\n",
       "      <td>2018-01-01</td>\n",
       "      <td>ATP250</td>\n",
       "      <td>Outdoor</td>\n",
       "      <td>Hard</td>\n",
       "      <td>1st Round</td>\n",
       "      <td>6.0</td>\n",
       "      <td>3.0</td>\n",
       "      <td>6.0</td>\n",
       "      <td>...</td>\n",
       "      <td>0.0</td>\n",
       "      <td>0.0</td>\n",
       "      <td>0.0</td>\n",
       "      <td>0.0</td>\n",
       "      <td>0.0</td>\n",
       "      <td>0.0</td>\n",
       "      <td>19.7</td>\n",
       "      <td>52</td>\n",
       "      <td>8.8</td>\n",
       "      <td>18.3</td>\n",
       "    </tr>\n",
       "    <tr>\n",
       "      <th>3</th>\n",
       "      <td>Pune</td>\n",
       "      <td>Tata Open</td>\n",
       "      <td>2018-01-01</td>\n",
       "      <td>ATP250</td>\n",
       "      <td>Outdoor</td>\n",
       "      <td>Hard</td>\n",
       "      <td>1st Round</td>\n",
       "      <td>6.0</td>\n",
       "      <td>0.0</td>\n",
       "      <td>6.0</td>\n",
       "      <td>...</td>\n",
       "      <td>0.0</td>\n",
       "      <td>0.0</td>\n",
       "      <td>0.0</td>\n",
       "      <td>0.0</td>\n",
       "      <td>0.0</td>\n",
       "      <td>0.0</td>\n",
       "      <td>24.2</td>\n",
       "      <td>83</td>\n",
       "      <td>6.9</td>\n",
       "      <td>27.6</td>\n",
       "    </tr>\n",
       "    <tr>\n",
       "      <th>4</th>\n",
       "      <td>Pune</td>\n",
       "      <td>Tata Open</td>\n",
       "      <td>2018-01-01</td>\n",
       "      <td>ATP250</td>\n",
       "      <td>Outdoor</td>\n",
       "      <td>Hard</td>\n",
       "      <td>1st Round</td>\n",
       "      <td>6.0</td>\n",
       "      <td>3.0</td>\n",
       "      <td>7.0</td>\n",
       "      <td>...</td>\n",
       "      <td>0.0</td>\n",
       "      <td>0.0</td>\n",
       "      <td>0.0</td>\n",
       "      <td>0.0</td>\n",
       "      <td>0.0</td>\n",
       "      <td>0.0</td>\n",
       "      <td>16.2</td>\n",
       "      <td>56</td>\n",
       "      <td>10.9</td>\n",
       "      <td>13.9</td>\n",
       "    </tr>\n",
       "    <tr>\n",
       "      <th>...</th>\n",
       "      <td>...</td>\n",
       "      <td>...</td>\n",
       "      <td>...</td>\n",
       "      <td>...</td>\n",
       "      <td>...</td>\n",
       "      <td>...</td>\n",
       "      <td>...</td>\n",
       "      <td>...</td>\n",
       "      <td>...</td>\n",
       "      <td>...</td>\n",
       "      <td>...</td>\n",
       "      <td>...</td>\n",
       "      <td>...</td>\n",
       "      <td>...</td>\n",
       "      <td>...</td>\n",
       "      <td>...</td>\n",
       "      <td>...</td>\n",
       "      <td>...</td>\n",
       "      <td>...</td>\n",
       "      <td>...</td>\n",
       "      <td>...</td>\n",
       "    </tr>\n",
       "    <tr>\n",
       "      <th>14106</th>\n",
       "      <td>Sofia</td>\n",
       "      <td>Sofia Open</td>\n",
       "      <td>2023-11-10</td>\n",
       "      <td>ATP250</td>\n",
       "      <td>Indoor</td>\n",
       "      <td>Hard</td>\n",
       "      <td>Semifinals</td>\n",
       "      <td>6.0</td>\n",
       "      <td>2.0</td>\n",
       "      <td>7.0</td>\n",
       "      <td>...</td>\n",
       "      <td>3.0</td>\n",
       "      <td>8.0</td>\n",
       "      <td>5.0</td>\n",
       "      <td>4.0</td>\n",
       "      <td>3.0</td>\n",
       "      <td>0.0</td>\n",
       "      <td>6.6</td>\n",
       "      <td>88</td>\n",
       "      <td>13.7</td>\n",
       "      <td>3.3</td>\n",
       "    </tr>\n",
       "    <tr>\n",
       "      <th>14107</th>\n",
       "      <td>Metz</td>\n",
       "      <td>Open de Moselle</td>\n",
       "      <td>2023-11-10</td>\n",
       "      <td>ATP250</td>\n",
       "      <td>Indoor</td>\n",
       "      <td>Hard</td>\n",
       "      <td>Semifinals</td>\n",
       "      <td>6.0</td>\n",
       "      <td>0.0</td>\n",
       "      <td>6.0</td>\n",
       "      <td>...</td>\n",
       "      <td>5.0</td>\n",
       "      <td>11.0</td>\n",
       "      <td>3.0</td>\n",
       "      <td>4.0</td>\n",
       "      <td>3.0</td>\n",
       "      <td>0.0</td>\n",
       "      <td>16.1</td>\n",
       "      <td>49</td>\n",
       "      <td>4.6</td>\n",
       "      <td>14.3</td>\n",
       "    </tr>\n",
       "    <tr>\n",
       "      <th>14108</th>\n",
       "      <td>Metz</td>\n",
       "      <td>Open de Moselle</td>\n",
       "      <td>2023-11-10</td>\n",
       "      <td>ATP250</td>\n",
       "      <td>Indoor</td>\n",
       "      <td>Hard</td>\n",
       "      <td>Semifinals</td>\n",
       "      <td>6.0</td>\n",
       "      <td>4.0</td>\n",
       "      <td>6.0</td>\n",
       "      <td>...</td>\n",
       "      <td>5.0</td>\n",
       "      <td>10.0</td>\n",
       "      <td>3.0</td>\n",
       "      <td>0.0</td>\n",
       "      <td>4.0</td>\n",
       "      <td>2.0</td>\n",
       "      <td>16.1</td>\n",
       "      <td>49</td>\n",
       "      <td>4.6</td>\n",
       "      <td>14.3</td>\n",
       "    </tr>\n",
       "    <tr>\n",
       "      <th>14109</th>\n",
       "      <td>Metz</td>\n",
       "      <td>Open de Moselle</td>\n",
       "      <td>2023-11-11</td>\n",
       "      <td>ATP250</td>\n",
       "      <td>Indoor</td>\n",
       "      <td>Hard</td>\n",
       "      <td>The Final</td>\n",
       "      <td>6.0</td>\n",
       "      <td>3.0</td>\n",
       "      <td>6.0</td>\n",
       "      <td>...</td>\n",
       "      <td>7.0</td>\n",
       "      <td>14.0</td>\n",
       "      <td>4.0</td>\n",
       "      <td>4.0</td>\n",
       "      <td>4.0</td>\n",
       "      <td>0.0</td>\n",
       "      <td>13.0</td>\n",
       "      <td>57</td>\n",
       "      <td>4.5</td>\n",
       "      <td>11.0</td>\n",
       "    </tr>\n",
       "    <tr>\n",
       "      <th>14110</th>\n",
       "      <td>Sofia</td>\n",
       "      <td>Sofia Open</td>\n",
       "      <td>2023-11-11</td>\n",
       "      <td>ATP250</td>\n",
       "      <td>Indoor</td>\n",
       "      <td>Hard</td>\n",
       "      <td>The Final</td>\n",
       "      <td>7.0</td>\n",
       "      <td>6.0</td>\n",
       "      <td>2.0</td>\n",
       "      <td>...</td>\n",
       "      <td>8.0</td>\n",
       "      <td>26.0</td>\n",
       "      <td>6.0</td>\n",
       "      <td>4.0</td>\n",
       "      <td>4.0</td>\n",
       "      <td>0.0</td>\n",
       "      <td>12.8</td>\n",
       "      <td>69</td>\n",
       "      <td>4.7</td>\n",
       "      <td>11.4</td>\n",
       "    </tr>\n",
       "  </tbody>\n",
       "</table>\n",
       "<p>14111 rows × 159 columns</p>\n",
       "</div>"
      ]
     },
     "execution_count": 30,
     "metadata": {},
     "output_type": "execute_result"
    }
   ],
   "execution_count": 30
  },
  {
   "metadata": {},
   "cell_type": "markdown",
   "source": "### Dropimy kolumny, które nie będą używane do predykcji",
   "id": "d10c968a399da4a4"
  },
  {
   "metadata": {
    "ExecuteTime": {
     "end_time": "2025-01-18T19:20:25.725850Z",
     "start_time": "2025-01-18T19:20:25.714915Z"
    }
   },
   "cell_type": "code",
   "source": [
    "matches = matches.drop(columns=[\"W1\", \"L1\", \"W2\", \"L2\", \"W3\", \"L3\", \"W4\", \"L4\", \"W5\", \"L5\", \"Wsets\", \"Lsets\", \"tournament_location\", \"tournament_name\", \"loser_id\", \"winner_id\", \"tournament_id\", \"draw_size\", \"tournament_date\", \"winner_name\", \"winner_ioc\", \"winner_ht\", \"loser_name\", \"loser_ht\", \"loser_ioc\", \"winner_rank_points\", \"loser_rank_points\", \"tournament_country\", \"Round\", \"time\", \n",
    "'minutes',\n",
    "'w_ace',\n",
    " 'w_df',\n",
    " 'w_svpt',\n",
    " 'w_1stIn',\n",
    " 'w_1stWon',\n",
    " 'w_2ndWon',\n",
    " 'w_SvGms',\n",
    " 'w_bpSaved',\n",
    " 'w_bpFaced',\n",
    "'l_ace',\n",
    " 'l_df',\n",
    " 'l_svpt',\n",
    " 'l_1stIn',\n",
    " 'l_1stWon',\n",
    " 'l_2ndWon',\n",
    " 'l_SvGms',\n",
    " 'l_bpSaved',\n",
    " 'l_bpFaced',\n",
    " 'Comment'\n",
    "                                ])"
   ],
   "id": "7ac6d444a86097bf",
   "outputs": [],
   "execution_count": 34
  },
  {
   "metadata": {},
   "cell_type": "markdown",
   "source": "### Sprawdźmy czy nie mamy braków danych",
   "id": "c1d1290766af71bf"
  },
  {
   "metadata": {
    "ExecuteTime": {
     "end_time": "2025-01-18T19:20:26.264840Z",
     "start_time": "2025-01-18T19:20:26.254692Z"
    }
   },
   "cell_type": "code",
   "source": [
    "missing_values = matches.isnull().sum()\n",
    "\n",
    "columns_with_nan = missing_values[missing_values > 0]\n",
    "\n",
    "print(\"Columns with NaN values and their counts:\")\n",
    "print(columns_with_nan)"
   ],
   "id": "93c0e29829f8359",
   "outputs": [
    {
     "name": "stdout",
     "output_type": "stream",
     "text": [
      "Columns with NaN values and their counts:\n",
      "AvgW    12\n",
      "AvgL    12\n",
      "dtype: int64\n"
     ]
    }
   ],
   "execution_count": 35
  },
  {
   "metadata": {},
   "cell_type": "markdown",
   "source": "### Chcemy, żeby wszystkie kolumny były numeryczne",
   "id": "d8e190d44447cc28"
  },
  {
   "metadata": {
    "ExecuteTime": {
     "end_time": "2025-01-18T19:20:27.112661Z",
     "start_time": "2025-01-18T19:20:27.108694Z"
    }
   },
   "cell_type": "code",
   "source": [
    "def is_numeric_or_castable(series):\n",
    "    try:\n",
    "        pd.to_numeric(series)\n",
    "        return True\n",
    "    except TypeError:\n",
    "        print(series)\n",
    "    except ValueError:\n",
    "        return False"
   ],
   "id": "daa7d88c19248b1e",
   "outputs": [],
   "execution_count": 36
  },
  {
   "metadata": {
    "ExecuteTime": {
     "end_time": "2025-01-18T19:20:27.345401Z",
     "start_time": "2025-01-18T19:20:27.336313Z"
    }
   },
   "cell_type": "code",
   "source": [
    "problematic_columns = [col for col in matches.columns if not is_numeric_or_castable(matches[col])]\n",
    "\n",
    "if not problematic_columns:\n",
    "    print(\"All columns are numeric or can be cast to numeric values.\")\n",
    "else:\n",
    "    print(f\"The following columns are not numeric or contain non-castable values: {problematic_columns}\")"
   ],
   "id": "3885d0938f840e9b",
   "outputs": [
    {
     "name": "stdout",
     "output_type": "stream",
     "text": [
      "The following columns are not numeric or contain non-castable values: ['Date', 'tournament_level', 'indoor_or_outdoor', 'Surface', 'match_id', 'winner_hand', 'loser_hand']\n"
     ]
    }
   ],
   "execution_count": 37
  },
  {
   "metadata": {
    "ExecuteTime": {
     "end_time": "2025-01-18T19:20:27.532538Z",
     "start_time": "2025-01-18T19:20:27.528556Z"
    }
   },
   "cell_type": "code",
   "source": "matches['indoor_or_outdoor'].unique()",
   "id": "dc7045f7dc43b81c",
   "outputs": [
    {
     "data": {
      "text/plain": [
       "array(['Outdoor', 'Indoor'], dtype=object)"
      ]
     },
     "execution_count": 38,
     "metadata": {},
     "output_type": "execute_result"
    }
   ],
   "execution_count": 38
  },
  {
   "metadata": {
    "ExecuteTime": {
     "end_time": "2025-01-18T19:20:27.826520Z",
     "start_time": "2025-01-18T19:20:27.820992Z"
    }
   },
   "cell_type": "code",
   "source": [
    "matches['indoor_or_outdoor'] = matches['indoor_or_outdoor'].map({'Outdoor': 1, 'Indoor': 0})\n",
    "matches.rename(columns={'indoor_or_outdoor': 'outdoor'}, inplace=True)"
   ],
   "id": "95a9562ea010f97",
   "outputs": [],
   "execution_count": 39
  },
  {
   "metadata": {
    "ExecuteTime": {
     "end_time": "2025-01-18T19:20:28.058900Z",
     "start_time": "2025-01-18T19:20:28.054568Z"
    }
   },
   "cell_type": "code",
   "source": "matches['Surface'].unique()",
   "id": "1c2a61fadddbadf1",
   "outputs": [
    {
     "data": {
      "text/plain": [
       "array(['Hard', 'Clay', 'Grass'], dtype=object)"
      ]
     },
     "execution_count": 40,
     "metadata": {},
     "output_type": "execute_result"
    }
   ],
   "execution_count": 40
  },
  {
   "metadata": {
    "ExecuteTime": {
     "end_time": "2025-01-18T19:20:28.305063Z",
     "start_time": "2025-01-18T19:20:28.286055Z"
    }
   },
   "cell_type": "code",
   "source": "matches = pd.get_dummies(matches, columns=['Surface'], prefix='Surface')",
   "id": "7cf05a00fc3ffee1",
   "outputs": [],
   "execution_count": 41
  },
  {
   "metadata": {
    "ExecuteTime": {
     "end_time": "2025-01-18T19:20:28.564593Z",
     "start_time": "2025-01-18T19:20:28.538680Z"
    }
   },
   "cell_type": "code",
   "source": "matches[\"tournament_level\"].unique()",
   "id": "37b3c63392fcbc9a",
   "outputs": [
    {
     "data": {
      "text/plain": [
       "array(['ATP250', 'Grand Slam', 'ATP500', 'Masters 1000'], dtype=object)"
      ]
     },
     "execution_count": 42,
     "metadata": {},
     "output_type": "execute_result"
    }
   ],
   "execution_count": 42
  },
  {
   "metadata": {
    "ExecuteTime": {
     "end_time": "2025-01-18T19:20:29.130733Z",
     "start_time": "2025-01-18T19:20:29.126521Z"
    }
   },
   "cell_type": "code",
   "source": "matches[\"tournament_level\"] = matches[\"tournament_level\"].map({\"A\": 0, \"M\": 1, \"G\": 2})",
   "id": "23a9a949e219d93c",
   "outputs": [],
   "execution_count": 43
  },
  {
   "metadata": {
    "ExecuteTime": {
     "end_time": "2025-01-18T19:20:29.330037Z",
     "start_time": "2025-01-18T19:20:29.325047Z"
    }
   },
   "cell_type": "code",
   "source": [
    "matches[\"winner_hand\"].unique()\n",
    "matches[\"loser_hand\"].unique()"
   ],
   "id": "192a538bb6ac5b15",
   "outputs": [
    {
     "data": {
      "text/plain": [
       "array(['R', 'L', 'U'], dtype=object)"
      ]
     },
     "execution_count": 44,
     "metadata": {},
     "output_type": "execute_result"
    }
   ],
   "execution_count": 44
  },
  {
   "metadata": {
    "ExecuteTime": {
     "end_time": "2025-01-18T19:20:29.564728Z",
     "start_time": "2025-01-18T19:20:29.556303Z"
    }
   },
   "cell_type": "code",
   "source": [
    "matches[\"winner_hand\"] = matches[\"winner_hand\"].map({\"R\": 1, \"L\": 0, \"U\": 0}) # U traktujemy jak lewą, bo nie wiem ilu graczy jest serio oburęcznych\n",
    "matches.rename(columns={'winner_hand': 'winner_right_handed'}, inplace=True)\n",
    "matches[\"loser_hand\"] = matches[\"loser_hand\"].map({\"R\": 1, \"L\": 0, \"U\": 0})\n",
    "matches.rename(columns={'loser_hand': 'loser_right_handed'}, inplace=True)"
   ],
   "id": "ab3d19b5dcc109c2",
   "outputs": [],
   "execution_count": 45
  },
  {
   "metadata": {
    "ExecuteTime": {
     "end_time": "2025-01-18T19:20:29.804363Z",
     "start_time": "2025-01-18T19:20:29.799452Z"
    }
   },
   "cell_type": "code",
   "source": "matches[\"best_of\"].unique()",
   "id": "ffcabf929ea7b8ed",
   "outputs": [
    {
     "data": {
      "text/plain": [
       "array([3, 5])"
      ]
     },
     "execution_count": 46,
     "metadata": {},
     "output_type": "execute_result"
    }
   ],
   "execution_count": 46
  },
  {
   "metadata": {
    "ExecuteTime": {
     "end_time": "2025-01-18T19:20:30.166739Z",
     "start_time": "2025-01-18T19:20:30.162598Z"
    }
   },
   "cell_type": "code",
   "source": "matches[\"best_of\"] = matches[\"best_of\"].map({3: 1, 5: 0})",
   "id": "12dc822b7af7f280",
   "outputs": [],
   "execution_count": 47
  },
  {
   "metadata": {
    "ExecuteTime": {
     "end_time": "2025-01-18T19:20:30.456746Z",
     "start_time": "2025-01-18T19:20:30.434532Z"
    }
   },
   "cell_type": "code",
   "source": "matches",
   "id": "609dfb0cf5990d3c",
   "outputs": [
    {
     "data": {
      "text/plain": [
       "             Date  tournament_level  outdoor  AvgW  AvgL  \\\n",
       "0      2017-12-31               NaN        1  2.96  1.39   \n",
       "1      2017-12-31               NaN        1  2.17  1.68   \n",
       "2      2018-01-01               NaN        1  2.20  1.66   \n",
       "3      2018-01-01               NaN        1  1.24  3.99   \n",
       "4      2018-01-01               NaN        1  3.19  1.34   \n",
       "...           ...               ...      ...   ...   ...   \n",
       "14106  2023-11-10               NaN        0  1.62  2.29   \n",
       "14107  2023-11-10               NaN        0  1.21  4.31   \n",
       "14108  2023-11-10               NaN        0  1.46  2.69   \n",
       "14109  2023-11-11               NaN        0  1.35  3.19   \n",
       "14110  2023-11-11               NaN        0  2.74  1.46   \n",
       "\n",
       "                          match_id  winner_right_handed  winner_age  \\\n",
       "0      Brisbane_2018_200282_105449                    1        18.8   \n",
       "1      Brisbane_2018_105238_106043                    1        29.1   \n",
       "2      Brisbane_2018_104547_124014                    0        32.6   \n",
       "3          Pune_2018_105916_106044                    1        25.8   \n",
       "4          Pune_2018_106120_106210                    1        24.9   \n",
       "...                            ...                  ...         ...   \n",
       "14106     Sofia_2023_105173_200303                    0        35.3   \n",
       "14107      Metz_2023_200005_104926                    0        25.3   \n",
       "14108      Metz_2023_207686_105732                    1        22.9   \n",
       "14109      Metz_2023_200005_207686                    0        25.3   \n",
       "14110     Sofia_2023_105173_207733                    0        35.3   \n",
       "\n",
       "       loser_right_handed  loser_age  ...  \\\n",
       "0                       1       28.0  ...   \n",
       "1                       1       25.3  ...   \n",
       "2                       1       21.4  ...   \n",
       "3                       1       25.3  ...   \n",
       "4                       0       24.4  ...   \n",
       "...                   ...        ...  ...   \n",
       "14106                   1       24.9  ...   \n",
       "14107                   1       36.4  ...   \n",
       "14108                   1       32.6  ...   \n",
       "14109                   1       22.9  ...   \n",
       "14110                   0       21.8  ...   \n",
       "\n",
       "       winner_total_losses_tournament_history  \\\n",
       "0                                         0.0   \n",
       "1                                         0.0   \n",
       "2                                         0.0   \n",
       "3                                         0.0   \n",
       "4                                         0.0   \n",
       "...                                       ...   \n",
       "14106                                     4.0   \n",
       "14107                                     4.0   \n",
       "14108                                     0.0   \n",
       "14109                                     4.0   \n",
       "14110                                     4.0   \n",
       "\n",
       "       loser_total_wins_tournament_history  \\\n",
       "0                                      0.0   \n",
       "1                                      0.0   \n",
       "2                                      0.0   \n",
       "3                                      0.0   \n",
       "4                                      0.0   \n",
       "...                                    ...   \n",
       "14106                                  3.0   \n",
       "14107                                  3.0   \n",
       "14108                                  4.0   \n",
       "14109                                  4.0   \n",
       "14110                                  4.0   \n",
       "\n",
       "       loser_total_losses_tournament_history  temperature_2m  \\\n",
       "0                                        0.0            27.0   \n",
       "1                                        0.0            28.9   \n",
       "2                                        0.0            19.7   \n",
       "3                                        0.0            24.2   \n",
       "4                                        0.0            16.2   \n",
       "...                                      ...             ...   \n",
       "14106                                    0.0             6.6   \n",
       "14107                                    0.0            16.1   \n",
       "14108                                    2.0            16.1   \n",
       "14109                                    0.0            13.0   \n",
       "14110                                    0.0            12.8   \n",
       "\n",
       "       relative_humidity_2m  windspeed_10m  apparent_temperature  \\\n",
       "0                        77            9.6                  30.9   \n",
       "1                        68           15.2                  31.8   \n",
       "2                        52            8.8                  18.3   \n",
       "3                        83            6.9                  27.6   \n",
       "4                        56           10.9                  13.9   \n",
       "...                     ...            ...                   ...   \n",
       "14106                    88           13.7                   3.3   \n",
       "14107                    49            4.6                  14.3   \n",
       "14108                    49            4.6                  14.3   \n",
       "14109                    57            4.5                  11.0   \n",
       "14110                    69            4.7                  11.4   \n",
       "\n",
       "       Surface_Clay  Surface_Grass  Surface_Hard  \n",
       "0             False          False          True  \n",
       "1             False          False          True  \n",
       "2             False          False          True  \n",
       "3             False          False          True  \n",
       "4             False          False          True  \n",
       "...             ...            ...           ...  \n",
       "14106         False          False          True  \n",
       "14107         False          False          True  \n",
       "14108         False          False          True  \n",
       "14109         False          False          True  \n",
       "14110         False          False          True  \n",
       "\n",
       "[14111 rows x 111 columns]"
      ],
      "text/html": [
       "<div>\n",
       "<style scoped>\n",
       "    .dataframe tbody tr th:only-of-type {\n",
       "        vertical-align: middle;\n",
       "    }\n",
       "\n",
       "    .dataframe tbody tr th {\n",
       "        vertical-align: top;\n",
       "    }\n",
       "\n",
       "    .dataframe thead th {\n",
       "        text-align: right;\n",
       "    }\n",
       "</style>\n",
       "<table border=\"1\" class=\"dataframe\">\n",
       "  <thead>\n",
       "    <tr style=\"text-align: right;\">\n",
       "      <th></th>\n",
       "      <th>Date</th>\n",
       "      <th>tournament_level</th>\n",
       "      <th>outdoor</th>\n",
       "      <th>AvgW</th>\n",
       "      <th>AvgL</th>\n",
       "      <th>match_id</th>\n",
       "      <th>winner_right_handed</th>\n",
       "      <th>winner_age</th>\n",
       "      <th>loser_right_handed</th>\n",
       "      <th>loser_age</th>\n",
       "      <th>...</th>\n",
       "      <th>winner_total_losses_tournament_history</th>\n",
       "      <th>loser_total_wins_tournament_history</th>\n",
       "      <th>loser_total_losses_tournament_history</th>\n",
       "      <th>temperature_2m</th>\n",
       "      <th>relative_humidity_2m</th>\n",
       "      <th>windspeed_10m</th>\n",
       "      <th>apparent_temperature</th>\n",
       "      <th>Surface_Clay</th>\n",
       "      <th>Surface_Grass</th>\n",
       "      <th>Surface_Hard</th>\n",
       "    </tr>\n",
       "  </thead>\n",
       "  <tbody>\n",
       "    <tr>\n",
       "      <th>0</th>\n",
       "      <td>2017-12-31</td>\n",
       "      <td>NaN</td>\n",
       "      <td>1</td>\n",
       "      <td>2.96</td>\n",
       "      <td>1.39</td>\n",
       "      <td>Brisbane_2018_200282_105449</td>\n",
       "      <td>1</td>\n",
       "      <td>18.8</td>\n",
       "      <td>1</td>\n",
       "      <td>28.0</td>\n",
       "      <td>...</td>\n",
       "      <td>0.0</td>\n",
       "      <td>0.0</td>\n",
       "      <td>0.0</td>\n",
       "      <td>27.0</td>\n",
       "      <td>77</td>\n",
       "      <td>9.6</td>\n",
       "      <td>30.9</td>\n",
       "      <td>False</td>\n",
       "      <td>False</td>\n",
       "      <td>True</td>\n",
       "    </tr>\n",
       "    <tr>\n",
       "      <th>1</th>\n",
       "      <td>2017-12-31</td>\n",
       "      <td>NaN</td>\n",
       "      <td>1</td>\n",
       "      <td>2.17</td>\n",
       "      <td>1.68</td>\n",
       "      <td>Brisbane_2018_105238_106043</td>\n",
       "      <td>1</td>\n",
       "      <td>29.1</td>\n",
       "      <td>1</td>\n",
       "      <td>25.3</td>\n",
       "      <td>...</td>\n",
       "      <td>0.0</td>\n",
       "      <td>0.0</td>\n",
       "      <td>0.0</td>\n",
       "      <td>28.9</td>\n",
       "      <td>68</td>\n",
       "      <td>15.2</td>\n",
       "      <td>31.8</td>\n",
       "      <td>False</td>\n",
       "      <td>False</td>\n",
       "      <td>True</td>\n",
       "    </tr>\n",
       "    <tr>\n",
       "      <th>2</th>\n",
       "      <td>2018-01-01</td>\n",
       "      <td>NaN</td>\n",
       "      <td>1</td>\n",
       "      <td>2.20</td>\n",
       "      <td>1.66</td>\n",
       "      <td>Brisbane_2018_104547_124014</td>\n",
       "      <td>0</td>\n",
       "      <td>32.6</td>\n",
       "      <td>1</td>\n",
       "      <td>21.4</td>\n",
       "      <td>...</td>\n",
       "      <td>0.0</td>\n",
       "      <td>0.0</td>\n",
       "      <td>0.0</td>\n",
       "      <td>19.7</td>\n",
       "      <td>52</td>\n",
       "      <td>8.8</td>\n",
       "      <td>18.3</td>\n",
       "      <td>False</td>\n",
       "      <td>False</td>\n",
       "      <td>True</td>\n",
       "    </tr>\n",
       "    <tr>\n",
       "      <th>3</th>\n",
       "      <td>2018-01-01</td>\n",
       "      <td>NaN</td>\n",
       "      <td>1</td>\n",
       "      <td>1.24</td>\n",
       "      <td>3.99</td>\n",
       "      <td>Pune_2018_105916_106044</td>\n",
       "      <td>1</td>\n",
       "      <td>25.8</td>\n",
       "      <td>1</td>\n",
       "      <td>25.3</td>\n",
       "      <td>...</td>\n",
       "      <td>0.0</td>\n",
       "      <td>0.0</td>\n",
       "      <td>0.0</td>\n",
       "      <td>24.2</td>\n",
       "      <td>83</td>\n",
       "      <td>6.9</td>\n",
       "      <td>27.6</td>\n",
       "      <td>False</td>\n",
       "      <td>False</td>\n",
       "      <td>True</td>\n",
       "    </tr>\n",
       "    <tr>\n",
       "      <th>4</th>\n",
       "      <td>2018-01-01</td>\n",
       "      <td>NaN</td>\n",
       "      <td>1</td>\n",
       "      <td>3.19</td>\n",
       "      <td>1.34</td>\n",
       "      <td>Pune_2018_106120_106210</td>\n",
       "      <td>1</td>\n",
       "      <td>24.9</td>\n",
       "      <td>0</td>\n",
       "      <td>24.4</td>\n",
       "      <td>...</td>\n",
       "      <td>0.0</td>\n",
       "      <td>0.0</td>\n",
       "      <td>0.0</td>\n",
       "      <td>16.2</td>\n",
       "      <td>56</td>\n",
       "      <td>10.9</td>\n",
       "      <td>13.9</td>\n",
       "      <td>False</td>\n",
       "      <td>False</td>\n",
       "      <td>True</td>\n",
       "    </tr>\n",
       "    <tr>\n",
       "      <th>...</th>\n",
       "      <td>...</td>\n",
       "      <td>...</td>\n",
       "      <td>...</td>\n",
       "      <td>...</td>\n",
       "      <td>...</td>\n",
       "      <td>...</td>\n",
       "      <td>...</td>\n",
       "      <td>...</td>\n",
       "      <td>...</td>\n",
       "      <td>...</td>\n",
       "      <td>...</td>\n",
       "      <td>...</td>\n",
       "      <td>...</td>\n",
       "      <td>...</td>\n",
       "      <td>...</td>\n",
       "      <td>...</td>\n",
       "      <td>...</td>\n",
       "      <td>...</td>\n",
       "      <td>...</td>\n",
       "      <td>...</td>\n",
       "      <td>...</td>\n",
       "    </tr>\n",
       "    <tr>\n",
       "      <th>14106</th>\n",
       "      <td>2023-11-10</td>\n",
       "      <td>NaN</td>\n",
       "      <td>0</td>\n",
       "      <td>1.62</td>\n",
       "      <td>2.29</td>\n",
       "      <td>Sofia_2023_105173_200303</td>\n",
       "      <td>0</td>\n",
       "      <td>35.3</td>\n",
       "      <td>1</td>\n",
       "      <td>24.9</td>\n",
       "      <td>...</td>\n",
       "      <td>4.0</td>\n",
       "      <td>3.0</td>\n",
       "      <td>0.0</td>\n",
       "      <td>6.6</td>\n",
       "      <td>88</td>\n",
       "      <td>13.7</td>\n",
       "      <td>3.3</td>\n",
       "      <td>False</td>\n",
       "      <td>False</td>\n",
       "      <td>True</td>\n",
       "    </tr>\n",
       "    <tr>\n",
       "      <th>14107</th>\n",
       "      <td>2023-11-10</td>\n",
       "      <td>NaN</td>\n",
       "      <td>0</td>\n",
       "      <td>1.21</td>\n",
       "      <td>4.31</td>\n",
       "      <td>Metz_2023_200005_104926</td>\n",
       "      <td>0</td>\n",
       "      <td>25.3</td>\n",
       "      <td>1</td>\n",
       "      <td>36.4</td>\n",
       "      <td>...</td>\n",
       "      <td>4.0</td>\n",
       "      <td>3.0</td>\n",
       "      <td>0.0</td>\n",
       "      <td>16.1</td>\n",
       "      <td>49</td>\n",
       "      <td>4.6</td>\n",
       "      <td>14.3</td>\n",
       "      <td>False</td>\n",
       "      <td>False</td>\n",
       "      <td>True</td>\n",
       "    </tr>\n",
       "    <tr>\n",
       "      <th>14108</th>\n",
       "      <td>2023-11-10</td>\n",
       "      <td>NaN</td>\n",
       "      <td>0</td>\n",
       "      <td>1.46</td>\n",
       "      <td>2.69</td>\n",
       "      <td>Metz_2023_207686_105732</td>\n",
       "      <td>1</td>\n",
       "      <td>22.9</td>\n",
       "      <td>1</td>\n",
       "      <td>32.6</td>\n",
       "      <td>...</td>\n",
       "      <td>0.0</td>\n",
       "      <td>4.0</td>\n",
       "      <td>2.0</td>\n",
       "      <td>16.1</td>\n",
       "      <td>49</td>\n",
       "      <td>4.6</td>\n",
       "      <td>14.3</td>\n",
       "      <td>False</td>\n",
       "      <td>False</td>\n",
       "      <td>True</td>\n",
       "    </tr>\n",
       "    <tr>\n",
       "      <th>14109</th>\n",
       "      <td>2023-11-11</td>\n",
       "      <td>NaN</td>\n",
       "      <td>0</td>\n",
       "      <td>1.35</td>\n",
       "      <td>3.19</td>\n",
       "      <td>Metz_2023_200005_207686</td>\n",
       "      <td>0</td>\n",
       "      <td>25.3</td>\n",
       "      <td>1</td>\n",
       "      <td>22.9</td>\n",
       "      <td>...</td>\n",
       "      <td>4.0</td>\n",
       "      <td>4.0</td>\n",
       "      <td>0.0</td>\n",
       "      <td>13.0</td>\n",
       "      <td>57</td>\n",
       "      <td>4.5</td>\n",
       "      <td>11.0</td>\n",
       "      <td>False</td>\n",
       "      <td>False</td>\n",
       "      <td>True</td>\n",
       "    </tr>\n",
       "    <tr>\n",
       "      <th>14110</th>\n",
       "      <td>2023-11-11</td>\n",
       "      <td>NaN</td>\n",
       "      <td>0</td>\n",
       "      <td>2.74</td>\n",
       "      <td>1.46</td>\n",
       "      <td>Sofia_2023_105173_207733</td>\n",
       "      <td>0</td>\n",
       "      <td>35.3</td>\n",
       "      <td>0</td>\n",
       "      <td>21.8</td>\n",
       "      <td>...</td>\n",
       "      <td>4.0</td>\n",
       "      <td>4.0</td>\n",
       "      <td>0.0</td>\n",
       "      <td>12.8</td>\n",
       "      <td>69</td>\n",
       "      <td>4.7</td>\n",
       "      <td>11.4</td>\n",
       "      <td>False</td>\n",
       "      <td>False</td>\n",
       "      <td>True</td>\n",
       "    </tr>\n",
       "  </tbody>\n",
       "</table>\n",
       "<p>14111 rows × 111 columns</p>\n",
       "</div>"
      ]
     },
     "execution_count": 48,
     "metadata": {},
     "output_type": "execute_result"
    }
   ],
   "execution_count": 48
  },
  {
   "metadata": {
    "ExecuteTime": {
     "end_time": "2025-01-18T19:20:30.984721Z",
     "start_time": "2025-01-18T19:20:30.976783Z"
    }
   },
   "cell_type": "code",
   "source": [
    "problematic_columns = [col for col in matches.columns if not is_numeric_or_castable(matches[col])]\n",
    "\n",
    "if not problematic_columns:\n",
    "    print(\"All columns are numeric or can be cast to numeric values.\")\n",
    "else:\n",
    "    print(f\"The following columns are not numeric or contain non-castable values: {problematic_columns}\")"
   ],
   "id": "9820c5bdc787b3f2",
   "outputs": [
    {
     "name": "stdout",
     "output_type": "stream",
     "text": [
      "The following columns are not numeric or contain non-castable values: ['Date', 'match_id']\n"
     ]
    }
   ],
   "execution_count": 49
  },
  {
   "metadata": {
    "ExecuteTime": {
     "end_time": "2025-01-18T19:20:31.752990Z",
     "start_time": "2025-01-18T19:20:31.748446Z"
    }
   },
   "cell_type": "code",
   "source": "list(matches.columns)",
   "id": "ca843cc8c4217ffa",
   "outputs": [
    {
     "data": {
      "text/plain": [
       "['Date',\n",
       " 'tournament_level',\n",
       " 'outdoor',\n",
       " 'AvgW',\n",
       " 'AvgL',\n",
       " 'match_id',\n",
       " 'winner_right_handed',\n",
       " 'winner_age',\n",
       " 'loser_right_handed',\n",
       " 'loser_age',\n",
       " 'best_of',\n",
       " 'winner_rank',\n",
       " 'loser_rank',\n",
       " 'winner_entry_LL',\n",
       " 'winner_entry_Q',\n",
       " 'winner_entry_WC',\n",
       " 'loser_entry_LL',\n",
       " 'loser_entry_Q',\n",
       " 'loser_entry_WC',\n",
       " 'winner_is_seeded',\n",
       " 'loser_is_seeded',\n",
       " 'w_ace_avg',\n",
       " 'l_ace_avg',\n",
       " 'w_CO_ace_avg',\n",
       " 'l_CO_ace_avg',\n",
       " 'w_df_avg',\n",
       " 'l_df_avg',\n",
       " 'w_CO_df_avg',\n",
       " 'l_CO_df_avg',\n",
       " 'w_2ndIn_avg',\n",
       " 'l_2ndIn_avg',\n",
       " 'w_CO_2ndIn_avg',\n",
       " 'l_CO_2ndIn_avg',\n",
       " 'winner_1st_serve_in_pct_avg',\n",
       " 'loser_1st_serve_in_pct_avg',\n",
       " 'winner_CO_1st_serve_in_pct_avg',\n",
       " 'loser_CO_1st_serve_in_pct_avg',\n",
       " 'winner_1st_serve_win_pct_avg',\n",
       " 'loser_1st_serve_win_pct_avg',\n",
       " 'winner_CO_1st_serve_win_pct_avg',\n",
       " 'loser_CO_1st_serve_win_pct_avg',\n",
       " 'winner_2nd_serve_in_pct_avg',\n",
       " 'loser_2nd_serve_in_pct_avg',\n",
       " 'winner_CO_2nd_serve_in_pct_avg',\n",
       " 'loser_CO_2nd_serve_in_pct_avg',\n",
       " 'winner_2nd_serve_win_pct_avg',\n",
       " 'loser_2nd_serve_win_pct_avg',\n",
       " 'winner_CO_2nd_serve_win_pct_avg',\n",
       " 'loser_CO_2nd_serve_win_pct_avg',\n",
       " 'winner_service_games_won_pct_avg',\n",
       " 'loser_service_games_won_pct_avg',\n",
       " 'winner_CO_service_games_won_pct_avg',\n",
       " 'loser_CO_service_games_won_pct_avg',\n",
       " 'winner_1st_serve_return_win_pct_avg',\n",
       " 'loser_1st_serve_return_win_pct_avg',\n",
       " 'winner_CO_1st_serve_return_win_pct_avg',\n",
       " 'loser_CO_1st_serve_return_win_pct_avg',\n",
       " 'winner_2nd_serve_return_win_pct_avg',\n",
       " 'loser_2nd_serve_return_win_pct_avg',\n",
       " 'winner_CO_2nd_serve_return_win_pct_avg',\n",
       " 'loser_CO_2nd_serve_return_win_pct_avg',\n",
       " 'winner_return_games_win_pct_avg',\n",
       " 'loser_return_games_win_pct_avg',\n",
       " 'winner_CO_return_games_win_pct_avg',\n",
       " 'loser_CO_return_games_win_pct_avg',\n",
       " 'winner_bp_won_pct_avg',\n",
       " 'loser_bp_won_pct_avg',\n",
       " 'winner_CO_bp_won_pct_avg',\n",
       " 'loser_CO_bp_won_pct_avg',\n",
       " 'winner_bp_saved_pct_avg',\n",
       " 'loser_bp_saved_pct_avg',\n",
       " 'winner_CO_bp_saved_pct_avg',\n",
       " 'loser_CO_bp_saved_pct_avg',\n",
       " 'non_CO_uncertainty',\n",
       " 'CO_uncertainty',\n",
       " 'elo_winner',\n",
       " 'elo_loser',\n",
       " 'surface_elo_winner',\n",
       " 'surface_elo_loser',\n",
       " 'blended_elo_winner',\n",
       " 'blended_elo_loser',\n",
       " 'winner_fatigue_score',\n",
       " 'loser_fatigue_score',\n",
       " 'winner_h2h_wins',\n",
       " 'loser_h2h_wins',\n",
       " 'winner_h2h_surface_wins',\n",
       " 'loser_h2h_surface_wins',\n",
       " 'winner_home',\n",
       " 'loser_home',\n",
       " 'winner_injury_score',\n",
       " 'loser_injury_score',\n",
       " 'winner_win_pct_last_10',\n",
       " 'loser_win_pct_last_10',\n",
       " 'winner_win_pct_last_10_surface',\n",
       " 'loser_win_pct_last_10_surface',\n",
       " 'Round_Num',\n",
       " 'Winner_Set_Diff_Tournament',\n",
       " 'Winner_Game_Diff_Tournament',\n",
       " 'Loser_Set_Diff_Tournament',\n",
       " 'Loser_Game_Diff_Tournament',\n",
       " 'winner_total_wins_tournament_history',\n",
       " 'winner_total_losses_tournament_history',\n",
       " 'loser_total_wins_tournament_history',\n",
       " 'loser_total_losses_tournament_history',\n",
       " 'temperature_2m',\n",
       " 'relative_humidity_2m',\n",
       " 'windspeed_10m',\n",
       " 'apparent_temperature',\n",
       " 'Surface_Clay',\n",
       " 'Surface_Grass',\n",
       " 'Surface_Hard']"
      ]
     },
     "execution_count": 50,
     "metadata": {},
     "output_type": "execute_result"
    }
   ],
   "execution_count": 50
  },
  {
   "metadata": {},
   "cell_type": "markdown",
   "source": "### Chcemy żeby kolumny nazywały się player1/player2 a nie winner/loser",
   "id": "cf89a49911396dfe"
  },
  {
   "metadata": {
    "ExecuteTime": {
     "end_time": "2025-01-18T19:20:32.585766Z",
     "start_time": "2025-01-18T19:20:32.579706Z"
    }
   },
   "cell_type": "code",
   "source": [
    "def rename_player_columns(col):\n",
    "    col_lower = col.lower()\n",
    "\n",
    "    if col_lower.startswith('winner'):\n",
    "        return col.replace('Winner', 'player1').replace('winner', 'player1')\n",
    "\n",
    "    elif col_lower.startswith('loser'):\n",
    "        return col.replace('Loser', 'player2').replace('loser', 'player2')\n",
    "\n",
    "    elif col_lower.endswith('winner'):\n",
    "        return f\"player1_{col.replace('_winner', '').replace('Winner', '').replace('winner', '')}\".strip('_')\n",
    "\n",
    "    elif col_lower.endswith('loser'):\n",
    "        return f\"player2_{col.replace('_loser', '').replace('Loser', '').replace('loser', '')}\".strip('_')\n",
    "\n",
    "    return col \n",
    "\n",
    "\n",
    "matches.columns = [rename_player_columns(col) for col in list(matches.columns)]\n",
    "\n",
    "print(list(matches.columns))"
   ],
   "id": "1e0237357140dbbd",
   "outputs": [
    {
     "name": "stdout",
     "output_type": "stream",
     "text": [
      "['Date', 'tournament_level', 'outdoor', 'AvgW', 'AvgL', 'match_id', 'player1_right_handed', 'player1_age', 'player2_right_handed', 'player2_age', 'best_of', 'player1_rank', 'player2_rank', 'player1_entry_LL', 'player1_entry_Q', 'player1_entry_WC', 'player2_entry_LL', 'player2_entry_Q', 'player2_entry_WC', 'player1_is_seeded', 'player2_is_seeded', 'w_ace_avg', 'l_ace_avg', 'w_CO_ace_avg', 'l_CO_ace_avg', 'w_df_avg', 'l_df_avg', 'w_CO_df_avg', 'l_CO_df_avg', 'w_2ndIn_avg', 'l_2ndIn_avg', 'w_CO_2ndIn_avg', 'l_CO_2ndIn_avg', 'player1_1st_serve_in_pct_avg', 'player2_1st_serve_in_pct_avg', 'player1_CO_1st_serve_in_pct_avg', 'player2_CO_1st_serve_in_pct_avg', 'player1_1st_serve_win_pct_avg', 'player2_1st_serve_win_pct_avg', 'player1_CO_1st_serve_win_pct_avg', 'player2_CO_1st_serve_win_pct_avg', 'player1_2nd_serve_in_pct_avg', 'player2_2nd_serve_in_pct_avg', 'player1_CO_2nd_serve_in_pct_avg', 'player2_CO_2nd_serve_in_pct_avg', 'player1_2nd_serve_win_pct_avg', 'player2_2nd_serve_win_pct_avg', 'player1_CO_2nd_serve_win_pct_avg', 'player2_CO_2nd_serve_win_pct_avg', 'player1_service_games_won_pct_avg', 'player2_service_games_won_pct_avg', 'player1_CO_service_games_won_pct_avg', 'player2_CO_service_games_won_pct_avg', 'player1_1st_serve_return_win_pct_avg', 'player2_1st_serve_return_win_pct_avg', 'player1_CO_1st_serve_return_win_pct_avg', 'player2_CO_1st_serve_return_win_pct_avg', 'player1_2nd_serve_return_win_pct_avg', 'player2_2nd_serve_return_win_pct_avg', 'player1_CO_2nd_serve_return_win_pct_avg', 'player2_CO_2nd_serve_return_win_pct_avg', 'player1_return_games_win_pct_avg', 'player2_return_games_win_pct_avg', 'player1_CO_return_games_win_pct_avg', 'player2_CO_return_games_win_pct_avg', 'player1_bp_won_pct_avg', 'player2_bp_won_pct_avg', 'player1_CO_bp_won_pct_avg', 'player2_CO_bp_won_pct_avg', 'player1_bp_saved_pct_avg', 'player2_bp_saved_pct_avg', 'player1_CO_bp_saved_pct_avg', 'player2_CO_bp_saved_pct_avg', 'non_CO_uncertainty', 'CO_uncertainty', 'player1_elo', 'player2_elo', 'player1_surface_elo', 'player2_surface_elo', 'player1_blended_elo', 'player2_blended_elo', 'player1_fatigue_score', 'player2_fatigue_score', 'player1_h2h_wins', 'player2_h2h_wins', 'player1_h2h_surface_wins', 'player2_h2h_surface_wins', 'player1_home', 'player2_home', 'player1_injury_score', 'player2_injury_score', 'player1_win_pct_last_10', 'player2_win_pct_last_10', 'player1_win_pct_last_10_surface', 'player2_win_pct_last_10_surface', 'Round_Num', 'player1_Set_Diff_Tournament', 'player1_Game_Diff_Tournament', 'player2_Set_Diff_Tournament', 'player2_Game_Diff_Tournament', 'player1_total_wins_tournament_history', 'player1_total_losses_tournament_history', 'player2_total_wins_tournament_history', 'player2_total_losses_tournament_history', 'temperature_2m', 'relative_humidity_2m', 'windspeed_10m', 'apparent_temperature', 'Surface_Clay', 'Surface_Grass', 'Surface_Hard']\n"
     ]
    }
   ],
   "execution_count": 51
  },
  {
   "metadata": {
    "ExecuteTime": {
     "end_time": "2025-01-18T19:20:33.181304Z",
     "start_time": "2025-01-18T19:20:33.163185Z"
    }
   },
   "cell_type": "code",
   "source": "matches = matches.rename({\"AvgW\": 'player1_bet_odds', 'AvgL': 'player2_bet_odds'}, axis=1)",
   "id": "3dd24157e3994bee",
   "outputs": [],
   "execution_count": 52
  },
  {
   "metadata": {
    "ExecuteTime": {
     "end_time": "2025-01-18T19:20:33.497717Z",
     "start_time": "2025-01-18T19:20:33.479050Z"
    }
   },
   "cell_type": "code",
   "source": "matches = matches.astype({col: 'int64' for col in matches.select_dtypes(include=['bool']).columns})",
   "id": "90c7fe7c9e57963",
   "outputs": [],
   "execution_count": 53
  },
  {
   "metadata": {},
   "cell_type": "markdown",
   "source": "### Tworzymy target który jest 1 gdy player1 wygrał i 0 wpp, i ustawiamy narazie wszystko na 1 bo winner został zmienionu na player1",
   "id": "f11623ca0e3a63b7"
  },
  {
   "metadata": {},
   "cell_type": "code",
   "source": "matches[\"target\"] = 1",
   "id": "ef5ff11458907c17",
   "outputs": [],
   "execution_count": null
  },
  {
   "metadata": {
    "ExecuteTime": {
     "end_time": "2025-01-18T19:20:34.775633Z",
     "start_time": "2025-01-18T19:20:34.755916Z"
    }
   },
   "cell_type": "code",
   "source": "matches = matches.copy()",
   "id": "3508d76cf9b0ebf4",
   "outputs": [],
   "execution_count": 55
  },
  {
   "metadata": {},
   "cell_type": "markdown",
   "source": "### Żeby nie było tak że zawsze to player1 jest wygranym to mieszamy w losowo wybranych rzędach staty pomiędzy player1 a player2 i w tych rzędach zmieniamy target z 1 na 0",
   "id": "e631f6d3e2db963d"
  },
  {
   "metadata": {
    "ExecuteTime": {
     "end_time": "2025-01-18T19:20:35.590228Z",
     "start_time": "2025-01-18T19:20:35.586707Z"
    }
   },
   "cell_type": "code",
   "source": "import numpy as np",
   "id": "f7242ac327928027",
   "outputs": [],
   "execution_count": 56
  },
  {
   "metadata": {
    "ExecuteTime": {
     "end_time": "2025-01-18T19:20:36.415275Z",
     "start_time": "2025-01-18T19:20:36.271154Z"
    }
   },
   "cell_type": "code",
   "source": [
    "np.random.seed(42)\n",
    "rows_to_swap = np.random.choice(matches.index, size=int(len(matches) * 0.5), replace=False)\n",
    "\n",
    "for col in matches.columns:\n",
    "    if col.startswith('player1_'):\n",
    "        corresponding_col = col.replace('player1_', 'player2_')\n",
    "        matches.loc[rows_to_swap, [col, corresponding_col]] = matches.loc[rows_to_swap, [corresponding_col, col]].values\n",
    "        \n",
    "    if col.endswith('_diff'): \n",
    "        matches.loc[rows_to_swap, col] *= -1\n",
    "\n",
    "matches.loc[rows_to_swap, 'target'] = 0  # Player 2 is the winner\n"
   ],
   "id": "f3bcdf1ac9f96eff",
   "outputs": [],
   "execution_count": 57
  },
  {
   "metadata": {
    "ExecuteTime": {
     "end_time": "2025-01-18T19:20:56.576200Z",
     "start_time": "2025-01-18T19:20:56.572641Z"
    }
   },
   "cell_type": "code",
   "source": "print(list(matches.columns))",
   "id": "ff1da413f17adcb3",
   "outputs": [
    {
     "name": "stdout",
     "output_type": "stream",
     "text": [
      "['Date', 'tournament_level', 'outdoor', 'player1_bet_odds', 'player2_bet_odds', 'match_id', 'player1_right_handed', 'player1_age', 'player2_right_handed', 'player2_age', 'best_of', 'player1_rank', 'player2_rank', 'player1_entry_LL', 'player1_entry_Q', 'player1_entry_WC', 'player2_entry_LL', 'player2_entry_Q', 'player2_entry_WC', 'player1_is_seeded', 'player2_is_seeded', 'w_ace_avg', 'l_ace_avg', 'w_CO_ace_avg', 'l_CO_ace_avg', 'w_df_avg', 'l_df_avg', 'w_CO_df_avg', 'l_CO_df_avg', 'w_2ndIn_avg', 'l_2ndIn_avg', 'w_CO_2ndIn_avg', 'l_CO_2ndIn_avg', 'player1_1st_serve_in_pct_avg', 'player2_1st_serve_in_pct_avg', 'player1_CO_1st_serve_in_pct_avg', 'player2_CO_1st_serve_in_pct_avg', 'player1_1st_serve_win_pct_avg', 'player2_1st_serve_win_pct_avg', 'player1_CO_1st_serve_win_pct_avg', 'player2_CO_1st_serve_win_pct_avg', 'player1_2nd_serve_in_pct_avg', 'player2_2nd_serve_in_pct_avg', 'player1_CO_2nd_serve_in_pct_avg', 'player2_CO_2nd_serve_in_pct_avg', 'player1_2nd_serve_win_pct_avg', 'player2_2nd_serve_win_pct_avg', 'player1_CO_2nd_serve_win_pct_avg', 'player2_CO_2nd_serve_win_pct_avg', 'player1_service_games_won_pct_avg', 'player2_service_games_won_pct_avg', 'player1_CO_service_games_won_pct_avg', 'player2_CO_service_games_won_pct_avg', 'player1_1st_serve_return_win_pct_avg', 'player2_1st_serve_return_win_pct_avg', 'player1_CO_1st_serve_return_win_pct_avg', 'player2_CO_1st_serve_return_win_pct_avg', 'player1_2nd_serve_return_win_pct_avg', 'player2_2nd_serve_return_win_pct_avg', 'player1_CO_2nd_serve_return_win_pct_avg', 'player2_CO_2nd_serve_return_win_pct_avg', 'player1_return_games_win_pct_avg', 'player2_return_games_win_pct_avg', 'player1_CO_return_games_win_pct_avg', 'player2_CO_return_games_win_pct_avg', 'player1_bp_won_pct_avg', 'player2_bp_won_pct_avg', 'player1_CO_bp_won_pct_avg', 'player2_CO_bp_won_pct_avg', 'player1_bp_saved_pct_avg', 'player2_bp_saved_pct_avg', 'player1_CO_bp_saved_pct_avg', 'player2_CO_bp_saved_pct_avg', 'non_CO_uncertainty', 'CO_uncertainty', 'player1_elo', 'player2_elo', 'player1_surface_elo', 'player2_surface_elo', 'player1_blended_elo', 'player2_blended_elo', 'player1_fatigue_score', 'player2_fatigue_score', 'player1_h2h_wins', 'player2_h2h_wins', 'player1_h2h_surface_wins', 'player2_h2h_surface_wins', 'player1_home', 'player2_home', 'player1_injury_score', 'player2_injury_score', 'player1_win_pct_last_10', 'player2_win_pct_last_10', 'player1_win_pct_last_10_surface', 'player2_win_pct_last_10_surface', 'Round_Num', 'player1_Set_Diff_Tournament', 'player1_Game_Diff_Tournament', 'player2_Set_Diff_Tournament', 'player2_Game_Diff_Tournament', 'player1_total_wins_tournament_history', 'player1_total_losses_tournament_history', 'player2_total_wins_tournament_history', 'player2_total_losses_tournament_history', 'temperature_2m', 'relative_humidity_2m', 'windspeed_10m', 'apparent_temperature', 'Surface_Clay', 'Surface_Grass', 'Surface_Hard', 'target']\n"
     ]
    }
   ],
   "execution_count": 59
  },
  {
   "metadata": {
    "ExecuteTime": {
     "end_time": "2025-01-02T17:43:20.561545Z",
     "start_time": "2025-01-02T17:43:19.566414Z"
    }
   },
   "cell_type": "code",
   "source": "matches.to_csv(\"../data/matches.csv\", index=False)",
   "id": "5fded485b1198ca",
   "outputs": [],
   "execution_count": 34
  }
 ],
 "metadata": {
  "kernelspec": {
   "display_name": "Python 3",
   "language": "python",
   "name": "python3"
  },
  "language_info": {
   "codemirror_mode": {
    "name": "ipython",
    "version": 2
   },
   "file_extension": ".py",
   "mimetype": "text/x-python",
   "name": "python",
   "nbconvert_exporter": "python",
   "pygments_lexer": "ipython2",
   "version": "2.7.6"
  }
 },
 "nbformat": 4,
 "nbformat_minor": 5
}
