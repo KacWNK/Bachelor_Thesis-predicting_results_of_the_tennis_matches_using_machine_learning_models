{
 "cells": [
  {
   "cell_type": "code",
   "id": "initial_id",
   "metadata": {
    "collapsed": true,
    "ExecuteTime": {
     "end_time": "2025-01-21T13:14:02.757188Z",
     "start_time": "2025-01-21T13:14:02.454246Z"
    }
   },
   "source": "import pandas as pd",
   "outputs": [],
   "execution_count": 1
  },
  {
   "metadata": {
    "ExecuteTime": {
     "end_time": "2025-01-21T13:14:10.707886Z",
     "start_time": "2025-01-21T13:14:10.290586Z"
    }
   },
   "cell_type": "code",
   "source": "matches = pd.read_csv('all_matches_processed_old.csv')",
   "id": "f4d2adc64b1739ba",
   "outputs": [
    {
     "name": "stderr",
     "output_type": "stream",
     "text": [
      "C:\\Users\\Pawel\\AppData\\Local\\Temp\\ipykernel_6004\\3544534254.py:1: DtypeWarning: Columns (27,234,235,236,237,238,239) have mixed types. Specify dtype option on import or set low_memory=False.\n",
      "  matches = pd.read_csv('all_matches_processed.csv')\n"
     ]
    }
   ],
   "execution_count": 2
  },
  {
   "metadata": {
    "ExecuteTime": {
     "end_time": "2025-01-21T13:14:25.248887Z",
     "start_time": "2025-01-21T13:14:25.234718Z"
    }
   },
   "cell_type": "code",
   "source": [
    "def normalize_match_id(match_id):\n",
    "    parts = match_id.split('_')\n",
    "    # Extract player IDs and normalize lexicographically\n",
    "    player1, player2 = sorted(parts[-2:])\n",
    "    return f\"{'_'.join(parts[:-2])}_{player1}_{player2}\"\n",
    "\n",
    "# Normalize match IDs in both DataFrames\n",
    "matches['match_id'] = matches['match_id'].apply(normalize_match_id)"
   ],
   "id": "a678dd66d95aaf58",
   "outputs": [],
   "execution_count": 3
  },
  {
   "metadata": {
    "ExecuteTime": {
     "end_time": "2025-01-21T13:15:32.805663Z",
     "start_time": "2025-01-21T13:15:30.713655Z"
    }
   },
   "cell_type": "code",
   "source": "matches.to_csv(\"all_matches_processed.csv\", index=False)",
   "id": "224e33e04ae62da",
   "outputs": [],
   "execution_count": 5
  },
  {
   "metadata": {
    "ExecuteTime": {
     "end_time": "2025-01-21T14:01:26.833843Z",
     "start_time": "2025-01-21T14:01:26.478864Z"
    }
   },
   "cell_type": "code",
   "source": "matches = pd.read_csv(\"all_matches_processed.csv\")",
   "id": "e537fbcf5120e2e0",
   "outputs": [
    {
     "name": "stderr",
     "output_type": "stream",
     "text": [
      "C:\\Users\\Pawel\\AppData\\Local\\Temp\\ipykernel_6004\\2248844691.py:1: DtypeWarning: Columns (234,235,236,237,238) have mixed types. Specify dtype option on import or set low_memory=False.\n",
      "  matches = pd.read_csv(\"all_matches_processed.csv\")\n"
     ]
    }
   ],
   "execution_count": 8
  },
  {
   "metadata": {
    "ExecuteTime": {
     "end_time": "2025-01-21T14:01:36.285977Z",
     "start_time": "2025-01-21T14:01:36.280650Z"
    }
   },
   "cell_type": "code",
   "source": "'melbourne_2025_132283_211663' in list(matches['match_id'].unique())",
   "id": "b654fdbd0221438",
   "outputs": [
    {
     "data": {
      "text/plain": [
       "False"
      ]
     },
     "execution_count": 9,
     "metadata": {},
     "output_type": "execute_result"
    }
   ],
   "execution_count": 9
  },
  {
   "metadata": {
    "ExecuteTime": {
     "end_time": "2025-01-21T14:01:51.532220Z",
     "start_time": "2025-01-21T14:01:51.511035Z"
    }
   },
   "cell_type": "code",
   "source": "matches",
   "id": "8e082bd3b81b25bf",
   "outputs": [
    {
     "data": {
      "text/plain": [
       "                           match_id tournament_location  \\\n",
       "0       Brisbane_2018_105238_106043            Brisbane   \n",
       "1       Brisbane_2018_105449_200282            Brisbane   \n",
       "2           Pune_2018_105732_106065                Pune   \n",
       "3           Pune_2018_106148_106368                Pune   \n",
       "4       Brisbane_2018_111442_111577            Brisbane   \n",
       "...                             ...                 ...   \n",
       "14890  melbourne_2025_104792_210097           melbourne   \n",
       "14891  melbourne_2025_206173_208029           melbourne   \n",
       "14892  melbourne_2025_100644_126205           melbourne   \n",
       "14893  melbourne_2025_200282_206173           melbourne   \n",
       "14894  melbourne_2025_132283_210097           melbourne   \n",
       "\n",
       "              tournament_name        Date tournament_level indoor_or_outdoor  \\\n",
       "0      Brisbane International  2017-12-31           ATP250           Outdoor   \n",
       "1      Brisbane International  2017-12-31           ATP250           Outdoor   \n",
       "2                   Tata Open  2018-01-01           ATP250           Outdoor   \n",
       "3                   Tata Open  2018-01-01           ATP250           Outdoor   \n",
       "4      Brisbane International  2018-01-01           ATP250           Outdoor   \n",
       "...                       ...         ...              ...               ...   \n",
       "14890         AUSTRALIAN OPEN  2025-01-20       Grand Slam           outdoor   \n",
       "14891         AUSTRALIAN OPEN  2025-01-20       Grand Slam           outdoor   \n",
       "14892         AUSTRALIAN OPEN  2025-01-21       Grand Slam           outdoor   \n",
       "14893         AUSTRALIAN OPEN  2025-01-22       Grand Slam           outdoor   \n",
       "14894         AUSTRALIAN OPEN  2025-01-22       Grand Slam           outdoor   \n",
       "\n",
       "      Surface          Round   W1   L1  ...  \\\n",
       "0        hard      1st Round  6.0  4.0  ...   \n",
       "1        hard      1st Round  7.0  6.0  ...   \n",
       "2        hard      1st Round  7.0  6.0  ...   \n",
       "3        hard      1st Round  7.0  6.0  ...   \n",
       "4        hard      1st Round  6.0  2.0  ...   \n",
       "...       ...            ...  ...  ...  ...   \n",
       "14890    hard      4th Round  7.0  6.0  ...   \n",
       "14891    hard      4th Round  6.0  3.0  ...   \n",
       "14892    hard  Quarterfinals  7.0  6.0  ...   \n",
       "14893    hard  Quarterfinals  NaN  NaN  ...   \n",
       "14894    hard  Quarterfinals  NaN  NaN  ...   \n",
       "\n",
       "       loser_total_wins_tournament_history  \\\n",
       "0                                      0.0   \n",
       "1                                      0.0   \n",
       "2                                      0.0   \n",
       "3                                      0.0   \n",
       "4                                      0.0   \n",
       "...                                    ...   \n",
       "14890                                 11.0   \n",
       "14891                                  5.0   \n",
       "14892                                 13.0   \n",
       "14893                                 15.0   \n",
       "14894                                  8.0   \n",
       "\n",
       "       loser_total_losses_tournament_history  \\\n",
       "0                                        0.0   \n",
       "1                                        0.0   \n",
       "2                                        0.0   \n",
       "3                                        0.0   \n",
       "4                                        0.0   \n",
       "...                                      ...   \n",
       "14890                                    6.0   \n",
       "14891                                    3.0   \n",
       "14892                                    5.0   \n",
       "14893                                    6.0   \n",
       "14894                                    6.0   \n",
       "\n",
       "                                                     url       winner_Name  \\\n",
       "0                                                    NaN               NaN   \n",
       "1                                                    NaN               NaN   \n",
       "2                                                    NaN               NaN   \n",
       "3                                                    NaN               NaN   \n",
       "4                                                    NaN               NaN   \n",
       "...                                                  ...               ...   \n",
       "14890  https://www.livesport.com/game/O0dh5rEN/#/game...       Shelton Ben   \n",
       "14891  https://www.livesport.com/game/UiI5qyRi/#/game...     Sinner Jannik   \n",
       "14892  https://www.livesport.com/game/0jsKgmVs/#/game...  Zverev Alexander   \n",
       "14893  https://www.livesport.com/game/8bkIHp4s/#/game...     Sinner Jannik   \n",
       "14894  https://www.livesport.com/game/lfS72eWI/#/game...       Shelton Ben   \n",
       "\n",
       "       winner_Date_of_birth      loser_Name  loser_Date_of_birth  scheduled  \\\n",
       "0                       NaN             NaN                  NaN        NaN   \n",
       "1                       NaN             NaN                  NaN        NaN   \n",
       "2                       NaN             NaN                  NaN        NaN   \n",
       "3                       NaN             NaN                  NaN        NaN   \n",
       "4                       NaN             NaN                  NaN        NaN   \n",
       "...                     ...             ...                  ...        ...   \n",
       "14890            2002-10-09    Monfils Gael           1986-09-01        0.0   \n",
       "14891            2001-08-16     Rune Holger           2003-04-29        0.0   \n",
       "14892            1997-04-20      Paul Tommy           1997-05-17        0.0   \n",
       "14893            2001-08-16  De Minaur Alex           1999-02-17        1.0   \n",
       "14894            2002-10-09  Sonego Lorenzo           1995-05-11        1.0   \n",
       "\n",
       "       player1_id  player2_id  \n",
       "0             NaN         NaN  \n",
       "1             NaN         NaN  \n",
       "2             NaN         NaN  \n",
       "3             NaN         NaN  \n",
       "4             NaN         NaN  \n",
       "...           ...         ...  \n",
       "14890    104792.0    210097.0  \n",
       "14891    206173.0    208029.0  \n",
       "14892    100644.0    126205.0  \n",
       "14893    200282.0    206173.0  \n",
       "14894    132283.0    210097.0  \n",
       "\n",
       "[14895 rows x 242 columns]"
      ],
      "text/html": [
       "<div>\n",
       "<style scoped>\n",
       "    .dataframe tbody tr th:only-of-type {\n",
       "        vertical-align: middle;\n",
       "    }\n",
       "\n",
       "    .dataframe tbody tr th {\n",
       "        vertical-align: top;\n",
       "    }\n",
       "\n",
       "    .dataframe thead th {\n",
       "        text-align: right;\n",
       "    }\n",
       "</style>\n",
       "<table border=\"1\" class=\"dataframe\">\n",
       "  <thead>\n",
       "    <tr style=\"text-align: right;\">\n",
       "      <th></th>\n",
       "      <th>match_id</th>\n",
       "      <th>tournament_location</th>\n",
       "      <th>tournament_name</th>\n",
       "      <th>Date</th>\n",
       "      <th>tournament_level</th>\n",
       "      <th>indoor_or_outdoor</th>\n",
       "      <th>Surface</th>\n",
       "      <th>Round</th>\n",
       "      <th>W1</th>\n",
       "      <th>L1</th>\n",
       "      <th>...</th>\n",
       "      <th>loser_total_wins_tournament_history</th>\n",
       "      <th>loser_total_losses_tournament_history</th>\n",
       "      <th>url</th>\n",
       "      <th>winner_Name</th>\n",
       "      <th>winner_Date_of_birth</th>\n",
       "      <th>loser_Name</th>\n",
       "      <th>loser_Date_of_birth</th>\n",
       "      <th>scheduled</th>\n",
       "      <th>player1_id</th>\n",
       "      <th>player2_id</th>\n",
       "    </tr>\n",
       "  </thead>\n",
       "  <tbody>\n",
       "    <tr>\n",
       "      <th>0</th>\n",
       "      <td>Brisbane_2018_105238_106043</td>\n",
       "      <td>Brisbane</td>\n",
       "      <td>Brisbane International</td>\n",
       "      <td>2017-12-31</td>\n",
       "      <td>ATP250</td>\n",
       "      <td>Outdoor</td>\n",
       "      <td>hard</td>\n",
       "      <td>1st Round</td>\n",
       "      <td>6.0</td>\n",
       "      <td>4.0</td>\n",
       "      <td>...</td>\n",
       "      <td>0.0</td>\n",
       "      <td>0.0</td>\n",
       "      <td>NaN</td>\n",
       "      <td>NaN</td>\n",
       "      <td>NaN</td>\n",
       "      <td>NaN</td>\n",
       "      <td>NaN</td>\n",
       "      <td>NaN</td>\n",
       "      <td>NaN</td>\n",
       "      <td>NaN</td>\n",
       "    </tr>\n",
       "    <tr>\n",
       "      <th>1</th>\n",
       "      <td>Brisbane_2018_105449_200282</td>\n",
       "      <td>Brisbane</td>\n",
       "      <td>Brisbane International</td>\n",
       "      <td>2017-12-31</td>\n",
       "      <td>ATP250</td>\n",
       "      <td>Outdoor</td>\n",
       "      <td>hard</td>\n",
       "      <td>1st Round</td>\n",
       "      <td>7.0</td>\n",
       "      <td>6.0</td>\n",
       "      <td>...</td>\n",
       "      <td>0.0</td>\n",
       "      <td>0.0</td>\n",
       "      <td>NaN</td>\n",
       "      <td>NaN</td>\n",
       "      <td>NaN</td>\n",
       "      <td>NaN</td>\n",
       "      <td>NaN</td>\n",
       "      <td>NaN</td>\n",
       "      <td>NaN</td>\n",
       "      <td>NaN</td>\n",
       "    </tr>\n",
       "    <tr>\n",
       "      <th>2</th>\n",
       "      <td>Pune_2018_105732_106065</td>\n",
       "      <td>Pune</td>\n",
       "      <td>Tata Open</td>\n",
       "      <td>2018-01-01</td>\n",
       "      <td>ATP250</td>\n",
       "      <td>Outdoor</td>\n",
       "      <td>hard</td>\n",
       "      <td>1st Round</td>\n",
       "      <td>7.0</td>\n",
       "      <td>6.0</td>\n",
       "      <td>...</td>\n",
       "      <td>0.0</td>\n",
       "      <td>0.0</td>\n",
       "      <td>NaN</td>\n",
       "      <td>NaN</td>\n",
       "      <td>NaN</td>\n",
       "      <td>NaN</td>\n",
       "      <td>NaN</td>\n",
       "      <td>NaN</td>\n",
       "      <td>NaN</td>\n",
       "      <td>NaN</td>\n",
       "    </tr>\n",
       "    <tr>\n",
       "      <th>3</th>\n",
       "      <td>Pune_2018_106148_106368</td>\n",
       "      <td>Pune</td>\n",
       "      <td>Tata Open</td>\n",
       "      <td>2018-01-01</td>\n",
       "      <td>ATP250</td>\n",
       "      <td>Outdoor</td>\n",
       "      <td>hard</td>\n",
       "      <td>1st Round</td>\n",
       "      <td>7.0</td>\n",
       "      <td>6.0</td>\n",
       "      <td>...</td>\n",
       "      <td>0.0</td>\n",
       "      <td>0.0</td>\n",
       "      <td>NaN</td>\n",
       "      <td>NaN</td>\n",
       "      <td>NaN</td>\n",
       "      <td>NaN</td>\n",
       "      <td>NaN</td>\n",
       "      <td>NaN</td>\n",
       "      <td>NaN</td>\n",
       "      <td>NaN</td>\n",
       "    </tr>\n",
       "    <tr>\n",
       "      <th>4</th>\n",
       "      <td>Brisbane_2018_111442_111577</td>\n",
       "      <td>Brisbane</td>\n",
       "      <td>Brisbane International</td>\n",
       "      <td>2018-01-01</td>\n",
       "      <td>ATP250</td>\n",
       "      <td>Outdoor</td>\n",
       "      <td>hard</td>\n",
       "      <td>1st Round</td>\n",
       "      <td>6.0</td>\n",
       "      <td>2.0</td>\n",
       "      <td>...</td>\n",
       "      <td>0.0</td>\n",
       "      <td>0.0</td>\n",
       "      <td>NaN</td>\n",
       "      <td>NaN</td>\n",
       "      <td>NaN</td>\n",
       "      <td>NaN</td>\n",
       "      <td>NaN</td>\n",
       "      <td>NaN</td>\n",
       "      <td>NaN</td>\n",
       "      <td>NaN</td>\n",
       "    </tr>\n",
       "    <tr>\n",
       "      <th>...</th>\n",
       "      <td>...</td>\n",
       "      <td>...</td>\n",
       "      <td>...</td>\n",
       "      <td>...</td>\n",
       "      <td>...</td>\n",
       "      <td>...</td>\n",
       "      <td>...</td>\n",
       "      <td>...</td>\n",
       "      <td>...</td>\n",
       "      <td>...</td>\n",
       "      <td>...</td>\n",
       "      <td>...</td>\n",
       "      <td>...</td>\n",
       "      <td>...</td>\n",
       "      <td>...</td>\n",
       "      <td>...</td>\n",
       "      <td>...</td>\n",
       "      <td>...</td>\n",
       "      <td>...</td>\n",
       "      <td>...</td>\n",
       "      <td>...</td>\n",
       "    </tr>\n",
       "    <tr>\n",
       "      <th>14890</th>\n",
       "      <td>melbourne_2025_104792_210097</td>\n",
       "      <td>melbourne</td>\n",
       "      <td>AUSTRALIAN OPEN</td>\n",
       "      <td>2025-01-20</td>\n",
       "      <td>Grand Slam</td>\n",
       "      <td>outdoor</td>\n",
       "      <td>hard</td>\n",
       "      <td>4th Round</td>\n",
       "      <td>7.0</td>\n",
       "      <td>6.0</td>\n",
       "      <td>...</td>\n",
       "      <td>11.0</td>\n",
       "      <td>6.0</td>\n",
       "      <td>https://www.livesport.com/game/O0dh5rEN/#/game...</td>\n",
       "      <td>Shelton Ben</td>\n",
       "      <td>2002-10-09</td>\n",
       "      <td>Monfils Gael</td>\n",
       "      <td>1986-09-01</td>\n",
       "      <td>0.0</td>\n",
       "      <td>104792.0</td>\n",
       "      <td>210097.0</td>\n",
       "    </tr>\n",
       "    <tr>\n",
       "      <th>14891</th>\n",
       "      <td>melbourne_2025_206173_208029</td>\n",
       "      <td>melbourne</td>\n",
       "      <td>AUSTRALIAN OPEN</td>\n",
       "      <td>2025-01-20</td>\n",
       "      <td>Grand Slam</td>\n",
       "      <td>outdoor</td>\n",
       "      <td>hard</td>\n",
       "      <td>4th Round</td>\n",
       "      <td>6.0</td>\n",
       "      <td>3.0</td>\n",
       "      <td>...</td>\n",
       "      <td>5.0</td>\n",
       "      <td>3.0</td>\n",
       "      <td>https://www.livesport.com/game/UiI5qyRi/#/game...</td>\n",
       "      <td>Sinner Jannik</td>\n",
       "      <td>2001-08-16</td>\n",
       "      <td>Rune Holger</td>\n",
       "      <td>2003-04-29</td>\n",
       "      <td>0.0</td>\n",
       "      <td>206173.0</td>\n",
       "      <td>208029.0</td>\n",
       "    </tr>\n",
       "    <tr>\n",
       "      <th>14892</th>\n",
       "      <td>melbourne_2025_100644_126205</td>\n",
       "      <td>melbourne</td>\n",
       "      <td>AUSTRALIAN OPEN</td>\n",
       "      <td>2025-01-21</td>\n",
       "      <td>Grand Slam</td>\n",
       "      <td>outdoor</td>\n",
       "      <td>hard</td>\n",
       "      <td>Quarterfinals</td>\n",
       "      <td>7.0</td>\n",
       "      <td>6.0</td>\n",
       "      <td>...</td>\n",
       "      <td>13.0</td>\n",
       "      <td>5.0</td>\n",
       "      <td>https://www.livesport.com/game/0jsKgmVs/#/game...</td>\n",
       "      <td>Zverev Alexander</td>\n",
       "      <td>1997-04-20</td>\n",
       "      <td>Paul Tommy</td>\n",
       "      <td>1997-05-17</td>\n",
       "      <td>0.0</td>\n",
       "      <td>100644.0</td>\n",
       "      <td>126205.0</td>\n",
       "    </tr>\n",
       "    <tr>\n",
       "      <th>14893</th>\n",
       "      <td>melbourne_2025_200282_206173</td>\n",
       "      <td>melbourne</td>\n",
       "      <td>AUSTRALIAN OPEN</td>\n",
       "      <td>2025-01-22</td>\n",
       "      <td>Grand Slam</td>\n",
       "      <td>outdoor</td>\n",
       "      <td>hard</td>\n",
       "      <td>Quarterfinals</td>\n",
       "      <td>NaN</td>\n",
       "      <td>NaN</td>\n",
       "      <td>...</td>\n",
       "      <td>15.0</td>\n",
       "      <td>6.0</td>\n",
       "      <td>https://www.livesport.com/game/8bkIHp4s/#/game...</td>\n",
       "      <td>Sinner Jannik</td>\n",
       "      <td>2001-08-16</td>\n",
       "      <td>De Minaur Alex</td>\n",
       "      <td>1999-02-17</td>\n",
       "      <td>1.0</td>\n",
       "      <td>200282.0</td>\n",
       "      <td>206173.0</td>\n",
       "    </tr>\n",
       "    <tr>\n",
       "      <th>14894</th>\n",
       "      <td>melbourne_2025_132283_210097</td>\n",
       "      <td>melbourne</td>\n",
       "      <td>AUSTRALIAN OPEN</td>\n",
       "      <td>2025-01-22</td>\n",
       "      <td>Grand Slam</td>\n",
       "      <td>outdoor</td>\n",
       "      <td>hard</td>\n",
       "      <td>Quarterfinals</td>\n",
       "      <td>NaN</td>\n",
       "      <td>NaN</td>\n",
       "      <td>...</td>\n",
       "      <td>8.0</td>\n",
       "      <td>6.0</td>\n",
       "      <td>https://www.livesport.com/game/lfS72eWI/#/game...</td>\n",
       "      <td>Shelton Ben</td>\n",
       "      <td>2002-10-09</td>\n",
       "      <td>Sonego Lorenzo</td>\n",
       "      <td>1995-05-11</td>\n",
       "      <td>1.0</td>\n",
       "      <td>132283.0</td>\n",
       "      <td>210097.0</td>\n",
       "    </tr>\n",
       "  </tbody>\n",
       "</table>\n",
       "<p>14895 rows × 242 columns</p>\n",
       "</div>"
      ]
     },
     "execution_count": 10,
     "metadata": {},
     "output_type": "execute_result"
    }
   ],
   "execution_count": 10
  },
  {
   "metadata": {
    "ExecuteTime": {
     "end_time": "2025-01-21T14:06:52.447110Z",
     "start_time": "2025-01-21T14:06:52.047115Z"
    }
   },
   "cell_type": "code",
   "source": "matches2 = pd.read_csv(\"all_matches_processed_old.csv\")\n",
   "id": "d2ff662e4875fda5",
   "outputs": [
    {
     "name": "stderr",
     "output_type": "stream",
     "text": [
      "C:\\Users\\Pawel\\AppData\\Local\\Temp\\ipykernel_6004\\2789376284.py:1: DtypeWarning: Columns (27,234,235,236,237,238,239) have mixed types. Specify dtype option on import or set low_memory=False.\n",
      "  matches2 = pd.read_csv(\"all_matches_processed_old.csv\")\n"
     ]
    }
   ],
   "execution_count": 18
  },
  {
   "metadata": {
    "ExecuteTime": {
     "end_time": "2025-01-21T14:07:08.685444Z",
     "start_time": "2025-01-21T14:07:08.671987Z"
    }
   },
   "cell_type": "code",
   "source": "matches2['match_id'] = matches2['match_id'].apply(normalize_match_id)\n",
   "id": "a5ae4241827d3084",
   "outputs": [],
   "execution_count": 19
  },
  {
   "metadata": {
    "ExecuteTime": {
     "end_time": "2025-01-21T14:07:21.149692Z",
     "start_time": "2025-01-21T14:07:21.146247Z"
    }
   },
   "cell_type": "code",
   "source": "matches2.shape",
   "id": "784aa9444abc102c",
   "outputs": [
    {
     "data": {
      "text/plain": [
       "(17038, 242)"
      ]
     },
     "execution_count": 21,
     "metadata": {},
     "output_type": "execute_result"
    }
   ],
   "execution_count": 21
  },
  {
   "metadata": {
    "ExecuteTime": {
     "end_time": "2025-01-21T14:07:32.412649Z",
     "start_time": "2025-01-21T14:07:30.336354Z"
    }
   },
   "cell_type": "code",
   "source": "matches2.to_csv(\"all_matches_processed.csv\", index=False)",
   "id": "3d0d3aa730538921",
   "outputs": [],
   "execution_count": 22
  },
  {
   "metadata": {
    "ExecuteTime": {
     "end_time": "2025-01-21T14:07:39.182842Z",
     "start_time": "2025-01-21T14:07:38.727333Z"
    }
   },
   "cell_type": "code",
   "source": "matches = pd.read_csv(\"all_matches_processed.csv\")\n",
   "id": "738e57a741ee689a",
   "outputs": [
    {
     "name": "stderr",
     "output_type": "stream",
     "text": [
      "C:\\Users\\Pawel\\AppData\\Local\\Temp\\ipykernel_6004\\3055885449.py:1: DtypeWarning: Columns (27,234,235,236,237,238,239) have mixed types. Specify dtype option on import or set low_memory=False.\n",
      "  matches = pd.read_csv(\"all_matches_processed.csv\")\n"
     ]
    }
   ],
   "execution_count": 23
  },
  {
   "metadata": {
    "ExecuteTime": {
     "end_time": "2025-01-21T14:07:43.243434Z",
     "start_time": "2025-01-21T14:07:43.239844Z"
    }
   },
   "cell_type": "code",
   "source": "matches.shape",
   "id": "6bbefa5d9fb9588e",
   "outputs": [
    {
     "data": {
      "text/plain": [
       "(17038, 242)"
      ]
     },
     "execution_count": 24,
     "metadata": {},
     "output_type": "execute_result"
    }
   ],
   "execution_count": 24
  },
  {
   "metadata": {},
   "cell_type": "code",
   "outputs": [],
   "execution_count": null,
   "source": "",
   "id": "1da4a714739ce5c0"
  }
 ],
 "metadata": {
  "kernelspec": {
   "display_name": "Python 3",
   "language": "python",
   "name": "python3"
  },
  "language_info": {
   "codemirror_mode": {
    "name": "ipython",
    "version": 2
   },
   "file_extension": ".py",
   "mimetype": "text/x-python",
   "name": "python",
   "nbconvert_exporter": "python",
   "pygments_lexer": "ipython2",
   "version": "2.7.6"
  }
 },
 "nbformat": 4,
 "nbformat_minor": 5
}
