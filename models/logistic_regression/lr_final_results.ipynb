{
 "cells": [
  {
   "cell_type": "code",
   "execution_count": 87,
   "metadata": {},
   "outputs": [],
   "source": [
    "import pandas as pd\n",
    "import numpy as np\n",
    "import matplotlib.pyplot as plt\n",
    "import optuna\n",
    "from sklearn.model_selection import train_test_split, cross_val_score\n",
    "from sklearn.metrics import log_loss\n",
    "from sklearn.preprocessing import StandardScaler, MinMaxScaler\n",
    "from sklearn.linear_model import LogisticRegression\n",
    "from scipy.stats import kstest\n",
    "import joblib\n",
    "import json\n",
    "from sklearn.metrics import accuracy_score, brier_score_loss"
   ]
  },
  {
   "cell_type": "code",
   "execution_count": 88,
   "metadata": {},
   "outputs": [],
   "source": [
    "matches = pd.read_csv(\"../../preparation_before_models/data/matches.csv\")"
   ]
  },
  {
   "cell_type": "code",
   "execution_count": 89,
   "metadata": {},
   "outputs": [],
   "source": [
    "best_features_log_nested = np.load(\"../logistic_regression/best_models/best_features_log_nested.npy\")\n",
    "best_model_log_nested= joblib.load(\"../logistic_regression/best_models/best_model_log_nested.pkl\")\n",
    "best_model_log_cros=joblib.load(\"../logistic_regression/best_models/best_model_log_cros.pkl\")\n",
    "best_features_log_cros = np.load(\"../logistic_regression/best_models/best_features_log_cros.npy\")"
   ]
  },
  {
   "cell_type": "code",
   "execution_count": null,
   "metadata": {},
   "outputs": [],
   "source": [
    "matches['Date'] = pd.to_datetime(matches['Date'])\n",
    "print(matches['Date'].head())\n",
    "print(matches['Date'].dtype)"
   ]
  },
  {
   "cell_type": "code",
   "execution_count": null,
   "metadata": {},
   "outputs": [],
   "source": [
    "def combine_player_columns(df):\n",
    "    combined_df = df.copy()\n",
    "    difference_columns = {}\n",
    "\n",
    "    \n",
    "    for col in df.columns:\n",
    "        if col.startswith('player1_'):\n",
    "            suffix = col[len('player1_'):]\n",
    "            player2_col = f'player2_{suffix}'\n",
    "            \n",
    "            if player2_col in df.columns:\n",
    "                \n",
    "                diff_col_name = f'diff_{suffix}'\n",
    "                combined_df[diff_col_name] = df[col] - df[player2_col]\n",
    "                \n",
    "                \n",
    "                difference_columns[col] = diff_col_name\n",
    "                difference_columns[player2_col] = diff_col_name\n",
    "\n",
    "    \n",
    "    combined_df = combined_df.drop(columns=difference_columns.keys())\n",
    "    \n",
    "    return combined_df\n",
    "\n",
    "\n",
    "matches = combine_player_columns(matches)\n",
    "\n",
    "\n",
    "print(\"Columns after combining:\")\n",
    "print(matches.columns)"
   ]
  },
  {
   "cell_type": "code",
   "execution_count": 92,
   "metadata": {},
   "outputs": [],
   "source": [
    "matches=matches.drop(columns=['non_CO_uncertainty', 'CO_uncertainty',\"outdoor\", \"tournament_level\", \"best_of\", \"Round_Num\", \"Surface_Clay\", \"Surface_Grass\", \"Surface_Hard\", \"temperature_2m\", \"relative_humidity_2m\", \"windspeed_10m\",  \"apparent_temperature\", \"diff_right_handed\",\"diff_bet_odds\",\"w_ace_avg\", \"l_ace_avg\", \"w_CO_ace_avg\", \"l_CO_ace_avg\",\"w_df_avg\", \"l_df_avg\", \"w_CO_df_avg\", \"l_CO_df_avg\", \"w_2ndIn_avg\",\"l_2ndIn_avg\",\"w_CO_2ndIn_avg\", \"l_CO_2ndIn_avg\"])"
   ]
  },
  {
   "cell_type": "code",
   "execution_count": 93,
   "metadata": {},
   "outputs": [],
   "source": [
    "def scale_features(X):\n",
    "    scaled_X = X.copy()\n",
    "    for col in X.columns:\n",
    "        if kstest(X[col], 'norm').pvalue > 0.05:\n",
    "            \n",
    "            scaler = StandardScaler()\n",
    "        else:\n",
    "            \n",
    "            scaler = MinMaxScaler()\n",
    "        scaled_X[col] = scaler.fit_transform(X[[col]])\n",
    "    return scaled_X"
   ]
  },
  {
   "cell_type": "markdown",
   "metadata": {},
   "source": [
    "## Wyniki dla wszystkich danych zbioru testowego"
   ]
  },
  {
   "cell_type": "code",
   "execution_count": 94,
   "metadata": {},
   "outputs": [],
   "source": [
    "test_data = matches[matches[\"Date\"].dt.year == 2023]"
   ]
  },
  {
   "cell_type": "code",
   "execution_count": 95,
   "metadata": {},
   "outputs": [],
   "source": [
    "X_test_data = test_data.drop(columns=['target','Date', 'match_id'])\n",
    "y_test_data = test_data['target']"
   ]
  },
  {
   "cell_type": "code",
   "execution_count": 96,
   "metadata": {},
   "outputs": [],
   "source": [
    "X_scaled = scale_features(X_test_data)"
   ]
  },
  {
   "cell_type": "code",
   "execution_count": 97,
   "metadata": {},
   "outputs": [],
   "source": [
    "X_selected_nested = X_scaled.iloc[:, best_features_log_nested]"
   ]
  },
  {
   "cell_type": "code",
   "execution_count": 98,
   "metadata": {},
   "outputs": [],
   "source": [
    "y_pred_nested = best_model_log_nested.predict(X_selected_nested)"
   ]
  },
  {
   "cell_type": "code",
   "execution_count": 99,
   "metadata": {},
   "outputs": [],
   "source": [
    "y_pred_nested_proba = best_model_log_nested.predict_proba(X_selected_nested)[:,1]"
   ]
  },
  {
   "cell_type": "code",
   "execution_count": null,
   "metadata": {},
   "outputs": [],
   "source": [
    "print(\"Accuracy: \", accuracy_score(y_test_data, y_pred_nested))\n",
    "print(\"Brier score: \", brier_score_loss(y_test_data, y_pred_nested_proba))\n",
    "print(\"Log loss: \", log_loss(y_test_data, y_pred_nested_proba))"
   ]
  },
  {
   "cell_type": "markdown",
   "metadata": {},
   "source": [
    "## Wyniki dla zawodników z pierwszej 50 rankingu"
   ]
  },
  {
   "cell_type": "code",
   "execution_count": 103,
   "metadata": {},
   "outputs": [],
   "source": [
    "matches = pd.read_csv(\"../../preparation_before_models/data/matches.csv\")\n",
    "matches['Date'] = pd.to_datetime(matches['Date'])\n",
    "matches=matches[(matches[\"player1_rank\"]<50) & (matches[\"player2_rank\"]<50)]\n",
    "matches = combine_player_columns(matches)\n",
    "matches=matches.drop(columns=['non_CO_uncertainty', 'CO_uncertainty',\"outdoor\", \"tournament_level\", \"best_of\", \"Round_Num\", \"Surface_Clay\", \"Surface_Grass\", \"Surface_Hard\", \"temperature_2m\", \"relative_humidity_2m\", \"windspeed_10m\",  \"apparent_temperature\", \"diff_right_handed\",\"diff_bet_odds\",\"w_ace_avg\", \"l_ace_avg\", \"w_CO_ace_avg\", \"l_CO_ace_avg\",\"w_df_avg\", \"l_df_avg\", \"w_CO_df_avg\", \"l_CO_df_avg\", \"w_2ndIn_avg\",\"l_2ndIn_avg\",\"w_CO_2ndIn_avg\", \"l_CO_2ndIn_avg\"])\n",
    "test_data_rank_50 = matches[matches[\"Date\"].dt.year == 2023]"
   ]
  },
  {
   "cell_type": "code",
   "execution_count": 104,
   "metadata": {},
   "outputs": [],
   "source": [
    "X_test_data_rank_50 = test_data_rank_50.drop(columns=['target','Date', 'match_id'])\n",
    "y_test_data_rank_50 = test_data_rank_50['target']"
   ]
  },
  {
   "cell_type": "code",
   "execution_count": 105,
   "metadata": {},
   "outputs": [],
   "source": [
    "X_scaled_rank_50 = scale_features(X_test_data_rank_50)"
   ]
  },
  {
   "cell_type": "code",
   "execution_count": 106,
   "metadata": {},
   "outputs": [],
   "source": [
    "X_selected_rank_50_nested = X_scaled_rank_50.iloc[:, best_features_log_nested]"
   ]
  },
  {
   "cell_type": "code",
   "execution_count": 107,
   "metadata": {},
   "outputs": [],
   "source": [
    "y_pred_nested_rank_50 = best_model_log_nested.predict(X_selected_rank_50_nested)"
   ]
  },
  {
   "cell_type": "code",
   "execution_count": 108,
   "metadata": {},
   "outputs": [],
   "source": [
    "y_pred_nested_proba_rank_50 = best_model_log_nested.predict_proba(X_selected_rank_50_nested)[:,1]"
   ]
  },
  {
   "cell_type": "code",
   "execution_count": null,
   "metadata": {},
   "outputs": [],
   "source": [
    "print(\"Accuracy: \", accuracy_score(y_test_data_rank_50, y_pred_nested_rank_50))\n",
    "print(\"Brier score: \", brier_score_loss(y_test_data_rank_50, y_pred_nested_proba_rank_50))\n",
    "print(\"Log loss: \", log_loss(y_test_data_rank_50, y_pred_nested_proba_rank_50))"
   ]
  },
  {
   "cell_type": "markdown",
   "metadata": {},
   "source": [
    "## TOP 50% niepewności"
   ]
  },
  {
   "cell_type": "code",
   "execution_count": 111,
   "metadata": {},
   "outputs": [],
   "source": [
    "matches = pd.read_csv(\"../../preparation_before_models/data/matches.csv\")\n",
    "matches['Date'] = pd.to_datetime(matches['Date'])\n",
    "matches=matches[matches[\"Date\"].dt.year == 2023]\n",
    "matches=matches.nsmallest(int(len(matches) * 0.5), 'CO_uncertainty')\n",
    "matches=matches[(matches[\"player1_rank\"]<50) & (matches[\"player2_rank\"]<50)]\n",
    "matches = combine_player_columns(matches)\n",
    "matches=matches.drop(columns=['non_CO_uncertainty', 'CO_uncertainty',\"outdoor\", \"tournament_level\", \"best_of\", \"Round_Num\", \"Surface_Clay\", \"Surface_Grass\", \"Surface_Hard\", \"temperature_2m\", \"relative_humidity_2m\", \"windspeed_10m\",  \"apparent_temperature\", \"diff_right_handed\",\"diff_bet_odds\",\"w_ace_avg\", \"l_ace_avg\", \"w_CO_ace_avg\", \"l_CO_ace_avg\",\"w_df_avg\", \"l_df_avg\", \"w_CO_df_avg\", \"l_CO_df_avg\", \"w_2ndIn_avg\",\"l_2ndIn_avg\",\"w_CO_2ndIn_avg\", \"l_CO_2ndIn_avg\"])\n",
    "test_certain_data = matches"
   ]
  },
  {
   "cell_type": "code",
   "execution_count": 112,
   "metadata": {},
   "outputs": [],
   "source": [
    "X_test_certain_data = test_certain_data.drop(columns=['target','Date', 'match_id'])\n",
    "y_test_certain_data = test_certain_data['target']"
   ]
  },
  {
   "cell_type": "code",
   "execution_count": 113,
   "metadata": {},
   "outputs": [],
   "source": [
    "X_scaled_certain = scale_features(X_test_certain_data)"
   ]
  },
  {
   "cell_type": "code",
   "execution_count": 114,
   "metadata": {},
   "outputs": [],
   "source": [
    "X_selected_certain_nested = X_scaled_certain.iloc[:, best_features_log_nested]"
   ]
  },
  {
   "cell_type": "code",
   "execution_count": 115,
   "metadata": {},
   "outputs": [],
   "source": [
    "y_pred_nested_certain = best_model_log_nested.predict(X_selected_certain_nested)"
   ]
  },
  {
   "cell_type": "code",
   "execution_count": 116,
   "metadata": {},
   "outputs": [],
   "source": [
    "y_pred_nested_proba_certain = best_model_log_nested.predict_proba(X_selected_certain_nested)[:,1]"
   ]
  },
  {
   "cell_type": "code",
   "execution_count": null,
   "metadata": {},
   "outputs": [],
   "source": [
    "print(\"Accuracy: \", accuracy_score(y_test_certain_data, y_pred_nested_certain))\n",
    "print(\"Brier score: \", brier_score_loss(y_test_certain_data, y_pred_nested_proba_certain))\n",
    "print(\"Log loss: \", log_loss(y_test_certain_data,  y_pred_nested_proba_certain))"
   ]
  },
  {
   "cell_type": "markdown",
   "metadata": {},
   "source": [
    "## Wyniki dla cros"
   ]
  },
  {
   "cell_type": "code",
   "execution_count": null,
   "metadata": {},
   "outputs": [],
   "source": [
    "matches = pd.read_csv(\"../../preparation_before_models/data/matches.csv\")\n",
    "matches['Date'] = pd.to_datetime(matches['Date'])\n",
    "matches=matches[matches[\"Date\"].dt.year == 2023]\n",
    "matches = combine_player_columns(matches)\n",
    "matches=matches.drop(columns=['non_CO_uncertainty', 'CO_uncertainty',\"outdoor\", \"tournament_level\", \"best_of\", \"Round_Num\", \"Surface_Clay\", \"Surface_Grass\", \"Surface_Hard\", \"temperature_2m\", \"relative_humidity_2m\", \"windspeed_10m\",  \"apparent_temperature\", \"diff_right_handed\",\"diff_bet_odds\",\"w_ace_avg\", \"l_ace_avg\", \"w_CO_ace_avg\", \"l_CO_ace_avg\",\"w_df_avg\", \"l_df_avg\", \"w_CO_df_avg\", \"l_CO_df_avg\", \"w_2ndIn_avg\",\"l_2ndIn_avg\",\"w_CO_2ndIn_avg\", \"l_CO_2ndIn_avg\"])\n",
    "test_data=matches"
   ]
  },
  {
   "cell_type": "code",
   "execution_count": 118,
   "metadata": {},
   "outputs": [],
   "source": [
    "X_selected_cros = X_scaled.iloc[:, best_features_log_cros]"
   ]
  },
  {
   "cell_type": "code",
   "execution_count": 119,
   "metadata": {},
   "outputs": [],
   "source": [
    "y_pred_cros = best_model_log_cros.predict(X_selected_cros)"
   ]
  },
  {
   "cell_type": "code",
   "execution_count": 120,
   "metadata": {},
   "outputs": [],
   "source": [
    "y_pred_cros_proba = best_model_log_cros.predict_proba(X_selected_cros)[:,1]"
   ]
  },
  {
   "cell_type": "code",
   "execution_count": null,
   "metadata": {},
   "outputs": [],
   "source": [
    "print(\"Accuracy: \", accuracy_score(y_test_data, y_pred_cros))\n",
    "print(\"Brier score: \", brier_score_loss(y_test_data, y_pred_cros_proba))\n",
    "print(\"Log loss: \", log_loss(y_test_data, y_pred_cros_proba))"
   ]
  },
  {
   "cell_type": "markdown",
   "metadata": {},
   "source": [
    "## cros rank 50"
   ]
  },
  {
   "cell_type": "code",
   "execution_count": 122,
   "metadata": {},
   "outputs": [],
   "source": [
    "X_selected_cros_rank_50 = X_scaled_rank_50.iloc[:, best_features_log_cros]"
   ]
  },
  {
   "cell_type": "code",
   "execution_count": 123,
   "metadata": {},
   "outputs": [],
   "source": [
    "y_pred_cros_rank_50 = best_model_log_cros.predict(X_selected_cros_rank_50)"
   ]
  },
  {
   "cell_type": "code",
   "execution_count": 124,
   "metadata": {},
   "outputs": [],
   "source": [
    "y_pred_cros_proba_rank_50 = best_model_log_cros.predict_proba(X_selected_cros_rank_50)[:,1]"
   ]
  },
  {
   "cell_type": "code",
   "execution_count": null,
   "metadata": {},
   "outputs": [],
   "source": [
    "print(\"Accuracy: \", accuracy_score(y_test_data_rank_50, y_pred_cros_rank_50))\n",
    "print(\"Brier score: \", brier_score_loss(y_test_data_rank_50, y_pred_cros_proba_rank_50))\n",
    "print(\"Log loss: \", log_loss(y_test_data_rank_50, y_pred_cros_proba_rank_50))"
   ]
  },
  {
   "cell_type": "markdown",
   "metadata": {},
   "source": [
    "## cros niepewność"
   ]
  },
  {
   "cell_type": "code",
   "execution_count": 126,
   "metadata": {},
   "outputs": [],
   "source": [
    "X_selected_cros_certain = X_scaled_certain.iloc[:, best_features_log_cros]"
   ]
  },
  {
   "cell_type": "code",
   "execution_count": 127,
   "metadata": {},
   "outputs": [],
   "source": [
    "y_pred_cros_certain = best_model_log_cros.predict(X_selected_cros_certain)"
   ]
  },
  {
   "cell_type": "code",
   "execution_count": 128,
   "metadata": {},
   "outputs": [],
   "source": [
    "y_pred_cros_proba_certain = best_model_log_cros.predict_proba(X_selected_cros_certain)[:,1]"
   ]
  },
  {
   "cell_type": "code",
   "execution_count": null,
   "metadata": {},
   "outputs": [],
   "source": [
    "print(\"Accuracy: \", accuracy_score(y_test_certain_data, y_pred_cros_certain))\n",
    "print(\"Brier score: \", brier_score_loss(y_test_certain_data, y_pred_cros_proba_certain))\n",
    "print(\"Log loss: \", log_loss(y_test_certain_data, y_pred_cros_proba_certain))"
   ]
  }
 ],
 "metadata": {
  "kernelspec": {
   "display_name": "Python 3",
   "language": "python",
   "name": "python3"
  },
  "language_info": {
   "codemirror_mode": {
    "name": "ipython",
    "version": 3
   },
   "file_extension": ".py",
   "mimetype": "text/x-python",
   "name": "python",
   "nbconvert_exporter": "python",
   "pygments_lexer": "ipython3",
   "version": "3.10.0"
  }
 },
 "nbformat": 4,
 "nbformat_minor": 2
}
