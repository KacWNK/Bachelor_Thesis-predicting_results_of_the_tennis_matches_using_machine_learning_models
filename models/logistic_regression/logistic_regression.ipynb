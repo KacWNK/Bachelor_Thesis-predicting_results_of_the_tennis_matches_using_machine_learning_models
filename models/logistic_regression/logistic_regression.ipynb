{
 "cells": [
  {
   "cell_type": "code",
   "id": "b8dd5043a5bc7ba4",
   "metadata": {
    "collapsed": false,
    "ExecuteTime": {
     "end_time": "2024-12-19T20:03:47.969667Z",
     "start_time": "2024-12-19T20:03:47.646778Z"
    }
   },
   "source": [
    "import pandas as pd\n",
    "import numpy as np"
   ],
   "outputs": [],
   "execution_count": 1
  },
  {
   "cell_type": "code",
   "id": "b4249fc9c8c46b51",
   "metadata": {
    "collapsed": false,
    "ExecuteTime": {
     "end_time": "2024-12-19T20:03:48.083051Z",
     "start_time": "2024-12-19T20:03:47.970667Z"
    }
   },
   "source": "matches = pd.read_csv(\"../../preparation_before_models/data/matches.csv\")",
   "outputs": [],
   "execution_count": 2
  },
  {
   "metadata": {
    "ExecuteTime": {
     "end_time": "2024-12-19T20:03:48.105705Z",
     "start_time": "2024-12-19T20:03:48.084097Z"
    }
   },
   "cell_type": "code",
   "source": [
    "def combine_player_columns(df):\n",
    "    \"\"\"\n",
    "    Combines player1 and player2 columns into a single column representing their difference.\n",
    "    \"\"\"\n",
    "    combined_df = df.copy()\n",
    "    difference_columns = {}\n",
    "\n",
    "    # Iterate over all columns to find matching player1/player2 columns\n",
    "    for col in df.columns:\n",
    "        if col.startswith('player1_'):\n",
    "            suffix = col[len('player1_'):]\n",
    "            player2_col = f'player2_{suffix}'\n",
    "            \n",
    "            if player2_col in df.columns:\n",
    "                # Compute the difference\n",
    "                diff_col_name = f'diff_{suffix}'\n",
    "                combined_df[diff_col_name] = df[col] - df[player2_col]\n",
    "                \n",
    "                # Track columns to drop\n",
    "                difference_columns[col] = diff_col_name\n",
    "                difference_columns[player2_col] = diff_col_name\n",
    "\n",
    "    # Drop original player1/player2 columns\n",
    "    combined_df = combined_df.drop(columns=difference_columns.keys())\n",
    "    \n",
    "    return combined_df\n",
    "\n",
    "# Example usage\n",
    "combined_matches = combine_player_columns(matches)\n",
    "\n",
    "print(f\"Original DataFrame shape: {matches.shape}\")\n",
    "print(f\"Combined DataFrame shape: {combined_matches.shape}\")\n",
    "print(\"Columns after combining:\")\n",
    "print(combined_matches.columns)\n",
    "matches = combined_matches"
   ],
   "id": "d369c91f0658fe13",
   "outputs": [
    {
     "name": "stdout",
     "output_type": "stream",
     "text": [
      "Original DataFrame shape: (14111, 83)\n",
      "Combined DataFrame shape: (14111, 48)\n",
      "Columns after combining:\n",
      "Index(['outdoor', 'tournament_level', 'best_of', 'num_CO_matches', 'Round_Num',\n",
      "       'temperature_2m', 'relative_humidity_2m', 'windspeed_10m',\n",
      "       'apparent_temperature', 'Surface_Clay', 'Surface_Grass', 'Surface_Hard',\n",
      "       'target', 'diff_bet_odds', 'diff_right_handed', 'diff_age', 'diff_rank',\n",
      "       'diff_entry_LL', 'diff_entry_Q', 'diff_entry_WC', 'diff_is_seeded',\n",
      "       'diff_CO_1st_serve_in_pct_avg', 'diff_1st_serve_in_pct_avg',\n",
      "       'diff_CO_1st_serve_win_pct_avg', 'diff_1st_serve_win_pct_avg',\n",
      "       'diff_CO_2nd_serve_win_pct_avg', 'diff_2nd_serve_win_pct_avg',\n",
      "       'diff_CO_serve_games_win_pct_avg', 'diff_serve_games_win_pct_avg',\n",
      "       'diff_CO_ace_avg', 'diff_ace_avg', 'diff_CO_df_avg', 'diff_df_avg',\n",
      "       'diff_CO_1st_serve_return_win_pct_avg',\n",
      "       'diff_1st_serve_return_win_pct_avg', 'diff_elo', 'diff_surface_elo',\n",
      "       'diff_blended_elo', 'diff_fatigue_score', 'diff_h2h_wins', 'diff_home',\n",
      "       'diff_injury_score', 'diff_win_pct_last_10',\n",
      "       'diff_win_pct_last_10_surface', 'diff_Set_Diff_Tournament',\n",
      "       'diff_Game_Diff_Tournament', 'diff_total_wins_tournament_history',\n",
      "       'diff_total_losses_tournament_history'],\n",
      "      dtype='object')\n"
     ]
    }
   ],
   "execution_count": 3
  },
  {
   "metadata": {},
   "cell_type": "markdown",
   "source": "### Pomysł na usuwanie zkorelowanych kolumn: przyniósł gorsze wyniki",
   "id": "30a16ddd02441c25"
  },
  {
   "metadata": {
    "ExecuteTime": {
     "end_time": "2024-12-19T20:03:48.109700Z",
     "start_time": "2024-12-19T20:03:48.106699Z"
    }
   },
   "cell_type": "code",
   "source": [
    "# def remove_correlated_features(data, target_column, threshold=0.9):\n",
    "#     correlation_matrix = data.corr()\n",
    "# \n",
    "#     # Correlation of each feature with the target\n",
    "#     target_corr = correlation_matrix[target_column].drop(index=target_column)\n",
    "# \n",
    "#     # Find highly correlated feature pairs\n",
    "#     corr_pairs = correlation_matrix.abs().unstack().sort_values(ascending=False).reset_index()\n",
    "#     corr_pairs.columns = [\"Feature 1\", \"Feature 2\", \"Correlation\"]\n",
    "# \n",
    "#     # Filter for high correlations (above threshold)\n",
    "#     high_corr_pairs = corr_pairs[\n",
    "#         (corr_pairs[\"Correlation\"] > threshold) & \n",
    "#         (corr_pairs[\"Feature 1\"] != corr_pairs[\"Feature 2\"])\n",
    "#     ]\n",
    "# \n",
    "#     # Remove duplicates (keep one direction of each pair)\n",
    "#     high_corr_pairs = high_corr_pairs[\n",
    "#         high_corr_pairs[\"Feature 1\"] < high_corr_pairs[\"Feature 2\"]\n",
    "#     ]\n",
    "# \n",
    "#     # Features to drop\n",
    "#     to_drop = set()\n",
    "#     for _, row in high_corr_pairs.iterrows():\n",
    "#         feature1, feature2 = row[\"Feature 1\"], row[\"Feature 2\"]\n",
    "#         # Retain the feature with higher correlation to the target\n",
    "#         if abs(target_corr[feature1]) >= abs(target_corr[feature2]):\n",
    "#             to_drop.add(feature2)\n",
    "#         else:\n",
    "#             to_drop.add(feature1)\n",
    "# \n",
    "#     # Return DataFrame with reduced features\n",
    "#     reduced_data = data.drop(columns=to_drop)\n",
    "#     return reduced_data, list(to_drop)\n",
    "# \n",
    "# threshold = 0.9\n",
    "# target_column = \"target\"  \n",
    "# reduced_data, dropped_features = remove_correlated_features(matches, target_column, threshold)\n",
    "# \n",
    "# print(f\"Dropped features: {dropped_features}\")\n",
    "# print(f\"Reduced DataFrame shape: {reduced_data.shape}\")\n"
   ],
   "id": "8e40de767ab3ea85",
   "outputs": [],
   "execution_count": 4
  },
  {
   "metadata": {
    "ExecuteTime": {
     "end_time": "2024-12-19T20:03:48.113264Z",
     "start_time": "2024-12-19T20:03:48.110700Z"
    }
   },
   "cell_type": "code",
   "source": "# reduced_data = matches.drop(columns=[\"diff_rank\", \"diff_elo\", \"diff_surface_elo\"], axis=1)",
   "id": "33196655ad0c197e",
   "outputs": [],
   "execution_count": 5
  },
  {
   "metadata": {},
   "cell_type": "markdown",
   "source": "### Próba zrobienia czegoś z CO i nie CO, to jest bez sensu wgl ale jeszcze coś można pokminić co z tym zrobić",
   "id": "89ead7f84c3624e0"
  },
  {
   "metadata": {
    "ExecuteTime": {
     "end_time": "2024-12-19T20:03:48.116796Z",
     "start_time": "2024-12-19T20:03:48.113775Z"
    }
   },
   "cell_type": "code",
   "source": [
    "# import pandas as pd\n",
    "# \n",
    "# def handle_co_stats(df):\n",
    "#     co_columns = [\n",
    "#         'CO_1st_serve_in_p_diff', '1st_serve_in_p_diff',\n",
    "#         'CO_1st_serve_win_p_diff', '1st_serve_win_p_diff',\n",
    "#         'CO_2nd_serve_win_p_diff', '2nd_serve_win_p_diff',\n",
    "#         'CO_serve_games_win_p_diff', 'serve_games_win_p_diff',\n",
    "#         'CO_avg_ace_per_match_diff', 'avg_ace_per_match_diff',\n",
    "#         'CO_avg_df_per_match_diff', 'avg_df_per_match_diff'\n",
    "#     ]\n",
    "# \n",
    "#     # Process pairs of CO and non-CO stats\n",
    "#     adjusted_columns = {}\n",
    "#     for i in range(0, len(co_columns), 2):\n",
    "#         co_col = co_columns[i]\n",
    "#         non_co_col = co_columns[i + 1]\n",
    "#         adjusted_col_name = f\"adjusted_{non_co_col}\"\n",
    "# \n",
    "#         # Calculate adjusted stats\n",
    "#         df[adjusted_col_name] = df['CO_active'] * (df[co_col] - df[non_co_col]) + df[non_co_col]\n",
    "# \n",
    "#         # Track original columns to drop\n",
    "#         adjusted_columns[co_col] = adjusted_col_name\n",
    "#         adjusted_columns[non_co_col] = adjusted_col_name\n",
    "# \n",
    "#     # Drop original CO and non-CO columns\n",
    "#     df = df.drop(columns=list(adjusted_columns.keys()))\n",
    "# \n",
    "#     return df\n",
    "# \n",
    "# # Apply the transformation\n",
    "# reduced_data = handle_co_stats(reduced_data)\n",
    "# \n",
    "# print(f\"Adjusted DataFrame shape: {reduced_data.shape}\")\n",
    "# print(\"Adjusted columns:\")\n",
    "# print(reduced_data.columns)"
   ],
   "id": "fc09871a61b7c940",
   "outputs": [],
   "execution_count": 6
  },
  {
   "metadata": {
    "ExecuteTime": {
     "end_time": "2024-12-19T20:03:48.120231Z",
     "start_time": "2024-12-19T20:03:48.116796Z"
    }
   },
   "cell_type": "code",
   "source": "# reduced_data = reduced_data.drop(columns=[\"CO_active\"])",
   "id": "5d8fcfec18369461",
   "outputs": [],
   "execution_count": 7
  },
  {
   "metadata": {
    "ExecuteTime": {
     "end_time": "2024-12-19T20:04:11.718103Z",
     "start_time": "2024-12-19T20:04:11.713915Z"
    }
   },
   "cell_type": "code",
   "source": "matches.columns",
   "id": "19bb8ed7f911cee6",
   "outputs": [
    {
     "data": {
      "text/plain": [
       "Index(['outdoor', 'tournament_level', 'best_of', 'num_CO_matches', 'Round_Num',\n",
       "       'temperature_2m', 'relative_humidity_2m', 'windspeed_10m',\n",
       "       'apparent_temperature', 'Surface_Clay', 'Surface_Grass', 'Surface_Hard',\n",
       "       'target', 'diff_bet_odds', 'diff_right_handed', 'diff_age', 'diff_rank',\n",
       "       'diff_entry_LL', 'diff_entry_Q', 'diff_entry_WC', 'diff_is_seeded',\n",
       "       'diff_CO_1st_serve_in_pct_avg', 'diff_1st_serve_in_pct_avg',\n",
       "       'diff_CO_1st_serve_win_pct_avg', 'diff_1st_serve_win_pct_avg',\n",
       "       'diff_CO_2nd_serve_win_pct_avg', 'diff_2nd_serve_win_pct_avg',\n",
       "       'diff_CO_serve_games_win_pct_avg', 'diff_serve_games_win_pct_avg',\n",
       "       'diff_CO_ace_avg', 'diff_ace_avg', 'diff_CO_df_avg', 'diff_df_avg',\n",
       "       'diff_CO_1st_serve_return_win_pct_avg',\n",
       "       'diff_1st_serve_return_win_pct_avg', 'diff_elo', 'diff_surface_elo',\n",
       "       'diff_blended_elo', 'diff_fatigue_score', 'diff_h2h_wins', 'diff_home',\n",
       "       'diff_injury_score', 'diff_win_pct_last_10',\n",
       "       'diff_win_pct_last_10_surface', 'diff_Set_Diff_Tournament',\n",
       "       'diff_Game_Diff_Tournament', 'diff_total_wins_tournament_history',\n",
       "       'diff_total_losses_tournament_history'],\n",
       "      dtype='object')"
      ]
     },
     "execution_count": 10,
     "metadata": {},
     "output_type": "execute_result"
    }
   ],
   "execution_count": 10
  },
  {
   "metadata": {},
   "cell_type": "markdown",
   "source": "### Splitowanie na test i train",
   "id": "4f99009ce7b8b6be"
  },
  {
   "metadata": {
    "ExecuteTime": {
     "end_time": "2024-12-19T20:08:02.680823Z",
     "start_time": "2024-12-19T20:08:02.666596Z"
    }
   },
   "cell_type": "code",
   "source": [
    "from sklearn.model_selection import train_test_split\n",
    "\n",
    "\n",
    "X = matches.drop(columns=['target', \"outdoor\", \"tournament_level\", \"best_of\", \"Round_Num\", \"num_CO_matches\", \"Surface_Clay\", \"Surface_Grass\", \"Surface_Hard\", \"temperature_2m\", \"relative_humidity_2m\", \"windspeed_10m\",  \"apparent_temperature\", \"diff_right_handed\",\"diff_bet_odds\"])\n",
    "y = matches['target']\n",
    "\n",
    "# Split into training and testing sets\n",
    "X_train, X_test, y_train, y_test= train_test_split(X, y, test_size=0.3, random_state=42, stratify=y)\n",
    "\n",
    "# Verify the split\n",
    "print(\"X_train shape:\", X_train.shape)\n",
    "print(\"y_train shape:\", y_train.shape)\n",
    "print(\"X_test shape:\", X_test.shape)\n",
    "print(\"y_test shape:\", y_test.shape)"
   ],
   "id": "bd13c10c90fcfeeb",
   "outputs": [
    {
     "name": "stdout",
     "output_type": "stream",
     "text": [
      "X_train shape: (9877, 33)\n",
      "y_train shape: (9877,)\n",
      "X_test shape: (4234, 33)\n",
      "y_test shape: (4234,)\n"
     ]
    }
   ],
   "execution_count": 25
  },
  {
   "metadata": {
    "ExecuteTime": {
     "end_time": "2024-12-19T20:08:03.399718Z",
     "start_time": "2024-12-19T20:08:03.381279Z"
    }
   },
   "cell_type": "code",
   "source": [
    "X_train = X_train.apply(pd.to_numeric, errors='coerce')\n",
    "X_test = X_test.apply(pd.to_numeric, errors='coerce')\n",
    "print(X_train.isnull().sum().sum())  # Total NaN in X_train\n",
    "print(X_test.isnull().sum().sum())  # Total NaN in X_test\n",
    "\n",
    "print(X_train.dtypes)\n",
    "print(X_test.dtypes)\n",
    "X_train, X_test = X_train.align(X_test, join='left', axis=1)"
   ],
   "id": "cef5f260a5e89dcf",
   "outputs": [
    {
     "name": "stdout",
     "output_type": "stream",
     "text": [
      "0\n",
      "0\n",
      "diff_age                                float64\n",
      "diff_rank                               float64\n",
      "diff_entry_LL                             int64\n",
      "diff_entry_Q                              int64\n",
      "diff_entry_WC                             int64\n",
      "diff_is_seeded                            int64\n",
      "diff_CO_1st_serve_in_pct_avg            float64\n",
      "diff_1st_serve_in_pct_avg               float64\n",
      "diff_CO_1st_serve_win_pct_avg           float64\n",
      "diff_1st_serve_win_pct_avg              float64\n",
      "diff_CO_2nd_serve_win_pct_avg           float64\n",
      "diff_2nd_serve_win_pct_avg              float64\n",
      "diff_CO_serve_games_win_pct_avg         float64\n",
      "diff_serve_games_win_pct_avg            float64\n",
      "diff_CO_ace_avg                         float64\n",
      "diff_ace_avg                            float64\n",
      "diff_CO_df_avg                          float64\n",
      "diff_df_avg                             float64\n",
      "diff_CO_1st_serve_return_win_pct_avg    float64\n",
      "diff_1st_serve_return_win_pct_avg       float64\n",
      "diff_elo                                float64\n",
      "diff_surface_elo                        float64\n",
      "diff_blended_elo                        float64\n",
      "diff_fatigue_score                      float64\n",
      "diff_h2h_wins                             int64\n",
      "diff_home                                 int64\n",
      "diff_injury_score                       float64\n",
      "diff_win_pct_last_10                    float64\n",
      "diff_win_pct_last_10_surface            float64\n",
      "diff_Set_Diff_Tournament                float64\n",
      "diff_Game_Diff_Tournament               float64\n",
      "diff_total_wins_tournament_history      float64\n",
      "diff_total_losses_tournament_history    float64\n",
      "dtype: object\n",
      "diff_age                                float64\n",
      "diff_rank                               float64\n",
      "diff_entry_LL                             int64\n",
      "diff_entry_Q                              int64\n",
      "diff_entry_WC                             int64\n",
      "diff_is_seeded                            int64\n",
      "diff_CO_1st_serve_in_pct_avg            float64\n",
      "diff_1st_serve_in_pct_avg               float64\n",
      "diff_CO_1st_serve_win_pct_avg           float64\n",
      "diff_1st_serve_win_pct_avg              float64\n",
      "diff_CO_2nd_serve_win_pct_avg           float64\n",
      "diff_2nd_serve_win_pct_avg              float64\n",
      "diff_CO_serve_games_win_pct_avg         float64\n",
      "diff_serve_games_win_pct_avg            float64\n",
      "diff_CO_ace_avg                         float64\n",
      "diff_ace_avg                            float64\n",
      "diff_CO_df_avg                          float64\n",
      "diff_df_avg                             float64\n",
      "diff_CO_1st_serve_return_win_pct_avg    float64\n",
      "diff_1st_serve_return_win_pct_avg       float64\n",
      "diff_elo                                float64\n",
      "diff_surface_elo                        float64\n",
      "diff_blended_elo                        float64\n",
      "diff_fatigue_score                      float64\n",
      "diff_h2h_wins                             int64\n",
      "diff_home                                 int64\n",
      "diff_injury_score                       float64\n",
      "diff_win_pct_last_10                    float64\n",
      "diff_win_pct_last_10_surface            float64\n",
      "diff_Set_Diff_Tournament                float64\n",
      "diff_Game_Diff_Tournament               float64\n",
      "diff_total_wins_tournament_history      float64\n",
      "diff_total_losses_tournament_history    float64\n",
      "dtype: object\n"
     ]
    }
   ],
   "execution_count": 26
  },
  {
   "metadata": {
    "ExecuteTime": {
     "end_time": "2024-12-19T20:05:46.574395Z",
     "start_time": "2024-12-19T20:05:45.252660Z"
    }
   },
   "cell_type": "code",
   "source": [
    "from sklearn.compose import ColumnTransformer\n",
    "from sklearn.pipeline import Pipeline\n",
    "from sklearn.linear_model import LogisticRegression\n",
    "from sklearn.preprocessing import StandardScaler, MinMaxScaler, RobustScaler, FunctionTransformer\n",
    "from sklearn.feature_selection import SelectFromModel\n",
    "from xgboost import XGBClassifier\n",
    "from sklearn.model_selection import RandomizedSearchCV, GridSearchCV\n",
    "from sklearn.decomposition import PCA\n",
    "from sklearn.feature_selection import RFECV, RFE\n",
    "import matplotlib.pyplot as plt"
   ],
   "id": "6a285118b6ed6d54",
   "outputs": [],
   "execution_count": 15
  },
  {
   "cell_type": "code",
   "id": "7709ba88",
   "metadata": {
    "ExecuteTime": {
     "end_time": "2024-12-19T20:05:47.151198Z",
     "start_time": "2024-12-19T20:05:47.148623Z"
    }
   },
   "source": [
    "import warnings\n",
    "\n",
    "# Reset all warnings to their default state\n",
    "warnings.resetwarnings()\n",
    "\n",
    "# Re-enable specific warnings like ConvergenceWarning\n",
    "from sklearn.exceptions import ConvergenceWarning\n",
    "warnings.simplefilter(\"default\", ConvergenceWarning)"
   ],
   "outputs": [],
   "execution_count": 16
  },
  {
   "cell_type": "code",
   "id": "835df764",
   "metadata": {
    "ExecuteTime": {
     "end_time": "2024-12-19T20:16:55.468530Z",
     "start_time": "2024-12-19T20:16:55.464998Z"
    }
   },
   "source": [
    "Standarize_var=[\n",
    "'diff_total_wins_tournament_history',\n",
    "'diff_total_losses_tournament_history',\n",
    "'diff_fatigue_score',\n",
    "'diff_injury_score',\n",
    "'diff_1st_serve_return_win_pct_avg',\n",
    "'diff_CO_1st_serve_return_win_pct_avg',\n",
    "'diff_df_avg',\n",
    "'diff_CO_df_avg',\n",
    "'diff_ace_avg',\n",
    "'diff_CO_ace_avg',\n",
    "'diff_serve_games_win_pct_avg',\n",
    "'diff_CO_serve_games_win_pct_avg',\n",
    "'diff_1st_serve_win_pct_avg',\n",
    "'diff_CO_1st_serve_win_pct_avg',\n",
    "'diff_1st_serve_in_pct_avg',\n",
    "'diff_CO_1st_serve_in_pct_avg',\n",
    " 'diff_Set_Diff_Tournament',\n",
    " 'diff_Game_Diff_Tournament',\n",
    " #'diff_right_handed',\n",
    " 'diff_age',\n",
    " 'diff_rank',\n",
    " #'diff_entry_LL',\n",
    " #'diff_entry_Q',\n",
    " #'diff_entry_WC',\n",
    " #'diff_is_seeded',\n",
    " 'diff_h2h_wins',\n",
    " #'diff_home',\n",
    " 'diff_win_pct_last_10',\n",
    " 'diff_win_pct_last_10_surface',\n",
    " 'diff_elo',\n",
    " 'diff_surface_elo',\n",
    " 'diff_blended_elo',\n",
    " 'diff_CO_2nd_serve_win_pct_avg',\n",
    " 'diff_2nd_serve_win_pct_avg',\n",
    "   ]\n"
   ],
   "outputs": [],
   "execution_count": 44
  },
  {
   "metadata": {},
   "cell_type": "markdown",
   "source": "### Próbowane było PCA ale słabe wyniki",
   "id": "470409694c6d4b59"
  },
  {
   "cell_type": "code",
   "id": "da25fe9d",
   "metadata": {
    "ExecuteTime": {
     "end_time": "2024-12-19T20:14:11.808314Z",
     "start_time": "2024-12-19T20:14:11.805802Z"
    }
   },
   "source": [
    "# pca = PCA()\n",
    "# X_train_pca = pca.fit_transform(X_train)\n",
    "# # skumulowany procent wariancji\n",
    "# cumulative_variance = np.cumsum(pca.explained_variance_ratio_)\n",
    "# # liczba komponentów, które wyjaśniają 95% wariancji\n",
    "# optimal_components = np.argmax(cumulative_variance >= 0.95) + 1\n",
    "# \n",
    "# print(f\"Optimal number of components to explain 95% variance: {optimal_components}\")\n",
    "# \n",
    "# \n",
    "# plt.figure(figsize=(8, 6))\n",
    "# plt.plot(range(1, len(cumulative_variance) + 1), cumulative_variance, marker='o', linestyle='--')\n",
    "# plt.axvline(x=optimal_components, color='r', linestyle='--', label=f'{optimal_components} components')\n",
    "# plt.xlabel('Number of Principal Components')\n",
    "# plt.ylabel('Cumulative Explained Variance')\n",
    "# plt.title('PCA Explained Variance')\n",
    "# plt.legend()\n",
    "# plt.show()"
   ],
   "outputs": [],
   "execution_count": 28
  },
  {
   "metadata": {},
   "cell_type": "markdown",
   "source": "### Próbowane było RFE ale słabe wyniki",
   "id": "318744f55dece8c3"
  },
  {
   "metadata": {
    "ExecuteTime": {
     "end_time": "2024-12-19T20:14:12.142966Z",
     "start_time": "2024-12-19T20:14:12.139913Z"
    }
   },
   "cell_type": "code",
   "source": [
    "# base_model = LogisticRegression(random_state=42, max_iter=1000)\n",
    "# base_model_2 = XGBClassifier(random_state=42)\n",
    "# # RFECV\n",
    "# rfecv = RFECV(estimator=base_model, step=1, cv=5, scoring='accuracy')  \n",
    "# rfecv.fit(X_train_reg, y_train_reg)\n",
    "# rfecv_2 = RFECV(estimator=base_model_2, step=1, cv=5, scoring='accuracy')\n",
    "# rfecv_2.fit(X_train, y_train)\n",
    "# \n",
    "# # optymalna dla regresji logistycznej\n",
    "# optimal_features = rfecv.n_features_\n",
    "# print(f\"Optimal number of features: {optimal_features}\")\n",
    "# # optymalna dla xgboost\n",
    "# optimal_features_2 = rfecv_2.n_features_\n",
    "# print(f\"Optimal number of features: {optimal_features_2}\")\n",
    "# \n",
    "# \n",
    "# plt.figure(figsize=(8, 6))\n",
    "# plt.plot(range(1, len(rfecv.cv_results_['mean_test_score']) + 1), rfecv.cv_results_['mean_test_score'], marker='o', linestyle='--')\n",
    "# plt.axvline(x=optimal_features, color='r', linestyle='--', label=f'{optimal_features} features')\n",
    "# plt.xlabel('Number of Features Selected')\n",
    "# plt.ylabel('Cross-Validation Score')\n",
    "# plt.title('RFECV - Optimal Number of Features for Logistic Regression')\n",
    "# plt.legend()\n",
    "# plt.show()\n",
    "# \n",
    "# plt.figure(figsize=(8, 6))\n",
    "# plt.plot(range(1, len(rfecv_2.cv_results_['mean_test_score']) + 1), rfecv_2.cv_results_['mean_test_score'], marker='o', linestyle='--')\n",
    "# plt.axvline(x=optimal_features_2, color='r', linestyle='--', label=f'{optimal_features_2} features')\n",
    "# plt.xlabel('Number of Features Selected')\n",
    "# plt.ylabel('Cross-Validation Score')\n",
    "# plt.title('RFECV - Optimal Number of Features for XGBoost')\n",
    "# plt.legend()\n",
    "# plt.show()"
   ],
   "id": "473b2aed5f6d7381",
   "outputs": [],
   "execution_count": 29
  },
  {
   "metadata": {},
   "cell_type": "markdown",
   "source": "### Stare próby puszczania modeli",
   "id": "9a5650945f79ba6b"
  },
  {
   "cell_type": "code",
   "id": "9b48b084",
   "metadata": {
    "ExecuteTime": {
     "end_time": "2024-12-19T20:14:12.576605Z",
     "start_time": "2024-12-19T20:14:12.573736Z"
    }
   },
   "source": [
    "# # RandomizedSearchCV RFE Logistic Regression\n",
    "# rfe_logreg_pipeline = Pipeline(steps=[\n",
    "#     ('preprocessor', preprocessor),\n",
    "#     ('feature_selection', RFE(estimator=LogisticRegression(max_iter=4000, random_state=42), n_features_to_select=optimal_features)),\n",
    "#     ('classifier', LogisticRegression(max_iter=4000, random_state=42))\n",
    "# ])\n",
    "# \n",
    "# param_distributions_logreg = { \n",
    "#     'classifier__C': np.logspace(-1, 1, 5),                              \n",
    "#     'classifier__penalty': ['l2'],\n",
    "#     'classifier__solver': ['lbfgs', 'liblinear', 'saga']                                         \n",
    "# }\n",
    "# \n",
    "# random_logreg_search = RandomizedSearchCV(\n",
    "#     rfe_logreg_pipeline, param_distributions_logreg, \n",
    "#     n_iter=200, cv=5, scoring='accuracy', random_state=42, n_jobs=-1\n",
    "# )\n",
    "# \n",
    "# \n",
    "# # RandomizedSearchCV RFE XGBoost\n",
    "# rfe_xgb_pipeline = Pipeline(steps=[\n",
    "#     ('preprocessor', preprocessor),\n",
    "#     ('feature_selection', RFE(estimator=XGBClassifier(use_label_encoder=False, eval_metric='logloss', random_state=42), n_features_to_select=optimal_features)),\n",
    "#     ('classifier', XGBClassifier(use_label_encoder=False, eval_metric='logloss', random_state=42))\n",
    "# ])\n",
    "# \n",
    "# param_distributions_xgb = { \n",
    "#     'classifier__learning_rate': np.linspace(0.01, 0.2, 10),              \n",
    "#     'classifier__max_depth': [3, 5, 7, 9],                               \n",
    "#     'classifier__n_estimators': [50, 100, 200, 300]                      \n",
    "# }\n",
    "# \n",
    "# random_xgb_search = RandomizedSearchCV(\n",
    "#     rfe_xgb_pipeline, param_distributions_xgb, \n",
    "#     n_iter=50, cv=5, scoring='accuracy', random_state=42\n",
    "# )\n"
   ],
   "outputs": [],
   "execution_count": 30
  },
  {
   "cell_type": "code",
   "id": "a260af2a",
   "metadata": {
    "ExecuteTime": {
     "end_time": "2024-12-19T20:14:12.773411Z",
     "start_time": "2024-12-19T20:14:12.770884Z"
    }
   },
   "source": [
    "# random_logreg_search.fit(X_train_reg, y_train_reg)\n",
    "# \n",
    "# print(f\"Best parameters for Logistic Regression with RFE: {random_logreg_search.best_params_}\")\n",
    "# print(f\"Best Logistic Regression score: {random_logreg_search.best_score_}\")\n",
    "# print(f\"Test score: {random_logreg_search.score(X_test_reg, y_test_reg)}\")"
   ],
   "outputs": [],
   "execution_count": 31
  },
  {
   "cell_type": "code",
   "id": "62de5363",
   "metadata": {
    "ExecuteTime": {
     "end_time": "2024-12-19T20:14:12.973152Z",
     "start_time": "2024-12-19T20:14:12.969645Z"
    }
   },
   "source": [
    "# random_xgb_search.fit(X_train, y_train)\n",
    "# \n",
    "# print(f\"Best parameters for XGBoost with RFE: {random_xgb_search.best_params_}\")\n",
    "# print(f\"Best XGBoost score: {random_xgb_search.best_score_}\")\n",
    "# print(f\"Test score: {random_xgb_search.score(X_test, y_test)}\")"
   ],
   "outputs": [],
   "execution_count": 32
  },
  {
   "metadata": {},
   "cell_type": "markdown",
   "source": "## Aktualnie najlepszy model log reg",
   "id": "cdf135670fda8f68"
  },
  {
   "metadata": {
    "ExecuteTime": {
     "end_time": "2024-12-19T20:17:00.134584Z",
     "start_time": "2024-12-19T20:17:00.129780Z"
    }
   },
   "cell_type": "code",
   "source": [
    "from sklearn.model_selection import  StratifiedKFold\n",
    "\n",
    "# Preprocessing pipeline\n",
    "preprocessor = ColumnTransformer(\n",
    "    transformers=[\n",
    "        ('standard_scaler', Pipeline([\n",
    "            ('scaler', StandardScaler()),\n",
    "        ]), Standarize_var),\n",
    "    ],\n",
    "    remainder='passthrough'  # Keep unprocessed features as-is\n",
    ")\n",
    "\n",
    "# Logistic Regression pipeline with RFE\n",
    "custom_pipeline = Pipeline(steps=[\n",
    "    ('preprocessor', preprocessor),\n",
    "    ('classifier', LogisticRegression(max_iter=4000, random_state=42, fit_intercept=False))\n",
    "])\n",
    "\n",
    "param_distributions_logreg = [\n",
    "    {\n",
    "        'classifier__C': np.logspace(-2, 2, 50),\n",
    "        'classifier__penalty': ['l2'],\n",
    "        'classifier__solver': ['lbfgs'],  # lbfgs supports only l2\n",
    "        'classifier__class_weight': [None, 'balanced']\n",
    "    },\n",
    "    {\n",
    "        'classifier__C': np.logspace(-2, 2, 50),\n",
    "        'classifier__penalty': ['l1'],\n",
    "        'classifier__solver': ['liblinear', 'saga'],  # liblinear and saga support l1\n",
    "        'classifier__class_weight': [None, 'balanced']\n",
    "    }\n",
    "]\n",
    "\n",
    "# RandomizedSearchCV with stratified folds\n",
    "random_logreg_search = GridSearchCV(\n",
    "    custom_pipeline, param_distributions_logreg, \n",
    "    cv=StratifiedKFold(n_splits=10, shuffle=True, random_state=42), \n",
    "    scoring='accuracy', n_jobs=-1\n",
    ")"
   ],
   "id": "f4619b155e71edaf",
   "outputs": [],
   "execution_count": 45
  },
  {
   "metadata": {
    "ExecuteTime": {
     "end_time": "2024-12-19T20:20:19.676789Z",
     "start_time": "2024-12-19T20:17:00.518360Z"
    }
   },
   "cell_type": "code",
   "source": [
    "random_logreg_search.fit(X_train, y_train)\n",
    "\n",
    "print(f\"Best parameters for Logistic Regression: {random_logreg_search.best_params_}\")\n",
    "print(f\"Best Logistic Regression score: {random_logreg_search.best_score_}\")\n",
    "print(f\"Test score: {random_logreg_search.score(X_test, y_test)}\")"
   ],
   "id": "9109852aa1db93cf",
   "outputs": [
    {
     "name": "stdout",
     "output_type": "stream",
     "text": [
      "Best parameters for Logistic Regression: {'classifier__C': np.float64(0.054286754393238594), 'classifier__class_weight': 'balanced', 'classifier__penalty': 'l1', 'classifier__solver': 'liblinear'}\n",
      "Best Logistic Regression score: 0.6526274770395711\n",
      "Test score: 0.6639111950873878\n"
     ]
    }
   ],
   "execution_count": 46
  }
 ],
 "metadata": {
  "kernelspec": {
   "display_name": ".venv",
   "language": "python",
   "name": ".venv"
  },
  "language_info": {
   "codemirror_mode": {
    "name": "ipython",
    "version": 3
   },
   "file_extension": ".py",
   "mimetype": "text/x-python",
   "name": "python",
   "nbconvert_exporter": "python",
   "pygments_lexer": "ipython3",
   "version": "3.10.0"
  }
 },
 "nbformat": 4,
 "nbformat_minor": 5
}
