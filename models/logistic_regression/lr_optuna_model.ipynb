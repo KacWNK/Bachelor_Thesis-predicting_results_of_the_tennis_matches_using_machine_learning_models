{
 "cells": [
  {
   "cell_type": "code",
   "execution_count": 2,
   "metadata": {},
   "outputs": [],
   "source": [
    "import pandas as pd\n",
    "import numpy as np\n",
    "import matplotlib.pyplot as plt\n",
    "import optuna\n",
    "from sklearn.model_selection import train_test_split, cross_val_score, StratifiedKFold\n",
    "from sklearn.metrics import log_loss\n",
    "from sklearn.preprocessing import StandardScaler, MinMaxScaler\n",
    "from sklearn.linear_model import LogisticRegression\n",
    "from scipy.stats import kstest\n",
    "import shap\n",
    "import numpy as np\n",
    "import warnings\n",
    "warnings.filterwarnings(\"ignore\", category=UserWarning)\n",
    "import plotly.express as px\n",
    "import plotly.io as pio"
   ]
  },
  {
   "cell_type": "code",
   "execution_count": 3,
   "metadata": {},
   "outputs": [],
   "source": [
    "matches = pd.read_csv(\"../../preparation_before_models/data/matches.csv\")\n",
    "matches['Date'] = pd.to_datetime(matches['Date'])"
   ]
  },
  {
   "cell_type": "code",
   "execution_count": null,
   "metadata": {},
   "outputs": [],
   "source": [
    "def combine_player_columns(df):\n",
    "    \n",
    "    combined_df = df.copy()\n",
    "    difference_columns = {}\n",
    "\n",
    "    \n",
    "    for col in df.columns:\n",
    "        if col.startswith('player1_'):\n",
    "            suffix = col[len('player1_'):]\n",
    "            player2_col = f'player2_{suffix}'\n",
    "            \n",
    "            if player2_col in df.columns:\n",
    "                \n",
    "                diff_col_name = f'diff_{suffix}'\n",
    "                combined_df[diff_col_name] = df[col] - df[player2_col]\n",
    "                \n",
    "                \n",
    "                difference_columns[col] = diff_col_name\n",
    "                difference_columns[player2_col] = diff_col_name\n",
    "\n",
    "    \n",
    "    combined_df = combined_df.drop(columns=difference_columns.keys())\n",
    "    \n",
    "    return combined_df\n",
    "\n",
    "\n",
    "matches = combine_player_columns(matches)\n",
    "\n",
    "\n",
    "print(\"Columns after combining:\")\n",
    "print(matches.columns)"
   ]
  },
  {
   "cell_type": "code",
   "execution_count": 5,
   "metadata": {},
   "outputs": [],
   "source": [
    "matches=matches.drop(columns=['non_CO_uncertainty', 'CO_uncertainty',\"outdoor\", \"tournament_level\", \"best_of\", \"Round_Num\", \"Surface_Clay\", \"Surface_Grass\", \"Surface_Hard\", \"temperature_2m\", \"relative_humidity_2m\", \"windspeed_10m\",  \"apparent_temperature\", \"diff_right_handed\",\"diff_bet_odds\",\"w_ace_avg\", \"l_ace_avg\", \"w_CO_ace_avg\", \"l_CO_ace_avg\",\"w_df_avg\", \"l_df_avg\", \"w_CO_df_avg\", \"l_CO_df_avg\", \"w_2ndIn_avg\",\"l_2ndIn_avg\",\"w_CO_2ndIn_avg\", \"l_CO_2ndIn_avg\"])"
   ]
  },
  {
   "cell_type": "code",
   "execution_count": 6,
   "metadata": {},
   "outputs": [],
   "source": [
    "test_data = matches[matches[\"Date\"].dt.year == 2023]\n",
    "train_data = matches[matches[\"Date\"].dt.year != 2023]"
   ]
  },
  {
   "cell_type": "code",
   "execution_count": 7,
   "metadata": {},
   "outputs": [],
   "source": [
    "X_train=train_data.drop(columns=['target', 'match_id', 'Date'])\n",
    "y_train=train_data['target']\n",
    "X_test=test_data.drop(columns=['target', 'match_id', 'Date'])\n",
    "y_test=test_data['target']"
   ]
  },
  {
   "cell_type": "code",
   "execution_count": 8,
   "metadata": {},
   "outputs": [],
   "source": [
    "def scale_features(X):\n",
    "    scaled_X = X.copy()\n",
    "    for col in X.columns:\n",
    "        if kstest(X[col], 'norm').pvalue > 0.05:\n",
    "            \n",
    "            scaler = StandardScaler()\n",
    "        else:\n",
    "            \n",
    "            scaler = MinMaxScaler()\n",
    "        scaled_X[col] = scaler.fit_transform(X[[col]])\n",
    "    return scaled_X"
   ]
  },
  {
   "cell_type": "code",
   "execution_count": 9,
   "metadata": {},
   "outputs": [],
   "source": [
    "X_train_scaled = scale_features(X_train)\n",
    "X_test_scaled = scale_features(X_test)  "
   ]
  },
  {
   "cell_type": "code",
   "execution_count": 10,
   "metadata": {},
   "outputs": [],
   "source": [
    "def feature_selection_with_shap(X, y, percent):\n",
    "    model=LogisticRegression(max_iter=1000, fit_intercept=False)\n",
    "    model.fit(X, y)\n",
    "    explainer = shap.Explainer(model, X)\n",
    "    shap_values = explainer(X)\n",
    "    feature_importance = np.abs(shap_values.values).mean(axis=0)\n",
    "    \n",
    "    importance_threshold = np.percentile(feature_importance, 100-percent)  \n",
    "    selected_features = np.where(feature_importance > importance_threshold)[0]\n",
    "\n",
    "    print(f\"Selected {len(selected_features)} features out of {X.shape[1]} with top {percent}%.\")\n",
    "    return X.iloc[:, selected_features], selected_features"
   ]
  },
  {
   "cell_type": "code",
   "execution_count": 11,
   "metadata": {},
   "outputs": [],
   "source": [
    "def objective_logistic(trial, X_train, y_train):\n",
    "    solver = trial.suggest_categorical(\"solver\", [\"liblinear\", \"saga\", \"lbfgs\"])\n",
    "    penalty = trial.suggest_categorical(\"penalty\", [\"l1\", \"l2\", None])\n",
    "    C = trial.suggest_float(\"C\", 1e-4, 1e4, log=True)\n",
    "    class_weight = trial.suggest_categorical(\"class_weight\", [None, \"balanced\"])\n",
    "    if (solver == \"lbfgs\" and penalty not in [\"l2\", None]) or \\\n",
    "       (solver == \"liblinear\" and penalty not in [\"l1\", \"l2\"]) or \\\n",
    "       (solver == \"saga\" and penalty not in [\"l1\", \"l2\", None]):\n",
    "        raise optuna.exceptions.TrialPruned()\n",
    "    model = LogisticRegression(\n",
    "        C=C,\n",
    "        penalty=penalty,\n",
    "        solver=solver,\n",
    "        max_iter=1000,\n",
    "        class_weight=class_weight,\n",
    "        random_state=42,\n",
    "        fit_intercept=False\n",
    "    )\n",
    "    cv = StratifiedKFold(n_splits=5, shuffle=True, random_state=42)\n",
    "    scores = cross_val_score(model, X_train, y_train, cv=cv, scoring=\"neg_log_loss\")\n",
    "    return -scores.mean()"
   ]
  },
  {
   "cell_type": "code",
   "execution_count": null,
   "metadata": {},
   "outputs": [],
   "source": [
    "percentages = [50, 65, 75, 85, 100]\n",
    "best_log_loss = float(\"inf\")\n",
    "best_features = None\n",
    "best_params = None\n",
    "best_num_features = 0\n",
    "\n",
    "for percent in percentages:\n",
    "    print(f\"Testing top {percent}% features...\")\n",
    "    X_train_selected, selected_features = feature_selection_with_shap(X_train_scaled, y_train, percent)\n",
    "    X_test_selected = X_test_scaled.iloc[:, selected_features]\n",
    "\n",
    "    def wrapped_objective(trial):\n",
    "        return objective_logistic(trial, X_train_selected, y_train)\n",
    "\n",
    "    study = optuna.create_study(direction=\"minimize\", sampler=optuna.samplers.TPESampler(seed=42))\n",
    "    study.optimize(wrapped_objective, n_trials=200, timeout=3600)\n",
    "\n",
    "    if study.best_value < best_log_loss:\n",
    "        best_log_loss = study.best_value\n",
    "        best_features = selected_features\n",
    "        best_params = study.best_params\n",
    "        best_num_features = len(selected_features)\n",
    "\n",
    "print(f\"Best log loss: {best_log_loss}\")\n",
    "print(f\"Best number of features: {best_num_features}\")\n",
    "print(f\"Best parameters: {best_params}\")\n"
   ]
  },
  {
   "cell_type": "code",
   "execution_count": null,
   "metadata": {},
   "outputs": [],
   "source": [
    "final_model = LogisticRegression(**best_params)\n",
    "X_train_final = X_train_scaled.iloc[:, best_features]\n",
    "X_test_final = X_test_scaled.iloc[:, best_features]\n",
    "final_model.fit(X_train_final, y_train)\n",
    "accuracy = final_model.score(X_test_final, y_test)"
   ]
  },
  {
   "cell_type": "code",
   "execution_count": null,
   "metadata": {},
   "outputs": [],
   "source": [
    "def wrapped_objective(trial):\n",
    "    return objective_logistic(trial, X_train_final, y_train)\n",
    "study_best_features = optuna.create_study(direction=\"minimize\", sampler=optuna.samplers.TPESampler(seed=42))\n",
    "study_best_features.optimize(wrapped_objective, n_trials=200, timeout=3600)"
   ]
  },
  {
   "cell_type": "code",
   "execution_count": null,
   "metadata": {},
   "outputs": [],
   "source": [
    "fig = optuna.visualization.plot_param_importances(study_best_features)\n",
    "\n",
    "\n",
    "fig.update_layout(\n",
    "    title=\"\",\n",
    "    template=\"plotly_white\",  \n",
    "    font=dict(size=14),  \n",
    "    plot_bgcolor='white',  \n",
    "    paper_bgcolor='white',  \n",
    "    xaxis=dict(showgrid=True, gridwidth=1, gridcolor='LightGrey'),  \n",
    "    yaxis=dict(showgrid=True, gridwidth=1, gridcolor='LightGrey')   \n",
    ")\n",
    "\n",
    "\n",
    "pio.write_image(fig, \"param_importance_plot.pdf\", format=\"pdf\", scale=3)  \n",
    "\n",
    "\n",
    "fig.show()"
   ]
  },
  {
   "cell_type": "code",
   "execution_count": null,
   "metadata": {},
   "outputs": [],
   "source": [
    "values = np.array([t.value for t in study_best_features.trials if t.state == optuna.trial.TrialState.COMPLETE])\n",
    "\n",
    "values.sort()\n",
    "probability_0_62 = np.sum(values <= 0.62) / len(values)\n",
    "\n",
    "quantile_95 = np.quantile(values, 0.95)\n",
    "\n",
    "fig = optuna.visualization.plot_edf(study_best_features)\n",
    "\n",
    "fig.update_layout(\n",
    "    title=\"\",\n",
    "    template=\"plotly_white\",  \n",
    "    font=dict(size=14),\n",
    ")\n",
    "\n",
    "fig.add_vline(\n",
    "    x=0.62,\n",
    "    line_dash=\"dash\",\n",
    "    line_color=\"red\",\n",
    ")\n",
    "fig.update_layout(\n",
    "    yaxis=dict(\n",
    "        tickvals=[0.2,0.4,0.6,0.8,0.96],  \n",
    "        \n",
    "    )\n",
    ")\n",
    "\n",
    "pio.write_image(fig, \"edf_plot_cros.pdf\", format=\"pdf\", scale=3)  \n",
    "\n",
    "fig.show()"
   ]
  },
  {
   "cell_type": "code",
   "execution_count": 34,
   "metadata": {},
   "outputs": [],
   "source": [
    "import joblib\n",
    "import json"
   ]
  },
  {
   "cell_type": "code",
   "execution_count": null,
   "metadata": {},
   "outputs": [],
   "source": [
    "joblib.dump(final_model, \"../logistic_regression/best_models/best_model_log_cros.pkl\")"
   ]
  },
  {
   "cell_type": "code",
   "execution_count": 36,
   "metadata": {},
   "outputs": [],
   "source": [
    "np.save(\"../logistic_regression/best_models/best_features_log_cros.npy\", best_features)"
   ]
  },
  {
   "cell_type": "code",
   "execution_count": 37,
   "metadata": {},
   "outputs": [],
   "source": [
    "with open(\"../logistic_regression/best_models/best_params_log_cros.json\", \"w\") as f:\n",
    "    json.dump(best_params, f)"
   ]
  },
  {
   "cell_type": "code",
   "execution_count": 38,
   "metadata": {},
   "outputs": [],
   "source": [
    "with open(\"../logistic_regression/best_models/best_model_log_cros_as_txt.txt\", \"w\") as f:\n",
    "    f.write(str(final_model))"
   ]
  }
 ],
 "metadata": {
  "kernelspec": {
   "display_name": "Python 3",
   "language": "python",
   "name": "python3"
  },
  "language_info": {
   "codemirror_mode": {
    "name": "ipython",
    "version": 3
   },
   "file_extension": ".py",
   "mimetype": "text/x-python",
   "name": "python",
   "nbconvert_exporter": "python",
   "pygments_lexer": "ipython3",
   "version": "3.10.0"
  }
 },
 "nbformat": 4,
 "nbformat_minor": 2
}
