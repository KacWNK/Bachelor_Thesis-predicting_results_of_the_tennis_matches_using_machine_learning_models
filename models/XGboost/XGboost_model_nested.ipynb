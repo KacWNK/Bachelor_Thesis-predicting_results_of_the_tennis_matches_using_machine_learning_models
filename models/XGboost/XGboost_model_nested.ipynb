{
 "cells": [
  {
   "cell_type": "code",
   "execution_count": 15,
   "metadata": {},
   "outputs": [],
   "source": [
    "import pandas as pd\n",
    "import optuna\n",
    "import xgboost as xgb\n",
    "from sklearn.model_selection import train_test_split, cross_val_score\n",
    "from sklearn.metrics import accuracy_score\n",
    "from sklearn.metrics import log_loss\n",
    "import numpy as np\n",
    "import shap\n",
    "import matplotlib.pyplot as plt\n",
    "import joblib\n",
    "import json\n",
    "from sklearn.model_selection import KFold\n",
    "import plotly.io as pio"
   ]
  },
  {
   "cell_type": "code",
   "execution_count": 3,
   "metadata": {},
   "outputs": [],
   "source": [
    "import warnings\n",
    "warnings.resetwarnings()\n",
    "from sklearn.exceptions import ConvergenceWarning\n",
    "warnings.simplefilter(\"default\", ConvergenceWarning)"
   ]
  },
  {
   "cell_type": "code",
   "execution_count": 4,
   "metadata": {},
   "outputs": [],
   "source": [
    "matches = pd.read_csv(\"../../preparation_before_models/data/matches.csv\")"
   ]
  },
  {
   "cell_type": "code",
   "execution_count": null,
   "metadata": {},
   "outputs": [],
   "source": [
    "matches['Date'] = pd.to_datetime(matches['Date'])\n",
    "print(matches['Date'].head())\n",
    "print(matches['Date'].dtype)"
   ]
  },
  {
   "cell_type": "code",
   "execution_count": 6,
   "metadata": {},
   "outputs": [],
   "source": [
    "matches=matches.drop(columns=['match_id','player1_bet_odds','player2_bet_odds',\"w_ace_avg\", \"l_ace_avg\", \"w_CO_ace_avg\", \"l_CO_ace_avg\",\"w_df_avg\", \"l_df_avg\", \"w_CO_df_avg\", \"l_CO_df_avg\", \"w_2ndIn_avg\",\"l_2ndIn_avg\",\"w_CO_2ndIn_avg\", \"l_CO_2ndIn_avg\"])"
   ]
  },
  {
   "cell_type": "code",
   "execution_count": 7,
   "metadata": {},
   "outputs": [],
   "source": [
    "test_data = matches[matches[\"Date\"].dt.year == 2023]\n",
    "train_data = matches[matches[\"Date\"].dt.year != 2023]"
   ]
  },
  {
   "cell_type": "code",
   "execution_count": 8,
   "metadata": {},
   "outputs": [],
   "source": [
    "X_train_data = train_data.drop(columns=['target','Date'])\n",
    "y_train_data = train_data['target']\n"
   ]
  },
  {
   "cell_type": "code",
   "execution_count": 9,
   "metadata": {},
   "outputs": [],
   "source": [
    "X_test_data  = test_data.drop(columns=['target','Date'])\n",
    "y_test_data= test_data['target']"
   ]
  },
  {
   "cell_type": "code",
   "execution_count": 10,
   "metadata": {},
   "outputs": [],
   "source": [
    "def rolling_origin_split(data):\n",
    "    data = data.sort_values(by=\"Date\")\n",
    "\n",
    "    \n",
    "    splits = []\n",
    "    for year in range(2018, 2022):\n",
    "        training_data = data[data[\"Date\"].dt.year <= year]\n",
    "        val_data = data[data[\"Date\"].dt.year == year + 1]\n",
    "\n",
    "        if not val_data.empty:\n",
    "            splits.append((training_data, val_data))\n",
    "\n",
    "    return splits\n"
   ]
  },
  {
   "cell_type": "markdown",
   "metadata": {},
   "source": [
    "### wstępna selekcja za pomocą shapa"
   ]
  },
  {
   "cell_type": "code",
   "execution_count": 10,
   "metadata": {},
   "outputs": [],
   "source": [
    "def feature_selection_with_shap(X, y, percent):\n",
    "    if \"Date\" in X.columns:\n",
    "        X = X.drop(columns=[\"Date\"])\n",
    "    \n",
    "    model = xgb.XGBClassifier( eval_metric=\"mlogloss\")\n",
    "    model.fit(X, y)\n",
    "\n",
    "    explainer = shap.Explainer(model, X)\n",
    "    shap_values = explainer(X)\n",
    "\n",
    "    \n",
    "    feature_importance = np.abs(shap_values.values).mean(axis=0)\n",
    "\n",
    "   \n",
    "    importance_threshold = np.percentile(feature_importance, 100-percent)  \n",
    "    selected_features = np.where(feature_importance > importance_threshold)[0]\n",
    "\n",
    "    print(f\"Selected {len(selected_features)} features out of {X.shape[1]} with top {percent}%.\")\n",
    "    return X.iloc[:, selected_features], selected_features\n",
    "    "
   ]
  },
  {
   "cell_type": "code",
   "execution_count": 11,
   "metadata": {},
   "outputs": [],
   "source": [
    "def objective_log(trial, data):\n",
    "    \n",
    "    params = {\n",
    "        \"objective\": \"binary:logistic\",\n",
    "        \"eval_metric\": \"logloss\",\n",
    "        \"max_depth\": trial.suggest_int(\"max_depth\", 3, 10),\n",
    "        \"learning_rate\": trial.suggest_float(\"learning_rate\", 0.01, 0.3, log=True),\n",
    "        \"n_estimators\": trial.suggest_int(\"n_estimators\", 100, 1000),\n",
    "        \"subsample\": trial.suggest_float(\"subsample\", 0.5, 1.0),\n",
    "        \"colsample_bytree\": trial.suggest_float(\"colsample_bytree\", 0.5, 1.0),\n",
    "        \"gamma\": trial.suggest_float(\"gamma\", 0, 5),\n",
    "        \"min_child_weight\": trial.suggest_int(\"min_child_weight\", 1, 10),\n",
    "        \"lambda\": trial.suggest_float(\"lambda\", 1e-3, 10, log=True),\n",
    "        \"alpha\": trial.suggest_float(\"alpha\", 1e-3, 10, log=True),\n",
    "    }\n",
    "\n",
    "    \n",
    "    splits = rolling_origin_split(data)\n",
    "\n",
    "    \n",
    "    model = xgb.XGBClassifier(**params, random_state=42)\n",
    "\n",
    "    log_loss_scores = []\n",
    "\n",
    "    for training_data, val_data in splits:\n",
    "        \n",
    "        training_data = training_data.sort_values(\"Date\")\n",
    "        val_data = val_data.sort_values(\"Date\")\n",
    "\n",
    "        \n",
    "        X_train = training_data.drop(columns=[\"target\", \"Date\"])\n",
    "        y_train = training_data[\"target\"]\n",
    "        X_val = val_data.drop(columns=[\"target\", \"Date\"])\n",
    "        y_val = val_data[\"target\"]\n",
    "\n",
    "        \n",
    "        model.fit(X_train, y_train, eval_set=[(X_val, y_val)], verbose=False)\n",
    "\n",
    "        \n",
    "        y_pred_proba = model.predict_proba(X_val)[:, 1]\n",
    "\n",
    "        \n",
    "        log_loss_scores.append(log_loss(y_val, y_pred_proba))\n",
    "\n",
    "    \n",
    "    return np.mean(log_loss_scores)\n"
   ]
  },
  {
   "cell_type": "markdown",
   "metadata": {},
   "source": [
    "### optymalizacja i szukanie najlepszego zbioru cech"
   ]
  },
  {
   "cell_type": "code",
   "execution_count": null,
   "metadata": {},
   "outputs": [],
   "source": [
    "percentages = [ 50, 65, 75, 85, 100]  \n",
    "best_logloss = float(\"inf\")\n",
    "best_features = None\n",
    "best_params = None\n",
    "best_num_features = 0\n",
    "\n",
    "for percent in percentages:\n",
    "    print(f\"Testing top {percent}% features...\")\n",
    "    X_train_selected, selected_features = feature_selection_with_shap(X_train_data, y_train_data, percent)\n",
    "    train_data_selected = train_data[[\"Date\", \"target\"] + list(X_train_selected.columns)]\n",
    "\n",
    "    \n",
    "    def wrapped_objective(trial):\n",
    "        return objective_log(trial, train_data_selected)\n",
    "\n",
    "    study_logloss = optuna.create_study(direction=\"minimize\",sampler=optuna.samplers.RandomSampler(seed=42))\n",
    "    study_logloss.optimize(wrapped_objective, n_trials=200, timeout=3600)\n",
    "\n",
    "    \n",
    "    if study_logloss.best_value < best_logloss:\n",
    "        best_logloss = study_logloss.best_value\n",
    "        best_features = selected_features\n",
    "        best_params = study_logloss.best_params\n",
    "        best_num_features = len(selected_features)\n",
    "\n",
    "print(f\"Best logloss: {best_logloss}\")\n",
    "print(f\"Best number of features: {best_num_features}\")\n",
    "print(f\"Best parameters: {best_params}\")"
   ]
  },
  {
   "cell_type": "code",
   "execution_count": null,
   "metadata": {},
   "outputs": [],
   "source": [
    "final_model = xgb.XGBClassifier(**best_params)\n",
    "X_train_selected = X_train_data.iloc[:, best_features]\n",
    "X_test_selected = X_test_data.iloc[:, best_features]\n",
    "final_model.fit(X_train_selected, y_train_data)"
   ]
  },
  {
   "cell_type": "code",
   "execution_count": null,
   "metadata": {},
   "outputs": [],
   "source": [
    "train_data_selected = train_data[[\"Date\", \"target\"] + list(X_train_selected.columns)]\n",
    "def wrapped_objective(trial):\n",
    "    return objective_log(trial, train_data_selected)\n",
    "study_best_features_log = optuna.create_study(direction=\"minimize\", sampler=optuna.samplers.RandomSampler(seed=42))\n",
    "study_best_features_log.optimize(wrapped_objective, n_trials=200, timeout=3600)\n",
    "best_params_log = study_best_features_log.best_params\n",
    "print(\"Best parameters:\", best_params_log)"
   ]
  },
  {
   "cell_type": "code",
   "execution_count": null,
   "metadata": {},
   "outputs": [],
   "source": [
    "X_train_selected = X_train_data.iloc[:, best_features]\n",
    "X_test_selected = X_test_data.iloc[:, best_features]\n",
    "final_model_log = xgb.XGBClassifier(**best_params_log)\n",
    "final_model_log.fit(X_train_selected, y_train_data)"
   ]
  },
  {
   "cell_type": "markdown",
   "metadata": {},
   "source": [
    "## wizualizacja optymalizacji, szukanie zaleznosci jaka siatka i jakie hiperparametry modyfikowac"
   ]
  },
  {
   "cell_type": "code",
   "execution_count": null,
   "metadata": {},
   "outputs": [],
   "source": [
    "fig=optuna.visualization.plot_param_importances(study_best_features_log)\n",
    "fig.update_layout(\n",
    "    title=\"\",\n",
    "    template=\"plotly_white\",  \n",
    "    font=dict(size=14),  \n",
    "    plot_bgcolor='white',  \n",
    "    paper_bgcolor='white',  \n",
    "    xaxis=dict(showgrid=True, gridwidth=1, gridcolor='LightGrey'),  \n",
    "    yaxis=dict(showgrid=True, gridwidth=1, gridcolor='LightGrey')   \n",
    ")\n",
    "\n",
    "\n",
    "pio.write_image(fig, \"param_importance_plot_xgb_nested.pdf\", format=\"pdf\", scale=3)  \n",
    "\n",
    "\n",
    "fig.show()"
   ]
  },
  {
   "cell_type": "code",
   "execution_count": null,
   "metadata": {},
   "outputs": [],
   "source": [
    "fig=optuna.visualization.plot_slice(study_best_features_log, params=[\"learning_rate\", \"gamma\", \"subsample\"])\n",
    "fig.update_layout(\n",
    "    title=\"\",\n",
    "    template=\"plotly_white\",\n",
    "    font=dict(size=14),\n",
    "    plot_bgcolor='white',\n",
    "    paper_bgcolor='white',\n",
    "    xaxis=dict(showgrid=True, gridwidth=1, gridcolor='LightGrey'),\n",
    "    yaxis=dict(showgrid=True, gridwidth=1, gridcolor='LightGrey')\n",
    ")\n",
    "\n",
    "pio.write_image(fig, \"xgb_plot_slice_nested.pdf\", format=\"pdf\", scale=3)\n",
    "fig.show()"
   ]
  },
  {
   "cell_type": "code",
   "execution_count": null,
   "metadata": {},
   "outputs": [],
   "source": [
    "fig=optuna.visualization.plot_rank(study_best_features_log, params=[\"learning_rate\", \"gamma\", \"subsample\"])\n",
    "fig.update_layout(\n",
    "    title=\"\",\n",
    "    template=\"plotly_white\",  \n",
    "    font=dict(size=14),  \n",
    "    plot_bgcolor='white',  \n",
    "    paper_bgcolor='white',  \n",
    "    xaxis=dict(showgrid=True, gridwidth=1, gridcolor='LightGrey'),  \n",
    "    yaxis=dict(showgrid=True, gridwidth=1, gridcolor='LightGrey')   \n",
    ")\n",
    "pio.write_image(fig, \"xgb_plot_rank_nested.pdf\", format=\"pdf\", scale=3)\n",
    "\n",
    "fig.show()"
   ]
  },
  {
   "cell_type": "code",
   "execution_count": null,
   "metadata": {},
   "outputs": [],
   "source": [
    "values = np.array([t.value for t in study_best_features_log.trials if t.state == optuna.trial.TrialState.COMPLETE])\n",
    "values.sort()\n",
    "quantile_80 = np.percentile(values, 80)\n",
    "fig=optuna.visualization.plot_edf(study_best_features_log)\n",
    "fig.update_layout(\n",
    "    title=\"\",\n",
    "    template=\"plotly_white\", \n",
    "    font=dict(size=14),\n",
    ")\n",
    "fig.add_vline(\n",
    "    x=quantile_80,\n",
    "    line_dash=\"dash\",\n",
    "    line_color=\"red\",\n",
    ")\n",
    "pio.write_image(fig, \"edf_plot_xgb_nested.pdf\", format=\"pdf\", scale=10)  # Skalowanie dla wysokiej jakości\n",
    "fig.show()"
   ]
  },
  {
   "cell_type": "code",
   "execution_count": null,
   "metadata": {},
   "outputs": [],
   "source": [
    "joblib.dump(final_model_log, \"../XGBoost/best_models/best_model_log_nested.pkl\")"
   ]
  },
  {
   "cell_type": "code",
   "execution_count": 26,
   "metadata": {},
   "outputs": [],
   "source": [
    "np.save(\"../XGBoost/best_models/best_features_log_nested.npy\", best_features)"
   ]
  },
  {
   "cell_type": "code",
   "execution_count": 27,
   "metadata": {},
   "outputs": [],
   "source": [
    "with open(\"../XGBoost/best_models/best_params_log_nested.json\", \"w\") as f:\n",
    "    json.dump(best_params_log, f)"
   ]
  },
  {
   "cell_type": "code",
   "execution_count": 28,
   "metadata": {},
   "outputs": [],
   "source": [
    "with open(\"../XGBoost/best_models/best_model_log_nested_as_txt.txt\", \"w\") as f:\n",
    "    f.write(str(final_model_log))"
   ]
  },
  {
   "cell_type": "code",
   "execution_count": 12,
   "metadata": {},
   "outputs": [],
   "source": [
    "with open(\"../XGBoost/best_models/best_params_log.json\", \"r\") as f:\n",
    "    best_params_log = json.load(f)\n",
    "best_features_log = np.load(\"../XGBoost/best_models/best_features_log.npy\")\n",
    "best_model_log = joblib.load(\"../XGBoost/best_models/best_model_log.pkl\")"
   ]
  },
  {
   "cell_type": "markdown",
   "metadata": {},
   "source": [
    "## na podstawie wykresów zmodyfikujmy siatkę hiperparametrów"
   ]
  },
  {
   "cell_type": "code",
   "execution_count": 15,
   "metadata": {},
   "outputs": [],
   "source": [
    "X_train_selected = X_train_data.iloc[:, best_features_log]\n",
    "X_test_selected = X_test_data.iloc[:, best_features_log]"
   ]
  },
  {
   "cell_type": "code",
   "execution_count": 29,
   "metadata": {},
   "outputs": [],
   "source": [
    "def objective_log_improve(trial, data):\n",
    "    params = {\n",
    "        \"objective\": \"binary:logistic\",\n",
    "        \"eval_metric\": \"logloss\",\n",
    "        \"max_depth\": trial.suggest_int(\"max_depth\", 3, 10),\n",
    "        \"learning_rate\": trial.suggest_float(\"learning_rate\", 0.01, 0.04, log=True),\n",
    "        \"n_estimators\": trial.suggest_int(\"n_estimators\", 100, 1000),\n",
    "        \"subsample\": trial.suggest_float(\"subsample\", 0.8, 1.0),\n",
    "        \"colsample_bytree\": trial.suggest_float(\"colsample_bytree\", 0.5, 1.0),\n",
    "        \"gamma\": trial.suggest_float(\"gamma\", 3.5, 5),\n",
    "        \"min_child_weight\": trial.suggest_int(\"min_child_weight\", 1, 10),\n",
    "        \"lambda\": trial.suggest_float(\"lambda\", 1e-3, 10, log=True),\n",
    "        \"alpha\": trial.suggest_float(\"alpha\", 1e-3, 10, log=True),\n",
    "    }\n",
    "\n",
    "    splits = rolling_origin_split(data)\n",
    "\n",
    "    model = xgb.XGBClassifier(**params)\n",
    "\n",
    "    log_loss_scores = []\n",
    "\n",
    "    for training_data, val_data in splits:\n",
    "        training_data = training_data.sort_values(\"Date\")\n",
    "        val_data = val_data.sort_values(\"Date\")\n",
    "\n",
    "        \n",
    "        X_train = training_data.drop(columns=[\"target\", \"Date\"])\n",
    "        y_train = training_data[\"target\"]\n",
    "        X_val = val_data.drop(columns=[\"target\", \"Date\"])\n",
    "        y_val = val_data[\"target\"]\n",
    "\n",
    "        \n",
    "        model.fit(X_train, y_train, eval_set=[(X_val, y_val)], verbose=False)\n",
    "        y_pred_proba = model.predict_proba(X_val)[:, 1]\n",
    "        log_loss_scores.append(log_loss(y_val, y_pred_proba))\n",
    "\n",
    "    \n",
    "    return np.mean(log_loss_scores)\n"
   ]
  },
  {
   "cell_type": "code",
   "execution_count": null,
   "metadata": {},
   "outputs": [],
   "source": [
    "train_data_selected = train_data[[\"Date\", \"target\"] + list(X_train_selected.columns)]\n",
    "def wrapped_objective(trial):\n",
    "    return objective_log_improve(trial, train_data_selected)\n",
    "study_log_improve = optuna.create_study(direction=\"minimize\", sampler=optuna.samplers.RandomSampler(seed=42))\n",
    "study_log_improve.optimize(wrapped_objective, n_trials=200, timeout=3600)\n",
    "best_params_log_improve = study_log_improve.best_params\n",
    "print(\"Best parameters:\", best_params_log_improve)"
   ]
  }
 ],
 "metadata": {
  "kernelspec": {
   "display_name": "Python 3",
   "language": "python",
   "name": "python3"
  },
  "language_info": {
   "codemirror_mode": {
    "name": "ipython",
    "version": 3
   },
   "file_extension": ".py",
   "mimetype": "text/x-python",
   "name": "python",
   "nbconvert_exporter": "python",
   "pygments_lexer": "ipython3",
   "version": "3.10.0"
  }
 },
 "nbformat": 4,
 "nbformat_minor": 2
}
