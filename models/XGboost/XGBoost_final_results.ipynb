{
 "cells": [
  {
   "cell_type": "code",
   "execution_count": 1,
   "metadata": {},
   "outputs": [],
   "source": [
    "import pandas as pd\n",
    "import numpy as np\n",
    "import joblib\n",
    "import json\n",
    "import xgboost as xgb\n",
    "from sklearn.model_selection import train_test_split, cross_val_score\n",
    "from sklearn.metrics import accuracy_score\n",
    "from sklearn.metrics import log_loss, brier_score_loss"
   ]
  },
  {
   "cell_type": "code",
   "execution_count": 2,
   "metadata": {},
   "outputs": [],
   "source": [
    "matches = pd.read_csv(\"../../preparation_before_models/data/matches.csv\")"
   ]
  },
  {
   "cell_type": "code",
   "execution_count": 3,
   "metadata": {},
   "outputs": [],
   "source": [
    "matches['Date'] = pd.to_datetime(matches['Date'])"
   ]
  },
  {
   "cell_type": "code",
   "execution_count": 4,
   "metadata": {},
   "outputs": [],
   "source": [
    "matches=matches.drop(columns=['player1_bet_odds','player2_bet_odds',\"w_ace_avg\", \"l_ace_avg\", \"w_CO_ace_avg\", \"l_CO_ace_avg\",\"w_df_avg\", \"l_df_avg\", \"w_CO_df_avg\", \"l_CO_df_avg\", \"w_2ndIn_avg\",\"l_2ndIn_avg\",\"w_CO_2ndIn_avg\", \"l_CO_2ndIn_avg\"])"
   ]
  },
  {
   "cell_type": "code",
   "execution_count": 5,
   "metadata": {},
   "outputs": [],
   "source": [
    "test_data = matches[matches[\"Date\"].dt.year == 2023]"
   ]
  },
  {
   "cell_type": "code",
   "execution_count": 6,
   "metadata": {},
   "outputs": [],
   "source": [
    "with open(\"../XGBoost/best_models/best_params_log_nested.json\", \"r\") as f:\n",
    "    best_params_log_nested = json.load(f)\n",
    "best_features_log_nested = np.load(\"../XGBoost/best_models/best_features_log_nested.npy\")\n",
    "best_model_log_nest = joblib.load(\"../XGBoost/best_models/best_model_log_nested.pkl\")"
   ]
  },
  {
   "cell_type": "code",
   "execution_count": 7,
   "metadata": {},
   "outputs": [],
   "source": [
    "X = test_data.drop(columns=['target','Date', 'match_id'])\n",
    "y = test_data['target']"
   ]
  },
  {
   "cell_type": "code",
   "execution_count": 8,
   "metadata": {},
   "outputs": [],
   "source": [
    "X_selected = X.iloc[:, best_features_log_nested]"
   ]
  },
  {
   "cell_type": "code",
   "execution_count": 24,
   "metadata": {},
   "outputs": [],
   "source": [
    "y_pred_nest = best_model_log_nest.predict_proba(X_selected)[:,1]"
   ]
  },
  {
   "cell_type": "code",
   "execution_count": 25,
   "metadata": {},
   "outputs": [
    {
     "name": "stdout",
     "output_type": "stream",
     "text": [
      "Accuracy:  0.6484375\n",
      "Log loss:  0.6213728333593187\n",
      "Brier score:  0.2165740698104031\n"
     ]
    }
   ],
   "source": [
    "print(\"Accuracy: \", accuracy_score(y, best_model_log_nest.predict(X_selected)))\n",
    "print(\"Log loss: \", log_loss(y, y_pred_nest))\n",
    "print(\"Brier score: \", brier_score_loss(y, y_pred_nest))"
   ]
  },
  {
   "cell_type": "code",
   "execution_count": 26,
   "metadata": {},
   "outputs": [],
   "source": [
    "test_data_rank_50 = test_data[(test_data[\"player1_rank\"] <= 50) & (test_data[\"player2_rank\"] <= 50)]\n",
    "X_rank_50 = test_data_rank_50.drop(columns=['target','Date', 'match_id'])\n",
    "y_rank_50 = test_data_rank_50['target']\n",
    "X_selected_rank_50 = X_rank_50.iloc[:, best_features_log_nested]\n",
    "y_pred_rank_50 = best_model_log_nest.predict_proba(X_selected_rank_50)[:,1]"
   ]
  },
  {
   "cell_type": "code",
   "execution_count": 27,
   "metadata": {},
   "outputs": [
    {
     "name": "stdout",
     "output_type": "stream",
     "text": [
      "Accuracy rank 50:  0.6939799331103679\n",
      "Log loss rank 50:  0.5881639165342\n",
      "Brier score rank 50:  0.2012278250883115\n"
     ]
    }
   ],
   "source": [
    "print(\"Accuracy rank 50: \", accuracy_score(y_rank_50, best_model_log_nest.predict(X_selected_rank_50)))\n",
    "print(\"Log loss rank 50: \", log_loss(y_rank_50, y_pred_rank_50))\n",
    "print(\"Brier score rank 50: \", brier_score_loss(y_rank_50, y_pred_rank_50))"
   ]
  },
  {
   "cell_type": "code",
   "execution_count": 29,
   "metadata": {},
   "outputs": [],
   "source": [
    "test_certain_data = test_data.nsmallest(int(len(test_data) * 0.5), 'CO_uncertainty')\n",
    "test_certain_data = test_certain_data[(test_certain_data[\"player1_rank\"] <= 50) & (test_certain_data[\"player2_rank\"] <= 50)]\n",
    "X_certain = test_certain_data.drop(columns=['target','Date', 'match_id'])\n",
    "y_certain = test_certain_data['target']\n",
    "X_selected_certain = X_certain.iloc[:, best_features_log_nested]\n",
    "y_pred_certain = best_model_log_nest.predict_proba(X_selected_certain)[:,1]\n"
   ]
  },
  {
   "cell_type": "code",
   "execution_count": 30,
   "metadata": {},
   "outputs": [
    {
     "name": "stdout",
     "output_type": "stream",
     "text": [
      "Accuracy certain:  0.7021660649819494\n",
      "Log loss certain:  0.586703443843803\n",
      "Brier score certain:  0.2004924447565322\n"
     ]
    }
   ],
   "source": [
    "print(\"Accuracy certain: \", accuracy_score(y_certain, best_model_log_nest.predict(X_selected_certain)))\n",
    "print(\"Log loss certain: \", log_loss(y_certain, y_pred_certain))\n",
    "print(\"Brier score certain: \", brier_score_loss(y_certain, y_pred_certain))"
   ]
  },
  {
   "cell_type": "markdown",
   "metadata": {},
   "source": [
    "##################################################################"
   ]
  },
  {
   "cell_type": "code",
   "execution_count": 9,
   "metadata": {},
   "outputs": [],
   "source": [
    "with open(\"../XGBoost/best_models/best_params_log_cros.json\", \"r\") as f:\n",
    "    best_params_log_cros = json.load(f)\n",
    "best_features_log_cros = np.load(\"../XGBoost/best_models/best_features_log_cros.npy\")\n",
    "best_model_log_cros = joblib.load(\"../XGBoost/best_models/best_model_log_cros.pkl\")"
   ]
  },
  {
   "cell_type": "code",
   "execution_count": 32,
   "metadata": {},
   "outputs": [
    {
     "name": "stdout",
     "output_type": "stream",
     "text": [
      "Accuracy cros:  0.6372767857142857\n",
      "Log loss cros:  0.6252536073981937\n",
      "Brier score cros:  0.21834964874050367\n"
     ]
    }
   ],
   "source": [
    "X_selected_cros = X.iloc[:, best_features_log_cros]\n",
    "y_pred_cros_prob = best_model_log_cros.predict_proba(X_selected_cros)[:,1]\n",
    "y_pred_cros = best_model_log_cros.predict(X_selected_cros)\n",
    "print(\"Accuracy cros: \", accuracy_score(y, y_pred_cros))\n",
    "print(\"Log loss cros: \", log_loss(y, y_pred_cros_prob))\n",
    "print(\"Brier score cros: \", brier_score_loss(y, y_pred_cros_prob))"
   ]
  },
  {
   "cell_type": "code",
   "execution_count": 33,
   "metadata": {},
   "outputs": [
    {
     "name": "stdout",
     "output_type": "stream",
     "text": [
      "Accuracy rank 50 cros:  0.6872909698996655\n",
      "Log loss rank 50 cros:  0.590921719254777\n",
      "Brier score rank 50 cros:  0.2028729814714609\n"
     ]
    }
   ],
   "source": [
    "X_selected_rank_50_cros = X_rank_50.iloc[:, best_features_log_cros]\n",
    "y_pred_rank_50_cros_prob = best_model_log_cros.predict_proba(X_selected_rank_50_cros)[:,1]\n",
    "y_pred_rank_50_cros = best_model_log_cros.predict(X_selected_rank_50_cros)\n",
    "print(\"Accuracy rank 50 cros: \", accuracy_score(y_rank_50, y_pred_rank_50_cros))\n",
    "print(\"Log loss rank 50 cros: \", log_loss(y_rank_50, y_pred_rank_50_cros_prob))\n",
    "print(\"Brier score rank 50 cros: \", brier_score_loss(y_rank_50, y_pred_rank_50_cros_prob))"
   ]
  },
  {
   "cell_type": "code",
   "execution_count": 34,
   "metadata": {},
   "outputs": [
    {
     "name": "stdout",
     "output_type": "stream",
     "text": [
      "Accuracy certain cros:  0.6931407942238267\n",
      "Log loss certain cros:  0.5879786285398592\n",
      "Brier score certain cros:  0.2015135854651636\n"
     ]
    }
   ],
   "source": [
    "X_selected_certain_cros = X_certain.iloc[:, best_features_log_cros]\n",
    "y_pred_certain_cros_prob = best_model_log_cros.predict_proba(X_selected_certain_cros)[:,1]\n",
    "y_pred_certain_cros = best_model_log_cros.predict(X_selected_certain_cros)\n",
    "print(\"Accuracy certain cros: \", accuracy_score(y_certain, y_pred_certain_cros))\n",
    "print(\"Log loss certain cros: \", log_loss(y_certain, y_pred_certain_cros_prob))\n",
    "print(\"Brier score certain cros: \", brier_score_loss(y_certain, y_pred_certain_cros_prob))"
   ]
  },
  {
   "cell_type": "code",
   "execution_count": 10,
   "metadata": {},
   "outputs": [],
   "source": [
    "X_selected_cros = X.iloc[:, best_features_log_cros]"
   ]
  },
  {
   "cell_type": "code",
   "execution_count": 12,
   "metadata": {},
   "outputs": [
    {
     "name": "stdout",
     "output_type": "stream",
     "text": [
      "Index(['Surface_Clay', 'Surface_Grass', 'outdoor', 'player1_h2h_surface_wins',\n",
      "       'player1_injury_score', 'player1_is_seeded', 'player1_right_handed',\n",
      "       'player2_h2h_surface_wins', 'player2_h2h_wins', 'player2_injury_score',\n",
      "       'player2_right_handed'],\n",
      "      dtype='object')\n"
     ]
    }
   ],
   "source": [
    "print(X_selected_cros.columns.difference(X_selected.columns))\n"
   ]
  }
 ],
 "metadata": {
  "kernelspec": {
   "display_name": "Python 3",
   "language": "python",
   "name": "python3"
  },
  "language_info": {
   "codemirror_mode": {
    "name": "ipython",
    "version": 3
   },
   "file_extension": ".py",
   "mimetype": "text/x-python",
   "name": "python",
   "nbconvert_exporter": "python",
   "pygments_lexer": "ipython3",
   "version": "3.10.0"
  }
 },
 "nbformat": 4,
 "nbformat_minor": 2
}
